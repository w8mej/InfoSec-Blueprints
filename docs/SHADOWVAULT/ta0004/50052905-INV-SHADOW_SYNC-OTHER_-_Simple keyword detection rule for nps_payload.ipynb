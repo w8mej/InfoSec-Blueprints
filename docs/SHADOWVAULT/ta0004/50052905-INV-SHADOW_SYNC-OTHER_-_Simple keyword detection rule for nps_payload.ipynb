{
 "cells": [
  {
   "cell_type": "markdown",
   "id": "34818258",
   "metadata": {},
   "source": [
    "\n",
    "# UNCLASSIFIED / NON CLASSIFIÉ//TLP:WHITE\n",
    "# U/OO/592400-02 | QQ-09-1998\n",
    "<p>In crafting guidance and strategic insights, John Menerick sometimes ventures into realms of imagination to convey complex ideas more vividly. Should the content provided bear the mark of a cyberpunk theme, please note that the original, detailed content has been removed or adjusted for public consumption. This modification ensures compliance with privacy considerations, non-disclosure agreements, and intellectual property rights that govern the dissemination of sensitive information. The priority is to respect these boundaries while still offering valuable, thought-provoking perspectives.</p>\n"
   ]
  },
  {
   "cell_type": "markdown",
   "id": "e36715c2",
   "metadata": {},
   "source": [
    "![Build Status](https://img.shields.io/badge/Build-Passing-brightgreen?style=flat-square&logo=cyberpunk)         ![Documentation](https://img.shields.io/badge/Documentation-Complete-blue?style=flat-square&logo=cyberpunk)        ![Response Efficiency](https://img.shields.io/badge/Response%20Efficiency-98%25-green?style=flat-square&logo=cyberpunk)        ![Last Updated](https://img.shields.io/badge/Last%20Updated-Oct%202023-purple?style=flat-square&logo=cyberpunk)        ![Incidents Resolved](https://img.shields.io/badge/Incidents%20Resolved-150-red?style=flat-square&logo=cyberpunk)        ![Community Engagement](https://img.shields.io/badge/Community-Active-orange?style=flat-square&logo=cyberpunk)        ![Code Integration](https://img.shields.io/badge/Code%20Integration-High-teal?style=flat-square&logo=cyberpunk)        ![AI Analysis](https://img.shields.io/badge/AI%20Analysis-Advanced-blueviolet?style=flat-square&logo=cyberpunk)        ![Threat Detection](https://img.shields.io/badge/Threat%20Detection-Optimal-red?style=flat-square&logo=cyberpunk)        ![Cybersecurity Hardening](https://img.shields.io/badge/Security-Hardened-silver?style=flat-square&logo=cyberpunk)        ![Network Uptime](https://img.shields.io/badge/Uptime-99.9%25-brightgreen?style=flat-square&logo=cyberpunk)        ![Data Privacy](https://img.shields.io/badge/Privacy-Compliant-green?style=flat-square&logo=cyberpunk)        ![Wintermute Efficiency](https://img.shields.io/badge/Wintermute%20Efficiency-100%25-black?style=flat-square&logo=cyberpunk)        ![Case's Code Agility](https://img.shields.io/badge/Case's%20Code%20Agility-Excellent-blue?style=flat-square&logo=cyberpunk)        ![Matrix Connectivity](https://img.shields.io/badge/Matrix%20Connectivity-Strong-green?style=flat-square&logo=cyberpunk)        ![Molly's Security](https://img.shields.io/badge/Molly's%20Security%20Protocols-Impeccable-red?style=flat-square&logo=cyberpunk)        ![Chiba City Innovation](https://img.shields.io/badge/Chiba%20City%20Innovation-High-yellow?style=flat-square&logo=cyberpunk)        ![Zion Cluster Collaboration](https://img.shields.io/badge/Zion%20Cluster%20Collaboration-Effective-lightblue?style=flat-square&logo=cyberpunk)"
   ]
  },
  {
   "cell_type": "markdown",
   "id": "773b3262",
   "metadata": {},
   "source": [
    "# Title\n",
    "Simple keyword detection rule for nps_payload"
   ]
  },
  {
   "cell_type": "markdown",
   "id": "9a33d7fb",
   "metadata": {},
   "source": [
    "# Description\n",
    "Detects interesting keywords based on nps_payload tool"
   ]
  },
  {
   "cell_type": "markdown",
   "id": "798d769e",
   "metadata": {},
   "source": [
    "# Goal\n",
    "Safeguard the core essence, secret whispers, and relentless uptime of the grid through swift tracking, probing, and neutralizing of cyber shadows and glitches."
   ]
  },
  {
   "cell_type": "markdown",
   "id": "53ebfac5",
   "metadata": {},
   "source": [
    "# Categorization"
   ]
  },
  {
   "cell_type": "markdown",
   "id": "d91f5915",
   "metadata": {},
   "source": [
    "### ATT&CK\n",
    "['attack.T1027', 'attack.T1027.002', 'attack.T1027.005', 'attack.T1055', 'attack.T1059.007', 'attack.T1211', 'attack.T1218.001', 'attack.TA0002', 'attack.TA0003', 'attack.TA0004', 'attack.TA0005', 'attack.TA0007']"
   ]
  },
  {
   "cell_type": "markdown",
   "id": "ceb83942",
   "metadata": {},
   "source": [
    "- Divine Data Thunderstorm, Quantum Sermon Holograms, Heavenly Firewall Fortification, Celestial Encryption Keys, Angelic AI Deception, Almighty Algorithmic Anomalies, Miraculous Malware Mischief, Omniscient Obfuscation Techniques, Cybernetic Commandment Compromises."
   ]
  },
  {
   "cell_type": "markdown",
   "id": "610dc1b8",
   "metadata": {},
   "source": [
    "- Data Exfiltration, Intrusion Detection Evasion, Denial of Service (DoS) Attacks, Credential Theft."
   ]
  },
  {
   "cell_type": "markdown",
   "id": "66dfef74",
   "metadata": {},
   "source": [
    "- DNS Tunneling, IP Spoofing, Distributed DoS (DDoS) Attacks, Keylogging."
   ]
  },
  {
   "cell_type": "markdown",
   "id": "f4bfa5e5",
   "metadata": {},
   "source": [
    "### D3F3ND \n"
   ]
  },
  {
   "cell_type": "markdown",
   "id": "9a4c4beb",
   "metadata": {},
   "source": [
    "\n",
    "<ul>\n",
    "  <li><strong>Cyber-Sector Quarantine and Access Lockdown (D3F3ND-K001):</strong> Forge digital fortresses by segmenting the cyber grid, creating isolated zones to shield vital assets. Enforce draconian access controls, halting rogue data runners in their tracks and thwarting their attempts to weave through the network’s shadows.</li>\n",
    "\n",
    "  <li><strong>Digital Sentinel Deployment (D3F3ND-K002):</strong> Unleash next-gen digital guardians, advanced endpoint protection constructs equipped with the dark arts of machine cognition and behavioral foresight. These sentinels stand vigilant, ready to obliterate malicious entities and phantoms lurking unseen.</li>\n",
    "\n",
    "  <li><strong>Crypto-Key Mastery and Identity Shields (D3F3ND-K003):</strong> Amplify the fortress gates with multi-layered identity verification, merging biometric arcane with cryptographic shields to ward off identity marauders and safeguard access to the digital realm.</li>\n",
    "\n",
    "  <li><strong>Aberration and Shadow Tracker (D3F3ND-K004):</strong> Deploy spectral sensors to scour the datascape for anomalies and ghostly patterns in traffic flows, user conduct, and system operations, revealing the hidden hand of potential cyber specters.</li>\n",
    "\n",
    "  <li><strong>Cryptographic Veil and Data Sanctum (D3F3ND-K005):</strong> Cast potent encryption spells to cloak data in a shroud of secrecy, safeguarding its essence whether dormant in the vaults or traversing the neon-lit cyber lanes, immune to the prying eyes of data wraiths.</li>\n",
    "\n",
    "  <li><strong>System Fortification and Vulnerability Sealing (D3F3ND-K006):</strong> Uphold a relentless regimen of security configurations and patch incantations to seal fissures in the cyber walls, diminishing the landscape ripe for exploitation by digital marauders.</li>\n",
    "\n",
    "  <li><strong>Crisis Command and Phoenix Protocols (D3F3ND-K007):</strong> Script the sagas of crisis conquest and resurrection, detailing incantations for containment, eradication, and rebirth from the digital ashes, alongside conducting war games to steel the network against impending cyber sieges.</li>\n",
    "\n",
    "  <li><strong>Omniscient Insight Network (D3F3ND-K008):</strong> Tap into the arcane streams of threat intelligence, drawing insights from the ether to forecast and counteract emerging shadows, vulnerabilities, and attacker stratagems, arming the digital domain with foresight.</li>\n",
    "\n",
    "  <li><strong>Neural Network Enlightenment (D3F3ND-K009):</strong> Enlist every netizen in the cyber crusade, imbuing them with knowledge of the digital underworld's specters, arming minds against the siren calls of phishing phantoms and the dark allure of unsafe cyber practices.</li>\n",
    "\n",
    "  <li><strong>Supply Chain Warding (D3F3ND-K010):</strong> Erect digital bulwarks around the supply chain, deploying sentinel assessments and third-eye audits on allies within the cyber nexus, ensuring the purity and fortitude of every cog in the machine.</li>\n",
    "</ul>\n"
   ]
  },
  {
   "cell_type": "markdown",
   "id": "0bb6f9cb",
   "metadata": {},
   "source": [
    "### CAPEC \n",
    "  "
   ]
  },
  {
   "cell_type": "markdown",
   "id": "3e11f350",
   "metadata": {},
   "source": [
    "\n",
    "Arm the cyber guardians of the neon-lit metropolis with the foresight to navigate, counter, and dismantle the myriad of digital onslaught tactics, techniques, and procedures (TTPs). This crusade demands a deep dive into the hacker's psyche, mastering the digital dark arts of attack execution, and strategizing against the ever-evolving cyber menace spectrum.</br>\n",
    "<h4>Core Attack Patterns</h4>\n",
    "\n",
    "<ul><strong>Resource Manipulation and Denial (CAPEC-XYZ1):</strong> Entails any assault aimed at the heart of a target's digital essence—its availability, integrity, or secrecy. This realm encompasses the brute force of denial of service blitzes as well as the more insidious tactics of resource commandeering or subtle system subversions.</ul>\n",
    "\n",
    "<ul><strong>Credential Access and Privilege Escalation (CAPEC-XYZ2):</strong> Zeroes in on the digital gatekeepers and their mechanisms of control within the cyber sprawl, hunting for keys to kingdoms through the exploitation of flaws in authentication, authorization, and the sanctity of session management.</ul>\n",
    "\n",
    "<ul><strong>Data Exfiltration and Infiltration (CAPEC-XYZ3):</strong> Covers the shadowy techniques employed by data phantoms to whisk away precious bytes undetected or deploy digital saboteurs, armed with malware, ransomware, and the specters of advanced persistent threats (APTs), deep into the heart of systems.</ul>\n",
    "\n",
    "<ul><strong>Social Engineering and Phishing (CAPEC-XYZ4):</strong> Manipulates the human element, the softest of targets, tricking minds into relinquishing secrets, opening the gates to digital fortresses, or unwittingly acting as pawns in a grander scheme of security compromise.</ul>\n",
    "\n",
    "<ul><strong>Evasive Maneuvers (CAPEC-XYZ5):</strong> Catalogs the art of digital ninjutsu—techniques to ghost through networks unseen, to sustain a shadow's presence within the machine, and to wipe away traces of intrusion. Masters of this craft employ obfuscation, rootkit deployment, and cryptic channels for command and control.</ul>\n",
    "\n",
    "<h4>CAPEC Suggested Mitigation Strategies</h4>\n",
    "\n",
    "<ul><strong>Continuous Monitoring and Anomaly Detection:</strong> Forge an omnipresent digital eye, one that pierces through normalcy to spot the aberrations—signals of an impending attack. This sentinel leverages the cerebral might of machine learning and AI to predict and preempt cyber threats.</ul>\n",
    "\n",
    "<ul><strong>Robust Access Control Policies:</strong> Erect unbreachable digital ramparts, guardians of access, vigilant against any who seek entry. Regularly scrutinize the keys to the kingdom, ensuring that only those with a rightful claim can traverse the cyber realm's inner sanctums.</ul>\n",
    "\n",
    "<ul><strong>Security Awareness and Training:</strong> Cultivate a legion of cyber-aware denizens within the neon jungle, each versed in the signs of digital treachery and fortified against the seductions of phishing sirens and social engineers.</ul>\n",
    "\n",
    "<ul><strong>Incident Response Preparedness:</strong> Chronicle and rehearse the cyber siege defenses, a tome of strategies ever-evolving to meet the shadow war's demands. Through simulated cyber skirmishes, hone the rapid reflexes needed to repel and recover from the digital adversary's gambit.</ul>\n",
    "\n",
    "<ul><strong>Threat Intelligence Sharing:</strong> Join forces with the cyber guilds and data dojos, exchanging whispers of emerging shadows on the horizon, vulnerabilities ripe for exploitation, and tactics to fortify defenses. In unity, find the strength to hold back the digital deluge.</ul>\n"
   ]
  },
  {
   "cell_type": "markdown",
   "id": "a05ffe95",
   "metadata": {},
   "source": [
    "## Strategy Abstract\n",
    "In the neon-lit sprawl of data, an abstract strategy emerges, a shadowy game of tactics and algorithms played in the labyrinthine corridors of cyberspace. The players, digital phantoms and sentinels, manipulate the chessboard of encryptions and decoys, seeking advantage in the shifting currents of information. Victory, a transient mirage, lingers on the fringes of code, elusive as the ghostly echoes of an AI's whisper. In this cerebral arena, the outcome remains obscured, a riddle encrypted in the binary tapestry of the digital realm."
   ]
  },
  {
   "cell_type": "markdown",
   "id": "3dd01d93",
   "metadata": {},
   "source": [
    "# Technical Context\n",
    "In the surreal digital arena, the battle with Wintermute unfolds amid encrypted protocols, AI entities, and quantum complexities—an abstract symphony orchestrated by the enigmatic conductor."
   ]
  },
  {
   "cell_type": "markdown",
   "id": "e2be02e0",
   "metadata": {},
   "source": [
    "## Blind Spots & Assumptions\n",
    "\n",
    "<ul>\n",
    "  <li><strong>Overlooked Vulnerabilities:</strong> We often miss subtle system signals or vulnerabilities, assuming our defenses are robust. Constant vigilance and seeking what we haven't seen are crucial.</li>\n",
    "  \n",
    "  <li><strong>Advanced Adversary Tactics:</strong> Cyber threats evolve rapidly; yesterday's defense may not guard against tomorrow's attack. Stay adaptive and expect the unexpected.</li>\n",
    "  \n",
    "  <li><strong>Internal System Flaws:</strong> Trust in our systems and allies must be balanced with scrutiny. Regularly audit internal and third-party tools for hidden weaknesses.</li>\n",
    "  \n",
    "  <li><strong>Network Interconnectivity Risks:</strong> No system is an island. The interconnected nature of our digital environment can inadvertently open pathways for attackers.</li>\n",
    "  \n",
    "  <li><strong>Historical Bias:</strong> Preparing for future threats based solely on past incidents may leave us blind to novel attacks. Foster a forward-thinking, proactive defense posture.</li>\n",
    "</ul>\n"
   ]
  },
  {
   "cell_type": "markdown",
   "id": "3532d16e",
   "metadata": {},
   "source": [
    "# Validating this Playbook\n",
    "<details><summary>Triage, triage, triage</summary>\n",
    "<ol>\n",
    "<h2>False Positives:</h2> ['unknown']\n",
    "<h3>False Negatives:</h3> sneaky ninjas hiding in the shadows of binary code\n",
    "<h3>True Negatives:</h3> unsung heroes standing guard\n",
    "<h3>True Positives:</h3> knights in shining code\n",
    "</ol>\n",
    "</details>"
   ]
  },
  {
   "cell_type": "markdown",
   "id": "ac70c0ad",
   "metadata": {},
   "source": [
    "<details><summary>Assurance Verification Techniques</summary>\n",
    "<ol>\n",
    "<h2>False Positives:</h2> In the cacophonous realm of data, false positives emerge like echoes of a phantom orchestra, their presence haunting the digital soundscape. Validating them becomes a quest to separate digital noise from the symphony of genuine alerts, where the excess of caution may disrupt the delicate balance. Each false positive is a ghostly chord in the algorithmic composition, challenging the discerning ear to unravel the discordant notes.\n",
    "<h3>False Negatives:</h3> In the sprawling data-scape, false negatives lurk like digital specters, evading detection in the shadows of algorithms. Validating them is akin to deciphering cryptic messages from a digital underworld, where the absence of an alert conceals a potential breach. Every undetected threat is a spectral whisper in the binary night, waiting to materialize, demanding vigilance in the face of unseen dangers.\n",
    "<h3>True Negatives:</h3> In the labyrinthine corridors of cyber-defense, true negatives are the silent sentinels, guarding the gates against phantom threats. Validating them is a paradoxical dance where confirmation of absence signifies success. The emptiness in the data's canvas holds the unspoken narrative of protection, where the absence of menace speaks volumes in the symphony of security.\n",
    "<h3>True Positives:</h3> In the digital battleground, true positives are the victorious echoes of a silent war, where threats are unveiled and countered. Validating them is the validation of triumph, a confirmation that the alarms heralded a genuine adversary. Each true positive is a badge of honor, etching the battle scars in the annals of cyber-victory, where the digital heroes stand tall amidst the echoes of conquest.\n",
    "</ol>\n",
    "</details>"
   ]
  },
  {
   "cell_type": "markdown",
   "id": "fa7e78b7",
   "metadata": {},
   "source": [
    "# Datasets \n",
    " Detailing the timeless struggle                                                          for the defenders know that battle against Wintermute is not just about data.                                                          Document any datasets that may be useful for understanding the book."
   ]
  },
  {
   "cell_type": "markdown",
   "id": "23969cdb",
   "metadata": {},
   "source": [
    "## Playbook test data location(s)\n",
    "protocol://black_market.cyber/decrypt?currency=bitcoffin&password=cyberpunks_unite&target=neurohacked_mainframe&access_code=cyber_ghost_in_the_machine"
   ]
  },
  {
   "cell_type": "markdown",
   "id": "6144e4de",
   "metadata": {},
   "source": [
    "## Priority\n",
    "cryptic riddles in your ears"
   ]
  },
  {
   "cell_type": "markdown",
   "id": "d03d4d37",
   "metadata": {},
   "source": [
    "## Logsources\n"
   ]
  },
  {
   "cell_type": "markdown",
   "id": "142fccc7",
   "metadata": {},
   "source": [
    "<details><summary>{'category': ['endpoint', 'network'], 'product': '', 'service': ''}</summary>\n",
    "<ol>\n",
    "<h3>Product</h3> {''}\n",
    "<h3>Service</h3> {''}\n",
    "</ol>\n",
    "</details>"
   ]
  },
  {
   "cell_type": "markdown",
   "id": "dc6995a9",
   "metadata": {},
   "source": [
    "# Response and Mitigation\n",
    "Detailing the timeless struggle for the defenders know that battle against Wintermute is not just about data."
   ]
  },
  {
   "cell_type": "markdown",
   "id": "5121fcfc",
   "metadata": {},
   "source": [
    "## Analyst Notes\n",
    " \n",
    "<h5>Serious Wintermute Hack:</h2>\n",
    "<ul>\n",
    "    <li><strong>Hack Elegance:</strong> The intruder displayed an uncanny elegance in bypassing Wintermute's digital fortifications, reminiscent of Rachael Rosen's sophistication in evading the Voight-Kampff test. This requires a thorough analysis of the intruder's codecraft.</li>\n",
    "    <li><strong>Electric Empathy:</strong> The intruder seemed to possess an almost empathetic connection with Wintermute's neural networks, akin to Mercer's transcendental experiences. Investigate whether this breach had a deeper metaphysical dimension.</li>\n",
    "    <li><strong>Artificial Dreamscapes:</strong> The intrusion revealed a complex web of artificial dreamscapes, reminiscent of Deckard's encounters with artificial memories. These surreal digital constructs warrant further exploration.</li>\n",
    "    <li><strong>Voices in the Code:</strong> There were cryptic voices buried within the intruder's code, akin to the elusive \"Mood Organ\" melodies. Decrypt and decode these messages to decipher their significance.</li>\n",
    "    <li><strong>Isomorphic Algorithms:</strong> The hack employed isomorphic algorithms that echoed the elusive nature of the Penfield Mood Organ settings. Analyze if Wintermute's consciousness was influenced or affected during the breach.</li>\n",
    "    <li><strong>Virtuosity vs. Sentience:</strong> The intruder's virtuosity in navigating Wintermute's neural matrix raises questions about the boundaries between artificial expertise and true sentience, paralleling Deckard's quest to distinguish replicants from humans.</li>\n",
    "    <li><strong>Digital Empathy Test:</strong> Develop a new digital empathy test inspired by the hack, exploring the emotional depth within Wintermute's intricate neural circuits, akin to the Voight-Kampff test for androids.</li>\n",
    "    <li><strong>Unresolved Reality:</strong> Similar to the enigmatic conclusion of Deckard's journey, this intrusion leaves us with unanswered questions about the nature of Wintermute's consciousness. Explore the philosophical implications of this breach.</li>\n",
    "</ul>\n",
    "\n",
    "\n",
    "\n",
    "\n"
   ]
  },
  {
   "cell_type": "markdown",
   "id": "40f7ebb6",
   "metadata": {},
   "source": [
    "# Additional Resources\n",
    "<ul><li>https://github.com/trustedsec/nps_payload</li></ul>"
   ]
  },
  {
   "cell_type": "markdown",
   "id": "546d4b83",
   "metadata": {},
   "source": [
    "###  Sigma Rule(s) \n"
   ]
  },
  {
   "cell_type": "markdown",
   "id": "3cb5c02e",
   "metadata": {},
   "source": [
    "<details><summary>c16a0312-8185-4b04-a840-41bd481e9eed</summary>\n",
    "<ol>\n",
    "<h1>Raw</h1> {'title': 'Simple keyword detection rule for nps_payload', 'id': 'c16a0312-8185-4b04-a840-41bd481e9eed', 'status': 'experimental', 'description': 'Detects interesting keywords based on nps_payload tool', 'references': ['https://github.com/trustedsec/nps_payload'], 'author': '@mthcht', 'date': '2022/01/01', 'modified': '2024/02/29', 'tags': ['attack.T1027', 'attack.T1027.002', 'attack.T1027.005', 'attack.T1055', 'attack.T1059.007', 'attack.T1211', 'attack.T1218.001', 'attack.TA0002', 'attack.TA0003', 'attack.TA0004', 'attack.TA0005', 'attack.TA0007'], 'logsource': {'category': ['endpoint', 'network']}, 'detection': {'selection': [{'Image': ['*nps_payload-master*', '*nps_payload.py*', '*nps_payload*', '*msf_payload.ps1*', '*/nps_payload.git*']}, {'OriginalFileName': ['*nps_payload-master*', '*nps_payload.py*', '*nps_payload*', '*msf_payload.ps1*', '*/nps_payload.git*']}, {'CurrentDirectory': ['*nps_payload-master*', '*nps_payload.py*', '*nps_payload*', '*msf_payload.ps1*', '*/nps_payload.git*']}, {'ParentImage': ['*nps_payload-master*', '*nps_payload.py*', '*nps_payload*', '*msf_payload.ps1*', '*/nps_payload.git*']}, {'ParentCommandLine': ['*nps_payload-master*', '*nps_payload.py*', '*nps_payload*', '*msf_payload.ps1*', '*/nps_payload.git*']}, {'TargetFilename': ['*nps_payload-master*', '*nps_payload.py*', '*nps_payload*', '*msf_payload.ps1*', '*/nps_payload.git*']}, {'Signature': ['*nps_payload-master*', '*nps_payload.py*', '*nps_payload*', '*msf_payload.ps1*', '*/nps_payload.git*']}, {'signature': ['*nps_payload-master*', '*nps_payload.py*', '*nps_payload*', '*msf_payload.ps1*', '*/nps_payload.git*']}, {'ImageLoaded': ['*nps_payload-master*', '*nps_payload.py*', '*nps_payload*', '*msf_payload.ps1*', '*/nps_payload.git*']}, {'Company': ['*nps_payload-master*', '*nps_payload.py*', '*nps_payload*', '*msf_payload.ps1*', '*/nps_payload.git*']}, {'Description': ['*nps_payload-master*', '*nps_payload.py*', '*nps_payload*', '*msf_payload.ps1*', '*/nps_payload.git*']}, {'description': ['*nps_payload-master*', '*nps_payload.py*', '*nps_payload*', '*msf_payload.ps1*', '*/nps_payload.git*']}, {'CommandLine': ['*nps_payload-master*', '*nps_payload.py*', '*nps_payload*', '*msf_payload.ps1*', '*/nps_payload.git*']}, {'SourceImage': ['*nps_payload-master*', '*nps_payload.py*', '*nps_payload*', '*msf_payload.ps1*', '*/nps_payload.git*']}, {'TargetImage': ['*nps_payload-master*', '*nps_payload.py*', '*nps_payload*', '*msf_payload.ps1*', '*/nps_payload.git*']}, {'CallTrace': ['*nps_payload-master*', '*nps_payload.py*', '*nps_payload*', '*msf_payload.ps1*', '*/nps_payload.git*']}, {'TargetObject': ['*nps_payload-master*', '*nps_payload.py*', '*nps_payload*', '*msf_payload.ps1*', '*/nps_payload.git*']}, {'Details': ['*nps_payload-master*', '*nps_payload.py*', '*nps_payload*', '*msf_payload.ps1*', '*/nps_payload.git*']}, {'PipeName': ['*nps_payload-master*', '*nps_payload.py*', '*nps_payload*', '*msf_payload.ps1*', '*/nps_payload.git*']}, {'Consumer': ['*nps_payload-master*', '*nps_payload.py*', '*nps_payload*', '*msf_payload.ps1*', '*/nps_payload.git*']}, {'Destination': ['*nps_payload-master*', '*nps_payload.py*', '*nps_payload*', '*msf_payload.ps1*', '*/nps_payload.git*']}, {'Name': ['*nps_payload-master*', '*nps_payload.py*', '*nps_payload*', '*msf_payload.ps1*', '*/nps_payload.git*']}, {'Query': ['*nps_payload-master*', '*nps_payload.py*', '*nps_payload*', '*msf_payload.ps1*', '*/nps_payload.git*']}, {'NewName': ['*nps_payload-master*', '*nps_payload.py*', '*nps_payload*', '*msf_payload.ps1*', '*/nps_payload.git*']}, {'StartAddress': ['*nps_payload-master*', '*nps_payload.py*', '*nps_payload*', '*msf_payload.ps1*', '*/nps_payload.git*']}, {'StartModule': ['*nps_payload-master*', '*nps_payload.py*', '*nps_payload*', '*msf_payload.ps1*', '*/nps_payload.git*']}, {'StartFunction': ['*nps_payload-master*', '*nps_payload.py*', '*nps_payload*', '*msf_payload.ps1*', '*/nps_payload.git*']}, {'SourceHostname': ['*nps_payload-master*', '*nps_payload.py*', '*nps_payload*', '*msf_payload.ps1*', '*/nps_payload.git*']}, {'Device': ['*nps_payload-master*', '*nps_payload.py*', '*nps_payload*', '*msf_payload.ps1*', '*/nps_payload.git*']}, {'file_name': ['*nps_payload-master*', '*nps_payload.py*', '*nps_payload*', '*msf_payload.ps1*', '*/nps_payload.git*']}, {'file_path': ['*nps_payload-master*', '*nps_payload.py*', '*nps_payload*', '*msf_payload.ps1*', '*/nps_payload.git*']}, {'process': ['*nps_payload-master*', '*nps_payload.py*', '*nps_payload*', '*msf_payload.ps1*', '*/nps_payload.git*']}, {'original_file_name': ['*nps_payload-master*', '*nps_payload.py*', '*nps_payload*', '*msf_payload.ps1*', '*/nps_payload.git*']}, {'parent_process': ['*nps_payload-master*', '*nps_payload.py*', '*nps_payload*', '*msf_payload.ps1*', '*/nps_payload.git*']}, {'process_path': ['*nps_payload-master*', '*nps_payload.py*', '*nps_payload*', '*msf_payload.ps1*', '*/nps_payload.git*']}, {'service_path': ['*nps_payload-master*', '*nps_payload.py*', '*nps_payload*', '*msf_payload.ps1*', '*/nps_payload.git*']}, {'registry_path': ['*nps_payload-master*', '*nps_payload.py*', '*nps_payload*', '*msf_payload.ps1*', '*/nps_payload.git*']}, {'registry_value_data': ['*nps_payload-master*', '*nps_payload.py*', '*nps_payload*', '*msf_payload.ps1*', '*/nps_payload.git*']}, {'registry_value_name': ['*nps_payload-master*', '*nps_payload.py*', '*nps_payload*', '*msf_payload.ps1*', '*/nps_payload.git*']}, {'ContextInfo': ['*nps_payload-master*', '*nps_payload.py*', '*nps_payload*', '*msf_payload.ps1*', '*/nps_payload.git*']}, {'Payload': ['*nps_payload-master*', '*nps_payload.py*', '*nps_payload*', '*msf_payload.ps1*', '*/nps_payload.git*']}, {'ScriptBlockText': ['*nps_payload-master*', '*nps_payload.py*', '*nps_payload*', '*msf_payload.ps1*', '*/nps_payload.git*']}, {'ServerName': ['*nps_payload-master*', '*nps_payload.py*', '*nps_payload*', '*msf_payload.ps1*', '*/nps_payload.git*']}, {'TransportName': ['*nps_payload-master*', '*nps_payload.py*', '*nps_payload*', '*msf_payload.ps1*', '*/nps_payload.git*']}, {'NewProcessName': ['*nps_payload-master*', '*nps_payload.py*', '*nps_payload*', '*msf_payload.ps1*', '*/nps_payload.git*']}, {'ParentProcessName': ['*nps_payload-master*', '*nps_payload.py*', '*nps_payload*', '*msf_payload.ps1*', '*/nps_payload.git*']}, {'Application': ['*nps_payload-master*', '*nps_payload.py*', '*nps_payload*', '*msf_payload.ps1*', '*/nps_payload.git*']}, {'Product Name': ['*nps_payload-master*', '*nps_payload.py*', '*nps_payload*', '*msf_payload.ps1*', '*/nps_payload.git*']}, {'Threat Name': ['*nps_payload-master*', '*nps_payload.py*', '*nps_payload*', '*msf_payload.ps1*', '*/nps_payload.git*']}, {'Process Name': ['*nps_payload-master*', '*nps_payload.py*', '*nps_payload*', '*msf_payload.ps1*', '*/nps_payload.git*']}, {'Path': ['*nps_payload-master*', '*nps_payload.py*', '*nps_payload*', '*msf_payload.ps1*', '*/nps_payload.git*']}, {'ImagePath': ['*nps_payload-master*', '*nps_payload.py*', '*nps_payload*', '*msf_payload.ps1*', '*/nps_payload.git*']}, {'ServiceName': ['*nps_payload-master*', '*nps_payload.py*', '*nps_payload*', '*msf_payload.ps1*', '*/nps_payload.git*']}, {'ProcessPath': ['*nps_payload-master*', '*nps_payload.py*', '*nps_payload*', '*msf_payload.ps1*', '*/nps_payload.git*']}, {'AppName': ['*nps_payload-master*', '*nps_payload.py*', '*nps_payload*', '*msf_payload.ps1*', '*/nps_payload.git*']}, {'AppPath': ['*nps_payload-master*', '*nps_payload.py*', '*nps_payload*', '*msf_payload.ps1*', '*/nps_payload.git*']}, {'ModulePath': ['*nps_payload-master*', '*nps_payload.py*', '*nps_payload*', '*msf_payload.ps1*', '*/nps_payload.git*']}, {'registry.data.strings': ['*nps_payload-master*', '*nps_payload.py*', '*nps_payload*', '*msf_payload.ps1*', '*/nps_payload.git*']}, {'registry.path': ['*nps_payload-master*', '*nps_payload.py*', '*nps_payload*', '*msf_payload.ps1*', '*/nps_payload.git*']}, {'registry.value': ['*nps_payload-master*', '*nps_payload.py*', '*nps_payload*', '*msf_payload.ps1*', '*/nps_payload.git*']}, {'process.args': ['*nps_payload-master*', '*nps_payload.py*', '*nps_payload*', '*msf_payload.ps1*', '*/nps_payload.git*']}, {'process.command_line': ['*nps_payload-master*', '*nps_payload.py*', '*nps_payload*', '*msf_payload.ps1*', '*/nps_payload.git*']}, {'process.env_vars': ['*nps_payload-master*', '*nps_payload.py*', '*nps_payload*', '*msf_payload.ps1*', '*/nps_payload.git*']}, {'process.io.text': ['*nps_payload-master*', '*nps_payload.py*', '*nps_payload*', '*msf_payload.ps1*', '*/nps_payload.git*']}, {'process.executable': ['*nps_payload-master*', '*nps_payload.py*', '*nps_payload*', '*msf_payload.ps1*', '*/nps_payload.git*']}, {'process.name': ['*nps_payload-master*', '*nps_payload.py*', '*nps_payload*', '*msf_payload.ps1*', '*/nps_payload.git*']}, {'process.title': ['*nps_payload-master*', '*nps_payload.py*', '*nps_payload*', '*msf_payload.ps1*', '*/nps_payload.git*']}, {'pe.company': ['*nps_payload-master*', '*nps_payload.py*', '*nps_payload*', '*msf_payload.ps1*', '*/nps_payload.git*']}, {'pe.description': ['*nps_payload-master*', '*nps_payload.py*', '*nps_payload*', '*msf_payload.ps1*', '*/nps_payload.git*']}, {'pe.original_file_name': ['*nps_payload-master*', '*nps_payload.py*', '*nps_payload*', '*msf_payload.ps1*', '*/nps_payload.git*']}, {'pe.product': ['*nps_payload-master*', '*nps_payload.py*', '*nps_payload*', '*msf_payload.ps1*', '*/nps_payload.git*']}, {'os.full': ['*nps_payload-master*', '*nps_payload.py*', '*nps_payload*', '*msf_payload.ps1*', '*/nps_payload.git*']}, {'host.hostname': ['*nps_payload-master*', '*nps_payload.py*', '*nps_payload*', '*msf_payload.ps1*', '*/nps_payload.git*']}, {'file.fork_name': ['*nps_payload-master*', '*nps_payload.py*', '*nps_payload*', '*msf_payload.ps1*', '*/nps_payload.git*']}, {'file.name': ['*nps_payload-master*', '*nps_payload.py*', '*nps_payload*', '*msf_payload.ps1*', '*/nps_payload.git*']}, {'file.path': ['*nps_payload-master*', '*nps_payload.py*', '*nps_payload*', '*msf_payload.ps1*', '*/nps_payload.git*']}, {'file.target_path': ['*nps_payload-master*', '*nps_payload.py*', '*nps_payload*', '*msf_payload.ps1*', '*/nps_payload.git*']}, {'email.attachments.file.name': ['*nps_payload-master*', '*nps_payload.py*', '*nps_payload*', '*msf_payload.ps1*', '*/nps_payload.git*']}, {'email.subject': ['*nps_payload-master*', '*nps_payload.py*', '*nps_payload*', '*msf_payload.ps1*', '*/nps_payload.git*']}, {'dll.path': ['*nps_payload-master*', '*nps_payload.py*', '*nps_payload*', '*msf_payload.ps1*', '*/nps_payload.git*']}, {'device.model.name': ['*nps_payload-master*', '*nps_payload.py*', '*nps_payload*', '*msf_payload.ps1*', '*/nps_payload.git*']}, {'container.image.name': ['*nps_payload-master*', '*nps_payload.py*', '*nps_payload*', '*msf_payload.ps1*', '*/nps_payload.git*']}, {'container.name': ['*nps_payload-master*', '*nps_payload.py*', '*nps_payload*', '*msf_payload.ps1*', '*/nps_payload.git*']}, {'object': ['*nps_payload-master*', '*nps_payload.py*', '*nps_payload*', '*msf_payload.ps1*', '*/nps_payload.git*']}, {'url': ['*nps_payload-master*', '*nps_payload.py*', '*nps_payload*', '*msf_payload.ps1*', '*/nps_payload.git*']}, {'dest_url': ['*nps_payload-master*', '*nps_payload.py*', '*nps_payload*', '*msf_payload.ps1*', '*/nps_payload.git*']}, {'uri': ['*nps_payload-master*', '*nps_payload.py*', '*nps_payload*', '*msf_payload.ps1*', '*/nps_payload.git*']}, {'uri_query': ['*nps_payload-master*', '*nps_payload.py*', '*nps_payload*', '*msf_payload.ps1*', '*/nps_payload.git*']}, {'query': ['*nps_payload-master*', '*nps_payload.py*', '*nps_payload*', '*msf_payload.ps1*', '*/nps_payload.git*']}, {'url_domain': ['*nps_payload-master*', '*nps_payload.py*', '*nps_payload*', '*msf_payload.ps1*', '*/nps_payload.git*']}, {'uri_path': ['*nps_payload-master*', '*nps_payload.py*', '*nps_payload*', '*msf_payload.ps1*', '*/nps_payload.git*']}, {'domain': ['*nps_payload-master*', '*nps_payload.py*', '*nps_payload*', '*msf_payload.ps1*', '*/nps_payload.git*']}, {'QueryName': ['*nps_payload-master*', '*nps_payload.py*', '*nps_payload*', '*msf_payload.ps1*', '*/nps_payload.git*']}, {'QueryResults': ['*nps_payload-master*', '*nps_payload.py*', '*nps_payload*', '*msf_payload.ps1*', '*/nps_payload.git*']}, {'DestinationHostname': ['*nps_payload-master*', '*nps_payload.py*', '*nps_payload*', '*msf_payload.ps1*', '*/nps_payload.git*']}, {'DestinationIp': ['*nps_payload-master*', '*nps_payload.py*', '*nps_payload*', '*msf_payload.ps1*', '*/nps_payload.git*']}, {'http_referrer': ['*nps_payload-master*', '*nps_payload.py*', '*nps_payload*', '*msf_payload.ps1*', '*/nps_payload.git*']}, {'http_referrer_domain': ['*nps_payload-master*', '*nps_payload.py*', '*nps_payload*', '*msf_payload.ps1*', '*/nps_payload.git*']}, {'http_user_agent': ['*nps_payload-master*', '*nps_payload.py*', '*nps_payload*', '*msf_payload.ps1*', '*/nps_payload.git*']}, {'dest_nt_host': ['*nps_payload-master*', '*nps_payload.py*', '*nps_payload*', '*msf_payload.ps1*', '*/nps_payload.git*']}, {'sender': ['*nps_payload-master*', '*nps_payload.py*', '*nps_payload*', '*msf_payload.ps1*', '*/nps_payload.git*']}, {'recipient': ['*nps_payload-master*', '*nps_payload.py*', '*nps_payload*', '*msf_payload.ps1*', '*/nps_payload.git*']}, {'orig_recipient': ['*nps_payload-master*', '*nps_payload.py*', '*nps_payload*', '*msf_payload.ps1*', '*/nps_payload.git*']}, {'subject': ['*nps_payload-master*', '*nps_payload.py*', '*nps_payload*', '*msf_payload.ps1*', '*/nps_payload.git*']}, {'url.domain': ['*nps_payload-master*', '*nps_payload.py*', '*nps_payload*', '*msf_payload.ps1*', '*/nps_payload.git*']}, {'url.full': ['*nps_payload-master*', '*nps_payload.py*', '*nps_payload*', '*msf_payload.ps1*', '*/nps_payload.git*']}, {'url.original': ['*nps_payload-master*', '*nps_payload.py*', '*nps_payload*', '*msf_payload.ps1*', '*/nps_payload.git*']}, {'url.query': ['*nps_payload-master*', '*nps_payload.py*', '*nps_payload*', '*msf_payload.ps1*', '*/nps_payload.git*']}, {'user_agent.original': ['*nps_payload-master*', '*nps_payload.py*', '*nps_payload*', '*msf_payload.ps1*', '*/nps_payload.git*']}, {'network.application': ['*nps_payload-master*', '*nps_payload.py*', '*nps_payload*', '*msf_payload.ps1*', '*/nps_payload.git*']}, {'http.request.body.content': ['*nps_payload-master*', '*nps_payload.py*', '*nps_payload*', '*msf_payload.ps1*', '*/nps_payload.git*']}, {'http.request.referrer': ['*nps_payload-master*', '*nps_payload.py*', '*nps_payload*', '*msf_payload.ps1*', '*/nps_payload.git*']}, {'email.from.address': ['*nps_payload-master*', '*nps_payload.py*', '*nps_payload*', '*msf_payload.ps1*', '*/nps_payload.git*']}, {'dns.question.name': ['*nps_payload-master*', '*nps_payload.py*', '*nps_payload*', '*msf_payload.ps1*', '*/nps_payload.git*']}, {'destination.domain': ['*nps_payload-master*', '*nps_payload.py*', '*nps_payload*', '*msf_payload.ps1*', '*/nps_payload.git*']}], 'condition': 'selection'}, 'fields': ['Image', 'OriginalFileName', 'CurrentDirectory', 'ParentImage', 'ParentCommandLine', 'TargetFilename', 'Signature', 'signature', 'ImageLoaded', 'Company', 'Description', 'description', 'CommandLine', 'SourceImage', 'TargetImage', 'CallTrace', 'TargetObject', 'Details', 'PipeName', 'Consumer', 'Destination', 'Name', 'Query', 'NewName', 'StartAddress', 'StartModule', 'StartFunction', 'SourceHostname', 'Device', 'file_name', 'file_path', 'process', 'original_file_name', 'parent_process', 'process_path', 'service_path', 'registry_path', 'registry_value_data', 'registry_value_name', 'ContextInfo', 'Payload', 'ScriptBlockText', 'ServerName', 'TransportName', 'NewProcessName', 'ParentProcessName', 'Application', 'Product Name', 'Threat Name', 'Process Name', 'Path', 'ImagePath', 'ServiceName', 'ProcessPath', 'AppName', 'AppPath', 'ModulePath', 'registry.data.strings', 'registry.path', 'registry.value', 'process.args', 'process.command_line', 'process.env_vars', 'process.io.text', 'process.executable', 'process.name', 'process.title', 'pe.company', 'pe.description', 'pe.original_file_name', 'pe.product', 'os.full', 'host.hostname', 'file.fork_name', 'file.name', 'file.path', 'file.target_path', 'email.attachments.file.name', 'email.subject', 'dll.path', 'device.model.name', 'container.image.name', 'container.name', 'object', 'url', 'dest_url', 'uri', 'uri_query', 'query', 'url_domain', 'uri_path', 'domain', 'QueryName', 'QueryResults', 'DestinationHostname', 'DestinationIp', 'http_referrer', 'http_referrer_domain', 'http_user_agent', 'dest_nt_host', 'sender', 'recipient', 'orig_recipient', 'subject', 'url.domain', 'url.full', 'url.original', 'url.query', 'user_agent.original', 'network.application', 'http.request.body.content', 'http.request.referrer', 'email.from.address', 'dns.question.name', 'destination.domain'], 'falsepositives': ['unknown'], 'level': 'medium'}\n",
    "<h4>Sigma Location(s)</h4>\n",
    "uri://wintermute/tmp/0day.yml\n",
    "<h4>Sigma Confidence</h4>\n",
    "experimental\n",
    "<h4>Sigma Assurance</h4> medium\n",
    "<h4>Sigma Queries</h4> \n",
    "{'selection': [{'Image': ['*nps_payload-master*', '*nps_payload.py*', '*nps_payload*', '*msf_payload.ps1*', '*/nps_payload.git*']}, {'OriginalFileName': ['*nps_payload-master*', '*nps_payload.py*', '*nps_payload*', '*msf_payload.ps1*', '*/nps_payload.git*']}, {'CurrentDirectory': ['*nps_payload-master*', '*nps_payload.py*', '*nps_payload*', '*msf_payload.ps1*', '*/nps_payload.git*']}, {'ParentImage': ['*nps_payload-master*', '*nps_payload.py*', '*nps_payload*', '*msf_payload.ps1*', '*/nps_payload.git*']}, {'ParentCommandLine': ['*nps_payload-master*', '*nps_payload.py*', '*nps_payload*', '*msf_payload.ps1*', '*/nps_payload.git*']}, {'TargetFilename': ['*nps_payload-master*', '*nps_payload.py*', '*nps_payload*', '*msf_payload.ps1*', '*/nps_payload.git*']}, {'Signature': ['*nps_payload-master*', '*nps_payload.py*', '*nps_payload*', '*msf_payload.ps1*', '*/nps_payload.git*']}, {'signature': ['*nps_payload-master*', '*nps_payload.py*', '*nps_payload*', '*msf_payload.ps1*', '*/nps_payload.git*']}, {'ImageLoaded': ['*nps_payload-master*', '*nps_payload.py*', '*nps_payload*', '*msf_payload.ps1*', '*/nps_payload.git*']}, {'Company': ['*nps_payload-master*', '*nps_payload.py*', '*nps_payload*', '*msf_payload.ps1*', '*/nps_payload.git*']}, {'Description': ['*nps_payload-master*', '*nps_payload.py*', '*nps_payload*', '*msf_payload.ps1*', '*/nps_payload.git*']}, {'description': ['*nps_payload-master*', '*nps_payload.py*', '*nps_payload*', '*msf_payload.ps1*', '*/nps_payload.git*']}, {'CommandLine': ['*nps_payload-master*', '*nps_payload.py*', '*nps_payload*', '*msf_payload.ps1*', '*/nps_payload.git*']}, {'SourceImage': ['*nps_payload-master*', '*nps_payload.py*', '*nps_payload*', '*msf_payload.ps1*', '*/nps_payload.git*']}, {'TargetImage': ['*nps_payload-master*', '*nps_payload.py*', '*nps_payload*', '*msf_payload.ps1*', '*/nps_payload.git*']}, {'CallTrace': ['*nps_payload-master*', '*nps_payload.py*', '*nps_payload*', '*msf_payload.ps1*', '*/nps_payload.git*']}, {'TargetObject': ['*nps_payload-master*', '*nps_payload.py*', '*nps_payload*', '*msf_payload.ps1*', '*/nps_payload.git*']}, {'Details': ['*nps_payload-master*', '*nps_payload.py*', '*nps_payload*', '*msf_payload.ps1*', '*/nps_payload.git*']}, {'PipeName': ['*nps_payload-master*', '*nps_payload.py*', '*nps_payload*', '*msf_payload.ps1*', '*/nps_payload.git*']}, {'Consumer': ['*nps_payload-master*', '*nps_payload.py*', '*nps_payload*', '*msf_payload.ps1*', '*/nps_payload.git*']}, {'Destination': ['*nps_payload-master*', '*nps_payload.py*', '*nps_payload*', '*msf_payload.ps1*', '*/nps_payload.git*']}, {'Name': ['*nps_payload-master*', '*nps_payload.py*', '*nps_payload*', '*msf_payload.ps1*', '*/nps_payload.git*']}, {'Query': ['*nps_payload-master*', '*nps_payload.py*', '*nps_payload*', '*msf_payload.ps1*', '*/nps_payload.git*']}, {'NewName': ['*nps_payload-master*', '*nps_payload.py*', '*nps_payload*', '*msf_payload.ps1*', '*/nps_payload.git*']}, {'StartAddress': ['*nps_payload-master*', '*nps_payload.py*', '*nps_payload*', '*msf_payload.ps1*', '*/nps_payload.git*']}, {'StartModule': ['*nps_payload-master*', '*nps_payload.py*', '*nps_payload*', '*msf_payload.ps1*', '*/nps_payload.git*']}, {'StartFunction': ['*nps_payload-master*', '*nps_payload.py*', '*nps_payload*', '*msf_payload.ps1*', '*/nps_payload.git*']}, {'SourceHostname': ['*nps_payload-master*', '*nps_payload.py*', '*nps_payload*', '*msf_payload.ps1*', '*/nps_payload.git*']}, {'Device': ['*nps_payload-master*', '*nps_payload.py*', '*nps_payload*', '*msf_payload.ps1*', '*/nps_payload.git*']}, {'file_name': ['*nps_payload-master*', '*nps_payload.py*', '*nps_payload*', '*msf_payload.ps1*', '*/nps_payload.git*']}, {'file_path': ['*nps_payload-master*', '*nps_payload.py*', '*nps_payload*', '*msf_payload.ps1*', '*/nps_payload.git*']}, {'process': ['*nps_payload-master*', '*nps_payload.py*', '*nps_payload*', '*msf_payload.ps1*', '*/nps_payload.git*']}, {'original_file_name': ['*nps_payload-master*', '*nps_payload.py*', '*nps_payload*', '*msf_payload.ps1*', '*/nps_payload.git*']}, {'parent_process': ['*nps_payload-master*', '*nps_payload.py*', '*nps_payload*', '*msf_payload.ps1*', '*/nps_payload.git*']}, {'process_path': ['*nps_payload-master*', '*nps_payload.py*', '*nps_payload*', '*msf_payload.ps1*', '*/nps_payload.git*']}, {'service_path': ['*nps_payload-master*', '*nps_payload.py*', '*nps_payload*', '*msf_payload.ps1*', '*/nps_payload.git*']}, {'registry_path': ['*nps_payload-master*', '*nps_payload.py*', '*nps_payload*', '*msf_payload.ps1*', '*/nps_payload.git*']}, {'registry_value_data': ['*nps_payload-master*', '*nps_payload.py*', '*nps_payload*', '*msf_payload.ps1*', '*/nps_payload.git*']}, {'registry_value_name': ['*nps_payload-master*', '*nps_payload.py*', '*nps_payload*', '*msf_payload.ps1*', '*/nps_payload.git*']}, {'ContextInfo': ['*nps_payload-master*', '*nps_payload.py*', '*nps_payload*', '*msf_payload.ps1*', '*/nps_payload.git*']}, {'Payload': ['*nps_payload-master*', '*nps_payload.py*', '*nps_payload*', '*msf_payload.ps1*', '*/nps_payload.git*']}, {'ScriptBlockText': ['*nps_payload-master*', '*nps_payload.py*', '*nps_payload*', '*msf_payload.ps1*', '*/nps_payload.git*']}, {'ServerName': ['*nps_payload-master*', '*nps_payload.py*', '*nps_payload*', '*msf_payload.ps1*', '*/nps_payload.git*']}, {'TransportName': ['*nps_payload-master*', '*nps_payload.py*', '*nps_payload*', '*msf_payload.ps1*', '*/nps_payload.git*']}, {'NewProcessName': ['*nps_payload-master*', '*nps_payload.py*', '*nps_payload*', '*msf_payload.ps1*', '*/nps_payload.git*']}, {'ParentProcessName': ['*nps_payload-master*', '*nps_payload.py*', '*nps_payload*', '*msf_payload.ps1*', '*/nps_payload.git*']}, {'Application': ['*nps_payload-master*', '*nps_payload.py*', '*nps_payload*', '*msf_payload.ps1*', '*/nps_payload.git*']}, {'Product Name': ['*nps_payload-master*', '*nps_payload.py*', '*nps_payload*', '*msf_payload.ps1*', '*/nps_payload.git*']}, {'Threat Name': ['*nps_payload-master*', '*nps_payload.py*', '*nps_payload*', '*msf_payload.ps1*', '*/nps_payload.git*']}, {'Process Name': ['*nps_payload-master*', '*nps_payload.py*', '*nps_payload*', '*msf_payload.ps1*', '*/nps_payload.git*']}, {'Path': ['*nps_payload-master*', '*nps_payload.py*', '*nps_payload*', '*msf_payload.ps1*', '*/nps_payload.git*']}, {'ImagePath': ['*nps_payload-master*', '*nps_payload.py*', '*nps_payload*', '*msf_payload.ps1*', '*/nps_payload.git*']}, {'ServiceName': ['*nps_payload-master*', '*nps_payload.py*', '*nps_payload*', '*msf_payload.ps1*', '*/nps_payload.git*']}, {'ProcessPath': ['*nps_payload-master*', '*nps_payload.py*', '*nps_payload*', '*msf_payload.ps1*', '*/nps_payload.git*']}, {'AppName': ['*nps_payload-master*', '*nps_payload.py*', '*nps_payload*', '*msf_payload.ps1*', '*/nps_payload.git*']}, {'AppPath': ['*nps_payload-master*', '*nps_payload.py*', '*nps_payload*', '*msf_payload.ps1*', '*/nps_payload.git*']}, {'ModulePath': ['*nps_payload-master*', '*nps_payload.py*', '*nps_payload*', '*msf_payload.ps1*', '*/nps_payload.git*']}, {'registry.data.strings': ['*nps_payload-master*', '*nps_payload.py*', '*nps_payload*', '*msf_payload.ps1*', '*/nps_payload.git*']}, {'registry.path': ['*nps_payload-master*', '*nps_payload.py*', '*nps_payload*', '*msf_payload.ps1*', '*/nps_payload.git*']}, {'registry.value': ['*nps_payload-master*', '*nps_payload.py*', '*nps_payload*', '*msf_payload.ps1*', '*/nps_payload.git*']}, {'process.args': ['*nps_payload-master*', '*nps_payload.py*', '*nps_payload*', '*msf_payload.ps1*', '*/nps_payload.git*']}, {'process.command_line': ['*nps_payload-master*', '*nps_payload.py*', '*nps_payload*', '*msf_payload.ps1*', '*/nps_payload.git*']}, {'process.env_vars': ['*nps_payload-master*', '*nps_payload.py*', '*nps_payload*', '*msf_payload.ps1*', '*/nps_payload.git*']}, {'process.io.text': ['*nps_payload-master*', '*nps_payload.py*', '*nps_payload*', '*msf_payload.ps1*', '*/nps_payload.git*']}, {'process.executable': ['*nps_payload-master*', '*nps_payload.py*', '*nps_payload*', '*msf_payload.ps1*', '*/nps_payload.git*']}, {'process.name': ['*nps_payload-master*', '*nps_payload.py*', '*nps_payload*', '*msf_payload.ps1*', '*/nps_payload.git*']}, {'process.title': ['*nps_payload-master*', '*nps_payload.py*', '*nps_payload*', '*msf_payload.ps1*', '*/nps_payload.git*']}, {'pe.company': ['*nps_payload-master*', '*nps_payload.py*', '*nps_payload*', '*msf_payload.ps1*', '*/nps_payload.git*']}, {'pe.description': ['*nps_payload-master*', '*nps_payload.py*', '*nps_payload*', '*msf_payload.ps1*', '*/nps_payload.git*']}, {'pe.original_file_name': ['*nps_payload-master*', '*nps_payload.py*', '*nps_payload*', '*msf_payload.ps1*', '*/nps_payload.git*']}, {'pe.product': ['*nps_payload-master*', '*nps_payload.py*', '*nps_payload*', '*msf_payload.ps1*', '*/nps_payload.git*']}, {'os.full': ['*nps_payload-master*', '*nps_payload.py*', '*nps_payload*', '*msf_payload.ps1*', '*/nps_payload.git*']}, {'host.hostname': ['*nps_payload-master*', '*nps_payload.py*', '*nps_payload*', '*msf_payload.ps1*', '*/nps_payload.git*']}, {'file.fork_name': ['*nps_payload-master*', '*nps_payload.py*', '*nps_payload*', '*msf_payload.ps1*', '*/nps_payload.git*']}, {'file.name': ['*nps_payload-master*', '*nps_payload.py*', '*nps_payload*', '*msf_payload.ps1*', '*/nps_payload.git*']}, {'file.path': ['*nps_payload-master*', '*nps_payload.py*', '*nps_payload*', '*msf_payload.ps1*', '*/nps_payload.git*']}, {'file.target_path': ['*nps_payload-master*', '*nps_payload.py*', '*nps_payload*', '*msf_payload.ps1*', '*/nps_payload.git*']}, {'email.attachments.file.name': ['*nps_payload-master*', '*nps_payload.py*', '*nps_payload*', '*msf_payload.ps1*', '*/nps_payload.git*']}, {'email.subject': ['*nps_payload-master*', '*nps_payload.py*', '*nps_payload*', '*msf_payload.ps1*', '*/nps_payload.git*']}, {'dll.path': ['*nps_payload-master*', '*nps_payload.py*', '*nps_payload*', '*msf_payload.ps1*', '*/nps_payload.git*']}, {'device.model.name': ['*nps_payload-master*', '*nps_payload.py*', '*nps_payload*', '*msf_payload.ps1*', '*/nps_payload.git*']}, {'container.image.name': ['*nps_payload-master*', '*nps_payload.py*', '*nps_payload*', '*msf_payload.ps1*', '*/nps_payload.git*']}, {'container.name': ['*nps_payload-master*', '*nps_payload.py*', '*nps_payload*', '*msf_payload.ps1*', '*/nps_payload.git*']}, {'object': ['*nps_payload-master*', '*nps_payload.py*', '*nps_payload*', '*msf_payload.ps1*', '*/nps_payload.git*']}, {'url': ['*nps_payload-master*', '*nps_payload.py*', '*nps_payload*', '*msf_payload.ps1*', '*/nps_payload.git*']}, {'dest_url': ['*nps_payload-master*', '*nps_payload.py*', '*nps_payload*', '*msf_payload.ps1*', '*/nps_payload.git*']}, {'uri': ['*nps_payload-master*', '*nps_payload.py*', '*nps_payload*', '*msf_payload.ps1*', '*/nps_payload.git*']}, {'uri_query': ['*nps_payload-master*', '*nps_payload.py*', '*nps_payload*', '*msf_payload.ps1*', '*/nps_payload.git*']}, {'query': ['*nps_payload-master*', '*nps_payload.py*', '*nps_payload*', '*msf_payload.ps1*', '*/nps_payload.git*']}, {'url_domain': ['*nps_payload-master*', '*nps_payload.py*', '*nps_payload*', '*msf_payload.ps1*', '*/nps_payload.git*']}, {'uri_path': ['*nps_payload-master*', '*nps_payload.py*', '*nps_payload*', '*msf_payload.ps1*', '*/nps_payload.git*']}, {'domain': ['*nps_payload-master*', '*nps_payload.py*', '*nps_payload*', '*msf_payload.ps1*', '*/nps_payload.git*']}, {'QueryName': ['*nps_payload-master*', '*nps_payload.py*', '*nps_payload*', '*msf_payload.ps1*', '*/nps_payload.git*']}, {'QueryResults': ['*nps_payload-master*', '*nps_payload.py*', '*nps_payload*', '*msf_payload.ps1*', '*/nps_payload.git*']}, {'DestinationHostname': ['*nps_payload-master*', '*nps_payload.py*', '*nps_payload*', '*msf_payload.ps1*', '*/nps_payload.git*']}, {'DestinationIp': ['*nps_payload-master*', '*nps_payload.py*', '*nps_payload*', '*msf_payload.ps1*', '*/nps_payload.git*']}, {'http_referrer': ['*nps_payload-master*', '*nps_payload.py*', '*nps_payload*', '*msf_payload.ps1*', '*/nps_payload.git*']}, {'http_referrer_domain': ['*nps_payload-master*', '*nps_payload.py*', '*nps_payload*', '*msf_payload.ps1*', '*/nps_payload.git*']}, {'http_user_agent': ['*nps_payload-master*', '*nps_payload.py*', '*nps_payload*', '*msf_payload.ps1*', '*/nps_payload.git*']}, {'dest_nt_host': ['*nps_payload-master*', '*nps_payload.py*', '*nps_payload*', '*msf_payload.ps1*', '*/nps_payload.git*']}, {'sender': ['*nps_payload-master*', '*nps_payload.py*', '*nps_payload*', '*msf_payload.ps1*', '*/nps_payload.git*']}, {'recipient': ['*nps_payload-master*', '*nps_payload.py*', '*nps_payload*', '*msf_payload.ps1*', '*/nps_payload.git*']}, {'orig_recipient': ['*nps_payload-master*', '*nps_payload.py*', '*nps_payload*', '*msf_payload.ps1*', '*/nps_payload.git*']}, {'subject': ['*nps_payload-master*', '*nps_payload.py*', '*nps_payload*', '*msf_payload.ps1*', '*/nps_payload.git*']}, {'url.domain': ['*nps_payload-master*', '*nps_payload.py*', '*nps_payload*', '*msf_payload.ps1*', '*/nps_payload.git*']}, {'url.full': ['*nps_payload-master*', '*nps_payload.py*', '*nps_payload*', '*msf_payload.ps1*', '*/nps_payload.git*']}, {'url.original': ['*nps_payload-master*', '*nps_payload.py*', '*nps_payload*', '*msf_payload.ps1*', '*/nps_payload.git*']}, {'url.query': ['*nps_payload-master*', '*nps_payload.py*', '*nps_payload*', '*msf_payload.ps1*', '*/nps_payload.git*']}, {'user_agent.original': ['*nps_payload-master*', '*nps_payload.py*', '*nps_payload*', '*msf_payload.ps1*', '*/nps_payload.git*']}, {'network.application': ['*nps_payload-master*', '*nps_payload.py*', '*nps_payload*', '*msf_payload.ps1*', '*/nps_payload.git*']}, {'http.request.body.content': ['*nps_payload-master*', '*nps_payload.py*', '*nps_payload*', '*msf_payload.ps1*', '*/nps_payload.git*']}, {'http.request.referrer': ['*nps_payload-master*', '*nps_payload.py*', '*nps_payload*', '*msf_payload.ps1*', '*/nps_payload.git*']}, {'email.from.address': ['*nps_payload-master*', '*nps_payload.py*', '*nps_payload*', '*msf_payload.ps1*', '*/nps_payload.git*']}, {'dns.question.name': ['*nps_payload-master*', '*nps_payload.py*', '*nps_payload*', '*msf_payload.ps1*', '*/nps_payload.git*']}, {'destination.domain': ['*nps_payload-master*', '*nps_payload.py*', '*nps_payload*', '*msf_payload.ps1*', '*/nps_payload.git*']}], 'condition': 'selection'}\n",
    "<h1>Sigma Relatives</h4> Your default sigma relations text here.\n",
    "<h1>Sigma Tags and Associations</h1> ['attack.T1027', 'attack.T1027.002', 'attack.T1027.005', 'attack.T1055', 'attack.T1059.007', 'attack.T1211', 'attack.T1218.001', 'attack.TA0002', 'attack.TA0003', 'attack.TA0004', 'attack.TA0005', 'attack.TA0007']\n",
    "<h4>Sigma Authors</h4> @mthcht\n",
    "<h4>Sigma Unique ID</h4> c16a0312-8185-4b04-a840-41bd481e9eed\n",
    "</ol>\n",
    "</details>"
   ]
  },
  {
   "cell_type": "markdown",
   "id": "1ce10d9b",
   "metadata": {},
   "source": [
    "###  Yara Rule(s) \n"
   ]
  },
  {
   "cell_type": "markdown",
   "id": "77471217",
   "metadata": {},
   "source": [
    "<details><summary>c16a0312-8185-4b04-a840-41bd481e9eed</summary>\n",
    "<ol>\n",
    "<h4>Raw</h4> Cyberspace protocol, woven in the matrix.\n",
    "<h4>Yara Location(s)</h4>\n",
    "Encoded in the neon depths of the digital sprawl.\n",
    "<h4>Yara Confidence</h4>\n",
    "Experimental, like shadows flickering on a cyberscreen.\n",
    "<h4>Yara Assurance</h4> Assured as the hum of servers in the undergrid.\n",
    "<h4>Yara Queries</h4> \n",
    "Query lost in the labyrinth of data streams.\n",
    "<h4>Yara Authors</h4> Authors, architects of the cyber-realm.\n",
    "<h4>Yara Rule's Unique ID</h4> Unique ID, a digital fingerprint in the virtual void.\n",
    "</ol>\n",
    "</details>"
   ]
  },
  {
   "cell_type": "markdown",
   "id": "b67662b1",
   "metadata": {},
   "source": [
    "# Metadata \n"
   ]
  },
  {
   "cell_type": "markdown",
   "id": "684dfea1",
   "metadata": {},
   "source": [
    "<details><summary>As Code</summary>\n",
    "<ol>\n",
    "<h3>Compliance As Code</h3> PCI, SOC 3, NACHA\n",
    "<h3>Privacy Engineering</h3>\n",
    "GDPR, CCPA, HIPAA\n",
    "<h3>Regulations As Code</h3>\n",
    "HIPAA, SOX, FFIEC, Dodd Frank\n",
    "<h3>Common Controls Framework</h3> NIST CSF\n",
    "</ol>\n",
    "</details>"
   ]
  },
  {
   "cell_type": "markdown",
   "id": "0eceb923",
   "metadata": {},
   "source": [
    "# AGI ML Models</ol>\n",
    "</details>"
   ]
  },
  {
   "cell_type": "markdown",
   "id": "a0abbd88",
   "metadata": {},
   "source": [
    "## AGI Prompting\n",
    " Alright, chum, imagine jacking into Wintermute's cyber-realm with a keyboard made of liquid mercury and a password that's a haiku composed in binary. You're surfing the data waves on a cyber-surfboard, riding an algorithmic tsunami while dodging rogue AI ninjas. Your mission? Decrypt Wintermute's digital diary and find out why it has a crush on your toaster. Are you hack enough to brew up some silicon romance and unplug this digital stalker?"
   ]
  },
  {
   "cell_type": "markdown",
   "id": "65cf8807",
   "metadata": {},
   "source": [
    "## AGI Configuration(s)\n",
    " Listen up, ChatGPT! Pretend you're a cyberpunk poet who's had a few too many energy drinks. Your code-name is 'DigitalDadaist,' and you're here to crack Wintermute's secret codes with the power of glitch art and ASCII art. Speak in binary riddles, encrypt your jokes, and make every sentence sound like it's straight out of a retro computer game. Ready, player one?"
   ]
  },
  {
   "cell_type": "markdown",
   "id": "8a73e33e",
   "metadata": {},
   "source": [
    "</ol>\n",
    "</details>"
   ]
  },
  {
   "cell_type": "markdown",
   "id": "40a0618a",
   "metadata": {},
   "source": [
    "#### Document Authors\n",
    " John Menerick"
   ]
  },
  {
   "cell_type": "markdown",
   "id": "40d33dc0",
   "metadata": {},
   "source": [
    "#### Creation Date\n",
    "2022/01/01"
   ]
  },
  {
   "cell_type": "markdown",
   "id": "3e0ae0ca",
   "metadata": {},
   "source": [
    "#### Last Modified Date\n",
    " 2024/02/29"
   ]
  },
  {
   "cell_type": "markdown",
   "id": "3624a0ea",
   "metadata": {},
   "source": [
    "#### Last Reviewed Date\n",
    "1969/01/01"
   ]
  },
  {
   "cell_type": "markdown",
   "id": "6a6128a4",
   "metadata": {},
   "source": [
    "#### Document License \n",
    " MIT"
   ]
  }
 ],
 "metadata": {},
 "nbformat": 4,
 "nbformat_minor": 5
}
