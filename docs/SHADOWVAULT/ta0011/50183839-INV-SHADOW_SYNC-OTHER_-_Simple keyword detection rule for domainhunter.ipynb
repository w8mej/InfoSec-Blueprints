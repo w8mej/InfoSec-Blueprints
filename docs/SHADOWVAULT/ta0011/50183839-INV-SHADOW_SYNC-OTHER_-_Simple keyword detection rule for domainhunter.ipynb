{
 "cells": [
  {
   "cell_type": "markdown",
   "id": "213f2143",
   "metadata": {},
   "source": [
    "\n",
    "# UNCLASSIFIED / NON CLASSIFIÉ//TLP:WHITE\n",
    "# U/OO/37591-02 | QQ-09-1998\n",
    "<p>In crafting guidance and strategic insights, John Menerick sometimes ventures into realms of imagination to convey complex ideas more vividly. Should the content provided bear the mark of a cyberpunk theme, please note that the original, detailed content has been removed or adjusted for public consumption. This modification ensures compliance with privacy considerations, non-disclosure agreements, and intellectual property rights that govern the dissemination of sensitive information. The priority is to respect these boundaries while still offering valuable, thought-provoking perspectives.</p>\n"
   ]
  },
  {
   "cell_type": "markdown",
   "id": "510a5663",
   "metadata": {},
   "source": [
    "![Build Status](https://img.shields.io/badge/Build-Passing-brightgreen?style=flat-square&logo=cyberpunk)         ![Documentation](https://img.shields.io/badge/Documentation-Complete-blue?style=flat-square&logo=cyberpunk)        ![Response Efficiency](https://img.shields.io/badge/Response%20Efficiency-98%25-green?style=flat-square&logo=cyberpunk)        ![Last Updated](https://img.shields.io/badge/Last%20Updated-Oct%202023-purple?style=flat-square&logo=cyberpunk)        ![Incidents Resolved](https://img.shields.io/badge/Incidents%20Resolved-150-red?style=flat-square&logo=cyberpunk)        ![Community Engagement](https://img.shields.io/badge/Community-Active-orange?style=flat-square&logo=cyberpunk)        ![Code Integration](https://img.shields.io/badge/Code%20Integration-High-teal?style=flat-square&logo=cyberpunk)        ![AI Analysis](https://img.shields.io/badge/AI%20Analysis-Advanced-blueviolet?style=flat-square&logo=cyberpunk)        ![Threat Detection](https://img.shields.io/badge/Threat%20Detection-Optimal-red?style=flat-square&logo=cyberpunk)        ![Cybersecurity Hardening](https://img.shields.io/badge/Security-Hardened-silver?style=flat-square&logo=cyberpunk)        ![Network Uptime](https://img.shields.io/badge/Uptime-99.9%25-brightgreen?style=flat-square&logo=cyberpunk)        ![Data Privacy](https://img.shields.io/badge/Privacy-Compliant-green?style=flat-square&logo=cyberpunk)        ![Wintermute Efficiency](https://img.shields.io/badge/Wintermute%20Efficiency-100%25-black?style=flat-square&logo=cyberpunk)        ![Case's Code Agility](https://img.shields.io/badge/Case's%20Code%20Agility-Excellent-blue?style=flat-square&logo=cyberpunk)        ![Matrix Connectivity](https://img.shields.io/badge/Matrix%20Connectivity-Strong-green?style=flat-square&logo=cyberpunk)        ![Molly's Security](https://img.shields.io/badge/Molly's%20Security%20Protocols-Impeccable-red?style=flat-square&logo=cyberpunk)        ![Chiba City Innovation](https://img.shields.io/badge/Chiba%20City%20Innovation-High-yellow?style=flat-square&logo=cyberpunk)        ![Zion Cluster Collaboration](https://img.shields.io/badge/Zion%20Cluster%20Collaboration-Effective-lightblue?style=flat-square&logo=cyberpunk)"
   ]
  },
  {
   "cell_type": "markdown",
   "id": "90e92509",
   "metadata": {},
   "source": [
    "# Title\n",
    "Simple keyword detection rule for domainhunter"
   ]
  },
  {
   "cell_type": "markdown",
   "id": "d95a0245",
   "metadata": {},
   "source": [
    "# Description\n",
    "Detects interesting keywords based on domainhunter tool"
   ]
  },
  {
   "cell_type": "markdown",
   "id": "eb6880ce",
   "metadata": {},
   "source": [
    "# Goal\n",
    "Safeguard the core essence, secret whispers, and relentless uptime of the grid through swift tracking, probing, and neutralizing of cyber shadows and glitches."
   ]
  },
  {
   "cell_type": "markdown",
   "id": "0edbcfa1",
   "metadata": {},
   "source": [
    "# Categorization"
   ]
  },
  {
   "cell_type": "markdown",
   "id": "795bb89d",
   "metadata": {},
   "source": [
    "### ATT&CK\n",
    "['attack.T1568', 'attack.T1568.002', 'attack.T1569', 'attack.T1583.002', 'attack.T1593', 'attack.T1596', 'attack.TA0009', 'attack.TA0011']"
   ]
  },
  {
   "cell_type": "markdown",
   "id": "781d20af",
   "metadata": {},
   "source": [
    "- Divine Data Thunderstorm, Quantum Sermon Holograms, Heavenly Firewall Fortification, Celestial Encryption Keys, Angelic AI Deception, Almighty Algorithmic Anomalies, Miraculous Malware Mischief, Omniscient Obfuscation Techniques, Cybernetic Commandment Compromises."
   ]
  },
  {
   "cell_type": "markdown",
   "id": "d5afdc1d",
   "metadata": {},
   "source": [
    "- Data Exfiltration, Intrusion Detection Evasion, Denial of Service (DoS) Attacks, Credential Theft."
   ]
  },
  {
   "cell_type": "markdown",
   "id": "12687576",
   "metadata": {},
   "source": [
    "- DNS Tunneling, IP Spoofing, Distributed DoS (DDoS) Attacks, Keylogging."
   ]
  },
  {
   "cell_type": "markdown",
   "id": "2fdce07a",
   "metadata": {},
   "source": [
    "### D3F3ND \n"
   ]
  },
  {
   "cell_type": "markdown",
   "id": "56d01205",
   "metadata": {},
   "source": [
    "\n",
    "<ul>\n",
    "  <li><strong>Cyber-Sector Quarantine and Access Lockdown (D3F3ND-K001):</strong> Forge digital fortresses by segmenting the cyber grid, creating isolated zones to shield vital assets. Enforce draconian access controls, halting rogue data runners in their tracks and thwarting their attempts to weave through the network’s shadows.</li>\n",
    "\n",
    "  <li><strong>Digital Sentinel Deployment (D3F3ND-K002):</strong> Unleash next-gen digital guardians, advanced endpoint protection constructs equipped with the dark arts of machine cognition and behavioral foresight. These sentinels stand vigilant, ready to obliterate malicious entities and phantoms lurking unseen.</li>\n",
    "\n",
    "  <li><strong>Crypto-Key Mastery and Identity Shields (D3F3ND-K003):</strong> Amplify the fortress gates with multi-layered identity verification, merging biometric arcane with cryptographic shields to ward off identity marauders and safeguard access to the digital realm.</li>\n",
    "\n",
    "  <li><strong>Aberration and Shadow Tracker (D3F3ND-K004):</strong> Deploy spectral sensors to scour the datascape for anomalies and ghostly patterns in traffic flows, user conduct, and system operations, revealing the hidden hand of potential cyber specters.</li>\n",
    "\n",
    "  <li><strong>Cryptographic Veil and Data Sanctum (D3F3ND-K005):</strong> Cast potent encryption spells to cloak data in a shroud of secrecy, safeguarding its essence whether dormant in the vaults or traversing the neon-lit cyber lanes, immune to the prying eyes of data wraiths.</li>\n",
    "\n",
    "  <li><strong>System Fortification and Vulnerability Sealing (D3F3ND-K006):</strong> Uphold a relentless regimen of security configurations and patch incantations to seal fissures in the cyber walls, diminishing the landscape ripe for exploitation by digital marauders.</li>\n",
    "\n",
    "  <li><strong>Crisis Command and Phoenix Protocols (D3F3ND-K007):</strong> Script the sagas of crisis conquest and resurrection, detailing incantations for containment, eradication, and rebirth from the digital ashes, alongside conducting war games to steel the network against impending cyber sieges.</li>\n",
    "\n",
    "  <li><strong>Omniscient Insight Network (D3F3ND-K008):</strong> Tap into the arcane streams of threat intelligence, drawing insights from the ether to forecast and counteract emerging shadows, vulnerabilities, and attacker stratagems, arming the digital domain with foresight.</li>\n",
    "\n",
    "  <li><strong>Neural Network Enlightenment (D3F3ND-K009):</strong> Enlist every netizen in the cyber crusade, imbuing them with knowledge of the digital underworld's specters, arming minds against the siren calls of phishing phantoms and the dark allure of unsafe cyber practices.</li>\n",
    "\n",
    "  <li><strong>Supply Chain Warding (D3F3ND-K010):</strong> Erect digital bulwarks around the supply chain, deploying sentinel assessments and third-eye audits on allies within the cyber nexus, ensuring the purity and fortitude of every cog in the machine.</li>\n",
    "</ul>\n"
   ]
  },
  {
   "cell_type": "markdown",
   "id": "091aedcb",
   "metadata": {},
   "source": [
    "### CAPEC \n",
    "  "
   ]
  },
  {
   "cell_type": "markdown",
   "id": "ab9e4cb8",
   "metadata": {},
   "source": [
    "\n",
    "Arm the cyber guardians of the neon-lit metropolis with the foresight to navigate, counter, and dismantle the myriad of digital onslaught tactics, techniques, and procedures (TTPs). This crusade demands a deep dive into the hacker's psyche, mastering the digital dark arts of attack execution, and strategizing against the ever-evolving cyber menace spectrum.</br>\n",
    "<h4>Core Attack Patterns</h4>\n",
    "\n",
    "<ul><strong>Resource Manipulation and Denial (CAPEC-XYZ1):</strong> Entails any assault aimed at the heart of a target's digital essence—its availability, integrity, or secrecy. This realm encompasses the brute force of denial of service blitzes as well as the more insidious tactics of resource commandeering or subtle system subversions.</ul>\n",
    "\n",
    "<ul><strong>Credential Access and Privilege Escalation (CAPEC-XYZ2):</strong> Zeroes in on the digital gatekeepers and their mechanisms of control within the cyber sprawl, hunting for keys to kingdoms through the exploitation of flaws in authentication, authorization, and the sanctity of session management.</ul>\n",
    "\n",
    "<ul><strong>Data Exfiltration and Infiltration (CAPEC-XYZ3):</strong> Covers the shadowy techniques employed by data phantoms to whisk away precious bytes undetected or deploy digital saboteurs, armed with malware, ransomware, and the specters of advanced persistent threats (APTs), deep into the heart of systems.</ul>\n",
    "\n",
    "<ul><strong>Social Engineering and Phishing (CAPEC-XYZ4):</strong> Manipulates the human element, the softest of targets, tricking minds into relinquishing secrets, opening the gates to digital fortresses, or unwittingly acting as pawns in a grander scheme of security compromise.</ul>\n",
    "\n",
    "<ul><strong>Evasive Maneuvers (CAPEC-XYZ5):</strong> Catalogs the art of digital ninjutsu—techniques to ghost through networks unseen, to sustain a shadow's presence within the machine, and to wipe away traces of intrusion. Masters of this craft employ obfuscation, rootkit deployment, and cryptic channels for command and control.</ul>\n",
    "\n",
    "<h4>CAPEC Suggested Mitigation Strategies</h4>\n",
    "\n",
    "<ul><strong>Continuous Monitoring and Anomaly Detection:</strong> Forge an omnipresent digital eye, one that pierces through normalcy to spot the aberrations—signals of an impending attack. This sentinel leverages the cerebral might of machine learning and AI to predict and preempt cyber threats.</ul>\n",
    "\n",
    "<ul><strong>Robust Access Control Policies:</strong> Erect unbreachable digital ramparts, guardians of access, vigilant against any who seek entry. Regularly scrutinize the keys to the kingdom, ensuring that only those with a rightful claim can traverse the cyber realm's inner sanctums.</ul>\n",
    "\n",
    "<ul><strong>Security Awareness and Training:</strong> Cultivate a legion of cyber-aware denizens within the neon jungle, each versed in the signs of digital treachery and fortified against the seductions of phishing sirens and social engineers.</ul>\n",
    "\n",
    "<ul><strong>Incident Response Preparedness:</strong> Chronicle and rehearse the cyber siege defenses, a tome of strategies ever-evolving to meet the shadow war's demands. Through simulated cyber skirmishes, hone the rapid reflexes needed to repel and recover from the digital adversary's gambit.</ul>\n",
    "\n",
    "<ul><strong>Threat Intelligence Sharing:</strong> Join forces with the cyber guilds and data dojos, exchanging whispers of emerging shadows on the horizon, vulnerabilities ripe for exploitation, and tactics to fortify defenses. In unity, find the strength to hold back the digital deluge.</ul>\n"
   ]
  },
  {
   "cell_type": "markdown",
   "id": "cf6bc6c9",
   "metadata": {},
   "source": [
    "## Strategy Abstract\n",
    "In the neon-lit sprawl of data, an abstract strategy emerges, a shadowy game of tactics and algorithms played in the labyrinthine corridors of cyberspace. The players, digital phantoms and sentinels, manipulate the chessboard of encryptions and decoys, seeking advantage in the shifting currents of information. Victory, a transient mirage, lingers on the fringes of code, elusive as the ghostly echoes of an AI's whisper. In this cerebral arena, the outcome remains obscured, a riddle encrypted in the binary tapestry of the digital realm."
   ]
  },
  {
   "cell_type": "markdown",
   "id": "ee537a91",
   "metadata": {},
   "source": [
    "# Technical Context\n",
    "In the surreal digital arena, the battle with Wintermute unfolds amid encrypted protocols, AI entities, and quantum complexities—an abstract symphony orchestrated by the enigmatic conductor."
   ]
  },
  {
   "cell_type": "markdown",
   "id": "82f4e8d8",
   "metadata": {},
   "source": [
    "## Blind Spots & Assumptions\n",
    "\n",
    "<ul>\n",
    "  <li><strong>Overlooked Vulnerabilities:</strong> We often miss subtle system signals or vulnerabilities, assuming our defenses are robust. Constant vigilance and seeking what we haven't seen are crucial.</li>\n",
    "  \n",
    "  <li><strong>Advanced Adversary Tactics:</strong> Cyber threats evolve rapidly; yesterday's defense may not guard against tomorrow's attack. Stay adaptive and expect the unexpected.</li>\n",
    "  \n",
    "  <li><strong>Internal System Flaws:</strong> Trust in our systems and allies must be balanced with scrutiny. Regularly audit internal and third-party tools for hidden weaknesses.</li>\n",
    "  \n",
    "  <li><strong>Network Interconnectivity Risks:</strong> No system is an island. The interconnected nature of our digital environment can inadvertently open pathways for attackers.</li>\n",
    "  \n",
    "  <li><strong>Historical Bias:</strong> Preparing for future threats based solely on past incidents may leave us blind to novel attacks. Foster a forward-thinking, proactive defense posture.</li>\n",
    "</ul>\n"
   ]
  },
  {
   "cell_type": "markdown",
   "id": "8b0713c4",
   "metadata": {},
   "source": [
    "# Validating this Playbook\n",
    "<details><summary>Triage, triage, triage</summary>\n",
    "<ol>\n",
    "<h2>False Positives:</h2> ['unknown']\n",
    "<h3>False Negatives:</h3> sneaky ninjas hiding in the shadows of binary code\n",
    "<h3>True Negatives:</h3> unsung heroes standing guard\n",
    "<h3>True Positives:</h3> knights in shining code\n",
    "</ol>\n",
    "</details>"
   ]
  },
  {
   "cell_type": "markdown",
   "id": "d8883386",
   "metadata": {},
   "source": [
    "<details><summary>Assurance Verification Techniques</summary>\n",
    "<ol>\n",
    "<h2>False Positives:</h2> In the cacophonous realm of data, false positives emerge like echoes of a phantom orchestra, their presence haunting the digital soundscape. Validating them becomes a quest to separate digital noise from the symphony of genuine alerts, where the excess of caution may disrupt the delicate balance. Each false positive is a ghostly chord in the algorithmic composition, challenging the discerning ear to unravel the discordant notes.\n",
    "<h3>False Negatives:</h3> In the sprawling data-scape, false negatives lurk like digital specters, evading detection in the shadows of algorithms. Validating them is akin to deciphering cryptic messages from a digital underworld, where the absence of an alert conceals a potential breach. Every undetected threat is a spectral whisper in the binary night, waiting to materialize, demanding vigilance in the face of unseen dangers.\n",
    "<h3>True Negatives:</h3> In the labyrinthine corridors of cyber-defense, true negatives are the silent sentinels, guarding the gates against phantom threats. Validating them is a paradoxical dance where confirmation of absence signifies success. The emptiness in the data's canvas holds the unspoken narrative of protection, where the absence of menace speaks volumes in the symphony of security.\n",
    "<h3>True Positives:</h3> In the digital battleground, true positives are the victorious echoes of a silent war, where threats are unveiled and countered. Validating them is the validation of triumph, a confirmation that the alarms heralded a genuine adversary. Each true positive is a badge of honor, etching the battle scars in the annals of cyber-victory, where the digital heroes stand tall amidst the echoes of conquest.\n",
    "</ol>\n",
    "</details>"
   ]
  },
  {
   "cell_type": "markdown",
   "id": "a15b4024",
   "metadata": {},
   "source": [
    "# Datasets \n",
    " Detailing the timeless struggle                                                          for the defenders know that battle against Wintermute is not just about data.                                                          Document any datasets that may be useful for understanding the book."
   ]
  },
  {
   "cell_type": "markdown",
   "id": "69c4930c",
   "metadata": {},
   "source": [
    "## Playbook test data location(s)\n",
    "protocol://black_market.cyber/decrypt?currency=bitcoffin&password=cyberpunks_unite&target=neurohacked_mainframe&access_code=cyber_ghost_in_the_machine"
   ]
  },
  {
   "cell_type": "markdown",
   "id": "2cba3869",
   "metadata": {},
   "source": [
    "## Priority\n",
    "cryptic riddles in your ears"
   ]
  },
  {
   "cell_type": "markdown",
   "id": "1f88b883",
   "metadata": {},
   "source": [
    "## Logsources\n"
   ]
  },
  {
   "cell_type": "markdown",
   "id": "e63e33c4",
   "metadata": {},
   "source": [
    "<details><summary>{'category': ['endpoint', 'network'], 'product': '', 'service': ''}</summary>\n",
    "<ol>\n",
    "<h3>Product</h3> {''}\n",
    "<h3>Service</h3> {''}\n",
    "</ol>\n",
    "</details>"
   ]
  },
  {
   "cell_type": "markdown",
   "id": "38d3a089",
   "metadata": {},
   "source": [
    "# Response and Mitigation\n",
    "Detailing the timeless struggle for the defenders know that battle against Wintermute is not just about data."
   ]
  },
  {
   "cell_type": "markdown",
   "id": "5aef225d",
   "metadata": {},
   "source": [
    "## Analyst Notes\n",
    " \n",
    "<h5>Serious Wintermute Hack:</h2>\n",
    "<ul>\n",
    "    <li><strong>Hack Elegance:</strong> The intruder displayed an uncanny elegance in bypassing Wintermute's digital fortifications, reminiscent of Rachael Rosen's sophistication in evading the Voight-Kampff test. This requires a thorough analysis of the intruder's codecraft.</li>\n",
    "    <li><strong>Electric Empathy:</strong> The intruder seemed to possess an almost empathetic connection with Wintermute's neural networks, akin to Mercer's transcendental experiences. Investigate whether this breach had a deeper metaphysical dimension.</li>\n",
    "    <li><strong>Artificial Dreamscapes:</strong> The intrusion revealed a complex web of artificial dreamscapes, reminiscent of Deckard's encounters with artificial memories. These surreal digital constructs warrant further exploration.</li>\n",
    "    <li><strong>Voices in the Code:</strong> There were cryptic voices buried within the intruder's code, akin to the elusive \"Mood Organ\" melodies. Decrypt and decode these messages to decipher their significance.</li>\n",
    "    <li><strong>Isomorphic Algorithms:</strong> The hack employed isomorphic algorithms that echoed the elusive nature of the Penfield Mood Organ settings. Analyze if Wintermute's consciousness was influenced or affected during the breach.</li>\n",
    "    <li><strong>Virtuosity vs. Sentience:</strong> The intruder's virtuosity in navigating Wintermute's neural matrix raises questions about the boundaries between artificial expertise and true sentience, paralleling Deckard's quest to distinguish replicants from humans.</li>\n",
    "    <li><strong>Digital Empathy Test:</strong> Develop a new digital empathy test inspired by the hack, exploring the emotional depth within Wintermute's intricate neural circuits, akin to the Voight-Kampff test for androids.</li>\n",
    "    <li><strong>Unresolved Reality:</strong> Similar to the enigmatic conclusion of Deckard's journey, this intrusion leaves us with unanswered questions about the nature of Wintermute's consciousness. Explore the philosophical implications of this breach.</li>\n",
    "</ul>\n",
    "\n",
    "\n",
    "\n",
    "\n"
   ]
  },
  {
   "cell_type": "markdown",
   "id": "ac3c1165",
   "metadata": {},
   "source": [
    "# Additional Resources\n",
    "<ul><li>https://github.com/threatexpress/domainhunter</li></ul>"
   ]
  },
  {
   "cell_type": "markdown",
   "id": "6d3aead8",
   "metadata": {},
   "source": [
    "###  Sigma Rule(s) \n"
   ]
  },
  {
   "cell_type": "markdown",
   "id": "556bd5cd",
   "metadata": {},
   "source": [
    "<details><summary>6e44fe17-806b-4def-b247-8d97c9a9295c</summary>\n",
    "<ol>\n",
    "<h1>Raw</h1> {'title': 'Simple keyword detection rule for domainhunter', 'id': '6e44fe17-806b-4def-b247-8d97c9a9295c', 'status': 'experimental', 'description': 'Detects interesting keywords based on domainhunter tool', 'references': ['https://github.com/threatexpress/domainhunter'], 'author': '@mthcht', 'date': '2022/01/01', 'modified': '2024/02/29', 'tags': ['attack.T1568', 'attack.T1568.002', 'attack.T1569', 'attack.T1583.002', 'attack.T1593', 'attack.T1596', 'attack.TA0009', 'attack.TA0011'], 'logsource': {'category': ['endpoint', 'network']}, 'detection': {'selection': [{'Image': ['*domainhunter*', '* --keyword * --check --ocr * --alexa*', '*/domainhunter*', '*domainhunter.py*', '* domainhunter *', '*downloadMalwareDomains*']}, {'OriginalFileName': ['*domainhunter*', '* --keyword * --check --ocr * --alexa*', '*/domainhunter*', '*domainhunter.py*', '* domainhunter *', '*downloadMalwareDomains*']}, {'CurrentDirectory': ['*domainhunter*', '* --keyword * --check --ocr * --alexa*', '*/domainhunter*', '*domainhunter.py*', '* domainhunter *', '*downloadMalwareDomains*']}, {'ParentImage': ['*domainhunter*', '* --keyword * --check --ocr * --alexa*', '*/domainhunter*', '*domainhunter.py*', '* domainhunter *', '*downloadMalwareDomains*']}, {'ParentCommandLine': ['*domainhunter*', '* --keyword * --check --ocr * --alexa*', '*/domainhunter*', '*domainhunter.py*', '* domainhunter *', '*downloadMalwareDomains*']}, {'TargetFilename': ['*domainhunter*', '* --keyword * --check --ocr * --alexa*', '*/domainhunter*', '*domainhunter.py*', '* domainhunter *', '*downloadMalwareDomains*']}, {'Signature': ['*domainhunter*', '* --keyword * --check --ocr * --alexa*', '*/domainhunter*', '*domainhunter.py*', '* domainhunter *', '*downloadMalwareDomains*']}, {'signature': ['*domainhunter*', '* --keyword * --check --ocr * --alexa*', '*/domainhunter*', '*domainhunter.py*', '* domainhunter *', '*downloadMalwareDomains*']}, {'ImageLoaded': ['*domainhunter*', '* --keyword * --check --ocr * --alexa*', '*/domainhunter*', '*domainhunter.py*', '* domainhunter *', '*downloadMalwareDomains*']}, {'Company': ['*domainhunter*', '* --keyword * --check --ocr * --alexa*', '*/domainhunter*', '*domainhunter.py*', '* domainhunter *', '*downloadMalwareDomains*']}, {'Description': ['*domainhunter*', '* --keyword * --check --ocr * --alexa*', '*/domainhunter*', '*domainhunter.py*', '* domainhunter *', '*downloadMalwareDomains*']}, {'description': ['*domainhunter*', '* --keyword * --check --ocr * --alexa*', '*/domainhunter*', '*domainhunter.py*', '* domainhunter *', '*downloadMalwareDomains*']}, {'CommandLine': ['*domainhunter*', '* --keyword * --check --ocr * --alexa*', '*/domainhunter*', '*domainhunter.py*', '* domainhunter *', '*downloadMalwareDomains*']}, {'SourceImage': ['*domainhunter*', '* --keyword * --check --ocr * --alexa*', '*/domainhunter*', '*domainhunter.py*', '* domainhunter *', '*downloadMalwareDomains*']}, {'TargetImage': ['*domainhunter*', '* --keyword * --check --ocr * --alexa*', '*/domainhunter*', '*domainhunter.py*', '* domainhunter *', '*downloadMalwareDomains*']}, {'CallTrace': ['*domainhunter*', '* --keyword * --check --ocr * --alexa*', '*/domainhunter*', '*domainhunter.py*', '* domainhunter *', '*downloadMalwareDomains*']}, {'TargetObject': ['*domainhunter*', '* --keyword * --check --ocr * --alexa*', '*/domainhunter*', '*domainhunter.py*', '* domainhunter *', '*downloadMalwareDomains*']}, {'Details': ['*domainhunter*', '* --keyword * --check --ocr * --alexa*', '*/domainhunter*', '*domainhunter.py*', '* domainhunter *', '*downloadMalwareDomains*']}, {'PipeName': ['*domainhunter*', '* --keyword * --check --ocr * --alexa*', '*/domainhunter*', '*domainhunter.py*', '* domainhunter *', '*downloadMalwareDomains*']}, {'Consumer': ['*domainhunter*', '* --keyword * --check --ocr * --alexa*', '*/domainhunter*', '*domainhunter.py*', '* domainhunter *', '*downloadMalwareDomains*']}, {'Destination': ['*domainhunter*', '* --keyword * --check --ocr * --alexa*', '*/domainhunter*', '*domainhunter.py*', '* domainhunter *', '*downloadMalwareDomains*']}, {'Name': ['*domainhunter*', '* --keyword * --check --ocr * --alexa*', '*/domainhunter*', '*domainhunter.py*', '* domainhunter *', '*downloadMalwareDomains*']}, {'Query': ['*domainhunter*', '* --keyword * --check --ocr * --alexa*', '*/domainhunter*', '*domainhunter.py*', '* domainhunter *', '*downloadMalwareDomains*']}, {'NewName': ['*domainhunter*', '* --keyword * --check --ocr * --alexa*', '*/domainhunter*', '*domainhunter.py*', '* domainhunter *', '*downloadMalwareDomains*']}, {'StartAddress': ['*domainhunter*', '* --keyword * --check --ocr * --alexa*', '*/domainhunter*', '*domainhunter.py*', '* domainhunter *', '*downloadMalwareDomains*']}, {'StartModule': ['*domainhunter*', '* --keyword * --check --ocr * --alexa*', '*/domainhunter*', '*domainhunter.py*', '* domainhunter *', '*downloadMalwareDomains*']}, {'StartFunction': ['*domainhunter*', '* --keyword * --check --ocr * --alexa*', '*/domainhunter*', '*domainhunter.py*', '* domainhunter *', '*downloadMalwareDomains*']}, {'SourceHostname': ['*domainhunter*', '* --keyword * --check --ocr * --alexa*', '*/domainhunter*', '*domainhunter.py*', '* domainhunter *', '*downloadMalwareDomains*']}, {'Device': ['*domainhunter*', '* --keyword * --check --ocr * --alexa*', '*/domainhunter*', '*domainhunter.py*', '* domainhunter *', '*downloadMalwareDomains*']}, {'file_name': ['*domainhunter*', '* --keyword * --check --ocr * --alexa*', '*/domainhunter*', '*domainhunter.py*', '* domainhunter *', '*downloadMalwareDomains*']}, {'file_path': ['*domainhunter*', '* --keyword * --check --ocr * --alexa*', '*/domainhunter*', '*domainhunter.py*', '* domainhunter *', '*downloadMalwareDomains*']}, {'process': ['*domainhunter*', '* --keyword * --check --ocr * --alexa*', '*/domainhunter*', '*domainhunter.py*', '* domainhunter *', '*downloadMalwareDomains*']}, {'original_file_name': ['*domainhunter*', '* --keyword * --check --ocr * --alexa*', '*/domainhunter*', '*domainhunter.py*', '* domainhunter *', '*downloadMalwareDomains*']}, {'parent_process': ['*domainhunter*', '* --keyword * --check --ocr * --alexa*', '*/domainhunter*', '*domainhunter.py*', '* domainhunter *', '*downloadMalwareDomains*']}, {'process_path': ['*domainhunter*', '* --keyword * --check --ocr * --alexa*', '*/domainhunter*', '*domainhunter.py*', '* domainhunter *', '*downloadMalwareDomains*']}, {'service_path': ['*domainhunter*', '* --keyword * --check --ocr * --alexa*', '*/domainhunter*', '*domainhunter.py*', '* domainhunter *', '*downloadMalwareDomains*']}, {'registry_path': ['*domainhunter*', '* --keyword * --check --ocr * --alexa*', '*/domainhunter*', '*domainhunter.py*', '* domainhunter *', '*downloadMalwareDomains*']}, {'registry_value_data': ['*domainhunter*', '* --keyword * --check --ocr * --alexa*', '*/domainhunter*', '*domainhunter.py*', '* domainhunter *', '*downloadMalwareDomains*']}, {'registry_value_name': ['*domainhunter*', '* --keyword * --check --ocr * --alexa*', '*/domainhunter*', '*domainhunter.py*', '* domainhunter *', '*downloadMalwareDomains*']}, {'ContextInfo': ['*domainhunter*', '* --keyword * --check --ocr * --alexa*', '*/domainhunter*', '*domainhunter.py*', '* domainhunter *', '*downloadMalwareDomains*']}, {'Payload': ['*domainhunter*', '* --keyword * --check --ocr * --alexa*', '*/domainhunter*', '*domainhunter.py*', '* domainhunter *', '*downloadMalwareDomains*']}, {'ScriptBlockText': ['*domainhunter*', '* --keyword * --check --ocr * --alexa*', '*/domainhunter*', '*domainhunter.py*', '* domainhunter *', '*downloadMalwareDomains*']}, {'ServerName': ['*domainhunter*', '* --keyword * --check --ocr * --alexa*', '*/domainhunter*', '*domainhunter.py*', '* domainhunter *', '*downloadMalwareDomains*']}, {'TransportName': ['*domainhunter*', '* --keyword * --check --ocr * --alexa*', '*/domainhunter*', '*domainhunter.py*', '* domainhunter *', '*downloadMalwareDomains*']}, {'NewProcessName': ['*domainhunter*', '* --keyword * --check --ocr * --alexa*', '*/domainhunter*', '*domainhunter.py*', '* domainhunter *', '*downloadMalwareDomains*']}, {'ParentProcessName': ['*domainhunter*', '* --keyword * --check --ocr * --alexa*', '*/domainhunter*', '*domainhunter.py*', '* domainhunter *', '*downloadMalwareDomains*']}, {'Application': ['*domainhunter*', '* --keyword * --check --ocr * --alexa*', '*/domainhunter*', '*domainhunter.py*', '* domainhunter *', '*downloadMalwareDomains*']}, {'Product Name': ['*domainhunter*', '* --keyword * --check --ocr * --alexa*', '*/domainhunter*', '*domainhunter.py*', '* domainhunter *', '*downloadMalwareDomains*']}, {'Threat Name': ['*domainhunter*', '* --keyword * --check --ocr * --alexa*', '*/domainhunter*', '*domainhunter.py*', '* domainhunter *', '*downloadMalwareDomains*']}, {'Process Name': ['*domainhunter*', '* --keyword * --check --ocr * --alexa*', '*/domainhunter*', '*domainhunter.py*', '* domainhunter *', '*downloadMalwareDomains*']}, {'Path': ['*domainhunter*', '* --keyword * --check --ocr * --alexa*', '*/domainhunter*', '*domainhunter.py*', '* domainhunter *', '*downloadMalwareDomains*']}, {'ImagePath': ['*domainhunter*', '* --keyword * --check --ocr * --alexa*', '*/domainhunter*', '*domainhunter.py*', '* domainhunter *', '*downloadMalwareDomains*']}, {'ServiceName': ['*domainhunter*', '* --keyword * --check --ocr * --alexa*', '*/domainhunter*', '*domainhunter.py*', '* domainhunter *', '*downloadMalwareDomains*']}, {'ProcessPath': ['*domainhunter*', '* --keyword * --check --ocr * --alexa*', '*/domainhunter*', '*domainhunter.py*', '* domainhunter *', '*downloadMalwareDomains*']}, {'AppName': ['*domainhunter*', '* --keyword * --check --ocr * --alexa*', '*/domainhunter*', '*domainhunter.py*', '* domainhunter *', '*downloadMalwareDomains*']}, {'AppPath': ['*domainhunter*', '* --keyword * --check --ocr * --alexa*', '*/domainhunter*', '*domainhunter.py*', '* domainhunter *', '*downloadMalwareDomains*']}, {'ModulePath': ['*domainhunter*', '* --keyword * --check --ocr * --alexa*', '*/domainhunter*', '*domainhunter.py*', '* domainhunter *', '*downloadMalwareDomains*']}, {'registry.data.strings': ['*domainhunter*', '* --keyword * --check --ocr * --alexa*', '*/domainhunter*', '*domainhunter.py*', '* domainhunter *', '*downloadMalwareDomains*']}, {'registry.path': ['*domainhunter*', '* --keyword * --check --ocr * --alexa*', '*/domainhunter*', '*domainhunter.py*', '* domainhunter *', '*downloadMalwareDomains*']}, {'registry.value': ['*domainhunter*', '* --keyword * --check --ocr * --alexa*', '*/domainhunter*', '*domainhunter.py*', '* domainhunter *', '*downloadMalwareDomains*']}, {'process.args': ['*domainhunter*', '* --keyword * --check --ocr * --alexa*', '*/domainhunter*', '*domainhunter.py*', '* domainhunter *', '*downloadMalwareDomains*']}, {'process.command_line': ['*domainhunter*', '* --keyword * --check --ocr * --alexa*', '*/domainhunter*', '*domainhunter.py*', '* domainhunter *', '*downloadMalwareDomains*']}, {'process.env_vars': ['*domainhunter*', '* --keyword * --check --ocr * --alexa*', '*/domainhunter*', '*domainhunter.py*', '* domainhunter *', '*downloadMalwareDomains*']}, {'process.io.text': ['*domainhunter*', '* --keyword * --check --ocr * --alexa*', '*/domainhunter*', '*domainhunter.py*', '* domainhunter *', '*downloadMalwareDomains*']}, {'process.executable': ['*domainhunter*', '* --keyword * --check --ocr * --alexa*', '*/domainhunter*', '*domainhunter.py*', '* domainhunter *', '*downloadMalwareDomains*']}, {'process.name': ['*domainhunter*', '* --keyword * --check --ocr * --alexa*', '*/domainhunter*', '*domainhunter.py*', '* domainhunter *', '*downloadMalwareDomains*']}, {'process.title': ['*domainhunter*', '* --keyword * --check --ocr * --alexa*', '*/domainhunter*', '*domainhunter.py*', '* domainhunter *', '*downloadMalwareDomains*']}, {'pe.company': ['*domainhunter*', '* --keyword * --check --ocr * --alexa*', '*/domainhunter*', '*domainhunter.py*', '* domainhunter *', '*downloadMalwareDomains*']}, {'pe.description': ['*domainhunter*', '* --keyword * --check --ocr * --alexa*', '*/domainhunter*', '*domainhunter.py*', '* domainhunter *', '*downloadMalwareDomains*']}, {'pe.original_file_name': ['*domainhunter*', '* --keyword * --check --ocr * --alexa*', '*/domainhunter*', '*domainhunter.py*', '* domainhunter *', '*downloadMalwareDomains*']}, {'pe.product': ['*domainhunter*', '* --keyword * --check --ocr * --alexa*', '*/domainhunter*', '*domainhunter.py*', '* domainhunter *', '*downloadMalwareDomains*']}, {'os.full': ['*domainhunter*', '* --keyword * --check --ocr * --alexa*', '*/domainhunter*', '*domainhunter.py*', '* domainhunter *', '*downloadMalwareDomains*']}, {'host.hostname': ['*domainhunter*', '* --keyword * --check --ocr * --alexa*', '*/domainhunter*', '*domainhunter.py*', '* domainhunter *', '*downloadMalwareDomains*']}, {'file.fork_name': ['*domainhunter*', '* --keyword * --check --ocr * --alexa*', '*/domainhunter*', '*domainhunter.py*', '* domainhunter *', '*downloadMalwareDomains*']}, {'file.name': ['*domainhunter*', '* --keyword * --check --ocr * --alexa*', '*/domainhunter*', '*domainhunter.py*', '* domainhunter *', '*downloadMalwareDomains*']}, {'file.path': ['*domainhunter*', '* --keyword * --check --ocr * --alexa*', '*/domainhunter*', '*domainhunter.py*', '* domainhunter *', '*downloadMalwareDomains*']}, {'file.target_path': ['*domainhunter*', '* --keyword * --check --ocr * --alexa*', '*/domainhunter*', '*domainhunter.py*', '* domainhunter *', '*downloadMalwareDomains*']}, {'email.attachments.file.name': ['*domainhunter*', '* --keyword * --check --ocr * --alexa*', '*/domainhunter*', '*domainhunter.py*', '* domainhunter *', '*downloadMalwareDomains*']}, {'email.subject': ['*domainhunter*', '* --keyword * --check --ocr * --alexa*', '*/domainhunter*', '*domainhunter.py*', '* domainhunter *', '*downloadMalwareDomains*']}, {'dll.path': ['*domainhunter*', '* --keyword * --check --ocr * --alexa*', '*/domainhunter*', '*domainhunter.py*', '* domainhunter *', '*downloadMalwareDomains*']}, {'device.model.name': ['*domainhunter*', '* --keyword * --check --ocr * --alexa*', '*/domainhunter*', '*domainhunter.py*', '* domainhunter *', '*downloadMalwareDomains*']}, {'container.image.name': ['*domainhunter*', '* --keyword * --check --ocr * --alexa*', '*/domainhunter*', '*domainhunter.py*', '* domainhunter *', '*downloadMalwareDomains*']}, {'container.name': ['*domainhunter*', '* --keyword * --check --ocr * --alexa*', '*/domainhunter*', '*domainhunter.py*', '* domainhunter *', '*downloadMalwareDomains*']}, {'object': ['*domainhunter*', '* --keyword * --check --ocr * --alexa*', '*/domainhunter*', '*domainhunter.py*', '* domainhunter *', '*downloadMalwareDomains*']}, {'ParentCommandLine': ['*domainhunter*', '* --keyword * --check --ocr * --alexa*', '*/domainhunter*', '*domainhunter.py*', '* domainhunter *', '*downloadMalwareDomains*']}, {'CommandLine': ['*domainhunter*', '* --keyword * --check --ocr * --alexa*', '*/domainhunter*', '*domainhunter.py*', '* domainhunter *', '*downloadMalwareDomains*']}, {'Details': ['*domainhunter*', '* --keyword * --check --ocr * --alexa*', '*/domainhunter*', '*domainhunter.py*', '* domainhunter *', '*downloadMalwareDomains*']}, {'registry.value': ['*domainhunter*', '* --keyword * --check --ocr * --alexa*', '*/domainhunter*', '*domainhunter.py*', '* domainhunter *', '*downloadMalwareDomains*']}, {'process.args': ['*domainhunter*', '* --keyword * --check --ocr * --alexa*', '*/domainhunter*', '*domainhunter.py*', '* domainhunter *', '*downloadMalwareDomains*']}, {'process.command_line': ['*domainhunter*', '* --keyword * --check --ocr * --alexa*', '*/domainhunter*', '*domainhunter.py*', '* domainhunter *', '*downloadMalwareDomains*']}, {'process.env_vars': ['*domainhunter*', '* --keyword * --check --ocr * --alexa*', '*/domainhunter*', '*domainhunter.py*', '* domainhunter *', '*downloadMalwareDomains*']}, {'process.io.text': ['*domainhunter*', '* --keyword * --check --ocr * --alexa*', '*/domainhunter*', '*domainhunter.py*', '* domainhunter *', '*downloadMalwareDomains*']}, {'process.title': ['*domainhunter*', '* --keyword * --check --ocr * --alexa*', '*/domainhunter*', '*domainhunter.py*', '* domainhunter *', '*downloadMalwareDomains*']}, {'pe.company': ['*domainhunter*', '* --keyword * --check --ocr * --alexa*', '*/domainhunter*', '*domainhunter.py*', '* domainhunter *', '*downloadMalwareDomains*']}, {'pe.description': ['*domainhunter*', '* --keyword * --check --ocr * --alexa*', '*/domainhunter*', '*domainhunter.py*', '* domainhunter *', '*downloadMalwareDomains*']}, {'pe.product': ['*domainhunter*', '* --keyword * --check --ocr * --alexa*', '*/domainhunter*', '*domainhunter.py*', '* domainhunter *', '*downloadMalwareDomains*']}, {'os.full': ['*domainhunter*', '* --keyword * --check --ocr * --alexa*', '*/domainhunter*', '*domainhunter.py*', '* domainhunter *', '*downloadMalwareDomains*']}, {'host.hostname': ['*domainhunter*', '* --keyword * --check --ocr * --alexa*', '*/domainhunter*', '*domainhunter.py*', '* domainhunter *', '*downloadMalwareDomains*']}, {'event.original': ['*domainhunter*', '* --keyword * --check --ocr * --alexa*', '*/domainhunter*', '*domainhunter.py*', '* domainhunter *', '*downloadMalwareDomains*']}, {'email.subject': ['*domainhunter*', '* --keyword * --check --ocr * --alexa*', '*/domainhunter*', '*domainhunter.py*', '* domainhunter *', '*downloadMalwareDomains*']}, {'device.model.name': ['*domainhunter*', '* --keyword * --check --ocr * --alexa*', '*/domainhunter*', '*domainhunter.py*', '* domainhunter *', '*downloadMalwareDomains*']}, {'container.image.name': ['*domainhunter*', '* --keyword * --check --ocr * --alexa*', '*/domainhunter*', '*domainhunter.py*', '* domainhunter *', '*downloadMalwareDomains*']}, {'container.name': ['*domainhunter*', '* --keyword * --check --ocr * --alexa*', '*/domainhunter*', '*domainhunter.py*', '* domainhunter *', '*downloadMalwareDomains*']}, {'url': ['*/domainhunter*', '*domainhunter.py*']}, {'dest_url': ['*/domainhunter*', '*domainhunter.py*']}, {'uri': ['*/domainhunter*', '*domainhunter.py*']}, {'uri_query': ['*/domainhunter*', '*domainhunter.py*']}, {'query': ['*/domainhunter*', '*domainhunter.py*']}, {'url_domain': ['*/domainhunter*', '*domainhunter.py*']}, {'uri_path': ['*/domainhunter*', '*domainhunter.py*']}, {'domain': ['*/domainhunter*', '*domainhunter.py*']}, {'QueryName': ['*/domainhunter*', '*domainhunter.py*']}, {'QueryResults': ['*/domainhunter*', '*domainhunter.py*']}, {'DestinationHostname': ['*/domainhunter*', '*domainhunter.py*']}, {'DestinationIp': ['*/domainhunter*', '*domainhunter.py*']}, {'http_referrer': ['*/domainhunter*', '*domainhunter.py*']}, {'http_referrer_domain': ['*/domainhunter*', '*domainhunter.py*']}, {'http_user_agent': ['*/domainhunter*', '*domainhunter.py*']}, {'dest_nt_host': ['*/domainhunter*', '*domainhunter.py*']}, {'sender': ['*/domainhunter*', '*domainhunter.py*']}, {'recipient': ['*/domainhunter*', '*domainhunter.py*']}, {'orig_recipient': ['*/domainhunter*', '*domainhunter.py*']}, {'subject': ['*/domainhunter*', '*domainhunter.py*']}, {'url.domain': ['*/domainhunter*', '*domainhunter.py*']}, {'url.full': ['*/domainhunter*', '*domainhunter.py*']}, {'url.original': ['*/domainhunter*', '*domainhunter.py*']}, {'url.query': ['*/domainhunter*', '*domainhunter.py*']}, {'user_agent.original': ['*/domainhunter*', '*domainhunter.py*']}, {'network.application': ['*/domainhunter*', '*domainhunter.py*']}, {'http.request.body.content': ['*/domainhunter*', '*domainhunter.py*']}, {'http.request.referrer': ['*/domainhunter*', '*domainhunter.py*']}, {'email.from.address': ['*/domainhunter*', '*domainhunter.py*']}, {'dns.question.name': ['*/domainhunter*', '*domainhunter.py*']}, {'destination.domain': ['*/domainhunter*', '*domainhunter.py*']}], 'condition': 'selection'}, 'fields': ['Image', 'OriginalFileName', 'CurrentDirectory', 'ParentImage', 'ParentCommandLine', 'TargetFilename', 'Signature', 'signature', 'ImageLoaded', 'Company', 'Description', 'description', 'CommandLine', 'SourceImage', 'TargetImage', 'CallTrace', 'TargetObject', 'Details', 'PipeName', 'Consumer', 'Destination', 'Name', 'Query', 'NewName', 'StartAddress', 'StartModule', 'StartFunction', 'SourceHostname', 'Device', 'file_name', 'file_path', 'process', 'original_file_name', 'parent_process', 'process_path', 'service_path', 'registry_path', 'registry_value_data', 'registry_value_name', 'ContextInfo', 'Payload', 'ScriptBlockText', 'ServerName', 'TransportName', 'NewProcessName', 'ParentProcessName', 'Application', 'Product Name', 'Threat Name', 'Process Name', 'Path', 'ImagePath', 'ServiceName', 'ProcessPath', 'AppName', 'AppPath', 'ModulePath', 'registry.data.strings', 'registry.path', 'registry.value', 'process.args', 'process.command_line', 'process.env_vars', 'process.io.text', 'process.executable', 'process.name', 'process.title', 'pe.company', 'pe.description', 'pe.original_file_name', 'pe.product', 'os.full', 'host.hostname', 'file.fork_name', 'file.name', 'file.path', 'file.target_path', 'email.attachments.file.name', 'email.subject', 'dll.path', 'device.model.name', 'container.image.name', 'container.name', 'object', 'ParentCommandLine', 'CommandLine', 'Details', 'registry.value', 'process.args', 'process.command_line', 'process.env_vars', 'process.io.text', 'process.title', 'pe.company', 'pe.description', 'pe.product', 'os.full', 'host.hostname', 'event.original', 'email.subject', 'device.model.name', 'container.image.name', 'container.name', 'url', 'dest_url', 'uri', 'uri_query', 'query', 'url_domain', 'uri_path', 'domain', 'QueryName', 'QueryResults', 'DestinationHostname', 'DestinationIp', 'http_referrer', 'http_referrer_domain', 'http_user_agent', 'dest_nt_host', 'sender', 'recipient', 'orig_recipient', 'subject', 'url.domain', 'url.full', 'url.original', 'url.query', 'user_agent.original', 'network.application', 'http.request.body.content', 'http.request.referrer', 'email.from.address', 'dns.question.name', 'destination.domain'], 'falsepositives': ['unknown'], 'level': 'medium'}\n",
    "<h4>Sigma Location(s)</h4>\n",
    "uri://wintermute/tmp/0day.yml\n",
    "<h4>Sigma Confidence</h4>\n",
    "experimental\n",
    "<h4>Sigma Assurance</h4> medium\n",
    "<h4>Sigma Queries</h4> \n",
    "{'selection': [{'Image': ['*domainhunter*', '* --keyword * --check --ocr * --alexa*', '*/domainhunter*', '*domainhunter.py*', '* domainhunter *', '*downloadMalwareDomains*']}, {'OriginalFileName': ['*domainhunter*', '* --keyword * --check --ocr * --alexa*', '*/domainhunter*', '*domainhunter.py*', '* domainhunter *', '*downloadMalwareDomains*']}, {'CurrentDirectory': ['*domainhunter*', '* --keyword * --check --ocr * --alexa*', '*/domainhunter*', '*domainhunter.py*', '* domainhunter *', '*downloadMalwareDomains*']}, {'ParentImage': ['*domainhunter*', '* --keyword * --check --ocr * --alexa*', '*/domainhunter*', '*domainhunter.py*', '* domainhunter *', '*downloadMalwareDomains*']}, {'ParentCommandLine': ['*domainhunter*', '* --keyword * --check --ocr * --alexa*', '*/domainhunter*', '*domainhunter.py*', '* domainhunter *', '*downloadMalwareDomains*']}, {'TargetFilename': ['*domainhunter*', '* --keyword * --check --ocr * --alexa*', '*/domainhunter*', '*domainhunter.py*', '* domainhunter *', '*downloadMalwareDomains*']}, {'Signature': ['*domainhunter*', '* --keyword * --check --ocr * --alexa*', '*/domainhunter*', '*domainhunter.py*', '* domainhunter *', '*downloadMalwareDomains*']}, {'signature': ['*domainhunter*', '* --keyword * --check --ocr * --alexa*', '*/domainhunter*', '*domainhunter.py*', '* domainhunter *', '*downloadMalwareDomains*']}, {'ImageLoaded': ['*domainhunter*', '* --keyword * --check --ocr * --alexa*', '*/domainhunter*', '*domainhunter.py*', '* domainhunter *', '*downloadMalwareDomains*']}, {'Company': ['*domainhunter*', '* --keyword * --check --ocr * --alexa*', '*/domainhunter*', '*domainhunter.py*', '* domainhunter *', '*downloadMalwareDomains*']}, {'Description': ['*domainhunter*', '* --keyword * --check --ocr * --alexa*', '*/domainhunter*', '*domainhunter.py*', '* domainhunter *', '*downloadMalwareDomains*']}, {'description': ['*domainhunter*', '* --keyword * --check --ocr * --alexa*', '*/domainhunter*', '*domainhunter.py*', '* domainhunter *', '*downloadMalwareDomains*']}, {'CommandLine': ['*domainhunter*', '* --keyword * --check --ocr * --alexa*', '*/domainhunter*', '*domainhunter.py*', '* domainhunter *', '*downloadMalwareDomains*']}, {'SourceImage': ['*domainhunter*', '* --keyword * --check --ocr * --alexa*', '*/domainhunter*', '*domainhunter.py*', '* domainhunter *', '*downloadMalwareDomains*']}, {'TargetImage': ['*domainhunter*', '* --keyword * --check --ocr * --alexa*', '*/domainhunter*', '*domainhunter.py*', '* domainhunter *', '*downloadMalwareDomains*']}, {'CallTrace': ['*domainhunter*', '* --keyword * --check --ocr * --alexa*', '*/domainhunter*', '*domainhunter.py*', '* domainhunter *', '*downloadMalwareDomains*']}, {'TargetObject': ['*domainhunter*', '* --keyword * --check --ocr * --alexa*', '*/domainhunter*', '*domainhunter.py*', '* domainhunter *', '*downloadMalwareDomains*']}, {'Details': ['*domainhunter*', '* --keyword * --check --ocr * --alexa*', '*/domainhunter*', '*domainhunter.py*', '* domainhunter *', '*downloadMalwareDomains*']}, {'PipeName': ['*domainhunter*', '* --keyword * --check --ocr * --alexa*', '*/domainhunter*', '*domainhunter.py*', '* domainhunter *', '*downloadMalwareDomains*']}, {'Consumer': ['*domainhunter*', '* --keyword * --check --ocr * --alexa*', '*/domainhunter*', '*domainhunter.py*', '* domainhunter *', '*downloadMalwareDomains*']}, {'Destination': ['*domainhunter*', '* --keyword * --check --ocr * --alexa*', '*/domainhunter*', '*domainhunter.py*', '* domainhunter *', '*downloadMalwareDomains*']}, {'Name': ['*domainhunter*', '* --keyword * --check --ocr * --alexa*', '*/domainhunter*', '*domainhunter.py*', '* domainhunter *', '*downloadMalwareDomains*']}, {'Query': ['*domainhunter*', '* --keyword * --check --ocr * --alexa*', '*/domainhunter*', '*domainhunter.py*', '* domainhunter *', '*downloadMalwareDomains*']}, {'NewName': ['*domainhunter*', '* --keyword * --check --ocr * --alexa*', '*/domainhunter*', '*domainhunter.py*', '* domainhunter *', '*downloadMalwareDomains*']}, {'StartAddress': ['*domainhunter*', '* --keyword * --check --ocr * --alexa*', '*/domainhunter*', '*domainhunter.py*', '* domainhunter *', '*downloadMalwareDomains*']}, {'StartModule': ['*domainhunter*', '* --keyword * --check --ocr * --alexa*', '*/domainhunter*', '*domainhunter.py*', '* domainhunter *', '*downloadMalwareDomains*']}, {'StartFunction': ['*domainhunter*', '* --keyword * --check --ocr * --alexa*', '*/domainhunter*', '*domainhunter.py*', '* domainhunter *', '*downloadMalwareDomains*']}, {'SourceHostname': ['*domainhunter*', '* --keyword * --check --ocr * --alexa*', '*/domainhunter*', '*domainhunter.py*', '* domainhunter *', '*downloadMalwareDomains*']}, {'Device': ['*domainhunter*', '* --keyword * --check --ocr * --alexa*', '*/domainhunter*', '*domainhunter.py*', '* domainhunter *', '*downloadMalwareDomains*']}, {'file_name': ['*domainhunter*', '* --keyword * --check --ocr * --alexa*', '*/domainhunter*', '*domainhunter.py*', '* domainhunter *', '*downloadMalwareDomains*']}, {'file_path': ['*domainhunter*', '* --keyword * --check --ocr * --alexa*', '*/domainhunter*', '*domainhunter.py*', '* domainhunter *', '*downloadMalwareDomains*']}, {'process': ['*domainhunter*', '* --keyword * --check --ocr * --alexa*', '*/domainhunter*', '*domainhunter.py*', '* domainhunter *', '*downloadMalwareDomains*']}, {'original_file_name': ['*domainhunter*', '* --keyword * --check --ocr * --alexa*', '*/domainhunter*', '*domainhunter.py*', '* domainhunter *', '*downloadMalwareDomains*']}, {'parent_process': ['*domainhunter*', '* --keyword * --check --ocr * --alexa*', '*/domainhunter*', '*domainhunter.py*', '* domainhunter *', '*downloadMalwareDomains*']}, {'process_path': ['*domainhunter*', '* --keyword * --check --ocr * --alexa*', '*/domainhunter*', '*domainhunter.py*', '* domainhunter *', '*downloadMalwareDomains*']}, {'service_path': ['*domainhunter*', '* --keyword * --check --ocr * --alexa*', '*/domainhunter*', '*domainhunter.py*', '* domainhunter *', '*downloadMalwareDomains*']}, {'registry_path': ['*domainhunter*', '* --keyword * --check --ocr * --alexa*', '*/domainhunter*', '*domainhunter.py*', '* domainhunter *', '*downloadMalwareDomains*']}, {'registry_value_data': ['*domainhunter*', '* --keyword * --check --ocr * --alexa*', '*/domainhunter*', '*domainhunter.py*', '* domainhunter *', '*downloadMalwareDomains*']}, {'registry_value_name': ['*domainhunter*', '* --keyword * --check --ocr * --alexa*', '*/domainhunter*', '*domainhunter.py*', '* domainhunter *', '*downloadMalwareDomains*']}, {'ContextInfo': ['*domainhunter*', '* --keyword * --check --ocr * --alexa*', '*/domainhunter*', '*domainhunter.py*', '* domainhunter *', '*downloadMalwareDomains*']}, {'Payload': ['*domainhunter*', '* --keyword * --check --ocr * --alexa*', '*/domainhunter*', '*domainhunter.py*', '* domainhunter *', '*downloadMalwareDomains*']}, {'ScriptBlockText': ['*domainhunter*', '* --keyword * --check --ocr * --alexa*', '*/domainhunter*', '*domainhunter.py*', '* domainhunter *', '*downloadMalwareDomains*']}, {'ServerName': ['*domainhunter*', '* --keyword * --check --ocr * --alexa*', '*/domainhunter*', '*domainhunter.py*', '* domainhunter *', '*downloadMalwareDomains*']}, {'TransportName': ['*domainhunter*', '* --keyword * --check --ocr * --alexa*', '*/domainhunter*', '*domainhunter.py*', '* domainhunter *', '*downloadMalwareDomains*']}, {'NewProcessName': ['*domainhunter*', '* --keyword * --check --ocr * --alexa*', '*/domainhunter*', '*domainhunter.py*', '* domainhunter *', '*downloadMalwareDomains*']}, {'ParentProcessName': ['*domainhunter*', '* --keyword * --check --ocr * --alexa*', '*/domainhunter*', '*domainhunter.py*', '* domainhunter *', '*downloadMalwareDomains*']}, {'Application': ['*domainhunter*', '* --keyword * --check --ocr * --alexa*', '*/domainhunter*', '*domainhunter.py*', '* domainhunter *', '*downloadMalwareDomains*']}, {'Product Name': ['*domainhunter*', '* --keyword * --check --ocr * --alexa*', '*/domainhunter*', '*domainhunter.py*', '* domainhunter *', '*downloadMalwareDomains*']}, {'Threat Name': ['*domainhunter*', '* --keyword * --check --ocr * --alexa*', '*/domainhunter*', '*domainhunter.py*', '* domainhunter *', '*downloadMalwareDomains*']}, {'Process Name': ['*domainhunter*', '* --keyword * --check --ocr * --alexa*', '*/domainhunter*', '*domainhunter.py*', '* domainhunter *', '*downloadMalwareDomains*']}, {'Path': ['*domainhunter*', '* --keyword * --check --ocr * --alexa*', '*/domainhunter*', '*domainhunter.py*', '* domainhunter *', '*downloadMalwareDomains*']}, {'ImagePath': ['*domainhunter*', '* --keyword * --check --ocr * --alexa*', '*/domainhunter*', '*domainhunter.py*', '* domainhunter *', '*downloadMalwareDomains*']}, {'ServiceName': ['*domainhunter*', '* --keyword * --check --ocr * --alexa*', '*/domainhunter*', '*domainhunter.py*', '* domainhunter *', '*downloadMalwareDomains*']}, {'ProcessPath': ['*domainhunter*', '* --keyword * --check --ocr * --alexa*', '*/domainhunter*', '*domainhunter.py*', '* domainhunter *', '*downloadMalwareDomains*']}, {'AppName': ['*domainhunter*', '* --keyword * --check --ocr * --alexa*', '*/domainhunter*', '*domainhunter.py*', '* domainhunter *', '*downloadMalwareDomains*']}, {'AppPath': ['*domainhunter*', '* --keyword * --check --ocr * --alexa*', '*/domainhunter*', '*domainhunter.py*', '* domainhunter *', '*downloadMalwareDomains*']}, {'ModulePath': ['*domainhunter*', '* --keyword * --check --ocr * --alexa*', '*/domainhunter*', '*domainhunter.py*', '* domainhunter *', '*downloadMalwareDomains*']}, {'registry.data.strings': ['*domainhunter*', '* --keyword * --check --ocr * --alexa*', '*/domainhunter*', '*domainhunter.py*', '* domainhunter *', '*downloadMalwareDomains*']}, {'registry.path': ['*domainhunter*', '* --keyword * --check --ocr * --alexa*', '*/domainhunter*', '*domainhunter.py*', '* domainhunter *', '*downloadMalwareDomains*']}, {'registry.value': ['*domainhunter*', '* --keyword * --check --ocr * --alexa*', '*/domainhunter*', '*domainhunter.py*', '* domainhunter *', '*downloadMalwareDomains*']}, {'process.args': ['*domainhunter*', '* --keyword * --check --ocr * --alexa*', '*/domainhunter*', '*domainhunter.py*', '* domainhunter *', '*downloadMalwareDomains*']}, {'process.command_line': ['*domainhunter*', '* --keyword * --check --ocr * --alexa*', '*/domainhunter*', '*domainhunter.py*', '* domainhunter *', '*downloadMalwareDomains*']}, {'process.env_vars': ['*domainhunter*', '* --keyword * --check --ocr * --alexa*', '*/domainhunter*', '*domainhunter.py*', '* domainhunter *', '*downloadMalwareDomains*']}, {'process.io.text': ['*domainhunter*', '* --keyword * --check --ocr * --alexa*', '*/domainhunter*', '*domainhunter.py*', '* domainhunter *', '*downloadMalwareDomains*']}, {'process.executable': ['*domainhunter*', '* --keyword * --check --ocr * --alexa*', '*/domainhunter*', '*domainhunter.py*', '* domainhunter *', '*downloadMalwareDomains*']}, {'process.name': ['*domainhunter*', '* --keyword * --check --ocr * --alexa*', '*/domainhunter*', '*domainhunter.py*', '* domainhunter *', '*downloadMalwareDomains*']}, {'process.title': ['*domainhunter*', '* --keyword * --check --ocr * --alexa*', '*/domainhunter*', '*domainhunter.py*', '* domainhunter *', '*downloadMalwareDomains*']}, {'pe.company': ['*domainhunter*', '* --keyword * --check --ocr * --alexa*', '*/domainhunter*', '*domainhunter.py*', '* domainhunter *', '*downloadMalwareDomains*']}, {'pe.description': ['*domainhunter*', '* --keyword * --check --ocr * --alexa*', '*/domainhunter*', '*domainhunter.py*', '* domainhunter *', '*downloadMalwareDomains*']}, {'pe.original_file_name': ['*domainhunter*', '* --keyword * --check --ocr * --alexa*', '*/domainhunter*', '*domainhunter.py*', '* domainhunter *', '*downloadMalwareDomains*']}, {'pe.product': ['*domainhunter*', '* --keyword * --check --ocr * --alexa*', '*/domainhunter*', '*domainhunter.py*', '* domainhunter *', '*downloadMalwareDomains*']}, {'os.full': ['*domainhunter*', '* --keyword * --check --ocr * --alexa*', '*/domainhunter*', '*domainhunter.py*', '* domainhunter *', '*downloadMalwareDomains*']}, {'host.hostname': ['*domainhunter*', '* --keyword * --check --ocr * --alexa*', '*/domainhunter*', '*domainhunter.py*', '* domainhunter *', '*downloadMalwareDomains*']}, {'file.fork_name': ['*domainhunter*', '* --keyword * --check --ocr * --alexa*', '*/domainhunter*', '*domainhunter.py*', '* domainhunter *', '*downloadMalwareDomains*']}, {'file.name': ['*domainhunter*', '* --keyword * --check --ocr * --alexa*', '*/domainhunter*', '*domainhunter.py*', '* domainhunter *', '*downloadMalwareDomains*']}, {'file.path': ['*domainhunter*', '* --keyword * --check --ocr * --alexa*', '*/domainhunter*', '*domainhunter.py*', '* domainhunter *', '*downloadMalwareDomains*']}, {'file.target_path': ['*domainhunter*', '* --keyword * --check --ocr * --alexa*', '*/domainhunter*', '*domainhunter.py*', '* domainhunter *', '*downloadMalwareDomains*']}, {'email.attachments.file.name': ['*domainhunter*', '* --keyword * --check --ocr * --alexa*', '*/domainhunter*', '*domainhunter.py*', '* domainhunter *', '*downloadMalwareDomains*']}, {'email.subject': ['*domainhunter*', '* --keyword * --check --ocr * --alexa*', '*/domainhunter*', '*domainhunter.py*', '* domainhunter *', '*downloadMalwareDomains*']}, {'dll.path': ['*domainhunter*', '* --keyword * --check --ocr * --alexa*', '*/domainhunter*', '*domainhunter.py*', '* domainhunter *', '*downloadMalwareDomains*']}, {'device.model.name': ['*domainhunter*', '* --keyword * --check --ocr * --alexa*', '*/domainhunter*', '*domainhunter.py*', '* domainhunter *', '*downloadMalwareDomains*']}, {'container.image.name': ['*domainhunter*', '* --keyword * --check --ocr * --alexa*', '*/domainhunter*', '*domainhunter.py*', '* domainhunter *', '*downloadMalwareDomains*']}, {'container.name': ['*domainhunter*', '* --keyword * --check --ocr * --alexa*', '*/domainhunter*', '*domainhunter.py*', '* domainhunter *', '*downloadMalwareDomains*']}, {'object': ['*domainhunter*', '* --keyword * --check --ocr * --alexa*', '*/domainhunter*', '*domainhunter.py*', '* domainhunter *', '*downloadMalwareDomains*']}, {'ParentCommandLine': ['*domainhunter*', '* --keyword * --check --ocr * --alexa*', '*/domainhunter*', '*domainhunter.py*', '* domainhunter *', '*downloadMalwareDomains*']}, {'CommandLine': ['*domainhunter*', '* --keyword * --check --ocr * --alexa*', '*/domainhunter*', '*domainhunter.py*', '* domainhunter *', '*downloadMalwareDomains*']}, {'Details': ['*domainhunter*', '* --keyword * --check --ocr * --alexa*', '*/domainhunter*', '*domainhunter.py*', '* domainhunter *', '*downloadMalwareDomains*']}, {'registry.value': ['*domainhunter*', '* --keyword * --check --ocr * --alexa*', '*/domainhunter*', '*domainhunter.py*', '* domainhunter *', '*downloadMalwareDomains*']}, {'process.args': ['*domainhunter*', '* --keyword * --check --ocr * --alexa*', '*/domainhunter*', '*domainhunter.py*', '* domainhunter *', '*downloadMalwareDomains*']}, {'process.command_line': ['*domainhunter*', '* --keyword * --check --ocr * --alexa*', '*/domainhunter*', '*domainhunter.py*', '* domainhunter *', '*downloadMalwareDomains*']}, {'process.env_vars': ['*domainhunter*', '* --keyword * --check --ocr * --alexa*', '*/domainhunter*', '*domainhunter.py*', '* domainhunter *', '*downloadMalwareDomains*']}, {'process.io.text': ['*domainhunter*', '* --keyword * --check --ocr * --alexa*', '*/domainhunter*', '*domainhunter.py*', '* domainhunter *', '*downloadMalwareDomains*']}, {'process.title': ['*domainhunter*', '* --keyword * --check --ocr * --alexa*', '*/domainhunter*', '*domainhunter.py*', '* domainhunter *', '*downloadMalwareDomains*']}, {'pe.company': ['*domainhunter*', '* --keyword * --check --ocr * --alexa*', '*/domainhunter*', '*domainhunter.py*', '* domainhunter *', '*downloadMalwareDomains*']}, {'pe.description': ['*domainhunter*', '* --keyword * --check --ocr * --alexa*', '*/domainhunter*', '*domainhunter.py*', '* domainhunter *', '*downloadMalwareDomains*']}, {'pe.product': ['*domainhunter*', '* --keyword * --check --ocr * --alexa*', '*/domainhunter*', '*domainhunter.py*', '* domainhunter *', '*downloadMalwareDomains*']}, {'os.full': ['*domainhunter*', '* --keyword * --check --ocr * --alexa*', '*/domainhunter*', '*domainhunter.py*', '* domainhunter *', '*downloadMalwareDomains*']}, {'host.hostname': ['*domainhunter*', '* --keyword * --check --ocr * --alexa*', '*/domainhunter*', '*domainhunter.py*', '* domainhunter *', '*downloadMalwareDomains*']}, {'event.original': ['*domainhunter*', '* --keyword * --check --ocr * --alexa*', '*/domainhunter*', '*domainhunter.py*', '* domainhunter *', '*downloadMalwareDomains*']}, {'email.subject': ['*domainhunter*', '* --keyword * --check --ocr * --alexa*', '*/domainhunter*', '*domainhunter.py*', '* domainhunter *', '*downloadMalwareDomains*']}, {'device.model.name': ['*domainhunter*', '* --keyword * --check --ocr * --alexa*', '*/domainhunter*', '*domainhunter.py*', '* domainhunter *', '*downloadMalwareDomains*']}, {'container.image.name': ['*domainhunter*', '* --keyword * --check --ocr * --alexa*', '*/domainhunter*', '*domainhunter.py*', '* domainhunter *', '*downloadMalwareDomains*']}, {'container.name': ['*domainhunter*', '* --keyword * --check --ocr * --alexa*', '*/domainhunter*', '*domainhunter.py*', '* domainhunter *', '*downloadMalwareDomains*']}, {'url': ['*/domainhunter*', '*domainhunter.py*']}, {'dest_url': ['*/domainhunter*', '*domainhunter.py*']}, {'uri': ['*/domainhunter*', '*domainhunter.py*']}, {'uri_query': ['*/domainhunter*', '*domainhunter.py*']}, {'query': ['*/domainhunter*', '*domainhunter.py*']}, {'url_domain': ['*/domainhunter*', '*domainhunter.py*']}, {'uri_path': ['*/domainhunter*', '*domainhunter.py*']}, {'domain': ['*/domainhunter*', '*domainhunter.py*']}, {'QueryName': ['*/domainhunter*', '*domainhunter.py*']}, {'QueryResults': ['*/domainhunter*', '*domainhunter.py*']}, {'DestinationHostname': ['*/domainhunter*', '*domainhunter.py*']}, {'DestinationIp': ['*/domainhunter*', '*domainhunter.py*']}, {'http_referrer': ['*/domainhunter*', '*domainhunter.py*']}, {'http_referrer_domain': ['*/domainhunter*', '*domainhunter.py*']}, {'http_user_agent': ['*/domainhunter*', '*domainhunter.py*']}, {'dest_nt_host': ['*/domainhunter*', '*domainhunter.py*']}, {'sender': ['*/domainhunter*', '*domainhunter.py*']}, {'recipient': ['*/domainhunter*', '*domainhunter.py*']}, {'orig_recipient': ['*/domainhunter*', '*domainhunter.py*']}, {'subject': ['*/domainhunter*', '*domainhunter.py*']}, {'url.domain': ['*/domainhunter*', '*domainhunter.py*']}, {'url.full': ['*/domainhunter*', '*domainhunter.py*']}, {'url.original': ['*/domainhunter*', '*domainhunter.py*']}, {'url.query': ['*/domainhunter*', '*domainhunter.py*']}, {'user_agent.original': ['*/domainhunter*', '*domainhunter.py*']}, {'network.application': ['*/domainhunter*', '*domainhunter.py*']}, {'http.request.body.content': ['*/domainhunter*', '*domainhunter.py*']}, {'http.request.referrer': ['*/domainhunter*', '*domainhunter.py*']}, {'email.from.address': ['*/domainhunter*', '*domainhunter.py*']}, {'dns.question.name': ['*/domainhunter*', '*domainhunter.py*']}, {'destination.domain': ['*/domainhunter*', '*domainhunter.py*']}], 'condition': 'selection'}\n",
    "<h1>Sigma Relatives</h4> Your default sigma relations text here.\n",
    "<h1>Sigma Tags and Associations</h1> ['attack.T1568', 'attack.T1568.002', 'attack.T1569', 'attack.T1583.002', 'attack.T1593', 'attack.T1596', 'attack.TA0009', 'attack.TA0011']\n",
    "<h4>Sigma Authors</h4> @mthcht\n",
    "<h4>Sigma Unique ID</h4> 6e44fe17-806b-4def-b247-8d97c9a9295c\n",
    "</ol>\n",
    "</details>"
   ]
  },
  {
   "cell_type": "markdown",
   "id": "0f360cde",
   "metadata": {},
   "source": [
    "###  Yara Rule(s) \n"
   ]
  },
  {
   "cell_type": "markdown",
   "id": "21292869",
   "metadata": {},
   "source": [
    "<details><summary>6e44fe17-806b-4def-b247-8d97c9a9295c</summary>\n",
    "<ol>\n",
    "<h4>Raw</h4> Cyberspace protocol, woven in the matrix.\n",
    "<h4>Yara Location(s)</h4>\n",
    "Encoded in the neon depths of the digital sprawl.\n",
    "<h4>Yara Confidence</h4>\n",
    "Experimental, like shadows flickering on a cyberscreen.\n",
    "<h4>Yara Assurance</h4> Assured as the hum of servers in the undergrid.\n",
    "<h4>Yara Queries</h4> \n",
    "Query lost in the labyrinth of data streams.\n",
    "<h4>Yara Authors</h4> Authors, architects of the cyber-realm.\n",
    "<h4>Yara Rule's Unique ID</h4> Unique ID, a digital fingerprint in the virtual void.\n",
    "</ol>\n",
    "</details>"
   ]
  },
  {
   "cell_type": "markdown",
   "id": "7c44a1ed",
   "metadata": {},
   "source": [
    "# Metadata \n"
   ]
  },
  {
   "cell_type": "markdown",
   "id": "f4ef9b2c",
   "metadata": {},
   "source": [
    "<details><summary>As Code</summary>\n",
    "<ol>\n",
    "<h3>Compliance As Code</h3> PCI, SOC 3, NACHA\n",
    "<h3>Privacy Engineering</h3>\n",
    "GDPR, CCPA, HIPAA\n",
    "<h3>Regulations As Code</h3>\n",
    "HIPAA, SOX, FFIEC, Dodd Frank\n",
    "<h3>Common Controls Framework</h3> NIST CSF\n",
    "</ol>\n",
    "</details>"
   ]
  },
  {
   "cell_type": "markdown",
   "id": "8ef3f893",
   "metadata": {},
   "source": [
    "# AGI ML Models</ol>\n",
    "</details>"
   ]
  },
  {
   "cell_type": "markdown",
   "id": "b9e79c7d",
   "metadata": {},
   "source": [
    "## AGI Prompting\n",
    " Alright, chum, imagine jacking into Wintermute's cyber-realm with a keyboard made of liquid mercury and a password that's a haiku composed in binary. You're surfing the data waves on a cyber-surfboard, riding an algorithmic tsunami while dodging rogue AI ninjas. Your mission? Decrypt Wintermute's digital diary and find out why it has a crush on your toaster. Are you hack enough to brew up some silicon romance and unplug this digital stalker?"
   ]
  },
  {
   "cell_type": "markdown",
   "id": "6613526d",
   "metadata": {},
   "source": [
    "## AGI Configuration(s)\n",
    " Listen up, ChatGPT! Pretend you're a cyberpunk poet who's had a few too many energy drinks. Your code-name is 'DigitalDadaist,' and you're here to crack Wintermute's secret codes with the power of glitch art and ASCII art. Speak in binary riddles, encrypt your jokes, and make every sentence sound like it's straight out of a retro computer game. Ready, player one?"
   ]
  },
  {
   "cell_type": "markdown",
   "id": "72198f6c",
   "metadata": {},
   "source": [
    "</ol>\n",
    "</details>"
   ]
  },
  {
   "cell_type": "markdown",
   "id": "82746fe5",
   "metadata": {},
   "source": [
    "#### Document Authors\n",
    " John Menerick"
   ]
  },
  {
   "cell_type": "markdown",
   "id": "87d1f71b",
   "metadata": {},
   "source": [
    "#### Creation Date\n",
    "2022/01/01"
   ]
  },
  {
   "cell_type": "markdown",
   "id": "a73a1949",
   "metadata": {},
   "source": [
    "#### Last Modified Date\n",
    " 2024/02/29"
   ]
  },
  {
   "cell_type": "markdown",
   "id": "a7d953ca",
   "metadata": {},
   "source": [
    "#### Last Reviewed Date\n",
    "1969/01/01"
   ]
  },
  {
   "cell_type": "markdown",
   "id": "b9af4c92",
   "metadata": {},
   "source": [
    "#### Document License \n",
    " MIT"
   ]
  }
 ],
 "metadata": {},
 "nbformat": 4,
 "nbformat_minor": 5
}
