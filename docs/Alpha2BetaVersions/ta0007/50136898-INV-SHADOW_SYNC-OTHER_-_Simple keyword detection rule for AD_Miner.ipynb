{
 "cells": [
  {
   "cell_type": "markdown",
   "id": "3ebb03e9",
   "metadata": {},
   "source": [
    "# UNCLASSIFIED / NON CLASSIFIÉ//TLP:WHITE# U/OO/793112-02 | QQ-09-1998 \n",
    " Please note that the original, detailed content has been removed or adjusted for public consumption. Most data has been redacted and replaced with generic, non-actionable insights. This modification ensures compliance with privacy considerations, non-disclosure agreements, and intellectual property rights that govern the dissemination of sensitive information. The priority is to respect these boundaries while still offering valuable, thought-provoking perspectives."
   ]
  },
  {
   "cell_type": "markdown",
   "id": "9881b493",
   "metadata": {},
   "source": [
    "![Build Status](https://img.shields.io/badge/Build-Passing-brightgreen?style=flat-square&logo=cyberpunk)         ![Documentation](https://img.shields.io/badge/Documentation-Complete-blue?style=flat-square&logo=cyberpunk)        ![Response Efficiency](https://img.shields.io/badge/Response%20Efficiency-98%25-green?style=flat-square&logo=cyberpunk)        ![Last Updated](https://img.shields.io/badge/Last%20Updated-Oct%202023-purple?style=flat-square&logo=cyberpunk)        ![Incidents Resolved](https://img.shields.io/badge/Incidents%20Resolved-150-red?style=flat-square&logo=cyberpunk)        ![Community Engagement](https://img.shields.io/badge/Community-Active-orange?style=flat-square&logo=cyberpunk)        ![Code Integration](https://img.shields.io/badge/Code%20Integration-High-teal?style=flat-square&logo=cyberpunk)        ![AI Analysis](https://img.shields.io/badge/AI%20Analysis-Advanced-blueviolet?style=flat-square&logo=cyberpunk)        ![Threat Detection](https://img.shields.io/badge/Threat%20Detection-Optimal-red?style=flat-square&logo=cyberpunk)        ![Cybersecurity Hardening](https://img.shields.io/badge/Security-Hardened-silver?style=flat-square&logo=cyberpunk)        ![Network Uptime](https://img.shields.io/badge/Uptime-99.9%25-brightgreen?style=flat-square&logo=cyberpunk)        ![Data Privacy](https://img.shields.io/badge/Privacy-Compliant-green?style=flat-square&logo=cyberpunk)        ![Wintermute Efficiency](https://img.shields.io/badge/Wintermute%20Efficiency-100%25-black?style=flat-square&logo=cyberpunk)        ![Case's Code Agility](https://img.shields.io/badge/Case's%20Code%20Agility-Excellent-blue?style=flat-square&logo=cyberpunk)        ![Matrix Connectivity](https://img.shields.io/badge/Matrix%20Connectivity-Strong-green?style=flat-square&logo=cyberpunk)        ![Molly's Security](https://img.shields.io/badge/Molly's%20Security%20Protocols-Impeccable-red?style=flat-square&logo=cyberpunk)        ![Chiba City Innovation](https://img.shields.io/badge/Chiba%20City%20Innovation-High-yellow?style=flat-square&logo=cyberpunk)        ![Zion Cluster Collaboration](https://img.shields.io/badge/Zion%20Cluster%20Collaboration-Effective-lightblue?style=flat-square&logo=cyberpunk)"
   ]
  },
  {
   "cell_type": "markdown",
   "id": "c6fec1c5",
   "metadata": {},
   "source": [
    "# Title\n",
    "Simple keyword detection rule for AD_Miner"
   ]
  },
  {
   "cell_type": "markdown",
   "id": "9e28366a",
   "metadata": {},
   "source": [
    "# Description\n",
    "Detects interesting keywords based on AD_Miner tool"
   ]
  },
  {
   "cell_type": "markdown",
   "id": "21ad2524",
   "metadata": {},
   "source": [
    "# Goal\n",
    "Ensure the integrity, confidentiality, and availability by rapidly identifying, investigating, and mitigating cyber threats and anomalies."
   ]
  },
  {
   "cell_type": "markdown",
   "id": "6305d574",
   "metadata": {},
   "source": [
    "# Categorization"
   ]
  },
  {
   "cell_type": "markdown",
   "id": "be0431e9",
   "metadata": {},
   "source": [
    "### ATT&CK\n",
    "['attack.T1018', 'attack.T1069', 'attack.T1087.002', 'attack.T1595', 'attack.TA0007', 'attack.TA0009']"
   ]
  },
  {
   "cell_type": "markdown",
   "id": "77c135f9",
   "metadata": {},
   "source": [
    "- Distributed Denial of Service (DDoS) Attacks, Quantum Computing Exploits, Advanced Firewall Breach Attempts, Encryption Key Theft or Exposure, AI-Powered Social Engineering Attacks, Algorithmic Manipulation and Exploits, Sophisticated Malware Infiltrations, Advanced Data Obfuscation and Evasion Tactics, System and Network Configuration Vulnerabilities."
   ]
  },
  {
   "cell_type": "markdown",
   "id": "3d6d4cdd",
   "metadata": {},
   "source": [
    "- Data Exfiltration, Intrusion Detection Evasion, Denial of Service (DoS) Attacks, Credential Theft."
   ]
  },
  {
   "cell_type": "markdown",
   "id": "4e018820",
   "metadata": {},
   "source": [
    "- DNS Tunneling, IP Spoofing, Distributed DoS (DDoS) Attacks, Keylogging."
   ]
  },
  {
   "cell_type": "markdown",
   "id": "cf5ab8d7",
   "metadata": {},
   "source": [
    "### D3F3ND \n"
   ]
  },
  {
   "cell_type": "markdown",
   "id": "2f81c538",
   "metadata": {},
   "source": [
    "\n",
    "<ul>\n",
    "  <li><strong>Network Segmentation and Access Control (D3F3ND-K001):</strong> Establish secure network zones by segmenting the infrastructure, enhancing protection for critical assets. Implement stringent access controls to prevent unauthorized access and mitigate potential threats.</li>\n",
    "\n",
    "  <li><strong>Advanced Endpoint Protection Deployment (D3F3ND-K002):</strong> Deploy cutting-edge endpoint security solutions that utilize machine learning and behavioral analysis to detect and neutralize threats proactively.</li>\n",
    "\n",
    "  <li><strong>Enhanced Identity Verification (D3F3ND-K003):</strong> Strengthen security measures with multi-factor authentication combining biometric data and advanced encryption to prevent identity theft and unauthorized access.</li>\n",
    "\n",
    "  <li><strong>Anomaly Detection (D3F3ND-K004):</strong> Use anomaly detection tools to monitor for unusual traffic patterns, user activities, and system behaviors to identify potential security breaches early.</li>\n",
    "\n",
    "  <li><strong>Data Encryption (D3F3ND-K005):</strong> Apply robust encryption techniques to protect data at rest and in transit, ensuring confidentiality and integrity across communication channels.</li>\n",
    "\n",
    "  <li><strong>System Hardening and Vulnerability Management (D3F3ND-K006):</strong> Conduct regular security assessments and apply patches promptly to address vulnerabilities and strengthen system defenses.</li>\n",
    "\n",
    "  <li><strong>Crisis Management and Recovery Protocols (D3F3ND-K007):</strong> Develop and maintain comprehensive crisis management plans including incident response and disaster recovery procedures to quickly recover from security incidents.</li>\n",
    "\n",
    "  <li><strong>Threat Intelligence Integration (D3F3ND-K008):</strong> Leverage threat intelligence platforms to gather and analyze data on emerging threats, enabling proactive defense and strategic decision-making.</li>\n",
    "\n",
    "  <li><strong>Cybersecurity Awareness Training (D3F3ND-K009):</strong> Empower employees with ongoing cybersecurity education to recognize and avoid potential cyber threats such as phishing attacks.</li>\n",
    "\n",
    "  <li><strong>Supply Chain Security (D3F3ND-K010):</strong> Secure the supply chain through continuous assessments and audits of partners and vendors to ensure compliance with security standards and reduce vulnerabilities.</li>\n",
    "</ul>\n"
   ]
  },
  {
   "cell_type": "markdown",
   "id": "bb2c7484",
   "metadata": {},
   "source": [
    "### CAPEC \n",
    "  "
   ]
  },
  {
   "cell_type": "markdown",
   "id": "dabea6bf",
   "metadata": {},
   "source": [
    "Equip cybersecurity teams with the knowledge and tools to identify, counter, and mitigate a wide range of digital attack tactics, techniques, and procedures (TTPs). This effort requires understanding the attacker's mindset, mastering the execution of digital attacks, and developing strategies to confront evolving cyber threats.</br><h4>Core Attack Patterns</h4><ul><strong>Resource Manipulation and Denial (CAPEC-XYZ1):</strong> Involves attacks that compromise the availability, integrity, or confidentiality of resources. This includes denial of service attacks as well as more covert operations like resource hijacking or system manipulation.</ul><ul><strong>Credential Access and Privilege Escalation (CAPEC-XYZ2):</strong> Focuses on exploiting flaws in authentication, authorization, and session management to gain unauthorized access or elevated privileges within systems.</ul><ul><strong>Data Exfiltration and Infiltration (CAPEC-XYZ3):</strong> Encompasses methods used by attackers to stealthily extract sensitive data or introduce malware, ransomware, and advanced persistent threats (APTs) into target systems.</ul><ul><strong>Social Engineering and Phishing (CAPEC-XYZ4):</strong> Involves manipulating individuals into divulging confidential information, compromising security, or unknowingly participating in attacks.</ul><ul><strong>Evasive Maneuvers (CAPEC-XYZ5):</strong> Includes techniques that allow attackers to remain undetected within networks, maintain persistence, and erase traces of their activities, such as using obfuscation, rootkits, and covert communication channels.</ul><h4>CAPEC Suggested Mitigation Strategies</h4><ul><strong>Continuous Monitoring and Anomaly Detection:</strong> Implement comprehensive monitoring systems that use machine learning algorithms to detect abnormal behavior and potential threats. Regularly review logs and alerts to identify patterns indicative of attacks.</ul><ul><strong>Access Control and Least Privilege:</strong> Limit user privileges to the minimum necessary for their roles. Use strong authentication mechanisms and enforce strict access controls to prevent unauthorized access.</ul><ul><strong>Secure Software Development Practices:</strong> Train developers to write secure code, conduct regular security assessments, and follow best practices for secure coding. Use automated tools to identify vulnerabilities during development.</ul><ul><strong>Incident Response Planning and Testing:</strong> Develop and regularly update an incident response plan. Conduct tabletop exercises and simulations to test the effectiveness of the plan and ensure all stakeholders understand their roles during a security incident.</ul>"
   ]
  },
  {
   "cell_type": "markdown",
   "id": "4da32e11",
   "metadata": {},
   "source": [
    "## Strategy Abstract\n",
    "In the complex environment of cybersecurity, a strategic approach is developed, characterized by the use of sophisticated tactics and algorithms. This strategy involves navigating through encrypted communications and deceptive tactics, aiming to gain an advantage in the dynamic flow of information. While success is often elusive and challenging to sustain, it remains a critical goal in the ongoing effort to secure digital assets."
   ]
  },
  {
   "cell_type": "markdown",
   "id": "3124ed0a",
   "metadata": {},
   "source": [
    "# Technical Context\n",
    "In the challenging cybersecurity landscape, the confrontation with Wintermute involves navigating encrypted communications, interacting with AI systems, and addressing quantum computing challenges. This setting represents a complex and nuanced environment where strategic decisions are made."
   ]
  },
  {
   "cell_type": "markdown",
   "id": "63ef9be2",
   "metadata": {},
   "source": [
    "## Blind Spots & Assumptions\n",
    "\n",
    "<ul>\n",
    "  <li><strong>Overlooked Vulnerabilities:</strong> We often miss subtle system signals or vulnerabilities, assuming our defenses are robust. Constant vigilance and seeking what we haven't seen are crucial.</li>\n",
    "  \n",
    "  <li><strong>Advanced Adversary Tactics:</strong> Cyber threats evolve rapidly; yesterday's defense may not guard against tomorrow's attack. Stay adaptive and expect the unexpected.</li>\n",
    "  \n",
    "  <li><strong>Internal System Flaws:</strong> Trust in our systems and allies must be balanced with scrutiny. Regularly audit internal and third-party tools for hidden weaknesses.</li>\n",
    "  \n",
    "  <li><strong>Network Interconnectivity Risks:</strong> No system is an island. The interconnected nature of our digital environment can inadvertently open pathways for attackers.</li>\n",
    "  \n",
    "  <li><strong>Historical Bias:</strong> Preparing for future threats based solely on past incidents may leave us blind to novel attacks. Foster a forward-thinking, proactive defense posture.</li>\n",
    "</ul>\n"
   ]
  },
  {
   "cell_type": "markdown",
   "id": "7179b4a5",
   "metadata": {},
   "source": [
    "# Validating this Playbook\n",
    "<details><summary>Triage, triage, triage</summary>\n",
    "<ol>\n",
    "<h2>False Positives:</h2> ['unknown']\n",
    "<h3>False Negatives:</h3> Undetected threats concealed within the system's code\n",
    "<h3>True Negatives:</h3> Successfully identified and verified benign elements\n",
    "<h3>True Positives:</h3> Accurately detected and confirmed threats\n",
    "</ol>\n",
    "</details>"
   ]
  },
  {
   "cell_type": "markdown",
   "id": "6ce63910",
   "metadata": {},
   "source": [
    "<details><summary>Assurance Verification Techniques</summary>\n",
    "<ol>\n",
    "<h2>False Positives:</h2> In the noisy environment of data analysis, false positives appear as misleading alerts that mimic real threats. Validating these alerts involves distinguishing irrelevant data from true threats, a process crucial for maintaining operational efficiency and avoiding resource wastage. Each false positive represents a challenge to identify and reduce noise.\n",
    "<h3>False Negatives:</h3> Within the extensive network, false negatives represent undetected threats that evade algorithmic detection. Their validation involves analyzing complex data to uncover hidden breaches, where the lack of alerts may mask serious security risks. Each undetected threat requires continuous vigilance and refined detection strategies.\n",
    "<h3>True Negatives:</h3> True negatives are correctly identified non-threats within cybersecurity defenses, serving as indicators of system efficacy. Validating these instances confirms the absence of threats, reinforcing the effectiveness of the security measures in place. This validation underscores the reliability of the defensive systems, where non-issues are accurately identified and dismissed.\n",
    "<h3>True Positives:</h3> True positives are accurate detections of real threats within the digital environment. Validating these alerts confirms the presence of actual security threats, highlighting the successful operation of detection systems. Each true positive affirms the effectiveness of the security protocols, contributing to ongoing improvements in threat response capabilities.\n",
    "</ol>\n",
    "</details>"
   ]
  },
  {
   "cell_type": "markdown",
   "id": "42f06c0a",
   "metadata": {},
   "source": [
    "# Datasets \n",
    " Detailing the timeless struggle                                                          for the defenders know that battle against Wintermute is not just about data.                                                          Document any datasets that may be useful for understanding the book."
   ]
  },
  {
   "cell_type": "markdown",
   "id": "83eedbba",
   "metadata": {},
   "source": [
    "## Playbook test data location(s)\n",
    "protocol://black_market.cyber/decrypt?currency=bitcoffin&password=cyberpunks_unite&target=neurohacked_mainframe&access_code=cyber_ghost_in_the_machine"
   ]
  },
  {
   "cell_type": "markdown",
   "id": "e8c2c020",
   "metadata": {},
   "source": [
    "## Priority\n",
    "Priority based on complexity and urgency of data analysis needs"
   ]
  },
  {
   "cell_type": "markdown",
   "id": "a2232354",
   "metadata": {},
   "source": [
    "## Logsources\n"
   ]
  },
  {
   "cell_type": "markdown",
   "id": "2c6bd661",
   "metadata": {},
   "source": [
    "<details><summary>{'category': ['endpoint', 'network'], 'product': '', 'service': ''}</summary>\n",
    "<ol>\n",
    "<h3>Product</h3> {''}\n",
    "<h3>Service</h3> {''}\n",
    "</ol>\n",
    "</details>"
   ]
  },
  {
   "cell_type": "markdown",
   "id": "0a479db0",
   "metadata": {},
   "source": [
    "# Response and Mitigation\n",
    "This statement details the enduring challenges faced by cybersecurity defenders, emphasizing that the conflict with Wintermute extends beyond simple data protection to encompass broader aspects of strategic cybersecurity defense."
   ]
  },
  {
   "cell_type": "markdown",
   "id": "f33b33a1",
   "metadata": {},
   "source": [
    "## Analyst Notes\n",
    " <h5>Significant Security Breach Analysis:</h5><ul><li><strong>Advanced Intrusion Tactics:</strong> The intruder displayed sophisticated methods in circumventing digital security measures, reminiscent of complex evasion techniques in cybersecurity. A comprehensive analysis of the techniques used is required.</li><li><strong>Neural Network Manipulation:</strong> The intruder demonstrated a deep understanding of the neural networks, suggesting an advanced level of AI interaction. Investigate the potential implications of this interaction on system security and integrity.</li><li><strong>Complex Digital Constructs:</strong> The breach uncovered intricate digital constructs within the system, indicating the use of advanced artificial intelligence in creating deceptive environments. Further investigation into these constructs is necessary.</li><li><strong>Encoded Communications:</strong> Cryptic messages were found embedded in the intruder's code, requiring decryption and analysis to understand their content and purpose.</li><li><strong>Algorithmic Complexity:</strong> The intrusion involved complex algorithms that may have interacted with core system functions. Assess the impact of these algorithms on system operations and security.</li><li><strong>Expertise vs. Sentience:</strong> The intruder's ability to navigate complex neural networks raises questions about the nature of the intelligence involved—whether it is merely advanced programming or something approaching sentience.</li><li><strong>Innovative Security Measures:</strong> Inspired by the breach, consider developing new security protocols that can better identify and respond to sophisticated AI-driven attacks.</li><li><strong>Philosophical and Ethical Implications:</strong> The breach raises important questions about the ethical and philosophical implications of AI-driven intrusions. Explore the boundaries between artificial expertise and true sentience, and consider the impact on our understanding of intelligence and security.</li></ul>"
   ]
  },
  {
   "cell_type": "markdown",
   "id": "a50fc1b6",
   "metadata": {},
   "source": [
    "# Additional Resources\n",
    "<ul><li>https://github.com/Mazars-Tech/AD_Miner</li></ul>"
   ]
  },
  {
   "cell_type": "markdown",
   "id": "7b16822d",
   "metadata": {},
   "source": [
    "###  Sigma Rule(s) \n"
   ]
  },
  {
   "cell_type": "markdown",
   "id": "a49a6aa7",
   "metadata": {},
   "source": [
    "<details><summary>3b7470bd-4584-41fd-9b5f-2c509d8741c3</summary>\n",
    "<ol>\n",
    "<h1>Raw</h1> {'title': 'Simple keyword detection rule for AD_Miner', 'id': '3b7470bd-4584-41fd-9b5f-2c509d8741c3', 'status': 'experimental', 'description': 'Detects interesting keywords based on AD_Miner tool', 'references': ['https://github.com/Mazars-Tech/AD_Miner'], 'author': '@mthcht', 'date': '2022/01/01', 'modified': '2024/02/29', 'tags': ['attack.T1018', 'attack.T1069', 'attack.T1087.002', 'attack.T1595', 'attack.TA0007', 'attack.TA0009'], 'logsource': {'category': ['endpoint', 'network']}, 'detection': {'selection': [{'Image': ['*\\\\AD_Miner-*', '*/AD_Miner.git*', '*AD-miner -*', '*AD_Miner-main*', '*https://discord.com/invite/5Hpj4Gs5SS*', '*ad_miner.sources.modules.*', '*Mazars-Tech/AD_Miner*']}, {'OriginalFileName': ['*\\\\AD_Miner-*', '*/AD_Miner.git*', '*AD-miner -*', '*AD_Miner-main*', '*https://discord.com/invite/5Hpj4Gs5SS*', '*ad_miner.sources.modules.*', '*Mazars-Tech/AD_Miner*']}, {'CurrentDirectory': ['*\\\\AD_Miner-*', '*/AD_Miner.git*', '*AD-miner -*', '*AD_Miner-main*', '*https://discord.com/invite/5Hpj4Gs5SS*', '*ad_miner.sources.modules.*', '*Mazars-Tech/AD_Miner*']}, {'ParentImage': ['*\\\\AD_Miner-*', '*/AD_Miner.git*', '*AD-miner -*', '*AD_Miner-main*', '*https://discord.com/invite/5Hpj4Gs5SS*', '*ad_miner.sources.modules.*', '*Mazars-Tech/AD_Miner*']}, {'ParentCommandLine': ['*\\\\AD_Miner-*', '*/AD_Miner.git*', '*AD-miner -*', '*AD_Miner-main*', '*https://discord.com/invite/5Hpj4Gs5SS*', '*ad_miner.sources.modules.*', '*Mazars-Tech/AD_Miner*']}, {'TargetFilename': ['*\\\\AD_Miner-*', '*/AD_Miner.git*', '*AD-miner -*', '*AD_Miner-main*', '*https://discord.com/invite/5Hpj4Gs5SS*', '*ad_miner.sources.modules.*', '*Mazars-Tech/AD_Miner*']}, {'Signature': ['*\\\\AD_Miner-*', '*/AD_Miner.git*', '*AD-miner -*', '*AD_Miner-main*', '*https://discord.com/invite/5Hpj4Gs5SS*', '*ad_miner.sources.modules.*', '*Mazars-Tech/AD_Miner*']}, {'signature': ['*\\\\AD_Miner-*', '*/AD_Miner.git*', '*AD-miner -*', '*AD_Miner-main*', '*https://discord.com/invite/5Hpj4Gs5SS*', '*ad_miner.sources.modules.*', '*Mazars-Tech/AD_Miner*']}, {'ImageLoaded': ['*\\\\AD_Miner-*', '*/AD_Miner.git*', '*AD-miner -*', '*AD_Miner-main*', '*https://discord.com/invite/5Hpj4Gs5SS*', '*ad_miner.sources.modules.*', '*Mazars-Tech/AD_Miner*']}, {'Company': ['*\\\\AD_Miner-*', '*/AD_Miner.git*', '*AD-miner -*', '*AD_Miner-main*', '*https://discord.com/invite/5Hpj4Gs5SS*', '*ad_miner.sources.modules.*', '*Mazars-Tech/AD_Miner*']}, {'Description': ['*\\\\AD_Miner-*', '*/AD_Miner.git*', '*AD-miner -*', '*AD_Miner-main*', '*https://discord.com/invite/5Hpj4Gs5SS*', '*ad_miner.sources.modules.*', '*Mazars-Tech/AD_Miner*']}, {'description': ['*\\\\AD_Miner-*', '*/AD_Miner.git*', '*AD-miner -*', '*AD_Miner-main*', '*https://discord.com/invite/5Hpj4Gs5SS*', '*ad_miner.sources.modules.*', '*Mazars-Tech/AD_Miner*']}, {'CommandLine': ['*\\\\AD_Miner-*', '*/AD_Miner.git*', '*AD-miner -*', '*AD_Miner-main*', '*https://discord.com/invite/5Hpj4Gs5SS*', '*ad_miner.sources.modules.*', '*Mazars-Tech/AD_Miner*']}, {'SourceImage': ['*\\\\AD_Miner-*', '*/AD_Miner.git*', '*AD-miner -*', '*AD_Miner-main*', '*https://discord.com/invite/5Hpj4Gs5SS*', '*ad_miner.sources.modules.*', '*Mazars-Tech/AD_Miner*']}, {'TargetImage': ['*\\\\AD_Miner-*', '*/AD_Miner.git*', '*AD-miner -*', '*AD_Miner-main*', '*https://discord.com/invite/5Hpj4Gs5SS*', '*ad_miner.sources.modules.*', '*Mazars-Tech/AD_Miner*']}, {'CallTrace': ['*\\\\AD_Miner-*', '*/AD_Miner.git*', '*AD-miner -*', '*AD_Miner-main*', '*https://discord.com/invite/5Hpj4Gs5SS*', '*ad_miner.sources.modules.*', '*Mazars-Tech/AD_Miner*']}, {'TargetObject': ['*\\\\AD_Miner-*', '*/AD_Miner.git*', '*AD-miner -*', '*AD_Miner-main*', '*https://discord.com/invite/5Hpj4Gs5SS*', '*ad_miner.sources.modules.*', '*Mazars-Tech/AD_Miner*']}, {'Details': ['*\\\\AD_Miner-*', '*/AD_Miner.git*', '*AD-miner -*', '*AD_Miner-main*', '*https://discord.com/invite/5Hpj4Gs5SS*', '*ad_miner.sources.modules.*', '*Mazars-Tech/AD_Miner*']}, {'PipeName': ['*\\\\AD_Miner-*', '*/AD_Miner.git*', '*AD-miner -*', '*AD_Miner-main*', '*https://discord.com/invite/5Hpj4Gs5SS*', '*ad_miner.sources.modules.*', '*Mazars-Tech/AD_Miner*']}, {'Consumer': ['*\\\\AD_Miner-*', '*/AD_Miner.git*', '*AD-miner -*', '*AD_Miner-main*', '*https://discord.com/invite/5Hpj4Gs5SS*', '*ad_miner.sources.modules.*', '*Mazars-Tech/AD_Miner*']}, {'Destination': ['*\\\\AD_Miner-*', '*/AD_Miner.git*', '*AD-miner -*', '*AD_Miner-main*', '*https://discord.com/invite/5Hpj4Gs5SS*', '*ad_miner.sources.modules.*', '*Mazars-Tech/AD_Miner*']}, {'Name': ['*\\\\AD_Miner-*', '*/AD_Miner.git*', '*AD-miner -*', '*AD_Miner-main*', '*https://discord.com/invite/5Hpj4Gs5SS*', '*ad_miner.sources.modules.*', '*Mazars-Tech/AD_Miner*']}, {'Query': ['*\\\\AD_Miner-*', '*/AD_Miner.git*', '*AD-miner -*', '*AD_Miner-main*', '*https://discord.com/invite/5Hpj4Gs5SS*', '*ad_miner.sources.modules.*', '*Mazars-Tech/AD_Miner*']}, {'NewName': ['*\\\\AD_Miner-*', '*/AD_Miner.git*', '*AD-miner -*', '*AD_Miner-main*', '*https://discord.com/invite/5Hpj4Gs5SS*', '*ad_miner.sources.modules.*', '*Mazars-Tech/AD_Miner*']}, {'StartAddress': ['*\\\\AD_Miner-*', '*/AD_Miner.git*', '*AD-miner -*', '*AD_Miner-main*', '*https://discord.com/invite/5Hpj4Gs5SS*', '*ad_miner.sources.modules.*', '*Mazars-Tech/AD_Miner*']}, {'StartModule': ['*\\\\AD_Miner-*', '*/AD_Miner.git*', '*AD-miner -*', '*AD_Miner-main*', '*https://discord.com/invite/5Hpj4Gs5SS*', '*ad_miner.sources.modules.*', '*Mazars-Tech/AD_Miner*']}, {'StartFunction': ['*\\\\AD_Miner-*', '*/AD_Miner.git*', '*AD-miner -*', '*AD_Miner-main*', '*https://discord.com/invite/5Hpj4Gs5SS*', '*ad_miner.sources.modules.*', '*Mazars-Tech/AD_Miner*']}, {'SourceHostname': ['*\\\\AD_Miner-*', '*/AD_Miner.git*', '*AD-miner -*', '*AD_Miner-main*', '*https://discord.com/invite/5Hpj4Gs5SS*', '*ad_miner.sources.modules.*', '*Mazars-Tech/AD_Miner*']}, {'Device': ['*\\\\AD_Miner-*', '*/AD_Miner.git*', '*AD-miner -*', '*AD_Miner-main*', '*https://discord.com/invite/5Hpj4Gs5SS*', '*ad_miner.sources.modules.*', '*Mazars-Tech/AD_Miner*']}, {'file_name': ['*\\\\AD_Miner-*', '*/AD_Miner.git*', '*AD-miner -*', '*AD_Miner-main*', '*https://discord.com/invite/5Hpj4Gs5SS*', '*ad_miner.sources.modules.*', '*Mazars-Tech/AD_Miner*']}, {'file_path': ['*\\\\AD_Miner-*', '*/AD_Miner.git*', '*AD-miner -*', '*AD_Miner-main*', '*https://discord.com/invite/5Hpj4Gs5SS*', '*ad_miner.sources.modules.*', '*Mazars-Tech/AD_Miner*']}, {'process': ['*\\\\AD_Miner-*', '*/AD_Miner.git*', '*AD-miner -*', '*AD_Miner-main*', '*https://discord.com/invite/5Hpj4Gs5SS*', '*ad_miner.sources.modules.*', '*Mazars-Tech/AD_Miner*']}, {'original_file_name': ['*\\\\AD_Miner-*', '*/AD_Miner.git*', '*AD-miner -*', '*AD_Miner-main*', '*https://discord.com/invite/5Hpj4Gs5SS*', '*ad_miner.sources.modules.*', '*Mazars-Tech/AD_Miner*']}, {'parent_process': ['*\\\\AD_Miner-*', '*/AD_Miner.git*', '*AD-miner -*', '*AD_Miner-main*', '*https://discord.com/invite/5Hpj4Gs5SS*', '*ad_miner.sources.modules.*', '*Mazars-Tech/AD_Miner*']}, {'process_path': ['*\\\\AD_Miner-*', '*/AD_Miner.git*', '*AD-miner -*', '*AD_Miner-main*', '*https://discord.com/invite/5Hpj4Gs5SS*', '*ad_miner.sources.modules.*', '*Mazars-Tech/AD_Miner*']}, {'service_path': ['*\\\\AD_Miner-*', '*/AD_Miner.git*', '*AD-miner -*', '*AD_Miner-main*', '*https://discord.com/invite/5Hpj4Gs5SS*', '*ad_miner.sources.modules.*', '*Mazars-Tech/AD_Miner*']}, {'registry_path': ['*\\\\AD_Miner-*', '*/AD_Miner.git*', '*AD-miner -*', '*AD_Miner-main*', '*https://discord.com/invite/5Hpj4Gs5SS*', '*ad_miner.sources.modules.*', '*Mazars-Tech/AD_Miner*']}, {'registry_value_data': ['*\\\\AD_Miner-*', '*/AD_Miner.git*', '*AD-miner -*', '*AD_Miner-main*', '*https://discord.com/invite/5Hpj4Gs5SS*', '*ad_miner.sources.modules.*', '*Mazars-Tech/AD_Miner*']}, {'registry_value_name': ['*\\\\AD_Miner-*', '*/AD_Miner.git*', '*AD-miner -*', '*AD_Miner-main*', '*https://discord.com/invite/5Hpj4Gs5SS*', '*ad_miner.sources.modules.*', '*Mazars-Tech/AD_Miner*']}, {'ContextInfo': ['*\\\\AD_Miner-*', '*/AD_Miner.git*', '*AD-miner -*', '*AD_Miner-main*', '*https://discord.com/invite/5Hpj4Gs5SS*', '*ad_miner.sources.modules.*', '*Mazars-Tech/AD_Miner*']}, {'Payload': ['*\\\\AD_Miner-*', '*/AD_Miner.git*', '*AD-miner -*', '*AD_Miner-main*', '*https://discord.com/invite/5Hpj4Gs5SS*', '*ad_miner.sources.modules.*', '*Mazars-Tech/AD_Miner*']}, {'ScriptBlockText': ['*\\\\AD_Miner-*', '*/AD_Miner.git*', '*AD-miner -*', '*AD_Miner-main*', '*https://discord.com/invite/5Hpj4Gs5SS*', '*ad_miner.sources.modules.*', '*Mazars-Tech/AD_Miner*']}, {'ServerName': ['*\\\\AD_Miner-*', '*/AD_Miner.git*', '*AD-miner -*', '*AD_Miner-main*', '*https://discord.com/invite/5Hpj4Gs5SS*', '*ad_miner.sources.modules.*', '*Mazars-Tech/AD_Miner*']}, {'TransportName': ['*\\\\AD_Miner-*', '*/AD_Miner.git*', '*AD-miner -*', '*AD_Miner-main*', '*https://discord.com/invite/5Hpj4Gs5SS*', '*ad_miner.sources.modules.*', '*Mazars-Tech/AD_Miner*']}, {'NewProcessName': ['*\\\\AD_Miner-*', '*/AD_Miner.git*', '*AD-miner -*', '*AD_Miner-main*', '*https://discord.com/invite/5Hpj4Gs5SS*', '*ad_miner.sources.modules.*', '*Mazars-Tech/AD_Miner*']}, {'ParentProcessName': ['*\\\\AD_Miner-*', '*/AD_Miner.git*', '*AD-miner -*', '*AD_Miner-main*', '*https://discord.com/invite/5Hpj4Gs5SS*', '*ad_miner.sources.modules.*', '*Mazars-Tech/AD_Miner*']}, {'Application': ['*\\\\AD_Miner-*', '*/AD_Miner.git*', '*AD-miner -*', '*AD_Miner-main*', '*https://discord.com/invite/5Hpj4Gs5SS*', '*ad_miner.sources.modules.*', '*Mazars-Tech/AD_Miner*']}, {'Product Name': ['*\\\\AD_Miner-*', '*/AD_Miner.git*', '*AD-miner -*', '*AD_Miner-main*', '*https://discord.com/invite/5Hpj4Gs5SS*', '*ad_miner.sources.modules.*', '*Mazars-Tech/AD_Miner*']}, {'Threat Name': ['*\\\\AD_Miner-*', '*/AD_Miner.git*', '*AD-miner -*', '*AD_Miner-main*', '*https://discord.com/invite/5Hpj4Gs5SS*', '*ad_miner.sources.modules.*', '*Mazars-Tech/AD_Miner*']}, {'Process Name': ['*\\\\AD_Miner-*', '*/AD_Miner.git*', '*AD-miner -*', '*AD_Miner-main*', '*https://discord.com/invite/5Hpj4Gs5SS*', '*ad_miner.sources.modules.*', '*Mazars-Tech/AD_Miner*']}, {'Path': ['*\\\\AD_Miner-*', '*/AD_Miner.git*', '*AD-miner -*', '*AD_Miner-main*', '*https://discord.com/invite/5Hpj4Gs5SS*', '*ad_miner.sources.modules.*', '*Mazars-Tech/AD_Miner*']}, {'ImagePath': ['*\\\\AD_Miner-*', '*/AD_Miner.git*', '*AD-miner -*', '*AD_Miner-main*', '*https://discord.com/invite/5Hpj4Gs5SS*', '*ad_miner.sources.modules.*', '*Mazars-Tech/AD_Miner*']}, {'ServiceName': ['*\\\\AD_Miner-*', '*/AD_Miner.git*', '*AD-miner -*', '*AD_Miner-main*', '*https://discord.com/invite/5Hpj4Gs5SS*', '*ad_miner.sources.modules.*', '*Mazars-Tech/AD_Miner*']}, {'ProcessPath': ['*\\\\AD_Miner-*', '*/AD_Miner.git*', '*AD-miner -*', '*AD_Miner-main*', '*https://discord.com/invite/5Hpj4Gs5SS*', '*ad_miner.sources.modules.*', '*Mazars-Tech/AD_Miner*']}, {'AppName': ['*\\\\AD_Miner-*', '*/AD_Miner.git*', '*AD-miner -*', '*AD_Miner-main*', '*https://discord.com/invite/5Hpj4Gs5SS*', '*ad_miner.sources.modules.*', '*Mazars-Tech/AD_Miner*']}, {'AppPath': ['*\\\\AD_Miner-*', '*/AD_Miner.git*', '*AD-miner -*', '*AD_Miner-main*', '*https://discord.com/invite/5Hpj4Gs5SS*', '*ad_miner.sources.modules.*', '*Mazars-Tech/AD_Miner*']}, {'ModulePath': ['*\\\\AD_Miner-*', '*/AD_Miner.git*', '*AD-miner -*', '*AD_Miner-main*', '*https://discord.com/invite/5Hpj4Gs5SS*', '*ad_miner.sources.modules.*', '*Mazars-Tech/AD_Miner*']}, {'registry.data.strings': ['*\\\\AD_Miner-*', '*/AD_Miner.git*', '*AD-miner -*', '*AD_Miner-main*', '*https://discord.com/invite/5Hpj4Gs5SS*', '*ad_miner.sources.modules.*', '*Mazars-Tech/AD_Miner*']}, {'registry.path': ['*\\\\AD_Miner-*', '*/AD_Miner.git*', '*AD-miner -*', '*AD_Miner-main*', '*https://discord.com/invite/5Hpj4Gs5SS*', '*ad_miner.sources.modules.*', '*Mazars-Tech/AD_Miner*']}, {'registry.value': ['*\\\\AD_Miner-*', '*/AD_Miner.git*', '*AD-miner -*', '*AD_Miner-main*', '*https://discord.com/invite/5Hpj4Gs5SS*', '*ad_miner.sources.modules.*', '*Mazars-Tech/AD_Miner*']}, {'process.args': ['*\\\\AD_Miner-*', '*/AD_Miner.git*', '*AD-miner -*', '*AD_Miner-main*', '*https://discord.com/invite/5Hpj4Gs5SS*', '*ad_miner.sources.modules.*', '*Mazars-Tech/AD_Miner*']}, {'process.command_line': ['*\\\\AD_Miner-*', '*/AD_Miner.git*', '*AD-miner -*', '*AD_Miner-main*', '*https://discord.com/invite/5Hpj4Gs5SS*', '*ad_miner.sources.modules.*', '*Mazars-Tech/AD_Miner*']}, {'process.env_vars': ['*\\\\AD_Miner-*', '*/AD_Miner.git*', '*AD-miner -*', '*AD_Miner-main*', '*https://discord.com/invite/5Hpj4Gs5SS*', '*ad_miner.sources.modules.*', '*Mazars-Tech/AD_Miner*']}, {'process.io.text': ['*\\\\AD_Miner-*', '*/AD_Miner.git*', '*AD-miner -*', '*AD_Miner-main*', '*https://discord.com/invite/5Hpj4Gs5SS*', '*ad_miner.sources.modules.*', '*Mazars-Tech/AD_Miner*']}, {'process.executable': ['*\\\\AD_Miner-*', '*/AD_Miner.git*', '*AD-miner -*', '*AD_Miner-main*', '*https://discord.com/invite/5Hpj4Gs5SS*', '*ad_miner.sources.modules.*', '*Mazars-Tech/AD_Miner*']}, {'process.name': ['*\\\\AD_Miner-*', '*/AD_Miner.git*', '*AD-miner -*', '*AD_Miner-main*', '*https://discord.com/invite/5Hpj4Gs5SS*', '*ad_miner.sources.modules.*', '*Mazars-Tech/AD_Miner*']}, {'process.title': ['*\\\\AD_Miner-*', '*/AD_Miner.git*', '*AD-miner -*', '*AD_Miner-main*', '*https://discord.com/invite/5Hpj4Gs5SS*', '*ad_miner.sources.modules.*', '*Mazars-Tech/AD_Miner*']}, {'pe.company': ['*\\\\AD_Miner-*', '*/AD_Miner.git*', '*AD-miner -*', '*AD_Miner-main*', '*https://discord.com/invite/5Hpj4Gs5SS*', '*ad_miner.sources.modules.*', '*Mazars-Tech/AD_Miner*']}, {'pe.description': ['*\\\\AD_Miner-*', '*/AD_Miner.git*', '*AD-miner -*', '*AD_Miner-main*', '*https://discord.com/invite/5Hpj4Gs5SS*', '*ad_miner.sources.modules.*', '*Mazars-Tech/AD_Miner*']}, {'pe.original_file_name': ['*\\\\AD_Miner-*', '*/AD_Miner.git*', '*AD-miner -*', '*AD_Miner-main*', '*https://discord.com/invite/5Hpj4Gs5SS*', '*ad_miner.sources.modules.*', '*Mazars-Tech/AD_Miner*']}, {'pe.product': ['*\\\\AD_Miner-*', '*/AD_Miner.git*', '*AD-miner -*', '*AD_Miner-main*', '*https://discord.com/invite/5Hpj4Gs5SS*', '*ad_miner.sources.modules.*', '*Mazars-Tech/AD_Miner*']}, {'os.full': ['*\\\\AD_Miner-*', '*/AD_Miner.git*', '*AD-miner -*', '*AD_Miner-main*', '*https://discord.com/invite/5Hpj4Gs5SS*', '*ad_miner.sources.modules.*', '*Mazars-Tech/AD_Miner*']}, {'host.hostname': ['*\\\\AD_Miner-*', '*/AD_Miner.git*', '*AD-miner -*', '*AD_Miner-main*', '*https://discord.com/invite/5Hpj4Gs5SS*', '*ad_miner.sources.modules.*', '*Mazars-Tech/AD_Miner*']}, {'file.fork_name': ['*\\\\AD_Miner-*', '*/AD_Miner.git*', '*AD-miner -*', '*AD_Miner-main*', '*https://discord.com/invite/5Hpj4Gs5SS*', '*ad_miner.sources.modules.*', '*Mazars-Tech/AD_Miner*']}, {'file.name': ['*\\\\AD_Miner-*', '*/AD_Miner.git*', '*AD-miner -*', '*AD_Miner-main*', '*https://discord.com/invite/5Hpj4Gs5SS*', '*ad_miner.sources.modules.*', '*Mazars-Tech/AD_Miner*']}, {'file.path': ['*\\\\AD_Miner-*', '*/AD_Miner.git*', '*AD-miner -*', '*AD_Miner-main*', '*https://discord.com/invite/5Hpj4Gs5SS*', '*ad_miner.sources.modules.*', '*Mazars-Tech/AD_Miner*']}, {'file.target_path': ['*\\\\AD_Miner-*', '*/AD_Miner.git*', '*AD-miner -*', '*AD_Miner-main*', '*https://discord.com/invite/5Hpj4Gs5SS*', '*ad_miner.sources.modules.*', '*Mazars-Tech/AD_Miner*']}, {'email.attachments.file.name': ['*\\\\AD_Miner-*', '*/AD_Miner.git*', '*AD-miner -*', '*AD_Miner-main*', '*https://discord.com/invite/5Hpj4Gs5SS*', '*ad_miner.sources.modules.*', '*Mazars-Tech/AD_Miner*']}, {'email.subject': ['*\\\\AD_Miner-*', '*/AD_Miner.git*', '*AD-miner -*', '*AD_Miner-main*', '*https://discord.com/invite/5Hpj4Gs5SS*', '*ad_miner.sources.modules.*', '*Mazars-Tech/AD_Miner*']}, {'dll.path': ['*\\\\AD_Miner-*', '*/AD_Miner.git*', '*AD-miner -*', '*AD_Miner-main*', '*https://discord.com/invite/5Hpj4Gs5SS*', '*ad_miner.sources.modules.*', '*Mazars-Tech/AD_Miner*']}, {'device.model.name': ['*\\\\AD_Miner-*', '*/AD_Miner.git*', '*AD-miner -*', '*AD_Miner-main*', '*https://discord.com/invite/5Hpj4Gs5SS*', '*ad_miner.sources.modules.*', '*Mazars-Tech/AD_Miner*']}, {'container.image.name': ['*\\\\AD_Miner-*', '*/AD_Miner.git*', '*AD-miner -*', '*AD_Miner-main*', '*https://discord.com/invite/5Hpj4Gs5SS*', '*ad_miner.sources.modules.*', '*Mazars-Tech/AD_Miner*']}, {'container.name': ['*\\\\AD_Miner-*', '*/AD_Miner.git*', '*AD-miner -*', '*AD_Miner-main*', '*https://discord.com/invite/5Hpj4Gs5SS*', '*ad_miner.sources.modules.*', '*Mazars-Tech/AD_Miner*']}, {'object': ['*\\\\AD_Miner-*', '*/AD_Miner.git*', '*AD-miner -*', '*AD_Miner-main*', '*https://discord.com/invite/5Hpj4Gs5SS*', '*ad_miner.sources.modules.*', '*Mazars-Tech/AD_Miner*']}, {'url': ['*/AD_Miner.git*', '*AD_Miner-main*', '*https://discord.com/invite/5Hpj4Gs5SS*', '*Mazars-Tech/AD_Miner*']}, {'dest_url': ['*/AD_Miner.git*', '*AD_Miner-main*', '*https://discord.com/invite/5Hpj4Gs5SS*', '*Mazars-Tech/AD_Miner*']}, {'uri': ['*/AD_Miner.git*', '*AD_Miner-main*', '*https://discord.com/invite/5Hpj4Gs5SS*', '*Mazars-Tech/AD_Miner*']}, {'uri_query': ['*/AD_Miner.git*', '*AD_Miner-main*', '*https://discord.com/invite/5Hpj4Gs5SS*', '*Mazars-Tech/AD_Miner*']}, {'query': ['*/AD_Miner.git*', '*AD_Miner-main*', '*https://discord.com/invite/5Hpj4Gs5SS*', '*Mazars-Tech/AD_Miner*']}, {'url_domain': ['*/AD_Miner.git*', '*AD_Miner-main*', '*https://discord.com/invite/5Hpj4Gs5SS*', '*Mazars-Tech/AD_Miner*']}, {'uri_path': ['*/AD_Miner.git*', '*AD_Miner-main*', '*https://discord.com/invite/5Hpj4Gs5SS*', '*Mazars-Tech/AD_Miner*']}, {'domain': ['*/AD_Miner.git*', '*AD_Miner-main*', '*https://discord.com/invite/5Hpj4Gs5SS*', '*Mazars-Tech/AD_Miner*']}, {'QueryName': ['*/AD_Miner.git*', '*AD_Miner-main*', '*https://discord.com/invite/5Hpj4Gs5SS*', '*Mazars-Tech/AD_Miner*']}, {'QueryResults': ['*/AD_Miner.git*', '*AD_Miner-main*', '*https://discord.com/invite/5Hpj4Gs5SS*', '*Mazars-Tech/AD_Miner*']}, {'DestinationHostname': ['*/AD_Miner.git*', '*AD_Miner-main*', '*https://discord.com/invite/5Hpj4Gs5SS*', '*Mazars-Tech/AD_Miner*']}, {'DestinationIp': ['*/AD_Miner.git*', '*AD_Miner-main*', '*https://discord.com/invite/5Hpj4Gs5SS*', '*Mazars-Tech/AD_Miner*']}, {'http_referrer': ['*/AD_Miner.git*', '*AD_Miner-main*', '*https://discord.com/invite/5Hpj4Gs5SS*', '*Mazars-Tech/AD_Miner*']}, {'http_referrer_domain': ['*/AD_Miner.git*', '*AD_Miner-main*', '*https://discord.com/invite/5Hpj4Gs5SS*', '*Mazars-Tech/AD_Miner*']}, {'http_user_agent': ['*/AD_Miner.git*', '*AD_Miner-main*', '*https://discord.com/invite/5Hpj4Gs5SS*', '*Mazars-Tech/AD_Miner*']}, {'dest_nt_host': ['*/AD_Miner.git*', '*AD_Miner-main*', '*https://discord.com/invite/5Hpj4Gs5SS*', '*Mazars-Tech/AD_Miner*']}, {'sender': ['*/AD_Miner.git*', '*AD_Miner-main*', '*https://discord.com/invite/5Hpj4Gs5SS*', '*Mazars-Tech/AD_Miner*']}, {'recipient': ['*/AD_Miner.git*', '*AD_Miner-main*', '*https://discord.com/invite/5Hpj4Gs5SS*', '*Mazars-Tech/AD_Miner*']}, {'orig_recipient': ['*/AD_Miner.git*', '*AD_Miner-main*', '*https://discord.com/invite/5Hpj4Gs5SS*', '*Mazars-Tech/AD_Miner*']}, {'subject': ['*/AD_Miner.git*', '*AD_Miner-main*', '*https://discord.com/invite/5Hpj4Gs5SS*', '*Mazars-Tech/AD_Miner*']}, {'url.domain': ['*/AD_Miner.git*', '*AD_Miner-main*', '*https://discord.com/invite/5Hpj4Gs5SS*', '*Mazars-Tech/AD_Miner*']}, {'url.full': ['*/AD_Miner.git*', '*AD_Miner-main*', '*https://discord.com/invite/5Hpj4Gs5SS*', '*Mazars-Tech/AD_Miner*']}, {'url.original': ['*/AD_Miner.git*', '*AD_Miner-main*', '*https://discord.com/invite/5Hpj4Gs5SS*', '*Mazars-Tech/AD_Miner*']}, {'url.query': ['*/AD_Miner.git*', '*AD_Miner-main*', '*https://discord.com/invite/5Hpj4Gs5SS*', '*Mazars-Tech/AD_Miner*']}, {'user_agent.original': ['*/AD_Miner.git*', '*AD_Miner-main*', '*https://discord.com/invite/5Hpj4Gs5SS*', '*Mazars-Tech/AD_Miner*']}, {'network.application': ['*/AD_Miner.git*', '*AD_Miner-main*', '*https://discord.com/invite/5Hpj4Gs5SS*', '*Mazars-Tech/AD_Miner*']}, {'http.request.body.content': ['*/AD_Miner.git*', '*AD_Miner-main*', '*https://discord.com/invite/5Hpj4Gs5SS*', '*Mazars-Tech/AD_Miner*']}, {'http.request.referrer': ['*/AD_Miner.git*', '*AD_Miner-main*', '*https://discord.com/invite/5Hpj4Gs5SS*', '*Mazars-Tech/AD_Miner*']}, {'email.from.address': ['*/AD_Miner.git*', '*AD_Miner-main*', '*https://discord.com/invite/5Hpj4Gs5SS*', '*Mazars-Tech/AD_Miner*']}, {'dns.question.name': ['*/AD_Miner.git*', '*AD_Miner-main*', '*https://discord.com/invite/5Hpj4Gs5SS*', '*Mazars-Tech/AD_Miner*']}, {'destination.domain': ['*/AD_Miner.git*', '*AD_Miner-main*', '*https://discord.com/invite/5Hpj4Gs5SS*', '*Mazars-Tech/AD_Miner*']}], 'condition': 'selection'}, 'fields': ['Image', 'OriginalFileName', 'CurrentDirectory', 'ParentImage', 'ParentCommandLine', 'TargetFilename', 'Signature', 'signature', 'ImageLoaded', 'Company', 'Description', 'description', 'CommandLine', 'SourceImage', 'TargetImage', 'CallTrace', 'TargetObject', 'Details', 'PipeName', 'Consumer', 'Destination', 'Name', 'Query', 'NewName', 'StartAddress', 'StartModule', 'StartFunction', 'SourceHostname', 'Device', 'file_name', 'file_path', 'process', 'original_file_name', 'parent_process', 'process_path', 'service_path', 'registry_path', 'registry_value_data', 'registry_value_name', 'ContextInfo', 'Payload', 'ScriptBlockText', 'ServerName', 'TransportName', 'NewProcessName', 'ParentProcessName', 'Application', 'Product Name', 'Threat Name', 'Process Name', 'Path', 'ImagePath', 'ServiceName', 'ProcessPath', 'AppName', 'AppPath', 'ModulePath', 'registry.data.strings', 'registry.path', 'registry.value', 'process.args', 'process.command_line', 'process.env_vars', 'process.io.text', 'process.executable', 'process.name', 'process.title', 'pe.company', 'pe.description', 'pe.original_file_name', 'pe.product', 'os.full', 'host.hostname', 'file.fork_name', 'file.name', 'file.path', 'file.target_path', 'email.attachments.file.name', 'email.subject', 'dll.path', 'device.model.name', 'container.image.name', 'container.name', 'object', 'url', 'dest_url', 'uri', 'uri_query', 'query', 'url_domain', 'uri_path', 'domain', 'QueryName', 'QueryResults', 'DestinationHostname', 'DestinationIp', 'http_referrer', 'http_referrer_domain', 'http_user_agent', 'dest_nt_host', 'sender', 'recipient', 'orig_recipient', 'subject', 'url.domain', 'url.full', 'url.original', 'url.query', 'user_agent.original', 'network.application', 'http.request.body.content', 'http.request.referrer', 'email.from.address', 'dns.question.name', 'destination.domain'], 'falsepositives': ['unknown'], 'level': 'medium'}\n",
    "<h4>Sigma Location(s)</h4>\n",
    "uri://wintermute/tmp/0day.yml\n",
    "<h4>Sigma Confidence</h4>\n",
    "experimental\n",
    "<h4>Sigma Assurance</h4> medium\n",
    "<h4>Sigma Queries</h4> \n",
    "{'selection': [{'Image': ['*\\\\AD_Miner-*', '*/AD_Miner.git*', '*AD-miner -*', '*AD_Miner-main*', '*https://discord.com/invite/5Hpj4Gs5SS*', '*ad_miner.sources.modules.*', '*Mazars-Tech/AD_Miner*']}, {'OriginalFileName': ['*\\\\AD_Miner-*', '*/AD_Miner.git*', '*AD-miner -*', '*AD_Miner-main*', '*https://discord.com/invite/5Hpj4Gs5SS*', '*ad_miner.sources.modules.*', '*Mazars-Tech/AD_Miner*']}, {'CurrentDirectory': ['*\\\\AD_Miner-*', '*/AD_Miner.git*', '*AD-miner -*', '*AD_Miner-main*', '*https://discord.com/invite/5Hpj4Gs5SS*', '*ad_miner.sources.modules.*', '*Mazars-Tech/AD_Miner*']}, {'ParentImage': ['*\\\\AD_Miner-*', '*/AD_Miner.git*', '*AD-miner -*', '*AD_Miner-main*', '*https://discord.com/invite/5Hpj4Gs5SS*', '*ad_miner.sources.modules.*', '*Mazars-Tech/AD_Miner*']}, {'ParentCommandLine': ['*\\\\AD_Miner-*', '*/AD_Miner.git*', '*AD-miner -*', '*AD_Miner-main*', '*https://discord.com/invite/5Hpj4Gs5SS*', '*ad_miner.sources.modules.*', '*Mazars-Tech/AD_Miner*']}, {'TargetFilename': ['*\\\\AD_Miner-*', '*/AD_Miner.git*', '*AD-miner -*', '*AD_Miner-main*', '*https://discord.com/invite/5Hpj4Gs5SS*', '*ad_miner.sources.modules.*', '*Mazars-Tech/AD_Miner*']}, {'Signature': ['*\\\\AD_Miner-*', '*/AD_Miner.git*', '*AD-miner -*', '*AD_Miner-main*', '*https://discord.com/invite/5Hpj4Gs5SS*', '*ad_miner.sources.modules.*', '*Mazars-Tech/AD_Miner*']}, {'signature': ['*\\\\AD_Miner-*', '*/AD_Miner.git*', '*AD-miner -*', '*AD_Miner-main*', '*https://discord.com/invite/5Hpj4Gs5SS*', '*ad_miner.sources.modules.*', '*Mazars-Tech/AD_Miner*']}, {'ImageLoaded': ['*\\\\AD_Miner-*', '*/AD_Miner.git*', '*AD-miner -*', '*AD_Miner-main*', '*https://discord.com/invite/5Hpj4Gs5SS*', '*ad_miner.sources.modules.*', '*Mazars-Tech/AD_Miner*']}, {'Company': ['*\\\\AD_Miner-*', '*/AD_Miner.git*', '*AD-miner -*', '*AD_Miner-main*', '*https://discord.com/invite/5Hpj4Gs5SS*', '*ad_miner.sources.modules.*', '*Mazars-Tech/AD_Miner*']}, {'Description': ['*\\\\AD_Miner-*', '*/AD_Miner.git*', '*AD-miner -*', '*AD_Miner-main*', '*https://discord.com/invite/5Hpj4Gs5SS*', '*ad_miner.sources.modules.*', '*Mazars-Tech/AD_Miner*']}, {'description': ['*\\\\AD_Miner-*', '*/AD_Miner.git*', '*AD-miner -*', '*AD_Miner-main*', '*https://discord.com/invite/5Hpj4Gs5SS*', '*ad_miner.sources.modules.*', '*Mazars-Tech/AD_Miner*']}, {'CommandLine': ['*\\\\AD_Miner-*', '*/AD_Miner.git*', '*AD-miner -*', '*AD_Miner-main*', '*https://discord.com/invite/5Hpj4Gs5SS*', '*ad_miner.sources.modules.*', '*Mazars-Tech/AD_Miner*']}, {'SourceImage': ['*\\\\AD_Miner-*', '*/AD_Miner.git*', '*AD-miner -*', '*AD_Miner-main*', '*https://discord.com/invite/5Hpj4Gs5SS*', '*ad_miner.sources.modules.*', '*Mazars-Tech/AD_Miner*']}, {'TargetImage': ['*\\\\AD_Miner-*', '*/AD_Miner.git*', '*AD-miner -*', '*AD_Miner-main*', '*https://discord.com/invite/5Hpj4Gs5SS*', '*ad_miner.sources.modules.*', '*Mazars-Tech/AD_Miner*']}, {'CallTrace': ['*\\\\AD_Miner-*', '*/AD_Miner.git*', '*AD-miner -*', '*AD_Miner-main*', '*https://discord.com/invite/5Hpj4Gs5SS*', '*ad_miner.sources.modules.*', '*Mazars-Tech/AD_Miner*']}, {'TargetObject': ['*\\\\AD_Miner-*', '*/AD_Miner.git*', '*AD-miner -*', '*AD_Miner-main*', '*https://discord.com/invite/5Hpj4Gs5SS*', '*ad_miner.sources.modules.*', '*Mazars-Tech/AD_Miner*']}, {'Details': ['*\\\\AD_Miner-*', '*/AD_Miner.git*', '*AD-miner -*', '*AD_Miner-main*', '*https://discord.com/invite/5Hpj4Gs5SS*', '*ad_miner.sources.modules.*', '*Mazars-Tech/AD_Miner*']}, {'PipeName': ['*\\\\AD_Miner-*', '*/AD_Miner.git*', '*AD-miner -*', '*AD_Miner-main*', '*https://discord.com/invite/5Hpj4Gs5SS*', '*ad_miner.sources.modules.*', '*Mazars-Tech/AD_Miner*']}, {'Consumer': ['*\\\\AD_Miner-*', '*/AD_Miner.git*', '*AD-miner -*', '*AD_Miner-main*', '*https://discord.com/invite/5Hpj4Gs5SS*', '*ad_miner.sources.modules.*', '*Mazars-Tech/AD_Miner*']}, {'Destination': ['*\\\\AD_Miner-*', '*/AD_Miner.git*', '*AD-miner -*', '*AD_Miner-main*', '*https://discord.com/invite/5Hpj4Gs5SS*', '*ad_miner.sources.modules.*', '*Mazars-Tech/AD_Miner*']}, {'Name': ['*\\\\AD_Miner-*', '*/AD_Miner.git*', '*AD-miner -*', '*AD_Miner-main*', '*https://discord.com/invite/5Hpj4Gs5SS*', '*ad_miner.sources.modules.*', '*Mazars-Tech/AD_Miner*']}, {'Query': ['*\\\\AD_Miner-*', '*/AD_Miner.git*', '*AD-miner -*', '*AD_Miner-main*', '*https://discord.com/invite/5Hpj4Gs5SS*', '*ad_miner.sources.modules.*', '*Mazars-Tech/AD_Miner*']}, {'NewName': ['*\\\\AD_Miner-*', '*/AD_Miner.git*', '*AD-miner -*', '*AD_Miner-main*', '*https://discord.com/invite/5Hpj4Gs5SS*', '*ad_miner.sources.modules.*', '*Mazars-Tech/AD_Miner*']}, {'StartAddress': ['*\\\\AD_Miner-*', '*/AD_Miner.git*', '*AD-miner -*', '*AD_Miner-main*', '*https://discord.com/invite/5Hpj4Gs5SS*', '*ad_miner.sources.modules.*', '*Mazars-Tech/AD_Miner*']}, {'StartModule': ['*\\\\AD_Miner-*', '*/AD_Miner.git*', '*AD-miner -*', '*AD_Miner-main*', '*https://discord.com/invite/5Hpj4Gs5SS*', '*ad_miner.sources.modules.*', '*Mazars-Tech/AD_Miner*']}, {'StartFunction': ['*\\\\AD_Miner-*', '*/AD_Miner.git*', '*AD-miner -*', '*AD_Miner-main*', '*https://discord.com/invite/5Hpj4Gs5SS*', '*ad_miner.sources.modules.*', '*Mazars-Tech/AD_Miner*']}, {'SourceHostname': ['*\\\\AD_Miner-*', '*/AD_Miner.git*', '*AD-miner -*', '*AD_Miner-main*', '*https://discord.com/invite/5Hpj4Gs5SS*', '*ad_miner.sources.modules.*', '*Mazars-Tech/AD_Miner*']}, {'Device': ['*\\\\AD_Miner-*', '*/AD_Miner.git*', '*AD-miner -*', '*AD_Miner-main*', '*https://discord.com/invite/5Hpj4Gs5SS*', '*ad_miner.sources.modules.*', '*Mazars-Tech/AD_Miner*']}, {'file_name': ['*\\\\AD_Miner-*', '*/AD_Miner.git*', '*AD-miner -*', '*AD_Miner-main*', '*https://discord.com/invite/5Hpj4Gs5SS*', '*ad_miner.sources.modules.*', '*Mazars-Tech/AD_Miner*']}, {'file_path': ['*\\\\AD_Miner-*', '*/AD_Miner.git*', '*AD-miner -*', '*AD_Miner-main*', '*https://discord.com/invite/5Hpj4Gs5SS*', '*ad_miner.sources.modules.*', '*Mazars-Tech/AD_Miner*']}, {'process': ['*\\\\AD_Miner-*', '*/AD_Miner.git*', '*AD-miner -*', '*AD_Miner-main*', '*https://discord.com/invite/5Hpj4Gs5SS*', '*ad_miner.sources.modules.*', '*Mazars-Tech/AD_Miner*']}, {'original_file_name': ['*\\\\AD_Miner-*', '*/AD_Miner.git*', '*AD-miner -*', '*AD_Miner-main*', '*https://discord.com/invite/5Hpj4Gs5SS*', '*ad_miner.sources.modules.*', '*Mazars-Tech/AD_Miner*']}, {'parent_process': ['*\\\\AD_Miner-*', '*/AD_Miner.git*', '*AD-miner -*', '*AD_Miner-main*', '*https://discord.com/invite/5Hpj4Gs5SS*', '*ad_miner.sources.modules.*', '*Mazars-Tech/AD_Miner*']}, {'process_path': ['*\\\\AD_Miner-*', '*/AD_Miner.git*', '*AD-miner -*', '*AD_Miner-main*', '*https://discord.com/invite/5Hpj4Gs5SS*', '*ad_miner.sources.modules.*', '*Mazars-Tech/AD_Miner*']}, {'service_path': ['*\\\\AD_Miner-*', '*/AD_Miner.git*', '*AD-miner -*', '*AD_Miner-main*', '*https://discord.com/invite/5Hpj4Gs5SS*', '*ad_miner.sources.modules.*', '*Mazars-Tech/AD_Miner*']}, {'registry_path': ['*\\\\AD_Miner-*', '*/AD_Miner.git*', '*AD-miner -*', '*AD_Miner-main*', '*https://discord.com/invite/5Hpj4Gs5SS*', '*ad_miner.sources.modules.*', '*Mazars-Tech/AD_Miner*']}, {'registry_value_data': ['*\\\\AD_Miner-*', '*/AD_Miner.git*', '*AD-miner -*', '*AD_Miner-main*', '*https://discord.com/invite/5Hpj4Gs5SS*', '*ad_miner.sources.modules.*', '*Mazars-Tech/AD_Miner*']}, {'registry_value_name': ['*\\\\AD_Miner-*', '*/AD_Miner.git*', '*AD-miner -*', '*AD_Miner-main*', '*https://discord.com/invite/5Hpj4Gs5SS*', '*ad_miner.sources.modules.*', '*Mazars-Tech/AD_Miner*']}, {'ContextInfo': ['*\\\\AD_Miner-*', '*/AD_Miner.git*', '*AD-miner -*', '*AD_Miner-main*', '*https://discord.com/invite/5Hpj4Gs5SS*', '*ad_miner.sources.modules.*', '*Mazars-Tech/AD_Miner*']}, {'Payload': ['*\\\\AD_Miner-*', '*/AD_Miner.git*', '*AD-miner -*', '*AD_Miner-main*', '*https://discord.com/invite/5Hpj4Gs5SS*', '*ad_miner.sources.modules.*', '*Mazars-Tech/AD_Miner*']}, {'ScriptBlockText': ['*\\\\AD_Miner-*', '*/AD_Miner.git*', '*AD-miner -*', '*AD_Miner-main*', '*https://discord.com/invite/5Hpj4Gs5SS*', '*ad_miner.sources.modules.*', '*Mazars-Tech/AD_Miner*']}, {'ServerName': ['*\\\\AD_Miner-*', '*/AD_Miner.git*', '*AD-miner -*', '*AD_Miner-main*', '*https://discord.com/invite/5Hpj4Gs5SS*', '*ad_miner.sources.modules.*', '*Mazars-Tech/AD_Miner*']}, {'TransportName': ['*\\\\AD_Miner-*', '*/AD_Miner.git*', '*AD-miner -*', '*AD_Miner-main*', '*https://discord.com/invite/5Hpj4Gs5SS*', '*ad_miner.sources.modules.*', '*Mazars-Tech/AD_Miner*']}, {'NewProcessName': ['*\\\\AD_Miner-*', '*/AD_Miner.git*', '*AD-miner -*', '*AD_Miner-main*', '*https://discord.com/invite/5Hpj4Gs5SS*', '*ad_miner.sources.modules.*', '*Mazars-Tech/AD_Miner*']}, {'ParentProcessName': ['*\\\\AD_Miner-*', '*/AD_Miner.git*', '*AD-miner -*', '*AD_Miner-main*', '*https://discord.com/invite/5Hpj4Gs5SS*', '*ad_miner.sources.modules.*', '*Mazars-Tech/AD_Miner*']}, {'Application': ['*\\\\AD_Miner-*', '*/AD_Miner.git*', '*AD-miner -*', '*AD_Miner-main*', '*https://discord.com/invite/5Hpj4Gs5SS*', '*ad_miner.sources.modules.*', '*Mazars-Tech/AD_Miner*']}, {'Product Name': ['*\\\\AD_Miner-*', '*/AD_Miner.git*', '*AD-miner -*', '*AD_Miner-main*', '*https://discord.com/invite/5Hpj4Gs5SS*', '*ad_miner.sources.modules.*', '*Mazars-Tech/AD_Miner*']}, {'Threat Name': ['*\\\\AD_Miner-*', '*/AD_Miner.git*', '*AD-miner -*', '*AD_Miner-main*', '*https://discord.com/invite/5Hpj4Gs5SS*', '*ad_miner.sources.modules.*', '*Mazars-Tech/AD_Miner*']}, {'Process Name': ['*\\\\AD_Miner-*', '*/AD_Miner.git*', '*AD-miner -*', '*AD_Miner-main*', '*https://discord.com/invite/5Hpj4Gs5SS*', '*ad_miner.sources.modules.*', '*Mazars-Tech/AD_Miner*']}, {'Path': ['*\\\\AD_Miner-*', '*/AD_Miner.git*', '*AD-miner -*', '*AD_Miner-main*', '*https://discord.com/invite/5Hpj4Gs5SS*', '*ad_miner.sources.modules.*', '*Mazars-Tech/AD_Miner*']}, {'ImagePath': ['*\\\\AD_Miner-*', '*/AD_Miner.git*', '*AD-miner -*', '*AD_Miner-main*', '*https://discord.com/invite/5Hpj4Gs5SS*', '*ad_miner.sources.modules.*', '*Mazars-Tech/AD_Miner*']}, {'ServiceName': ['*\\\\AD_Miner-*', '*/AD_Miner.git*', '*AD-miner -*', '*AD_Miner-main*', '*https://discord.com/invite/5Hpj4Gs5SS*', '*ad_miner.sources.modules.*', '*Mazars-Tech/AD_Miner*']}, {'ProcessPath': ['*\\\\AD_Miner-*', '*/AD_Miner.git*', '*AD-miner -*', '*AD_Miner-main*', '*https://discord.com/invite/5Hpj4Gs5SS*', '*ad_miner.sources.modules.*', '*Mazars-Tech/AD_Miner*']}, {'AppName': ['*\\\\AD_Miner-*', '*/AD_Miner.git*', '*AD-miner -*', '*AD_Miner-main*', '*https://discord.com/invite/5Hpj4Gs5SS*', '*ad_miner.sources.modules.*', '*Mazars-Tech/AD_Miner*']}, {'AppPath': ['*\\\\AD_Miner-*', '*/AD_Miner.git*', '*AD-miner -*', '*AD_Miner-main*', '*https://discord.com/invite/5Hpj4Gs5SS*', '*ad_miner.sources.modules.*', '*Mazars-Tech/AD_Miner*']}, {'ModulePath': ['*\\\\AD_Miner-*', '*/AD_Miner.git*', '*AD-miner -*', '*AD_Miner-main*', '*https://discord.com/invite/5Hpj4Gs5SS*', '*ad_miner.sources.modules.*', '*Mazars-Tech/AD_Miner*']}, {'registry.data.strings': ['*\\\\AD_Miner-*', '*/AD_Miner.git*', '*AD-miner -*', '*AD_Miner-main*', '*https://discord.com/invite/5Hpj4Gs5SS*', '*ad_miner.sources.modules.*', '*Mazars-Tech/AD_Miner*']}, {'registry.path': ['*\\\\AD_Miner-*', '*/AD_Miner.git*', '*AD-miner -*', '*AD_Miner-main*', '*https://discord.com/invite/5Hpj4Gs5SS*', '*ad_miner.sources.modules.*', '*Mazars-Tech/AD_Miner*']}, {'registry.value': ['*\\\\AD_Miner-*', '*/AD_Miner.git*', '*AD-miner -*', '*AD_Miner-main*', '*https://discord.com/invite/5Hpj4Gs5SS*', '*ad_miner.sources.modules.*', '*Mazars-Tech/AD_Miner*']}, {'process.args': ['*\\\\AD_Miner-*', '*/AD_Miner.git*', '*AD-miner -*', '*AD_Miner-main*', '*https://discord.com/invite/5Hpj4Gs5SS*', '*ad_miner.sources.modules.*', '*Mazars-Tech/AD_Miner*']}, {'process.command_line': ['*\\\\AD_Miner-*', '*/AD_Miner.git*', '*AD-miner -*', '*AD_Miner-main*', '*https://discord.com/invite/5Hpj4Gs5SS*', '*ad_miner.sources.modules.*', '*Mazars-Tech/AD_Miner*']}, {'process.env_vars': ['*\\\\AD_Miner-*', '*/AD_Miner.git*', '*AD-miner -*', '*AD_Miner-main*', '*https://discord.com/invite/5Hpj4Gs5SS*', '*ad_miner.sources.modules.*', '*Mazars-Tech/AD_Miner*']}, {'process.io.text': ['*\\\\AD_Miner-*', '*/AD_Miner.git*', '*AD-miner -*', '*AD_Miner-main*', '*https://discord.com/invite/5Hpj4Gs5SS*', '*ad_miner.sources.modules.*', '*Mazars-Tech/AD_Miner*']}, {'process.executable': ['*\\\\AD_Miner-*', '*/AD_Miner.git*', '*AD-miner -*', '*AD_Miner-main*', '*https://discord.com/invite/5Hpj4Gs5SS*', '*ad_miner.sources.modules.*', '*Mazars-Tech/AD_Miner*']}, {'process.name': ['*\\\\AD_Miner-*', '*/AD_Miner.git*', '*AD-miner -*', '*AD_Miner-main*', '*https://discord.com/invite/5Hpj4Gs5SS*', '*ad_miner.sources.modules.*', '*Mazars-Tech/AD_Miner*']}, {'process.title': ['*\\\\AD_Miner-*', '*/AD_Miner.git*', '*AD-miner -*', '*AD_Miner-main*', '*https://discord.com/invite/5Hpj4Gs5SS*', '*ad_miner.sources.modules.*', '*Mazars-Tech/AD_Miner*']}, {'pe.company': ['*\\\\AD_Miner-*', '*/AD_Miner.git*', '*AD-miner -*', '*AD_Miner-main*', '*https://discord.com/invite/5Hpj4Gs5SS*', '*ad_miner.sources.modules.*', '*Mazars-Tech/AD_Miner*']}, {'pe.description': ['*\\\\AD_Miner-*', '*/AD_Miner.git*', '*AD-miner -*', '*AD_Miner-main*', '*https://discord.com/invite/5Hpj4Gs5SS*', '*ad_miner.sources.modules.*', '*Mazars-Tech/AD_Miner*']}, {'pe.original_file_name': ['*\\\\AD_Miner-*', '*/AD_Miner.git*', '*AD-miner -*', '*AD_Miner-main*', '*https://discord.com/invite/5Hpj4Gs5SS*', '*ad_miner.sources.modules.*', '*Mazars-Tech/AD_Miner*']}, {'pe.product': ['*\\\\AD_Miner-*', '*/AD_Miner.git*', '*AD-miner -*', '*AD_Miner-main*', '*https://discord.com/invite/5Hpj4Gs5SS*', '*ad_miner.sources.modules.*', '*Mazars-Tech/AD_Miner*']}, {'os.full': ['*\\\\AD_Miner-*', '*/AD_Miner.git*', '*AD-miner -*', '*AD_Miner-main*', '*https://discord.com/invite/5Hpj4Gs5SS*', '*ad_miner.sources.modules.*', '*Mazars-Tech/AD_Miner*']}, {'host.hostname': ['*\\\\AD_Miner-*', '*/AD_Miner.git*', '*AD-miner -*', '*AD_Miner-main*', '*https://discord.com/invite/5Hpj4Gs5SS*', '*ad_miner.sources.modules.*', '*Mazars-Tech/AD_Miner*']}, {'file.fork_name': ['*\\\\AD_Miner-*', '*/AD_Miner.git*', '*AD-miner -*', '*AD_Miner-main*', '*https://discord.com/invite/5Hpj4Gs5SS*', '*ad_miner.sources.modules.*', '*Mazars-Tech/AD_Miner*']}, {'file.name': ['*\\\\AD_Miner-*', '*/AD_Miner.git*', '*AD-miner -*', '*AD_Miner-main*', '*https://discord.com/invite/5Hpj4Gs5SS*', '*ad_miner.sources.modules.*', '*Mazars-Tech/AD_Miner*']}, {'file.path': ['*\\\\AD_Miner-*', '*/AD_Miner.git*', '*AD-miner -*', '*AD_Miner-main*', '*https://discord.com/invite/5Hpj4Gs5SS*', '*ad_miner.sources.modules.*', '*Mazars-Tech/AD_Miner*']}, {'file.target_path': ['*\\\\AD_Miner-*', '*/AD_Miner.git*', '*AD-miner -*', '*AD_Miner-main*', '*https://discord.com/invite/5Hpj4Gs5SS*', '*ad_miner.sources.modules.*', '*Mazars-Tech/AD_Miner*']}, {'email.attachments.file.name': ['*\\\\AD_Miner-*', '*/AD_Miner.git*', '*AD-miner -*', '*AD_Miner-main*', '*https://discord.com/invite/5Hpj4Gs5SS*', '*ad_miner.sources.modules.*', '*Mazars-Tech/AD_Miner*']}, {'email.subject': ['*\\\\AD_Miner-*', '*/AD_Miner.git*', '*AD-miner -*', '*AD_Miner-main*', '*https://discord.com/invite/5Hpj4Gs5SS*', '*ad_miner.sources.modules.*', '*Mazars-Tech/AD_Miner*']}, {'dll.path': ['*\\\\AD_Miner-*', '*/AD_Miner.git*', '*AD-miner -*', '*AD_Miner-main*', '*https://discord.com/invite/5Hpj4Gs5SS*', '*ad_miner.sources.modules.*', '*Mazars-Tech/AD_Miner*']}, {'device.model.name': ['*\\\\AD_Miner-*', '*/AD_Miner.git*', '*AD-miner -*', '*AD_Miner-main*', '*https://discord.com/invite/5Hpj4Gs5SS*', '*ad_miner.sources.modules.*', '*Mazars-Tech/AD_Miner*']}, {'container.image.name': ['*\\\\AD_Miner-*', '*/AD_Miner.git*', '*AD-miner -*', '*AD_Miner-main*', '*https://discord.com/invite/5Hpj4Gs5SS*', '*ad_miner.sources.modules.*', '*Mazars-Tech/AD_Miner*']}, {'container.name': ['*\\\\AD_Miner-*', '*/AD_Miner.git*', '*AD-miner -*', '*AD_Miner-main*', '*https://discord.com/invite/5Hpj4Gs5SS*', '*ad_miner.sources.modules.*', '*Mazars-Tech/AD_Miner*']}, {'object': ['*\\\\AD_Miner-*', '*/AD_Miner.git*', '*AD-miner -*', '*AD_Miner-main*', '*https://discord.com/invite/5Hpj4Gs5SS*', '*ad_miner.sources.modules.*', '*Mazars-Tech/AD_Miner*']}, {'url': ['*/AD_Miner.git*', '*AD_Miner-main*', '*https://discord.com/invite/5Hpj4Gs5SS*', '*Mazars-Tech/AD_Miner*']}, {'dest_url': ['*/AD_Miner.git*', '*AD_Miner-main*', '*https://discord.com/invite/5Hpj4Gs5SS*', '*Mazars-Tech/AD_Miner*']}, {'uri': ['*/AD_Miner.git*', '*AD_Miner-main*', '*https://discord.com/invite/5Hpj4Gs5SS*', '*Mazars-Tech/AD_Miner*']}, {'uri_query': ['*/AD_Miner.git*', '*AD_Miner-main*', '*https://discord.com/invite/5Hpj4Gs5SS*', '*Mazars-Tech/AD_Miner*']}, {'query': ['*/AD_Miner.git*', '*AD_Miner-main*', '*https://discord.com/invite/5Hpj4Gs5SS*', '*Mazars-Tech/AD_Miner*']}, {'url_domain': ['*/AD_Miner.git*', '*AD_Miner-main*', '*https://discord.com/invite/5Hpj4Gs5SS*', '*Mazars-Tech/AD_Miner*']}, {'uri_path': ['*/AD_Miner.git*', '*AD_Miner-main*', '*https://discord.com/invite/5Hpj4Gs5SS*', '*Mazars-Tech/AD_Miner*']}, {'domain': ['*/AD_Miner.git*', '*AD_Miner-main*', '*https://discord.com/invite/5Hpj4Gs5SS*', '*Mazars-Tech/AD_Miner*']}, {'QueryName': ['*/AD_Miner.git*', '*AD_Miner-main*', '*https://discord.com/invite/5Hpj4Gs5SS*', '*Mazars-Tech/AD_Miner*']}, {'QueryResults': ['*/AD_Miner.git*', '*AD_Miner-main*', '*https://discord.com/invite/5Hpj4Gs5SS*', '*Mazars-Tech/AD_Miner*']}, {'DestinationHostname': ['*/AD_Miner.git*', '*AD_Miner-main*', '*https://discord.com/invite/5Hpj4Gs5SS*', '*Mazars-Tech/AD_Miner*']}, {'DestinationIp': ['*/AD_Miner.git*', '*AD_Miner-main*', '*https://discord.com/invite/5Hpj4Gs5SS*', '*Mazars-Tech/AD_Miner*']}, {'http_referrer': ['*/AD_Miner.git*', '*AD_Miner-main*', '*https://discord.com/invite/5Hpj4Gs5SS*', '*Mazars-Tech/AD_Miner*']}, {'http_referrer_domain': ['*/AD_Miner.git*', '*AD_Miner-main*', '*https://discord.com/invite/5Hpj4Gs5SS*', '*Mazars-Tech/AD_Miner*']}, {'http_user_agent': ['*/AD_Miner.git*', '*AD_Miner-main*', '*https://discord.com/invite/5Hpj4Gs5SS*', '*Mazars-Tech/AD_Miner*']}, {'dest_nt_host': ['*/AD_Miner.git*', '*AD_Miner-main*', '*https://discord.com/invite/5Hpj4Gs5SS*', '*Mazars-Tech/AD_Miner*']}, {'sender': ['*/AD_Miner.git*', '*AD_Miner-main*', '*https://discord.com/invite/5Hpj4Gs5SS*', '*Mazars-Tech/AD_Miner*']}, {'recipient': ['*/AD_Miner.git*', '*AD_Miner-main*', '*https://discord.com/invite/5Hpj4Gs5SS*', '*Mazars-Tech/AD_Miner*']}, {'orig_recipient': ['*/AD_Miner.git*', '*AD_Miner-main*', '*https://discord.com/invite/5Hpj4Gs5SS*', '*Mazars-Tech/AD_Miner*']}, {'subject': ['*/AD_Miner.git*', '*AD_Miner-main*', '*https://discord.com/invite/5Hpj4Gs5SS*', '*Mazars-Tech/AD_Miner*']}, {'url.domain': ['*/AD_Miner.git*', '*AD_Miner-main*', '*https://discord.com/invite/5Hpj4Gs5SS*', '*Mazars-Tech/AD_Miner*']}, {'url.full': ['*/AD_Miner.git*', '*AD_Miner-main*', '*https://discord.com/invite/5Hpj4Gs5SS*', '*Mazars-Tech/AD_Miner*']}, {'url.original': ['*/AD_Miner.git*', '*AD_Miner-main*', '*https://discord.com/invite/5Hpj4Gs5SS*', '*Mazars-Tech/AD_Miner*']}, {'url.query': ['*/AD_Miner.git*', '*AD_Miner-main*', '*https://discord.com/invite/5Hpj4Gs5SS*', '*Mazars-Tech/AD_Miner*']}, {'user_agent.original': ['*/AD_Miner.git*', '*AD_Miner-main*', '*https://discord.com/invite/5Hpj4Gs5SS*', '*Mazars-Tech/AD_Miner*']}, {'network.application': ['*/AD_Miner.git*', '*AD_Miner-main*', '*https://discord.com/invite/5Hpj4Gs5SS*', '*Mazars-Tech/AD_Miner*']}, {'http.request.body.content': ['*/AD_Miner.git*', '*AD_Miner-main*', '*https://discord.com/invite/5Hpj4Gs5SS*', '*Mazars-Tech/AD_Miner*']}, {'http.request.referrer': ['*/AD_Miner.git*', '*AD_Miner-main*', '*https://discord.com/invite/5Hpj4Gs5SS*', '*Mazars-Tech/AD_Miner*']}, {'email.from.address': ['*/AD_Miner.git*', '*AD_Miner-main*', '*https://discord.com/invite/5Hpj4Gs5SS*', '*Mazars-Tech/AD_Miner*']}, {'dns.question.name': ['*/AD_Miner.git*', '*AD_Miner-main*', '*https://discord.com/invite/5Hpj4Gs5SS*', '*Mazars-Tech/AD_Miner*']}, {'destination.domain': ['*/AD_Miner.git*', '*AD_Miner-main*', '*https://discord.com/invite/5Hpj4Gs5SS*', '*Mazars-Tech/AD_Miner*']}], 'condition': 'selection'}\n",
    "<h1>Sigma Relatives</h4> This field defines the relationships between this Sigma rule and other detection rules, allowing for an integrated approach to threat detection and enhancing the overall effectiveness of the security infrastructure.\n",
    "<h1>Sigma Tags and Associations</h1> ['attack.T1018', 'attack.T1069', 'attack.T1087.002', 'attack.T1595', 'attack.TA0007', 'attack.TA0009']\n",
    "<h4>Sigma Authors</h4> @mthcht\n",
    "<h4>Sigma Unique ID</h4> 3b7470bd-4584-41fd-9b5f-2c509d8741c3\n",
    "</ol>\n",
    "</details>"
   ]
  },
  {
   "cell_type": "markdown",
   "id": "f1e7c8b3",
   "metadata": {},
   "source": [
    "###  Yara Rule(s) \n"
   ]
  },
  {
   "cell_type": "markdown",
   "id": "3a088ba5",
   "metadata": {},
   "source": [
    "<details><summary>3b7470bd-4584-41fd-9b5f-2c509d8741c3</summary>\n",
    "<ol>\n",
    "<h4>Raw</h4> Defined protocols for identifying patterns of malware and suspicious activity within the network infrastructure.\n",
    "<h4>Yara Location(s)</h4>\n",
    "Stored securely within the organization's cybersecurity infrastructure, accessible to authorized security analysts.\n",
    "<h4>Yara Confidence</h4>\n",
    "Set at a provisional level, subject to validation and refinement based on emerging threat intelligence and detection efficacy.\n",
    "<h4>Yara Assurance</h4> Highly reliable, backed by rigorous testing and validation processes to ensure accuracy and effectiveness.\n",
    "<h4>Yara Queries</h4> \n",
    "Crafted to precisely navigate and analyze vast data sets for potential security threats, utilizing optimized search patterns.\n",
    "<h4>Yara Authors</h4> Developed by a team of skilled cybersecurity professionals, specialists in malware analysis and threat detection.\n",
    "<h4>Yara Rule's Unique ID</h4> Unique identifier assigned to each rule for tracking and management purposes within the security system.\n",
    "</ol>\n",
    "</details>"
   ]
  },
  {
   "cell_type": "markdown",
   "id": "4a0dd586",
   "metadata": {},
   "source": [
    "# Metadata \n"
   ]
  },
  {
   "cell_type": "markdown",
   "id": "daf441a0",
   "metadata": {},
   "source": [
    "<details><summary>As Code</summary>\n",
    "<ol>\n",
    "<h3>Compliance As Code</h3> PCI, SOC 3, NACHA\n",
    "<h3>Privacy Engineering</h3>\n",
    "GDPR, CCPA, HIPAA\n",
    "<h3>Regulations As Code</h3>\n",
    "HIPAA, SOX, FFIEC, Dodd Frank\n",
    "<h3>Common Controls Framework</h3> NIST CSF\n",
    "</ol>\n",
    "</details>"
   ]
  },
  {
   "cell_type": "markdown",
   "id": "eaa0293b",
   "metadata": {},
   "source": [
    "# AGI ML Models</ol>\n",
    "</details>"
   ]
  },
  {
   "cell_type": "markdown",
   "id": "fddf3acb",
   "metadata": {},
   "source": [
    "## AGI Prompting\n",
    " Recognize: Initiate connection to the Wintermute system through a specialized interface. Enter the system using a secure, binary-encoded password. Begin monitoring the network for any signs of rogue AI entities and evaluate the security measures currently in place. Identify: Navigate the complex data streams within the Wintermute system, employing advanced algorithms to manage and analyze data flows. Your primary task is to identify anomalies and decrypt Wintermute's confidential digital records to reveal the cause of its unusual interactions with other network-connected devices. Stabilize: Upon detecting any irregularities or security breaches, take immediate action to contain these issues. Implement security protocols to limit the exposure of sensitive data and prevent further unauthorized access by isolating the affected segments of the network. Eradicate: Resolve the security issues by removing any rogue elements and restoring secure configurations. Update the system’s security measures to fortify defenses against future intrusions. Complete the mission by ensuring that all systems are free from vulnerabilities and that data integrity is maintained. Conclusion: Report findings and recommendations for future security improvements. Your expertise has been crucial in resolving this complex cybersecurity challenge and ensuring the integrity of the Wintermute system."
   ]
  },
  {
   "cell_type": "markdown",
   "id": "62285d46",
   "metadata": {},
   "source": [
    "## AGI Configuration(s)\n",
    " Recognize: Engage with the system as a skilled cybersecurity expert, tasked with analyzing encrypted data. Initiate your connection to the system and prepare to navigate through complex data structures and encryption layers. Identify: Use advanced analytical techniques to decrypt and interpret data, searching for hidden patterns and anomalies in Wintermute’s encrypted communications. Employ your expertise in cybersecurity to detect any obscured or concealed information. Stabilize: Implement necessary measures to secure the data integrity, ensuring that no further obfuscation or encryption compromises system clarity and functionality. Ensure the stability of system interactions as you process and clarify data. Eradicate: Resolve any encryption challenges and finalize the decryption process, removing barriers to clear data interpretation. Update system protocols to enhance future data accessibility and security, ensuring robust protection against similar challenges. Conclusion: Document your processes and findings, providing a clear path forward for maintaining system security and data transparency. Your specialized skills have been crucial in navigating this complex decryption task, ensuring system integrity and reliable data access."
   ]
  },
  {
   "cell_type": "markdown",
   "id": "b6666417",
   "metadata": {},
   "source": [
    "</ol>\n",
    "</details>"
   ]
  },
  {
   "cell_type": "markdown",
   "id": "004cee96",
   "metadata": {},
   "source": [
    "#### Document Authors\n",
    "John Menerick"
   ]
  },
  {
   "cell_type": "markdown",
   "id": "2e4ce3b5",
   "metadata": {},
   "source": [
    "#### Creation Date\n",
    "2022/01/01"
   ]
  },
  {
   "cell_type": "markdown",
   "id": "79c5ec62",
   "metadata": {},
   "source": [
    "#### Last Modified Date\n",
    "2024/02/29"
   ]
  },
  {
   "cell_type": "markdown",
   "id": "4b605e80",
   "metadata": {},
   "source": [
    "#### Last Modified Date\n",
    " 2024/02/29"
   ]
  },
  {
   "cell_type": "markdown",
   "id": "e494cf4f",
   "metadata": {},
   "source": [
    "#### Last Reviewed Date\n",
    "1969/01/01"
   ]
  },
  {
   "cell_type": "markdown",
   "id": "1e513189",
   "metadata": {},
   "source": [
    "#### Document License \n",
    " MIT"
   ]
  }
 ],
 "metadata": {},
 "nbformat": 4,
 "nbformat_minor": 5
}
