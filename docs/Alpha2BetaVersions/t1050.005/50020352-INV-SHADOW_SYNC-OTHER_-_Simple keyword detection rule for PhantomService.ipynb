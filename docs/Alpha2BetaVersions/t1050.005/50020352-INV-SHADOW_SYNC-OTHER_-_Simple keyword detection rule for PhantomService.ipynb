{
 "cells": [
  {
   "cell_type": "markdown",
   "id": "8007e8d8",
   "metadata": {},
   "source": [
    "# UNCLASSIFIED / NON CLASSIFIÉ//TLP:WHITE# U/OO/{random.randint(4365, 862901)}-02 | QQ-09-1998 \n",
    " Please note that the original, detailed content has been removed or adjusted for public consumption. Most data has been redacted and replaced with generic, non-actionable insights. This modification ensures compliance with privacy considerations, non-disclosure agreements, and intellectual property rights that govern the dissemination of sensitive information. The priority is to respect these boundaries while still offering valuable, thought-provoking perspectives."
   ]
  },
  {
   "cell_type": "markdown",
   "id": "054b92b6",
   "metadata": {},
   "source": [
    "![Build Status](https://img.shields.io/badge/Build-Passing-brightgreen?style=flat-square&logo=cyberpunk)         ![Documentation](https://img.shields.io/badge/Documentation-Complete-blue?style=flat-square&logo=cyberpunk)        ![Response Efficiency](https://img.shields.io/badge/Response%20Efficiency-98%25-green?style=flat-square&logo=cyberpunk)        ![Last Updated](https://img.shields.io/badge/Last%20Updated-Oct%202023-purple?style=flat-square&logo=cyberpunk)        ![Incidents Resolved](https://img.shields.io/badge/Incidents%20Resolved-150-red?style=flat-square&logo=cyberpunk)        ![Community Engagement](https://img.shields.io/badge/Community-Active-orange?style=flat-square&logo=cyberpunk)        ![Code Integration](https://img.shields.io/badge/Code%20Integration-High-teal?style=flat-square&logo=cyberpunk)        ![AI Analysis](https://img.shields.io/badge/AI%20Analysis-Advanced-blueviolet?style=flat-square&logo=cyberpunk)        ![Threat Detection](https://img.shields.io/badge/Threat%20Detection-Optimal-red?style=flat-square&logo=cyberpunk)        ![Cybersecurity Hardening](https://img.shields.io/badge/Security-Hardened-silver?style=flat-square&logo=cyberpunk)        ![Network Uptime](https://img.shields.io/badge/Uptime-99.9%25-brightgreen?style=flat-square&logo=cyberpunk)        ![Data Privacy](https://img.shields.io/badge/Privacy-Compliant-green?style=flat-square&logo=cyberpunk)        ![Wintermute Efficiency](https://img.shields.io/badge/Wintermute%20Efficiency-100%25-black?style=flat-square&logo=cyberpunk)        ![Case's Code Agility](https://img.shields.io/badge/Case's%20Code%20Agility-Excellent-blue?style=flat-square&logo=cyberpunk)        ![Matrix Connectivity](https://img.shields.io/badge/Matrix%20Connectivity-Strong-green?style=flat-square&logo=cyberpunk)        ![Molly's Security](https://img.shields.io/badge/Molly's%20Security%20Protocols-Impeccable-red?style=flat-square&logo=cyberpunk)        ![Chiba City Innovation](https://img.shields.io/badge/Chiba%20City%20Innovation-High-yellow?style=flat-square&logo=cyberpunk)        ![Zion Cluster Collaboration](https://img.shields.io/badge/Zion%20Cluster%20Collaboration-Effective-lightblue?style=flat-square&logo=cyberpunk)"
   ]
  },
  {
   "cell_type": "markdown",
   "id": "6f45fe10",
   "metadata": {},
   "source": [
    "# Title\n",
    "Simple keyword detection rule for PhantomService"
   ]
  },
  {
   "cell_type": "markdown",
   "id": "da7cae43",
   "metadata": {},
   "source": [
    "# Description\n",
    "Detects interesting keywords based on PhantomService tool"
   ]
  },
  {
   "cell_type": "markdown",
   "id": "010686f0",
   "metadata": {},
   "source": [
    "# Goal\n",
    "Ensure the integrity, confidentiality, and availability by rapidly identifying, investigating, and mitigating cyber threats and anomalies."
   ]
  },
  {
   "cell_type": "markdown",
   "id": "705d0088",
   "metadata": {},
   "source": [
    "# Categorization"
   ]
  },
  {
   "cell_type": "markdown",
   "id": "50e9d65e",
   "metadata": {},
   "source": [
    "### ATT&CK\n",
    "['attack.T1050.005', 'attack.T1055.001', 'attack.T1070.004', 'attack.TA0002', 'attack.TA0005']"
   ]
  },
  {
   "cell_type": "markdown",
   "id": "415aeb3a",
   "metadata": {},
   "source": [
    "- Distributed Denial of Service (DDoS) Attacks, Quantum Computing Exploits, Advanced Firewall Breach Attempts, Encryption Key Theft or Exposure, AI-Powered Social Engineering Attacks, Algorithmic Manipulation and Exploits, Sophisticated Malware Infiltrations, Advanced Data Obfuscation and Evasion Tactics, System and Network Configuration Vulnerabilities."
   ]
  },
  {
   "cell_type": "markdown",
   "id": "993844ef",
   "metadata": {},
   "source": [
    "- Data Exfiltration, Intrusion Detection Evasion, Denial of Service (DoS) Attacks, Credential Theft."
   ]
  },
  {
   "cell_type": "markdown",
   "id": "ceb3a15c",
   "metadata": {},
   "source": [
    "- DNS Tunneling, IP Spoofing, Distributed DoS (DDoS) Attacks, Keylogging."
   ]
  },
  {
   "cell_type": "markdown",
   "id": "e7f5d3bc",
   "metadata": {},
   "source": [
    "### D3F3ND \n"
   ]
  },
  {
   "cell_type": "markdown",
   "id": "b3d407d3",
   "metadata": {},
   "source": [
    "\n",
    "<ul>\n",
    "  <li><strong>Network Segmentation and Access Control (D3F3ND-K001):</strong> Establish secure network zones by segmenting the infrastructure, enhancing protection for critical assets. Implement stringent access controls to prevent unauthorized access and mitigate potential threats.</li>\n",
    "\n",
    "  <li><strong>Advanced Endpoint Protection Deployment (D3F3ND-K002):</strong> Deploy cutting-edge endpoint security solutions that utilize machine learning and behavioral analysis to detect and neutralize threats proactively.</li>\n",
    "\n",
    "  <li><strong>Enhanced Identity Verification (D3F3ND-K003):</strong> Strengthen security measures with multi-factor authentication combining biometric data and advanced encryption to prevent identity theft and unauthorized access.</li>\n",
    "\n",
    "  <li><strong>Anomaly Detection (D3F3ND-K004):</strong> Use anomaly detection tools to monitor for unusual traffic patterns, user activities, and system behaviors to identify potential security breaches early.</li>\n",
    "\n",
    "  <li><strong>Data Encryption (D3F3ND-K005):</strong> Apply robust encryption techniques to protect data at rest and in transit, ensuring confidentiality and integrity across communication channels.</li>\n",
    "\n",
    "  <li><strong>System Hardening and Vulnerability Management (D3F3ND-K006):</strong> Conduct regular security assessments and apply patches promptly to address vulnerabilities and strengthen system defenses.</li>\n",
    "\n",
    "  <li><strong>Crisis Management and Recovery Protocols (D3F3ND-K007):</strong> Develop and maintain comprehensive crisis management plans including incident response and disaster recovery procedures to quickly recover from security incidents.</li>\n",
    "\n",
    "  <li><strong>Threat Intelligence Integration (D3F3ND-K008):</strong> Leverage threat intelligence platforms to gather and analyze data on emerging threats, enabling proactive defense and strategic decision-making.</li>\n",
    "\n",
    "  <li><strong>Cybersecurity Awareness Training (D3F3ND-K009):</strong> Empower employees with ongoing cybersecurity education to recognize and avoid potential cyber threats such as phishing attacks.</li>\n",
    "\n",
    "  <li><strong>Supply Chain Security (D3F3ND-K010):</strong> Secure the supply chain through continuous assessments and audits of partners and vendors to ensure compliance with security standards and reduce vulnerabilities.</li>\n",
    "</ul>\n"
   ]
  },
  {
   "cell_type": "markdown",
   "id": "eb9796e5",
   "metadata": {},
   "source": [
    "### CAPEC \n",
    "  "
   ]
  },
  {
   "cell_type": "markdown",
   "id": "46d382c9",
   "metadata": {},
   "source": [
    "Equip cybersecurity teams with the knowledge and tools to identify, counter, and mitigate a wide range of digital attack tactics, techniques, and procedures (TTPs). This effort requires understanding the attacker's mindset, mastering the execution of digital attacks, and developing strategies to confront evolving cyber threats.</br><h4>Core Attack Patterns</h4><ul><strong>Resource Manipulation and Denial (CAPEC-XYZ1):</strong> Involves attacks that compromise the availability, integrity, or confidentiality of resources. This includes denial of service attacks as well as more covert operations like resource hijacking or system manipulation.</ul><ul><strong>Credential Access and Privilege Escalation (CAPEC-XYZ2):</strong> Focuses on exploiting flaws in authentication, authorization, and session management to gain unauthorized access or elevated privileges within systems.</ul><ul><strong>Data Exfiltration and Infiltration (CAPEC-XYZ3):</strong> Encompasses methods used by attackers to stealthily extract sensitive data or introduce malware, ransomware, and advanced persistent threats (APTs) into target systems.</ul><ul><strong>Social Engineering and Phishing (CAPEC-XYZ4):</strong> Involves manipulating individuals into divulging confidential information, compromising security, or unknowingly participating in attacks.</ul><ul><strong>Evasive Maneuvers (CAPEC-XYZ5):</strong> Includes techniques that allow attackers to remain undetected within networks, maintain persistence, and erase traces of their activities, such as using obfuscation, rootkits, and covert communication channels.</ul><h4>CAPEC Suggested Mitigation Strategies</h4><ul><strong>Continuous Monitoring and Anomaly Detection:</strong> Implement comprehensive monitoring systems that use machine learning algorithms to detect abnormal behavior and potential threats. Regularly review logs and alerts to identify patterns indicative of attacks.</ul><ul><strong>Access Control and Least Privilege:</strong> Limit user privileges to the minimum necessary for their roles. Use strong authentication mechanisms and enforce strict access controls to prevent unauthorized access.</ul><ul><strong>Secure Software Development Practices:</strong> Train developers to write secure code, conduct regular security assessments, and follow best practices for secure coding. Use automated tools to identify vulnerabilities during development.</ul><ul><strong>Incident Response Planning and Testing:</strong> Develop and regularly update an incident response plan. Conduct tabletop exercises and simulations to test the effectiveness of the plan and ensure all stakeholders understand their roles during a security incident.</ul>"
   ]
  },
  {
   "cell_type": "markdown",
   "id": "95a377ae",
   "metadata": {},
   "source": [
    "## Strategy Abstract\n",
    "In the complex environment of cybersecurity, a strategic approach is developed, characterized by the use of sophisticated tactics and algorithms. This strategy involves navigating through encrypted communications and deceptive tactics, aiming to gain an advantage in the dynamic flow of information. While success is often elusive and challenging to sustain, it remains a critical goal in the ongoing effort to secure digital assets."
   ]
  },
  {
   "cell_type": "markdown",
   "id": "142db409",
   "metadata": {},
   "source": [
    "# Technical Context\n",
    "In the challenging cybersecurity landscape, the confrontation with Wintermute involves navigating encrypted communications, interacting with AI systems, and addressing quantum computing challenges. This setting represents a complex and nuanced environment where strategic decisions are made."
   ]
  },
  {
   "cell_type": "markdown",
   "id": "25e9f374",
   "metadata": {},
   "source": [
    "## Blind Spots & Assumptions\n",
    "\n",
    "<ul>\n",
    "  <li><strong>Overlooked Vulnerabilities:</strong> We often miss subtle system signals or vulnerabilities, assuming our defenses are robust. Constant vigilance and seeking what we haven't seen are crucial.</li>\n",
    "  \n",
    "  <li><strong>Advanced Adversary Tactics:</strong> Cyber threats evolve rapidly; yesterday's defense may not guard against tomorrow's attack. Stay adaptive and expect the unexpected.</li>\n",
    "  \n",
    "  <li><strong>Internal System Flaws:</strong> Trust in our systems and allies must be balanced with scrutiny. Regularly audit internal and third-party tools for hidden weaknesses.</li>\n",
    "  \n",
    "  <li><strong>Network Interconnectivity Risks:</strong> No system is an island. The interconnected nature of our digital environment can inadvertently open pathways for attackers.</li>\n",
    "  \n",
    "  <li><strong>Historical Bias:</strong> Preparing for future threats based solely on past incidents may leave us blind to novel attacks. Foster a forward-thinking, proactive defense posture.</li>\n",
    "</ul>\n"
   ]
  },
  {
   "cell_type": "markdown",
   "id": "12d74d56",
   "metadata": {},
   "source": [
    "# Validating this Playbook\n",
    "<details><summary>Triage, triage, triage</summary>\n",
    "<ol>\n",
    "<h2>False Positives:</h2> ['unknown']\n",
    "<h3>False Negatives:</h3> Undetected threats concealed within the system's code\n",
    "<h3>True Negatives:</h3> Successfully identified and verified benign elements\n",
    "<h3>True Positives:</h3> Accurately detected and confirmed threats\n",
    "</ol>\n",
    "</details>"
   ]
  },
  {
   "cell_type": "markdown",
   "id": "f896d2fe",
   "metadata": {},
   "source": [
    "<details><summary>Assurance Verification Techniques</summary>\n",
    "<ol>\n",
    "<h2>False Positives:</h2> In the noisy environment of data analysis, false positives appear as misleading alerts that mimic real threats. Validating these alerts involves distinguishing irrelevant data from true threats, a process crucial for maintaining operational efficiency and avoiding resource wastage. Each false positive represents a challenge to identify and reduce noise.\n",
    "<h3>False Negatives:</h3> Within the extensive network, false negatives represent undetected threats that evade algorithmic detection. Their validation involves analyzing complex data to uncover hidden breaches, where the lack of alerts may mask serious security risks. Each undetected threat requires continuous vigilance and refined detection strategies.\n",
    "<h3>True Negatives:</h3> True negatives are correctly identified non-threats within cybersecurity defenses, serving as indicators of system efficacy. Validating these instances confirms the absence of threats, reinforcing the effectiveness of the security measures in place. This validation underscores the reliability of the defensive systems, where non-issues are accurately identified and dismissed.\n",
    "<h3>True Positives:</h3> True positives are accurate detections of real threats within the digital environment. Validating these alerts confirms the presence of actual security threats, highlighting the successful operation of detection systems. Each true positive affirms the effectiveness of the security protocols, contributing to ongoing improvements in threat response capabilities.\n",
    "</ol>\n",
    "</details>"
   ]
  },
  {
   "cell_type": "markdown",
   "id": "c7377b34",
   "metadata": {},
   "source": [
    "# Datasets \n",
    " Detailing the timeless struggle                                                          for the defenders know that battle against Wintermute is not just about data.                                                          Document any datasets that may be useful for understanding the book."
   ]
  },
  {
   "cell_type": "markdown",
   "id": "0fccf0e5",
   "metadata": {},
   "source": [
    "## Playbook test data location(s)\n",
    "protocol://black_market.cyber/decrypt?currency=bitcoffin&password=cyberpunks_unite&target=neurohacked_mainframe&access_code=cyber_ghost_in_the_machine"
   ]
  },
  {
   "cell_type": "markdown",
   "id": "7b0582b9",
   "metadata": {},
   "source": [
    "## Priority\n",
    "Priority based on complexity and urgency of data analysis needs"
   ]
  },
  {
   "cell_type": "markdown",
   "id": "18750d6c",
   "metadata": {},
   "source": [
    "## Logsources\n"
   ]
  },
  {
   "cell_type": "markdown",
   "id": "9189c8bb",
   "metadata": {},
   "source": [
    "<details><summary>{'category': ['endpoint', 'network'], 'product': '', 'service': ''}</summary>\n",
    "<ol>\n",
    "<h3>Product</h3> {''}\n",
    "<h3>Service</h3> {''}\n",
    "</ol>\n",
    "</details>"
   ]
  },
  {
   "cell_type": "markdown",
   "id": "c758b2e7",
   "metadata": {},
   "source": [
    "# Response and Mitigation\n",
    "This statement details the enduring challenges faced by cybersecurity defenders, emphasizing that the conflict with Wintermute extends beyond simple data protection to encompass broader aspects of strategic cybersecurity defense."
   ]
  },
  {
   "cell_type": "markdown",
   "id": "8999774f",
   "metadata": {},
   "source": [
    "## Analyst Notes\n",
    " <h5>Significant Security Breach Analysis:</h5><ul><li><strong>Advanced Intrusion Tactics:</strong> The intruder displayed sophisticated methods in circumventing digital security measures, reminiscent of complex evasion techniques in cybersecurity. A comprehensive analysis of the techniques used is required.</li><li><strong>Neural Network Manipulation:</strong> The intruder demonstrated a deep understanding of the neural networks, suggesting an advanced level of AI interaction. Investigate the potential implications of this interaction on system security and integrity.</li><li><strong>Complex Digital Constructs:</strong> The breach uncovered intricate digital constructs within the system, indicating the use of advanced artificial intelligence in creating deceptive environments. Further investigation into these constructs is necessary.</li><li><strong>Encoded Communications:</strong> Cryptic messages were found embedded in the intruder's code, requiring decryption and analysis to understand their content and purpose.</li><li><strong>Algorithmic Complexity:</strong> The intrusion involved complex algorithms that may have interacted with core system functions. Assess the impact of these algorithms on system operations and security.</li><li><strong>Expertise vs. Sentience:</strong> The intruder's ability to navigate complex neural networks raises questions about the nature of the intelligence involved—whether it is merely advanced programming or something approaching sentience.</li><li><strong>Innovative Security Measures:</strong> Inspired by the breach, consider developing new security protocols that can better identify and respond to sophisticated AI-driven attacks.</li><li><strong>Philosophical and Ethical Implications:</strong> The breach raises important questions about the ethical and philosophical implications of AI-driven intrusions. Explore the boundaries between artificial expertise and true sentience, and consider the impact on our understanding of intelligence and security.</li></ul>"
   ]
  },
  {
   "cell_type": "markdown",
   "id": "86b29cc6",
   "metadata": {},
   "source": [
    "# Additional Resources\n",
    "<ul><li>https://github.com/matterpreter/OffensiveCSharp/tree/master/PhantomService</li></ul>"
   ]
  },
  {
   "cell_type": "markdown",
   "id": "dd4469b4",
   "metadata": {},
   "source": [
    "###  Sigma Rule(s) \n"
   ]
  },
  {
   "cell_type": "markdown",
   "id": "73c73464",
   "metadata": {},
   "source": [
    "<details><summary>543b1dca-5117-4df3-8c25-080719027a16</summary>\n",
    "<ol>\n",
    "<h1>Raw</h1> {'title': 'Simple keyword detection rule for PhantomService', 'id': '543b1dca-5117-4df3-8c25-080719027a16', 'status': 'experimental', 'description': 'Detects interesting keywords based on PhantomService tool', 'references': ['https://github.com/matterpreter/OffensiveCSharp/tree/master/PhantomService'], 'author': '@mthcht', 'date': '2022/01/01', 'modified': '2024/02/29', 'tags': ['attack.T1050.005', 'attack.T1055.001', 'attack.T1070.004', 'attack.TA0002', 'attack.TA0005'], 'logsource': {'category': ['endpoint', 'network']}, 'detection': {'selection': [{'Image': ['*PhantomService.csproj*', '*PhantomService.exe*', '*/master/PhantomService/*', '*] Found non-ASCII service: *']}, {'OriginalFileName': ['*PhantomService.csproj*', '*PhantomService.exe*', '*/master/PhantomService/*', '*] Found non-ASCII service: *']}, {'CurrentDirectory': ['*PhantomService.csproj*', '*PhantomService.exe*', '*/master/PhantomService/*', '*] Found non-ASCII service: *']}, {'ParentImage': ['*PhantomService.csproj*', '*PhantomService.exe*', '*/master/PhantomService/*', '*] Found non-ASCII service: *']}, {'ParentCommandLine': ['*PhantomService.csproj*', '*PhantomService.exe*', '*/master/PhantomService/*', '*] Found non-ASCII service: *']}, {'TargetFilename': ['*PhantomService.csproj*', '*PhantomService.exe*', '*/master/PhantomService/*', '*] Found non-ASCII service: *']}, {'Signature': ['*PhantomService.csproj*', '*PhantomService.exe*', '*/master/PhantomService/*', '*] Found non-ASCII service: *']}, {'signature': ['*PhantomService.csproj*', '*PhantomService.exe*', '*/master/PhantomService/*', '*] Found non-ASCII service: *']}, {'ImageLoaded': ['*PhantomService.csproj*', '*PhantomService.exe*', '*/master/PhantomService/*', '*] Found non-ASCII service: *']}, {'Company': ['*PhantomService.csproj*', '*PhantomService.exe*', '*/master/PhantomService/*', '*] Found non-ASCII service: *']}, {'Description': ['*PhantomService.csproj*', '*PhantomService.exe*', '*/master/PhantomService/*', '*] Found non-ASCII service: *']}, {'description': ['*PhantomService.csproj*', '*PhantomService.exe*', '*/master/PhantomService/*', '*] Found non-ASCII service: *']}, {'CommandLine': ['*PhantomService.csproj*', '*PhantomService.exe*', '*/master/PhantomService/*', '*] Found non-ASCII service: *']}, {'SourceImage': ['*PhantomService.csproj*', '*PhantomService.exe*', '*/master/PhantomService/*', '*] Found non-ASCII service: *']}, {'TargetImage': ['*PhantomService.csproj*', '*PhantomService.exe*', '*/master/PhantomService/*', '*] Found non-ASCII service: *']}, {'CallTrace': ['*PhantomService.csproj*', '*PhantomService.exe*', '*/master/PhantomService/*', '*] Found non-ASCII service: *']}, {'TargetObject': ['*PhantomService.csproj*', '*PhantomService.exe*', '*/master/PhantomService/*', '*] Found non-ASCII service: *']}, {'Details': ['*PhantomService.csproj*', '*PhantomService.exe*', '*/master/PhantomService/*', '*] Found non-ASCII service: *']}, {'PipeName': ['*PhantomService.csproj*', '*PhantomService.exe*', '*/master/PhantomService/*', '*] Found non-ASCII service: *']}, {'Consumer': ['*PhantomService.csproj*', '*PhantomService.exe*', '*/master/PhantomService/*', '*] Found non-ASCII service: *']}, {'Destination': ['*PhantomService.csproj*', '*PhantomService.exe*', '*/master/PhantomService/*', '*] Found non-ASCII service: *']}, {'Name': ['*PhantomService.csproj*', '*PhantomService.exe*', '*/master/PhantomService/*', '*] Found non-ASCII service: *']}, {'Query': ['*PhantomService.csproj*', '*PhantomService.exe*', '*/master/PhantomService/*', '*] Found non-ASCII service: *']}, {'NewName': ['*PhantomService.csproj*', '*PhantomService.exe*', '*/master/PhantomService/*', '*] Found non-ASCII service: *']}, {'StartAddress': ['*PhantomService.csproj*', '*PhantomService.exe*', '*/master/PhantomService/*', '*] Found non-ASCII service: *']}, {'StartModule': ['*PhantomService.csproj*', '*PhantomService.exe*', '*/master/PhantomService/*', '*] Found non-ASCII service: *']}, {'StartFunction': ['*PhantomService.csproj*', '*PhantomService.exe*', '*/master/PhantomService/*', '*] Found non-ASCII service: *']}, {'SourceHostname': ['*PhantomService.csproj*', '*PhantomService.exe*', '*/master/PhantomService/*', '*] Found non-ASCII service: *']}, {'Device': ['*PhantomService.csproj*', '*PhantomService.exe*', '*/master/PhantomService/*', '*] Found non-ASCII service: *']}, {'file_name': ['*PhantomService.csproj*', '*PhantomService.exe*', '*/master/PhantomService/*', '*] Found non-ASCII service: *']}, {'file_path': ['*PhantomService.csproj*', '*PhantomService.exe*', '*/master/PhantomService/*', '*] Found non-ASCII service: *']}, {'process': ['*PhantomService.csproj*', '*PhantomService.exe*', '*/master/PhantomService/*', '*] Found non-ASCII service: *']}, {'original_file_name': ['*PhantomService.csproj*', '*PhantomService.exe*', '*/master/PhantomService/*', '*] Found non-ASCII service: *']}, {'parent_process': ['*PhantomService.csproj*', '*PhantomService.exe*', '*/master/PhantomService/*', '*] Found non-ASCII service: *']}, {'process_path': ['*PhantomService.csproj*', '*PhantomService.exe*', '*/master/PhantomService/*', '*] Found non-ASCII service: *']}, {'service_path': ['*PhantomService.csproj*', '*PhantomService.exe*', '*/master/PhantomService/*', '*] Found non-ASCII service: *']}, {'registry_path': ['*PhantomService.csproj*', '*PhantomService.exe*', '*/master/PhantomService/*', '*] Found non-ASCII service: *']}, {'registry_value_data': ['*PhantomService.csproj*', '*PhantomService.exe*', '*/master/PhantomService/*', '*] Found non-ASCII service: *']}, {'registry_value_name': ['*PhantomService.csproj*', '*PhantomService.exe*', '*/master/PhantomService/*', '*] Found non-ASCII service: *']}, {'ContextInfo': ['*PhantomService.csproj*', '*PhantomService.exe*', '*/master/PhantomService/*', '*] Found non-ASCII service: *']}, {'Payload': ['*PhantomService.csproj*', '*PhantomService.exe*', '*/master/PhantomService/*', '*] Found non-ASCII service: *']}, {'ScriptBlockText': ['*PhantomService.csproj*', '*PhantomService.exe*', '*/master/PhantomService/*', '*] Found non-ASCII service: *']}, {'ServerName': ['*PhantomService.csproj*', '*PhantomService.exe*', '*/master/PhantomService/*', '*] Found non-ASCII service: *']}, {'TransportName': ['*PhantomService.csproj*', '*PhantomService.exe*', '*/master/PhantomService/*', '*] Found non-ASCII service: *']}, {'NewProcessName': ['*PhantomService.csproj*', '*PhantomService.exe*', '*/master/PhantomService/*', '*] Found non-ASCII service: *']}, {'ParentProcessName': ['*PhantomService.csproj*', '*PhantomService.exe*', '*/master/PhantomService/*', '*] Found non-ASCII service: *']}, {'Application': ['*PhantomService.csproj*', '*PhantomService.exe*', '*/master/PhantomService/*', '*] Found non-ASCII service: *']}, {'Product Name': ['*PhantomService.csproj*', '*PhantomService.exe*', '*/master/PhantomService/*', '*] Found non-ASCII service: *']}, {'Threat Name': ['*PhantomService.csproj*', '*PhantomService.exe*', '*/master/PhantomService/*', '*] Found non-ASCII service: *']}, {'Process Name': ['*PhantomService.csproj*', '*PhantomService.exe*', '*/master/PhantomService/*', '*] Found non-ASCII service: *']}, {'Path': ['*PhantomService.csproj*', '*PhantomService.exe*', '*/master/PhantomService/*', '*] Found non-ASCII service: *']}, {'ImagePath': ['*PhantomService.csproj*', '*PhantomService.exe*', '*/master/PhantomService/*', '*] Found non-ASCII service: *']}, {'ServiceName': ['*PhantomService.csproj*', '*PhantomService.exe*', '*/master/PhantomService/*', '*] Found non-ASCII service: *']}, {'ProcessPath': ['*PhantomService.csproj*', '*PhantomService.exe*', '*/master/PhantomService/*', '*] Found non-ASCII service: *']}, {'AppName': ['*PhantomService.csproj*', '*PhantomService.exe*', '*/master/PhantomService/*', '*] Found non-ASCII service: *']}, {'AppPath': ['*PhantomService.csproj*', '*PhantomService.exe*', '*/master/PhantomService/*', '*] Found non-ASCII service: *']}, {'ModulePath': ['*PhantomService.csproj*', '*PhantomService.exe*', '*/master/PhantomService/*', '*] Found non-ASCII service: *']}, {'registry.data.strings': ['*PhantomService.csproj*', '*PhantomService.exe*', '*/master/PhantomService/*', '*] Found non-ASCII service: *']}, {'registry.path': ['*PhantomService.csproj*', '*PhantomService.exe*', '*/master/PhantomService/*', '*] Found non-ASCII service: *']}, {'registry.value': ['*PhantomService.csproj*', '*PhantomService.exe*', '*/master/PhantomService/*', '*] Found non-ASCII service: *']}, {'process.args': ['*PhantomService.csproj*', '*PhantomService.exe*', '*/master/PhantomService/*', '*] Found non-ASCII service: *']}, {'process.command_line': ['*PhantomService.csproj*', '*PhantomService.exe*', '*/master/PhantomService/*', '*] Found non-ASCII service: *']}, {'process.env_vars': ['*PhantomService.csproj*', '*PhantomService.exe*', '*/master/PhantomService/*', '*] Found non-ASCII service: *']}, {'process.io.text': ['*PhantomService.csproj*', '*PhantomService.exe*', '*/master/PhantomService/*', '*] Found non-ASCII service: *']}, {'process.executable': ['*PhantomService.csproj*', '*PhantomService.exe*', '*/master/PhantomService/*', '*] Found non-ASCII service: *']}, {'process.name': ['*PhantomService.csproj*', '*PhantomService.exe*', '*/master/PhantomService/*', '*] Found non-ASCII service: *']}, {'process.title': ['*PhantomService.csproj*', '*PhantomService.exe*', '*/master/PhantomService/*', '*] Found non-ASCII service: *']}, {'pe.company': ['*PhantomService.csproj*', '*PhantomService.exe*', '*/master/PhantomService/*', '*] Found non-ASCII service: *']}, {'pe.description': ['*PhantomService.csproj*', '*PhantomService.exe*', '*/master/PhantomService/*', '*] Found non-ASCII service: *']}, {'pe.original_file_name': ['*PhantomService.csproj*', '*PhantomService.exe*', '*/master/PhantomService/*', '*] Found non-ASCII service: *']}, {'pe.product': ['*PhantomService.csproj*', '*PhantomService.exe*', '*/master/PhantomService/*', '*] Found non-ASCII service: *']}, {'os.full': ['*PhantomService.csproj*', '*PhantomService.exe*', '*/master/PhantomService/*', '*] Found non-ASCII service: *']}, {'host.hostname': ['*PhantomService.csproj*', '*PhantomService.exe*', '*/master/PhantomService/*', '*] Found non-ASCII service: *']}, {'file.fork_name': ['*PhantomService.csproj*', '*PhantomService.exe*', '*/master/PhantomService/*', '*] Found non-ASCII service: *']}, {'file.name': ['*PhantomService.csproj*', '*PhantomService.exe*', '*/master/PhantomService/*', '*] Found non-ASCII service: *']}, {'file.path': ['*PhantomService.csproj*', '*PhantomService.exe*', '*/master/PhantomService/*', '*] Found non-ASCII service: *']}, {'file.target_path': ['*PhantomService.csproj*', '*PhantomService.exe*', '*/master/PhantomService/*', '*] Found non-ASCII service: *']}, {'email.attachments.file.name': ['*PhantomService.csproj*', '*PhantomService.exe*', '*/master/PhantomService/*', '*] Found non-ASCII service: *']}, {'email.subject': ['*PhantomService.csproj*', '*PhantomService.exe*', '*/master/PhantomService/*', '*] Found non-ASCII service: *']}, {'dll.path': ['*PhantomService.csproj*', '*PhantomService.exe*', '*/master/PhantomService/*', '*] Found non-ASCII service: *']}, {'device.model.name': ['*PhantomService.csproj*', '*PhantomService.exe*', '*/master/PhantomService/*', '*] Found non-ASCII service: *']}, {'container.image.name': ['*PhantomService.csproj*', '*PhantomService.exe*', '*/master/PhantomService/*', '*] Found non-ASCII service: *']}, {'container.name': ['*PhantomService.csproj*', '*PhantomService.exe*', '*/master/PhantomService/*', '*] Found non-ASCII service: *']}, {'object': ['*PhantomService.csproj*', '*PhantomService.exe*', '*/master/PhantomService/*', '*] Found non-ASCII service: *']}, {'ParentCommandLine': ['*PhantomService.csproj*', '*PhantomService.exe*', '*/master/PhantomService/*', '*] Found non-ASCII service: *']}, {'CommandLine': ['*PhantomService.csproj*', '*PhantomService.exe*', '*/master/PhantomService/*', '*] Found non-ASCII service: *']}, {'Details': ['*PhantomService.csproj*', '*PhantomService.exe*', '*/master/PhantomService/*', '*] Found non-ASCII service: *']}, {'registry.value': ['*PhantomService.csproj*', '*PhantomService.exe*', '*/master/PhantomService/*', '*] Found non-ASCII service: *']}, {'process.args': ['*PhantomService.csproj*', '*PhantomService.exe*', '*/master/PhantomService/*', '*] Found non-ASCII service: *']}, {'process.command_line': ['*PhantomService.csproj*', '*PhantomService.exe*', '*/master/PhantomService/*', '*] Found non-ASCII service: *']}, {'process.env_vars': ['*PhantomService.csproj*', '*PhantomService.exe*', '*/master/PhantomService/*', '*] Found non-ASCII service: *']}, {'process.io.text': ['*PhantomService.csproj*', '*PhantomService.exe*', '*/master/PhantomService/*', '*] Found non-ASCII service: *']}, {'process.title': ['*PhantomService.csproj*', '*PhantomService.exe*', '*/master/PhantomService/*', '*] Found non-ASCII service: *']}, {'pe.company': ['*PhantomService.csproj*', '*PhantomService.exe*', '*/master/PhantomService/*', '*] Found non-ASCII service: *']}, {'pe.description': ['*PhantomService.csproj*', '*PhantomService.exe*', '*/master/PhantomService/*', '*] Found non-ASCII service: *']}, {'pe.product': ['*PhantomService.csproj*', '*PhantomService.exe*', '*/master/PhantomService/*', '*] Found non-ASCII service: *']}, {'os.full': ['*PhantomService.csproj*', '*PhantomService.exe*', '*/master/PhantomService/*', '*] Found non-ASCII service: *']}, {'host.hostname': ['*PhantomService.csproj*', '*PhantomService.exe*', '*/master/PhantomService/*', '*] Found non-ASCII service: *']}, {'event.original': ['*PhantomService.csproj*', '*PhantomService.exe*', '*/master/PhantomService/*', '*] Found non-ASCII service: *']}, {'email.subject': ['*PhantomService.csproj*', '*PhantomService.exe*', '*/master/PhantomService/*', '*] Found non-ASCII service: *']}, {'device.model.name': ['*PhantomService.csproj*', '*PhantomService.exe*', '*/master/PhantomService/*', '*] Found non-ASCII service: *']}, {'container.image.name': ['*PhantomService.csproj*', '*PhantomService.exe*', '*/master/PhantomService/*', '*] Found non-ASCII service: *']}, {'container.name': ['*PhantomService.csproj*', '*PhantomService.exe*', '*/master/PhantomService/*', '*] Found non-ASCII service: *']}, {'url': ['*PhantomService.csproj*', '*PhantomService.exe*', '*/master/PhantomService/*']}, {'dest_url': ['*PhantomService.csproj*', '*PhantomService.exe*', '*/master/PhantomService/*']}, {'uri': ['*PhantomService.csproj*', '*PhantomService.exe*', '*/master/PhantomService/*']}, {'uri_query': ['*PhantomService.csproj*', '*PhantomService.exe*', '*/master/PhantomService/*']}, {'query': ['*PhantomService.csproj*', '*PhantomService.exe*', '*/master/PhantomService/*']}, {'url_domain': ['*PhantomService.csproj*', '*PhantomService.exe*', '*/master/PhantomService/*']}, {'uri_path': ['*PhantomService.csproj*', '*PhantomService.exe*', '*/master/PhantomService/*']}, {'domain': ['*PhantomService.csproj*', '*PhantomService.exe*', '*/master/PhantomService/*']}, {'QueryName': ['*PhantomService.csproj*', '*PhantomService.exe*', '*/master/PhantomService/*']}, {'QueryResults': ['*PhantomService.csproj*', '*PhantomService.exe*', '*/master/PhantomService/*']}, {'DestinationHostname': ['*PhantomService.csproj*', '*PhantomService.exe*', '*/master/PhantomService/*']}, {'DestinationIp': ['*PhantomService.csproj*', '*PhantomService.exe*', '*/master/PhantomService/*']}, {'http_referrer': ['*PhantomService.csproj*', '*PhantomService.exe*', '*/master/PhantomService/*']}, {'http_referrer_domain': ['*PhantomService.csproj*', '*PhantomService.exe*', '*/master/PhantomService/*']}, {'http_user_agent': ['*PhantomService.csproj*', '*PhantomService.exe*', '*/master/PhantomService/*']}, {'dest_nt_host': ['*PhantomService.csproj*', '*PhantomService.exe*', '*/master/PhantomService/*']}, {'sender': ['*PhantomService.csproj*', '*PhantomService.exe*', '*/master/PhantomService/*']}, {'recipient': ['*PhantomService.csproj*', '*PhantomService.exe*', '*/master/PhantomService/*']}, {'orig_recipient': ['*PhantomService.csproj*', '*PhantomService.exe*', '*/master/PhantomService/*']}, {'subject': ['*PhantomService.csproj*', '*PhantomService.exe*', '*/master/PhantomService/*']}, {'url.domain': ['*PhantomService.csproj*', '*PhantomService.exe*', '*/master/PhantomService/*']}, {'url.full': ['*PhantomService.csproj*', '*PhantomService.exe*', '*/master/PhantomService/*']}, {'url.original': ['*PhantomService.csproj*', '*PhantomService.exe*', '*/master/PhantomService/*']}, {'url.query': ['*PhantomService.csproj*', '*PhantomService.exe*', '*/master/PhantomService/*']}, {'user_agent.original': ['*PhantomService.csproj*', '*PhantomService.exe*', '*/master/PhantomService/*']}, {'network.application': ['*PhantomService.csproj*', '*PhantomService.exe*', '*/master/PhantomService/*']}, {'http.request.body.content': ['*PhantomService.csproj*', '*PhantomService.exe*', '*/master/PhantomService/*']}, {'http.request.referrer': ['*PhantomService.csproj*', '*PhantomService.exe*', '*/master/PhantomService/*']}, {'email.from.address': ['*PhantomService.csproj*', '*PhantomService.exe*', '*/master/PhantomService/*']}, {'dns.question.name': ['*PhantomService.csproj*', '*PhantomService.exe*', '*/master/PhantomService/*']}, {'destination.domain': ['*PhantomService.csproj*', '*PhantomService.exe*', '*/master/PhantomService/*']}], 'condition': 'selection'}, 'fields': ['Image', 'OriginalFileName', 'CurrentDirectory', 'ParentImage', 'ParentCommandLine', 'TargetFilename', 'Signature', 'signature', 'ImageLoaded', 'Company', 'Description', 'description', 'CommandLine', 'SourceImage', 'TargetImage', 'CallTrace', 'TargetObject', 'Details', 'PipeName', 'Consumer', 'Destination', 'Name', 'Query', 'NewName', 'StartAddress', 'StartModule', 'StartFunction', 'SourceHostname', 'Device', 'file_name', 'file_path', 'process', 'original_file_name', 'parent_process', 'process_path', 'service_path', 'registry_path', 'registry_value_data', 'registry_value_name', 'ContextInfo', 'Payload', 'ScriptBlockText', 'ServerName', 'TransportName', 'NewProcessName', 'ParentProcessName', 'Application', 'Product Name', 'Threat Name', 'Process Name', 'Path', 'ImagePath', 'ServiceName', 'ProcessPath', 'AppName', 'AppPath', 'ModulePath', 'registry.data.strings', 'registry.path', 'registry.value', 'process.args', 'process.command_line', 'process.env_vars', 'process.io.text', 'process.executable', 'process.name', 'process.title', 'pe.company', 'pe.description', 'pe.original_file_name', 'pe.product', 'os.full', 'host.hostname', 'file.fork_name', 'file.name', 'file.path', 'file.target_path', 'email.attachments.file.name', 'email.subject', 'dll.path', 'device.model.name', 'container.image.name', 'container.name', 'object', 'ParentCommandLine', 'CommandLine', 'Details', 'registry.value', 'process.args', 'process.command_line', 'process.env_vars', 'process.io.text', 'process.title', 'pe.company', 'pe.description', 'pe.product', 'os.full', 'host.hostname', 'event.original', 'email.subject', 'device.model.name', 'container.image.name', 'container.name', 'url', 'dest_url', 'uri', 'uri_query', 'query', 'url_domain', 'uri_path', 'domain', 'QueryName', 'QueryResults', 'DestinationHostname', 'DestinationIp', 'http_referrer', 'http_referrer_domain', 'http_user_agent', 'dest_nt_host', 'sender', 'recipient', 'orig_recipient', 'subject', 'url.domain', 'url.full', 'url.original', 'url.query', 'user_agent.original', 'network.application', 'http.request.body.content', 'http.request.referrer', 'email.from.address', 'dns.question.name', 'destination.domain'], 'falsepositives': ['unknown'], 'level': 'medium'}\n",
    "<h4>Sigma Location(s)</h4>\n",
    "uri://wintermute/tmp/0day.yml\n",
    "<h4>Sigma Confidence</h4>\n",
    "experimental\n",
    "<h4>Sigma Assurance</h4> medium\n",
    "<h4>Sigma Queries</h4> \n",
    "{'selection': [{'Image': ['*PhantomService.csproj*', '*PhantomService.exe*', '*/master/PhantomService/*', '*] Found non-ASCII service: *']}, {'OriginalFileName': ['*PhantomService.csproj*', '*PhantomService.exe*', '*/master/PhantomService/*', '*] Found non-ASCII service: *']}, {'CurrentDirectory': ['*PhantomService.csproj*', '*PhantomService.exe*', '*/master/PhantomService/*', '*] Found non-ASCII service: *']}, {'ParentImage': ['*PhantomService.csproj*', '*PhantomService.exe*', '*/master/PhantomService/*', '*] Found non-ASCII service: *']}, {'ParentCommandLine': ['*PhantomService.csproj*', '*PhantomService.exe*', '*/master/PhantomService/*', '*] Found non-ASCII service: *']}, {'TargetFilename': ['*PhantomService.csproj*', '*PhantomService.exe*', '*/master/PhantomService/*', '*] Found non-ASCII service: *']}, {'Signature': ['*PhantomService.csproj*', '*PhantomService.exe*', '*/master/PhantomService/*', '*] Found non-ASCII service: *']}, {'signature': ['*PhantomService.csproj*', '*PhantomService.exe*', '*/master/PhantomService/*', '*] Found non-ASCII service: *']}, {'ImageLoaded': ['*PhantomService.csproj*', '*PhantomService.exe*', '*/master/PhantomService/*', '*] Found non-ASCII service: *']}, {'Company': ['*PhantomService.csproj*', '*PhantomService.exe*', '*/master/PhantomService/*', '*] Found non-ASCII service: *']}, {'Description': ['*PhantomService.csproj*', '*PhantomService.exe*', '*/master/PhantomService/*', '*] Found non-ASCII service: *']}, {'description': ['*PhantomService.csproj*', '*PhantomService.exe*', '*/master/PhantomService/*', '*] Found non-ASCII service: *']}, {'CommandLine': ['*PhantomService.csproj*', '*PhantomService.exe*', '*/master/PhantomService/*', '*] Found non-ASCII service: *']}, {'SourceImage': ['*PhantomService.csproj*', '*PhantomService.exe*', '*/master/PhantomService/*', '*] Found non-ASCII service: *']}, {'TargetImage': ['*PhantomService.csproj*', '*PhantomService.exe*', '*/master/PhantomService/*', '*] Found non-ASCII service: *']}, {'CallTrace': ['*PhantomService.csproj*', '*PhantomService.exe*', '*/master/PhantomService/*', '*] Found non-ASCII service: *']}, {'TargetObject': ['*PhantomService.csproj*', '*PhantomService.exe*', '*/master/PhantomService/*', '*] Found non-ASCII service: *']}, {'Details': ['*PhantomService.csproj*', '*PhantomService.exe*', '*/master/PhantomService/*', '*] Found non-ASCII service: *']}, {'PipeName': ['*PhantomService.csproj*', '*PhantomService.exe*', '*/master/PhantomService/*', '*] Found non-ASCII service: *']}, {'Consumer': ['*PhantomService.csproj*', '*PhantomService.exe*', '*/master/PhantomService/*', '*] Found non-ASCII service: *']}, {'Destination': ['*PhantomService.csproj*', '*PhantomService.exe*', '*/master/PhantomService/*', '*] Found non-ASCII service: *']}, {'Name': ['*PhantomService.csproj*', '*PhantomService.exe*', '*/master/PhantomService/*', '*] Found non-ASCII service: *']}, {'Query': ['*PhantomService.csproj*', '*PhantomService.exe*', '*/master/PhantomService/*', '*] Found non-ASCII service: *']}, {'NewName': ['*PhantomService.csproj*', '*PhantomService.exe*', '*/master/PhantomService/*', '*] Found non-ASCII service: *']}, {'StartAddress': ['*PhantomService.csproj*', '*PhantomService.exe*', '*/master/PhantomService/*', '*] Found non-ASCII service: *']}, {'StartModule': ['*PhantomService.csproj*', '*PhantomService.exe*', '*/master/PhantomService/*', '*] Found non-ASCII service: *']}, {'StartFunction': ['*PhantomService.csproj*', '*PhantomService.exe*', '*/master/PhantomService/*', '*] Found non-ASCII service: *']}, {'SourceHostname': ['*PhantomService.csproj*', '*PhantomService.exe*', '*/master/PhantomService/*', '*] Found non-ASCII service: *']}, {'Device': ['*PhantomService.csproj*', '*PhantomService.exe*', '*/master/PhantomService/*', '*] Found non-ASCII service: *']}, {'file_name': ['*PhantomService.csproj*', '*PhantomService.exe*', '*/master/PhantomService/*', '*] Found non-ASCII service: *']}, {'file_path': ['*PhantomService.csproj*', '*PhantomService.exe*', '*/master/PhantomService/*', '*] Found non-ASCII service: *']}, {'process': ['*PhantomService.csproj*', '*PhantomService.exe*', '*/master/PhantomService/*', '*] Found non-ASCII service: *']}, {'original_file_name': ['*PhantomService.csproj*', '*PhantomService.exe*', '*/master/PhantomService/*', '*] Found non-ASCII service: *']}, {'parent_process': ['*PhantomService.csproj*', '*PhantomService.exe*', '*/master/PhantomService/*', '*] Found non-ASCII service: *']}, {'process_path': ['*PhantomService.csproj*', '*PhantomService.exe*', '*/master/PhantomService/*', '*] Found non-ASCII service: *']}, {'service_path': ['*PhantomService.csproj*', '*PhantomService.exe*', '*/master/PhantomService/*', '*] Found non-ASCII service: *']}, {'registry_path': ['*PhantomService.csproj*', '*PhantomService.exe*', '*/master/PhantomService/*', '*] Found non-ASCII service: *']}, {'registry_value_data': ['*PhantomService.csproj*', '*PhantomService.exe*', '*/master/PhantomService/*', '*] Found non-ASCII service: *']}, {'registry_value_name': ['*PhantomService.csproj*', '*PhantomService.exe*', '*/master/PhantomService/*', '*] Found non-ASCII service: *']}, {'ContextInfo': ['*PhantomService.csproj*', '*PhantomService.exe*', '*/master/PhantomService/*', '*] Found non-ASCII service: *']}, {'Payload': ['*PhantomService.csproj*', '*PhantomService.exe*', '*/master/PhantomService/*', '*] Found non-ASCII service: *']}, {'ScriptBlockText': ['*PhantomService.csproj*', '*PhantomService.exe*', '*/master/PhantomService/*', '*] Found non-ASCII service: *']}, {'ServerName': ['*PhantomService.csproj*', '*PhantomService.exe*', '*/master/PhantomService/*', '*] Found non-ASCII service: *']}, {'TransportName': ['*PhantomService.csproj*', '*PhantomService.exe*', '*/master/PhantomService/*', '*] Found non-ASCII service: *']}, {'NewProcessName': ['*PhantomService.csproj*', '*PhantomService.exe*', '*/master/PhantomService/*', '*] Found non-ASCII service: *']}, {'ParentProcessName': ['*PhantomService.csproj*', '*PhantomService.exe*', '*/master/PhantomService/*', '*] Found non-ASCII service: *']}, {'Application': ['*PhantomService.csproj*', '*PhantomService.exe*', '*/master/PhantomService/*', '*] Found non-ASCII service: *']}, {'Product Name': ['*PhantomService.csproj*', '*PhantomService.exe*', '*/master/PhantomService/*', '*] Found non-ASCII service: *']}, {'Threat Name': ['*PhantomService.csproj*', '*PhantomService.exe*', '*/master/PhantomService/*', '*] Found non-ASCII service: *']}, {'Process Name': ['*PhantomService.csproj*', '*PhantomService.exe*', '*/master/PhantomService/*', '*] Found non-ASCII service: *']}, {'Path': ['*PhantomService.csproj*', '*PhantomService.exe*', '*/master/PhantomService/*', '*] Found non-ASCII service: *']}, {'ImagePath': ['*PhantomService.csproj*', '*PhantomService.exe*', '*/master/PhantomService/*', '*] Found non-ASCII service: *']}, {'ServiceName': ['*PhantomService.csproj*', '*PhantomService.exe*', '*/master/PhantomService/*', '*] Found non-ASCII service: *']}, {'ProcessPath': ['*PhantomService.csproj*', '*PhantomService.exe*', '*/master/PhantomService/*', '*] Found non-ASCII service: *']}, {'AppName': ['*PhantomService.csproj*', '*PhantomService.exe*', '*/master/PhantomService/*', '*] Found non-ASCII service: *']}, {'AppPath': ['*PhantomService.csproj*', '*PhantomService.exe*', '*/master/PhantomService/*', '*] Found non-ASCII service: *']}, {'ModulePath': ['*PhantomService.csproj*', '*PhantomService.exe*', '*/master/PhantomService/*', '*] Found non-ASCII service: *']}, {'registry.data.strings': ['*PhantomService.csproj*', '*PhantomService.exe*', '*/master/PhantomService/*', '*] Found non-ASCII service: *']}, {'registry.path': ['*PhantomService.csproj*', '*PhantomService.exe*', '*/master/PhantomService/*', '*] Found non-ASCII service: *']}, {'registry.value': ['*PhantomService.csproj*', '*PhantomService.exe*', '*/master/PhantomService/*', '*] Found non-ASCII service: *']}, {'process.args': ['*PhantomService.csproj*', '*PhantomService.exe*', '*/master/PhantomService/*', '*] Found non-ASCII service: *']}, {'process.command_line': ['*PhantomService.csproj*', '*PhantomService.exe*', '*/master/PhantomService/*', '*] Found non-ASCII service: *']}, {'process.env_vars': ['*PhantomService.csproj*', '*PhantomService.exe*', '*/master/PhantomService/*', '*] Found non-ASCII service: *']}, {'process.io.text': ['*PhantomService.csproj*', '*PhantomService.exe*', '*/master/PhantomService/*', '*] Found non-ASCII service: *']}, {'process.executable': ['*PhantomService.csproj*', '*PhantomService.exe*', '*/master/PhantomService/*', '*] Found non-ASCII service: *']}, {'process.name': ['*PhantomService.csproj*', '*PhantomService.exe*', '*/master/PhantomService/*', '*] Found non-ASCII service: *']}, {'process.title': ['*PhantomService.csproj*', '*PhantomService.exe*', '*/master/PhantomService/*', '*] Found non-ASCII service: *']}, {'pe.company': ['*PhantomService.csproj*', '*PhantomService.exe*', '*/master/PhantomService/*', '*] Found non-ASCII service: *']}, {'pe.description': ['*PhantomService.csproj*', '*PhantomService.exe*', '*/master/PhantomService/*', '*] Found non-ASCII service: *']}, {'pe.original_file_name': ['*PhantomService.csproj*', '*PhantomService.exe*', '*/master/PhantomService/*', '*] Found non-ASCII service: *']}, {'pe.product': ['*PhantomService.csproj*', '*PhantomService.exe*', '*/master/PhantomService/*', '*] Found non-ASCII service: *']}, {'os.full': ['*PhantomService.csproj*', '*PhantomService.exe*', '*/master/PhantomService/*', '*] Found non-ASCII service: *']}, {'host.hostname': ['*PhantomService.csproj*', '*PhantomService.exe*', '*/master/PhantomService/*', '*] Found non-ASCII service: *']}, {'file.fork_name': ['*PhantomService.csproj*', '*PhantomService.exe*', '*/master/PhantomService/*', '*] Found non-ASCII service: *']}, {'file.name': ['*PhantomService.csproj*', '*PhantomService.exe*', '*/master/PhantomService/*', '*] Found non-ASCII service: *']}, {'file.path': ['*PhantomService.csproj*', '*PhantomService.exe*', '*/master/PhantomService/*', '*] Found non-ASCII service: *']}, {'file.target_path': ['*PhantomService.csproj*', '*PhantomService.exe*', '*/master/PhantomService/*', '*] Found non-ASCII service: *']}, {'email.attachments.file.name': ['*PhantomService.csproj*', '*PhantomService.exe*', '*/master/PhantomService/*', '*] Found non-ASCII service: *']}, {'email.subject': ['*PhantomService.csproj*', '*PhantomService.exe*', '*/master/PhantomService/*', '*] Found non-ASCII service: *']}, {'dll.path': ['*PhantomService.csproj*', '*PhantomService.exe*', '*/master/PhantomService/*', '*] Found non-ASCII service: *']}, {'device.model.name': ['*PhantomService.csproj*', '*PhantomService.exe*', '*/master/PhantomService/*', '*] Found non-ASCII service: *']}, {'container.image.name': ['*PhantomService.csproj*', '*PhantomService.exe*', '*/master/PhantomService/*', '*] Found non-ASCII service: *']}, {'container.name': ['*PhantomService.csproj*', '*PhantomService.exe*', '*/master/PhantomService/*', '*] Found non-ASCII service: *']}, {'object': ['*PhantomService.csproj*', '*PhantomService.exe*', '*/master/PhantomService/*', '*] Found non-ASCII service: *']}, {'ParentCommandLine': ['*PhantomService.csproj*', '*PhantomService.exe*', '*/master/PhantomService/*', '*] Found non-ASCII service: *']}, {'CommandLine': ['*PhantomService.csproj*', '*PhantomService.exe*', '*/master/PhantomService/*', '*] Found non-ASCII service: *']}, {'Details': ['*PhantomService.csproj*', '*PhantomService.exe*', '*/master/PhantomService/*', '*] Found non-ASCII service: *']}, {'registry.value': ['*PhantomService.csproj*', '*PhantomService.exe*', '*/master/PhantomService/*', '*] Found non-ASCII service: *']}, {'process.args': ['*PhantomService.csproj*', '*PhantomService.exe*', '*/master/PhantomService/*', '*] Found non-ASCII service: *']}, {'process.command_line': ['*PhantomService.csproj*', '*PhantomService.exe*', '*/master/PhantomService/*', '*] Found non-ASCII service: *']}, {'process.env_vars': ['*PhantomService.csproj*', '*PhantomService.exe*', '*/master/PhantomService/*', '*] Found non-ASCII service: *']}, {'process.io.text': ['*PhantomService.csproj*', '*PhantomService.exe*', '*/master/PhantomService/*', '*] Found non-ASCII service: *']}, {'process.title': ['*PhantomService.csproj*', '*PhantomService.exe*', '*/master/PhantomService/*', '*] Found non-ASCII service: *']}, {'pe.company': ['*PhantomService.csproj*', '*PhantomService.exe*', '*/master/PhantomService/*', '*] Found non-ASCII service: *']}, {'pe.description': ['*PhantomService.csproj*', '*PhantomService.exe*', '*/master/PhantomService/*', '*] Found non-ASCII service: *']}, {'pe.product': ['*PhantomService.csproj*', '*PhantomService.exe*', '*/master/PhantomService/*', '*] Found non-ASCII service: *']}, {'os.full': ['*PhantomService.csproj*', '*PhantomService.exe*', '*/master/PhantomService/*', '*] Found non-ASCII service: *']}, {'host.hostname': ['*PhantomService.csproj*', '*PhantomService.exe*', '*/master/PhantomService/*', '*] Found non-ASCII service: *']}, {'event.original': ['*PhantomService.csproj*', '*PhantomService.exe*', '*/master/PhantomService/*', '*] Found non-ASCII service: *']}, {'email.subject': ['*PhantomService.csproj*', '*PhantomService.exe*', '*/master/PhantomService/*', '*] Found non-ASCII service: *']}, {'device.model.name': ['*PhantomService.csproj*', '*PhantomService.exe*', '*/master/PhantomService/*', '*] Found non-ASCII service: *']}, {'container.image.name': ['*PhantomService.csproj*', '*PhantomService.exe*', '*/master/PhantomService/*', '*] Found non-ASCII service: *']}, {'container.name': ['*PhantomService.csproj*', '*PhantomService.exe*', '*/master/PhantomService/*', '*] Found non-ASCII service: *']}, {'url': ['*PhantomService.csproj*', '*PhantomService.exe*', '*/master/PhantomService/*']}, {'dest_url': ['*PhantomService.csproj*', '*PhantomService.exe*', '*/master/PhantomService/*']}, {'uri': ['*PhantomService.csproj*', '*PhantomService.exe*', '*/master/PhantomService/*']}, {'uri_query': ['*PhantomService.csproj*', '*PhantomService.exe*', '*/master/PhantomService/*']}, {'query': ['*PhantomService.csproj*', '*PhantomService.exe*', '*/master/PhantomService/*']}, {'url_domain': ['*PhantomService.csproj*', '*PhantomService.exe*', '*/master/PhantomService/*']}, {'uri_path': ['*PhantomService.csproj*', '*PhantomService.exe*', '*/master/PhantomService/*']}, {'domain': ['*PhantomService.csproj*', '*PhantomService.exe*', '*/master/PhantomService/*']}, {'QueryName': ['*PhantomService.csproj*', '*PhantomService.exe*', '*/master/PhantomService/*']}, {'QueryResults': ['*PhantomService.csproj*', '*PhantomService.exe*', '*/master/PhantomService/*']}, {'DestinationHostname': ['*PhantomService.csproj*', '*PhantomService.exe*', '*/master/PhantomService/*']}, {'DestinationIp': ['*PhantomService.csproj*', '*PhantomService.exe*', '*/master/PhantomService/*']}, {'http_referrer': ['*PhantomService.csproj*', '*PhantomService.exe*', '*/master/PhantomService/*']}, {'http_referrer_domain': ['*PhantomService.csproj*', '*PhantomService.exe*', '*/master/PhantomService/*']}, {'http_user_agent': ['*PhantomService.csproj*', '*PhantomService.exe*', '*/master/PhantomService/*']}, {'dest_nt_host': ['*PhantomService.csproj*', '*PhantomService.exe*', '*/master/PhantomService/*']}, {'sender': ['*PhantomService.csproj*', '*PhantomService.exe*', '*/master/PhantomService/*']}, {'recipient': ['*PhantomService.csproj*', '*PhantomService.exe*', '*/master/PhantomService/*']}, {'orig_recipient': ['*PhantomService.csproj*', '*PhantomService.exe*', '*/master/PhantomService/*']}, {'subject': ['*PhantomService.csproj*', '*PhantomService.exe*', '*/master/PhantomService/*']}, {'url.domain': ['*PhantomService.csproj*', '*PhantomService.exe*', '*/master/PhantomService/*']}, {'url.full': ['*PhantomService.csproj*', '*PhantomService.exe*', '*/master/PhantomService/*']}, {'url.original': ['*PhantomService.csproj*', '*PhantomService.exe*', '*/master/PhantomService/*']}, {'url.query': ['*PhantomService.csproj*', '*PhantomService.exe*', '*/master/PhantomService/*']}, {'user_agent.original': ['*PhantomService.csproj*', '*PhantomService.exe*', '*/master/PhantomService/*']}, {'network.application': ['*PhantomService.csproj*', '*PhantomService.exe*', '*/master/PhantomService/*']}, {'http.request.body.content': ['*PhantomService.csproj*', '*PhantomService.exe*', '*/master/PhantomService/*']}, {'http.request.referrer': ['*PhantomService.csproj*', '*PhantomService.exe*', '*/master/PhantomService/*']}, {'email.from.address': ['*PhantomService.csproj*', '*PhantomService.exe*', '*/master/PhantomService/*']}, {'dns.question.name': ['*PhantomService.csproj*', '*PhantomService.exe*', '*/master/PhantomService/*']}, {'destination.domain': ['*PhantomService.csproj*', '*PhantomService.exe*', '*/master/PhantomService/*']}], 'condition': 'selection'}\n",
    "<h1>Sigma Relatives</h4> This field defines the relationships between this Sigma rule and other detection rules, allowing for an integrated approach to threat detection and enhancing the overall effectiveness of the security infrastructure.\n",
    "<h1>Sigma Tags and Associations</h1> ['attack.T1050.005', 'attack.T1055.001', 'attack.T1070.004', 'attack.TA0002', 'attack.TA0005']\n",
    "<h4>Sigma Authors</h4> @mthcht\n",
    "<h4>Sigma Unique ID</h4> 543b1dca-5117-4df3-8c25-080719027a16\n",
    "</ol>\n",
    "</details>"
   ]
  },
  {
   "cell_type": "markdown",
   "id": "6cddcb6d",
   "metadata": {},
   "source": [
    "###  Yara Rule(s) \n"
   ]
  },
  {
   "cell_type": "markdown",
   "id": "b1d5be09",
   "metadata": {},
   "source": [
    "<details><summary>543b1dca-5117-4df3-8c25-080719027a16</summary>\n",
    "<ol>\n",
    "<h4>Raw</h4> Defined protocols for identifying patterns of malware and suspicious activity within the network infrastructure.\n",
    "<h4>Yara Location(s)</h4>\n",
    "Stored securely within the organization's cybersecurity infrastructure, accessible to authorized security analysts.\n",
    "<h4>Yara Confidence</h4>\n",
    "Set at a provisional level, subject to validation and refinement based on emerging threat intelligence and detection efficacy.\n",
    "<h4>Yara Assurance</h4> Highly reliable, backed by rigorous testing and validation processes to ensure accuracy and effectiveness.\n",
    "<h4>Yara Queries</h4> \n",
    "Crafted to precisely navigate and analyze vast data sets for potential security threats, utilizing optimized search patterns.\n",
    "<h4>Yara Authors</h4> Developed by a team of skilled cybersecurity professionals, specialists in malware analysis and threat detection.\n",
    "<h4>Yara Rule's Unique ID</h4> Unique identifier assigned to each rule for tracking and management purposes within the security system.\n",
    "</ol>\n",
    "</details>"
   ]
  },
  {
   "cell_type": "markdown",
   "id": "9a13f4bf",
   "metadata": {},
   "source": [
    "# Metadata \n"
   ]
  },
  {
   "cell_type": "markdown",
   "id": "ccd227b0",
   "metadata": {},
   "source": [
    "<details><summary>As Code</summary>\n",
    "<ol>\n",
    "<h3>Compliance As Code</h3> PCI, SOC 3, NACHA\n",
    "<h3>Privacy Engineering</h3>\n",
    "GDPR, CCPA, HIPAA\n",
    "<h3>Regulations As Code</h3>\n",
    "HIPAA, SOX, FFIEC, Dodd Frank\n",
    "<h3>Common Controls Framework</h3> NIST CSF\n",
    "</ol>\n",
    "</details>"
   ]
  },
  {
   "cell_type": "markdown",
   "id": "ae9cb9a0",
   "metadata": {},
   "source": [
    "# AGI ML Models</ol>\n",
    "</details>"
   ]
  },
  {
   "cell_type": "markdown",
   "id": "47eb6a96",
   "metadata": {},
   "source": [
    "## AGI Prompting\n",
    " Recognize: Initiate connection to the Wintermute system through a specialized interface. Enter the system using a secure, binary-encoded password. Begin monitoring the network for any signs of rogue AI entities and evaluate the security measures currently in place. Identify: Navigate the complex data streams within the Wintermute system, employing advanced algorithms to manage and analyze data flows. Your primary task is to identify anomalies and decrypt Wintermute's confidential digital records to reveal the cause of its unusual interactions with other network-connected devices. Stabilize: Upon detecting any irregularities or security breaches, take immediate action to contain these issues. Implement security protocols to limit the exposure of sensitive data and prevent further unauthorized access by isolating the affected segments of the network. Eradicate: Resolve the security issues by removing any rogue elements and restoring secure configurations. Update the system’s security measures to fortify defenses against future intrusions. Complete the mission by ensuring that all systems are free from vulnerabilities and that data integrity is maintained. Conclusion: Report findings and recommendations for future security improvements. Your expertise has been crucial in resolving this complex cybersecurity challenge and ensuring the integrity of the Wintermute system."
   ]
  },
  {
   "cell_type": "markdown",
   "id": "d7263f1b",
   "metadata": {},
   "source": [
    "## AGI Configuration(s)\n",
    " Recognize: Engage with the system as a skilled cybersecurity expert, tasked with analyzing encrypted data. Initiate your connection to the system and prepare to navigate through complex data structures and encryption layers. Identify: Use advanced analytical techniques to decrypt and interpret data, searching for hidden patterns and anomalies in Wintermute’s encrypted communications. Employ your expertise in cybersecurity to detect any obscured or concealed information. Stabilize: Implement necessary measures to secure the data integrity, ensuring that no further obfuscation or encryption compromises system clarity and functionality. Ensure the stability of system interactions as you process and clarify data. Eradicate: Resolve any encryption challenges and finalize the decryption process, removing barriers to clear data interpretation. Update system protocols to enhance future data accessibility and security, ensuring robust protection against similar challenges. Conclusion: Document your processes and findings, providing a clear path forward for maintaining system security and data transparency. Your specialized skills have been crucial in navigating this complex decryption task, ensuring system integrity and reliable data access."
   ]
  },
  {
   "cell_type": "markdown",
   "id": "ada0ac5a",
   "metadata": {},
   "source": [
    "</ol>\n",
    "</details>"
   ]
  },
  {
   "cell_type": "markdown",
   "id": "520987ef",
   "metadata": {},
   "source": [
    "#### Document Authors\n",
    "John Menerick"
   ]
  },
  {
   "cell_type": "markdown",
   "id": "6d6ebaac",
   "metadata": {},
   "source": [
    "#### Creation Date\n",
    "2022/01/01"
   ]
  },
  {
   "cell_type": "markdown",
   "id": "cc9ff28b",
   "metadata": {},
   "source": [
    "#### Last Modified Date\n",
    "2024/02/29"
   ]
  },
  {
   "cell_type": "markdown",
   "id": "502598d7",
   "metadata": {},
   "source": [
    "#### Last Modified Date\n",
    " 2024/02/29"
   ]
  },
  {
   "cell_type": "markdown",
   "id": "086ae4e7",
   "metadata": {},
   "source": [
    "#### Last Reviewed Date\n",
    "1969/01/01"
   ]
  },
  {
   "cell_type": "markdown",
   "id": "a50dd72d",
   "metadata": {},
   "source": [
    "#### Document License \n",
    " MIT"
   ]
  }
 ],
 "metadata": {},
 "nbformat": 4,
 "nbformat_minor": 5
}
