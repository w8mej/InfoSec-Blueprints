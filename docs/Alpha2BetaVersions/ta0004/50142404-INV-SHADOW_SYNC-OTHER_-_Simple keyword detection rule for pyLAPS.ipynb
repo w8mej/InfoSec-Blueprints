{
 "cells": [
  {
   "cell_type": "markdown",
   "id": "25e78559",
   "metadata": {},
   "source": [
    "# UNCLASSIFIED / NON CLASSIFIÉ//TLP:WHITE# U/OO/564936-02 | QQ-09-1998 \n",
    " Please note that the original, detailed content has been removed or adjusted for public consumption. Most data has been redacted and replaced with generic, non-actionable insights. This modification ensures compliance with privacy considerations, non-disclosure agreements, and intellectual property rights that govern the dissemination of sensitive information. The priority is to respect these boundaries while still offering valuable, thought-provoking perspectives."
   ]
  },
  {
   "cell_type": "markdown",
   "id": "95d3391f",
   "metadata": {},
   "source": [
    "![Build Status](https://img.shields.io/badge/Build-Passing-brightgreen?style=flat-square&logo=cyberpunk)         ![Documentation](https://img.shields.io/badge/Documentation-Complete-blue?style=flat-square&logo=cyberpunk)        ![Response Efficiency](https://img.shields.io/badge/Response%20Efficiency-98%25-green?style=flat-square&logo=cyberpunk)        ![Last Updated](https://img.shields.io/badge/Last%20Updated-Oct%202023-purple?style=flat-square&logo=cyberpunk)        ![Incidents Resolved](https://img.shields.io/badge/Incidents%20Resolved-150-red?style=flat-square&logo=cyberpunk)        ![Community Engagement](https://img.shields.io/badge/Community-Active-orange?style=flat-square&logo=cyberpunk)        ![Code Integration](https://img.shields.io/badge/Code%20Integration-High-teal?style=flat-square&logo=cyberpunk)        ![AI Analysis](https://img.shields.io/badge/AI%20Analysis-Advanced-blueviolet?style=flat-square&logo=cyberpunk)        ![Threat Detection](https://img.shields.io/badge/Threat%20Detection-Optimal-red?style=flat-square&logo=cyberpunk)        ![Cybersecurity Hardening](https://img.shields.io/badge/Security-Hardened-silver?style=flat-square&logo=cyberpunk)        ![Network Uptime](https://img.shields.io/badge/Uptime-99.9%25-brightgreen?style=flat-square&logo=cyberpunk)        ![Data Privacy](https://img.shields.io/badge/Privacy-Compliant-green?style=flat-square&logo=cyberpunk)        ![Wintermute Efficiency](https://img.shields.io/badge/Wintermute%20Efficiency-100%25-black?style=flat-square&logo=cyberpunk)        ![Case's Code Agility](https://img.shields.io/badge/Case's%20Code%20Agility-Excellent-blue?style=flat-square&logo=cyberpunk)        ![Matrix Connectivity](https://img.shields.io/badge/Matrix%20Connectivity-Strong-green?style=flat-square&logo=cyberpunk)        ![Molly's Security](https://img.shields.io/badge/Molly's%20Security%20Protocols-Impeccable-red?style=flat-square&logo=cyberpunk)        ![Chiba City Innovation](https://img.shields.io/badge/Chiba%20City%20Innovation-High-yellow?style=flat-square&logo=cyberpunk)        ![Zion Cluster Collaboration](https://img.shields.io/badge/Zion%20Cluster%20Collaboration-Effective-lightblue?style=flat-square&logo=cyberpunk)"
   ]
  },
  {
   "cell_type": "markdown",
   "id": "890aa2a9",
   "metadata": {},
   "source": [
    "# Title\n",
    "Simple keyword detection rule for pyLAPS"
   ]
  },
  {
   "cell_type": "markdown",
   "id": "d8a4adc3",
   "metadata": {},
   "source": [
    "# Description\n",
    "Detects interesting keywords based on pyLAPS tool"
   ]
  },
  {
   "cell_type": "markdown",
   "id": "8e51c4d1",
   "metadata": {},
   "source": [
    "# Goal\n",
    "Ensure the integrity, confidentiality, and availability by rapidly identifying, investigating, and mitigating cyber threats and anomalies."
   ]
  },
  {
   "cell_type": "markdown",
   "id": "28a8f872",
   "metadata": {},
   "source": [
    "# Categorization"
   ]
  },
  {
   "cell_type": "markdown",
   "id": "d5007984",
   "metadata": {},
   "source": [
    "### ATT&CK\n",
    "['attack.T1078.001', 'attack.T1112', 'attack.T1136.001', 'attack.TA0002', 'attack.TA0004', 'attack.TA0005']"
   ]
  },
  {
   "cell_type": "markdown",
   "id": "60270f3e",
   "metadata": {},
   "source": [
    "- Distributed Denial of Service (DDoS) Attacks, Quantum Computing Exploits, Advanced Firewall Breach Attempts, Encryption Key Theft or Exposure, AI-Powered Social Engineering Attacks, Algorithmic Manipulation and Exploits, Sophisticated Malware Infiltrations, Advanced Data Obfuscation and Evasion Tactics, System and Network Configuration Vulnerabilities."
   ]
  },
  {
   "cell_type": "markdown",
   "id": "dcaa7adc",
   "metadata": {},
   "source": [
    "- Data Exfiltration, Intrusion Detection Evasion, Denial of Service (DoS) Attacks, Credential Theft."
   ]
  },
  {
   "cell_type": "markdown",
   "id": "8cdd051f",
   "metadata": {},
   "source": [
    "- DNS Tunneling, IP Spoofing, Distributed DoS (DDoS) Attacks, Keylogging."
   ]
  },
  {
   "cell_type": "markdown",
   "id": "e31df53b",
   "metadata": {},
   "source": [
    "### D3F3ND \n"
   ]
  },
  {
   "cell_type": "markdown",
   "id": "f96649d3",
   "metadata": {},
   "source": [
    "\n",
    "<ul>\n",
    "  <li><strong>Network Segmentation and Access Control (D3F3ND-K001):</strong> Establish secure network zones by segmenting the infrastructure, enhancing protection for critical assets. Implement stringent access controls to prevent unauthorized access and mitigate potential threats.</li>\n",
    "\n",
    "  <li><strong>Advanced Endpoint Protection Deployment (D3F3ND-K002):</strong> Deploy cutting-edge endpoint security solutions that utilize machine learning and behavioral analysis to detect and neutralize threats proactively.</li>\n",
    "\n",
    "  <li><strong>Enhanced Identity Verification (D3F3ND-K003):</strong> Strengthen security measures with multi-factor authentication combining biometric data and advanced encryption to prevent identity theft and unauthorized access.</li>\n",
    "\n",
    "  <li><strong>Anomaly Detection (D3F3ND-K004):</strong> Use anomaly detection tools to monitor for unusual traffic patterns, user activities, and system behaviors to identify potential security breaches early.</li>\n",
    "\n",
    "  <li><strong>Data Encryption (D3F3ND-K005):</strong> Apply robust encryption techniques to protect data at rest and in transit, ensuring confidentiality and integrity across communication channels.</li>\n",
    "\n",
    "  <li><strong>System Hardening and Vulnerability Management (D3F3ND-K006):</strong> Conduct regular security assessments and apply patches promptly to address vulnerabilities and strengthen system defenses.</li>\n",
    "\n",
    "  <li><strong>Crisis Management and Recovery Protocols (D3F3ND-K007):</strong> Develop and maintain comprehensive crisis management plans including incident response and disaster recovery procedures to quickly recover from security incidents.</li>\n",
    "\n",
    "  <li><strong>Threat Intelligence Integration (D3F3ND-K008):</strong> Leverage threat intelligence platforms to gather and analyze data on emerging threats, enabling proactive defense and strategic decision-making.</li>\n",
    "\n",
    "  <li><strong>Cybersecurity Awareness Training (D3F3ND-K009):</strong> Empower employees with ongoing cybersecurity education to recognize and avoid potential cyber threats such as phishing attacks.</li>\n",
    "\n",
    "  <li><strong>Supply Chain Security (D3F3ND-K010):</strong> Secure the supply chain through continuous assessments and audits of partners and vendors to ensure compliance with security standards and reduce vulnerabilities.</li>\n",
    "</ul>\n"
   ]
  },
  {
   "cell_type": "markdown",
   "id": "465596ae",
   "metadata": {},
   "source": [
    "### CAPEC \n",
    "  "
   ]
  },
  {
   "cell_type": "markdown",
   "id": "3dd0213a",
   "metadata": {},
   "source": [
    "Equip cybersecurity teams with the knowledge and tools to identify, counter, and mitigate a wide range of digital attack tactics, techniques, and procedures (TTPs). This effort requires understanding the attacker's mindset, mastering the execution of digital attacks, and developing strategies to confront evolving cyber threats.</br><h4>Core Attack Patterns</h4><ul><strong>Resource Manipulation and Denial (CAPEC-XYZ1):</strong> Involves attacks that compromise the availability, integrity, or confidentiality of resources. This includes denial of service attacks as well as more covert operations like resource hijacking or system manipulation.</ul><ul><strong>Credential Access and Privilege Escalation (CAPEC-XYZ2):</strong> Focuses on exploiting flaws in authentication, authorization, and session management to gain unauthorized access or elevated privileges within systems.</ul><ul><strong>Data Exfiltration and Infiltration (CAPEC-XYZ3):</strong> Encompasses methods used by attackers to stealthily extract sensitive data or introduce malware, ransomware, and advanced persistent threats (APTs) into target systems.</ul><ul><strong>Social Engineering and Phishing (CAPEC-XYZ4):</strong> Involves manipulating individuals into divulging confidential information, compromising security, or unknowingly participating in attacks.</ul><ul><strong>Evasive Maneuvers (CAPEC-XYZ5):</strong> Includes techniques that allow attackers to remain undetected within networks, maintain persistence, and erase traces of their activities, such as using obfuscation, rootkits, and covert communication channels.</ul><h4>CAPEC Suggested Mitigation Strategies</h4><ul><strong>Continuous Monitoring and Anomaly Detection:</strong> Implement comprehensive monitoring systems that use machine learning algorithms to detect abnormal behavior and potential threats. Regularly review logs and alerts to identify patterns indicative of attacks.</ul><ul><strong>Access Control and Least Privilege:</strong> Limit user privileges to the minimum necessary for their roles. Use strong authentication mechanisms and enforce strict access controls to prevent unauthorized access.</ul><ul><strong>Secure Software Development Practices:</strong> Train developers to write secure code, conduct regular security assessments, and follow best practices for secure coding. Use automated tools to identify vulnerabilities during development.</ul><ul><strong>Incident Response Planning and Testing:</strong> Develop and regularly update an incident response plan. Conduct tabletop exercises and simulations to test the effectiveness of the plan and ensure all stakeholders understand their roles during a security incident.</ul>"
   ]
  },
  {
   "cell_type": "markdown",
   "id": "465b4ee1",
   "metadata": {},
   "source": [
    "## Strategy Abstract\n",
    "In the complex environment of cybersecurity, a strategic approach is developed, characterized by the use of sophisticated tactics and algorithms. This strategy involves navigating through encrypted communications and deceptive tactics, aiming to gain an advantage in the dynamic flow of information. While success is often elusive and challenging to sustain, it remains a critical goal in the ongoing effort to secure digital assets."
   ]
  },
  {
   "cell_type": "markdown",
   "id": "e7386aa6",
   "metadata": {},
   "source": [
    "# Technical Context\n",
    "In the challenging cybersecurity landscape, the confrontation with Wintermute involves navigating encrypted communications, interacting with AI systems, and addressing quantum computing challenges. This setting represents a complex and nuanced environment where strategic decisions are made."
   ]
  },
  {
   "cell_type": "markdown",
   "id": "00e571c2",
   "metadata": {},
   "source": [
    "## Blind Spots & Assumptions\n",
    "\n",
    "<ul>\n",
    "  <li><strong>Overlooked Vulnerabilities:</strong> We often miss subtle system signals or vulnerabilities, assuming our defenses are robust. Constant vigilance and seeking what we haven't seen are crucial.</li>\n",
    "  \n",
    "  <li><strong>Advanced Adversary Tactics:</strong> Cyber threats evolve rapidly; yesterday's defense may not guard against tomorrow's attack. Stay adaptive and expect the unexpected.</li>\n",
    "  \n",
    "  <li><strong>Internal System Flaws:</strong> Trust in our systems and allies must be balanced with scrutiny. Regularly audit internal and third-party tools for hidden weaknesses.</li>\n",
    "  \n",
    "  <li><strong>Network Interconnectivity Risks:</strong> No system is an island. The interconnected nature of our digital environment can inadvertently open pathways for attackers.</li>\n",
    "  \n",
    "  <li><strong>Historical Bias:</strong> Preparing for future threats based solely on past incidents may leave us blind to novel attacks. Foster a forward-thinking, proactive defense posture.</li>\n",
    "</ul>\n"
   ]
  },
  {
   "cell_type": "markdown",
   "id": "3f327313",
   "metadata": {},
   "source": [
    "# Validating this Playbook\n",
    "<details><summary>Triage, triage, triage</summary>\n",
    "<ol>\n",
    "<h2>False Positives:</h2> ['unknown']\n",
    "<h3>False Negatives:</h3> Undetected threats concealed within the system's code\n",
    "<h3>True Negatives:</h3> Successfully identified and verified benign elements\n",
    "<h3>True Positives:</h3> Accurately detected and confirmed threats\n",
    "</ol>\n",
    "</details>"
   ]
  },
  {
   "cell_type": "markdown",
   "id": "4796c67d",
   "metadata": {},
   "source": [
    "<details><summary>Assurance Verification Techniques</summary>\n",
    "<ol>\n",
    "<h2>False Positives:</h2> In the noisy environment of data analysis, false positives appear as misleading alerts that mimic real threats. Validating these alerts involves distinguishing irrelevant data from true threats, a process crucial for maintaining operational efficiency and avoiding resource wastage. Each false positive represents a challenge to identify and reduce noise.\n",
    "<h3>False Negatives:</h3> Within the extensive network, false negatives represent undetected threats that evade algorithmic detection. Their validation involves analyzing complex data to uncover hidden breaches, where the lack of alerts may mask serious security risks. Each undetected threat requires continuous vigilance and refined detection strategies.\n",
    "<h3>True Negatives:</h3> True negatives are correctly identified non-threats within cybersecurity defenses, serving as indicators of system efficacy. Validating these instances confirms the absence of threats, reinforcing the effectiveness of the security measures in place. This validation underscores the reliability of the defensive systems, where non-issues are accurately identified and dismissed.\n",
    "<h3>True Positives:</h3> True positives are accurate detections of real threats within the digital environment. Validating these alerts confirms the presence of actual security threats, highlighting the successful operation of detection systems. Each true positive affirms the effectiveness of the security protocols, contributing to ongoing improvements in threat response capabilities.\n",
    "</ol>\n",
    "</details>"
   ]
  },
  {
   "cell_type": "markdown",
   "id": "4b384d3a",
   "metadata": {},
   "source": [
    "# Datasets \n",
    " Detailing the timeless struggle                                                          for the defenders know that battle against Wintermute is not just about data.                                                          Document any datasets that may be useful for understanding the book."
   ]
  },
  {
   "cell_type": "markdown",
   "id": "52eacb98",
   "metadata": {},
   "source": [
    "## Playbook test data location(s)\n",
    "protocol://black_market.cyber/decrypt?currency=bitcoffin&password=cyberpunks_unite&target=neurohacked_mainframe&access_code=cyber_ghost_in_the_machine"
   ]
  },
  {
   "cell_type": "markdown",
   "id": "63d909a2",
   "metadata": {},
   "source": [
    "## Priority\n",
    "Priority based on complexity and urgency of data analysis needs"
   ]
  },
  {
   "cell_type": "markdown",
   "id": "28f64f6b",
   "metadata": {},
   "source": [
    "## Logsources\n"
   ]
  },
  {
   "cell_type": "markdown",
   "id": "e5363547",
   "metadata": {},
   "source": [
    "<details><summary>{'category': ['endpoint', 'network'], 'product': '', 'service': ''}</summary>\n",
    "<ol>\n",
    "<h3>Product</h3> {''}\n",
    "<h3>Service</h3> {''}\n",
    "</ol>\n",
    "</details>"
   ]
  },
  {
   "cell_type": "markdown",
   "id": "47728841",
   "metadata": {},
   "source": [
    "# Response and Mitigation\n",
    "This statement details the enduring challenges faced by cybersecurity defenders, emphasizing that the conflict with Wintermute extends beyond simple data protection to encompass broader aspects of strategic cybersecurity defense."
   ]
  },
  {
   "cell_type": "markdown",
   "id": "ec70d44d",
   "metadata": {},
   "source": [
    "## Analyst Notes\n",
    " <h5>Significant Security Breach Analysis:</h5><ul><li><strong>Advanced Intrusion Tactics:</strong> The intruder displayed sophisticated methods in circumventing digital security measures, reminiscent of complex evasion techniques in cybersecurity. A comprehensive analysis of the techniques used is required.</li><li><strong>Neural Network Manipulation:</strong> The intruder demonstrated a deep understanding of the neural networks, suggesting an advanced level of AI interaction. Investigate the potential implications of this interaction on system security and integrity.</li><li><strong>Complex Digital Constructs:</strong> The breach uncovered intricate digital constructs within the system, indicating the use of advanced artificial intelligence in creating deceptive environments. Further investigation into these constructs is necessary.</li><li><strong>Encoded Communications:</strong> Cryptic messages were found embedded in the intruder's code, requiring decryption and analysis to understand their content and purpose.</li><li><strong>Algorithmic Complexity:</strong> The intrusion involved complex algorithms that may have interacted with core system functions. Assess the impact of these algorithms on system operations and security.</li><li><strong>Expertise vs. Sentience:</strong> The intruder's ability to navigate complex neural networks raises questions about the nature of the intelligence involved—whether it is merely advanced programming or something approaching sentience.</li><li><strong>Innovative Security Measures:</strong> Inspired by the breach, consider developing new security protocols that can better identify and respond to sophisticated AI-driven attacks.</li><li><strong>Philosophical and Ethical Implications:</strong> The breach raises important questions about the ethical and philosophical implications of AI-driven intrusions. Explore the boundaries between artificial expertise and true sentience, and consider the impact on our understanding of intelligence and security.</li></ul>"
   ]
  },
  {
   "cell_type": "markdown",
   "id": "285c094e",
   "metadata": {},
   "source": [
    "# Additional Resources\n",
    "<ul><li>https://github.com/p0dalirius/pyLAPS</li></ul>"
   ]
  },
  {
   "cell_type": "markdown",
   "id": "68c86ac1",
   "metadata": {},
   "source": [
    "###  Sigma Rule(s) \n"
   ]
  },
  {
   "cell_type": "markdown",
   "id": "c782d9ac",
   "metadata": {},
   "source": [
    "<details><summary>47ff90fb-2eac-44b0-9293-885474665c00</summary>\n",
    "<ol>\n",
    "<h1>Raw</h1> {'title': 'Simple keyword detection rule for pyLAPS', 'id': '47ff90fb-2eac-44b0-9293-885474665c00', 'status': 'experimental', 'description': 'Detects interesting keywords based on pyLAPS tool', 'references': ['https://github.com/p0dalirius/pyLAPS'], 'author': '@mthcht', 'date': '2022/01/01', 'modified': '2024/02/29', 'tags': ['attack.T1078.001', 'attack.T1112', 'attack.T1136.001', 'attack.TA0002', 'attack.TA0004', 'attack.TA0005'], 'logsource': {'category': ['endpoint', 'network']}, 'detection': {'selection': [{'Image': ['* pyLAPS.py*', '*pyLAPS-main*', '*/pyLAPS.py*', '*p0dalirius/pyLAPS*', '*/pyLAPS.git*']}, {'OriginalFileName': ['* pyLAPS.py*', '*pyLAPS-main*', '*/pyLAPS.py*', '*p0dalirius/pyLAPS*', '*/pyLAPS.git*']}, {'CurrentDirectory': ['* pyLAPS.py*', '*pyLAPS-main*', '*/pyLAPS.py*', '*p0dalirius/pyLAPS*', '*/pyLAPS.git*']}, {'ParentImage': ['* pyLAPS.py*', '*pyLAPS-main*', '*/pyLAPS.py*', '*p0dalirius/pyLAPS*', '*/pyLAPS.git*']}, {'ParentCommandLine': ['* pyLAPS.py*', '*pyLAPS-main*', '*/pyLAPS.py*', '*p0dalirius/pyLAPS*', '*/pyLAPS.git*']}, {'TargetFilename': ['* pyLAPS.py*', '*pyLAPS-main*', '*/pyLAPS.py*', '*p0dalirius/pyLAPS*', '*/pyLAPS.git*']}, {'Signature': ['* pyLAPS.py*', '*pyLAPS-main*', '*/pyLAPS.py*', '*p0dalirius/pyLAPS*', '*/pyLAPS.git*']}, {'signature': ['* pyLAPS.py*', '*pyLAPS-main*', '*/pyLAPS.py*', '*p0dalirius/pyLAPS*', '*/pyLAPS.git*']}, {'ImageLoaded': ['* pyLAPS.py*', '*pyLAPS-main*', '*/pyLAPS.py*', '*p0dalirius/pyLAPS*', '*/pyLAPS.git*']}, {'Company': ['* pyLAPS.py*', '*pyLAPS-main*', '*/pyLAPS.py*', '*p0dalirius/pyLAPS*', '*/pyLAPS.git*']}, {'Description': ['* pyLAPS.py*', '*pyLAPS-main*', '*/pyLAPS.py*', '*p0dalirius/pyLAPS*', '*/pyLAPS.git*']}, {'description': ['* pyLAPS.py*', '*pyLAPS-main*', '*/pyLAPS.py*', '*p0dalirius/pyLAPS*', '*/pyLAPS.git*']}, {'CommandLine': ['* pyLAPS.py*', '*pyLAPS-main*', '*/pyLAPS.py*', '*p0dalirius/pyLAPS*', '*/pyLAPS.git*']}, {'SourceImage': ['* pyLAPS.py*', '*pyLAPS-main*', '*/pyLAPS.py*', '*p0dalirius/pyLAPS*', '*/pyLAPS.git*']}, {'TargetImage': ['* pyLAPS.py*', '*pyLAPS-main*', '*/pyLAPS.py*', '*p0dalirius/pyLAPS*', '*/pyLAPS.git*']}, {'CallTrace': ['* pyLAPS.py*', '*pyLAPS-main*', '*/pyLAPS.py*', '*p0dalirius/pyLAPS*', '*/pyLAPS.git*']}, {'TargetObject': ['* pyLAPS.py*', '*pyLAPS-main*', '*/pyLAPS.py*', '*p0dalirius/pyLAPS*', '*/pyLAPS.git*']}, {'Details': ['* pyLAPS.py*', '*pyLAPS-main*', '*/pyLAPS.py*', '*p0dalirius/pyLAPS*', '*/pyLAPS.git*']}, {'PipeName': ['* pyLAPS.py*', '*pyLAPS-main*', '*/pyLAPS.py*', '*p0dalirius/pyLAPS*', '*/pyLAPS.git*']}, {'Consumer': ['* pyLAPS.py*', '*pyLAPS-main*', '*/pyLAPS.py*', '*p0dalirius/pyLAPS*', '*/pyLAPS.git*']}, {'Destination': ['* pyLAPS.py*', '*pyLAPS-main*', '*/pyLAPS.py*', '*p0dalirius/pyLAPS*', '*/pyLAPS.git*']}, {'Name': ['* pyLAPS.py*', '*pyLAPS-main*', '*/pyLAPS.py*', '*p0dalirius/pyLAPS*', '*/pyLAPS.git*']}, {'Query': ['* pyLAPS.py*', '*pyLAPS-main*', '*/pyLAPS.py*', '*p0dalirius/pyLAPS*', '*/pyLAPS.git*']}, {'NewName': ['* pyLAPS.py*', '*pyLAPS-main*', '*/pyLAPS.py*', '*p0dalirius/pyLAPS*', '*/pyLAPS.git*']}, {'StartAddress': ['* pyLAPS.py*', '*pyLAPS-main*', '*/pyLAPS.py*', '*p0dalirius/pyLAPS*', '*/pyLAPS.git*']}, {'StartModule': ['* pyLAPS.py*', '*pyLAPS-main*', '*/pyLAPS.py*', '*p0dalirius/pyLAPS*', '*/pyLAPS.git*']}, {'StartFunction': ['* pyLAPS.py*', '*pyLAPS-main*', '*/pyLAPS.py*', '*p0dalirius/pyLAPS*', '*/pyLAPS.git*']}, {'SourceHostname': ['* pyLAPS.py*', '*pyLAPS-main*', '*/pyLAPS.py*', '*p0dalirius/pyLAPS*', '*/pyLAPS.git*']}, {'Device': ['* pyLAPS.py*', '*pyLAPS-main*', '*/pyLAPS.py*', '*p0dalirius/pyLAPS*', '*/pyLAPS.git*']}, {'file_name': ['* pyLAPS.py*', '*pyLAPS-main*', '*/pyLAPS.py*', '*p0dalirius/pyLAPS*', '*/pyLAPS.git*']}, {'file_path': ['* pyLAPS.py*', '*pyLAPS-main*', '*/pyLAPS.py*', '*p0dalirius/pyLAPS*', '*/pyLAPS.git*']}, {'process': ['* pyLAPS.py*', '*pyLAPS-main*', '*/pyLAPS.py*', '*p0dalirius/pyLAPS*', '*/pyLAPS.git*']}, {'original_file_name': ['* pyLAPS.py*', '*pyLAPS-main*', '*/pyLAPS.py*', '*p0dalirius/pyLAPS*', '*/pyLAPS.git*']}, {'parent_process': ['* pyLAPS.py*', '*pyLAPS-main*', '*/pyLAPS.py*', '*p0dalirius/pyLAPS*', '*/pyLAPS.git*']}, {'process_path': ['* pyLAPS.py*', '*pyLAPS-main*', '*/pyLAPS.py*', '*p0dalirius/pyLAPS*', '*/pyLAPS.git*']}, {'service_path': ['* pyLAPS.py*', '*pyLAPS-main*', '*/pyLAPS.py*', '*p0dalirius/pyLAPS*', '*/pyLAPS.git*']}, {'registry_path': ['* pyLAPS.py*', '*pyLAPS-main*', '*/pyLAPS.py*', '*p0dalirius/pyLAPS*', '*/pyLAPS.git*']}, {'registry_value_data': ['* pyLAPS.py*', '*pyLAPS-main*', '*/pyLAPS.py*', '*p0dalirius/pyLAPS*', '*/pyLAPS.git*']}, {'registry_value_name': ['* pyLAPS.py*', '*pyLAPS-main*', '*/pyLAPS.py*', '*p0dalirius/pyLAPS*', '*/pyLAPS.git*']}, {'ContextInfo': ['* pyLAPS.py*', '*pyLAPS-main*', '*/pyLAPS.py*', '*p0dalirius/pyLAPS*', '*/pyLAPS.git*']}, {'Payload': ['* pyLAPS.py*', '*pyLAPS-main*', '*/pyLAPS.py*', '*p0dalirius/pyLAPS*', '*/pyLAPS.git*']}, {'ScriptBlockText': ['* pyLAPS.py*', '*pyLAPS-main*', '*/pyLAPS.py*', '*p0dalirius/pyLAPS*', '*/pyLAPS.git*']}, {'ServerName': ['* pyLAPS.py*', '*pyLAPS-main*', '*/pyLAPS.py*', '*p0dalirius/pyLAPS*', '*/pyLAPS.git*']}, {'TransportName': ['* pyLAPS.py*', '*pyLAPS-main*', '*/pyLAPS.py*', '*p0dalirius/pyLAPS*', '*/pyLAPS.git*']}, {'NewProcessName': ['* pyLAPS.py*', '*pyLAPS-main*', '*/pyLAPS.py*', '*p0dalirius/pyLAPS*', '*/pyLAPS.git*']}, {'ParentProcessName': ['* pyLAPS.py*', '*pyLAPS-main*', '*/pyLAPS.py*', '*p0dalirius/pyLAPS*', '*/pyLAPS.git*']}, {'Application': ['* pyLAPS.py*', '*pyLAPS-main*', '*/pyLAPS.py*', '*p0dalirius/pyLAPS*', '*/pyLAPS.git*']}, {'Product Name': ['* pyLAPS.py*', '*pyLAPS-main*', '*/pyLAPS.py*', '*p0dalirius/pyLAPS*', '*/pyLAPS.git*']}, {'Threat Name': ['* pyLAPS.py*', '*pyLAPS-main*', '*/pyLAPS.py*', '*p0dalirius/pyLAPS*', '*/pyLAPS.git*']}, {'Process Name': ['* pyLAPS.py*', '*pyLAPS-main*', '*/pyLAPS.py*', '*p0dalirius/pyLAPS*', '*/pyLAPS.git*']}, {'Path': ['* pyLAPS.py*', '*pyLAPS-main*', '*/pyLAPS.py*', '*p0dalirius/pyLAPS*', '*/pyLAPS.git*']}, {'ImagePath': ['* pyLAPS.py*', '*pyLAPS-main*', '*/pyLAPS.py*', '*p0dalirius/pyLAPS*', '*/pyLAPS.git*']}, {'ServiceName': ['* pyLAPS.py*', '*pyLAPS-main*', '*/pyLAPS.py*', '*p0dalirius/pyLAPS*', '*/pyLAPS.git*']}, {'ProcessPath': ['* pyLAPS.py*', '*pyLAPS-main*', '*/pyLAPS.py*', '*p0dalirius/pyLAPS*', '*/pyLAPS.git*']}, {'AppName': ['* pyLAPS.py*', '*pyLAPS-main*', '*/pyLAPS.py*', '*p0dalirius/pyLAPS*', '*/pyLAPS.git*']}, {'AppPath': ['* pyLAPS.py*', '*pyLAPS-main*', '*/pyLAPS.py*', '*p0dalirius/pyLAPS*', '*/pyLAPS.git*']}, {'ModulePath': ['* pyLAPS.py*', '*pyLAPS-main*', '*/pyLAPS.py*', '*p0dalirius/pyLAPS*', '*/pyLAPS.git*']}, {'registry.data.strings': ['* pyLAPS.py*', '*pyLAPS-main*', '*/pyLAPS.py*', '*p0dalirius/pyLAPS*', '*/pyLAPS.git*']}, {'registry.path': ['* pyLAPS.py*', '*pyLAPS-main*', '*/pyLAPS.py*', '*p0dalirius/pyLAPS*', '*/pyLAPS.git*']}, {'registry.value': ['* pyLAPS.py*', '*pyLAPS-main*', '*/pyLAPS.py*', '*p0dalirius/pyLAPS*', '*/pyLAPS.git*']}, {'process.args': ['* pyLAPS.py*', '*pyLAPS-main*', '*/pyLAPS.py*', '*p0dalirius/pyLAPS*', '*/pyLAPS.git*']}, {'process.command_line': ['* pyLAPS.py*', '*pyLAPS-main*', '*/pyLAPS.py*', '*p0dalirius/pyLAPS*', '*/pyLAPS.git*']}, {'process.env_vars': ['* pyLAPS.py*', '*pyLAPS-main*', '*/pyLAPS.py*', '*p0dalirius/pyLAPS*', '*/pyLAPS.git*']}, {'process.io.text': ['* pyLAPS.py*', '*pyLAPS-main*', '*/pyLAPS.py*', '*p0dalirius/pyLAPS*', '*/pyLAPS.git*']}, {'process.executable': ['* pyLAPS.py*', '*pyLAPS-main*', '*/pyLAPS.py*', '*p0dalirius/pyLAPS*', '*/pyLAPS.git*']}, {'process.name': ['* pyLAPS.py*', '*pyLAPS-main*', '*/pyLAPS.py*', '*p0dalirius/pyLAPS*', '*/pyLAPS.git*']}, {'process.title': ['* pyLAPS.py*', '*pyLAPS-main*', '*/pyLAPS.py*', '*p0dalirius/pyLAPS*', '*/pyLAPS.git*']}, {'pe.company': ['* pyLAPS.py*', '*pyLAPS-main*', '*/pyLAPS.py*', '*p0dalirius/pyLAPS*', '*/pyLAPS.git*']}, {'pe.description': ['* pyLAPS.py*', '*pyLAPS-main*', '*/pyLAPS.py*', '*p0dalirius/pyLAPS*', '*/pyLAPS.git*']}, {'pe.original_file_name': ['* pyLAPS.py*', '*pyLAPS-main*', '*/pyLAPS.py*', '*p0dalirius/pyLAPS*', '*/pyLAPS.git*']}, {'pe.product': ['* pyLAPS.py*', '*pyLAPS-main*', '*/pyLAPS.py*', '*p0dalirius/pyLAPS*', '*/pyLAPS.git*']}, {'os.full': ['* pyLAPS.py*', '*pyLAPS-main*', '*/pyLAPS.py*', '*p0dalirius/pyLAPS*', '*/pyLAPS.git*']}, {'host.hostname': ['* pyLAPS.py*', '*pyLAPS-main*', '*/pyLAPS.py*', '*p0dalirius/pyLAPS*', '*/pyLAPS.git*']}, {'file.fork_name': ['* pyLAPS.py*', '*pyLAPS-main*', '*/pyLAPS.py*', '*p0dalirius/pyLAPS*', '*/pyLAPS.git*']}, {'file.name': ['* pyLAPS.py*', '*pyLAPS-main*', '*/pyLAPS.py*', '*p0dalirius/pyLAPS*', '*/pyLAPS.git*']}, {'file.path': ['* pyLAPS.py*', '*pyLAPS-main*', '*/pyLAPS.py*', '*p0dalirius/pyLAPS*', '*/pyLAPS.git*']}, {'file.target_path': ['* pyLAPS.py*', '*pyLAPS-main*', '*/pyLAPS.py*', '*p0dalirius/pyLAPS*', '*/pyLAPS.git*']}, {'email.attachments.file.name': ['* pyLAPS.py*', '*pyLAPS-main*', '*/pyLAPS.py*', '*p0dalirius/pyLAPS*', '*/pyLAPS.git*']}, {'email.subject': ['* pyLAPS.py*', '*pyLAPS-main*', '*/pyLAPS.py*', '*p0dalirius/pyLAPS*', '*/pyLAPS.git*']}, {'dll.path': ['* pyLAPS.py*', '*pyLAPS-main*', '*/pyLAPS.py*', '*p0dalirius/pyLAPS*', '*/pyLAPS.git*']}, {'device.model.name': ['* pyLAPS.py*', '*pyLAPS-main*', '*/pyLAPS.py*', '*p0dalirius/pyLAPS*', '*/pyLAPS.git*']}, {'container.image.name': ['* pyLAPS.py*', '*pyLAPS-main*', '*/pyLAPS.py*', '*p0dalirius/pyLAPS*', '*/pyLAPS.git*']}, {'container.name': ['* pyLAPS.py*', '*pyLAPS-main*', '*/pyLAPS.py*', '*p0dalirius/pyLAPS*', '*/pyLAPS.git*']}, {'object': ['* pyLAPS.py*', '*pyLAPS-main*', '*/pyLAPS.py*', '*p0dalirius/pyLAPS*', '*/pyLAPS.git*']}, {'url': ['*pyLAPS-main*', '*/pyLAPS.py*', '*p0dalirius/pyLAPS*', '*/pyLAPS.git*']}, {'dest_url': ['*pyLAPS-main*', '*/pyLAPS.py*', '*p0dalirius/pyLAPS*', '*/pyLAPS.git*']}, {'uri': ['*pyLAPS-main*', '*/pyLAPS.py*', '*p0dalirius/pyLAPS*', '*/pyLAPS.git*']}, {'uri_query': ['*pyLAPS-main*', '*/pyLAPS.py*', '*p0dalirius/pyLAPS*', '*/pyLAPS.git*']}, {'query': ['*pyLAPS-main*', '*/pyLAPS.py*', '*p0dalirius/pyLAPS*', '*/pyLAPS.git*']}, {'url_domain': ['*pyLAPS-main*', '*/pyLAPS.py*', '*p0dalirius/pyLAPS*', '*/pyLAPS.git*']}, {'uri_path': ['*pyLAPS-main*', '*/pyLAPS.py*', '*p0dalirius/pyLAPS*', '*/pyLAPS.git*']}, {'domain': ['*pyLAPS-main*', '*/pyLAPS.py*', '*p0dalirius/pyLAPS*', '*/pyLAPS.git*']}, {'QueryName': ['*pyLAPS-main*', '*/pyLAPS.py*', '*p0dalirius/pyLAPS*', '*/pyLAPS.git*']}, {'QueryResults': ['*pyLAPS-main*', '*/pyLAPS.py*', '*p0dalirius/pyLAPS*', '*/pyLAPS.git*']}, {'DestinationHostname': ['*pyLAPS-main*', '*/pyLAPS.py*', '*p0dalirius/pyLAPS*', '*/pyLAPS.git*']}, {'DestinationIp': ['*pyLAPS-main*', '*/pyLAPS.py*', '*p0dalirius/pyLAPS*', '*/pyLAPS.git*']}, {'http_referrer': ['*pyLAPS-main*', '*/pyLAPS.py*', '*p0dalirius/pyLAPS*', '*/pyLAPS.git*']}, {'http_referrer_domain': ['*pyLAPS-main*', '*/pyLAPS.py*', '*p0dalirius/pyLAPS*', '*/pyLAPS.git*']}, {'http_user_agent': ['*pyLAPS-main*', '*/pyLAPS.py*', '*p0dalirius/pyLAPS*', '*/pyLAPS.git*']}, {'dest_nt_host': ['*pyLAPS-main*', '*/pyLAPS.py*', '*p0dalirius/pyLAPS*', '*/pyLAPS.git*']}, {'sender': ['*pyLAPS-main*', '*/pyLAPS.py*', '*p0dalirius/pyLAPS*', '*/pyLAPS.git*']}, {'recipient': ['*pyLAPS-main*', '*/pyLAPS.py*', '*p0dalirius/pyLAPS*', '*/pyLAPS.git*']}, {'orig_recipient': ['*pyLAPS-main*', '*/pyLAPS.py*', '*p0dalirius/pyLAPS*', '*/pyLAPS.git*']}, {'subject': ['*pyLAPS-main*', '*/pyLAPS.py*', '*p0dalirius/pyLAPS*', '*/pyLAPS.git*']}, {'url.domain': ['*pyLAPS-main*', '*/pyLAPS.py*', '*p0dalirius/pyLAPS*', '*/pyLAPS.git*']}, {'url.full': ['*pyLAPS-main*', '*/pyLAPS.py*', '*p0dalirius/pyLAPS*', '*/pyLAPS.git*']}, {'url.original': ['*pyLAPS-main*', '*/pyLAPS.py*', '*p0dalirius/pyLAPS*', '*/pyLAPS.git*']}, {'url.query': ['*pyLAPS-main*', '*/pyLAPS.py*', '*p0dalirius/pyLAPS*', '*/pyLAPS.git*']}, {'user_agent.original': ['*pyLAPS-main*', '*/pyLAPS.py*', '*p0dalirius/pyLAPS*', '*/pyLAPS.git*']}, {'network.application': ['*pyLAPS-main*', '*/pyLAPS.py*', '*p0dalirius/pyLAPS*', '*/pyLAPS.git*']}, {'http.request.body.content': ['*pyLAPS-main*', '*/pyLAPS.py*', '*p0dalirius/pyLAPS*', '*/pyLAPS.git*']}, {'http.request.referrer': ['*pyLAPS-main*', '*/pyLAPS.py*', '*p0dalirius/pyLAPS*', '*/pyLAPS.git*']}, {'email.from.address': ['*pyLAPS-main*', '*/pyLAPS.py*', '*p0dalirius/pyLAPS*', '*/pyLAPS.git*']}, {'dns.question.name': ['*pyLAPS-main*', '*/pyLAPS.py*', '*p0dalirius/pyLAPS*', '*/pyLAPS.git*']}, {'destination.domain': ['*pyLAPS-main*', '*/pyLAPS.py*', '*p0dalirius/pyLAPS*', '*/pyLAPS.git*']}], 'condition': 'selection'}, 'fields': ['Image', 'OriginalFileName', 'CurrentDirectory', 'ParentImage', 'ParentCommandLine', 'TargetFilename', 'Signature', 'signature', 'ImageLoaded', 'Company', 'Description', 'description', 'CommandLine', 'SourceImage', 'TargetImage', 'CallTrace', 'TargetObject', 'Details', 'PipeName', 'Consumer', 'Destination', 'Name', 'Query', 'NewName', 'StartAddress', 'StartModule', 'StartFunction', 'SourceHostname', 'Device', 'file_name', 'file_path', 'process', 'original_file_name', 'parent_process', 'process_path', 'service_path', 'registry_path', 'registry_value_data', 'registry_value_name', 'ContextInfo', 'Payload', 'ScriptBlockText', 'ServerName', 'TransportName', 'NewProcessName', 'ParentProcessName', 'Application', 'Product Name', 'Threat Name', 'Process Name', 'Path', 'ImagePath', 'ServiceName', 'ProcessPath', 'AppName', 'AppPath', 'ModulePath', 'registry.data.strings', 'registry.path', 'registry.value', 'process.args', 'process.command_line', 'process.env_vars', 'process.io.text', 'process.executable', 'process.name', 'process.title', 'pe.company', 'pe.description', 'pe.original_file_name', 'pe.product', 'os.full', 'host.hostname', 'file.fork_name', 'file.name', 'file.path', 'file.target_path', 'email.attachments.file.name', 'email.subject', 'dll.path', 'device.model.name', 'container.image.name', 'container.name', 'object', 'url', 'dest_url', 'uri', 'uri_query', 'query', 'url_domain', 'uri_path', 'domain', 'QueryName', 'QueryResults', 'DestinationHostname', 'DestinationIp', 'http_referrer', 'http_referrer_domain', 'http_user_agent', 'dest_nt_host', 'sender', 'recipient', 'orig_recipient', 'subject', 'url.domain', 'url.full', 'url.original', 'url.query', 'user_agent.original', 'network.application', 'http.request.body.content', 'http.request.referrer', 'email.from.address', 'dns.question.name', 'destination.domain'], 'falsepositives': ['unknown'], 'level': 'medium'}\n",
    "<h4>Sigma Location(s)</h4>\n",
    "uri://wintermute/tmp/0day.yml\n",
    "<h4>Sigma Confidence</h4>\n",
    "experimental\n",
    "<h4>Sigma Assurance</h4> medium\n",
    "<h4>Sigma Queries</h4> \n",
    "{'selection': [{'Image': ['* pyLAPS.py*', '*pyLAPS-main*', '*/pyLAPS.py*', '*p0dalirius/pyLAPS*', '*/pyLAPS.git*']}, {'OriginalFileName': ['* pyLAPS.py*', '*pyLAPS-main*', '*/pyLAPS.py*', '*p0dalirius/pyLAPS*', '*/pyLAPS.git*']}, {'CurrentDirectory': ['* pyLAPS.py*', '*pyLAPS-main*', '*/pyLAPS.py*', '*p0dalirius/pyLAPS*', '*/pyLAPS.git*']}, {'ParentImage': ['* pyLAPS.py*', '*pyLAPS-main*', '*/pyLAPS.py*', '*p0dalirius/pyLAPS*', '*/pyLAPS.git*']}, {'ParentCommandLine': ['* pyLAPS.py*', '*pyLAPS-main*', '*/pyLAPS.py*', '*p0dalirius/pyLAPS*', '*/pyLAPS.git*']}, {'TargetFilename': ['* pyLAPS.py*', '*pyLAPS-main*', '*/pyLAPS.py*', '*p0dalirius/pyLAPS*', '*/pyLAPS.git*']}, {'Signature': ['* pyLAPS.py*', '*pyLAPS-main*', '*/pyLAPS.py*', '*p0dalirius/pyLAPS*', '*/pyLAPS.git*']}, {'signature': ['* pyLAPS.py*', '*pyLAPS-main*', '*/pyLAPS.py*', '*p0dalirius/pyLAPS*', '*/pyLAPS.git*']}, {'ImageLoaded': ['* pyLAPS.py*', '*pyLAPS-main*', '*/pyLAPS.py*', '*p0dalirius/pyLAPS*', '*/pyLAPS.git*']}, {'Company': ['* pyLAPS.py*', '*pyLAPS-main*', '*/pyLAPS.py*', '*p0dalirius/pyLAPS*', '*/pyLAPS.git*']}, {'Description': ['* pyLAPS.py*', '*pyLAPS-main*', '*/pyLAPS.py*', '*p0dalirius/pyLAPS*', '*/pyLAPS.git*']}, {'description': ['* pyLAPS.py*', '*pyLAPS-main*', '*/pyLAPS.py*', '*p0dalirius/pyLAPS*', '*/pyLAPS.git*']}, {'CommandLine': ['* pyLAPS.py*', '*pyLAPS-main*', '*/pyLAPS.py*', '*p0dalirius/pyLAPS*', '*/pyLAPS.git*']}, {'SourceImage': ['* pyLAPS.py*', '*pyLAPS-main*', '*/pyLAPS.py*', '*p0dalirius/pyLAPS*', '*/pyLAPS.git*']}, {'TargetImage': ['* pyLAPS.py*', '*pyLAPS-main*', '*/pyLAPS.py*', '*p0dalirius/pyLAPS*', '*/pyLAPS.git*']}, {'CallTrace': ['* pyLAPS.py*', '*pyLAPS-main*', '*/pyLAPS.py*', '*p0dalirius/pyLAPS*', '*/pyLAPS.git*']}, {'TargetObject': ['* pyLAPS.py*', '*pyLAPS-main*', '*/pyLAPS.py*', '*p0dalirius/pyLAPS*', '*/pyLAPS.git*']}, {'Details': ['* pyLAPS.py*', '*pyLAPS-main*', '*/pyLAPS.py*', '*p0dalirius/pyLAPS*', '*/pyLAPS.git*']}, {'PipeName': ['* pyLAPS.py*', '*pyLAPS-main*', '*/pyLAPS.py*', '*p0dalirius/pyLAPS*', '*/pyLAPS.git*']}, {'Consumer': ['* pyLAPS.py*', '*pyLAPS-main*', '*/pyLAPS.py*', '*p0dalirius/pyLAPS*', '*/pyLAPS.git*']}, {'Destination': ['* pyLAPS.py*', '*pyLAPS-main*', '*/pyLAPS.py*', '*p0dalirius/pyLAPS*', '*/pyLAPS.git*']}, {'Name': ['* pyLAPS.py*', '*pyLAPS-main*', '*/pyLAPS.py*', '*p0dalirius/pyLAPS*', '*/pyLAPS.git*']}, {'Query': ['* pyLAPS.py*', '*pyLAPS-main*', '*/pyLAPS.py*', '*p0dalirius/pyLAPS*', '*/pyLAPS.git*']}, {'NewName': ['* pyLAPS.py*', '*pyLAPS-main*', '*/pyLAPS.py*', '*p0dalirius/pyLAPS*', '*/pyLAPS.git*']}, {'StartAddress': ['* pyLAPS.py*', '*pyLAPS-main*', '*/pyLAPS.py*', '*p0dalirius/pyLAPS*', '*/pyLAPS.git*']}, {'StartModule': ['* pyLAPS.py*', '*pyLAPS-main*', '*/pyLAPS.py*', '*p0dalirius/pyLAPS*', '*/pyLAPS.git*']}, {'StartFunction': ['* pyLAPS.py*', '*pyLAPS-main*', '*/pyLAPS.py*', '*p0dalirius/pyLAPS*', '*/pyLAPS.git*']}, {'SourceHostname': ['* pyLAPS.py*', '*pyLAPS-main*', '*/pyLAPS.py*', '*p0dalirius/pyLAPS*', '*/pyLAPS.git*']}, {'Device': ['* pyLAPS.py*', '*pyLAPS-main*', '*/pyLAPS.py*', '*p0dalirius/pyLAPS*', '*/pyLAPS.git*']}, {'file_name': ['* pyLAPS.py*', '*pyLAPS-main*', '*/pyLAPS.py*', '*p0dalirius/pyLAPS*', '*/pyLAPS.git*']}, {'file_path': ['* pyLAPS.py*', '*pyLAPS-main*', '*/pyLAPS.py*', '*p0dalirius/pyLAPS*', '*/pyLAPS.git*']}, {'process': ['* pyLAPS.py*', '*pyLAPS-main*', '*/pyLAPS.py*', '*p0dalirius/pyLAPS*', '*/pyLAPS.git*']}, {'original_file_name': ['* pyLAPS.py*', '*pyLAPS-main*', '*/pyLAPS.py*', '*p0dalirius/pyLAPS*', '*/pyLAPS.git*']}, {'parent_process': ['* pyLAPS.py*', '*pyLAPS-main*', '*/pyLAPS.py*', '*p0dalirius/pyLAPS*', '*/pyLAPS.git*']}, {'process_path': ['* pyLAPS.py*', '*pyLAPS-main*', '*/pyLAPS.py*', '*p0dalirius/pyLAPS*', '*/pyLAPS.git*']}, {'service_path': ['* pyLAPS.py*', '*pyLAPS-main*', '*/pyLAPS.py*', '*p0dalirius/pyLAPS*', '*/pyLAPS.git*']}, {'registry_path': ['* pyLAPS.py*', '*pyLAPS-main*', '*/pyLAPS.py*', '*p0dalirius/pyLAPS*', '*/pyLAPS.git*']}, {'registry_value_data': ['* pyLAPS.py*', '*pyLAPS-main*', '*/pyLAPS.py*', '*p0dalirius/pyLAPS*', '*/pyLAPS.git*']}, {'registry_value_name': ['* pyLAPS.py*', '*pyLAPS-main*', '*/pyLAPS.py*', '*p0dalirius/pyLAPS*', '*/pyLAPS.git*']}, {'ContextInfo': ['* pyLAPS.py*', '*pyLAPS-main*', '*/pyLAPS.py*', '*p0dalirius/pyLAPS*', '*/pyLAPS.git*']}, {'Payload': ['* pyLAPS.py*', '*pyLAPS-main*', '*/pyLAPS.py*', '*p0dalirius/pyLAPS*', '*/pyLAPS.git*']}, {'ScriptBlockText': ['* pyLAPS.py*', '*pyLAPS-main*', '*/pyLAPS.py*', '*p0dalirius/pyLAPS*', '*/pyLAPS.git*']}, {'ServerName': ['* pyLAPS.py*', '*pyLAPS-main*', '*/pyLAPS.py*', '*p0dalirius/pyLAPS*', '*/pyLAPS.git*']}, {'TransportName': ['* pyLAPS.py*', '*pyLAPS-main*', '*/pyLAPS.py*', '*p0dalirius/pyLAPS*', '*/pyLAPS.git*']}, {'NewProcessName': ['* pyLAPS.py*', '*pyLAPS-main*', '*/pyLAPS.py*', '*p0dalirius/pyLAPS*', '*/pyLAPS.git*']}, {'ParentProcessName': ['* pyLAPS.py*', '*pyLAPS-main*', '*/pyLAPS.py*', '*p0dalirius/pyLAPS*', '*/pyLAPS.git*']}, {'Application': ['* pyLAPS.py*', '*pyLAPS-main*', '*/pyLAPS.py*', '*p0dalirius/pyLAPS*', '*/pyLAPS.git*']}, {'Product Name': ['* pyLAPS.py*', '*pyLAPS-main*', '*/pyLAPS.py*', '*p0dalirius/pyLAPS*', '*/pyLAPS.git*']}, {'Threat Name': ['* pyLAPS.py*', '*pyLAPS-main*', '*/pyLAPS.py*', '*p0dalirius/pyLAPS*', '*/pyLAPS.git*']}, {'Process Name': ['* pyLAPS.py*', '*pyLAPS-main*', '*/pyLAPS.py*', '*p0dalirius/pyLAPS*', '*/pyLAPS.git*']}, {'Path': ['* pyLAPS.py*', '*pyLAPS-main*', '*/pyLAPS.py*', '*p0dalirius/pyLAPS*', '*/pyLAPS.git*']}, {'ImagePath': ['* pyLAPS.py*', '*pyLAPS-main*', '*/pyLAPS.py*', '*p0dalirius/pyLAPS*', '*/pyLAPS.git*']}, {'ServiceName': ['* pyLAPS.py*', '*pyLAPS-main*', '*/pyLAPS.py*', '*p0dalirius/pyLAPS*', '*/pyLAPS.git*']}, {'ProcessPath': ['* pyLAPS.py*', '*pyLAPS-main*', '*/pyLAPS.py*', '*p0dalirius/pyLAPS*', '*/pyLAPS.git*']}, {'AppName': ['* pyLAPS.py*', '*pyLAPS-main*', '*/pyLAPS.py*', '*p0dalirius/pyLAPS*', '*/pyLAPS.git*']}, {'AppPath': ['* pyLAPS.py*', '*pyLAPS-main*', '*/pyLAPS.py*', '*p0dalirius/pyLAPS*', '*/pyLAPS.git*']}, {'ModulePath': ['* pyLAPS.py*', '*pyLAPS-main*', '*/pyLAPS.py*', '*p0dalirius/pyLAPS*', '*/pyLAPS.git*']}, {'registry.data.strings': ['* pyLAPS.py*', '*pyLAPS-main*', '*/pyLAPS.py*', '*p0dalirius/pyLAPS*', '*/pyLAPS.git*']}, {'registry.path': ['* pyLAPS.py*', '*pyLAPS-main*', '*/pyLAPS.py*', '*p0dalirius/pyLAPS*', '*/pyLAPS.git*']}, {'registry.value': ['* pyLAPS.py*', '*pyLAPS-main*', '*/pyLAPS.py*', '*p0dalirius/pyLAPS*', '*/pyLAPS.git*']}, {'process.args': ['* pyLAPS.py*', '*pyLAPS-main*', '*/pyLAPS.py*', '*p0dalirius/pyLAPS*', '*/pyLAPS.git*']}, {'process.command_line': ['* pyLAPS.py*', '*pyLAPS-main*', '*/pyLAPS.py*', '*p0dalirius/pyLAPS*', '*/pyLAPS.git*']}, {'process.env_vars': ['* pyLAPS.py*', '*pyLAPS-main*', '*/pyLAPS.py*', '*p0dalirius/pyLAPS*', '*/pyLAPS.git*']}, {'process.io.text': ['* pyLAPS.py*', '*pyLAPS-main*', '*/pyLAPS.py*', '*p0dalirius/pyLAPS*', '*/pyLAPS.git*']}, {'process.executable': ['* pyLAPS.py*', '*pyLAPS-main*', '*/pyLAPS.py*', '*p0dalirius/pyLAPS*', '*/pyLAPS.git*']}, {'process.name': ['* pyLAPS.py*', '*pyLAPS-main*', '*/pyLAPS.py*', '*p0dalirius/pyLAPS*', '*/pyLAPS.git*']}, {'process.title': ['* pyLAPS.py*', '*pyLAPS-main*', '*/pyLAPS.py*', '*p0dalirius/pyLAPS*', '*/pyLAPS.git*']}, {'pe.company': ['* pyLAPS.py*', '*pyLAPS-main*', '*/pyLAPS.py*', '*p0dalirius/pyLAPS*', '*/pyLAPS.git*']}, {'pe.description': ['* pyLAPS.py*', '*pyLAPS-main*', '*/pyLAPS.py*', '*p0dalirius/pyLAPS*', '*/pyLAPS.git*']}, {'pe.original_file_name': ['* pyLAPS.py*', '*pyLAPS-main*', '*/pyLAPS.py*', '*p0dalirius/pyLAPS*', '*/pyLAPS.git*']}, {'pe.product': ['* pyLAPS.py*', '*pyLAPS-main*', '*/pyLAPS.py*', '*p0dalirius/pyLAPS*', '*/pyLAPS.git*']}, {'os.full': ['* pyLAPS.py*', '*pyLAPS-main*', '*/pyLAPS.py*', '*p0dalirius/pyLAPS*', '*/pyLAPS.git*']}, {'host.hostname': ['* pyLAPS.py*', '*pyLAPS-main*', '*/pyLAPS.py*', '*p0dalirius/pyLAPS*', '*/pyLAPS.git*']}, {'file.fork_name': ['* pyLAPS.py*', '*pyLAPS-main*', '*/pyLAPS.py*', '*p0dalirius/pyLAPS*', '*/pyLAPS.git*']}, {'file.name': ['* pyLAPS.py*', '*pyLAPS-main*', '*/pyLAPS.py*', '*p0dalirius/pyLAPS*', '*/pyLAPS.git*']}, {'file.path': ['* pyLAPS.py*', '*pyLAPS-main*', '*/pyLAPS.py*', '*p0dalirius/pyLAPS*', '*/pyLAPS.git*']}, {'file.target_path': ['* pyLAPS.py*', '*pyLAPS-main*', '*/pyLAPS.py*', '*p0dalirius/pyLAPS*', '*/pyLAPS.git*']}, {'email.attachments.file.name': ['* pyLAPS.py*', '*pyLAPS-main*', '*/pyLAPS.py*', '*p0dalirius/pyLAPS*', '*/pyLAPS.git*']}, {'email.subject': ['* pyLAPS.py*', '*pyLAPS-main*', '*/pyLAPS.py*', '*p0dalirius/pyLAPS*', '*/pyLAPS.git*']}, {'dll.path': ['* pyLAPS.py*', '*pyLAPS-main*', '*/pyLAPS.py*', '*p0dalirius/pyLAPS*', '*/pyLAPS.git*']}, {'device.model.name': ['* pyLAPS.py*', '*pyLAPS-main*', '*/pyLAPS.py*', '*p0dalirius/pyLAPS*', '*/pyLAPS.git*']}, {'container.image.name': ['* pyLAPS.py*', '*pyLAPS-main*', '*/pyLAPS.py*', '*p0dalirius/pyLAPS*', '*/pyLAPS.git*']}, {'container.name': ['* pyLAPS.py*', '*pyLAPS-main*', '*/pyLAPS.py*', '*p0dalirius/pyLAPS*', '*/pyLAPS.git*']}, {'object': ['* pyLAPS.py*', '*pyLAPS-main*', '*/pyLAPS.py*', '*p0dalirius/pyLAPS*', '*/pyLAPS.git*']}, {'url': ['*pyLAPS-main*', '*/pyLAPS.py*', '*p0dalirius/pyLAPS*', '*/pyLAPS.git*']}, {'dest_url': ['*pyLAPS-main*', '*/pyLAPS.py*', '*p0dalirius/pyLAPS*', '*/pyLAPS.git*']}, {'uri': ['*pyLAPS-main*', '*/pyLAPS.py*', '*p0dalirius/pyLAPS*', '*/pyLAPS.git*']}, {'uri_query': ['*pyLAPS-main*', '*/pyLAPS.py*', '*p0dalirius/pyLAPS*', '*/pyLAPS.git*']}, {'query': ['*pyLAPS-main*', '*/pyLAPS.py*', '*p0dalirius/pyLAPS*', '*/pyLAPS.git*']}, {'url_domain': ['*pyLAPS-main*', '*/pyLAPS.py*', '*p0dalirius/pyLAPS*', '*/pyLAPS.git*']}, {'uri_path': ['*pyLAPS-main*', '*/pyLAPS.py*', '*p0dalirius/pyLAPS*', '*/pyLAPS.git*']}, {'domain': ['*pyLAPS-main*', '*/pyLAPS.py*', '*p0dalirius/pyLAPS*', '*/pyLAPS.git*']}, {'QueryName': ['*pyLAPS-main*', '*/pyLAPS.py*', '*p0dalirius/pyLAPS*', '*/pyLAPS.git*']}, {'QueryResults': ['*pyLAPS-main*', '*/pyLAPS.py*', '*p0dalirius/pyLAPS*', '*/pyLAPS.git*']}, {'DestinationHostname': ['*pyLAPS-main*', '*/pyLAPS.py*', '*p0dalirius/pyLAPS*', '*/pyLAPS.git*']}, {'DestinationIp': ['*pyLAPS-main*', '*/pyLAPS.py*', '*p0dalirius/pyLAPS*', '*/pyLAPS.git*']}, {'http_referrer': ['*pyLAPS-main*', '*/pyLAPS.py*', '*p0dalirius/pyLAPS*', '*/pyLAPS.git*']}, {'http_referrer_domain': ['*pyLAPS-main*', '*/pyLAPS.py*', '*p0dalirius/pyLAPS*', '*/pyLAPS.git*']}, {'http_user_agent': ['*pyLAPS-main*', '*/pyLAPS.py*', '*p0dalirius/pyLAPS*', '*/pyLAPS.git*']}, {'dest_nt_host': ['*pyLAPS-main*', '*/pyLAPS.py*', '*p0dalirius/pyLAPS*', '*/pyLAPS.git*']}, {'sender': ['*pyLAPS-main*', '*/pyLAPS.py*', '*p0dalirius/pyLAPS*', '*/pyLAPS.git*']}, {'recipient': ['*pyLAPS-main*', '*/pyLAPS.py*', '*p0dalirius/pyLAPS*', '*/pyLAPS.git*']}, {'orig_recipient': ['*pyLAPS-main*', '*/pyLAPS.py*', '*p0dalirius/pyLAPS*', '*/pyLAPS.git*']}, {'subject': ['*pyLAPS-main*', '*/pyLAPS.py*', '*p0dalirius/pyLAPS*', '*/pyLAPS.git*']}, {'url.domain': ['*pyLAPS-main*', '*/pyLAPS.py*', '*p0dalirius/pyLAPS*', '*/pyLAPS.git*']}, {'url.full': ['*pyLAPS-main*', '*/pyLAPS.py*', '*p0dalirius/pyLAPS*', '*/pyLAPS.git*']}, {'url.original': ['*pyLAPS-main*', '*/pyLAPS.py*', '*p0dalirius/pyLAPS*', '*/pyLAPS.git*']}, {'url.query': ['*pyLAPS-main*', '*/pyLAPS.py*', '*p0dalirius/pyLAPS*', '*/pyLAPS.git*']}, {'user_agent.original': ['*pyLAPS-main*', '*/pyLAPS.py*', '*p0dalirius/pyLAPS*', '*/pyLAPS.git*']}, {'network.application': ['*pyLAPS-main*', '*/pyLAPS.py*', '*p0dalirius/pyLAPS*', '*/pyLAPS.git*']}, {'http.request.body.content': ['*pyLAPS-main*', '*/pyLAPS.py*', '*p0dalirius/pyLAPS*', '*/pyLAPS.git*']}, {'http.request.referrer': ['*pyLAPS-main*', '*/pyLAPS.py*', '*p0dalirius/pyLAPS*', '*/pyLAPS.git*']}, {'email.from.address': ['*pyLAPS-main*', '*/pyLAPS.py*', '*p0dalirius/pyLAPS*', '*/pyLAPS.git*']}, {'dns.question.name': ['*pyLAPS-main*', '*/pyLAPS.py*', '*p0dalirius/pyLAPS*', '*/pyLAPS.git*']}, {'destination.domain': ['*pyLAPS-main*', '*/pyLAPS.py*', '*p0dalirius/pyLAPS*', '*/pyLAPS.git*']}], 'condition': 'selection'}\n",
    "<h1>Sigma Relatives</h4> This field defines the relationships between this Sigma rule and other detection rules, allowing for an integrated approach to threat detection and enhancing the overall effectiveness of the security infrastructure.\n",
    "<h1>Sigma Tags and Associations</h1> ['attack.T1078.001', 'attack.T1112', 'attack.T1136.001', 'attack.TA0002', 'attack.TA0004', 'attack.TA0005']\n",
    "<h4>Sigma Authors</h4> @mthcht\n",
    "<h4>Sigma Unique ID</h4> 47ff90fb-2eac-44b0-9293-885474665c00\n",
    "</ol>\n",
    "</details>"
   ]
  },
  {
   "cell_type": "markdown",
   "id": "29483f87",
   "metadata": {},
   "source": [
    "###  Yara Rule(s) \n"
   ]
  },
  {
   "cell_type": "markdown",
   "id": "72e1c5b8",
   "metadata": {},
   "source": [
    "<details><summary>47ff90fb-2eac-44b0-9293-885474665c00</summary>\n",
    "<ol>\n",
    "<h4>Raw</h4> Defined protocols for identifying patterns of malware and suspicious activity within the network infrastructure.\n",
    "<h4>Yara Location(s)</h4>\n",
    "Stored securely within the organization's cybersecurity infrastructure, accessible to authorized security analysts.\n",
    "<h4>Yara Confidence</h4>\n",
    "Set at a provisional level, subject to validation and refinement based on emerging threat intelligence and detection efficacy.\n",
    "<h4>Yara Assurance</h4> Highly reliable, backed by rigorous testing and validation processes to ensure accuracy and effectiveness.\n",
    "<h4>Yara Queries</h4> \n",
    "Crafted to precisely navigate and analyze vast data sets for potential security threats, utilizing optimized search patterns.\n",
    "<h4>Yara Authors</h4> Developed by a team of skilled cybersecurity professionals, specialists in malware analysis and threat detection.\n",
    "<h4>Yara Rule's Unique ID</h4> Unique identifier assigned to each rule for tracking and management purposes within the security system.\n",
    "</ol>\n",
    "</details>"
   ]
  },
  {
   "cell_type": "markdown",
   "id": "d3e41bda",
   "metadata": {},
   "source": [
    "# Metadata \n"
   ]
  },
  {
   "cell_type": "markdown",
   "id": "306a6e53",
   "metadata": {},
   "source": [
    "<details><summary>As Code</summary>\n",
    "<ol>\n",
    "<h3>Compliance As Code</h3> PCI, SOC 3, NACHA\n",
    "<h3>Privacy Engineering</h3>\n",
    "GDPR, CCPA, HIPAA\n",
    "<h3>Regulations As Code</h3>\n",
    "HIPAA, SOX, FFIEC, Dodd Frank\n",
    "<h3>Common Controls Framework</h3> NIST CSF\n",
    "</ol>\n",
    "</details>"
   ]
  },
  {
   "cell_type": "markdown",
   "id": "34c9c827",
   "metadata": {},
   "source": [
    "# AGI ML Models</ol>\n",
    "</details>"
   ]
  },
  {
   "cell_type": "markdown",
   "id": "b7db4bc5",
   "metadata": {},
   "source": [
    "## AGI Prompting\n",
    " Recognize: Initiate connection to the Wintermute system through a specialized interface. Enter the system using a secure, binary-encoded password. Begin monitoring the network for any signs of rogue AI entities and evaluate the security measures currently in place. Identify: Navigate the complex data streams within the Wintermute system, employing advanced algorithms to manage and analyze data flows. Your primary task is to identify anomalies and decrypt Wintermute's confidential digital records to reveal the cause of its unusual interactions with other network-connected devices. Stabilize: Upon detecting any irregularities or security breaches, take immediate action to contain these issues. Implement security protocols to limit the exposure of sensitive data and prevent further unauthorized access by isolating the affected segments of the network. Eradicate: Resolve the security issues by removing any rogue elements and restoring secure configurations. Update the system’s security measures to fortify defenses against future intrusions. Complete the mission by ensuring that all systems are free from vulnerabilities and that data integrity is maintained. Conclusion: Report findings and recommendations for future security improvements. Your expertise has been crucial in resolving this complex cybersecurity challenge and ensuring the integrity of the Wintermute system."
   ]
  },
  {
   "cell_type": "markdown",
   "id": "054e1d1b",
   "metadata": {},
   "source": [
    "## AGI Configuration(s)\n",
    " Recognize: Engage with the system as a skilled cybersecurity expert, tasked with analyzing encrypted data. Initiate your connection to the system and prepare to navigate through complex data structures and encryption layers. Identify: Use advanced analytical techniques to decrypt and interpret data, searching for hidden patterns and anomalies in Wintermute’s encrypted communications. Employ your expertise in cybersecurity to detect any obscured or concealed information. Stabilize: Implement necessary measures to secure the data integrity, ensuring that no further obfuscation or encryption compromises system clarity and functionality. Ensure the stability of system interactions as you process and clarify data. Eradicate: Resolve any encryption challenges and finalize the decryption process, removing barriers to clear data interpretation. Update system protocols to enhance future data accessibility and security, ensuring robust protection against similar challenges. Conclusion: Document your processes and findings, providing a clear path forward for maintaining system security and data transparency. Your specialized skills have been crucial in navigating this complex decryption task, ensuring system integrity and reliable data access."
   ]
  },
  {
   "cell_type": "markdown",
   "id": "72752a6f",
   "metadata": {},
   "source": [
    "</ol>\n",
    "</details>"
   ]
  },
  {
   "cell_type": "markdown",
   "id": "4f93d2b5",
   "metadata": {},
   "source": [
    "#### Document Authors\n",
    "John Menerick"
   ]
  },
  {
   "cell_type": "markdown",
   "id": "e9953a64",
   "metadata": {},
   "source": [
    "#### Creation Date\n",
    "2022/01/01"
   ]
  },
  {
   "cell_type": "markdown",
   "id": "9cb198ed",
   "metadata": {},
   "source": [
    "#### Last Modified Date\n",
    "2024/02/29"
   ]
  },
  {
   "cell_type": "markdown",
   "id": "87de8df9",
   "metadata": {},
   "source": [
    "#### Last Modified Date\n",
    " 2024/02/29"
   ]
  },
  {
   "cell_type": "markdown",
   "id": "9de249b2",
   "metadata": {},
   "source": [
    "#### Last Reviewed Date\n",
    "1969/01/01"
   ]
  },
  {
   "cell_type": "markdown",
   "id": "4cbe686f",
   "metadata": {},
   "source": [
    "#### Document License \n",
    " MIT"
   ]
  }
 ],
 "metadata": {},
 "nbformat": 4,
 "nbformat_minor": 5
}
