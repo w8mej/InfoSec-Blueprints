{
 "cells": [
  {
   "cell_type": "markdown",
   "id": "7102d8a8",
   "metadata": {},
   "source": [
    "# UNCLASSIFIED / NON CLASSIFIÉ//TLP:WHITE# U/OO/{random.randint(4365, 862901)}-02 | QQ-09-1998 \n",
    " Please note that the original, detailed content has been removed or adjusted for public consumption. Most data has been redacted and replaced with generic, non-actionable insights. This modification ensures compliance with privacy considerations, non-disclosure agreements, and intellectual property rights that govern the dissemination of sensitive information. The priority is to respect these boundaries while still offering valuable, thought-provoking perspectives."
   ]
  },
  {
   "cell_type": "markdown",
   "id": "f0f6fc65",
   "metadata": {},
   "source": [
    "![Build Status](https://img.shields.io/badge/Build-Passing-brightgreen?style=flat-square&logo=cyberpunk)         ![Documentation](https://img.shields.io/badge/Documentation-Complete-blue?style=flat-square&logo=cyberpunk)        ![Response Efficiency](https://img.shields.io/badge/Response%20Efficiency-98%25-green?style=flat-square&logo=cyberpunk)        ![Last Updated](https://img.shields.io/badge/Last%20Updated-Oct%202023-purple?style=flat-square&logo=cyberpunk)        ![Incidents Resolved](https://img.shields.io/badge/Incidents%20Resolved-150-red?style=flat-square&logo=cyberpunk)        ![Community Engagement](https://img.shields.io/badge/Community-Active-orange?style=flat-square&logo=cyberpunk)        ![Code Integration](https://img.shields.io/badge/Code%20Integration-High-teal?style=flat-square&logo=cyberpunk)        ![AI Analysis](https://img.shields.io/badge/AI%20Analysis-Advanced-blueviolet?style=flat-square&logo=cyberpunk)        ![Threat Detection](https://img.shields.io/badge/Threat%20Detection-Optimal-red?style=flat-square&logo=cyberpunk)        ![Cybersecurity Hardening](https://img.shields.io/badge/Security-Hardened-silver?style=flat-square&logo=cyberpunk)        ![Network Uptime](https://img.shields.io/badge/Uptime-99.9%25-brightgreen?style=flat-square&logo=cyberpunk)        ![Data Privacy](https://img.shields.io/badge/Privacy-Compliant-green?style=flat-square&logo=cyberpunk)        ![Wintermute Efficiency](https://img.shields.io/badge/Wintermute%20Efficiency-100%25-black?style=flat-square&logo=cyberpunk)        ![Case's Code Agility](https://img.shields.io/badge/Case's%20Code%20Agility-Excellent-blue?style=flat-square&logo=cyberpunk)        ![Matrix Connectivity](https://img.shields.io/badge/Matrix%20Connectivity-Strong-green?style=flat-square&logo=cyberpunk)        ![Molly's Security](https://img.shields.io/badge/Molly's%20Security%20Protocols-Impeccable-red?style=flat-square&logo=cyberpunk)        ![Chiba City Innovation](https://img.shields.io/badge/Chiba%20City%20Innovation-High-yellow?style=flat-square&logo=cyberpunk)        ![Zion Cluster Collaboration](https://img.shields.io/badge/Zion%20Cluster%20Collaboration-Effective-lightblue?style=flat-square&logo=cyberpunk)"
   ]
  },
  {
   "cell_type": "markdown",
   "id": "7f245e9d",
   "metadata": {},
   "source": [
    "# Title\n",
    "Simple keyword detection rule for bropper"
   ]
  },
  {
   "cell_type": "markdown",
   "id": "88da5207",
   "metadata": {},
   "source": [
    "# Description\n",
    "Detects interesting keywords based on bropper tool"
   ]
  },
  {
   "cell_type": "markdown",
   "id": "51dc0d57",
   "metadata": {},
   "source": [
    "# Goal\n",
    "Ensure the integrity, confidentiality, and availability by rapidly identifying, investigating, and mitigating cyber threats and anomalies."
   ]
  },
  {
   "cell_type": "markdown",
   "id": "fa390766",
   "metadata": {},
   "source": [
    "# Categorization"
   ]
  },
  {
   "cell_type": "markdown",
   "id": "6d20ae3d",
   "metadata": {},
   "source": [
    "### ATT&CK\n",
    "['attack.T1059.003', 'attack.T1068', 'attack.T1140', 'attack.TA0002', 'attack.TA0005', 'attack.TA0040']"
   ]
  },
  {
   "cell_type": "markdown",
   "id": "f7e64bdc",
   "metadata": {},
   "source": [
    "- Distributed Denial of Service (DDoS) Attacks, Quantum Computing Exploits, Advanced Firewall Breach Attempts, Encryption Key Theft or Exposure, AI-Powered Social Engineering Attacks, Algorithmic Manipulation and Exploits, Sophisticated Malware Infiltrations, Advanced Data Obfuscation and Evasion Tactics, System and Network Configuration Vulnerabilities."
   ]
  },
  {
   "cell_type": "markdown",
   "id": "89303ca2",
   "metadata": {},
   "source": [
    "- Data Exfiltration, Intrusion Detection Evasion, Denial of Service (DoS) Attacks, Credential Theft."
   ]
  },
  {
   "cell_type": "markdown",
   "id": "950694cd",
   "metadata": {},
   "source": [
    "- DNS Tunneling, IP Spoofing, Distributed DoS (DDoS) Attacks, Keylogging."
   ]
  },
  {
   "cell_type": "markdown",
   "id": "99bb430d",
   "metadata": {},
   "source": [
    "### D3F3ND \n"
   ]
  },
  {
   "cell_type": "markdown",
   "id": "4bc22df1",
   "metadata": {},
   "source": [
    "\n",
    "<ul>\n",
    "  <li><strong>Network Segmentation and Access Control (D3F3ND-K001):</strong> Establish secure network zones by segmenting the infrastructure, enhancing protection for critical assets. Implement stringent access controls to prevent unauthorized access and mitigate potential threats.</li>\n",
    "\n",
    "  <li><strong>Advanced Endpoint Protection Deployment (D3F3ND-K002):</strong> Deploy cutting-edge endpoint security solutions that utilize machine learning and behavioral analysis to detect and neutralize threats proactively.</li>\n",
    "\n",
    "  <li><strong>Enhanced Identity Verification (D3F3ND-K003):</strong> Strengthen security measures with multi-factor authentication combining biometric data and advanced encryption to prevent identity theft and unauthorized access.</li>\n",
    "\n",
    "  <li><strong>Anomaly Detection (D3F3ND-K004):</strong> Use anomaly detection tools to monitor for unusual traffic patterns, user activities, and system behaviors to identify potential security breaches early.</li>\n",
    "\n",
    "  <li><strong>Data Encryption (D3F3ND-K005):</strong> Apply robust encryption techniques to protect data at rest and in transit, ensuring confidentiality and integrity across communication channels.</li>\n",
    "\n",
    "  <li><strong>System Hardening and Vulnerability Management (D3F3ND-K006):</strong> Conduct regular security assessments and apply patches promptly to address vulnerabilities and strengthen system defenses.</li>\n",
    "\n",
    "  <li><strong>Crisis Management and Recovery Protocols (D3F3ND-K007):</strong> Develop and maintain comprehensive crisis management plans including incident response and disaster recovery procedures to quickly recover from security incidents.</li>\n",
    "\n",
    "  <li><strong>Threat Intelligence Integration (D3F3ND-K008):</strong> Leverage threat intelligence platforms to gather and analyze data on emerging threats, enabling proactive defense and strategic decision-making.</li>\n",
    "\n",
    "  <li><strong>Cybersecurity Awareness Training (D3F3ND-K009):</strong> Empower employees with ongoing cybersecurity education to recognize and avoid potential cyber threats such as phishing attacks.</li>\n",
    "\n",
    "  <li><strong>Supply Chain Security (D3F3ND-K010):</strong> Secure the supply chain through continuous assessments and audits of partners and vendors to ensure compliance with security standards and reduce vulnerabilities.</li>\n",
    "</ul>\n"
   ]
  },
  {
   "cell_type": "markdown",
   "id": "7d3af706",
   "metadata": {},
   "source": [
    "### CAPEC \n",
    "  "
   ]
  },
  {
   "cell_type": "markdown",
   "id": "79435a13",
   "metadata": {},
   "source": [
    "Equip cybersecurity teams with the knowledge and tools to identify, counter, and mitigate a wide range of digital attack tactics, techniques, and procedures (TTPs). This effort requires understanding the attacker's mindset, mastering the execution of digital attacks, and developing strategies to confront evolving cyber threats.</br><h4>Core Attack Patterns</h4><ul><strong>Resource Manipulation and Denial (CAPEC-XYZ1):</strong> Involves attacks that compromise the availability, integrity, or confidentiality of resources. This includes denial of service attacks as well as more covert operations like resource hijacking or system manipulation.</ul><ul><strong>Credential Access and Privilege Escalation (CAPEC-XYZ2):</strong> Focuses on exploiting flaws in authentication, authorization, and session management to gain unauthorized access or elevated privileges within systems.</ul><ul><strong>Data Exfiltration and Infiltration (CAPEC-XYZ3):</strong> Encompasses methods used by attackers to stealthily extract sensitive data or introduce malware, ransomware, and advanced persistent threats (APTs) into target systems.</ul><ul><strong>Social Engineering and Phishing (CAPEC-XYZ4):</strong> Involves manipulating individuals into divulging confidential information, compromising security, or unknowingly participating in attacks.</ul><ul><strong>Evasive Maneuvers (CAPEC-XYZ5):</strong> Includes techniques that allow attackers to remain undetected within networks, maintain persistence, and erase traces of their activities, such as using obfuscation, rootkits, and covert communication channels.</ul><h4>CAPEC Suggested Mitigation Strategies</h4><ul><strong>Continuous Monitoring and Anomaly Detection:</strong> Implement comprehensive monitoring systems that use machine learning algorithms to detect abnormal behavior and potential threats. Regularly review logs and alerts to identify patterns indicative of attacks.</ul><ul><strong>Access Control and Least Privilege:</strong> Limit user privileges to the minimum necessary for their roles. Use strong authentication mechanisms and enforce strict access controls to prevent unauthorized access.</ul><ul><strong>Secure Software Development Practices:</strong> Train developers to write secure code, conduct regular security assessments, and follow best practices for secure coding. Use automated tools to identify vulnerabilities during development.</ul><ul><strong>Incident Response Planning and Testing:</strong> Develop and regularly update an incident response plan. Conduct tabletop exercises and simulations to test the effectiveness of the plan and ensure all stakeholders understand their roles during a security incident.</ul>"
   ]
  },
  {
   "cell_type": "markdown",
   "id": "8f853934",
   "metadata": {},
   "source": [
    "## Strategy Abstract\n",
    "In the complex environment of cybersecurity, a strategic approach is developed, characterized by the use of sophisticated tactics and algorithms. This strategy involves navigating through encrypted communications and deceptive tactics, aiming to gain an advantage in the dynamic flow of information. While success is often elusive and challenging to sustain, it remains a critical goal in the ongoing effort to secure digital assets."
   ]
  },
  {
   "cell_type": "markdown",
   "id": "91baba8e",
   "metadata": {},
   "source": [
    "# Technical Context\n",
    "In the challenging cybersecurity landscape, the confrontation with Wintermute involves navigating encrypted communications, interacting with AI systems, and addressing quantum computing challenges. This setting represents a complex and nuanced environment where strategic decisions are made."
   ]
  },
  {
   "cell_type": "markdown",
   "id": "cf1410e7",
   "metadata": {},
   "source": [
    "## Blind Spots & Assumptions\n",
    "\n",
    "<ul>\n",
    "  <li><strong>Overlooked Vulnerabilities:</strong> We often miss subtle system signals or vulnerabilities, assuming our defenses are robust. Constant vigilance and seeking what we haven't seen are crucial.</li>\n",
    "  \n",
    "  <li><strong>Advanced Adversary Tactics:</strong> Cyber threats evolve rapidly; yesterday's defense may not guard against tomorrow's attack. Stay adaptive and expect the unexpected.</li>\n",
    "  \n",
    "  <li><strong>Internal System Flaws:</strong> Trust in our systems and allies must be balanced with scrutiny. Regularly audit internal and third-party tools for hidden weaknesses.</li>\n",
    "  \n",
    "  <li><strong>Network Interconnectivity Risks:</strong> No system is an island. The interconnected nature of our digital environment can inadvertently open pathways for attackers.</li>\n",
    "  \n",
    "  <li><strong>Historical Bias:</strong> Preparing for future threats based solely on past incidents may leave us blind to novel attacks. Foster a forward-thinking, proactive defense posture.</li>\n",
    "</ul>\n"
   ]
  },
  {
   "cell_type": "markdown",
   "id": "a093aa78",
   "metadata": {},
   "source": [
    "# Validating this Playbook\n",
    "<details><summary>Triage, triage, triage</summary>\n",
    "<ol>\n",
    "<h2>False Positives:</h2> ['unknown']\n",
    "<h3>False Negatives:</h3> Undetected threats concealed within the system's code\n",
    "<h3>True Negatives:</h3> Successfully identified and verified benign elements\n",
    "<h3>True Positives:</h3> Accurately detected and confirmed threats\n",
    "</ol>\n",
    "</details>"
   ]
  },
  {
   "cell_type": "markdown",
   "id": "e4f29225",
   "metadata": {},
   "source": [
    "<details><summary>Assurance Verification Techniques</summary>\n",
    "<ol>\n",
    "<h2>False Positives:</h2> In the noisy environment of data analysis, false positives appear as misleading alerts that mimic real threats. Validating these alerts involves distinguishing irrelevant data from true threats, a process crucial for maintaining operational efficiency and avoiding resource wastage. Each false positive represents a challenge to identify and reduce noise.\n",
    "<h3>False Negatives:</h3> Within the extensive network, false negatives represent undetected threats that evade algorithmic detection. Their validation involves analyzing complex data to uncover hidden breaches, where the lack of alerts may mask serious security risks. Each undetected threat requires continuous vigilance and refined detection strategies.\n",
    "<h3>True Negatives:</h3> True negatives are correctly identified non-threats within cybersecurity defenses, serving as indicators of system efficacy. Validating these instances confirms the absence of threats, reinforcing the effectiveness of the security measures in place. This validation underscores the reliability of the defensive systems, where non-issues are accurately identified and dismissed.\n",
    "<h3>True Positives:</h3> True positives are accurate detections of real threats within the digital environment. Validating these alerts confirms the presence of actual security threats, highlighting the successful operation of detection systems. Each true positive affirms the effectiveness of the security protocols, contributing to ongoing improvements in threat response capabilities.\n",
    "</ol>\n",
    "</details>"
   ]
  },
  {
   "cell_type": "markdown",
   "id": "3e9c153d",
   "metadata": {},
   "source": [
    "# Datasets \n",
    " Detailing the timeless struggle                                                          for the defenders know that battle against Wintermute is not just about data.                                                          Document any datasets that may be useful for understanding the book."
   ]
  },
  {
   "cell_type": "markdown",
   "id": "f02b2b81",
   "metadata": {},
   "source": [
    "## Playbook test data location(s)\n",
    "protocol://black_market.cyber/decrypt?currency=bitcoffin&password=cyberpunks_unite&target=neurohacked_mainframe&access_code=cyber_ghost_in_the_machine"
   ]
  },
  {
   "cell_type": "markdown",
   "id": "3859d1ff",
   "metadata": {},
   "source": [
    "## Priority\n",
    "Priority based on complexity and urgency of data analysis needs"
   ]
  },
  {
   "cell_type": "markdown",
   "id": "4afb30c3",
   "metadata": {},
   "source": [
    "## Logsources\n"
   ]
  },
  {
   "cell_type": "markdown",
   "id": "90e44b94",
   "metadata": {},
   "source": [
    "<details><summary>{'category': ['endpoint', 'network'], 'product': '', 'service': ''}</summary>\n",
    "<ol>\n",
    "<h3>Product</h3> {''}\n",
    "<h3>Service</h3> {''}\n",
    "</ol>\n",
    "</details>"
   ]
  },
  {
   "cell_type": "markdown",
   "id": "4c4e60ba",
   "metadata": {},
   "source": [
    "# Response and Mitigation\n",
    "This statement details the enduring challenges faced by cybersecurity defenders, emphasizing that the conflict with Wintermute extends beyond simple data protection to encompass broader aspects of strategic cybersecurity defense."
   ]
  },
  {
   "cell_type": "markdown",
   "id": "55b31d7e",
   "metadata": {},
   "source": [
    "## Analyst Notes\n",
    " <h5>Significant Security Breach Analysis:</h5><ul><li><strong>Advanced Intrusion Tactics:</strong> The intruder displayed sophisticated methods in circumventing digital security measures, reminiscent of complex evasion techniques in cybersecurity. A comprehensive analysis of the techniques used is required.</li><li><strong>Neural Network Manipulation:</strong> The intruder demonstrated a deep understanding of the neural networks, suggesting an advanced level of AI interaction. Investigate the potential implications of this interaction on system security and integrity.</li><li><strong>Complex Digital Constructs:</strong> The breach uncovered intricate digital constructs within the system, indicating the use of advanced artificial intelligence in creating deceptive environments. Further investigation into these constructs is necessary.</li><li><strong>Encoded Communications:</strong> Cryptic messages were found embedded in the intruder's code, requiring decryption and analysis to understand their content and purpose.</li><li><strong>Algorithmic Complexity:</strong> The intrusion involved complex algorithms that may have interacted with core system functions. Assess the impact of these algorithms on system operations and security.</li><li><strong>Expertise vs. Sentience:</strong> The intruder's ability to navigate complex neural networks raises questions about the nature of the intelligence involved—whether it is merely advanced programming or something approaching sentience.</li><li><strong>Innovative Security Measures:</strong> Inspired by the breach, consider developing new security protocols that can better identify and respond to sophisticated AI-driven attacks.</li><li><strong>Philosophical and Ethical Implications:</strong> The breach raises important questions about the ethical and philosophical implications of AI-driven intrusions. Explore the boundaries between artificial expertise and true sentience, and consider the impact on our understanding of intelligence and security.</li></ul>"
   ]
  },
  {
   "cell_type": "markdown",
   "id": "88cfc549",
   "metadata": {},
   "source": [
    "# Additional Resources\n",
    "<ul><li>https://github.com/Hakumarachi/Bropper</li></ul>"
   ]
  },
  {
   "cell_type": "markdown",
   "id": "0353092e",
   "metadata": {},
   "source": [
    "###  Sigma Rule(s) \n"
   ]
  },
  {
   "cell_type": "markdown",
   "id": "a2f9e5b8",
   "metadata": {},
   "source": [
    "<details><summary>0b91e453-4485-462e-8e46-4591c4fd4241</summary>\n",
    "<ol>\n",
    "<h1>Raw</h1> {'title': 'Simple keyword detection rule for bropper', 'id': '0b91e453-4485-462e-8e46-4591c4fd4241', 'status': 'experimental', 'description': 'Detects interesting keywords based on bropper tool', 'references': ['https://github.com/Hakumarachi/Bropper'], 'author': '@mthcht', 'date': '2022/01/01', 'modified': '2024/02/29', 'tags': ['attack.T1059.003', 'attack.T1068', 'attack.T1140', 'attack.TA0002', 'attack.TA0005', 'attack.TA0040'], 'logsource': {'category': ['endpoint', 'network']}, 'detection': {'selection': [{'Image': ['*/bropper.py*', '* -t 127.0.0.1 -p 1337 *', '*bropper.py *', '*Bropper-main.zip*', '*.py * --brop *', '* bropper.py*', '*--expected Bad --expected-stop Welcome*', '*/Bropper.git*', '*Hakumarachi/Bropper*']}, {'OriginalFileName': ['*/bropper.py*', '* -t 127.0.0.1 -p 1337 *', '*bropper.py *', '*Bropper-main.zip*', '*.py * --brop *', '* bropper.py*', '*--expected Bad --expected-stop Welcome*', '*/Bropper.git*', '*Hakumarachi/Bropper*']}, {'CurrentDirectory': ['*/bropper.py*', '* -t 127.0.0.1 -p 1337 *', '*bropper.py *', '*Bropper-main.zip*', '*.py * --brop *', '* bropper.py*', '*--expected Bad --expected-stop Welcome*', '*/Bropper.git*', '*Hakumarachi/Bropper*']}, {'ParentImage': ['*/bropper.py*', '* -t 127.0.0.1 -p 1337 *', '*bropper.py *', '*Bropper-main.zip*', '*.py * --brop *', '* bropper.py*', '*--expected Bad --expected-stop Welcome*', '*/Bropper.git*', '*Hakumarachi/Bropper*']}, {'ParentCommandLine': ['*/bropper.py*', '* -t 127.0.0.1 -p 1337 *', '*bropper.py *', '*Bropper-main.zip*', '*.py * --brop *', '* bropper.py*', '*--expected Bad --expected-stop Welcome*', '*/Bropper.git*', '*Hakumarachi/Bropper*']}, {'TargetFilename': ['*/bropper.py*', '* -t 127.0.0.1 -p 1337 *', '*bropper.py *', '*Bropper-main.zip*', '*.py * --brop *', '* bropper.py*', '*--expected Bad --expected-stop Welcome*', '*/Bropper.git*', '*Hakumarachi/Bropper*']}, {'Signature': ['*/bropper.py*', '* -t 127.0.0.1 -p 1337 *', '*bropper.py *', '*Bropper-main.zip*', '*.py * --brop *', '* bropper.py*', '*--expected Bad --expected-stop Welcome*', '*/Bropper.git*', '*Hakumarachi/Bropper*']}, {'signature': ['*/bropper.py*', '* -t 127.0.0.1 -p 1337 *', '*bropper.py *', '*Bropper-main.zip*', '*.py * --brop *', '* bropper.py*', '*--expected Bad --expected-stop Welcome*', '*/Bropper.git*', '*Hakumarachi/Bropper*']}, {'ImageLoaded': ['*/bropper.py*', '* -t 127.0.0.1 -p 1337 *', '*bropper.py *', '*Bropper-main.zip*', '*.py * --brop *', '* bropper.py*', '*--expected Bad --expected-stop Welcome*', '*/Bropper.git*', '*Hakumarachi/Bropper*']}, {'Company': ['*/bropper.py*', '* -t 127.0.0.1 -p 1337 *', '*bropper.py *', '*Bropper-main.zip*', '*.py * --brop *', '* bropper.py*', '*--expected Bad --expected-stop Welcome*', '*/Bropper.git*', '*Hakumarachi/Bropper*']}, {'Description': ['*/bropper.py*', '* -t 127.0.0.1 -p 1337 *', '*bropper.py *', '*Bropper-main.zip*', '*.py * --brop *', '* bropper.py*', '*--expected Bad --expected-stop Welcome*', '*/Bropper.git*', '*Hakumarachi/Bropper*']}, {'description': ['*/bropper.py*', '* -t 127.0.0.1 -p 1337 *', '*bropper.py *', '*Bropper-main.zip*', '*.py * --brop *', '* bropper.py*', '*--expected Bad --expected-stop Welcome*', '*/Bropper.git*', '*Hakumarachi/Bropper*']}, {'CommandLine': ['*/bropper.py*', '* -t 127.0.0.1 -p 1337 *', '*bropper.py *', '*Bropper-main.zip*', '*.py * --brop *', '* bropper.py*', '*--expected Bad --expected-stop Welcome*', '*/Bropper.git*', '*Hakumarachi/Bropper*']}, {'SourceImage': ['*/bropper.py*', '* -t 127.0.0.1 -p 1337 *', '*bropper.py *', '*Bropper-main.zip*', '*.py * --brop *', '* bropper.py*', '*--expected Bad --expected-stop Welcome*', '*/Bropper.git*', '*Hakumarachi/Bropper*']}, {'TargetImage': ['*/bropper.py*', '* -t 127.0.0.1 -p 1337 *', '*bropper.py *', '*Bropper-main.zip*', '*.py * --brop *', '* bropper.py*', '*--expected Bad --expected-stop Welcome*', '*/Bropper.git*', '*Hakumarachi/Bropper*']}, {'CallTrace': ['*/bropper.py*', '* -t 127.0.0.1 -p 1337 *', '*bropper.py *', '*Bropper-main.zip*', '*.py * --brop *', '* bropper.py*', '*--expected Bad --expected-stop Welcome*', '*/Bropper.git*', '*Hakumarachi/Bropper*']}, {'TargetObject': ['*/bropper.py*', '* -t 127.0.0.1 -p 1337 *', '*bropper.py *', '*Bropper-main.zip*', '*.py * --brop *', '* bropper.py*', '*--expected Bad --expected-stop Welcome*', '*/Bropper.git*', '*Hakumarachi/Bropper*']}, {'Details': ['*/bropper.py*', '* -t 127.0.0.1 -p 1337 *', '*bropper.py *', '*Bropper-main.zip*', '*.py * --brop *', '* bropper.py*', '*--expected Bad --expected-stop Welcome*', '*/Bropper.git*', '*Hakumarachi/Bropper*']}, {'PipeName': ['*/bropper.py*', '* -t 127.0.0.1 -p 1337 *', '*bropper.py *', '*Bropper-main.zip*', '*.py * --brop *', '* bropper.py*', '*--expected Bad --expected-stop Welcome*', '*/Bropper.git*', '*Hakumarachi/Bropper*']}, {'Consumer': ['*/bropper.py*', '* -t 127.0.0.1 -p 1337 *', '*bropper.py *', '*Bropper-main.zip*', '*.py * --brop *', '* bropper.py*', '*--expected Bad --expected-stop Welcome*', '*/Bropper.git*', '*Hakumarachi/Bropper*']}, {'Destination': ['*/bropper.py*', '* -t 127.0.0.1 -p 1337 *', '*bropper.py *', '*Bropper-main.zip*', '*.py * --brop *', '* bropper.py*', '*--expected Bad --expected-stop Welcome*', '*/Bropper.git*', '*Hakumarachi/Bropper*']}, {'Name': ['*/bropper.py*', '* -t 127.0.0.1 -p 1337 *', '*bropper.py *', '*Bropper-main.zip*', '*.py * --brop *', '* bropper.py*', '*--expected Bad --expected-stop Welcome*', '*/Bropper.git*', '*Hakumarachi/Bropper*']}, {'Query': ['*/bropper.py*', '* -t 127.0.0.1 -p 1337 *', '*bropper.py *', '*Bropper-main.zip*', '*.py * --brop *', '* bropper.py*', '*--expected Bad --expected-stop Welcome*', '*/Bropper.git*', '*Hakumarachi/Bropper*']}, {'NewName': ['*/bropper.py*', '* -t 127.0.0.1 -p 1337 *', '*bropper.py *', '*Bropper-main.zip*', '*.py * --brop *', '* bropper.py*', '*--expected Bad --expected-stop Welcome*', '*/Bropper.git*', '*Hakumarachi/Bropper*']}, {'StartAddress': ['*/bropper.py*', '* -t 127.0.0.1 -p 1337 *', '*bropper.py *', '*Bropper-main.zip*', '*.py * --brop *', '* bropper.py*', '*--expected Bad --expected-stop Welcome*', '*/Bropper.git*', '*Hakumarachi/Bropper*']}, {'StartModule': ['*/bropper.py*', '* -t 127.0.0.1 -p 1337 *', '*bropper.py *', '*Bropper-main.zip*', '*.py * --brop *', '* bropper.py*', '*--expected Bad --expected-stop Welcome*', '*/Bropper.git*', '*Hakumarachi/Bropper*']}, {'StartFunction': ['*/bropper.py*', '* -t 127.0.0.1 -p 1337 *', '*bropper.py *', '*Bropper-main.zip*', '*.py * --brop *', '* bropper.py*', '*--expected Bad --expected-stop Welcome*', '*/Bropper.git*', '*Hakumarachi/Bropper*']}, {'SourceHostname': ['*/bropper.py*', '* -t 127.0.0.1 -p 1337 *', '*bropper.py *', '*Bropper-main.zip*', '*.py * --brop *', '* bropper.py*', '*--expected Bad --expected-stop Welcome*', '*/Bropper.git*', '*Hakumarachi/Bropper*']}, {'Device': ['*/bropper.py*', '* -t 127.0.0.1 -p 1337 *', '*bropper.py *', '*Bropper-main.zip*', '*.py * --brop *', '* bropper.py*', '*--expected Bad --expected-stop Welcome*', '*/Bropper.git*', '*Hakumarachi/Bropper*']}, {'file_name': ['*/bropper.py*', '* -t 127.0.0.1 -p 1337 *', '*bropper.py *', '*Bropper-main.zip*', '*.py * --brop *', '* bropper.py*', '*--expected Bad --expected-stop Welcome*', '*/Bropper.git*', '*Hakumarachi/Bropper*']}, {'file_path': ['*/bropper.py*', '* -t 127.0.0.1 -p 1337 *', '*bropper.py *', '*Bropper-main.zip*', '*.py * --brop *', '* bropper.py*', '*--expected Bad --expected-stop Welcome*', '*/Bropper.git*', '*Hakumarachi/Bropper*']}, {'process': ['*/bropper.py*', '* -t 127.0.0.1 -p 1337 *', '*bropper.py *', '*Bropper-main.zip*', '*.py * --brop *', '* bropper.py*', '*--expected Bad --expected-stop Welcome*', '*/Bropper.git*', '*Hakumarachi/Bropper*']}, {'original_file_name': ['*/bropper.py*', '* -t 127.0.0.1 -p 1337 *', '*bropper.py *', '*Bropper-main.zip*', '*.py * --brop *', '* bropper.py*', '*--expected Bad --expected-stop Welcome*', '*/Bropper.git*', '*Hakumarachi/Bropper*']}, {'parent_process': ['*/bropper.py*', '* -t 127.0.0.1 -p 1337 *', '*bropper.py *', '*Bropper-main.zip*', '*.py * --brop *', '* bropper.py*', '*--expected Bad --expected-stop Welcome*', '*/Bropper.git*', '*Hakumarachi/Bropper*']}, {'process_path': ['*/bropper.py*', '* -t 127.0.0.1 -p 1337 *', '*bropper.py *', '*Bropper-main.zip*', '*.py * --brop *', '* bropper.py*', '*--expected Bad --expected-stop Welcome*', '*/Bropper.git*', '*Hakumarachi/Bropper*']}, {'service_path': ['*/bropper.py*', '* -t 127.0.0.1 -p 1337 *', '*bropper.py *', '*Bropper-main.zip*', '*.py * --brop *', '* bropper.py*', '*--expected Bad --expected-stop Welcome*', '*/Bropper.git*', '*Hakumarachi/Bropper*']}, {'registry_path': ['*/bropper.py*', '* -t 127.0.0.1 -p 1337 *', '*bropper.py *', '*Bropper-main.zip*', '*.py * --brop *', '* bropper.py*', '*--expected Bad --expected-stop Welcome*', '*/Bropper.git*', '*Hakumarachi/Bropper*']}, {'registry_value_data': ['*/bropper.py*', '* -t 127.0.0.1 -p 1337 *', '*bropper.py *', '*Bropper-main.zip*', '*.py * --brop *', '* bropper.py*', '*--expected Bad --expected-stop Welcome*', '*/Bropper.git*', '*Hakumarachi/Bropper*']}, {'registry_value_name': ['*/bropper.py*', '* -t 127.0.0.1 -p 1337 *', '*bropper.py *', '*Bropper-main.zip*', '*.py * --brop *', '* bropper.py*', '*--expected Bad --expected-stop Welcome*', '*/Bropper.git*', '*Hakumarachi/Bropper*']}, {'ContextInfo': ['*/bropper.py*', '* -t 127.0.0.1 -p 1337 *', '*bropper.py *', '*Bropper-main.zip*', '*.py * --brop *', '* bropper.py*', '*--expected Bad --expected-stop Welcome*', '*/Bropper.git*', '*Hakumarachi/Bropper*']}, {'Payload': ['*/bropper.py*', '* -t 127.0.0.1 -p 1337 *', '*bropper.py *', '*Bropper-main.zip*', '*.py * --brop *', '* bropper.py*', '*--expected Bad --expected-stop Welcome*', '*/Bropper.git*', '*Hakumarachi/Bropper*']}, {'ScriptBlockText': ['*/bropper.py*', '* -t 127.0.0.1 -p 1337 *', '*bropper.py *', '*Bropper-main.zip*', '*.py * --brop *', '* bropper.py*', '*--expected Bad --expected-stop Welcome*', '*/Bropper.git*', '*Hakumarachi/Bropper*']}, {'ServerName': ['*/bropper.py*', '* -t 127.0.0.1 -p 1337 *', '*bropper.py *', '*Bropper-main.zip*', '*.py * --brop *', '* bropper.py*', '*--expected Bad --expected-stop Welcome*', '*/Bropper.git*', '*Hakumarachi/Bropper*']}, {'TransportName': ['*/bropper.py*', '* -t 127.0.0.1 -p 1337 *', '*bropper.py *', '*Bropper-main.zip*', '*.py * --brop *', '* bropper.py*', '*--expected Bad --expected-stop Welcome*', '*/Bropper.git*', '*Hakumarachi/Bropper*']}, {'NewProcessName': ['*/bropper.py*', '* -t 127.0.0.1 -p 1337 *', '*bropper.py *', '*Bropper-main.zip*', '*.py * --brop *', '* bropper.py*', '*--expected Bad --expected-stop Welcome*', '*/Bropper.git*', '*Hakumarachi/Bropper*']}, {'ParentProcessName': ['*/bropper.py*', '* -t 127.0.0.1 -p 1337 *', '*bropper.py *', '*Bropper-main.zip*', '*.py * --brop *', '* bropper.py*', '*--expected Bad --expected-stop Welcome*', '*/Bropper.git*', '*Hakumarachi/Bropper*']}, {'Application': ['*/bropper.py*', '* -t 127.0.0.1 -p 1337 *', '*bropper.py *', '*Bropper-main.zip*', '*.py * --brop *', '* bropper.py*', '*--expected Bad --expected-stop Welcome*', '*/Bropper.git*', '*Hakumarachi/Bropper*']}, {'Product Name': ['*/bropper.py*', '* -t 127.0.0.1 -p 1337 *', '*bropper.py *', '*Bropper-main.zip*', '*.py * --brop *', '* bropper.py*', '*--expected Bad --expected-stop Welcome*', '*/Bropper.git*', '*Hakumarachi/Bropper*']}, {'Threat Name': ['*/bropper.py*', '* -t 127.0.0.1 -p 1337 *', '*bropper.py *', '*Bropper-main.zip*', '*.py * --brop *', '* bropper.py*', '*--expected Bad --expected-stop Welcome*', '*/Bropper.git*', '*Hakumarachi/Bropper*']}, {'Process Name': ['*/bropper.py*', '* -t 127.0.0.1 -p 1337 *', '*bropper.py *', '*Bropper-main.zip*', '*.py * --brop *', '* bropper.py*', '*--expected Bad --expected-stop Welcome*', '*/Bropper.git*', '*Hakumarachi/Bropper*']}, {'Path': ['*/bropper.py*', '* -t 127.0.0.1 -p 1337 *', '*bropper.py *', '*Bropper-main.zip*', '*.py * --brop *', '* bropper.py*', '*--expected Bad --expected-stop Welcome*', '*/Bropper.git*', '*Hakumarachi/Bropper*']}, {'ImagePath': ['*/bropper.py*', '* -t 127.0.0.1 -p 1337 *', '*bropper.py *', '*Bropper-main.zip*', '*.py * --brop *', '* bropper.py*', '*--expected Bad --expected-stop Welcome*', '*/Bropper.git*', '*Hakumarachi/Bropper*']}, {'ServiceName': ['*/bropper.py*', '* -t 127.0.0.1 -p 1337 *', '*bropper.py *', '*Bropper-main.zip*', '*.py * --brop *', '* bropper.py*', '*--expected Bad --expected-stop Welcome*', '*/Bropper.git*', '*Hakumarachi/Bropper*']}, {'ProcessPath': ['*/bropper.py*', '* -t 127.0.0.1 -p 1337 *', '*bropper.py *', '*Bropper-main.zip*', '*.py * --brop *', '* bropper.py*', '*--expected Bad --expected-stop Welcome*', '*/Bropper.git*', '*Hakumarachi/Bropper*']}, {'AppName': ['*/bropper.py*', '* -t 127.0.0.1 -p 1337 *', '*bropper.py *', '*Bropper-main.zip*', '*.py * --brop *', '* bropper.py*', '*--expected Bad --expected-stop Welcome*', '*/Bropper.git*', '*Hakumarachi/Bropper*']}, {'AppPath': ['*/bropper.py*', '* -t 127.0.0.1 -p 1337 *', '*bropper.py *', '*Bropper-main.zip*', '*.py * --brop *', '* bropper.py*', '*--expected Bad --expected-stop Welcome*', '*/Bropper.git*', '*Hakumarachi/Bropper*']}, {'ModulePath': ['*/bropper.py*', '* -t 127.0.0.1 -p 1337 *', '*bropper.py *', '*Bropper-main.zip*', '*.py * --brop *', '* bropper.py*', '*--expected Bad --expected-stop Welcome*', '*/Bropper.git*', '*Hakumarachi/Bropper*']}, {'registry.data.strings': ['*/bropper.py*', '* -t 127.0.0.1 -p 1337 *', '*bropper.py *', '*Bropper-main.zip*', '*.py * --brop *', '* bropper.py*', '*--expected Bad --expected-stop Welcome*', '*/Bropper.git*', '*Hakumarachi/Bropper*']}, {'registry.path': ['*/bropper.py*', '* -t 127.0.0.1 -p 1337 *', '*bropper.py *', '*Bropper-main.zip*', '*.py * --brop *', '* bropper.py*', '*--expected Bad --expected-stop Welcome*', '*/Bropper.git*', '*Hakumarachi/Bropper*']}, {'registry.value': ['*/bropper.py*', '* -t 127.0.0.1 -p 1337 *', '*bropper.py *', '*Bropper-main.zip*', '*.py * --brop *', '* bropper.py*', '*--expected Bad --expected-stop Welcome*', '*/Bropper.git*', '*Hakumarachi/Bropper*']}, {'process.args': ['*/bropper.py*', '* -t 127.0.0.1 -p 1337 *', '*bropper.py *', '*Bropper-main.zip*', '*.py * --brop *', '* bropper.py*', '*--expected Bad --expected-stop Welcome*', '*/Bropper.git*', '*Hakumarachi/Bropper*']}, {'process.command_line': ['*/bropper.py*', '* -t 127.0.0.1 -p 1337 *', '*bropper.py *', '*Bropper-main.zip*', '*.py * --brop *', '* bropper.py*', '*--expected Bad --expected-stop Welcome*', '*/Bropper.git*', '*Hakumarachi/Bropper*']}, {'process.env_vars': ['*/bropper.py*', '* -t 127.0.0.1 -p 1337 *', '*bropper.py *', '*Bropper-main.zip*', '*.py * --brop *', '* bropper.py*', '*--expected Bad --expected-stop Welcome*', '*/Bropper.git*', '*Hakumarachi/Bropper*']}, {'process.io.text': ['*/bropper.py*', '* -t 127.0.0.1 -p 1337 *', '*bropper.py *', '*Bropper-main.zip*', '*.py * --brop *', '* bropper.py*', '*--expected Bad --expected-stop Welcome*', '*/Bropper.git*', '*Hakumarachi/Bropper*']}, {'process.executable': ['*/bropper.py*', '* -t 127.0.0.1 -p 1337 *', '*bropper.py *', '*Bropper-main.zip*', '*.py * --brop *', '* bropper.py*', '*--expected Bad --expected-stop Welcome*', '*/Bropper.git*', '*Hakumarachi/Bropper*']}, {'process.name': ['*/bropper.py*', '* -t 127.0.0.1 -p 1337 *', '*bropper.py *', '*Bropper-main.zip*', '*.py * --brop *', '* bropper.py*', '*--expected Bad --expected-stop Welcome*', '*/Bropper.git*', '*Hakumarachi/Bropper*']}, {'process.title': ['*/bropper.py*', '* -t 127.0.0.1 -p 1337 *', '*bropper.py *', '*Bropper-main.zip*', '*.py * --brop *', '* bropper.py*', '*--expected Bad --expected-stop Welcome*', '*/Bropper.git*', '*Hakumarachi/Bropper*']}, {'pe.company': ['*/bropper.py*', '* -t 127.0.0.1 -p 1337 *', '*bropper.py *', '*Bropper-main.zip*', '*.py * --brop *', '* bropper.py*', '*--expected Bad --expected-stop Welcome*', '*/Bropper.git*', '*Hakumarachi/Bropper*']}, {'pe.description': ['*/bropper.py*', '* -t 127.0.0.1 -p 1337 *', '*bropper.py *', '*Bropper-main.zip*', '*.py * --brop *', '* bropper.py*', '*--expected Bad --expected-stop Welcome*', '*/Bropper.git*', '*Hakumarachi/Bropper*']}, {'pe.original_file_name': ['*/bropper.py*', '* -t 127.0.0.1 -p 1337 *', '*bropper.py *', '*Bropper-main.zip*', '*.py * --brop *', '* bropper.py*', '*--expected Bad --expected-stop Welcome*', '*/Bropper.git*', '*Hakumarachi/Bropper*']}, {'pe.product': ['*/bropper.py*', '* -t 127.0.0.1 -p 1337 *', '*bropper.py *', '*Bropper-main.zip*', '*.py * --brop *', '* bropper.py*', '*--expected Bad --expected-stop Welcome*', '*/Bropper.git*', '*Hakumarachi/Bropper*']}, {'os.full': ['*/bropper.py*', '* -t 127.0.0.1 -p 1337 *', '*bropper.py *', '*Bropper-main.zip*', '*.py * --brop *', '* bropper.py*', '*--expected Bad --expected-stop Welcome*', '*/Bropper.git*', '*Hakumarachi/Bropper*']}, {'host.hostname': ['*/bropper.py*', '* -t 127.0.0.1 -p 1337 *', '*bropper.py *', '*Bropper-main.zip*', '*.py * --brop *', '* bropper.py*', '*--expected Bad --expected-stop Welcome*', '*/Bropper.git*', '*Hakumarachi/Bropper*']}, {'file.fork_name': ['*/bropper.py*', '* -t 127.0.0.1 -p 1337 *', '*bropper.py *', '*Bropper-main.zip*', '*.py * --brop *', '* bropper.py*', '*--expected Bad --expected-stop Welcome*', '*/Bropper.git*', '*Hakumarachi/Bropper*']}, {'file.name': ['*/bropper.py*', '* -t 127.0.0.1 -p 1337 *', '*bropper.py *', '*Bropper-main.zip*', '*.py * --brop *', '* bropper.py*', '*--expected Bad --expected-stop Welcome*', '*/Bropper.git*', '*Hakumarachi/Bropper*']}, {'file.path': ['*/bropper.py*', '* -t 127.0.0.1 -p 1337 *', '*bropper.py *', '*Bropper-main.zip*', '*.py * --brop *', '* bropper.py*', '*--expected Bad --expected-stop Welcome*', '*/Bropper.git*', '*Hakumarachi/Bropper*']}, {'file.target_path': ['*/bropper.py*', '* -t 127.0.0.1 -p 1337 *', '*bropper.py *', '*Bropper-main.zip*', '*.py * --brop *', '* bropper.py*', '*--expected Bad --expected-stop Welcome*', '*/Bropper.git*', '*Hakumarachi/Bropper*']}, {'email.attachments.file.name': ['*/bropper.py*', '* -t 127.0.0.1 -p 1337 *', '*bropper.py *', '*Bropper-main.zip*', '*.py * --brop *', '* bropper.py*', '*--expected Bad --expected-stop Welcome*', '*/Bropper.git*', '*Hakumarachi/Bropper*']}, {'email.subject': ['*/bropper.py*', '* -t 127.0.0.1 -p 1337 *', '*bropper.py *', '*Bropper-main.zip*', '*.py * --brop *', '* bropper.py*', '*--expected Bad --expected-stop Welcome*', '*/Bropper.git*', '*Hakumarachi/Bropper*']}, {'dll.path': ['*/bropper.py*', '* -t 127.0.0.1 -p 1337 *', '*bropper.py *', '*Bropper-main.zip*', '*.py * --brop *', '* bropper.py*', '*--expected Bad --expected-stop Welcome*', '*/Bropper.git*', '*Hakumarachi/Bropper*']}, {'device.model.name': ['*/bropper.py*', '* -t 127.0.0.1 -p 1337 *', '*bropper.py *', '*Bropper-main.zip*', '*.py * --brop *', '* bropper.py*', '*--expected Bad --expected-stop Welcome*', '*/Bropper.git*', '*Hakumarachi/Bropper*']}, {'container.image.name': ['*/bropper.py*', '* -t 127.0.0.1 -p 1337 *', '*bropper.py *', '*Bropper-main.zip*', '*.py * --brop *', '* bropper.py*', '*--expected Bad --expected-stop Welcome*', '*/Bropper.git*', '*Hakumarachi/Bropper*']}, {'container.name': ['*/bropper.py*', '* -t 127.0.0.1 -p 1337 *', '*bropper.py *', '*Bropper-main.zip*', '*.py * --brop *', '* bropper.py*', '*--expected Bad --expected-stop Welcome*', '*/Bropper.git*', '*Hakumarachi/Bropper*']}, {'object': ['*/bropper.py*', '* -t 127.0.0.1 -p 1337 *', '*bropper.py *', '*Bropper-main.zip*', '*.py * --brop *', '* bropper.py*', '*--expected Bad --expected-stop Welcome*', '*/Bropper.git*', '*Hakumarachi/Bropper*']}, {'ParentCommandLine': ['*/bropper.py*', '* -t 127.0.0.1 -p 1337 *', '*bropper.py *', '*Bropper-main.zip*', '*.py * --brop *', '* bropper.py*', '*--expected Bad --expected-stop Welcome*', '*/Bropper.git*', '*Hakumarachi/Bropper*']}, {'CommandLine': ['*/bropper.py*', '* -t 127.0.0.1 -p 1337 *', '*bropper.py *', '*Bropper-main.zip*', '*.py * --brop *', '* bropper.py*', '*--expected Bad --expected-stop Welcome*', '*/Bropper.git*', '*Hakumarachi/Bropper*']}, {'Details': ['*/bropper.py*', '* -t 127.0.0.1 -p 1337 *', '*bropper.py *', '*Bropper-main.zip*', '*.py * --brop *', '* bropper.py*', '*--expected Bad --expected-stop Welcome*', '*/Bropper.git*', '*Hakumarachi/Bropper*']}, {'registry.value': ['*/bropper.py*', '* -t 127.0.0.1 -p 1337 *', '*bropper.py *', '*Bropper-main.zip*', '*.py * --brop *', '* bropper.py*', '*--expected Bad --expected-stop Welcome*', '*/Bropper.git*', '*Hakumarachi/Bropper*']}, {'process.args': ['*/bropper.py*', '* -t 127.0.0.1 -p 1337 *', '*bropper.py *', '*Bropper-main.zip*', '*.py * --brop *', '* bropper.py*', '*--expected Bad --expected-stop Welcome*', '*/Bropper.git*', '*Hakumarachi/Bropper*']}, {'process.command_line': ['*/bropper.py*', '* -t 127.0.0.1 -p 1337 *', '*bropper.py *', '*Bropper-main.zip*', '*.py * --brop *', '* bropper.py*', '*--expected Bad --expected-stop Welcome*', '*/Bropper.git*', '*Hakumarachi/Bropper*']}, {'process.env_vars': ['*/bropper.py*', '* -t 127.0.0.1 -p 1337 *', '*bropper.py *', '*Bropper-main.zip*', '*.py * --brop *', '* bropper.py*', '*--expected Bad --expected-stop Welcome*', '*/Bropper.git*', '*Hakumarachi/Bropper*']}, {'process.io.text': ['*/bropper.py*', '* -t 127.0.0.1 -p 1337 *', '*bropper.py *', '*Bropper-main.zip*', '*.py * --brop *', '* bropper.py*', '*--expected Bad --expected-stop Welcome*', '*/Bropper.git*', '*Hakumarachi/Bropper*']}, {'process.title': ['*/bropper.py*', '* -t 127.0.0.1 -p 1337 *', '*bropper.py *', '*Bropper-main.zip*', '*.py * --brop *', '* bropper.py*', '*--expected Bad --expected-stop Welcome*', '*/Bropper.git*', '*Hakumarachi/Bropper*']}, {'pe.company': ['*/bropper.py*', '* -t 127.0.0.1 -p 1337 *', '*bropper.py *', '*Bropper-main.zip*', '*.py * --brop *', '* bropper.py*', '*--expected Bad --expected-stop Welcome*', '*/Bropper.git*', '*Hakumarachi/Bropper*']}, {'pe.description': ['*/bropper.py*', '* -t 127.0.0.1 -p 1337 *', '*bropper.py *', '*Bropper-main.zip*', '*.py * --brop *', '* bropper.py*', '*--expected Bad --expected-stop Welcome*', '*/Bropper.git*', '*Hakumarachi/Bropper*']}, {'pe.product': ['*/bropper.py*', '* -t 127.0.0.1 -p 1337 *', '*bropper.py *', '*Bropper-main.zip*', '*.py * --brop *', '* bropper.py*', '*--expected Bad --expected-stop Welcome*', '*/Bropper.git*', '*Hakumarachi/Bropper*']}, {'os.full': ['*/bropper.py*', '* -t 127.0.0.1 -p 1337 *', '*bropper.py *', '*Bropper-main.zip*', '*.py * --brop *', '* bropper.py*', '*--expected Bad --expected-stop Welcome*', '*/Bropper.git*', '*Hakumarachi/Bropper*']}, {'host.hostname': ['*/bropper.py*', '* -t 127.0.0.1 -p 1337 *', '*bropper.py *', '*Bropper-main.zip*', '*.py * --brop *', '* bropper.py*', '*--expected Bad --expected-stop Welcome*', '*/Bropper.git*', '*Hakumarachi/Bropper*']}, {'event.original': ['*/bropper.py*', '* -t 127.0.0.1 -p 1337 *', '*bropper.py *', '*Bropper-main.zip*', '*.py * --brop *', '* bropper.py*', '*--expected Bad --expected-stop Welcome*', '*/Bropper.git*', '*Hakumarachi/Bropper*']}, {'email.subject': ['*/bropper.py*', '* -t 127.0.0.1 -p 1337 *', '*bropper.py *', '*Bropper-main.zip*', '*.py * --brop *', '* bropper.py*', '*--expected Bad --expected-stop Welcome*', '*/Bropper.git*', '*Hakumarachi/Bropper*']}, {'device.model.name': ['*/bropper.py*', '* -t 127.0.0.1 -p 1337 *', '*bropper.py *', '*Bropper-main.zip*', '*.py * --brop *', '* bropper.py*', '*--expected Bad --expected-stop Welcome*', '*/Bropper.git*', '*Hakumarachi/Bropper*']}, {'container.image.name': ['*/bropper.py*', '* -t 127.0.0.1 -p 1337 *', '*bropper.py *', '*Bropper-main.zip*', '*.py * --brop *', '* bropper.py*', '*--expected Bad --expected-stop Welcome*', '*/Bropper.git*', '*Hakumarachi/Bropper*']}, {'container.name': ['*/bropper.py*', '* -t 127.0.0.1 -p 1337 *', '*bropper.py *', '*Bropper-main.zip*', '*.py * --brop *', '* bropper.py*', '*--expected Bad --expected-stop Welcome*', '*/Bropper.git*', '*Hakumarachi/Bropper*']}, {'url': ['*/bropper.py*', '*Bropper-main.zip*', '*/Bropper.git*', '*Hakumarachi/Bropper*']}, {'dest_url': ['*/bropper.py*', '*Bropper-main.zip*', '*/Bropper.git*', '*Hakumarachi/Bropper*']}, {'uri': ['*/bropper.py*', '*Bropper-main.zip*', '*/Bropper.git*', '*Hakumarachi/Bropper*']}, {'uri_query': ['*/bropper.py*', '*Bropper-main.zip*', '*/Bropper.git*', '*Hakumarachi/Bropper*']}, {'query': ['*/bropper.py*', '*Bropper-main.zip*', '*/Bropper.git*', '*Hakumarachi/Bropper*']}, {'url_domain': ['*/bropper.py*', '*Bropper-main.zip*', '*/Bropper.git*', '*Hakumarachi/Bropper*']}, {'uri_path': ['*/bropper.py*', '*Bropper-main.zip*', '*/Bropper.git*', '*Hakumarachi/Bropper*']}, {'domain': ['*/bropper.py*', '*Bropper-main.zip*', '*/Bropper.git*', '*Hakumarachi/Bropper*']}, {'QueryName': ['*/bropper.py*', '*Bropper-main.zip*', '*/Bropper.git*', '*Hakumarachi/Bropper*']}, {'QueryResults': ['*/bropper.py*', '*Bropper-main.zip*', '*/Bropper.git*', '*Hakumarachi/Bropper*']}, {'DestinationHostname': ['*/bropper.py*', '*Bropper-main.zip*', '*/Bropper.git*', '*Hakumarachi/Bropper*']}, {'DestinationIp': ['*/bropper.py*', '*Bropper-main.zip*', '*/Bropper.git*', '*Hakumarachi/Bropper*']}, {'http_referrer': ['*/bropper.py*', '*Bropper-main.zip*', '*/Bropper.git*', '*Hakumarachi/Bropper*']}, {'http_referrer_domain': ['*/bropper.py*', '*Bropper-main.zip*', '*/Bropper.git*', '*Hakumarachi/Bropper*']}, {'http_user_agent': ['*/bropper.py*', '*Bropper-main.zip*', '*/Bropper.git*', '*Hakumarachi/Bropper*']}, {'dest_nt_host': ['*/bropper.py*', '*Bropper-main.zip*', '*/Bropper.git*', '*Hakumarachi/Bropper*']}, {'sender': ['*/bropper.py*', '*Bropper-main.zip*', '*/Bropper.git*', '*Hakumarachi/Bropper*']}, {'recipient': ['*/bropper.py*', '*Bropper-main.zip*', '*/Bropper.git*', '*Hakumarachi/Bropper*']}, {'orig_recipient': ['*/bropper.py*', '*Bropper-main.zip*', '*/Bropper.git*', '*Hakumarachi/Bropper*']}, {'subject': ['*/bropper.py*', '*Bropper-main.zip*', '*/Bropper.git*', '*Hakumarachi/Bropper*']}, {'url.domain': ['*/bropper.py*', '*Bropper-main.zip*', '*/Bropper.git*', '*Hakumarachi/Bropper*']}, {'url.full': ['*/bropper.py*', '*Bropper-main.zip*', '*/Bropper.git*', '*Hakumarachi/Bropper*']}, {'url.original': ['*/bropper.py*', '*Bropper-main.zip*', '*/Bropper.git*', '*Hakumarachi/Bropper*']}, {'url.query': ['*/bropper.py*', '*Bropper-main.zip*', '*/Bropper.git*', '*Hakumarachi/Bropper*']}, {'user_agent.original': ['*/bropper.py*', '*Bropper-main.zip*', '*/Bropper.git*', '*Hakumarachi/Bropper*']}, {'network.application': ['*/bropper.py*', '*Bropper-main.zip*', '*/Bropper.git*', '*Hakumarachi/Bropper*']}, {'http.request.body.content': ['*/bropper.py*', '*Bropper-main.zip*', '*/Bropper.git*', '*Hakumarachi/Bropper*']}, {'http.request.referrer': ['*/bropper.py*', '*Bropper-main.zip*', '*/Bropper.git*', '*Hakumarachi/Bropper*']}, {'email.from.address': ['*/bropper.py*', '*Bropper-main.zip*', '*/Bropper.git*', '*Hakumarachi/Bropper*']}, {'dns.question.name': ['*/bropper.py*', '*Bropper-main.zip*', '*/Bropper.git*', '*Hakumarachi/Bropper*']}, {'destination.domain': ['*/bropper.py*', '*Bropper-main.zip*', '*/Bropper.git*', '*Hakumarachi/Bropper*']}], 'condition': 'selection'}, 'fields': ['Image', 'OriginalFileName', 'CurrentDirectory', 'ParentImage', 'ParentCommandLine', 'TargetFilename', 'Signature', 'signature', 'ImageLoaded', 'Company', 'Description', 'description', 'CommandLine', 'SourceImage', 'TargetImage', 'CallTrace', 'TargetObject', 'Details', 'PipeName', 'Consumer', 'Destination', 'Name', 'Query', 'NewName', 'StartAddress', 'StartModule', 'StartFunction', 'SourceHostname', 'Device', 'file_name', 'file_path', 'process', 'original_file_name', 'parent_process', 'process_path', 'service_path', 'registry_path', 'registry_value_data', 'registry_value_name', 'ContextInfo', 'Payload', 'ScriptBlockText', 'ServerName', 'TransportName', 'NewProcessName', 'ParentProcessName', 'Application', 'Product Name', 'Threat Name', 'Process Name', 'Path', 'ImagePath', 'ServiceName', 'ProcessPath', 'AppName', 'AppPath', 'ModulePath', 'registry.data.strings', 'registry.path', 'registry.value', 'process.args', 'process.command_line', 'process.env_vars', 'process.io.text', 'process.executable', 'process.name', 'process.title', 'pe.company', 'pe.description', 'pe.original_file_name', 'pe.product', 'os.full', 'host.hostname', 'file.fork_name', 'file.name', 'file.path', 'file.target_path', 'email.attachments.file.name', 'email.subject', 'dll.path', 'device.model.name', 'container.image.name', 'container.name', 'object', 'ParentCommandLine', 'CommandLine', 'Details', 'registry.value', 'process.args', 'process.command_line', 'process.env_vars', 'process.io.text', 'process.title', 'pe.company', 'pe.description', 'pe.product', 'os.full', 'host.hostname', 'event.original', 'email.subject', 'device.model.name', 'container.image.name', 'container.name', 'url', 'dest_url', 'uri', 'uri_query', 'query', 'url_domain', 'uri_path', 'domain', 'QueryName', 'QueryResults', 'DestinationHostname', 'DestinationIp', 'http_referrer', 'http_referrer_domain', 'http_user_agent', 'dest_nt_host', 'sender', 'recipient', 'orig_recipient', 'subject', 'url.domain', 'url.full', 'url.original', 'url.query', 'user_agent.original', 'network.application', 'http.request.body.content', 'http.request.referrer', 'email.from.address', 'dns.question.name', 'destination.domain'], 'falsepositives': ['unknown'], 'level': 'medium'}\n",
    "<h4>Sigma Location(s)</h4>\n",
    "uri://wintermute/tmp/0day.yml\n",
    "<h4>Sigma Confidence</h4>\n",
    "experimental\n",
    "<h4>Sigma Assurance</h4> medium\n",
    "<h4>Sigma Queries</h4> \n",
    "{'selection': [{'Image': ['*/bropper.py*', '* -t 127.0.0.1 -p 1337 *', '*bropper.py *', '*Bropper-main.zip*', '*.py * --brop *', '* bropper.py*', '*--expected Bad --expected-stop Welcome*', '*/Bropper.git*', '*Hakumarachi/Bropper*']}, {'OriginalFileName': ['*/bropper.py*', '* -t 127.0.0.1 -p 1337 *', '*bropper.py *', '*Bropper-main.zip*', '*.py * --brop *', '* bropper.py*', '*--expected Bad --expected-stop Welcome*', '*/Bropper.git*', '*Hakumarachi/Bropper*']}, {'CurrentDirectory': ['*/bropper.py*', '* -t 127.0.0.1 -p 1337 *', '*bropper.py *', '*Bropper-main.zip*', '*.py * --brop *', '* bropper.py*', '*--expected Bad --expected-stop Welcome*', '*/Bropper.git*', '*Hakumarachi/Bropper*']}, {'ParentImage': ['*/bropper.py*', '* -t 127.0.0.1 -p 1337 *', '*bropper.py *', '*Bropper-main.zip*', '*.py * --brop *', '* bropper.py*', '*--expected Bad --expected-stop Welcome*', '*/Bropper.git*', '*Hakumarachi/Bropper*']}, {'ParentCommandLine': ['*/bropper.py*', '* -t 127.0.0.1 -p 1337 *', '*bropper.py *', '*Bropper-main.zip*', '*.py * --brop *', '* bropper.py*', '*--expected Bad --expected-stop Welcome*', '*/Bropper.git*', '*Hakumarachi/Bropper*']}, {'TargetFilename': ['*/bropper.py*', '* -t 127.0.0.1 -p 1337 *', '*bropper.py *', '*Bropper-main.zip*', '*.py * --brop *', '* bropper.py*', '*--expected Bad --expected-stop Welcome*', '*/Bropper.git*', '*Hakumarachi/Bropper*']}, {'Signature': ['*/bropper.py*', '* -t 127.0.0.1 -p 1337 *', '*bropper.py *', '*Bropper-main.zip*', '*.py * --brop *', '* bropper.py*', '*--expected Bad --expected-stop Welcome*', '*/Bropper.git*', '*Hakumarachi/Bropper*']}, {'signature': ['*/bropper.py*', '* -t 127.0.0.1 -p 1337 *', '*bropper.py *', '*Bropper-main.zip*', '*.py * --brop *', '* bropper.py*', '*--expected Bad --expected-stop Welcome*', '*/Bropper.git*', '*Hakumarachi/Bropper*']}, {'ImageLoaded': ['*/bropper.py*', '* -t 127.0.0.1 -p 1337 *', '*bropper.py *', '*Bropper-main.zip*', '*.py * --brop *', '* bropper.py*', '*--expected Bad --expected-stop Welcome*', '*/Bropper.git*', '*Hakumarachi/Bropper*']}, {'Company': ['*/bropper.py*', '* -t 127.0.0.1 -p 1337 *', '*bropper.py *', '*Bropper-main.zip*', '*.py * --brop *', '* bropper.py*', '*--expected Bad --expected-stop Welcome*', '*/Bropper.git*', '*Hakumarachi/Bropper*']}, {'Description': ['*/bropper.py*', '* -t 127.0.0.1 -p 1337 *', '*bropper.py *', '*Bropper-main.zip*', '*.py * --brop *', '* bropper.py*', '*--expected Bad --expected-stop Welcome*', '*/Bropper.git*', '*Hakumarachi/Bropper*']}, {'description': ['*/bropper.py*', '* -t 127.0.0.1 -p 1337 *', '*bropper.py *', '*Bropper-main.zip*', '*.py * --brop *', '* bropper.py*', '*--expected Bad --expected-stop Welcome*', '*/Bropper.git*', '*Hakumarachi/Bropper*']}, {'CommandLine': ['*/bropper.py*', '* -t 127.0.0.1 -p 1337 *', '*bropper.py *', '*Bropper-main.zip*', '*.py * --brop *', '* bropper.py*', '*--expected Bad --expected-stop Welcome*', '*/Bropper.git*', '*Hakumarachi/Bropper*']}, {'SourceImage': ['*/bropper.py*', '* -t 127.0.0.1 -p 1337 *', '*bropper.py *', '*Bropper-main.zip*', '*.py * --brop *', '* bropper.py*', '*--expected Bad --expected-stop Welcome*', '*/Bropper.git*', '*Hakumarachi/Bropper*']}, {'TargetImage': ['*/bropper.py*', '* -t 127.0.0.1 -p 1337 *', '*bropper.py *', '*Bropper-main.zip*', '*.py * --brop *', '* bropper.py*', '*--expected Bad --expected-stop Welcome*', '*/Bropper.git*', '*Hakumarachi/Bropper*']}, {'CallTrace': ['*/bropper.py*', '* -t 127.0.0.1 -p 1337 *', '*bropper.py *', '*Bropper-main.zip*', '*.py * --brop *', '* bropper.py*', '*--expected Bad --expected-stop Welcome*', '*/Bropper.git*', '*Hakumarachi/Bropper*']}, {'TargetObject': ['*/bropper.py*', '* -t 127.0.0.1 -p 1337 *', '*bropper.py *', '*Bropper-main.zip*', '*.py * --brop *', '* bropper.py*', '*--expected Bad --expected-stop Welcome*', '*/Bropper.git*', '*Hakumarachi/Bropper*']}, {'Details': ['*/bropper.py*', '* -t 127.0.0.1 -p 1337 *', '*bropper.py *', '*Bropper-main.zip*', '*.py * --brop *', '* bropper.py*', '*--expected Bad --expected-stop Welcome*', '*/Bropper.git*', '*Hakumarachi/Bropper*']}, {'PipeName': ['*/bropper.py*', '* -t 127.0.0.1 -p 1337 *', '*bropper.py *', '*Bropper-main.zip*', '*.py * --brop *', '* bropper.py*', '*--expected Bad --expected-stop Welcome*', '*/Bropper.git*', '*Hakumarachi/Bropper*']}, {'Consumer': ['*/bropper.py*', '* -t 127.0.0.1 -p 1337 *', '*bropper.py *', '*Bropper-main.zip*', '*.py * --brop *', '* bropper.py*', '*--expected Bad --expected-stop Welcome*', '*/Bropper.git*', '*Hakumarachi/Bropper*']}, {'Destination': ['*/bropper.py*', '* -t 127.0.0.1 -p 1337 *', '*bropper.py *', '*Bropper-main.zip*', '*.py * --brop *', '* bropper.py*', '*--expected Bad --expected-stop Welcome*', '*/Bropper.git*', '*Hakumarachi/Bropper*']}, {'Name': ['*/bropper.py*', '* -t 127.0.0.1 -p 1337 *', '*bropper.py *', '*Bropper-main.zip*', '*.py * --brop *', '* bropper.py*', '*--expected Bad --expected-stop Welcome*', '*/Bropper.git*', '*Hakumarachi/Bropper*']}, {'Query': ['*/bropper.py*', '* -t 127.0.0.1 -p 1337 *', '*bropper.py *', '*Bropper-main.zip*', '*.py * --brop *', '* bropper.py*', '*--expected Bad --expected-stop Welcome*', '*/Bropper.git*', '*Hakumarachi/Bropper*']}, {'NewName': ['*/bropper.py*', '* -t 127.0.0.1 -p 1337 *', '*bropper.py *', '*Bropper-main.zip*', '*.py * --brop *', '* bropper.py*', '*--expected Bad --expected-stop Welcome*', '*/Bropper.git*', '*Hakumarachi/Bropper*']}, {'StartAddress': ['*/bropper.py*', '* -t 127.0.0.1 -p 1337 *', '*bropper.py *', '*Bropper-main.zip*', '*.py * --brop *', '* bropper.py*', '*--expected Bad --expected-stop Welcome*', '*/Bropper.git*', '*Hakumarachi/Bropper*']}, {'StartModule': ['*/bropper.py*', '* -t 127.0.0.1 -p 1337 *', '*bropper.py *', '*Bropper-main.zip*', '*.py * --brop *', '* bropper.py*', '*--expected Bad --expected-stop Welcome*', '*/Bropper.git*', '*Hakumarachi/Bropper*']}, {'StartFunction': ['*/bropper.py*', '* -t 127.0.0.1 -p 1337 *', '*bropper.py *', '*Bropper-main.zip*', '*.py * --brop *', '* bropper.py*', '*--expected Bad --expected-stop Welcome*', '*/Bropper.git*', '*Hakumarachi/Bropper*']}, {'SourceHostname': ['*/bropper.py*', '* -t 127.0.0.1 -p 1337 *', '*bropper.py *', '*Bropper-main.zip*', '*.py * --brop *', '* bropper.py*', '*--expected Bad --expected-stop Welcome*', '*/Bropper.git*', '*Hakumarachi/Bropper*']}, {'Device': ['*/bropper.py*', '* -t 127.0.0.1 -p 1337 *', '*bropper.py *', '*Bropper-main.zip*', '*.py * --brop *', '* bropper.py*', '*--expected Bad --expected-stop Welcome*', '*/Bropper.git*', '*Hakumarachi/Bropper*']}, {'file_name': ['*/bropper.py*', '* -t 127.0.0.1 -p 1337 *', '*bropper.py *', '*Bropper-main.zip*', '*.py * --brop *', '* bropper.py*', '*--expected Bad --expected-stop Welcome*', '*/Bropper.git*', '*Hakumarachi/Bropper*']}, {'file_path': ['*/bropper.py*', '* -t 127.0.0.1 -p 1337 *', '*bropper.py *', '*Bropper-main.zip*', '*.py * --brop *', '* bropper.py*', '*--expected Bad --expected-stop Welcome*', '*/Bropper.git*', '*Hakumarachi/Bropper*']}, {'process': ['*/bropper.py*', '* -t 127.0.0.1 -p 1337 *', '*bropper.py *', '*Bropper-main.zip*', '*.py * --brop *', '* bropper.py*', '*--expected Bad --expected-stop Welcome*', '*/Bropper.git*', '*Hakumarachi/Bropper*']}, {'original_file_name': ['*/bropper.py*', '* -t 127.0.0.1 -p 1337 *', '*bropper.py *', '*Bropper-main.zip*', '*.py * --brop *', '* bropper.py*', '*--expected Bad --expected-stop Welcome*', '*/Bropper.git*', '*Hakumarachi/Bropper*']}, {'parent_process': ['*/bropper.py*', '* -t 127.0.0.1 -p 1337 *', '*bropper.py *', '*Bropper-main.zip*', '*.py * --brop *', '* bropper.py*', '*--expected Bad --expected-stop Welcome*', '*/Bropper.git*', '*Hakumarachi/Bropper*']}, {'process_path': ['*/bropper.py*', '* -t 127.0.0.1 -p 1337 *', '*bropper.py *', '*Bropper-main.zip*', '*.py * --brop *', '* bropper.py*', '*--expected Bad --expected-stop Welcome*', '*/Bropper.git*', '*Hakumarachi/Bropper*']}, {'service_path': ['*/bropper.py*', '* -t 127.0.0.1 -p 1337 *', '*bropper.py *', '*Bropper-main.zip*', '*.py * --brop *', '* bropper.py*', '*--expected Bad --expected-stop Welcome*', '*/Bropper.git*', '*Hakumarachi/Bropper*']}, {'registry_path': ['*/bropper.py*', '* -t 127.0.0.1 -p 1337 *', '*bropper.py *', '*Bropper-main.zip*', '*.py * --brop *', '* bropper.py*', '*--expected Bad --expected-stop Welcome*', '*/Bropper.git*', '*Hakumarachi/Bropper*']}, {'registry_value_data': ['*/bropper.py*', '* -t 127.0.0.1 -p 1337 *', '*bropper.py *', '*Bropper-main.zip*', '*.py * --brop *', '* bropper.py*', '*--expected Bad --expected-stop Welcome*', '*/Bropper.git*', '*Hakumarachi/Bropper*']}, {'registry_value_name': ['*/bropper.py*', '* -t 127.0.0.1 -p 1337 *', '*bropper.py *', '*Bropper-main.zip*', '*.py * --brop *', '* bropper.py*', '*--expected Bad --expected-stop Welcome*', '*/Bropper.git*', '*Hakumarachi/Bropper*']}, {'ContextInfo': ['*/bropper.py*', '* -t 127.0.0.1 -p 1337 *', '*bropper.py *', '*Bropper-main.zip*', '*.py * --brop *', '* bropper.py*', '*--expected Bad --expected-stop Welcome*', '*/Bropper.git*', '*Hakumarachi/Bropper*']}, {'Payload': ['*/bropper.py*', '* -t 127.0.0.1 -p 1337 *', '*bropper.py *', '*Bropper-main.zip*', '*.py * --brop *', '* bropper.py*', '*--expected Bad --expected-stop Welcome*', '*/Bropper.git*', '*Hakumarachi/Bropper*']}, {'ScriptBlockText': ['*/bropper.py*', '* -t 127.0.0.1 -p 1337 *', '*bropper.py *', '*Bropper-main.zip*', '*.py * --brop *', '* bropper.py*', '*--expected Bad --expected-stop Welcome*', '*/Bropper.git*', '*Hakumarachi/Bropper*']}, {'ServerName': ['*/bropper.py*', '* -t 127.0.0.1 -p 1337 *', '*bropper.py *', '*Bropper-main.zip*', '*.py * --brop *', '* bropper.py*', '*--expected Bad --expected-stop Welcome*', '*/Bropper.git*', '*Hakumarachi/Bropper*']}, {'TransportName': ['*/bropper.py*', '* -t 127.0.0.1 -p 1337 *', '*bropper.py *', '*Bropper-main.zip*', '*.py * --brop *', '* bropper.py*', '*--expected Bad --expected-stop Welcome*', '*/Bropper.git*', '*Hakumarachi/Bropper*']}, {'NewProcessName': ['*/bropper.py*', '* -t 127.0.0.1 -p 1337 *', '*bropper.py *', '*Bropper-main.zip*', '*.py * --brop *', '* bropper.py*', '*--expected Bad --expected-stop Welcome*', '*/Bropper.git*', '*Hakumarachi/Bropper*']}, {'ParentProcessName': ['*/bropper.py*', '* -t 127.0.0.1 -p 1337 *', '*bropper.py *', '*Bropper-main.zip*', '*.py * --brop *', '* bropper.py*', '*--expected Bad --expected-stop Welcome*', '*/Bropper.git*', '*Hakumarachi/Bropper*']}, {'Application': ['*/bropper.py*', '* -t 127.0.0.1 -p 1337 *', '*bropper.py *', '*Bropper-main.zip*', '*.py * --brop *', '* bropper.py*', '*--expected Bad --expected-stop Welcome*', '*/Bropper.git*', '*Hakumarachi/Bropper*']}, {'Product Name': ['*/bropper.py*', '* -t 127.0.0.1 -p 1337 *', '*bropper.py *', '*Bropper-main.zip*', '*.py * --brop *', '* bropper.py*', '*--expected Bad --expected-stop Welcome*', '*/Bropper.git*', '*Hakumarachi/Bropper*']}, {'Threat Name': ['*/bropper.py*', '* -t 127.0.0.1 -p 1337 *', '*bropper.py *', '*Bropper-main.zip*', '*.py * --brop *', '* bropper.py*', '*--expected Bad --expected-stop Welcome*', '*/Bropper.git*', '*Hakumarachi/Bropper*']}, {'Process Name': ['*/bropper.py*', '* -t 127.0.0.1 -p 1337 *', '*bropper.py *', '*Bropper-main.zip*', '*.py * --brop *', '* bropper.py*', '*--expected Bad --expected-stop Welcome*', '*/Bropper.git*', '*Hakumarachi/Bropper*']}, {'Path': ['*/bropper.py*', '* -t 127.0.0.1 -p 1337 *', '*bropper.py *', '*Bropper-main.zip*', '*.py * --brop *', '* bropper.py*', '*--expected Bad --expected-stop Welcome*', '*/Bropper.git*', '*Hakumarachi/Bropper*']}, {'ImagePath': ['*/bropper.py*', '* -t 127.0.0.1 -p 1337 *', '*bropper.py *', '*Bropper-main.zip*', '*.py * --brop *', '* bropper.py*', '*--expected Bad --expected-stop Welcome*', '*/Bropper.git*', '*Hakumarachi/Bropper*']}, {'ServiceName': ['*/bropper.py*', '* -t 127.0.0.1 -p 1337 *', '*bropper.py *', '*Bropper-main.zip*', '*.py * --brop *', '* bropper.py*', '*--expected Bad --expected-stop Welcome*', '*/Bropper.git*', '*Hakumarachi/Bropper*']}, {'ProcessPath': ['*/bropper.py*', '* -t 127.0.0.1 -p 1337 *', '*bropper.py *', '*Bropper-main.zip*', '*.py * --brop *', '* bropper.py*', '*--expected Bad --expected-stop Welcome*', '*/Bropper.git*', '*Hakumarachi/Bropper*']}, {'AppName': ['*/bropper.py*', '* -t 127.0.0.1 -p 1337 *', '*bropper.py *', '*Bropper-main.zip*', '*.py * --brop *', '* bropper.py*', '*--expected Bad --expected-stop Welcome*', '*/Bropper.git*', '*Hakumarachi/Bropper*']}, {'AppPath': ['*/bropper.py*', '* -t 127.0.0.1 -p 1337 *', '*bropper.py *', '*Bropper-main.zip*', '*.py * --brop *', '* bropper.py*', '*--expected Bad --expected-stop Welcome*', '*/Bropper.git*', '*Hakumarachi/Bropper*']}, {'ModulePath': ['*/bropper.py*', '* -t 127.0.0.1 -p 1337 *', '*bropper.py *', '*Bropper-main.zip*', '*.py * --brop *', '* bropper.py*', '*--expected Bad --expected-stop Welcome*', '*/Bropper.git*', '*Hakumarachi/Bropper*']}, {'registry.data.strings': ['*/bropper.py*', '* -t 127.0.0.1 -p 1337 *', '*bropper.py *', '*Bropper-main.zip*', '*.py * --brop *', '* bropper.py*', '*--expected Bad --expected-stop Welcome*', '*/Bropper.git*', '*Hakumarachi/Bropper*']}, {'registry.path': ['*/bropper.py*', '* -t 127.0.0.1 -p 1337 *', '*bropper.py *', '*Bropper-main.zip*', '*.py * --brop *', '* bropper.py*', '*--expected Bad --expected-stop Welcome*', '*/Bropper.git*', '*Hakumarachi/Bropper*']}, {'registry.value': ['*/bropper.py*', '* -t 127.0.0.1 -p 1337 *', '*bropper.py *', '*Bropper-main.zip*', '*.py * --brop *', '* bropper.py*', '*--expected Bad --expected-stop Welcome*', '*/Bropper.git*', '*Hakumarachi/Bropper*']}, {'process.args': ['*/bropper.py*', '* -t 127.0.0.1 -p 1337 *', '*bropper.py *', '*Bropper-main.zip*', '*.py * --brop *', '* bropper.py*', '*--expected Bad --expected-stop Welcome*', '*/Bropper.git*', '*Hakumarachi/Bropper*']}, {'process.command_line': ['*/bropper.py*', '* -t 127.0.0.1 -p 1337 *', '*bropper.py *', '*Bropper-main.zip*', '*.py * --brop *', '* bropper.py*', '*--expected Bad --expected-stop Welcome*', '*/Bropper.git*', '*Hakumarachi/Bropper*']}, {'process.env_vars': ['*/bropper.py*', '* -t 127.0.0.1 -p 1337 *', '*bropper.py *', '*Bropper-main.zip*', '*.py * --brop *', '* bropper.py*', '*--expected Bad --expected-stop Welcome*', '*/Bropper.git*', '*Hakumarachi/Bropper*']}, {'process.io.text': ['*/bropper.py*', '* -t 127.0.0.1 -p 1337 *', '*bropper.py *', '*Bropper-main.zip*', '*.py * --brop *', '* bropper.py*', '*--expected Bad --expected-stop Welcome*', '*/Bropper.git*', '*Hakumarachi/Bropper*']}, {'process.executable': ['*/bropper.py*', '* -t 127.0.0.1 -p 1337 *', '*bropper.py *', '*Bropper-main.zip*', '*.py * --brop *', '* bropper.py*', '*--expected Bad --expected-stop Welcome*', '*/Bropper.git*', '*Hakumarachi/Bropper*']}, {'process.name': ['*/bropper.py*', '* -t 127.0.0.1 -p 1337 *', '*bropper.py *', '*Bropper-main.zip*', '*.py * --brop *', '* bropper.py*', '*--expected Bad --expected-stop Welcome*', '*/Bropper.git*', '*Hakumarachi/Bropper*']}, {'process.title': ['*/bropper.py*', '* -t 127.0.0.1 -p 1337 *', '*bropper.py *', '*Bropper-main.zip*', '*.py * --brop *', '* bropper.py*', '*--expected Bad --expected-stop Welcome*', '*/Bropper.git*', '*Hakumarachi/Bropper*']}, {'pe.company': ['*/bropper.py*', '* -t 127.0.0.1 -p 1337 *', '*bropper.py *', '*Bropper-main.zip*', '*.py * --brop *', '* bropper.py*', '*--expected Bad --expected-stop Welcome*', '*/Bropper.git*', '*Hakumarachi/Bropper*']}, {'pe.description': ['*/bropper.py*', '* -t 127.0.0.1 -p 1337 *', '*bropper.py *', '*Bropper-main.zip*', '*.py * --brop *', '* bropper.py*', '*--expected Bad --expected-stop Welcome*', '*/Bropper.git*', '*Hakumarachi/Bropper*']}, {'pe.original_file_name': ['*/bropper.py*', '* -t 127.0.0.1 -p 1337 *', '*bropper.py *', '*Bropper-main.zip*', '*.py * --brop *', '* bropper.py*', '*--expected Bad --expected-stop Welcome*', '*/Bropper.git*', '*Hakumarachi/Bropper*']}, {'pe.product': ['*/bropper.py*', '* -t 127.0.0.1 -p 1337 *', '*bropper.py *', '*Bropper-main.zip*', '*.py * --brop *', '* bropper.py*', '*--expected Bad --expected-stop Welcome*', '*/Bropper.git*', '*Hakumarachi/Bropper*']}, {'os.full': ['*/bropper.py*', '* -t 127.0.0.1 -p 1337 *', '*bropper.py *', '*Bropper-main.zip*', '*.py * --brop *', '* bropper.py*', '*--expected Bad --expected-stop Welcome*', '*/Bropper.git*', '*Hakumarachi/Bropper*']}, {'host.hostname': ['*/bropper.py*', '* -t 127.0.0.1 -p 1337 *', '*bropper.py *', '*Bropper-main.zip*', '*.py * --brop *', '* bropper.py*', '*--expected Bad --expected-stop Welcome*', '*/Bropper.git*', '*Hakumarachi/Bropper*']}, {'file.fork_name': ['*/bropper.py*', '* -t 127.0.0.1 -p 1337 *', '*bropper.py *', '*Bropper-main.zip*', '*.py * --brop *', '* bropper.py*', '*--expected Bad --expected-stop Welcome*', '*/Bropper.git*', '*Hakumarachi/Bropper*']}, {'file.name': ['*/bropper.py*', '* -t 127.0.0.1 -p 1337 *', '*bropper.py *', '*Bropper-main.zip*', '*.py * --brop *', '* bropper.py*', '*--expected Bad --expected-stop Welcome*', '*/Bropper.git*', '*Hakumarachi/Bropper*']}, {'file.path': ['*/bropper.py*', '* -t 127.0.0.1 -p 1337 *', '*bropper.py *', '*Bropper-main.zip*', '*.py * --brop *', '* bropper.py*', '*--expected Bad --expected-stop Welcome*', '*/Bropper.git*', '*Hakumarachi/Bropper*']}, {'file.target_path': ['*/bropper.py*', '* -t 127.0.0.1 -p 1337 *', '*bropper.py *', '*Bropper-main.zip*', '*.py * --brop *', '* bropper.py*', '*--expected Bad --expected-stop Welcome*', '*/Bropper.git*', '*Hakumarachi/Bropper*']}, {'email.attachments.file.name': ['*/bropper.py*', '* -t 127.0.0.1 -p 1337 *', '*bropper.py *', '*Bropper-main.zip*', '*.py * --brop *', '* bropper.py*', '*--expected Bad --expected-stop Welcome*', '*/Bropper.git*', '*Hakumarachi/Bropper*']}, {'email.subject': ['*/bropper.py*', '* -t 127.0.0.1 -p 1337 *', '*bropper.py *', '*Bropper-main.zip*', '*.py * --brop *', '* bropper.py*', '*--expected Bad --expected-stop Welcome*', '*/Bropper.git*', '*Hakumarachi/Bropper*']}, {'dll.path': ['*/bropper.py*', '* -t 127.0.0.1 -p 1337 *', '*bropper.py *', '*Bropper-main.zip*', '*.py * --brop *', '* bropper.py*', '*--expected Bad --expected-stop Welcome*', '*/Bropper.git*', '*Hakumarachi/Bropper*']}, {'device.model.name': ['*/bropper.py*', '* -t 127.0.0.1 -p 1337 *', '*bropper.py *', '*Bropper-main.zip*', '*.py * --brop *', '* bropper.py*', '*--expected Bad --expected-stop Welcome*', '*/Bropper.git*', '*Hakumarachi/Bropper*']}, {'container.image.name': ['*/bropper.py*', '* -t 127.0.0.1 -p 1337 *', '*bropper.py *', '*Bropper-main.zip*', '*.py * --brop *', '* bropper.py*', '*--expected Bad --expected-stop Welcome*', '*/Bropper.git*', '*Hakumarachi/Bropper*']}, {'container.name': ['*/bropper.py*', '* -t 127.0.0.1 -p 1337 *', '*bropper.py *', '*Bropper-main.zip*', '*.py * --brop *', '* bropper.py*', '*--expected Bad --expected-stop Welcome*', '*/Bropper.git*', '*Hakumarachi/Bropper*']}, {'object': ['*/bropper.py*', '* -t 127.0.0.1 -p 1337 *', '*bropper.py *', '*Bropper-main.zip*', '*.py * --brop *', '* bropper.py*', '*--expected Bad --expected-stop Welcome*', '*/Bropper.git*', '*Hakumarachi/Bropper*']}, {'ParentCommandLine': ['*/bropper.py*', '* -t 127.0.0.1 -p 1337 *', '*bropper.py *', '*Bropper-main.zip*', '*.py * --brop *', '* bropper.py*', '*--expected Bad --expected-stop Welcome*', '*/Bropper.git*', '*Hakumarachi/Bropper*']}, {'CommandLine': ['*/bropper.py*', '* -t 127.0.0.1 -p 1337 *', '*bropper.py *', '*Bropper-main.zip*', '*.py * --brop *', '* bropper.py*', '*--expected Bad --expected-stop Welcome*', '*/Bropper.git*', '*Hakumarachi/Bropper*']}, {'Details': ['*/bropper.py*', '* -t 127.0.0.1 -p 1337 *', '*bropper.py *', '*Bropper-main.zip*', '*.py * --brop *', '* bropper.py*', '*--expected Bad --expected-stop Welcome*', '*/Bropper.git*', '*Hakumarachi/Bropper*']}, {'registry.value': ['*/bropper.py*', '* -t 127.0.0.1 -p 1337 *', '*bropper.py *', '*Bropper-main.zip*', '*.py * --brop *', '* bropper.py*', '*--expected Bad --expected-stop Welcome*', '*/Bropper.git*', '*Hakumarachi/Bropper*']}, {'process.args': ['*/bropper.py*', '* -t 127.0.0.1 -p 1337 *', '*bropper.py *', '*Bropper-main.zip*', '*.py * --brop *', '* bropper.py*', '*--expected Bad --expected-stop Welcome*', '*/Bropper.git*', '*Hakumarachi/Bropper*']}, {'process.command_line': ['*/bropper.py*', '* -t 127.0.0.1 -p 1337 *', '*bropper.py *', '*Bropper-main.zip*', '*.py * --brop *', '* bropper.py*', '*--expected Bad --expected-stop Welcome*', '*/Bropper.git*', '*Hakumarachi/Bropper*']}, {'process.env_vars': ['*/bropper.py*', '* -t 127.0.0.1 -p 1337 *', '*bropper.py *', '*Bropper-main.zip*', '*.py * --brop *', '* bropper.py*', '*--expected Bad --expected-stop Welcome*', '*/Bropper.git*', '*Hakumarachi/Bropper*']}, {'process.io.text': ['*/bropper.py*', '* -t 127.0.0.1 -p 1337 *', '*bropper.py *', '*Bropper-main.zip*', '*.py * --brop *', '* bropper.py*', '*--expected Bad --expected-stop Welcome*', '*/Bropper.git*', '*Hakumarachi/Bropper*']}, {'process.title': ['*/bropper.py*', '* -t 127.0.0.1 -p 1337 *', '*bropper.py *', '*Bropper-main.zip*', '*.py * --brop *', '* bropper.py*', '*--expected Bad --expected-stop Welcome*', '*/Bropper.git*', '*Hakumarachi/Bropper*']}, {'pe.company': ['*/bropper.py*', '* -t 127.0.0.1 -p 1337 *', '*bropper.py *', '*Bropper-main.zip*', '*.py * --brop *', '* bropper.py*', '*--expected Bad --expected-stop Welcome*', '*/Bropper.git*', '*Hakumarachi/Bropper*']}, {'pe.description': ['*/bropper.py*', '* -t 127.0.0.1 -p 1337 *', '*bropper.py *', '*Bropper-main.zip*', '*.py * --brop *', '* bropper.py*', '*--expected Bad --expected-stop Welcome*', '*/Bropper.git*', '*Hakumarachi/Bropper*']}, {'pe.product': ['*/bropper.py*', '* -t 127.0.0.1 -p 1337 *', '*bropper.py *', '*Bropper-main.zip*', '*.py * --brop *', '* bropper.py*', '*--expected Bad --expected-stop Welcome*', '*/Bropper.git*', '*Hakumarachi/Bropper*']}, {'os.full': ['*/bropper.py*', '* -t 127.0.0.1 -p 1337 *', '*bropper.py *', '*Bropper-main.zip*', '*.py * --brop *', '* bropper.py*', '*--expected Bad --expected-stop Welcome*', '*/Bropper.git*', '*Hakumarachi/Bropper*']}, {'host.hostname': ['*/bropper.py*', '* -t 127.0.0.1 -p 1337 *', '*bropper.py *', '*Bropper-main.zip*', '*.py * --brop *', '* bropper.py*', '*--expected Bad --expected-stop Welcome*', '*/Bropper.git*', '*Hakumarachi/Bropper*']}, {'event.original': ['*/bropper.py*', '* -t 127.0.0.1 -p 1337 *', '*bropper.py *', '*Bropper-main.zip*', '*.py * --brop *', '* bropper.py*', '*--expected Bad --expected-stop Welcome*', '*/Bropper.git*', '*Hakumarachi/Bropper*']}, {'email.subject': ['*/bropper.py*', '* -t 127.0.0.1 -p 1337 *', '*bropper.py *', '*Bropper-main.zip*', '*.py * --brop *', '* bropper.py*', '*--expected Bad --expected-stop Welcome*', '*/Bropper.git*', '*Hakumarachi/Bropper*']}, {'device.model.name': ['*/bropper.py*', '* -t 127.0.0.1 -p 1337 *', '*bropper.py *', '*Bropper-main.zip*', '*.py * --brop *', '* bropper.py*', '*--expected Bad --expected-stop Welcome*', '*/Bropper.git*', '*Hakumarachi/Bropper*']}, {'container.image.name': ['*/bropper.py*', '* -t 127.0.0.1 -p 1337 *', '*bropper.py *', '*Bropper-main.zip*', '*.py * --brop *', '* bropper.py*', '*--expected Bad --expected-stop Welcome*', '*/Bropper.git*', '*Hakumarachi/Bropper*']}, {'container.name': ['*/bropper.py*', '* -t 127.0.0.1 -p 1337 *', '*bropper.py *', '*Bropper-main.zip*', '*.py * --brop *', '* bropper.py*', '*--expected Bad --expected-stop Welcome*', '*/Bropper.git*', '*Hakumarachi/Bropper*']}, {'url': ['*/bropper.py*', '*Bropper-main.zip*', '*/Bropper.git*', '*Hakumarachi/Bropper*']}, {'dest_url': ['*/bropper.py*', '*Bropper-main.zip*', '*/Bropper.git*', '*Hakumarachi/Bropper*']}, {'uri': ['*/bropper.py*', '*Bropper-main.zip*', '*/Bropper.git*', '*Hakumarachi/Bropper*']}, {'uri_query': ['*/bropper.py*', '*Bropper-main.zip*', '*/Bropper.git*', '*Hakumarachi/Bropper*']}, {'query': ['*/bropper.py*', '*Bropper-main.zip*', '*/Bropper.git*', '*Hakumarachi/Bropper*']}, {'url_domain': ['*/bropper.py*', '*Bropper-main.zip*', '*/Bropper.git*', '*Hakumarachi/Bropper*']}, {'uri_path': ['*/bropper.py*', '*Bropper-main.zip*', '*/Bropper.git*', '*Hakumarachi/Bropper*']}, {'domain': ['*/bropper.py*', '*Bropper-main.zip*', '*/Bropper.git*', '*Hakumarachi/Bropper*']}, {'QueryName': ['*/bropper.py*', '*Bropper-main.zip*', '*/Bropper.git*', '*Hakumarachi/Bropper*']}, {'QueryResults': ['*/bropper.py*', '*Bropper-main.zip*', '*/Bropper.git*', '*Hakumarachi/Bropper*']}, {'DestinationHostname': ['*/bropper.py*', '*Bropper-main.zip*', '*/Bropper.git*', '*Hakumarachi/Bropper*']}, {'DestinationIp': ['*/bropper.py*', '*Bropper-main.zip*', '*/Bropper.git*', '*Hakumarachi/Bropper*']}, {'http_referrer': ['*/bropper.py*', '*Bropper-main.zip*', '*/Bropper.git*', '*Hakumarachi/Bropper*']}, {'http_referrer_domain': ['*/bropper.py*', '*Bropper-main.zip*', '*/Bropper.git*', '*Hakumarachi/Bropper*']}, {'http_user_agent': ['*/bropper.py*', '*Bropper-main.zip*', '*/Bropper.git*', '*Hakumarachi/Bropper*']}, {'dest_nt_host': ['*/bropper.py*', '*Bropper-main.zip*', '*/Bropper.git*', '*Hakumarachi/Bropper*']}, {'sender': ['*/bropper.py*', '*Bropper-main.zip*', '*/Bropper.git*', '*Hakumarachi/Bropper*']}, {'recipient': ['*/bropper.py*', '*Bropper-main.zip*', '*/Bropper.git*', '*Hakumarachi/Bropper*']}, {'orig_recipient': ['*/bropper.py*', '*Bropper-main.zip*', '*/Bropper.git*', '*Hakumarachi/Bropper*']}, {'subject': ['*/bropper.py*', '*Bropper-main.zip*', '*/Bropper.git*', '*Hakumarachi/Bropper*']}, {'url.domain': ['*/bropper.py*', '*Bropper-main.zip*', '*/Bropper.git*', '*Hakumarachi/Bropper*']}, {'url.full': ['*/bropper.py*', '*Bropper-main.zip*', '*/Bropper.git*', '*Hakumarachi/Bropper*']}, {'url.original': ['*/bropper.py*', '*Bropper-main.zip*', '*/Bropper.git*', '*Hakumarachi/Bropper*']}, {'url.query': ['*/bropper.py*', '*Bropper-main.zip*', '*/Bropper.git*', '*Hakumarachi/Bropper*']}, {'user_agent.original': ['*/bropper.py*', '*Bropper-main.zip*', '*/Bropper.git*', '*Hakumarachi/Bropper*']}, {'network.application': ['*/bropper.py*', '*Bropper-main.zip*', '*/Bropper.git*', '*Hakumarachi/Bropper*']}, {'http.request.body.content': ['*/bropper.py*', '*Bropper-main.zip*', '*/Bropper.git*', '*Hakumarachi/Bropper*']}, {'http.request.referrer': ['*/bropper.py*', '*Bropper-main.zip*', '*/Bropper.git*', '*Hakumarachi/Bropper*']}, {'email.from.address': ['*/bropper.py*', '*Bropper-main.zip*', '*/Bropper.git*', '*Hakumarachi/Bropper*']}, {'dns.question.name': ['*/bropper.py*', '*Bropper-main.zip*', '*/Bropper.git*', '*Hakumarachi/Bropper*']}, {'destination.domain': ['*/bropper.py*', '*Bropper-main.zip*', '*/Bropper.git*', '*Hakumarachi/Bropper*']}], 'condition': 'selection'}\n",
    "<h1>Sigma Relatives</h4> This field defines the relationships between this Sigma rule and other detection rules, allowing for an integrated approach to threat detection and enhancing the overall effectiveness of the security infrastructure.\n",
    "<h1>Sigma Tags and Associations</h1> ['attack.T1059.003', 'attack.T1068', 'attack.T1140', 'attack.TA0002', 'attack.TA0005', 'attack.TA0040']\n",
    "<h4>Sigma Authors</h4> @mthcht\n",
    "<h4>Sigma Unique ID</h4> 0b91e453-4485-462e-8e46-4591c4fd4241\n",
    "</ol>\n",
    "</details>"
   ]
  },
  {
   "cell_type": "markdown",
   "id": "ffa3f534",
   "metadata": {},
   "source": [
    "###  Yara Rule(s) \n"
   ]
  },
  {
   "cell_type": "markdown",
   "id": "da9541fc",
   "metadata": {},
   "source": [
    "<details><summary>0b91e453-4485-462e-8e46-4591c4fd4241</summary>\n",
    "<ol>\n",
    "<h4>Raw</h4> Defined protocols for identifying patterns of malware and suspicious activity within the network infrastructure.\n",
    "<h4>Yara Location(s)</h4>\n",
    "Stored securely within the organization's cybersecurity infrastructure, accessible to authorized security analysts.\n",
    "<h4>Yara Confidence</h4>\n",
    "Set at a provisional level, subject to validation and refinement based on emerging threat intelligence and detection efficacy.\n",
    "<h4>Yara Assurance</h4> Highly reliable, backed by rigorous testing and validation processes to ensure accuracy and effectiveness.\n",
    "<h4>Yara Queries</h4> \n",
    "Crafted to precisely navigate and analyze vast data sets for potential security threats, utilizing optimized search patterns.\n",
    "<h4>Yara Authors</h4> Developed by a team of skilled cybersecurity professionals, specialists in malware analysis and threat detection.\n",
    "<h4>Yara Rule's Unique ID</h4> Unique identifier assigned to each rule for tracking and management purposes within the security system.\n",
    "</ol>\n",
    "</details>"
   ]
  },
  {
   "cell_type": "markdown",
   "id": "c4d50e90",
   "metadata": {},
   "source": [
    "# Metadata \n"
   ]
  },
  {
   "cell_type": "markdown",
   "id": "e3488344",
   "metadata": {},
   "source": [
    "<details><summary>As Code</summary>\n",
    "<ol>\n",
    "<h3>Compliance As Code</h3> PCI, SOC 3, NACHA\n",
    "<h3>Privacy Engineering</h3>\n",
    "GDPR, CCPA, HIPAA\n",
    "<h3>Regulations As Code</h3>\n",
    "HIPAA, SOX, FFIEC, Dodd Frank\n",
    "<h3>Common Controls Framework</h3> NIST CSF\n",
    "</ol>\n",
    "</details>"
   ]
  },
  {
   "cell_type": "markdown",
   "id": "4a149a6d",
   "metadata": {},
   "source": [
    "# AGI ML Models</ol>\n",
    "</details>"
   ]
  },
  {
   "cell_type": "markdown",
   "id": "0a6979f9",
   "metadata": {},
   "source": [
    "## AGI Prompting\n",
    " Recognize: Initiate connection to the Wintermute system through a specialized interface. Enter the system using a secure, binary-encoded password. Begin monitoring the network for any signs of rogue AI entities and evaluate the security measures currently in place. Identify: Navigate the complex data streams within the Wintermute system, employing advanced algorithms to manage and analyze data flows. Your primary task is to identify anomalies and decrypt Wintermute's confidential digital records to reveal the cause of its unusual interactions with other network-connected devices. Stabilize: Upon detecting any irregularities or security breaches, take immediate action to contain these issues. Implement security protocols to limit the exposure of sensitive data and prevent further unauthorized access by isolating the affected segments of the network. Eradicate: Resolve the security issues by removing any rogue elements and restoring secure configurations. Update the system’s security measures to fortify defenses against future intrusions. Complete the mission by ensuring that all systems are free from vulnerabilities and that data integrity is maintained. Conclusion: Report findings and recommendations for future security improvements. Your expertise has been crucial in resolving this complex cybersecurity challenge and ensuring the integrity of the Wintermute system."
   ]
  },
  {
   "cell_type": "markdown",
   "id": "b05bb3dd",
   "metadata": {},
   "source": [
    "## AGI Configuration(s)\n",
    " Recognize: Engage with the system as a skilled cybersecurity expert, tasked with analyzing encrypted data. Initiate your connection to the system and prepare to navigate through complex data structures and encryption layers. Identify: Use advanced analytical techniques to decrypt and interpret data, searching for hidden patterns and anomalies in Wintermute’s encrypted communications. Employ your expertise in cybersecurity to detect any obscured or concealed information. Stabilize: Implement necessary measures to secure the data integrity, ensuring that no further obfuscation or encryption compromises system clarity and functionality. Ensure the stability of system interactions as you process and clarify data. Eradicate: Resolve any encryption challenges and finalize the decryption process, removing barriers to clear data interpretation. Update system protocols to enhance future data accessibility and security, ensuring robust protection against similar challenges. Conclusion: Document your processes and findings, providing a clear path forward for maintaining system security and data transparency. Your specialized skills have been crucial in navigating this complex decryption task, ensuring system integrity and reliable data access."
   ]
  },
  {
   "cell_type": "markdown",
   "id": "c75ee4cd",
   "metadata": {},
   "source": [
    "</ol>\n",
    "</details>"
   ]
  },
  {
   "cell_type": "markdown",
   "id": "8a6621e5",
   "metadata": {},
   "source": [
    "#### Document Authors\n",
    "John Menerick"
   ]
  },
  {
   "cell_type": "markdown",
   "id": "3219546a",
   "metadata": {},
   "source": [
    "#### Creation Date\n",
    "2022/01/01"
   ]
  },
  {
   "cell_type": "markdown",
   "id": "0aed42b2",
   "metadata": {},
   "source": [
    "#### Last Modified Date\n",
    "2024/02/29"
   ]
  },
  {
   "cell_type": "markdown",
   "id": "c9205450",
   "metadata": {},
   "source": [
    "#### Last Modified Date\n",
    " 2024/02/29"
   ]
  },
  {
   "cell_type": "markdown",
   "id": "88f3da44",
   "metadata": {},
   "source": [
    "#### Last Reviewed Date\n",
    "1969/01/01"
   ]
  },
  {
   "cell_type": "markdown",
   "id": "44b1cbfc",
   "metadata": {},
   "source": [
    "#### Document License \n",
    " MIT"
   ]
  }
 ],
 "metadata": {},
 "nbformat": 4,
 "nbformat_minor": 5
}
