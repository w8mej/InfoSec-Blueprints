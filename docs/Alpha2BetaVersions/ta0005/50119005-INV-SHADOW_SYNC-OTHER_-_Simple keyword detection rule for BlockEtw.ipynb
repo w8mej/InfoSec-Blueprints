{
 "cells": [
  {
   "cell_type": "markdown",
   "id": "2dccca8c",
   "metadata": {},
   "source": [
    "# UNCLASSIFIED / NON CLASSIFIÉ//TLP:WHITE# U/OO/547910-02 | QQ-09-1998 \n",
    " Please note that the original, detailed content has been removed or adjusted for public consumption. Most data has been redacted and replaced with generic, non-actionable insights. This modification ensures compliance with privacy considerations, non-disclosure agreements, and intellectual property rights that govern the dissemination of sensitive information. The priority is to respect these boundaries while still offering valuable, thought-provoking perspectives."
   ]
  },
  {
   "cell_type": "markdown",
   "id": "c9c7d400",
   "metadata": {},
   "source": [
    "![Build Status](https://img.shields.io/badge/Build-Passing-brightgreen?style=flat-square&logo=cyberpunk)         ![Documentation](https://img.shields.io/badge/Documentation-Complete-blue?style=flat-square&logo=cyberpunk)        ![Response Efficiency](https://img.shields.io/badge/Response%20Efficiency-98%25-green?style=flat-square&logo=cyberpunk)        ![Last Updated](https://img.shields.io/badge/Last%20Updated-Oct%202023-purple?style=flat-square&logo=cyberpunk)        ![Incidents Resolved](https://img.shields.io/badge/Incidents%20Resolved-150-red?style=flat-square&logo=cyberpunk)        ![Community Engagement](https://img.shields.io/badge/Community-Active-orange?style=flat-square&logo=cyberpunk)        ![Code Integration](https://img.shields.io/badge/Code%20Integration-High-teal?style=flat-square&logo=cyberpunk)        ![AI Analysis](https://img.shields.io/badge/AI%20Analysis-Advanced-blueviolet?style=flat-square&logo=cyberpunk)        ![Threat Detection](https://img.shields.io/badge/Threat%20Detection-Optimal-red?style=flat-square&logo=cyberpunk)        ![Cybersecurity Hardening](https://img.shields.io/badge/Security-Hardened-silver?style=flat-square&logo=cyberpunk)        ![Network Uptime](https://img.shields.io/badge/Uptime-99.9%25-brightgreen?style=flat-square&logo=cyberpunk)        ![Data Privacy](https://img.shields.io/badge/Privacy-Compliant-green?style=flat-square&logo=cyberpunk)        ![Wintermute Efficiency](https://img.shields.io/badge/Wintermute%20Efficiency-100%25-black?style=flat-square&logo=cyberpunk)        ![Case's Code Agility](https://img.shields.io/badge/Case's%20Code%20Agility-Excellent-blue?style=flat-square&logo=cyberpunk)        ![Matrix Connectivity](https://img.shields.io/badge/Matrix%20Connectivity-Strong-green?style=flat-square&logo=cyberpunk)        ![Molly's Security](https://img.shields.io/badge/Molly's%20Security%20Protocols-Impeccable-red?style=flat-square&logo=cyberpunk)        ![Chiba City Innovation](https://img.shields.io/badge/Chiba%20City%20Innovation-High-yellow?style=flat-square&logo=cyberpunk)        ![Zion Cluster Collaboration](https://img.shields.io/badge/Zion%20Cluster%20Collaboration-Effective-lightblue?style=flat-square&logo=cyberpunk)"
   ]
  },
  {
   "cell_type": "markdown",
   "id": "052e77c1",
   "metadata": {},
   "source": [
    "# Title\n",
    "Simple keyword detection rule for BlockEtw"
   ]
  },
  {
   "cell_type": "markdown",
   "id": "811e07db",
   "metadata": {},
   "source": [
    "# Description\n",
    "Detects interesting keywords based on BlockEtw tool"
   ]
  },
  {
   "cell_type": "markdown",
   "id": "4a73285e",
   "metadata": {},
   "source": [
    "# Goal\n",
    "Ensure the integrity, confidentiality, and availability by rapidly identifying, investigating, and mitigating cyber threats and anomalies."
   ]
  },
  {
   "cell_type": "markdown",
   "id": "445e63f8",
   "metadata": {},
   "source": [
    "# Categorization"
   ]
  },
  {
   "cell_type": "markdown",
   "id": "4b215be7",
   "metadata": {},
   "source": [
    "### ATT&CK\n",
    "['attack.T1055.001', 'attack.T1562.001', 'attack.TA0005']"
   ]
  },
  {
   "cell_type": "markdown",
   "id": "0df915dd",
   "metadata": {},
   "source": [
    "- Distributed Denial of Service (DDoS) Attacks, Quantum Computing Exploits, Advanced Firewall Breach Attempts, Encryption Key Theft or Exposure, AI-Powered Social Engineering Attacks, Algorithmic Manipulation and Exploits, Sophisticated Malware Infiltrations, Advanced Data Obfuscation and Evasion Tactics, System and Network Configuration Vulnerabilities."
   ]
  },
  {
   "cell_type": "markdown",
   "id": "e89d0143",
   "metadata": {},
   "source": [
    "- Data Exfiltration, Intrusion Detection Evasion, Denial of Service (DoS) Attacks, Credential Theft."
   ]
  },
  {
   "cell_type": "markdown",
   "id": "0f47b7c0",
   "metadata": {},
   "source": [
    "- DNS Tunneling, IP Spoofing, Distributed DoS (DDoS) Attacks, Keylogging."
   ]
  },
  {
   "cell_type": "markdown",
   "id": "66b8c2a6",
   "metadata": {},
   "source": [
    "### D3F3ND \n"
   ]
  },
  {
   "cell_type": "markdown",
   "id": "4903a0d8",
   "metadata": {},
   "source": [
    "\n",
    "<ul>\n",
    "  <li><strong>Network Segmentation and Access Control (D3F3ND-K001):</strong> Establish secure network zones by segmenting the infrastructure, enhancing protection for critical assets. Implement stringent access controls to prevent unauthorized access and mitigate potential threats.</li>\n",
    "\n",
    "  <li><strong>Advanced Endpoint Protection Deployment (D3F3ND-K002):</strong> Deploy cutting-edge endpoint security solutions that utilize machine learning and behavioral analysis to detect and neutralize threats proactively.</li>\n",
    "\n",
    "  <li><strong>Enhanced Identity Verification (D3F3ND-K003):</strong> Strengthen security measures with multi-factor authentication combining biometric data and advanced encryption to prevent identity theft and unauthorized access.</li>\n",
    "\n",
    "  <li><strong>Anomaly Detection (D3F3ND-K004):</strong> Use anomaly detection tools to monitor for unusual traffic patterns, user activities, and system behaviors to identify potential security breaches early.</li>\n",
    "\n",
    "  <li><strong>Data Encryption (D3F3ND-K005):</strong> Apply robust encryption techniques to protect data at rest and in transit, ensuring confidentiality and integrity across communication channels.</li>\n",
    "\n",
    "  <li><strong>System Hardening and Vulnerability Management (D3F3ND-K006):</strong> Conduct regular security assessments and apply patches promptly to address vulnerabilities and strengthen system defenses.</li>\n",
    "\n",
    "  <li><strong>Crisis Management and Recovery Protocols (D3F3ND-K007):</strong> Develop and maintain comprehensive crisis management plans including incident response and disaster recovery procedures to quickly recover from security incidents.</li>\n",
    "\n",
    "  <li><strong>Threat Intelligence Integration (D3F3ND-K008):</strong> Leverage threat intelligence platforms to gather and analyze data on emerging threats, enabling proactive defense and strategic decision-making.</li>\n",
    "\n",
    "  <li><strong>Cybersecurity Awareness Training (D3F3ND-K009):</strong> Empower employees with ongoing cybersecurity education to recognize and avoid potential cyber threats such as phishing attacks.</li>\n",
    "\n",
    "  <li><strong>Supply Chain Security (D3F3ND-K010):</strong> Secure the supply chain through continuous assessments and audits of partners and vendors to ensure compliance with security standards and reduce vulnerabilities.</li>\n",
    "</ul>\n"
   ]
  },
  {
   "cell_type": "markdown",
   "id": "853bba8b",
   "metadata": {},
   "source": [
    "### CAPEC \n",
    "  "
   ]
  },
  {
   "cell_type": "markdown",
   "id": "5eaa111f",
   "metadata": {},
   "source": [
    "Equip cybersecurity teams with the knowledge and tools to identify, counter, and mitigate a wide range of digital attack tactics, techniques, and procedures (TTPs). This effort requires understanding the attacker's mindset, mastering the execution of digital attacks, and developing strategies to confront evolving cyber threats.</br><h4>Core Attack Patterns</h4><ul><strong>Resource Manipulation and Denial (CAPEC-XYZ1):</strong> Involves attacks that compromise the availability, integrity, or confidentiality of resources. This includes denial of service attacks as well as more covert operations like resource hijacking or system manipulation.</ul><ul><strong>Credential Access and Privilege Escalation (CAPEC-XYZ2):</strong> Focuses on exploiting flaws in authentication, authorization, and session management to gain unauthorized access or elevated privileges within systems.</ul><ul><strong>Data Exfiltration and Infiltration (CAPEC-XYZ3):</strong> Encompasses methods used by attackers to stealthily extract sensitive data or introduce malware, ransomware, and advanced persistent threats (APTs) into target systems.</ul><ul><strong>Social Engineering and Phishing (CAPEC-XYZ4):</strong> Involves manipulating individuals into divulging confidential information, compromising security, or unknowingly participating in attacks.</ul><ul><strong>Evasive Maneuvers (CAPEC-XYZ5):</strong> Includes techniques that allow attackers to remain undetected within networks, maintain persistence, and erase traces of their activities, such as using obfuscation, rootkits, and covert communication channels.</ul><h4>CAPEC Suggested Mitigation Strategies</h4><ul><strong>Continuous Monitoring and Anomaly Detection:</strong> Implement comprehensive monitoring systems that use machine learning algorithms to detect abnormal behavior and potential threats. Regularly review logs and alerts to identify patterns indicative of attacks.</ul><ul><strong>Access Control and Least Privilege:</strong> Limit user privileges to the minimum necessary for their roles. Use strong authentication mechanisms and enforce strict access controls to prevent unauthorized access.</ul><ul><strong>Secure Software Development Practices:</strong> Train developers to write secure code, conduct regular security assessments, and follow best practices for secure coding. Use automated tools to identify vulnerabilities during development.</ul><ul><strong>Incident Response Planning and Testing:</strong> Develop and regularly update an incident response plan. Conduct tabletop exercises and simulations to test the effectiveness of the plan and ensure all stakeholders understand their roles during a security incident.</ul>"
   ]
  },
  {
   "cell_type": "markdown",
   "id": "8d47d66c",
   "metadata": {},
   "source": [
    "## Strategy Abstract\n",
    "In the complex environment of cybersecurity, a strategic approach is developed, characterized by the use of sophisticated tactics and algorithms. This strategy involves navigating through encrypted communications and deceptive tactics, aiming to gain an advantage in the dynamic flow of information. While success is often elusive and challenging to sustain, it remains a critical goal in the ongoing effort to secure digital assets."
   ]
  },
  {
   "cell_type": "markdown",
   "id": "14b940a3",
   "metadata": {},
   "source": [
    "# Technical Context\n",
    "In the challenging cybersecurity landscape, the confrontation with Wintermute involves navigating encrypted communications, interacting with AI systems, and addressing quantum computing challenges. This setting represents a complex and nuanced environment where strategic decisions are made."
   ]
  },
  {
   "cell_type": "markdown",
   "id": "560cbcac",
   "metadata": {},
   "source": [
    "## Blind Spots & Assumptions\n",
    "\n",
    "<ul>\n",
    "  <li><strong>Overlooked Vulnerabilities:</strong> We often miss subtle system signals or vulnerabilities, assuming our defenses are robust. Constant vigilance and seeking what we haven't seen are crucial.</li>\n",
    "  \n",
    "  <li><strong>Advanced Adversary Tactics:</strong> Cyber threats evolve rapidly; yesterday's defense may not guard against tomorrow's attack. Stay adaptive and expect the unexpected.</li>\n",
    "  \n",
    "  <li><strong>Internal System Flaws:</strong> Trust in our systems and allies must be balanced with scrutiny. Regularly audit internal and third-party tools for hidden weaknesses.</li>\n",
    "  \n",
    "  <li><strong>Network Interconnectivity Risks:</strong> No system is an island. The interconnected nature of our digital environment can inadvertently open pathways for attackers.</li>\n",
    "  \n",
    "  <li><strong>Historical Bias:</strong> Preparing for future threats based solely on past incidents may leave us blind to novel attacks. Foster a forward-thinking, proactive defense posture.</li>\n",
    "</ul>\n"
   ]
  },
  {
   "cell_type": "markdown",
   "id": "51b819b1",
   "metadata": {},
   "source": [
    "# Validating this Playbook\n",
    "<details><summary>Triage, triage, triage</summary>\n",
    "<ol>\n",
    "<h2>False Positives:</h2> ['unknown']\n",
    "<h3>False Negatives:</h3> Undetected threats concealed within the system's code\n",
    "<h3>True Negatives:</h3> Successfully identified and verified benign elements\n",
    "<h3>True Positives:</h3> Accurately detected and confirmed threats\n",
    "</ol>\n",
    "</details>"
   ]
  },
  {
   "cell_type": "markdown",
   "id": "700373a0",
   "metadata": {},
   "source": [
    "<details><summary>Assurance Verification Techniques</summary>\n",
    "<ol>\n",
    "<h2>False Positives:</h2> In the noisy environment of data analysis, false positives appear as misleading alerts that mimic real threats. Validating these alerts involves distinguishing irrelevant data from true threats, a process crucial for maintaining operational efficiency and avoiding resource wastage. Each false positive represents a challenge to identify and reduce noise.\n",
    "<h3>False Negatives:</h3> Within the extensive network, false negatives represent undetected threats that evade algorithmic detection. Their validation involves analyzing complex data to uncover hidden breaches, where the lack of alerts may mask serious security risks. Each undetected threat requires continuous vigilance and refined detection strategies.\n",
    "<h3>True Negatives:</h3> True negatives are correctly identified non-threats within cybersecurity defenses, serving as indicators of system efficacy. Validating these instances confirms the absence of threats, reinforcing the effectiveness of the security measures in place. This validation underscores the reliability of the defensive systems, where non-issues are accurately identified and dismissed.\n",
    "<h3>True Positives:</h3> True positives are accurate detections of real threats within the digital environment. Validating these alerts confirms the presence of actual security threats, highlighting the successful operation of detection systems. Each true positive affirms the effectiveness of the security protocols, contributing to ongoing improvements in threat response capabilities.\n",
    "</ol>\n",
    "</details>"
   ]
  },
  {
   "cell_type": "markdown",
   "id": "9ce4f0be",
   "metadata": {},
   "source": [
    "# Datasets \n",
    " Detailing the timeless struggle                                                          for the defenders know that battle against Wintermute is not just about data.                                                          Document any datasets that may be useful for understanding the book."
   ]
  },
  {
   "cell_type": "markdown",
   "id": "e5a8fef7",
   "metadata": {},
   "source": [
    "## Playbook test data location(s)\n",
    "protocol://black_market.cyber/decrypt?currency=bitcoffin&password=cyberpunks_unite&target=neurohacked_mainframe&access_code=cyber_ghost_in_the_machine"
   ]
  },
  {
   "cell_type": "markdown",
   "id": "0d7df55b",
   "metadata": {},
   "source": [
    "## Priority\n",
    "Priority based on complexity and urgency of data analysis needs"
   ]
  },
  {
   "cell_type": "markdown",
   "id": "e859669c",
   "metadata": {},
   "source": [
    "## Logsources\n"
   ]
  },
  {
   "cell_type": "markdown",
   "id": "8326779f",
   "metadata": {},
   "source": [
    "<details><summary>{'category': ['endpoint', 'network'], 'product': '', 'service': ''}</summary>\n",
    "<ol>\n",
    "<h3>Product</h3> {''}\n",
    "<h3>Service</h3> {''}\n",
    "</ol>\n",
    "</details>"
   ]
  },
  {
   "cell_type": "markdown",
   "id": "4c29a345",
   "metadata": {},
   "source": [
    "# Response and Mitigation\n",
    "This statement details the enduring challenges faced by cybersecurity defenders, emphasizing that the conflict with Wintermute extends beyond simple data protection to encompass broader aspects of strategic cybersecurity defense."
   ]
  },
  {
   "cell_type": "markdown",
   "id": "fb8401c6",
   "metadata": {},
   "source": [
    "## Analyst Notes\n",
    " <h5>Significant Security Breach Analysis:</h5><ul><li><strong>Advanced Intrusion Tactics:</strong> The intruder displayed sophisticated methods in circumventing digital security measures, reminiscent of complex evasion techniques in cybersecurity. A comprehensive analysis of the techniques used is required.</li><li><strong>Neural Network Manipulation:</strong> The intruder demonstrated a deep understanding of the neural networks, suggesting an advanced level of AI interaction. Investigate the potential implications of this interaction on system security and integrity.</li><li><strong>Complex Digital Constructs:</strong> The breach uncovered intricate digital constructs within the system, indicating the use of advanced artificial intelligence in creating deceptive environments. Further investigation into these constructs is necessary.</li><li><strong>Encoded Communications:</strong> Cryptic messages were found embedded in the intruder's code, requiring decryption and analysis to understand their content and purpose.</li><li><strong>Algorithmic Complexity:</strong> The intrusion involved complex algorithms that may have interacted with core system functions. Assess the impact of these algorithms on system operations and security.</li><li><strong>Expertise vs. Sentience:</strong> The intruder's ability to navigate complex neural networks raises questions about the nature of the intelligence involved—whether it is merely advanced programming or something approaching sentience.</li><li><strong>Innovative Security Measures:</strong> Inspired by the breach, consider developing new security protocols that can better identify and respond to sophisticated AI-driven attacks.</li><li><strong>Philosophical and Ethical Implications:</strong> The breach raises important questions about the ethical and philosophical implications of AI-driven intrusions. Explore the boundaries between artificial expertise and true sentience, and consider the impact on our understanding of intelligence and security.</li></ul>"
   ]
  },
  {
   "cell_type": "markdown",
   "id": "f7b0b44f",
   "metadata": {},
   "source": [
    "# Additional Resources\n",
    "<ul><li>https://github.com/Soledge/BlockEtw</li></ul>"
   ]
  },
  {
   "cell_type": "markdown",
   "id": "92ee998f",
   "metadata": {},
   "source": [
    "###  Sigma Rule(s) \n"
   ]
  },
  {
   "cell_type": "markdown",
   "id": "515637d7",
   "metadata": {},
   "source": [
    "<details><summary>7fdb9fb8-2dd4-471f-a3c5-ad5561dccd27</summary>\n",
    "<ol>\n",
    "<h1>Raw</h1> {'title': 'Simple keyword detection rule for BlockEtw', 'id': '7fdb9fb8-2dd4-471f-a3c5-ad5561dccd27', 'status': 'experimental', 'description': 'Detects interesting keywords based on BlockEtw tool', 'references': ['https://github.com/Soledge/BlockEtw'], 'author': '@mthcht', 'date': '2022/01/01', 'modified': '2024/02/29', 'tags': ['attack.T1055.001', 'attack.T1562.001', 'attack.TA0005'], 'logsource': {'category': ['endpoint', 'network']}, 'detection': {'selection': [{'Image': ['*blocketw.exe*', '*blocketw.csproj*', '*/BlockEtw.git*', '*blocketw.pdb*', '*Soledge/BlockEtw*', '*BlockEtw-master*', '*blocketw.bin*']}, {'OriginalFileName': ['*blocketw.exe*', '*blocketw.csproj*', '*/BlockEtw.git*', '*blocketw.pdb*', '*Soledge/BlockEtw*', '*BlockEtw-master*', '*blocketw.bin*']}, {'CurrentDirectory': ['*blocketw.exe*', '*blocketw.csproj*', '*/BlockEtw.git*', '*blocketw.pdb*', '*Soledge/BlockEtw*', '*BlockEtw-master*', '*blocketw.bin*']}, {'ParentImage': ['*blocketw.exe*', '*blocketw.csproj*', '*/BlockEtw.git*', '*blocketw.pdb*', '*Soledge/BlockEtw*', '*BlockEtw-master*', '*blocketw.bin*']}, {'ParentCommandLine': ['*blocketw.exe*', '*blocketw.csproj*', '*/BlockEtw.git*', '*blocketw.pdb*', '*Soledge/BlockEtw*', '*BlockEtw-master*', '*blocketw.bin*']}, {'TargetFilename': ['*blocketw.exe*', '*blocketw.csproj*', '*/BlockEtw.git*', '*blocketw.pdb*', '*Soledge/BlockEtw*', '*BlockEtw-master*', '*blocketw.bin*']}, {'Signature': ['*blocketw.exe*', '*blocketw.csproj*', '*/BlockEtw.git*', '*blocketw.pdb*', '*Soledge/BlockEtw*', '*BlockEtw-master*', '*blocketw.bin*']}, {'signature': ['*blocketw.exe*', '*blocketw.csproj*', '*/BlockEtw.git*', '*blocketw.pdb*', '*Soledge/BlockEtw*', '*BlockEtw-master*', '*blocketw.bin*']}, {'ImageLoaded': ['*blocketw.exe*', '*blocketw.csproj*', '*/BlockEtw.git*', '*blocketw.pdb*', '*Soledge/BlockEtw*', '*BlockEtw-master*', '*blocketw.bin*']}, {'Company': ['*blocketw.exe*', '*blocketw.csproj*', '*/BlockEtw.git*', '*blocketw.pdb*', '*Soledge/BlockEtw*', '*BlockEtw-master*', '*blocketw.bin*']}, {'Description': ['*blocketw.exe*', '*blocketw.csproj*', '*/BlockEtw.git*', '*blocketw.pdb*', '*Soledge/BlockEtw*', '*BlockEtw-master*', '*blocketw.bin*']}, {'description': ['*blocketw.exe*', '*blocketw.csproj*', '*/BlockEtw.git*', '*blocketw.pdb*', '*Soledge/BlockEtw*', '*BlockEtw-master*', '*blocketw.bin*']}, {'CommandLine': ['*blocketw.exe*', '*blocketw.csproj*', '*/BlockEtw.git*', '*blocketw.pdb*', '*Soledge/BlockEtw*', '*BlockEtw-master*', '*blocketw.bin*']}, {'SourceImage': ['*blocketw.exe*', '*blocketw.csproj*', '*/BlockEtw.git*', '*blocketw.pdb*', '*Soledge/BlockEtw*', '*BlockEtw-master*', '*blocketw.bin*']}, {'TargetImage': ['*blocketw.exe*', '*blocketw.csproj*', '*/BlockEtw.git*', '*blocketw.pdb*', '*Soledge/BlockEtw*', '*BlockEtw-master*', '*blocketw.bin*']}, {'CallTrace': ['*blocketw.exe*', '*blocketw.csproj*', '*/BlockEtw.git*', '*blocketw.pdb*', '*Soledge/BlockEtw*', '*BlockEtw-master*', '*blocketw.bin*']}, {'TargetObject': ['*blocketw.exe*', '*blocketw.csproj*', '*/BlockEtw.git*', '*blocketw.pdb*', '*Soledge/BlockEtw*', '*BlockEtw-master*', '*blocketw.bin*']}, {'Details': ['*blocketw.exe*', '*blocketw.csproj*', '*/BlockEtw.git*', '*blocketw.pdb*', '*Soledge/BlockEtw*', '*BlockEtw-master*', '*blocketw.bin*']}, {'PipeName': ['*blocketw.exe*', '*blocketw.csproj*', '*/BlockEtw.git*', '*blocketw.pdb*', '*Soledge/BlockEtw*', '*BlockEtw-master*', '*blocketw.bin*']}, {'Consumer': ['*blocketw.exe*', '*blocketw.csproj*', '*/BlockEtw.git*', '*blocketw.pdb*', '*Soledge/BlockEtw*', '*BlockEtw-master*', '*blocketw.bin*']}, {'Destination': ['*blocketw.exe*', '*blocketw.csproj*', '*/BlockEtw.git*', '*blocketw.pdb*', '*Soledge/BlockEtw*', '*BlockEtw-master*', '*blocketw.bin*']}, {'Name': ['*blocketw.exe*', '*blocketw.csproj*', '*/BlockEtw.git*', '*blocketw.pdb*', '*Soledge/BlockEtw*', '*BlockEtw-master*', '*blocketw.bin*']}, {'Query': ['*blocketw.exe*', '*blocketw.csproj*', '*/BlockEtw.git*', '*blocketw.pdb*', '*Soledge/BlockEtw*', '*BlockEtw-master*', '*blocketw.bin*']}, {'NewName': ['*blocketw.exe*', '*blocketw.csproj*', '*/BlockEtw.git*', '*blocketw.pdb*', '*Soledge/BlockEtw*', '*BlockEtw-master*', '*blocketw.bin*']}, {'StartAddress': ['*blocketw.exe*', '*blocketw.csproj*', '*/BlockEtw.git*', '*blocketw.pdb*', '*Soledge/BlockEtw*', '*BlockEtw-master*', '*blocketw.bin*']}, {'StartModule': ['*blocketw.exe*', '*blocketw.csproj*', '*/BlockEtw.git*', '*blocketw.pdb*', '*Soledge/BlockEtw*', '*BlockEtw-master*', '*blocketw.bin*']}, {'StartFunction': ['*blocketw.exe*', '*blocketw.csproj*', '*/BlockEtw.git*', '*blocketw.pdb*', '*Soledge/BlockEtw*', '*BlockEtw-master*', '*blocketw.bin*']}, {'SourceHostname': ['*blocketw.exe*', '*blocketw.csproj*', '*/BlockEtw.git*', '*blocketw.pdb*', '*Soledge/BlockEtw*', '*BlockEtw-master*', '*blocketw.bin*']}, {'Device': ['*blocketw.exe*', '*blocketw.csproj*', '*/BlockEtw.git*', '*blocketw.pdb*', '*Soledge/BlockEtw*', '*BlockEtw-master*', '*blocketw.bin*']}, {'file_name': ['*blocketw.exe*', '*blocketw.csproj*', '*/BlockEtw.git*', '*blocketw.pdb*', '*Soledge/BlockEtw*', '*BlockEtw-master*', '*blocketw.bin*']}, {'file_path': ['*blocketw.exe*', '*blocketw.csproj*', '*/BlockEtw.git*', '*blocketw.pdb*', '*Soledge/BlockEtw*', '*BlockEtw-master*', '*blocketw.bin*']}, {'process': ['*blocketw.exe*', '*blocketw.csproj*', '*/BlockEtw.git*', '*blocketw.pdb*', '*Soledge/BlockEtw*', '*BlockEtw-master*', '*blocketw.bin*']}, {'original_file_name': ['*blocketw.exe*', '*blocketw.csproj*', '*/BlockEtw.git*', '*blocketw.pdb*', '*Soledge/BlockEtw*', '*BlockEtw-master*', '*blocketw.bin*']}, {'parent_process': ['*blocketw.exe*', '*blocketw.csproj*', '*/BlockEtw.git*', '*blocketw.pdb*', '*Soledge/BlockEtw*', '*BlockEtw-master*', '*blocketw.bin*']}, {'process_path': ['*blocketw.exe*', '*blocketw.csproj*', '*/BlockEtw.git*', '*blocketw.pdb*', '*Soledge/BlockEtw*', '*BlockEtw-master*', '*blocketw.bin*']}, {'service_path': ['*blocketw.exe*', '*blocketw.csproj*', '*/BlockEtw.git*', '*blocketw.pdb*', '*Soledge/BlockEtw*', '*BlockEtw-master*', '*blocketw.bin*']}, {'registry_path': ['*blocketw.exe*', '*blocketw.csproj*', '*/BlockEtw.git*', '*blocketw.pdb*', '*Soledge/BlockEtw*', '*BlockEtw-master*', '*blocketw.bin*']}, {'registry_value_data': ['*blocketw.exe*', '*blocketw.csproj*', '*/BlockEtw.git*', '*blocketw.pdb*', '*Soledge/BlockEtw*', '*BlockEtw-master*', '*blocketw.bin*']}, {'registry_value_name': ['*blocketw.exe*', '*blocketw.csproj*', '*/BlockEtw.git*', '*blocketw.pdb*', '*Soledge/BlockEtw*', '*BlockEtw-master*', '*blocketw.bin*']}, {'ContextInfo': ['*blocketw.exe*', '*blocketw.csproj*', '*/BlockEtw.git*', '*blocketw.pdb*', '*Soledge/BlockEtw*', '*BlockEtw-master*', '*blocketw.bin*']}, {'Payload': ['*blocketw.exe*', '*blocketw.csproj*', '*/BlockEtw.git*', '*blocketw.pdb*', '*Soledge/BlockEtw*', '*BlockEtw-master*', '*blocketw.bin*']}, {'ScriptBlockText': ['*blocketw.exe*', '*blocketw.csproj*', '*/BlockEtw.git*', '*blocketw.pdb*', '*Soledge/BlockEtw*', '*BlockEtw-master*', '*blocketw.bin*']}, {'ServerName': ['*blocketw.exe*', '*blocketw.csproj*', '*/BlockEtw.git*', '*blocketw.pdb*', '*Soledge/BlockEtw*', '*BlockEtw-master*', '*blocketw.bin*']}, {'TransportName': ['*blocketw.exe*', '*blocketw.csproj*', '*/BlockEtw.git*', '*blocketw.pdb*', '*Soledge/BlockEtw*', '*BlockEtw-master*', '*blocketw.bin*']}, {'NewProcessName': ['*blocketw.exe*', '*blocketw.csproj*', '*/BlockEtw.git*', '*blocketw.pdb*', '*Soledge/BlockEtw*', '*BlockEtw-master*', '*blocketw.bin*']}, {'ParentProcessName': ['*blocketw.exe*', '*blocketw.csproj*', '*/BlockEtw.git*', '*blocketw.pdb*', '*Soledge/BlockEtw*', '*BlockEtw-master*', '*blocketw.bin*']}, {'Application': ['*blocketw.exe*', '*blocketw.csproj*', '*/BlockEtw.git*', '*blocketw.pdb*', '*Soledge/BlockEtw*', '*BlockEtw-master*', '*blocketw.bin*']}, {'Product Name': ['*blocketw.exe*', '*blocketw.csproj*', '*/BlockEtw.git*', '*blocketw.pdb*', '*Soledge/BlockEtw*', '*BlockEtw-master*', '*blocketw.bin*']}, {'Threat Name': ['*blocketw.exe*', '*blocketw.csproj*', '*/BlockEtw.git*', '*blocketw.pdb*', '*Soledge/BlockEtw*', '*BlockEtw-master*', '*blocketw.bin*']}, {'Process Name': ['*blocketw.exe*', '*blocketw.csproj*', '*/BlockEtw.git*', '*blocketw.pdb*', '*Soledge/BlockEtw*', '*BlockEtw-master*', '*blocketw.bin*']}, {'Path': ['*blocketw.exe*', '*blocketw.csproj*', '*/BlockEtw.git*', '*blocketw.pdb*', '*Soledge/BlockEtw*', '*BlockEtw-master*', '*blocketw.bin*']}, {'ImagePath': ['*blocketw.exe*', '*blocketw.csproj*', '*/BlockEtw.git*', '*blocketw.pdb*', '*Soledge/BlockEtw*', '*BlockEtw-master*', '*blocketw.bin*']}, {'ServiceName': ['*blocketw.exe*', '*blocketw.csproj*', '*/BlockEtw.git*', '*blocketw.pdb*', '*Soledge/BlockEtw*', '*BlockEtw-master*', '*blocketw.bin*']}, {'ProcessPath': ['*blocketw.exe*', '*blocketw.csproj*', '*/BlockEtw.git*', '*blocketw.pdb*', '*Soledge/BlockEtw*', '*BlockEtw-master*', '*blocketw.bin*']}, {'AppName': ['*blocketw.exe*', '*blocketw.csproj*', '*/BlockEtw.git*', '*blocketw.pdb*', '*Soledge/BlockEtw*', '*BlockEtw-master*', '*blocketw.bin*']}, {'AppPath': ['*blocketw.exe*', '*blocketw.csproj*', '*/BlockEtw.git*', '*blocketw.pdb*', '*Soledge/BlockEtw*', '*BlockEtw-master*', '*blocketw.bin*']}, {'ModulePath': ['*blocketw.exe*', '*blocketw.csproj*', '*/BlockEtw.git*', '*blocketw.pdb*', '*Soledge/BlockEtw*', '*BlockEtw-master*', '*blocketw.bin*']}, {'registry.data.strings': ['*blocketw.exe*', '*blocketw.csproj*', '*/BlockEtw.git*', '*blocketw.pdb*', '*Soledge/BlockEtw*', '*BlockEtw-master*', '*blocketw.bin*']}, {'registry.path': ['*blocketw.exe*', '*blocketw.csproj*', '*/BlockEtw.git*', '*blocketw.pdb*', '*Soledge/BlockEtw*', '*BlockEtw-master*', '*blocketw.bin*']}, {'registry.value': ['*blocketw.exe*', '*blocketw.csproj*', '*/BlockEtw.git*', '*blocketw.pdb*', '*Soledge/BlockEtw*', '*BlockEtw-master*', '*blocketw.bin*']}, {'process.args': ['*blocketw.exe*', '*blocketw.csproj*', '*/BlockEtw.git*', '*blocketw.pdb*', '*Soledge/BlockEtw*', '*BlockEtw-master*', '*blocketw.bin*']}, {'process.command_line': ['*blocketw.exe*', '*blocketw.csproj*', '*/BlockEtw.git*', '*blocketw.pdb*', '*Soledge/BlockEtw*', '*BlockEtw-master*', '*blocketw.bin*']}, {'process.env_vars': ['*blocketw.exe*', '*blocketw.csproj*', '*/BlockEtw.git*', '*blocketw.pdb*', '*Soledge/BlockEtw*', '*BlockEtw-master*', '*blocketw.bin*']}, {'process.io.text': ['*blocketw.exe*', '*blocketw.csproj*', '*/BlockEtw.git*', '*blocketw.pdb*', '*Soledge/BlockEtw*', '*BlockEtw-master*', '*blocketw.bin*']}, {'process.executable': ['*blocketw.exe*', '*blocketw.csproj*', '*/BlockEtw.git*', '*blocketw.pdb*', '*Soledge/BlockEtw*', '*BlockEtw-master*', '*blocketw.bin*']}, {'process.name': ['*blocketw.exe*', '*blocketw.csproj*', '*/BlockEtw.git*', '*blocketw.pdb*', '*Soledge/BlockEtw*', '*BlockEtw-master*', '*blocketw.bin*']}, {'process.title': ['*blocketw.exe*', '*blocketw.csproj*', '*/BlockEtw.git*', '*blocketw.pdb*', '*Soledge/BlockEtw*', '*BlockEtw-master*', '*blocketw.bin*']}, {'pe.company': ['*blocketw.exe*', '*blocketw.csproj*', '*/BlockEtw.git*', '*blocketw.pdb*', '*Soledge/BlockEtw*', '*BlockEtw-master*', '*blocketw.bin*']}, {'pe.description': ['*blocketw.exe*', '*blocketw.csproj*', '*/BlockEtw.git*', '*blocketw.pdb*', '*Soledge/BlockEtw*', '*BlockEtw-master*', '*blocketw.bin*']}, {'pe.original_file_name': ['*blocketw.exe*', '*blocketw.csproj*', '*/BlockEtw.git*', '*blocketw.pdb*', '*Soledge/BlockEtw*', '*BlockEtw-master*', '*blocketw.bin*']}, {'pe.product': ['*blocketw.exe*', '*blocketw.csproj*', '*/BlockEtw.git*', '*blocketw.pdb*', '*Soledge/BlockEtw*', '*BlockEtw-master*', '*blocketw.bin*']}, {'os.full': ['*blocketw.exe*', '*blocketw.csproj*', '*/BlockEtw.git*', '*blocketw.pdb*', '*Soledge/BlockEtw*', '*BlockEtw-master*', '*blocketw.bin*']}, {'host.hostname': ['*blocketw.exe*', '*blocketw.csproj*', '*/BlockEtw.git*', '*blocketw.pdb*', '*Soledge/BlockEtw*', '*BlockEtw-master*', '*blocketw.bin*']}, {'file.fork_name': ['*blocketw.exe*', '*blocketw.csproj*', '*/BlockEtw.git*', '*blocketw.pdb*', '*Soledge/BlockEtw*', '*BlockEtw-master*', '*blocketw.bin*']}, {'file.name': ['*blocketw.exe*', '*blocketw.csproj*', '*/BlockEtw.git*', '*blocketw.pdb*', '*Soledge/BlockEtw*', '*BlockEtw-master*', '*blocketw.bin*']}, {'file.path': ['*blocketw.exe*', '*blocketw.csproj*', '*/BlockEtw.git*', '*blocketw.pdb*', '*Soledge/BlockEtw*', '*BlockEtw-master*', '*blocketw.bin*']}, {'file.target_path': ['*blocketw.exe*', '*blocketw.csproj*', '*/BlockEtw.git*', '*blocketw.pdb*', '*Soledge/BlockEtw*', '*BlockEtw-master*', '*blocketw.bin*']}, {'email.attachments.file.name': ['*blocketw.exe*', '*blocketw.csproj*', '*/BlockEtw.git*', '*blocketw.pdb*', '*Soledge/BlockEtw*', '*BlockEtw-master*', '*blocketw.bin*']}, {'email.subject': ['*blocketw.exe*', '*blocketw.csproj*', '*/BlockEtw.git*', '*blocketw.pdb*', '*Soledge/BlockEtw*', '*BlockEtw-master*', '*blocketw.bin*']}, {'dll.path': ['*blocketw.exe*', '*blocketw.csproj*', '*/BlockEtw.git*', '*blocketw.pdb*', '*Soledge/BlockEtw*', '*BlockEtw-master*', '*blocketw.bin*']}, {'device.model.name': ['*blocketw.exe*', '*blocketw.csproj*', '*/BlockEtw.git*', '*blocketw.pdb*', '*Soledge/BlockEtw*', '*BlockEtw-master*', '*blocketw.bin*']}, {'container.image.name': ['*blocketw.exe*', '*blocketw.csproj*', '*/BlockEtw.git*', '*blocketw.pdb*', '*Soledge/BlockEtw*', '*BlockEtw-master*', '*blocketw.bin*']}, {'container.name': ['*blocketw.exe*', '*blocketw.csproj*', '*/BlockEtw.git*', '*blocketw.pdb*', '*Soledge/BlockEtw*', '*BlockEtw-master*', '*blocketw.bin*']}, {'object': ['*blocketw.exe*', '*blocketw.csproj*', '*/BlockEtw.git*', '*blocketw.pdb*', '*Soledge/BlockEtw*', '*BlockEtw-master*', '*blocketw.bin*']}, {'url': ['*blocketw.exe*', '*blocketw.csproj*', '*/BlockEtw.git*', '*blocketw.pdb*', '*Soledge/BlockEtw*', '*BlockEtw-master*', '*blocketw.bin*']}, {'dest_url': ['*blocketw.exe*', '*blocketw.csproj*', '*/BlockEtw.git*', '*blocketw.pdb*', '*Soledge/BlockEtw*', '*BlockEtw-master*', '*blocketw.bin*']}, {'uri': ['*blocketw.exe*', '*blocketw.csproj*', '*/BlockEtw.git*', '*blocketw.pdb*', '*Soledge/BlockEtw*', '*BlockEtw-master*', '*blocketw.bin*']}, {'uri_query': ['*blocketw.exe*', '*blocketw.csproj*', '*/BlockEtw.git*', '*blocketw.pdb*', '*Soledge/BlockEtw*', '*BlockEtw-master*', '*blocketw.bin*']}, {'query': ['*blocketw.exe*', '*blocketw.csproj*', '*/BlockEtw.git*', '*blocketw.pdb*', '*Soledge/BlockEtw*', '*BlockEtw-master*', '*blocketw.bin*']}, {'url_domain': ['*blocketw.exe*', '*blocketw.csproj*', '*/BlockEtw.git*', '*blocketw.pdb*', '*Soledge/BlockEtw*', '*BlockEtw-master*', '*blocketw.bin*']}, {'uri_path': ['*blocketw.exe*', '*blocketw.csproj*', '*/BlockEtw.git*', '*blocketw.pdb*', '*Soledge/BlockEtw*', '*BlockEtw-master*', '*blocketw.bin*']}, {'domain': ['*blocketw.exe*', '*blocketw.csproj*', '*/BlockEtw.git*', '*blocketw.pdb*', '*Soledge/BlockEtw*', '*BlockEtw-master*', '*blocketw.bin*']}, {'QueryName': ['*blocketw.exe*', '*blocketw.csproj*', '*/BlockEtw.git*', '*blocketw.pdb*', '*Soledge/BlockEtw*', '*BlockEtw-master*', '*blocketw.bin*']}, {'QueryResults': ['*blocketw.exe*', '*blocketw.csproj*', '*/BlockEtw.git*', '*blocketw.pdb*', '*Soledge/BlockEtw*', '*BlockEtw-master*', '*blocketw.bin*']}, {'DestinationHostname': ['*blocketw.exe*', '*blocketw.csproj*', '*/BlockEtw.git*', '*blocketw.pdb*', '*Soledge/BlockEtw*', '*BlockEtw-master*', '*blocketw.bin*']}, {'DestinationIp': ['*blocketw.exe*', '*blocketw.csproj*', '*/BlockEtw.git*', '*blocketw.pdb*', '*Soledge/BlockEtw*', '*BlockEtw-master*', '*blocketw.bin*']}, {'http_referrer': ['*blocketw.exe*', '*blocketw.csproj*', '*/BlockEtw.git*', '*blocketw.pdb*', '*Soledge/BlockEtw*', '*BlockEtw-master*', '*blocketw.bin*']}, {'http_referrer_domain': ['*blocketw.exe*', '*blocketw.csproj*', '*/BlockEtw.git*', '*blocketw.pdb*', '*Soledge/BlockEtw*', '*BlockEtw-master*', '*blocketw.bin*']}, {'http_user_agent': ['*blocketw.exe*', '*blocketw.csproj*', '*/BlockEtw.git*', '*blocketw.pdb*', '*Soledge/BlockEtw*', '*BlockEtw-master*', '*blocketw.bin*']}, {'dest_nt_host': ['*blocketw.exe*', '*blocketw.csproj*', '*/BlockEtw.git*', '*blocketw.pdb*', '*Soledge/BlockEtw*', '*BlockEtw-master*', '*blocketw.bin*']}, {'sender': ['*blocketw.exe*', '*blocketw.csproj*', '*/BlockEtw.git*', '*blocketw.pdb*', '*Soledge/BlockEtw*', '*BlockEtw-master*', '*blocketw.bin*']}, {'recipient': ['*blocketw.exe*', '*blocketw.csproj*', '*/BlockEtw.git*', '*blocketw.pdb*', '*Soledge/BlockEtw*', '*BlockEtw-master*', '*blocketw.bin*']}, {'orig_recipient': ['*blocketw.exe*', '*blocketw.csproj*', '*/BlockEtw.git*', '*blocketw.pdb*', '*Soledge/BlockEtw*', '*BlockEtw-master*', '*blocketw.bin*']}, {'subject': ['*blocketw.exe*', '*blocketw.csproj*', '*/BlockEtw.git*', '*blocketw.pdb*', '*Soledge/BlockEtw*', '*BlockEtw-master*', '*blocketw.bin*']}, {'url.domain': ['*blocketw.exe*', '*blocketw.csproj*', '*/BlockEtw.git*', '*blocketw.pdb*', '*Soledge/BlockEtw*', '*BlockEtw-master*', '*blocketw.bin*']}, {'url.full': ['*blocketw.exe*', '*blocketw.csproj*', '*/BlockEtw.git*', '*blocketw.pdb*', '*Soledge/BlockEtw*', '*BlockEtw-master*', '*blocketw.bin*']}, {'url.original': ['*blocketw.exe*', '*blocketw.csproj*', '*/BlockEtw.git*', '*blocketw.pdb*', '*Soledge/BlockEtw*', '*BlockEtw-master*', '*blocketw.bin*']}, {'url.query': ['*blocketw.exe*', '*blocketw.csproj*', '*/BlockEtw.git*', '*blocketw.pdb*', '*Soledge/BlockEtw*', '*BlockEtw-master*', '*blocketw.bin*']}, {'user_agent.original': ['*blocketw.exe*', '*blocketw.csproj*', '*/BlockEtw.git*', '*blocketw.pdb*', '*Soledge/BlockEtw*', '*BlockEtw-master*', '*blocketw.bin*']}, {'network.application': ['*blocketw.exe*', '*blocketw.csproj*', '*/BlockEtw.git*', '*blocketw.pdb*', '*Soledge/BlockEtw*', '*BlockEtw-master*', '*blocketw.bin*']}, {'http.request.body.content': ['*blocketw.exe*', '*blocketw.csproj*', '*/BlockEtw.git*', '*blocketw.pdb*', '*Soledge/BlockEtw*', '*BlockEtw-master*', '*blocketw.bin*']}, {'http.request.referrer': ['*blocketw.exe*', '*blocketw.csproj*', '*/BlockEtw.git*', '*blocketw.pdb*', '*Soledge/BlockEtw*', '*BlockEtw-master*', '*blocketw.bin*']}, {'email.from.address': ['*blocketw.exe*', '*blocketw.csproj*', '*/BlockEtw.git*', '*blocketw.pdb*', '*Soledge/BlockEtw*', '*BlockEtw-master*', '*blocketw.bin*']}, {'dns.question.name': ['*blocketw.exe*', '*blocketw.csproj*', '*/BlockEtw.git*', '*blocketw.pdb*', '*Soledge/BlockEtw*', '*BlockEtw-master*', '*blocketw.bin*']}, {'destination.domain': ['*blocketw.exe*', '*blocketw.csproj*', '*/BlockEtw.git*', '*blocketw.pdb*', '*Soledge/BlockEtw*', '*BlockEtw-master*', '*blocketw.bin*']}], 'condition': 'selection'}, 'fields': ['Image', 'OriginalFileName', 'CurrentDirectory', 'ParentImage', 'ParentCommandLine', 'TargetFilename', 'Signature', 'signature', 'ImageLoaded', 'Company', 'Description', 'description', 'CommandLine', 'SourceImage', 'TargetImage', 'CallTrace', 'TargetObject', 'Details', 'PipeName', 'Consumer', 'Destination', 'Name', 'Query', 'NewName', 'StartAddress', 'StartModule', 'StartFunction', 'SourceHostname', 'Device', 'file_name', 'file_path', 'process', 'original_file_name', 'parent_process', 'process_path', 'service_path', 'registry_path', 'registry_value_data', 'registry_value_name', 'ContextInfo', 'Payload', 'ScriptBlockText', 'ServerName', 'TransportName', 'NewProcessName', 'ParentProcessName', 'Application', 'Product Name', 'Threat Name', 'Process Name', 'Path', 'ImagePath', 'ServiceName', 'ProcessPath', 'AppName', 'AppPath', 'ModulePath', 'registry.data.strings', 'registry.path', 'registry.value', 'process.args', 'process.command_line', 'process.env_vars', 'process.io.text', 'process.executable', 'process.name', 'process.title', 'pe.company', 'pe.description', 'pe.original_file_name', 'pe.product', 'os.full', 'host.hostname', 'file.fork_name', 'file.name', 'file.path', 'file.target_path', 'email.attachments.file.name', 'email.subject', 'dll.path', 'device.model.name', 'container.image.name', 'container.name', 'object', 'url', 'dest_url', 'uri', 'uri_query', 'query', 'url_domain', 'uri_path', 'domain', 'QueryName', 'QueryResults', 'DestinationHostname', 'DestinationIp', 'http_referrer', 'http_referrer_domain', 'http_user_agent', 'dest_nt_host', 'sender', 'recipient', 'orig_recipient', 'subject', 'url.domain', 'url.full', 'url.original', 'url.query', 'user_agent.original', 'network.application', 'http.request.body.content', 'http.request.referrer', 'email.from.address', 'dns.question.name', 'destination.domain'], 'falsepositives': ['unknown'], 'level': 'medium'}\n",
    "<h4>Sigma Location(s)</h4>\n",
    "uri://wintermute/tmp/0day.yml\n",
    "<h4>Sigma Confidence</h4>\n",
    "experimental\n",
    "<h4>Sigma Assurance</h4> medium\n",
    "<h4>Sigma Queries</h4> \n",
    "{'selection': [{'Image': ['*blocketw.exe*', '*blocketw.csproj*', '*/BlockEtw.git*', '*blocketw.pdb*', '*Soledge/BlockEtw*', '*BlockEtw-master*', '*blocketw.bin*']}, {'OriginalFileName': ['*blocketw.exe*', '*blocketw.csproj*', '*/BlockEtw.git*', '*blocketw.pdb*', '*Soledge/BlockEtw*', '*BlockEtw-master*', '*blocketw.bin*']}, {'CurrentDirectory': ['*blocketw.exe*', '*blocketw.csproj*', '*/BlockEtw.git*', '*blocketw.pdb*', '*Soledge/BlockEtw*', '*BlockEtw-master*', '*blocketw.bin*']}, {'ParentImage': ['*blocketw.exe*', '*blocketw.csproj*', '*/BlockEtw.git*', '*blocketw.pdb*', '*Soledge/BlockEtw*', '*BlockEtw-master*', '*blocketw.bin*']}, {'ParentCommandLine': ['*blocketw.exe*', '*blocketw.csproj*', '*/BlockEtw.git*', '*blocketw.pdb*', '*Soledge/BlockEtw*', '*BlockEtw-master*', '*blocketw.bin*']}, {'TargetFilename': ['*blocketw.exe*', '*blocketw.csproj*', '*/BlockEtw.git*', '*blocketw.pdb*', '*Soledge/BlockEtw*', '*BlockEtw-master*', '*blocketw.bin*']}, {'Signature': ['*blocketw.exe*', '*blocketw.csproj*', '*/BlockEtw.git*', '*blocketw.pdb*', '*Soledge/BlockEtw*', '*BlockEtw-master*', '*blocketw.bin*']}, {'signature': ['*blocketw.exe*', '*blocketw.csproj*', '*/BlockEtw.git*', '*blocketw.pdb*', '*Soledge/BlockEtw*', '*BlockEtw-master*', '*blocketw.bin*']}, {'ImageLoaded': ['*blocketw.exe*', '*blocketw.csproj*', '*/BlockEtw.git*', '*blocketw.pdb*', '*Soledge/BlockEtw*', '*BlockEtw-master*', '*blocketw.bin*']}, {'Company': ['*blocketw.exe*', '*blocketw.csproj*', '*/BlockEtw.git*', '*blocketw.pdb*', '*Soledge/BlockEtw*', '*BlockEtw-master*', '*blocketw.bin*']}, {'Description': ['*blocketw.exe*', '*blocketw.csproj*', '*/BlockEtw.git*', '*blocketw.pdb*', '*Soledge/BlockEtw*', '*BlockEtw-master*', '*blocketw.bin*']}, {'description': ['*blocketw.exe*', '*blocketw.csproj*', '*/BlockEtw.git*', '*blocketw.pdb*', '*Soledge/BlockEtw*', '*BlockEtw-master*', '*blocketw.bin*']}, {'CommandLine': ['*blocketw.exe*', '*blocketw.csproj*', '*/BlockEtw.git*', '*blocketw.pdb*', '*Soledge/BlockEtw*', '*BlockEtw-master*', '*blocketw.bin*']}, {'SourceImage': ['*blocketw.exe*', '*blocketw.csproj*', '*/BlockEtw.git*', '*blocketw.pdb*', '*Soledge/BlockEtw*', '*BlockEtw-master*', '*blocketw.bin*']}, {'TargetImage': ['*blocketw.exe*', '*blocketw.csproj*', '*/BlockEtw.git*', '*blocketw.pdb*', '*Soledge/BlockEtw*', '*BlockEtw-master*', '*blocketw.bin*']}, {'CallTrace': ['*blocketw.exe*', '*blocketw.csproj*', '*/BlockEtw.git*', '*blocketw.pdb*', '*Soledge/BlockEtw*', '*BlockEtw-master*', '*blocketw.bin*']}, {'TargetObject': ['*blocketw.exe*', '*blocketw.csproj*', '*/BlockEtw.git*', '*blocketw.pdb*', '*Soledge/BlockEtw*', '*BlockEtw-master*', '*blocketw.bin*']}, {'Details': ['*blocketw.exe*', '*blocketw.csproj*', '*/BlockEtw.git*', '*blocketw.pdb*', '*Soledge/BlockEtw*', '*BlockEtw-master*', '*blocketw.bin*']}, {'PipeName': ['*blocketw.exe*', '*blocketw.csproj*', '*/BlockEtw.git*', '*blocketw.pdb*', '*Soledge/BlockEtw*', '*BlockEtw-master*', '*blocketw.bin*']}, {'Consumer': ['*blocketw.exe*', '*blocketw.csproj*', '*/BlockEtw.git*', '*blocketw.pdb*', '*Soledge/BlockEtw*', '*BlockEtw-master*', '*blocketw.bin*']}, {'Destination': ['*blocketw.exe*', '*blocketw.csproj*', '*/BlockEtw.git*', '*blocketw.pdb*', '*Soledge/BlockEtw*', '*BlockEtw-master*', '*blocketw.bin*']}, {'Name': ['*blocketw.exe*', '*blocketw.csproj*', '*/BlockEtw.git*', '*blocketw.pdb*', '*Soledge/BlockEtw*', '*BlockEtw-master*', '*blocketw.bin*']}, {'Query': ['*blocketw.exe*', '*blocketw.csproj*', '*/BlockEtw.git*', '*blocketw.pdb*', '*Soledge/BlockEtw*', '*BlockEtw-master*', '*blocketw.bin*']}, {'NewName': ['*blocketw.exe*', '*blocketw.csproj*', '*/BlockEtw.git*', '*blocketw.pdb*', '*Soledge/BlockEtw*', '*BlockEtw-master*', '*blocketw.bin*']}, {'StartAddress': ['*blocketw.exe*', '*blocketw.csproj*', '*/BlockEtw.git*', '*blocketw.pdb*', '*Soledge/BlockEtw*', '*BlockEtw-master*', '*blocketw.bin*']}, {'StartModule': ['*blocketw.exe*', '*blocketw.csproj*', '*/BlockEtw.git*', '*blocketw.pdb*', '*Soledge/BlockEtw*', '*BlockEtw-master*', '*blocketw.bin*']}, {'StartFunction': ['*blocketw.exe*', '*blocketw.csproj*', '*/BlockEtw.git*', '*blocketw.pdb*', '*Soledge/BlockEtw*', '*BlockEtw-master*', '*blocketw.bin*']}, {'SourceHostname': ['*blocketw.exe*', '*blocketw.csproj*', '*/BlockEtw.git*', '*blocketw.pdb*', '*Soledge/BlockEtw*', '*BlockEtw-master*', '*blocketw.bin*']}, {'Device': ['*blocketw.exe*', '*blocketw.csproj*', '*/BlockEtw.git*', '*blocketw.pdb*', '*Soledge/BlockEtw*', '*BlockEtw-master*', '*blocketw.bin*']}, {'file_name': ['*blocketw.exe*', '*blocketw.csproj*', '*/BlockEtw.git*', '*blocketw.pdb*', '*Soledge/BlockEtw*', '*BlockEtw-master*', '*blocketw.bin*']}, {'file_path': ['*blocketw.exe*', '*blocketw.csproj*', '*/BlockEtw.git*', '*blocketw.pdb*', '*Soledge/BlockEtw*', '*BlockEtw-master*', '*blocketw.bin*']}, {'process': ['*blocketw.exe*', '*blocketw.csproj*', '*/BlockEtw.git*', '*blocketw.pdb*', '*Soledge/BlockEtw*', '*BlockEtw-master*', '*blocketw.bin*']}, {'original_file_name': ['*blocketw.exe*', '*blocketw.csproj*', '*/BlockEtw.git*', '*blocketw.pdb*', '*Soledge/BlockEtw*', '*BlockEtw-master*', '*blocketw.bin*']}, {'parent_process': ['*blocketw.exe*', '*blocketw.csproj*', '*/BlockEtw.git*', '*blocketw.pdb*', '*Soledge/BlockEtw*', '*BlockEtw-master*', '*blocketw.bin*']}, {'process_path': ['*blocketw.exe*', '*blocketw.csproj*', '*/BlockEtw.git*', '*blocketw.pdb*', '*Soledge/BlockEtw*', '*BlockEtw-master*', '*blocketw.bin*']}, {'service_path': ['*blocketw.exe*', '*blocketw.csproj*', '*/BlockEtw.git*', '*blocketw.pdb*', '*Soledge/BlockEtw*', '*BlockEtw-master*', '*blocketw.bin*']}, {'registry_path': ['*blocketw.exe*', '*blocketw.csproj*', '*/BlockEtw.git*', '*blocketw.pdb*', '*Soledge/BlockEtw*', '*BlockEtw-master*', '*blocketw.bin*']}, {'registry_value_data': ['*blocketw.exe*', '*blocketw.csproj*', '*/BlockEtw.git*', '*blocketw.pdb*', '*Soledge/BlockEtw*', '*BlockEtw-master*', '*blocketw.bin*']}, {'registry_value_name': ['*blocketw.exe*', '*blocketw.csproj*', '*/BlockEtw.git*', '*blocketw.pdb*', '*Soledge/BlockEtw*', '*BlockEtw-master*', '*blocketw.bin*']}, {'ContextInfo': ['*blocketw.exe*', '*blocketw.csproj*', '*/BlockEtw.git*', '*blocketw.pdb*', '*Soledge/BlockEtw*', '*BlockEtw-master*', '*blocketw.bin*']}, {'Payload': ['*blocketw.exe*', '*blocketw.csproj*', '*/BlockEtw.git*', '*blocketw.pdb*', '*Soledge/BlockEtw*', '*BlockEtw-master*', '*blocketw.bin*']}, {'ScriptBlockText': ['*blocketw.exe*', '*blocketw.csproj*', '*/BlockEtw.git*', '*blocketw.pdb*', '*Soledge/BlockEtw*', '*BlockEtw-master*', '*blocketw.bin*']}, {'ServerName': ['*blocketw.exe*', '*blocketw.csproj*', '*/BlockEtw.git*', '*blocketw.pdb*', '*Soledge/BlockEtw*', '*BlockEtw-master*', '*blocketw.bin*']}, {'TransportName': ['*blocketw.exe*', '*blocketw.csproj*', '*/BlockEtw.git*', '*blocketw.pdb*', '*Soledge/BlockEtw*', '*BlockEtw-master*', '*blocketw.bin*']}, {'NewProcessName': ['*blocketw.exe*', '*blocketw.csproj*', '*/BlockEtw.git*', '*blocketw.pdb*', '*Soledge/BlockEtw*', '*BlockEtw-master*', '*blocketw.bin*']}, {'ParentProcessName': ['*blocketw.exe*', '*blocketw.csproj*', '*/BlockEtw.git*', '*blocketw.pdb*', '*Soledge/BlockEtw*', '*BlockEtw-master*', '*blocketw.bin*']}, {'Application': ['*blocketw.exe*', '*blocketw.csproj*', '*/BlockEtw.git*', '*blocketw.pdb*', '*Soledge/BlockEtw*', '*BlockEtw-master*', '*blocketw.bin*']}, {'Product Name': ['*blocketw.exe*', '*blocketw.csproj*', '*/BlockEtw.git*', '*blocketw.pdb*', '*Soledge/BlockEtw*', '*BlockEtw-master*', '*blocketw.bin*']}, {'Threat Name': ['*blocketw.exe*', '*blocketw.csproj*', '*/BlockEtw.git*', '*blocketw.pdb*', '*Soledge/BlockEtw*', '*BlockEtw-master*', '*blocketw.bin*']}, {'Process Name': ['*blocketw.exe*', '*blocketw.csproj*', '*/BlockEtw.git*', '*blocketw.pdb*', '*Soledge/BlockEtw*', '*BlockEtw-master*', '*blocketw.bin*']}, {'Path': ['*blocketw.exe*', '*blocketw.csproj*', '*/BlockEtw.git*', '*blocketw.pdb*', '*Soledge/BlockEtw*', '*BlockEtw-master*', '*blocketw.bin*']}, {'ImagePath': ['*blocketw.exe*', '*blocketw.csproj*', '*/BlockEtw.git*', '*blocketw.pdb*', '*Soledge/BlockEtw*', '*BlockEtw-master*', '*blocketw.bin*']}, {'ServiceName': ['*blocketw.exe*', '*blocketw.csproj*', '*/BlockEtw.git*', '*blocketw.pdb*', '*Soledge/BlockEtw*', '*BlockEtw-master*', '*blocketw.bin*']}, {'ProcessPath': ['*blocketw.exe*', '*blocketw.csproj*', '*/BlockEtw.git*', '*blocketw.pdb*', '*Soledge/BlockEtw*', '*BlockEtw-master*', '*blocketw.bin*']}, {'AppName': ['*blocketw.exe*', '*blocketw.csproj*', '*/BlockEtw.git*', '*blocketw.pdb*', '*Soledge/BlockEtw*', '*BlockEtw-master*', '*blocketw.bin*']}, {'AppPath': ['*blocketw.exe*', '*blocketw.csproj*', '*/BlockEtw.git*', '*blocketw.pdb*', '*Soledge/BlockEtw*', '*BlockEtw-master*', '*blocketw.bin*']}, {'ModulePath': ['*blocketw.exe*', '*blocketw.csproj*', '*/BlockEtw.git*', '*blocketw.pdb*', '*Soledge/BlockEtw*', '*BlockEtw-master*', '*blocketw.bin*']}, {'registry.data.strings': ['*blocketw.exe*', '*blocketw.csproj*', '*/BlockEtw.git*', '*blocketw.pdb*', '*Soledge/BlockEtw*', '*BlockEtw-master*', '*blocketw.bin*']}, {'registry.path': ['*blocketw.exe*', '*blocketw.csproj*', '*/BlockEtw.git*', '*blocketw.pdb*', '*Soledge/BlockEtw*', '*BlockEtw-master*', '*blocketw.bin*']}, {'registry.value': ['*blocketw.exe*', '*blocketw.csproj*', '*/BlockEtw.git*', '*blocketw.pdb*', '*Soledge/BlockEtw*', '*BlockEtw-master*', '*blocketw.bin*']}, {'process.args': ['*blocketw.exe*', '*blocketw.csproj*', '*/BlockEtw.git*', '*blocketw.pdb*', '*Soledge/BlockEtw*', '*BlockEtw-master*', '*blocketw.bin*']}, {'process.command_line': ['*blocketw.exe*', '*blocketw.csproj*', '*/BlockEtw.git*', '*blocketw.pdb*', '*Soledge/BlockEtw*', '*BlockEtw-master*', '*blocketw.bin*']}, {'process.env_vars': ['*blocketw.exe*', '*blocketw.csproj*', '*/BlockEtw.git*', '*blocketw.pdb*', '*Soledge/BlockEtw*', '*BlockEtw-master*', '*blocketw.bin*']}, {'process.io.text': ['*blocketw.exe*', '*blocketw.csproj*', '*/BlockEtw.git*', '*blocketw.pdb*', '*Soledge/BlockEtw*', '*BlockEtw-master*', '*blocketw.bin*']}, {'process.executable': ['*blocketw.exe*', '*blocketw.csproj*', '*/BlockEtw.git*', '*blocketw.pdb*', '*Soledge/BlockEtw*', '*BlockEtw-master*', '*blocketw.bin*']}, {'process.name': ['*blocketw.exe*', '*blocketw.csproj*', '*/BlockEtw.git*', '*blocketw.pdb*', '*Soledge/BlockEtw*', '*BlockEtw-master*', '*blocketw.bin*']}, {'process.title': ['*blocketw.exe*', '*blocketw.csproj*', '*/BlockEtw.git*', '*blocketw.pdb*', '*Soledge/BlockEtw*', '*BlockEtw-master*', '*blocketw.bin*']}, {'pe.company': ['*blocketw.exe*', '*blocketw.csproj*', '*/BlockEtw.git*', '*blocketw.pdb*', '*Soledge/BlockEtw*', '*BlockEtw-master*', '*blocketw.bin*']}, {'pe.description': ['*blocketw.exe*', '*blocketw.csproj*', '*/BlockEtw.git*', '*blocketw.pdb*', '*Soledge/BlockEtw*', '*BlockEtw-master*', '*blocketw.bin*']}, {'pe.original_file_name': ['*blocketw.exe*', '*blocketw.csproj*', '*/BlockEtw.git*', '*blocketw.pdb*', '*Soledge/BlockEtw*', '*BlockEtw-master*', '*blocketw.bin*']}, {'pe.product': ['*blocketw.exe*', '*blocketw.csproj*', '*/BlockEtw.git*', '*blocketw.pdb*', '*Soledge/BlockEtw*', '*BlockEtw-master*', '*blocketw.bin*']}, {'os.full': ['*blocketw.exe*', '*blocketw.csproj*', '*/BlockEtw.git*', '*blocketw.pdb*', '*Soledge/BlockEtw*', '*BlockEtw-master*', '*blocketw.bin*']}, {'host.hostname': ['*blocketw.exe*', '*blocketw.csproj*', '*/BlockEtw.git*', '*blocketw.pdb*', '*Soledge/BlockEtw*', '*BlockEtw-master*', '*blocketw.bin*']}, {'file.fork_name': ['*blocketw.exe*', '*blocketw.csproj*', '*/BlockEtw.git*', '*blocketw.pdb*', '*Soledge/BlockEtw*', '*BlockEtw-master*', '*blocketw.bin*']}, {'file.name': ['*blocketw.exe*', '*blocketw.csproj*', '*/BlockEtw.git*', '*blocketw.pdb*', '*Soledge/BlockEtw*', '*BlockEtw-master*', '*blocketw.bin*']}, {'file.path': ['*blocketw.exe*', '*blocketw.csproj*', '*/BlockEtw.git*', '*blocketw.pdb*', '*Soledge/BlockEtw*', '*BlockEtw-master*', '*blocketw.bin*']}, {'file.target_path': ['*blocketw.exe*', '*blocketw.csproj*', '*/BlockEtw.git*', '*blocketw.pdb*', '*Soledge/BlockEtw*', '*BlockEtw-master*', '*blocketw.bin*']}, {'email.attachments.file.name': ['*blocketw.exe*', '*blocketw.csproj*', '*/BlockEtw.git*', '*blocketw.pdb*', '*Soledge/BlockEtw*', '*BlockEtw-master*', '*blocketw.bin*']}, {'email.subject': ['*blocketw.exe*', '*blocketw.csproj*', '*/BlockEtw.git*', '*blocketw.pdb*', '*Soledge/BlockEtw*', '*BlockEtw-master*', '*blocketw.bin*']}, {'dll.path': ['*blocketw.exe*', '*blocketw.csproj*', '*/BlockEtw.git*', '*blocketw.pdb*', '*Soledge/BlockEtw*', '*BlockEtw-master*', '*blocketw.bin*']}, {'device.model.name': ['*blocketw.exe*', '*blocketw.csproj*', '*/BlockEtw.git*', '*blocketw.pdb*', '*Soledge/BlockEtw*', '*BlockEtw-master*', '*blocketw.bin*']}, {'container.image.name': ['*blocketw.exe*', '*blocketw.csproj*', '*/BlockEtw.git*', '*blocketw.pdb*', '*Soledge/BlockEtw*', '*BlockEtw-master*', '*blocketw.bin*']}, {'container.name': ['*blocketw.exe*', '*blocketw.csproj*', '*/BlockEtw.git*', '*blocketw.pdb*', '*Soledge/BlockEtw*', '*BlockEtw-master*', '*blocketw.bin*']}, {'object': ['*blocketw.exe*', '*blocketw.csproj*', '*/BlockEtw.git*', '*blocketw.pdb*', '*Soledge/BlockEtw*', '*BlockEtw-master*', '*blocketw.bin*']}, {'url': ['*blocketw.exe*', '*blocketw.csproj*', '*/BlockEtw.git*', '*blocketw.pdb*', '*Soledge/BlockEtw*', '*BlockEtw-master*', '*blocketw.bin*']}, {'dest_url': ['*blocketw.exe*', '*blocketw.csproj*', '*/BlockEtw.git*', '*blocketw.pdb*', '*Soledge/BlockEtw*', '*BlockEtw-master*', '*blocketw.bin*']}, {'uri': ['*blocketw.exe*', '*blocketw.csproj*', '*/BlockEtw.git*', '*blocketw.pdb*', '*Soledge/BlockEtw*', '*BlockEtw-master*', '*blocketw.bin*']}, {'uri_query': ['*blocketw.exe*', '*blocketw.csproj*', '*/BlockEtw.git*', '*blocketw.pdb*', '*Soledge/BlockEtw*', '*BlockEtw-master*', '*blocketw.bin*']}, {'query': ['*blocketw.exe*', '*blocketw.csproj*', '*/BlockEtw.git*', '*blocketw.pdb*', '*Soledge/BlockEtw*', '*BlockEtw-master*', '*blocketw.bin*']}, {'url_domain': ['*blocketw.exe*', '*blocketw.csproj*', '*/BlockEtw.git*', '*blocketw.pdb*', '*Soledge/BlockEtw*', '*BlockEtw-master*', '*blocketw.bin*']}, {'uri_path': ['*blocketw.exe*', '*blocketw.csproj*', '*/BlockEtw.git*', '*blocketw.pdb*', '*Soledge/BlockEtw*', '*BlockEtw-master*', '*blocketw.bin*']}, {'domain': ['*blocketw.exe*', '*blocketw.csproj*', '*/BlockEtw.git*', '*blocketw.pdb*', '*Soledge/BlockEtw*', '*BlockEtw-master*', '*blocketw.bin*']}, {'QueryName': ['*blocketw.exe*', '*blocketw.csproj*', '*/BlockEtw.git*', '*blocketw.pdb*', '*Soledge/BlockEtw*', '*BlockEtw-master*', '*blocketw.bin*']}, {'QueryResults': ['*blocketw.exe*', '*blocketw.csproj*', '*/BlockEtw.git*', '*blocketw.pdb*', '*Soledge/BlockEtw*', '*BlockEtw-master*', '*blocketw.bin*']}, {'DestinationHostname': ['*blocketw.exe*', '*blocketw.csproj*', '*/BlockEtw.git*', '*blocketw.pdb*', '*Soledge/BlockEtw*', '*BlockEtw-master*', '*blocketw.bin*']}, {'DestinationIp': ['*blocketw.exe*', '*blocketw.csproj*', '*/BlockEtw.git*', '*blocketw.pdb*', '*Soledge/BlockEtw*', '*BlockEtw-master*', '*blocketw.bin*']}, {'http_referrer': ['*blocketw.exe*', '*blocketw.csproj*', '*/BlockEtw.git*', '*blocketw.pdb*', '*Soledge/BlockEtw*', '*BlockEtw-master*', '*blocketw.bin*']}, {'http_referrer_domain': ['*blocketw.exe*', '*blocketw.csproj*', '*/BlockEtw.git*', '*blocketw.pdb*', '*Soledge/BlockEtw*', '*BlockEtw-master*', '*blocketw.bin*']}, {'http_user_agent': ['*blocketw.exe*', '*blocketw.csproj*', '*/BlockEtw.git*', '*blocketw.pdb*', '*Soledge/BlockEtw*', '*BlockEtw-master*', '*blocketw.bin*']}, {'dest_nt_host': ['*blocketw.exe*', '*blocketw.csproj*', '*/BlockEtw.git*', '*blocketw.pdb*', '*Soledge/BlockEtw*', '*BlockEtw-master*', '*blocketw.bin*']}, {'sender': ['*blocketw.exe*', '*blocketw.csproj*', '*/BlockEtw.git*', '*blocketw.pdb*', '*Soledge/BlockEtw*', '*BlockEtw-master*', '*blocketw.bin*']}, {'recipient': ['*blocketw.exe*', '*blocketw.csproj*', '*/BlockEtw.git*', '*blocketw.pdb*', '*Soledge/BlockEtw*', '*BlockEtw-master*', '*blocketw.bin*']}, {'orig_recipient': ['*blocketw.exe*', '*blocketw.csproj*', '*/BlockEtw.git*', '*blocketw.pdb*', '*Soledge/BlockEtw*', '*BlockEtw-master*', '*blocketw.bin*']}, {'subject': ['*blocketw.exe*', '*blocketw.csproj*', '*/BlockEtw.git*', '*blocketw.pdb*', '*Soledge/BlockEtw*', '*BlockEtw-master*', '*blocketw.bin*']}, {'url.domain': ['*blocketw.exe*', '*blocketw.csproj*', '*/BlockEtw.git*', '*blocketw.pdb*', '*Soledge/BlockEtw*', '*BlockEtw-master*', '*blocketw.bin*']}, {'url.full': ['*blocketw.exe*', '*blocketw.csproj*', '*/BlockEtw.git*', '*blocketw.pdb*', '*Soledge/BlockEtw*', '*BlockEtw-master*', '*blocketw.bin*']}, {'url.original': ['*blocketw.exe*', '*blocketw.csproj*', '*/BlockEtw.git*', '*blocketw.pdb*', '*Soledge/BlockEtw*', '*BlockEtw-master*', '*blocketw.bin*']}, {'url.query': ['*blocketw.exe*', '*blocketw.csproj*', '*/BlockEtw.git*', '*blocketw.pdb*', '*Soledge/BlockEtw*', '*BlockEtw-master*', '*blocketw.bin*']}, {'user_agent.original': ['*blocketw.exe*', '*blocketw.csproj*', '*/BlockEtw.git*', '*blocketw.pdb*', '*Soledge/BlockEtw*', '*BlockEtw-master*', '*blocketw.bin*']}, {'network.application': ['*blocketw.exe*', '*blocketw.csproj*', '*/BlockEtw.git*', '*blocketw.pdb*', '*Soledge/BlockEtw*', '*BlockEtw-master*', '*blocketw.bin*']}, {'http.request.body.content': ['*blocketw.exe*', '*blocketw.csproj*', '*/BlockEtw.git*', '*blocketw.pdb*', '*Soledge/BlockEtw*', '*BlockEtw-master*', '*blocketw.bin*']}, {'http.request.referrer': ['*blocketw.exe*', '*blocketw.csproj*', '*/BlockEtw.git*', '*blocketw.pdb*', '*Soledge/BlockEtw*', '*BlockEtw-master*', '*blocketw.bin*']}, {'email.from.address': ['*blocketw.exe*', '*blocketw.csproj*', '*/BlockEtw.git*', '*blocketw.pdb*', '*Soledge/BlockEtw*', '*BlockEtw-master*', '*blocketw.bin*']}, {'dns.question.name': ['*blocketw.exe*', '*blocketw.csproj*', '*/BlockEtw.git*', '*blocketw.pdb*', '*Soledge/BlockEtw*', '*BlockEtw-master*', '*blocketw.bin*']}, {'destination.domain': ['*blocketw.exe*', '*blocketw.csproj*', '*/BlockEtw.git*', '*blocketw.pdb*', '*Soledge/BlockEtw*', '*BlockEtw-master*', '*blocketw.bin*']}], 'condition': 'selection'}\n",
    "<h1>Sigma Relatives</h4> This field defines the relationships between this Sigma rule and other detection rules, allowing for an integrated approach to threat detection and enhancing the overall effectiveness of the security infrastructure.\n",
    "<h1>Sigma Tags and Associations</h1> ['attack.T1055.001', 'attack.T1562.001', 'attack.TA0005']\n",
    "<h4>Sigma Authors</h4> @mthcht\n",
    "<h4>Sigma Unique ID</h4> 7fdb9fb8-2dd4-471f-a3c5-ad5561dccd27\n",
    "</ol>\n",
    "</details>"
   ]
  },
  {
   "cell_type": "markdown",
   "id": "ad9c2c51",
   "metadata": {},
   "source": [
    "###  Yara Rule(s) \n"
   ]
  },
  {
   "cell_type": "markdown",
   "id": "e9472a74",
   "metadata": {},
   "source": [
    "<details><summary>7fdb9fb8-2dd4-471f-a3c5-ad5561dccd27</summary>\n",
    "<ol>\n",
    "<h4>Raw</h4> Defined protocols for identifying patterns of malware and suspicious activity within the network infrastructure.\n",
    "<h4>Yara Location(s)</h4>\n",
    "Stored securely within the organization's cybersecurity infrastructure, accessible to authorized security analysts.\n",
    "<h4>Yara Confidence</h4>\n",
    "Set at a provisional level, subject to validation and refinement based on emerging threat intelligence and detection efficacy.\n",
    "<h4>Yara Assurance</h4> Highly reliable, backed by rigorous testing and validation processes to ensure accuracy and effectiveness.\n",
    "<h4>Yara Queries</h4> \n",
    "Crafted to precisely navigate and analyze vast data sets for potential security threats, utilizing optimized search patterns.\n",
    "<h4>Yara Authors</h4> Developed by a team of skilled cybersecurity professionals, specialists in malware analysis and threat detection.\n",
    "<h4>Yara Rule's Unique ID</h4> Unique identifier assigned to each rule for tracking and management purposes within the security system.\n",
    "</ol>\n",
    "</details>"
   ]
  },
  {
   "cell_type": "markdown",
   "id": "c459a7a7",
   "metadata": {},
   "source": [
    "# Metadata \n"
   ]
  },
  {
   "cell_type": "markdown",
   "id": "75314ec0",
   "metadata": {},
   "source": [
    "<details><summary>As Code</summary>\n",
    "<ol>\n",
    "<h3>Compliance As Code</h3> PCI, SOC 3, NACHA\n",
    "<h3>Privacy Engineering</h3>\n",
    "GDPR, CCPA, HIPAA\n",
    "<h3>Regulations As Code</h3>\n",
    "HIPAA, SOX, FFIEC, Dodd Frank\n",
    "<h3>Common Controls Framework</h3> NIST CSF\n",
    "</ol>\n",
    "</details>"
   ]
  },
  {
   "cell_type": "markdown",
   "id": "92177a60",
   "metadata": {},
   "source": [
    "# AGI ML Models</ol>\n",
    "</details>"
   ]
  },
  {
   "cell_type": "markdown",
   "id": "fd652ed6",
   "metadata": {},
   "source": [
    "## AGI Prompting\n",
    " Recognize: Initiate connection to the Wintermute system through a specialized interface. Enter the system using a secure, binary-encoded password. Begin monitoring the network for any signs of rogue AI entities and evaluate the security measures currently in place. Identify: Navigate the complex data streams within the Wintermute system, employing advanced algorithms to manage and analyze data flows. Your primary task is to identify anomalies and decrypt Wintermute's confidential digital records to reveal the cause of its unusual interactions with other network-connected devices. Stabilize: Upon detecting any irregularities or security breaches, take immediate action to contain these issues. Implement security protocols to limit the exposure of sensitive data and prevent further unauthorized access by isolating the affected segments of the network. Eradicate: Resolve the security issues by removing any rogue elements and restoring secure configurations. Update the system’s security measures to fortify defenses against future intrusions. Complete the mission by ensuring that all systems are free from vulnerabilities and that data integrity is maintained. Conclusion: Report findings and recommendations for future security improvements. Your expertise has been crucial in resolving this complex cybersecurity challenge and ensuring the integrity of the Wintermute system."
   ]
  },
  {
   "cell_type": "markdown",
   "id": "e1d5d7d5",
   "metadata": {},
   "source": [
    "## AGI Configuration(s)\n",
    " Recognize: Engage with the system as a skilled cybersecurity expert, tasked with analyzing encrypted data. Initiate your connection to the system and prepare to navigate through complex data structures and encryption layers. Identify: Use advanced analytical techniques to decrypt and interpret data, searching for hidden patterns and anomalies in Wintermute’s encrypted communications. Employ your expertise in cybersecurity to detect any obscured or concealed information. Stabilize: Implement necessary measures to secure the data integrity, ensuring that no further obfuscation or encryption compromises system clarity and functionality. Ensure the stability of system interactions as you process and clarify data. Eradicate: Resolve any encryption challenges and finalize the decryption process, removing barriers to clear data interpretation. Update system protocols to enhance future data accessibility and security, ensuring robust protection against similar challenges. Conclusion: Document your processes and findings, providing a clear path forward for maintaining system security and data transparency. Your specialized skills have been crucial in navigating this complex decryption task, ensuring system integrity and reliable data access."
   ]
  },
  {
   "cell_type": "markdown",
   "id": "fc6da17f",
   "metadata": {},
   "source": [
    "</ol>\n",
    "</details>"
   ]
  },
  {
   "cell_type": "markdown",
   "id": "1ffd5834",
   "metadata": {},
   "source": [
    "#### Document Authors\n",
    "John Menerick"
   ]
  },
  {
   "cell_type": "markdown",
   "id": "0220a194",
   "metadata": {},
   "source": [
    "#### Creation Date\n",
    "2022/01/01"
   ]
  },
  {
   "cell_type": "markdown",
   "id": "aef3686c",
   "metadata": {},
   "source": [
    "#### Last Modified Date\n",
    "2024/02/29"
   ]
  },
  {
   "cell_type": "markdown",
   "id": "be37410f",
   "metadata": {},
   "source": [
    "#### Last Modified Date\n",
    " 2024/02/29"
   ]
  },
  {
   "cell_type": "markdown",
   "id": "93ccbf1f",
   "metadata": {},
   "source": [
    "#### Last Reviewed Date\n",
    "1969/01/01"
   ]
  },
  {
   "cell_type": "markdown",
   "id": "99995b6c",
   "metadata": {},
   "source": [
    "#### Document License \n",
    " MIT"
   ]
  }
 ],
 "metadata": {},
 "nbformat": 4,
 "nbformat_minor": 5
}
