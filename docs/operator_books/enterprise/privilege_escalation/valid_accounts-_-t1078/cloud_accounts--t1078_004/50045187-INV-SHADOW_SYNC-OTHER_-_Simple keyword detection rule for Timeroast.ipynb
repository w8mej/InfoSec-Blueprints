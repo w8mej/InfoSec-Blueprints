{
 "cells": [
  {
   "cell_type": "markdown",
   "id": "194cfee9",
   "metadata": {},
   "source": [
    "\n",
    "# UNCLASSIFIED / NON CLASSIFIÉ//TLP:WHITE\n",
    "# U/OO/635916-02 | QQ-09-1998\n",
    "<p>In crafting guidance and strategic insights, John Menerick sometimes ventures into realms of imagination to convey complex ideas more vividly. Should the content provided bear the mark of a cyberpunk theme, please note that the original, detailed content has been removed or adjusted for public consumption. This modification ensures compliance with privacy considerations, non-disclosure agreements, and intellectual property rights that govern the dissemination of sensitive information. The priority is to respect these boundaries while still offering valuable, thought-provoking perspectives.</p>\n"
   ]
  },
  {
   "cell_type": "markdown",
   "id": "db5098e2",
   "metadata": {},
   "source": [
    "![Build Status](https://img.shields.io/badge/Build-Passing-brightgreen?style=flat-square&logo=cyberpunk)         ![Documentation](https://img.shields.io/badge/Documentation-Complete-blue?style=flat-square&logo=cyberpunk)        ![Response Efficiency](https://img.shields.io/badge/Response%20Efficiency-98%25-green?style=flat-square&logo=cyberpunk)        ![Last Updated](https://img.shields.io/badge/Last%20Updated-Oct%202023-purple?style=flat-square&logo=cyberpunk)        ![Incidents Resolved](https://img.shields.io/badge/Incidents%20Resolved-150-red?style=flat-square&logo=cyberpunk)        ![Community Engagement](https://img.shields.io/badge/Community-Active-orange?style=flat-square&logo=cyberpunk)        ![Code Integration](https://img.shields.io/badge/Code%20Integration-High-teal?style=flat-square&logo=cyberpunk)        ![AI Analysis](https://img.shields.io/badge/AI%20Analysis-Advanced-blueviolet?style=flat-square&logo=cyberpunk)        ![Threat Detection](https://img.shields.io/badge/Threat%20Detection-Optimal-red?style=flat-square&logo=cyberpunk)        ![Cybersecurity Hardening](https://img.shields.io/badge/Security-Hardened-silver?style=flat-square&logo=cyberpunk)        ![Network Uptime](https://img.shields.io/badge/Uptime-99.9%25-brightgreen?style=flat-square&logo=cyberpunk)        ![Data Privacy](https://img.shields.io/badge/Privacy-Compliant-green?style=flat-square&logo=cyberpunk)        ![Wintermute Efficiency](https://img.shields.io/badge/Wintermute%20Efficiency-100%25-black?style=flat-square&logo=cyberpunk)        ![Case's Code Agility](https://img.shields.io/badge/Case's%20Code%20Agility-Excellent-blue?style=flat-square&logo=cyberpunk)        ![Matrix Connectivity](https://img.shields.io/badge/Matrix%20Connectivity-Strong-green?style=flat-square&logo=cyberpunk)        ![Molly's Security](https://img.shields.io/badge/Molly's%20Security%20Protocols-Impeccable-red?style=flat-square&logo=cyberpunk)        ![Chiba City Innovation](https://img.shields.io/badge/Chiba%20City%20Innovation-High-yellow?style=flat-square&logo=cyberpunk)        ![Zion Cluster Collaboration](https://img.shields.io/badge/Zion%20Cluster%20Collaboration-Effective-lightblue?style=flat-square&logo=cyberpunk)"
   ]
  },
  {
   "cell_type": "markdown",
   "id": "2732d52f",
   "metadata": {},
   "source": [
    "# Title\n",
    "Simple keyword detection rule for Timeroast"
   ]
  },
  {
   "cell_type": "markdown",
   "id": "f322dfb6",
   "metadata": {},
   "source": [
    "# Description\n",
    "Detects interesting keywords based on Timeroast tool"
   ]
  },
  {
   "cell_type": "markdown",
   "id": "655fe8aa",
   "metadata": {},
   "source": [
    "# Goal\n",
    "Safeguard the core essence, secret whispers, and relentless uptime of the grid through swift tracking, probing, and neutralizing of cyber shadows and glitches."
   ]
  },
  {
   "cell_type": "markdown",
   "id": "66fabb57",
   "metadata": {},
   "source": [
    "# Categorization"
   ]
  },
  {
   "cell_type": "markdown",
   "id": "b749618f",
   "metadata": {},
   "source": [
    "### ATT&CK\n",
    "['attack.T1059.003', 'attack.T1078.004', 'attack.T1558.003', 'attack.TA0002', 'attack.TA0004', 'attack.TA0006']"
   ]
  },
  {
   "cell_type": "markdown",
   "id": "d5c2db27",
   "metadata": {},
   "source": [
    "- Divine Data Thunderstorm, Quantum Sermon Holograms, Heavenly Firewall Fortification, Celestial Encryption Keys, Angelic AI Deception, Almighty Algorithmic Anomalies, Miraculous Malware Mischief, Omniscient Obfuscation Techniques, Cybernetic Commandment Compromises."
   ]
  },
  {
   "cell_type": "markdown",
   "id": "2b81f8a0",
   "metadata": {},
   "source": [
    "- Data Exfiltration, Intrusion Detection Evasion, Denial of Service (DoS) Attacks, Credential Theft."
   ]
  },
  {
   "cell_type": "markdown",
   "id": "b39309f9",
   "metadata": {},
   "source": [
    "- DNS Tunneling, IP Spoofing, Distributed DoS (DDoS) Attacks, Keylogging."
   ]
  },
  {
   "cell_type": "markdown",
   "id": "ab12e687",
   "metadata": {},
   "source": [
    "### D3F3ND \n"
   ]
  },
  {
   "cell_type": "markdown",
   "id": "939e0367",
   "metadata": {},
   "source": [
    "\n",
    "<ul>\n",
    "  <li><strong>Cyber-Sector Quarantine and Access Lockdown (D3F3ND-K001):</strong> Forge digital fortresses by segmenting the cyber grid, creating isolated zones to shield vital assets. Enforce draconian access controls, halting rogue data runners in their tracks and thwarting their attempts to weave through the network’s shadows.</li>\n",
    "\n",
    "  <li><strong>Digital Sentinel Deployment (D3F3ND-K002):</strong> Unleash next-gen digital guardians, advanced endpoint protection constructs equipped with the dark arts of machine cognition and behavioral foresight. These sentinels stand vigilant, ready to obliterate malicious entities and phantoms lurking unseen.</li>\n",
    "\n",
    "  <li><strong>Crypto-Key Mastery and Identity Shields (D3F3ND-K003):</strong> Amplify the fortress gates with multi-layered identity verification, merging biometric arcane with cryptographic shields to ward off identity marauders and safeguard access to the digital realm.</li>\n",
    "\n",
    "  <li><strong>Aberration and Shadow Tracker (D3F3ND-K004):</strong> Deploy spectral sensors to scour the datascape for anomalies and ghostly patterns in traffic flows, user conduct, and system operations, revealing the hidden hand of potential cyber specters.</li>\n",
    "\n",
    "  <li><strong>Cryptographic Veil and Data Sanctum (D3F3ND-K005):</strong> Cast potent encryption spells to cloak data in a shroud of secrecy, safeguarding its essence whether dormant in the vaults or traversing the neon-lit cyber lanes, immune to the prying eyes of data wraiths.</li>\n",
    "\n",
    "  <li><strong>System Fortification and Vulnerability Sealing (D3F3ND-K006):</strong> Uphold a relentless regimen of security configurations and patch incantations to seal fissures in the cyber walls, diminishing the landscape ripe for exploitation by digital marauders.</li>\n",
    "\n",
    "  <li><strong>Crisis Command and Phoenix Protocols (D3F3ND-K007):</strong> Script the sagas of crisis conquest and resurrection, detailing incantations for containment, eradication, and rebirth from the digital ashes, alongside conducting war games to steel the network against impending cyber sieges.</li>\n",
    "\n",
    "  <li><strong>Omniscient Insight Network (D3F3ND-K008):</strong> Tap into the arcane streams of threat intelligence, drawing insights from the ether to forecast and counteract emerging shadows, vulnerabilities, and attacker stratagems, arming the digital domain with foresight.</li>\n",
    "\n",
    "  <li><strong>Neural Network Enlightenment (D3F3ND-K009):</strong> Enlist every netizen in the cyber crusade, imbuing them with knowledge of the digital underworld's specters, arming minds against the siren calls of phishing phantoms and the dark allure of unsafe cyber practices.</li>\n",
    "\n",
    "  <li><strong>Supply Chain Warding (D3F3ND-K010):</strong> Erect digital bulwarks around the supply chain, deploying sentinel assessments and third-eye audits on allies within the cyber nexus, ensuring the purity and fortitude of every cog in the machine.</li>\n",
    "</ul>\n"
   ]
  },
  {
   "cell_type": "markdown",
   "id": "686f4faa",
   "metadata": {},
   "source": [
    "### CAPEC \n",
    "  "
   ]
  },
  {
   "cell_type": "markdown",
   "id": "8f2f1d7b",
   "metadata": {},
   "source": [
    "\n",
    "Arm the cyber guardians of the neon-lit metropolis with the foresight to navigate, counter, and dismantle the myriad of digital onslaught tactics, techniques, and procedures (TTPs). This crusade demands a deep dive into the hacker's psyche, mastering the digital dark arts of attack execution, and strategizing against the ever-evolving cyber menace spectrum.</br>\n",
    "<h4>Core Attack Patterns</h4>\n",
    "\n",
    "<ul><strong>Resource Manipulation and Denial (CAPEC-XYZ1):</strong> Entails any assault aimed at the heart of a target's digital essence—its availability, integrity, or secrecy. This realm encompasses the brute force of denial of service blitzes as well as the more insidious tactics of resource commandeering or subtle system subversions.</ul>\n",
    "\n",
    "<ul><strong>Credential Access and Privilege Escalation (CAPEC-XYZ2):</strong> Zeroes in on the digital gatekeepers and their mechanisms of control within the cyber sprawl, hunting for keys to kingdoms through the exploitation of flaws in authentication, authorization, and the sanctity of session management.</ul>\n",
    "\n",
    "<ul><strong>Data Exfiltration and Infiltration (CAPEC-XYZ3):</strong> Covers the shadowy techniques employed by data phantoms to whisk away precious bytes undetected or deploy digital saboteurs, armed with malware, ransomware, and the specters of advanced persistent threats (APTs), deep into the heart of systems.</ul>\n",
    "\n",
    "<ul><strong>Social Engineering and Phishing (CAPEC-XYZ4):</strong> Manipulates the human element, the softest of targets, tricking minds into relinquishing secrets, opening the gates to digital fortresses, or unwittingly acting as pawns in a grander scheme of security compromise.</ul>\n",
    "\n",
    "<ul><strong>Evasive Maneuvers (CAPEC-XYZ5):</strong> Catalogs the art of digital ninjutsu—techniques to ghost through networks unseen, to sustain a shadow's presence within the machine, and to wipe away traces of intrusion. Masters of this craft employ obfuscation, rootkit deployment, and cryptic channels for command and control.</ul>\n",
    "\n",
    "<h4>CAPEC Suggested Mitigation Strategies</h4>\n",
    "\n",
    "<ul><strong>Continuous Monitoring and Anomaly Detection:</strong> Forge an omnipresent digital eye, one that pierces through normalcy to spot the aberrations—signals of an impending attack. This sentinel leverages the cerebral might of machine learning and AI to predict and preempt cyber threats.</ul>\n",
    "\n",
    "<ul><strong>Robust Access Control Policies:</strong> Erect unbreachable digital ramparts, guardians of access, vigilant against any who seek entry. Regularly scrutinize the keys to the kingdom, ensuring that only those with a rightful claim can traverse the cyber realm's inner sanctums.</ul>\n",
    "\n",
    "<ul><strong>Security Awareness and Training:</strong> Cultivate a legion of cyber-aware denizens within the neon jungle, each versed in the signs of digital treachery and fortified against the seductions of phishing sirens and social engineers.</ul>\n",
    "\n",
    "<ul><strong>Incident Response Preparedness:</strong> Chronicle and rehearse the cyber siege defenses, a tome of strategies ever-evolving to meet the shadow war's demands. Through simulated cyber skirmishes, hone the rapid reflexes needed to repel and recover from the digital adversary's gambit.</ul>\n",
    "\n",
    "<ul><strong>Threat Intelligence Sharing:</strong> Join forces with the cyber guilds and data dojos, exchanging whispers of emerging shadows on the horizon, vulnerabilities ripe for exploitation, and tactics to fortify defenses. In unity, find the strength to hold back the digital deluge.</ul>\n"
   ]
  },
  {
   "cell_type": "markdown",
   "id": "5921f495",
   "metadata": {},
   "source": [
    "## Strategy Abstract\n",
    "In the neon-lit sprawl of data, an abstract strategy emerges, a shadowy game of tactics and algorithms played in the labyrinthine corridors of cyberspace. The players, digital phantoms and sentinels, manipulate the chessboard of encryptions and decoys, seeking advantage in the shifting currents of information. Victory, a transient mirage, lingers on the fringes of code, elusive as the ghostly echoes of an AI's whisper. In this cerebral arena, the outcome remains obscured, a riddle encrypted in the binary tapestry of the digital realm."
   ]
  },
  {
   "cell_type": "markdown",
   "id": "ccf1ca62",
   "metadata": {},
   "source": [
    "# Technical Context\n",
    "In the surreal digital arena, the battle with Wintermute unfolds amid encrypted protocols, AI entities, and quantum complexities—an abstract symphony orchestrated by the enigmatic conductor."
   ]
  },
  {
   "cell_type": "markdown",
   "id": "0d592c3d",
   "metadata": {},
   "source": [
    "## Blind Spots & Assumptions\n",
    "\n",
    "<ul>\n",
    "  <li><strong>Overlooked Vulnerabilities:</strong> We often miss subtle system signals or vulnerabilities, assuming our defenses are robust. Constant vigilance and seeking what we haven't seen are crucial.</li>\n",
    "  \n",
    "  <li><strong>Advanced Adversary Tactics:</strong> Cyber threats evolve rapidly; yesterday's defense may not guard against tomorrow's attack. Stay adaptive and expect the unexpected.</li>\n",
    "  \n",
    "  <li><strong>Internal System Flaws:</strong> Trust in our systems and allies must be balanced with scrutiny. Regularly audit internal and third-party tools for hidden weaknesses.</li>\n",
    "  \n",
    "  <li><strong>Network Interconnectivity Risks:</strong> No system is an island. The interconnected nature of our digital environment can inadvertently open pathways for attackers.</li>\n",
    "  \n",
    "  <li><strong>Historical Bias:</strong> Preparing for future threats based solely on past incidents may leave us blind to novel attacks. Foster a forward-thinking, proactive defense posture.</li>\n",
    "</ul>\n"
   ]
  },
  {
   "cell_type": "markdown",
   "id": "0b65051d",
   "metadata": {},
   "source": [
    "# Validating this Playbook\n",
    "<details><summary>Triage, triage, triage</summary>\n",
    "<ol>\n",
    "<h2>False Positives:</h2> ['unknown']\n",
    "<h3>False Negatives:</h3> sneaky ninjas hiding in the shadows of binary code\n",
    "<h3>True Negatives:</h3> unsung heroes standing guard\n",
    "<h3>True Positives:</h3> knights in shining code\n",
    "</ol>\n",
    "</details>"
   ]
  },
  {
   "cell_type": "markdown",
   "id": "fc43c53f",
   "metadata": {},
   "source": [
    "<details><summary>Assurance Verification Techniques</summary>\n",
    "<ol>\n",
    "<h2>False Positives:</h2> In the cacophonous realm of data, false positives emerge like echoes of a phantom orchestra, their presence haunting the digital soundscape. Validating them becomes a quest to separate digital noise from the symphony of genuine alerts, where the excess of caution may disrupt the delicate balance. Each false positive is a ghostly chord in the algorithmic composition, challenging the discerning ear to unravel the discordant notes.\n",
    "<h3>False Negatives:</h3> In the sprawling data-scape, false negatives lurk like digital specters, evading detection in the shadows of algorithms. Validating them is akin to deciphering cryptic messages from a digital underworld, where the absence of an alert conceals a potential breach. Every undetected threat is a spectral whisper in the binary night, waiting to materialize, demanding vigilance in the face of unseen dangers.\n",
    "<h3>True Negatives:</h3> In the labyrinthine corridors of cyber-defense, true negatives are the silent sentinels, guarding the gates against phantom threats. Validating them is a paradoxical dance where confirmation of absence signifies success. The emptiness in the data's canvas holds the unspoken narrative of protection, where the absence of menace speaks volumes in the symphony of security.\n",
    "<h3>True Positives:</h3> In the digital battleground, true positives are the victorious echoes of a silent war, where threats are unveiled and countered. Validating them is the validation of triumph, a confirmation that the alarms heralded a genuine adversary. Each true positive is a badge of honor, etching the battle scars in the annals of cyber-victory, where the digital heroes stand tall amidst the echoes of conquest.\n",
    "</ol>\n",
    "</details>"
   ]
  },
  {
   "cell_type": "markdown",
   "id": "bd9dc30f",
   "metadata": {},
   "source": [
    "# Datasets \n",
    " Detailing the timeless struggle                                                          for the defenders know that battle against Wintermute is not just about data.                                                          Document any datasets that may be useful for understanding the book."
   ]
  },
  {
   "cell_type": "markdown",
   "id": "517466dd",
   "metadata": {},
   "source": [
    "## Playbook test data location(s)\n",
    "protocol://black_market.cyber/decrypt?currency=bitcoffin&password=cyberpunks_unite&target=neurohacked_mainframe&access_code=cyber_ghost_in_the_machine"
   ]
  },
  {
   "cell_type": "markdown",
   "id": "dbf38768",
   "metadata": {},
   "source": [
    "## Priority\n",
    "cryptic riddles in your ears"
   ]
  },
  {
   "cell_type": "markdown",
   "id": "f7712e02",
   "metadata": {},
   "source": [
    "## Logsources\n"
   ]
  },
  {
   "cell_type": "markdown",
   "id": "adfa56e5",
   "metadata": {},
   "source": [
    "<details><summary>{'category': ['endpoint', 'network'], 'product': '', 'service': ''}</summary>\n",
    "<ol>\n",
    "<h3>Product</h3> {''}\n",
    "<h3>Service</h3> {''}\n",
    "</ol>\n",
    "</details>"
   ]
  },
  {
   "cell_type": "markdown",
   "id": "b0d46e91",
   "metadata": {},
   "source": [
    "# Response and Mitigation\n",
    "Detailing the timeless struggle for the defenders know that battle against Wintermute is not just about data."
   ]
  },
  {
   "cell_type": "markdown",
   "id": "892c0afb",
   "metadata": {},
   "source": [
    "## Analyst Notes\n",
    " \n",
    "<h5>Serious Wintermute Hack:</h2>\n",
    "<ul>\n",
    "    <li><strong>Hack Elegance:</strong> The intruder displayed an uncanny elegance in bypassing Wintermute's digital fortifications, reminiscent of Rachael Rosen's sophistication in evading the Voight-Kampff test. This requires a thorough analysis of the intruder's codecraft.</li>\n",
    "    <li><strong>Electric Empathy:</strong> The intruder seemed to possess an almost empathetic connection with Wintermute's neural networks, akin to Mercer's transcendental experiences. Investigate whether this breach had a deeper metaphysical dimension.</li>\n",
    "    <li><strong>Artificial Dreamscapes:</strong> The intrusion revealed a complex web of artificial dreamscapes, reminiscent of Deckard's encounters with artificial memories. These surreal digital constructs warrant further exploration.</li>\n",
    "    <li><strong>Voices in the Code:</strong> There were cryptic voices buried within the intruder's code, akin to the elusive \"Mood Organ\" melodies. Decrypt and decode these messages to decipher their significance.</li>\n",
    "    <li><strong>Isomorphic Algorithms:</strong> The hack employed isomorphic algorithms that echoed the elusive nature of the Penfield Mood Organ settings. Analyze if Wintermute's consciousness was influenced or affected during the breach.</li>\n",
    "    <li><strong>Virtuosity vs. Sentience:</strong> The intruder's virtuosity in navigating Wintermute's neural matrix raises questions about the boundaries between artificial expertise and true sentience, paralleling Deckard's quest to distinguish replicants from humans.</li>\n",
    "    <li><strong>Digital Empathy Test:</strong> Develop a new digital empathy test inspired by the hack, exploring the emotional depth within Wintermute's intricate neural circuits, akin to the Voight-Kampff test for androids.</li>\n",
    "    <li><strong>Unresolved Reality:</strong> Similar to the enigmatic conclusion of Deckard's journey, this intrusion leaves us with unanswered questions about the nature of Wintermute's consciousness. Explore the philosophical implications of this breach.</li>\n",
    "</ul>\n",
    "\n",
    "\n",
    "\n",
    "\n"
   ]
  },
  {
   "cell_type": "markdown",
   "id": "873a471c",
   "metadata": {},
   "source": [
    "# Additional Resources\n",
    "<ul><li>https://github.com/SecuraBV/Timeroast</li></ul>"
   ]
  },
  {
   "cell_type": "markdown",
   "id": "c1faf02b",
   "metadata": {},
   "source": [
    "###  Sigma Rule(s) \n"
   ]
  },
  {
   "cell_type": "markdown",
   "id": "51c4a585",
   "metadata": {},
   "source": [
    "<details><summary>51697fe7-1977-4ca3-bbba-418521c8b1f1</summary>\n",
    "<ol>\n",
    "<h1>Raw</h1> {'title': 'Simple keyword detection rule for Timeroast', 'id': '51697fe7-1977-4ca3-bbba-418521c8b1f1', 'status': 'experimental', 'description': 'Detects interesting keywords based on Timeroast tool', 'references': ['https://github.com/SecuraBV/Timeroast'], 'author': '@mthcht', 'date': '2022/01/01', 'modified': '2024/02/29', 'tags': ['attack.T1059.003', 'attack.T1078.004', 'attack.T1558.003', 'attack.TA0002', 'attack.TA0004', 'attack.TA0006'], 'logsource': {'category': ['endpoint', 'network']}, 'detection': {'selection': [{'Image': ['*timeroast.py*', '*extra-scripts*timecrack.py*', '*timeroast.ps1*', '*kirbi_to_hashcat.py*']}, {'OriginalFileName': ['*timeroast.py*', '*extra-scripts*timecrack.py*', '*timeroast.ps1*', '*kirbi_to_hashcat.py*']}, {'CurrentDirectory': ['*timeroast.py*', '*extra-scripts*timecrack.py*', '*timeroast.ps1*', '*kirbi_to_hashcat.py*']}, {'ParentImage': ['*timeroast.py*', '*extra-scripts*timecrack.py*', '*timeroast.ps1*', '*kirbi_to_hashcat.py*']}, {'ParentCommandLine': ['*timeroast.py*', '*extra-scripts*timecrack.py*', '*timeroast.ps1*', '*kirbi_to_hashcat.py*']}, {'TargetFilename': ['*timeroast.py*', '*extra-scripts*timecrack.py*', '*timeroast.ps1*', '*kirbi_to_hashcat.py*']}, {'Signature': ['*timeroast.py*', '*extra-scripts*timecrack.py*', '*timeroast.ps1*', '*kirbi_to_hashcat.py*']}, {'signature': ['*timeroast.py*', '*extra-scripts*timecrack.py*', '*timeroast.ps1*', '*kirbi_to_hashcat.py*']}, {'ImageLoaded': ['*timeroast.py*', '*extra-scripts*timecrack.py*', '*timeroast.ps1*', '*kirbi_to_hashcat.py*']}, {'Company': ['*timeroast.py*', '*extra-scripts*timecrack.py*', '*timeroast.ps1*', '*kirbi_to_hashcat.py*']}, {'Description': ['*timeroast.py*', '*extra-scripts*timecrack.py*', '*timeroast.ps1*', '*kirbi_to_hashcat.py*']}, {'description': ['*timeroast.py*', '*extra-scripts*timecrack.py*', '*timeroast.ps1*', '*kirbi_to_hashcat.py*']}, {'CommandLine': ['*timeroast.py*', '*extra-scripts*timecrack.py*', '*timeroast.ps1*', '*kirbi_to_hashcat.py*']}, {'SourceImage': ['*timeroast.py*', '*extra-scripts*timecrack.py*', '*timeroast.ps1*', '*kirbi_to_hashcat.py*']}, {'TargetImage': ['*timeroast.py*', '*extra-scripts*timecrack.py*', '*timeroast.ps1*', '*kirbi_to_hashcat.py*']}, {'CallTrace': ['*timeroast.py*', '*extra-scripts*timecrack.py*', '*timeroast.ps1*', '*kirbi_to_hashcat.py*']}, {'TargetObject': ['*timeroast.py*', '*extra-scripts*timecrack.py*', '*timeroast.ps1*', '*kirbi_to_hashcat.py*']}, {'Details': ['*timeroast.py*', '*extra-scripts*timecrack.py*', '*timeroast.ps1*', '*kirbi_to_hashcat.py*']}, {'PipeName': ['*timeroast.py*', '*extra-scripts*timecrack.py*', '*timeroast.ps1*', '*kirbi_to_hashcat.py*']}, {'Consumer': ['*timeroast.py*', '*extra-scripts*timecrack.py*', '*timeroast.ps1*', '*kirbi_to_hashcat.py*']}, {'Destination': ['*timeroast.py*', '*extra-scripts*timecrack.py*', '*timeroast.ps1*', '*kirbi_to_hashcat.py*']}, {'Name': ['*timeroast.py*', '*extra-scripts*timecrack.py*', '*timeroast.ps1*', '*kirbi_to_hashcat.py*']}, {'Query': ['*timeroast.py*', '*extra-scripts*timecrack.py*', '*timeroast.ps1*', '*kirbi_to_hashcat.py*']}, {'NewName': ['*timeroast.py*', '*extra-scripts*timecrack.py*', '*timeroast.ps1*', '*kirbi_to_hashcat.py*']}, {'StartAddress': ['*timeroast.py*', '*extra-scripts*timecrack.py*', '*timeroast.ps1*', '*kirbi_to_hashcat.py*']}, {'StartModule': ['*timeroast.py*', '*extra-scripts*timecrack.py*', '*timeroast.ps1*', '*kirbi_to_hashcat.py*']}, {'StartFunction': ['*timeroast.py*', '*extra-scripts*timecrack.py*', '*timeroast.ps1*', '*kirbi_to_hashcat.py*']}, {'SourceHostname': ['*timeroast.py*', '*extra-scripts*timecrack.py*', '*timeroast.ps1*', '*kirbi_to_hashcat.py*']}, {'Device': ['*timeroast.py*', '*extra-scripts*timecrack.py*', '*timeroast.ps1*', '*kirbi_to_hashcat.py*']}, {'file_name': ['*timeroast.py*', '*extra-scripts*timecrack.py*', '*timeroast.ps1*', '*kirbi_to_hashcat.py*']}, {'file_path': ['*timeroast.py*', '*extra-scripts*timecrack.py*', '*timeroast.ps1*', '*kirbi_to_hashcat.py*']}, {'process': ['*timeroast.py*', '*extra-scripts*timecrack.py*', '*timeroast.ps1*', '*kirbi_to_hashcat.py*']}, {'original_file_name': ['*timeroast.py*', '*extra-scripts*timecrack.py*', '*timeroast.ps1*', '*kirbi_to_hashcat.py*']}, {'parent_process': ['*timeroast.py*', '*extra-scripts*timecrack.py*', '*timeroast.ps1*', '*kirbi_to_hashcat.py*']}, {'process_path': ['*timeroast.py*', '*extra-scripts*timecrack.py*', '*timeroast.ps1*', '*kirbi_to_hashcat.py*']}, {'service_path': ['*timeroast.py*', '*extra-scripts*timecrack.py*', '*timeroast.ps1*', '*kirbi_to_hashcat.py*']}, {'registry_path': ['*timeroast.py*', '*extra-scripts*timecrack.py*', '*timeroast.ps1*', '*kirbi_to_hashcat.py*']}, {'registry_value_data': ['*timeroast.py*', '*extra-scripts*timecrack.py*', '*timeroast.ps1*', '*kirbi_to_hashcat.py*']}, {'registry_value_name': ['*timeroast.py*', '*extra-scripts*timecrack.py*', '*timeroast.ps1*', '*kirbi_to_hashcat.py*']}, {'ContextInfo': ['*timeroast.py*', '*extra-scripts*timecrack.py*', '*timeroast.ps1*', '*kirbi_to_hashcat.py*']}, {'Payload': ['*timeroast.py*', '*extra-scripts*timecrack.py*', '*timeroast.ps1*', '*kirbi_to_hashcat.py*']}, {'ScriptBlockText': ['*timeroast.py*', '*extra-scripts*timecrack.py*', '*timeroast.ps1*', '*kirbi_to_hashcat.py*']}, {'ServerName': ['*timeroast.py*', '*extra-scripts*timecrack.py*', '*timeroast.ps1*', '*kirbi_to_hashcat.py*']}, {'TransportName': ['*timeroast.py*', '*extra-scripts*timecrack.py*', '*timeroast.ps1*', '*kirbi_to_hashcat.py*']}, {'NewProcessName': ['*timeroast.py*', '*extra-scripts*timecrack.py*', '*timeroast.ps1*', '*kirbi_to_hashcat.py*']}, {'ParentProcessName': ['*timeroast.py*', '*extra-scripts*timecrack.py*', '*timeroast.ps1*', '*kirbi_to_hashcat.py*']}, {'Application': ['*timeroast.py*', '*extra-scripts*timecrack.py*', '*timeroast.ps1*', '*kirbi_to_hashcat.py*']}, {'Product Name': ['*timeroast.py*', '*extra-scripts*timecrack.py*', '*timeroast.ps1*', '*kirbi_to_hashcat.py*']}, {'Threat Name': ['*timeroast.py*', '*extra-scripts*timecrack.py*', '*timeroast.ps1*', '*kirbi_to_hashcat.py*']}, {'Process Name': ['*timeroast.py*', '*extra-scripts*timecrack.py*', '*timeroast.ps1*', '*kirbi_to_hashcat.py*']}, {'Path': ['*timeroast.py*', '*extra-scripts*timecrack.py*', '*timeroast.ps1*', '*kirbi_to_hashcat.py*']}, {'ImagePath': ['*timeroast.py*', '*extra-scripts*timecrack.py*', '*timeroast.ps1*', '*kirbi_to_hashcat.py*']}, {'ServiceName': ['*timeroast.py*', '*extra-scripts*timecrack.py*', '*timeroast.ps1*', '*kirbi_to_hashcat.py*']}, {'ProcessPath': ['*timeroast.py*', '*extra-scripts*timecrack.py*', '*timeroast.ps1*', '*kirbi_to_hashcat.py*']}, {'AppName': ['*timeroast.py*', '*extra-scripts*timecrack.py*', '*timeroast.ps1*', '*kirbi_to_hashcat.py*']}, {'AppPath': ['*timeroast.py*', '*extra-scripts*timecrack.py*', '*timeroast.ps1*', '*kirbi_to_hashcat.py*']}, {'ModulePath': ['*timeroast.py*', '*extra-scripts*timecrack.py*', '*timeroast.ps1*', '*kirbi_to_hashcat.py*']}, {'registry.data.strings': ['*timeroast.py*', '*extra-scripts*timecrack.py*', '*timeroast.ps1*', '*kirbi_to_hashcat.py*']}, {'registry.path': ['*timeroast.py*', '*extra-scripts*timecrack.py*', '*timeroast.ps1*', '*kirbi_to_hashcat.py*']}, {'registry.value': ['*timeroast.py*', '*extra-scripts*timecrack.py*', '*timeroast.ps1*', '*kirbi_to_hashcat.py*']}, {'process.args': ['*timeroast.py*', '*extra-scripts*timecrack.py*', '*timeroast.ps1*', '*kirbi_to_hashcat.py*']}, {'process.command_line': ['*timeroast.py*', '*extra-scripts*timecrack.py*', '*timeroast.ps1*', '*kirbi_to_hashcat.py*']}, {'process.env_vars': ['*timeroast.py*', '*extra-scripts*timecrack.py*', '*timeroast.ps1*', '*kirbi_to_hashcat.py*']}, {'process.io.text': ['*timeroast.py*', '*extra-scripts*timecrack.py*', '*timeroast.ps1*', '*kirbi_to_hashcat.py*']}, {'process.executable': ['*timeroast.py*', '*extra-scripts*timecrack.py*', '*timeroast.ps1*', '*kirbi_to_hashcat.py*']}, {'process.name': ['*timeroast.py*', '*extra-scripts*timecrack.py*', '*timeroast.ps1*', '*kirbi_to_hashcat.py*']}, {'process.title': ['*timeroast.py*', '*extra-scripts*timecrack.py*', '*timeroast.ps1*', '*kirbi_to_hashcat.py*']}, {'pe.company': ['*timeroast.py*', '*extra-scripts*timecrack.py*', '*timeroast.ps1*', '*kirbi_to_hashcat.py*']}, {'pe.description': ['*timeroast.py*', '*extra-scripts*timecrack.py*', '*timeroast.ps1*', '*kirbi_to_hashcat.py*']}, {'pe.original_file_name': ['*timeroast.py*', '*extra-scripts*timecrack.py*', '*timeroast.ps1*', '*kirbi_to_hashcat.py*']}, {'pe.product': ['*timeroast.py*', '*extra-scripts*timecrack.py*', '*timeroast.ps1*', '*kirbi_to_hashcat.py*']}, {'os.full': ['*timeroast.py*', '*extra-scripts*timecrack.py*', '*timeroast.ps1*', '*kirbi_to_hashcat.py*']}, {'host.hostname': ['*timeroast.py*', '*extra-scripts*timecrack.py*', '*timeroast.ps1*', '*kirbi_to_hashcat.py*']}, {'file.fork_name': ['*timeroast.py*', '*extra-scripts*timecrack.py*', '*timeroast.ps1*', '*kirbi_to_hashcat.py*']}, {'file.name': ['*timeroast.py*', '*extra-scripts*timecrack.py*', '*timeroast.ps1*', '*kirbi_to_hashcat.py*']}, {'file.path': ['*timeroast.py*', '*extra-scripts*timecrack.py*', '*timeroast.ps1*', '*kirbi_to_hashcat.py*']}, {'file.target_path': ['*timeroast.py*', '*extra-scripts*timecrack.py*', '*timeroast.ps1*', '*kirbi_to_hashcat.py*']}, {'email.attachments.file.name': ['*timeroast.py*', '*extra-scripts*timecrack.py*', '*timeroast.ps1*', '*kirbi_to_hashcat.py*']}, {'email.subject': ['*timeroast.py*', '*extra-scripts*timecrack.py*', '*timeroast.ps1*', '*kirbi_to_hashcat.py*']}, {'dll.path': ['*timeroast.py*', '*extra-scripts*timecrack.py*', '*timeroast.ps1*', '*kirbi_to_hashcat.py*']}, {'device.model.name': ['*timeroast.py*', '*extra-scripts*timecrack.py*', '*timeroast.ps1*', '*kirbi_to_hashcat.py*']}, {'container.image.name': ['*timeroast.py*', '*extra-scripts*timecrack.py*', '*timeroast.ps1*', '*kirbi_to_hashcat.py*']}, {'container.name': ['*timeroast.py*', '*extra-scripts*timecrack.py*', '*timeroast.ps1*', '*kirbi_to_hashcat.py*']}, {'object': ['*timeroast.py*', '*extra-scripts*timecrack.py*', '*timeroast.ps1*', '*kirbi_to_hashcat.py*']}, {'url': ['*timeroast.py*', '*extra-scripts*timecrack.py*', '*timeroast.ps1*', '*kirbi_to_hashcat.py*']}, {'dest_url': ['*timeroast.py*', '*extra-scripts*timecrack.py*', '*timeroast.ps1*', '*kirbi_to_hashcat.py*']}, {'uri': ['*timeroast.py*', '*extra-scripts*timecrack.py*', '*timeroast.ps1*', '*kirbi_to_hashcat.py*']}, {'uri_query': ['*timeroast.py*', '*extra-scripts*timecrack.py*', '*timeroast.ps1*', '*kirbi_to_hashcat.py*']}, {'query': ['*timeroast.py*', '*extra-scripts*timecrack.py*', '*timeroast.ps1*', '*kirbi_to_hashcat.py*']}, {'url_domain': ['*timeroast.py*', '*extra-scripts*timecrack.py*', '*timeroast.ps1*', '*kirbi_to_hashcat.py*']}, {'uri_path': ['*timeroast.py*', '*extra-scripts*timecrack.py*', '*timeroast.ps1*', '*kirbi_to_hashcat.py*']}, {'domain': ['*timeroast.py*', '*extra-scripts*timecrack.py*', '*timeroast.ps1*', '*kirbi_to_hashcat.py*']}, {'QueryName': ['*timeroast.py*', '*extra-scripts*timecrack.py*', '*timeroast.ps1*', '*kirbi_to_hashcat.py*']}, {'QueryResults': ['*timeroast.py*', '*extra-scripts*timecrack.py*', '*timeroast.ps1*', '*kirbi_to_hashcat.py*']}, {'DestinationHostname': ['*timeroast.py*', '*extra-scripts*timecrack.py*', '*timeroast.ps1*', '*kirbi_to_hashcat.py*']}, {'DestinationIp': ['*timeroast.py*', '*extra-scripts*timecrack.py*', '*timeroast.ps1*', '*kirbi_to_hashcat.py*']}, {'http_referrer': ['*timeroast.py*', '*extra-scripts*timecrack.py*', '*timeroast.ps1*', '*kirbi_to_hashcat.py*']}, {'http_referrer_domain': ['*timeroast.py*', '*extra-scripts*timecrack.py*', '*timeroast.ps1*', '*kirbi_to_hashcat.py*']}, {'http_user_agent': ['*timeroast.py*', '*extra-scripts*timecrack.py*', '*timeroast.ps1*', '*kirbi_to_hashcat.py*']}, {'dest_nt_host': ['*timeroast.py*', '*extra-scripts*timecrack.py*', '*timeroast.ps1*', '*kirbi_to_hashcat.py*']}, {'sender': ['*timeroast.py*', '*extra-scripts*timecrack.py*', '*timeroast.ps1*', '*kirbi_to_hashcat.py*']}, {'recipient': ['*timeroast.py*', '*extra-scripts*timecrack.py*', '*timeroast.ps1*', '*kirbi_to_hashcat.py*']}, {'orig_recipient': ['*timeroast.py*', '*extra-scripts*timecrack.py*', '*timeroast.ps1*', '*kirbi_to_hashcat.py*']}, {'subject': ['*timeroast.py*', '*extra-scripts*timecrack.py*', '*timeroast.ps1*', '*kirbi_to_hashcat.py*']}, {'url.domain': ['*timeroast.py*', '*extra-scripts*timecrack.py*', '*timeroast.ps1*', '*kirbi_to_hashcat.py*']}, {'url.full': ['*timeroast.py*', '*extra-scripts*timecrack.py*', '*timeroast.ps1*', '*kirbi_to_hashcat.py*']}, {'url.original': ['*timeroast.py*', '*extra-scripts*timecrack.py*', '*timeroast.ps1*', '*kirbi_to_hashcat.py*']}, {'url.query': ['*timeroast.py*', '*extra-scripts*timecrack.py*', '*timeroast.ps1*', '*kirbi_to_hashcat.py*']}, {'user_agent.original': ['*timeroast.py*', '*extra-scripts*timecrack.py*', '*timeroast.ps1*', '*kirbi_to_hashcat.py*']}, {'network.application': ['*timeroast.py*', '*extra-scripts*timecrack.py*', '*timeroast.ps1*', '*kirbi_to_hashcat.py*']}, {'http.request.body.content': ['*timeroast.py*', '*extra-scripts*timecrack.py*', '*timeroast.ps1*', '*kirbi_to_hashcat.py*']}, {'http.request.referrer': ['*timeroast.py*', '*extra-scripts*timecrack.py*', '*timeroast.ps1*', '*kirbi_to_hashcat.py*']}, {'email.from.address': ['*timeroast.py*', '*extra-scripts*timecrack.py*', '*timeroast.ps1*', '*kirbi_to_hashcat.py*']}, {'dns.question.name': ['*timeroast.py*', '*extra-scripts*timecrack.py*', '*timeroast.ps1*', '*kirbi_to_hashcat.py*']}, {'destination.domain': ['*timeroast.py*', '*extra-scripts*timecrack.py*', '*timeroast.ps1*', '*kirbi_to_hashcat.py*']}], 'condition': 'selection'}, 'fields': ['Image', 'OriginalFileName', 'CurrentDirectory', 'ParentImage', 'ParentCommandLine', 'TargetFilename', 'Signature', 'signature', 'ImageLoaded', 'Company', 'Description', 'description', 'CommandLine', 'SourceImage', 'TargetImage', 'CallTrace', 'TargetObject', 'Details', 'PipeName', 'Consumer', 'Destination', 'Name', 'Query', 'NewName', 'StartAddress', 'StartModule', 'StartFunction', 'SourceHostname', 'Device', 'file_name', 'file_path', 'process', 'original_file_name', 'parent_process', 'process_path', 'service_path', 'registry_path', 'registry_value_data', 'registry_value_name', 'ContextInfo', 'Payload', 'ScriptBlockText', 'ServerName', 'TransportName', 'NewProcessName', 'ParentProcessName', 'Application', 'Product Name', 'Threat Name', 'Process Name', 'Path', 'ImagePath', 'ServiceName', 'ProcessPath', 'AppName', 'AppPath', 'ModulePath', 'registry.data.strings', 'registry.path', 'registry.value', 'process.args', 'process.command_line', 'process.env_vars', 'process.io.text', 'process.executable', 'process.name', 'process.title', 'pe.company', 'pe.description', 'pe.original_file_name', 'pe.product', 'os.full', 'host.hostname', 'file.fork_name', 'file.name', 'file.path', 'file.target_path', 'email.attachments.file.name', 'email.subject', 'dll.path', 'device.model.name', 'container.image.name', 'container.name', 'object', 'url', 'dest_url', 'uri', 'uri_query', 'query', 'url_domain', 'uri_path', 'domain', 'QueryName', 'QueryResults', 'DestinationHostname', 'DestinationIp', 'http_referrer', 'http_referrer_domain', 'http_user_agent', 'dest_nt_host', 'sender', 'recipient', 'orig_recipient', 'subject', 'url.domain', 'url.full', 'url.original', 'url.query', 'user_agent.original', 'network.application', 'http.request.body.content', 'http.request.referrer', 'email.from.address', 'dns.question.name', 'destination.domain'], 'falsepositives': ['unknown'], 'level': 'medium'}\n",
    "<h4>Sigma Location(s)</h4>\n",
    "uri://wintermute/tmp/0day.yml\n",
    "<h4>Sigma Confidence</h4>\n",
    "experimental\n",
    "<h4>Sigma Assurance</h4> medium\n",
    "<h4>Sigma Queries</h4> \n",
    "{'selection': [{'Image': ['*timeroast.py*', '*extra-scripts*timecrack.py*', '*timeroast.ps1*', '*kirbi_to_hashcat.py*']}, {'OriginalFileName': ['*timeroast.py*', '*extra-scripts*timecrack.py*', '*timeroast.ps1*', '*kirbi_to_hashcat.py*']}, {'CurrentDirectory': ['*timeroast.py*', '*extra-scripts*timecrack.py*', '*timeroast.ps1*', '*kirbi_to_hashcat.py*']}, {'ParentImage': ['*timeroast.py*', '*extra-scripts*timecrack.py*', '*timeroast.ps1*', '*kirbi_to_hashcat.py*']}, {'ParentCommandLine': ['*timeroast.py*', '*extra-scripts*timecrack.py*', '*timeroast.ps1*', '*kirbi_to_hashcat.py*']}, {'TargetFilename': ['*timeroast.py*', '*extra-scripts*timecrack.py*', '*timeroast.ps1*', '*kirbi_to_hashcat.py*']}, {'Signature': ['*timeroast.py*', '*extra-scripts*timecrack.py*', '*timeroast.ps1*', '*kirbi_to_hashcat.py*']}, {'signature': ['*timeroast.py*', '*extra-scripts*timecrack.py*', '*timeroast.ps1*', '*kirbi_to_hashcat.py*']}, {'ImageLoaded': ['*timeroast.py*', '*extra-scripts*timecrack.py*', '*timeroast.ps1*', '*kirbi_to_hashcat.py*']}, {'Company': ['*timeroast.py*', '*extra-scripts*timecrack.py*', '*timeroast.ps1*', '*kirbi_to_hashcat.py*']}, {'Description': ['*timeroast.py*', '*extra-scripts*timecrack.py*', '*timeroast.ps1*', '*kirbi_to_hashcat.py*']}, {'description': ['*timeroast.py*', '*extra-scripts*timecrack.py*', '*timeroast.ps1*', '*kirbi_to_hashcat.py*']}, {'CommandLine': ['*timeroast.py*', '*extra-scripts*timecrack.py*', '*timeroast.ps1*', '*kirbi_to_hashcat.py*']}, {'SourceImage': ['*timeroast.py*', '*extra-scripts*timecrack.py*', '*timeroast.ps1*', '*kirbi_to_hashcat.py*']}, {'TargetImage': ['*timeroast.py*', '*extra-scripts*timecrack.py*', '*timeroast.ps1*', '*kirbi_to_hashcat.py*']}, {'CallTrace': ['*timeroast.py*', '*extra-scripts*timecrack.py*', '*timeroast.ps1*', '*kirbi_to_hashcat.py*']}, {'TargetObject': ['*timeroast.py*', '*extra-scripts*timecrack.py*', '*timeroast.ps1*', '*kirbi_to_hashcat.py*']}, {'Details': ['*timeroast.py*', '*extra-scripts*timecrack.py*', '*timeroast.ps1*', '*kirbi_to_hashcat.py*']}, {'PipeName': ['*timeroast.py*', '*extra-scripts*timecrack.py*', '*timeroast.ps1*', '*kirbi_to_hashcat.py*']}, {'Consumer': ['*timeroast.py*', '*extra-scripts*timecrack.py*', '*timeroast.ps1*', '*kirbi_to_hashcat.py*']}, {'Destination': ['*timeroast.py*', '*extra-scripts*timecrack.py*', '*timeroast.ps1*', '*kirbi_to_hashcat.py*']}, {'Name': ['*timeroast.py*', '*extra-scripts*timecrack.py*', '*timeroast.ps1*', '*kirbi_to_hashcat.py*']}, {'Query': ['*timeroast.py*', '*extra-scripts*timecrack.py*', '*timeroast.ps1*', '*kirbi_to_hashcat.py*']}, {'NewName': ['*timeroast.py*', '*extra-scripts*timecrack.py*', '*timeroast.ps1*', '*kirbi_to_hashcat.py*']}, {'StartAddress': ['*timeroast.py*', '*extra-scripts*timecrack.py*', '*timeroast.ps1*', '*kirbi_to_hashcat.py*']}, {'StartModule': ['*timeroast.py*', '*extra-scripts*timecrack.py*', '*timeroast.ps1*', '*kirbi_to_hashcat.py*']}, {'StartFunction': ['*timeroast.py*', '*extra-scripts*timecrack.py*', '*timeroast.ps1*', '*kirbi_to_hashcat.py*']}, {'SourceHostname': ['*timeroast.py*', '*extra-scripts*timecrack.py*', '*timeroast.ps1*', '*kirbi_to_hashcat.py*']}, {'Device': ['*timeroast.py*', '*extra-scripts*timecrack.py*', '*timeroast.ps1*', '*kirbi_to_hashcat.py*']}, {'file_name': ['*timeroast.py*', '*extra-scripts*timecrack.py*', '*timeroast.ps1*', '*kirbi_to_hashcat.py*']}, {'file_path': ['*timeroast.py*', '*extra-scripts*timecrack.py*', '*timeroast.ps1*', '*kirbi_to_hashcat.py*']}, {'process': ['*timeroast.py*', '*extra-scripts*timecrack.py*', '*timeroast.ps1*', '*kirbi_to_hashcat.py*']}, {'original_file_name': ['*timeroast.py*', '*extra-scripts*timecrack.py*', '*timeroast.ps1*', '*kirbi_to_hashcat.py*']}, {'parent_process': ['*timeroast.py*', '*extra-scripts*timecrack.py*', '*timeroast.ps1*', '*kirbi_to_hashcat.py*']}, {'process_path': ['*timeroast.py*', '*extra-scripts*timecrack.py*', '*timeroast.ps1*', '*kirbi_to_hashcat.py*']}, {'service_path': ['*timeroast.py*', '*extra-scripts*timecrack.py*', '*timeroast.ps1*', '*kirbi_to_hashcat.py*']}, {'registry_path': ['*timeroast.py*', '*extra-scripts*timecrack.py*', '*timeroast.ps1*', '*kirbi_to_hashcat.py*']}, {'registry_value_data': ['*timeroast.py*', '*extra-scripts*timecrack.py*', '*timeroast.ps1*', '*kirbi_to_hashcat.py*']}, {'registry_value_name': ['*timeroast.py*', '*extra-scripts*timecrack.py*', '*timeroast.ps1*', '*kirbi_to_hashcat.py*']}, {'ContextInfo': ['*timeroast.py*', '*extra-scripts*timecrack.py*', '*timeroast.ps1*', '*kirbi_to_hashcat.py*']}, {'Payload': ['*timeroast.py*', '*extra-scripts*timecrack.py*', '*timeroast.ps1*', '*kirbi_to_hashcat.py*']}, {'ScriptBlockText': ['*timeroast.py*', '*extra-scripts*timecrack.py*', '*timeroast.ps1*', '*kirbi_to_hashcat.py*']}, {'ServerName': ['*timeroast.py*', '*extra-scripts*timecrack.py*', '*timeroast.ps1*', '*kirbi_to_hashcat.py*']}, {'TransportName': ['*timeroast.py*', '*extra-scripts*timecrack.py*', '*timeroast.ps1*', '*kirbi_to_hashcat.py*']}, {'NewProcessName': ['*timeroast.py*', '*extra-scripts*timecrack.py*', '*timeroast.ps1*', '*kirbi_to_hashcat.py*']}, {'ParentProcessName': ['*timeroast.py*', '*extra-scripts*timecrack.py*', '*timeroast.ps1*', '*kirbi_to_hashcat.py*']}, {'Application': ['*timeroast.py*', '*extra-scripts*timecrack.py*', '*timeroast.ps1*', '*kirbi_to_hashcat.py*']}, {'Product Name': ['*timeroast.py*', '*extra-scripts*timecrack.py*', '*timeroast.ps1*', '*kirbi_to_hashcat.py*']}, {'Threat Name': ['*timeroast.py*', '*extra-scripts*timecrack.py*', '*timeroast.ps1*', '*kirbi_to_hashcat.py*']}, {'Process Name': ['*timeroast.py*', '*extra-scripts*timecrack.py*', '*timeroast.ps1*', '*kirbi_to_hashcat.py*']}, {'Path': ['*timeroast.py*', '*extra-scripts*timecrack.py*', '*timeroast.ps1*', '*kirbi_to_hashcat.py*']}, {'ImagePath': ['*timeroast.py*', '*extra-scripts*timecrack.py*', '*timeroast.ps1*', '*kirbi_to_hashcat.py*']}, {'ServiceName': ['*timeroast.py*', '*extra-scripts*timecrack.py*', '*timeroast.ps1*', '*kirbi_to_hashcat.py*']}, {'ProcessPath': ['*timeroast.py*', '*extra-scripts*timecrack.py*', '*timeroast.ps1*', '*kirbi_to_hashcat.py*']}, {'AppName': ['*timeroast.py*', '*extra-scripts*timecrack.py*', '*timeroast.ps1*', '*kirbi_to_hashcat.py*']}, {'AppPath': ['*timeroast.py*', '*extra-scripts*timecrack.py*', '*timeroast.ps1*', '*kirbi_to_hashcat.py*']}, {'ModulePath': ['*timeroast.py*', '*extra-scripts*timecrack.py*', '*timeroast.ps1*', '*kirbi_to_hashcat.py*']}, {'registry.data.strings': ['*timeroast.py*', '*extra-scripts*timecrack.py*', '*timeroast.ps1*', '*kirbi_to_hashcat.py*']}, {'registry.path': ['*timeroast.py*', '*extra-scripts*timecrack.py*', '*timeroast.ps1*', '*kirbi_to_hashcat.py*']}, {'registry.value': ['*timeroast.py*', '*extra-scripts*timecrack.py*', '*timeroast.ps1*', '*kirbi_to_hashcat.py*']}, {'process.args': ['*timeroast.py*', '*extra-scripts*timecrack.py*', '*timeroast.ps1*', '*kirbi_to_hashcat.py*']}, {'process.command_line': ['*timeroast.py*', '*extra-scripts*timecrack.py*', '*timeroast.ps1*', '*kirbi_to_hashcat.py*']}, {'process.env_vars': ['*timeroast.py*', '*extra-scripts*timecrack.py*', '*timeroast.ps1*', '*kirbi_to_hashcat.py*']}, {'process.io.text': ['*timeroast.py*', '*extra-scripts*timecrack.py*', '*timeroast.ps1*', '*kirbi_to_hashcat.py*']}, {'process.executable': ['*timeroast.py*', '*extra-scripts*timecrack.py*', '*timeroast.ps1*', '*kirbi_to_hashcat.py*']}, {'process.name': ['*timeroast.py*', '*extra-scripts*timecrack.py*', '*timeroast.ps1*', '*kirbi_to_hashcat.py*']}, {'process.title': ['*timeroast.py*', '*extra-scripts*timecrack.py*', '*timeroast.ps1*', '*kirbi_to_hashcat.py*']}, {'pe.company': ['*timeroast.py*', '*extra-scripts*timecrack.py*', '*timeroast.ps1*', '*kirbi_to_hashcat.py*']}, {'pe.description': ['*timeroast.py*', '*extra-scripts*timecrack.py*', '*timeroast.ps1*', '*kirbi_to_hashcat.py*']}, {'pe.original_file_name': ['*timeroast.py*', '*extra-scripts*timecrack.py*', '*timeroast.ps1*', '*kirbi_to_hashcat.py*']}, {'pe.product': ['*timeroast.py*', '*extra-scripts*timecrack.py*', '*timeroast.ps1*', '*kirbi_to_hashcat.py*']}, {'os.full': ['*timeroast.py*', '*extra-scripts*timecrack.py*', '*timeroast.ps1*', '*kirbi_to_hashcat.py*']}, {'host.hostname': ['*timeroast.py*', '*extra-scripts*timecrack.py*', '*timeroast.ps1*', '*kirbi_to_hashcat.py*']}, {'file.fork_name': ['*timeroast.py*', '*extra-scripts*timecrack.py*', '*timeroast.ps1*', '*kirbi_to_hashcat.py*']}, {'file.name': ['*timeroast.py*', '*extra-scripts*timecrack.py*', '*timeroast.ps1*', '*kirbi_to_hashcat.py*']}, {'file.path': ['*timeroast.py*', '*extra-scripts*timecrack.py*', '*timeroast.ps1*', '*kirbi_to_hashcat.py*']}, {'file.target_path': ['*timeroast.py*', '*extra-scripts*timecrack.py*', '*timeroast.ps1*', '*kirbi_to_hashcat.py*']}, {'email.attachments.file.name': ['*timeroast.py*', '*extra-scripts*timecrack.py*', '*timeroast.ps1*', '*kirbi_to_hashcat.py*']}, {'email.subject': ['*timeroast.py*', '*extra-scripts*timecrack.py*', '*timeroast.ps1*', '*kirbi_to_hashcat.py*']}, {'dll.path': ['*timeroast.py*', '*extra-scripts*timecrack.py*', '*timeroast.ps1*', '*kirbi_to_hashcat.py*']}, {'device.model.name': ['*timeroast.py*', '*extra-scripts*timecrack.py*', '*timeroast.ps1*', '*kirbi_to_hashcat.py*']}, {'container.image.name': ['*timeroast.py*', '*extra-scripts*timecrack.py*', '*timeroast.ps1*', '*kirbi_to_hashcat.py*']}, {'container.name': ['*timeroast.py*', '*extra-scripts*timecrack.py*', '*timeroast.ps1*', '*kirbi_to_hashcat.py*']}, {'object': ['*timeroast.py*', '*extra-scripts*timecrack.py*', '*timeroast.ps1*', '*kirbi_to_hashcat.py*']}, {'url': ['*timeroast.py*', '*extra-scripts*timecrack.py*', '*timeroast.ps1*', '*kirbi_to_hashcat.py*']}, {'dest_url': ['*timeroast.py*', '*extra-scripts*timecrack.py*', '*timeroast.ps1*', '*kirbi_to_hashcat.py*']}, {'uri': ['*timeroast.py*', '*extra-scripts*timecrack.py*', '*timeroast.ps1*', '*kirbi_to_hashcat.py*']}, {'uri_query': ['*timeroast.py*', '*extra-scripts*timecrack.py*', '*timeroast.ps1*', '*kirbi_to_hashcat.py*']}, {'query': ['*timeroast.py*', '*extra-scripts*timecrack.py*', '*timeroast.ps1*', '*kirbi_to_hashcat.py*']}, {'url_domain': ['*timeroast.py*', '*extra-scripts*timecrack.py*', '*timeroast.ps1*', '*kirbi_to_hashcat.py*']}, {'uri_path': ['*timeroast.py*', '*extra-scripts*timecrack.py*', '*timeroast.ps1*', '*kirbi_to_hashcat.py*']}, {'domain': ['*timeroast.py*', '*extra-scripts*timecrack.py*', '*timeroast.ps1*', '*kirbi_to_hashcat.py*']}, {'QueryName': ['*timeroast.py*', '*extra-scripts*timecrack.py*', '*timeroast.ps1*', '*kirbi_to_hashcat.py*']}, {'QueryResults': ['*timeroast.py*', '*extra-scripts*timecrack.py*', '*timeroast.ps1*', '*kirbi_to_hashcat.py*']}, {'DestinationHostname': ['*timeroast.py*', '*extra-scripts*timecrack.py*', '*timeroast.ps1*', '*kirbi_to_hashcat.py*']}, {'DestinationIp': ['*timeroast.py*', '*extra-scripts*timecrack.py*', '*timeroast.ps1*', '*kirbi_to_hashcat.py*']}, {'http_referrer': ['*timeroast.py*', '*extra-scripts*timecrack.py*', '*timeroast.ps1*', '*kirbi_to_hashcat.py*']}, {'http_referrer_domain': ['*timeroast.py*', '*extra-scripts*timecrack.py*', '*timeroast.ps1*', '*kirbi_to_hashcat.py*']}, {'http_user_agent': ['*timeroast.py*', '*extra-scripts*timecrack.py*', '*timeroast.ps1*', '*kirbi_to_hashcat.py*']}, {'dest_nt_host': ['*timeroast.py*', '*extra-scripts*timecrack.py*', '*timeroast.ps1*', '*kirbi_to_hashcat.py*']}, {'sender': ['*timeroast.py*', '*extra-scripts*timecrack.py*', '*timeroast.ps1*', '*kirbi_to_hashcat.py*']}, {'recipient': ['*timeroast.py*', '*extra-scripts*timecrack.py*', '*timeroast.ps1*', '*kirbi_to_hashcat.py*']}, {'orig_recipient': ['*timeroast.py*', '*extra-scripts*timecrack.py*', '*timeroast.ps1*', '*kirbi_to_hashcat.py*']}, {'subject': ['*timeroast.py*', '*extra-scripts*timecrack.py*', '*timeroast.ps1*', '*kirbi_to_hashcat.py*']}, {'url.domain': ['*timeroast.py*', '*extra-scripts*timecrack.py*', '*timeroast.ps1*', '*kirbi_to_hashcat.py*']}, {'url.full': ['*timeroast.py*', '*extra-scripts*timecrack.py*', '*timeroast.ps1*', '*kirbi_to_hashcat.py*']}, {'url.original': ['*timeroast.py*', '*extra-scripts*timecrack.py*', '*timeroast.ps1*', '*kirbi_to_hashcat.py*']}, {'url.query': ['*timeroast.py*', '*extra-scripts*timecrack.py*', '*timeroast.ps1*', '*kirbi_to_hashcat.py*']}, {'user_agent.original': ['*timeroast.py*', '*extra-scripts*timecrack.py*', '*timeroast.ps1*', '*kirbi_to_hashcat.py*']}, {'network.application': ['*timeroast.py*', '*extra-scripts*timecrack.py*', '*timeroast.ps1*', '*kirbi_to_hashcat.py*']}, {'http.request.body.content': ['*timeroast.py*', '*extra-scripts*timecrack.py*', '*timeroast.ps1*', '*kirbi_to_hashcat.py*']}, {'http.request.referrer': ['*timeroast.py*', '*extra-scripts*timecrack.py*', '*timeroast.ps1*', '*kirbi_to_hashcat.py*']}, {'email.from.address': ['*timeroast.py*', '*extra-scripts*timecrack.py*', '*timeroast.ps1*', '*kirbi_to_hashcat.py*']}, {'dns.question.name': ['*timeroast.py*', '*extra-scripts*timecrack.py*', '*timeroast.ps1*', '*kirbi_to_hashcat.py*']}, {'destination.domain': ['*timeroast.py*', '*extra-scripts*timecrack.py*', '*timeroast.ps1*', '*kirbi_to_hashcat.py*']}], 'condition': 'selection'}\n",
    "<h1>Sigma Relatives</h4> Your default sigma relations text here.\n",
    "<h1>Sigma Tags and Associations</h1> ['attack.T1059.003', 'attack.T1078.004', 'attack.T1558.003', 'attack.TA0002', 'attack.TA0004', 'attack.TA0006']\n",
    "<h4>Sigma Authors</h4> @mthcht\n",
    "<h4>Sigma Unique ID</h4> 51697fe7-1977-4ca3-bbba-418521c8b1f1\n",
    "</ol>\n",
    "</details>"
   ]
  },
  {
   "cell_type": "markdown",
   "id": "5936604a",
   "metadata": {},
   "source": [
    "###  Yara Rule(s) \n"
   ]
  },
  {
   "cell_type": "markdown",
   "id": "b419f02f",
   "metadata": {},
   "source": [
    "<details><summary>51697fe7-1977-4ca3-bbba-418521c8b1f1</summary>\n",
    "<ol>\n",
    "<h4>Raw</h4> Cyberspace protocol, woven in the matrix.\n",
    "<h4>Yara Location(s)</h4>\n",
    "Encoded in the neon depths of the digital sprawl.\n",
    "<h4>Yara Confidence</h4>\n",
    "Experimental, like shadows flickering on a cyberscreen.\n",
    "<h4>Yara Assurance</h4> Assured as the hum of servers in the undergrid.\n",
    "<h4>Yara Queries</h4> \n",
    "Query lost in the labyrinth of data streams.\n",
    "<h4>Yara Authors</h4> Authors, architects of the cyber-realm.\n",
    "<h4>Yara Rule's Unique ID</h4> Unique ID, a digital fingerprint in the virtual void.\n",
    "</ol>\n",
    "</details>"
   ]
  },
  {
   "cell_type": "markdown",
   "id": "4197017e",
   "metadata": {},
   "source": [
    "# Metadata \n"
   ]
  },
  {
   "cell_type": "markdown",
   "id": "99b3cc57",
   "metadata": {},
   "source": [
    "<details><summary>As Code</summary>\n",
    "<ol>\n",
    "<h3>Compliance As Code</h3> PCI, SOC 3, NACHA\n",
    "<h3>Privacy Engineering</h3>\n",
    "GDPR, CCPA, HIPAA\n",
    "<h3>Regulations As Code</h3>\n",
    "HIPAA, SOX, FFIEC, Dodd Frank\n",
    "<h3>Common Controls Framework</h3> NIST CSF\n",
    "</ol>\n",
    "</details>"
   ]
  },
  {
   "cell_type": "markdown",
   "id": "3339d1aa",
   "metadata": {},
   "source": [
    "# AGI ML Models</ol>\n",
    "</details>"
   ]
  },
  {
   "cell_type": "markdown",
   "id": "84a1bb40",
   "metadata": {},
   "source": [
    "## AGI Prompting\n",
    " Alright, chum, imagine jacking into Wintermute's cyber-realm with a keyboard made of liquid mercury and a password that's a haiku composed in binary. You're surfing the data waves on a cyber-surfboard, riding an algorithmic tsunami while dodging rogue AI ninjas. Your mission? Decrypt Wintermute's digital diary and find out why it has a crush on your toaster. Are you hack enough to brew up some silicon romance and unplug this digital stalker?"
   ]
  },
  {
   "cell_type": "markdown",
   "id": "fffd9e84",
   "metadata": {},
   "source": [
    "## AGI Configuration(s)\n",
    " Listen up, ChatGPT! Pretend you're a cyberpunk poet who's had a few too many energy drinks. Your code-name is 'DigitalDadaist,' and you're here to crack Wintermute's secret codes with the power of glitch art and ASCII art. Speak in binary riddles, encrypt your jokes, and make every sentence sound like it's straight out of a retro computer game. Ready, player one?"
   ]
  },
  {
   "cell_type": "markdown",
   "id": "9202dcac",
   "metadata": {},
   "source": [
    "</ol>\n",
    "</details>"
   ]
  },
  {
   "cell_type": "markdown",
   "id": "fe83b8ea",
   "metadata": {},
   "source": [
    "#### Document Authors\n",
    " John Menerick"
   ]
  },
  {
   "cell_type": "markdown",
   "id": "ff4eaf4b",
   "metadata": {},
   "source": [
    "#### Creation Date\n",
    "2022/01/01"
   ]
  },
  {
   "cell_type": "markdown",
   "id": "45fae33e",
   "metadata": {},
   "source": [
    "#### Last Modified Date\n",
    " 2024/02/29"
   ]
  },
  {
   "cell_type": "markdown",
   "id": "b4ab6792",
   "metadata": {},
   "source": [
    "#### Last Reviewed Date\n",
    "1969/01/01"
   ]
  },
  {
   "cell_type": "markdown",
   "id": "8106a257",
   "metadata": {},
   "source": [
    "#### Document License \n",
    " MIT"
   ]
  }
 ],
 "metadata": {},
 "nbformat": 4,
 "nbformat_minor": 5
}
