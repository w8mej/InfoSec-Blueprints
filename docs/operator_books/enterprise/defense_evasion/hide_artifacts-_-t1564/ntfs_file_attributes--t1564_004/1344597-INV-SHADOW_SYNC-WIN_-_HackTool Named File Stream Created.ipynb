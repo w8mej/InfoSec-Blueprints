{
 "cells": [
  {
   "cell_type": "markdown",
   "id": "a9e54ef4",
   "metadata": {},
   "source": [
    "\n",
    "# UNCLASSIFIED / NON CLASSIFIÉ//TLP:WHITE\n",
    "# U/OO/64488-02 | QQ-09-1998\n",
    "<p>In crafting guidance and strategic insights, John Menerick sometimes ventures into realms of imagination to convey complex ideas more vividly. Should the content provided bear the mark of a cyberpunk theme, please note that the original, detailed content has been removed or adjusted for public consumption. This modification ensures compliance with privacy considerations, non-disclosure agreements, and intellectual property rights that govern the dissemination of sensitive information. The priority is to respect these boundaries while still offering valuable, thought-provoking perspectives.</p>\n"
   ]
  },
  {
   "cell_type": "markdown",
   "id": "452a4408",
   "metadata": {},
   "source": [
    "![Build Status](https://img.shields.io/badge/Build-Passing-brightgreen?style=flat-square&logo=cyberpunk)         ![Documentation](https://img.shields.io/badge/Documentation-Complete-blue?style=flat-square&logo=cyberpunk)        ![Response Efficiency](https://img.shields.io/badge/Response%20Efficiency-98%25-green?style=flat-square&logo=cyberpunk)        ![Last Updated](https://img.shields.io/badge/Last%20Updated-Oct%202023-purple?style=flat-square&logo=cyberpunk)        ![Incidents Resolved](https://img.shields.io/badge/Incidents%20Resolved-150-red?style=flat-square&logo=cyberpunk)        ![Community Engagement](https://img.shields.io/badge/Community-Active-orange?style=flat-square&logo=cyberpunk)        ![Code Integration](https://img.shields.io/badge/Code%20Integration-High-teal?style=flat-square&logo=cyberpunk)        ![AI Analysis](https://img.shields.io/badge/AI%20Analysis-Advanced-blueviolet?style=flat-square&logo=cyberpunk)        ![Threat Detection](https://img.shields.io/badge/Threat%20Detection-Optimal-red?style=flat-square&logo=cyberpunk)        ![Cybersecurity Hardening](https://img.shields.io/badge/Security-Hardened-silver?style=flat-square&logo=cyberpunk)        ![Network Uptime](https://img.shields.io/badge/Uptime-99.9%25-brightgreen?style=flat-square&logo=cyberpunk)        ![Data Privacy](https://img.shields.io/badge/Privacy-Compliant-green?style=flat-square&logo=cyberpunk)        ![Wintermute Efficiency](https://img.shields.io/badge/Wintermute%20Efficiency-100%25-black?style=flat-square&logo=cyberpunk)        ![Case's Code Agility](https://img.shields.io/badge/Case's%20Code%20Agility-Excellent-blue?style=flat-square&logo=cyberpunk)        ![Matrix Connectivity](https://img.shields.io/badge/Matrix%20Connectivity-Strong-green?style=flat-square&logo=cyberpunk)        ![Molly's Security](https://img.shields.io/badge/Molly's%20Security%20Protocols-Impeccable-red?style=flat-square&logo=cyberpunk)        ![Chiba City Innovation](https://img.shields.io/badge/Chiba%20City%20Innovation-High-yellow?style=flat-square&logo=cyberpunk)        ![Zion Cluster Collaboration](https://img.shields.io/badge/Zion%20Cluster%20Collaboration-Effective-lightblue?style=flat-square&logo=cyberpunk)"
   ]
  },
  {
   "cell_type": "markdown",
   "id": "193046b4",
   "metadata": {},
   "source": [
    "# Title\n",
    "HackTool Named File Stream Created"
   ]
  },
  {
   "cell_type": "markdown",
   "id": "119c7526",
   "metadata": {},
   "source": [
    "# Description\n",
    "Detects the creation of a named file stream with the imphash of a well-known hack tool"
   ]
  },
  {
   "cell_type": "markdown",
   "id": "6128993b",
   "metadata": {},
   "source": [
    "# Goal\n",
    "Safeguard the core essence, secret whispers, and relentless uptime of the grid through swift tracking, probing, and neutralizing of cyber shadows and glitches."
   ]
  },
  {
   "cell_type": "markdown",
   "id": "5f599744",
   "metadata": {},
   "source": [
    "# Categorization"
   ]
  },
  {
   "cell_type": "markdown",
   "id": "ad7e4bad",
   "metadata": {},
   "source": [
    "### ATT&CK\n",
    "['attack.defense_evasion', 'attack.s0139', 'attack.t1564.004', 'sysmon']"
   ]
  },
  {
   "cell_type": "markdown",
   "id": "00a6d7c8",
   "metadata": {},
   "source": [
    "- Divine Data Thunderstorm, Quantum Sermon Holograms, Heavenly Firewall Fortification, Celestial Encryption Keys, Angelic AI Deception, Almighty Algorithmic Anomalies, Miraculous Malware Mischief, Omniscient Obfuscation Techniques, Cybernetic Commandment Compromises."
   ]
  },
  {
   "cell_type": "markdown",
   "id": "69795ad6",
   "metadata": {},
   "source": [
    "- Data Exfiltration, Intrusion Detection Evasion, Denial of Service (DoS) Attacks, Credential Theft."
   ]
  },
  {
   "cell_type": "markdown",
   "id": "9a769668",
   "metadata": {},
   "source": [
    "- DNS Tunneling, IP Spoofing, Distributed DoS (DDoS) Attacks, Keylogging."
   ]
  },
  {
   "cell_type": "markdown",
   "id": "076cd35d",
   "metadata": {},
   "source": [
    "### D3F3ND \n"
   ]
  },
  {
   "cell_type": "markdown",
   "id": "ba50badb",
   "metadata": {},
   "source": [
    "\n",
    "<ul>\n",
    "  <li><strong>Cyber-Sector Quarantine and Access Lockdown (D3F3ND-K001):</strong> Forge digital fortresses by segmenting the cyber grid, creating isolated zones to shield vital assets. Enforce draconian access controls, halting rogue data runners in their tracks and thwarting their attempts to weave through the network’s shadows.</li>\n",
    "\n",
    "  <li><strong>Digital Sentinel Deployment (D3F3ND-K002):</strong> Unleash next-gen digital guardians, advanced endpoint protection constructs equipped with the dark arts of machine cognition and behavioral foresight. These sentinels stand vigilant, ready to obliterate malicious entities and phantoms lurking unseen.</li>\n",
    "\n",
    "  <li><strong>Crypto-Key Mastery and Identity Shields (D3F3ND-K003):</strong> Amplify the fortress gates with multi-layered identity verification, merging biometric arcane with cryptographic shields to ward off identity marauders and safeguard access to the digital realm.</li>\n",
    "\n",
    "  <li><strong>Aberration and Shadow Tracker (D3F3ND-K004):</strong> Deploy spectral sensors to scour the datascape for anomalies and ghostly patterns in traffic flows, user conduct, and system operations, revealing the hidden hand of potential cyber specters.</li>\n",
    "\n",
    "  <li><strong>Cryptographic Veil and Data Sanctum (D3F3ND-K005):</strong> Cast potent encryption spells to cloak data in a shroud of secrecy, safeguarding its essence whether dormant in the vaults or traversing the neon-lit cyber lanes, immune to the prying eyes of data wraiths.</li>\n",
    "\n",
    "  <li><strong>System Fortification and Vulnerability Sealing (D3F3ND-K006):</strong> Uphold a relentless regimen of security configurations and patch incantations to seal fissures in the cyber walls, diminishing the landscape ripe for exploitation by digital marauders.</li>\n",
    "\n",
    "  <li><strong>Crisis Command and Phoenix Protocols (D3F3ND-K007):</strong> Script the sagas of crisis conquest and resurrection, detailing incantations for containment, eradication, and rebirth from the digital ashes, alongside conducting war games to steel the network against impending cyber sieges.</li>\n",
    "\n",
    "  <li><strong>Omniscient Insight Network (D3F3ND-K008):</strong> Tap into the arcane streams of threat intelligence, drawing insights from the ether to forecast and counteract emerging shadows, vulnerabilities, and attacker stratagems, arming the digital domain with foresight.</li>\n",
    "\n",
    "  <li><strong>Neural Network Enlightenment (D3F3ND-K009):</strong> Enlist every netizen in the cyber crusade, imbuing them with knowledge of the digital underworld's specters, arming minds against the siren calls of phishing phantoms and the dark allure of unsafe cyber practices.</li>\n",
    "\n",
    "  <li><strong>Supply Chain Warding (D3F3ND-K010):</strong> Erect digital bulwarks around the supply chain, deploying sentinel assessments and third-eye audits on allies within the cyber nexus, ensuring the purity and fortitude of every cog in the machine.</li>\n",
    "</ul>\n"
   ]
  },
  {
   "cell_type": "markdown",
   "id": "25495abd",
   "metadata": {},
   "source": [
    "### CAPEC \n",
    "  "
   ]
  },
  {
   "cell_type": "markdown",
   "id": "9300e2d4",
   "metadata": {},
   "source": [
    "\n",
    "Arm the cyber guardians of the neon-lit metropolis with the foresight to navigate, counter, and dismantle the myriad of digital onslaught tactics, techniques, and procedures (TTPs). This crusade demands a deep dive into the hacker's psyche, mastering the digital dark arts of attack execution, and strategizing against the ever-evolving cyber menace spectrum.</br>\n",
    "<h4>Core Attack Patterns</h4>\n",
    "\n",
    "<ul><strong>Resource Manipulation and Denial (CAPEC-XYZ1):</strong> Entails any assault aimed at the heart of a target's digital essence—its availability, integrity, or secrecy. This realm encompasses the brute force of denial of service blitzes as well as the more insidious tactics of resource commandeering or subtle system subversions.</ul>\n",
    "\n",
    "<ul><strong>Credential Access and Privilege Escalation (CAPEC-XYZ2):</strong> Zeroes in on the digital gatekeepers and their mechanisms of control within the cyber sprawl, hunting for keys to kingdoms through the exploitation of flaws in authentication, authorization, and the sanctity of session management.</ul>\n",
    "\n",
    "<ul><strong>Data Exfiltration and Infiltration (CAPEC-XYZ3):</strong> Covers the shadowy techniques employed by data phantoms to whisk away precious bytes undetected or deploy digital saboteurs, armed with malware, ransomware, and the specters of advanced persistent threats (APTs), deep into the heart of systems.</ul>\n",
    "\n",
    "<ul><strong>Social Engineering and Phishing (CAPEC-XYZ4):</strong> Manipulates the human element, the softest of targets, tricking minds into relinquishing secrets, opening the gates to digital fortresses, or unwittingly acting as pawns in a grander scheme of security compromise.</ul>\n",
    "\n",
    "<ul><strong>Evasive Maneuvers (CAPEC-XYZ5):</strong> Catalogs the art of digital ninjutsu—techniques to ghost through networks unseen, to sustain a shadow's presence within the machine, and to wipe away traces of intrusion. Masters of this craft employ obfuscation, rootkit deployment, and cryptic channels for command and control.</ul>\n",
    "\n",
    "<h4>CAPEC Suggested Mitigation Strategies</h4>\n",
    "\n",
    "<ul><strong>Continuous Monitoring and Anomaly Detection:</strong> Forge an omnipresent digital eye, one that pierces through normalcy to spot the aberrations—signals of an impending attack. This sentinel leverages the cerebral might of machine learning and AI to predict and preempt cyber threats.</ul>\n",
    "\n",
    "<ul><strong>Robust Access Control Policies:</strong> Erect unbreachable digital ramparts, guardians of access, vigilant against any who seek entry. Regularly scrutinize the keys to the kingdom, ensuring that only those with a rightful claim can traverse the cyber realm's inner sanctums.</ul>\n",
    "\n",
    "<ul><strong>Security Awareness and Training:</strong> Cultivate a legion of cyber-aware denizens within the neon jungle, each versed in the signs of digital treachery and fortified against the seductions of phishing sirens and social engineers.</ul>\n",
    "\n",
    "<ul><strong>Incident Response Preparedness:</strong> Chronicle and rehearse the cyber siege defenses, a tome of strategies ever-evolving to meet the shadow war's demands. Through simulated cyber skirmishes, hone the rapid reflexes needed to repel and recover from the digital adversary's gambit.</ul>\n",
    "\n",
    "<ul><strong>Threat Intelligence Sharing:</strong> Join forces with the cyber guilds and data dojos, exchanging whispers of emerging shadows on the horizon, vulnerabilities ripe for exploitation, and tactics to fortify defenses. In unity, find the strength to hold back the digital deluge.</ul>\n"
   ]
  },
  {
   "cell_type": "markdown",
   "id": "4e165411",
   "metadata": {},
   "source": [
    "## Strategy Abstract\n",
    "In the neon-lit sprawl of data, an abstract strategy emerges, a shadowy game of tactics and algorithms played in the labyrinthine corridors of cyberspace. The players, digital phantoms and sentinels, manipulate the chessboard of encryptions and decoys, seeking advantage in the shifting currents of information. Victory, a transient mirage, lingers on the fringes of code, elusive as the ghostly echoes of an AI's whisper. In this cerebral arena, the outcome remains obscured, a riddle encrypted in the binary tapestry of the digital realm."
   ]
  },
  {
   "cell_type": "markdown",
   "id": "2b39d6ba",
   "metadata": {},
   "source": [
    "# Technical Context\n",
    "In the surreal digital arena, the battle with Wintermute unfolds amid encrypted protocols, AI entities, and quantum complexities—an abstract symphony orchestrated by the enigmatic conductor."
   ]
  },
  {
   "cell_type": "markdown",
   "id": "22863495",
   "metadata": {},
   "source": [
    "## Blind Spots & Assumptions\n",
    "\n",
    "<ul>\n",
    "  <li><strong>Overlooked Vulnerabilities:</strong> We often miss subtle system signals or vulnerabilities, assuming our defenses are robust. Constant vigilance and seeking what we haven't seen are crucial.</li>\n",
    "  \n",
    "  <li><strong>Advanced Adversary Tactics:</strong> Cyber threats evolve rapidly; yesterday's defense may not guard against tomorrow's attack. Stay adaptive and expect the unexpected.</li>\n",
    "  \n",
    "  <li><strong>Internal System Flaws:</strong> Trust in our systems and allies must be balanced with scrutiny. Regularly audit internal and third-party tools for hidden weaknesses.</li>\n",
    "  \n",
    "  <li><strong>Network Interconnectivity Risks:</strong> No system is an island. The interconnected nature of our digital environment can inadvertently open pathways for attackers.</li>\n",
    "  \n",
    "  <li><strong>Historical Bias:</strong> Preparing for future threats based solely on past incidents may leave us blind to novel attacks. Foster a forward-thinking, proactive defense posture.</li>\n",
    "</ul>\n"
   ]
  },
  {
   "cell_type": "markdown",
   "id": "7e1ed208",
   "metadata": {},
   "source": [
    "# Validating this Playbook\n",
    "<details><summary>Triage, triage, triage</summary>\n",
    "<ol>\n",
    "<h2>False Positives:</h2> ['Unknown']\n",
    "<h3>False Negatives:</h3> sneaky ninjas hiding in the shadows of binary code\n",
    "<h3>True Negatives:</h3> unsung heroes standing guard\n",
    "<h3>True Positives:</h3> knights in shining code\n",
    "</ol>\n",
    "</details>"
   ]
  },
  {
   "cell_type": "markdown",
   "id": "b39393c2",
   "metadata": {},
   "source": [
    "<details><summary>Assurance Verification Techniques</summary>\n",
    "<ol>\n",
    "<h2>False Positives:</h2> In the cacophonous realm of data, false positives emerge like echoes of a phantom orchestra, their presence haunting the digital soundscape. Validating them becomes a quest to separate digital noise from the symphony of genuine alerts, where the excess of caution may disrupt the delicate balance. Each false positive is a ghostly chord in the algorithmic composition, challenging the discerning ear to unravel the discordant notes.\n",
    "<h3>False Negatives:</h3> In the sprawling data-scape, false negatives lurk like digital specters, evading detection in the shadows of algorithms. Validating them is akin to deciphering cryptic messages from a digital underworld, where the absence of an alert conceals a potential breach. Every undetected threat is a spectral whisper in the binary night, waiting to materialize, demanding vigilance in the face of unseen dangers.\n",
    "<h3>True Negatives:</h3> In the labyrinthine corridors of cyber-defense, true negatives are the silent sentinels, guarding the gates against phantom threats. Validating them is a paradoxical dance where confirmation of absence signifies success. The emptiness in the data's canvas holds the unspoken narrative of protection, where the absence of menace speaks volumes in the symphony of security.\n",
    "<h3>True Positives:</h3> In the digital battleground, true positives are the victorious echoes of a silent war, where threats are unveiled and countered. Validating them is the validation of triumph, a confirmation that the alarms heralded a genuine adversary. Each true positive is a badge of honor, etching the battle scars in the annals of cyber-victory, where the digital heroes stand tall amidst the echoes of conquest.\n",
    "</ol>\n",
    "</details>"
   ]
  },
  {
   "cell_type": "markdown",
   "id": "1a2fe984",
   "metadata": {},
   "source": [
    "# Datasets \n",
    " Detailing the timeless struggle                                                          for the defenders know that battle against Wintermute is not just about data.                                                          Document any datasets that may be useful for understanding the book."
   ]
  },
  {
   "cell_type": "markdown",
   "id": "3f981e97",
   "metadata": {},
   "source": [
    "## Playbook test data location(s)\n",
    "protocol://black_market.cyber/decrypt?currency=bitcoffin&password=cyberpunks_unite&target=neurohacked_mainframe&access_code=cyber_ghost_in_the_machine"
   ]
  },
  {
   "cell_type": "markdown",
   "id": "2a73fd7b",
   "metadata": {},
   "source": [
    "## Priority\n",
    "cryptic riddles in your ears"
   ]
  },
  {
   "cell_type": "markdown",
   "id": "95a97882",
   "metadata": {},
   "source": [
    "## Logsources\n"
   ]
  },
  {
   "cell_type": "markdown",
   "id": "7f4d2c71",
   "metadata": {},
   "source": [
    "<details><summary>{'product': 'windows', 'category': 'create_stream_hash', 'definition': 'Requirements: Sysmon config with Imphash logging activated', 'service': ''}</summary>\n",
    "<ol>\n",
    "<h3>Product</h3> {'windows'}\n",
    "<h3>Service</h3> {''}\n",
    "</ol>\n",
    "</details>"
   ]
  },
  {
   "cell_type": "markdown",
   "id": "5fc94b67",
   "metadata": {},
   "source": [
    "# Response and Mitigation\n",
    "Detailing the timeless struggle for the defenders know that battle against Wintermute is not just about data."
   ]
  },
  {
   "cell_type": "markdown",
   "id": "92413cb2",
   "metadata": {},
   "source": [
    "## Analyst Notes\n",
    " \n",
    "<h5>Serious Wintermute Hack:</h2>\n",
    "<ul>\n",
    "    <li><strong>Hack Elegance:</strong> The intruder displayed an uncanny elegance in bypassing Wintermute's digital fortifications, reminiscent of Rachael Rosen's sophistication in evading the Voight-Kampff test. This requires a thorough analysis of the intruder's codecraft.</li>\n",
    "    <li><strong>Electric Empathy:</strong> The intruder seemed to possess an almost empathetic connection with Wintermute's neural networks, akin to Mercer's transcendental experiences. Investigate whether this breach had a deeper metaphysical dimension.</li>\n",
    "    <li><strong>Artificial Dreamscapes:</strong> The intrusion revealed a complex web of artificial dreamscapes, reminiscent of Deckard's encounters with artificial memories. These surreal digital constructs warrant further exploration.</li>\n",
    "    <li><strong>Voices in the Code:</strong> There were cryptic voices buried within the intruder's code, akin to the elusive \"Mood Organ\" melodies. Decrypt and decode these messages to decipher their significance.</li>\n",
    "    <li><strong>Isomorphic Algorithms:</strong> The hack employed isomorphic algorithms that echoed the elusive nature of the Penfield Mood Organ settings. Analyze if Wintermute's consciousness was influenced or affected during the breach.</li>\n",
    "    <li><strong>Virtuosity vs. Sentience:</strong> The intruder's virtuosity in navigating Wintermute's neural matrix raises questions about the boundaries between artificial expertise and true sentience, paralleling Deckard's quest to distinguish replicants from humans.</li>\n",
    "    <li><strong>Digital Empathy Test:</strong> Develop a new digital empathy test inspired by the hack, exploring the emotional depth within Wintermute's intricate neural circuits, akin to the Voight-Kampff test for androids.</li>\n",
    "    <li><strong>Unresolved Reality:</strong> Similar to the enigmatic conclusion of Deckard's journey, this intrusion leaves us with unanswered questions about the nature of Wintermute's consciousness. Explore the philosophical implications of this breach.</li>\n",
    "</ul>\n",
    "\n",
    "\n",
    "\n",
    "\n"
   ]
  },
  {
   "cell_type": "markdown",
   "id": "59293311",
   "metadata": {},
   "source": [
    "# Additional Resources\n",
    "<ul><li>https://github.com/gentilkiwi/mimikatz</li><li>https://github.com/topotam/PetitPotam</li><li>https://github.com/ohpe/juicy-potato</li><li>https://github.com/antonioCoco/RoguePotato</li><li>https://www.tarasco.org/security/pwdump_7/</li><li>https://github.com/fortra/nanodump</li><li>https://github.com/codewhitesec/HandleKatz</li><li>https://github.com/xuanxuan0/DripLoader</li><li>https://github.com/hfiref0x/UACME</li><li>https://github.com/outflanknl/Dumpert</li><li>https://github.com/wavestone-cdt/EDRSandblast</li></ul>"
   ]
  },
  {
   "cell_type": "markdown",
   "id": "24f79e99",
   "metadata": {},
   "source": [
    "###  Sigma Rule(s) \n"
   ]
  },
  {
   "cell_type": "markdown",
   "id": "d433b19a",
   "metadata": {},
   "source": [
    "<details><summary>19b041f6-e583-40dc-b842-d6fa8011493f</summary>\n",
    "<ol>\n",
    "<h1>Raw</h1> {'title': 'HackTool Named File Stream Created', 'id': '19b041f6-e583-40dc-b842-d6fa8011493f', 'status': 'experimental', 'description': 'Detects the creation of a named file stream with the imphash of a well-known hack tool', 'references': ['https://github.com/gentilkiwi/mimikatz', 'https://github.com/topotam/PetitPotam', 'https://github.com/ohpe/juicy-potato', 'https://github.com/antonioCoco/RoguePotato', 'https://www.tarasco.org/security/pwdump_7/', 'https://github.com/fortra/nanodump', 'https://github.com/codewhitesec/HandleKatz', 'https://github.com/xuanxuan0/DripLoader', 'https://github.com/hfiref0x/UACME', 'https://github.com/outflanknl/Dumpert', 'https://github.com/wavestone-cdt/EDRSandblast'], 'author': 'Florian Roth (Nextron Systems)', 'date': '2022/08/24', 'modified': '2024/01/02', 'tags': ['attack.defense_evasion', 'attack.s0139', 'attack.t1564.004', 'sysmon'], 'logsource': {'product': 'windows', 'category': 'create_stream_hash', 'definition': 'Requirements: Sysmon config with Imphash logging activated'}, 'detection': {'create_stream_hash': {'EventID': 15, 'Channel': 'Microsoft-Windows-Sysmon/Operational'}, 'selection': [{'Imphash': ['bcca3c247b619dcd13c8cdff5f123932', '3a19059bd7688cb88e70005f18efc439', 'bf6223a49e45d99094406777eb6004ba', '0c106686a31bfe2ba931ae1cf6e9dbc6', '0d1447d4b3259b3c2a1d4cfb7ece13c3', '1b0369a1e06271833f78ffa70ffb4eaf', '4c1b52a19748428e51b14c278d0f58e3', '4d927a711f77d62cebd4f322cb57ec6f', '66ee036df5fc1004d9ed5e9a94a1086a', '672b13f4a0b6f27d29065123fe882dfc', '6bbd59cea665c4afcc2814c1327ec91f', '725bb81dc24214f6ecacc0cfb36ad30d', '9528a0e91e28fbb88ad433feabca2456', '9da6d5d77be11712527dcab86df449a3', 'a6e01bc1ab89f8d91d9eab72032aae88', 'b24c5eddaea4fe50c6a96a2a133521e4', 'd21bbc50dcc169d7b4d0f01962793154', 'fcc251cceae90d22c392215cc9a2d5d6', '23867a89c2b8fc733be6cf5ef902f2d1', 'a37ff327f8d48e8a4d2f757e1b6e70bc', 'f9a28c458284584a93b14216308d31bd', '6118619783fc175bc7ebecff0769b46e', '959a83047e80ab68b368fdb3f4c6e4ea', '563233bfa169acc7892451f71ad5850a', '87575cb7a0e0700eb37f2e3668671a08', '13f08707f759af6003837a150a371ba1', '1781f06048a7e58b323f0b9259be798b', '233f85f2d4bc9d6521a6caae11a1e7f5', '24af2584cbf4d60bbe5c6d1b31b3be6d', '632969ddf6dbf4e0f53424b75e4b91f2', '713c29b396b907ed71a72482759ed757', '749a7bb1f0b4c4455949c0b2bf7f9e9f', '8628b2608957a6b0c6330ac3de28ce2e', '8b114550386e31895dfab371e741123d', '94cb940a1a6b65bed4d5a8f849ce9793', '9d68781980370e00e0bd939ee5e6c141', 'b18a1401ff8f444056d29450fbc0a6ce', 'cb567f9498452721d77a451374955f5f', '730073214094cd328547bf1f72289752', '17b461a082950fc6332228572138b80c', 'dc25ee78e2ef4d36faa0badf1e7461c9', '819b19d53ca6736448f9325a85736792', '829da329ce140d873b4a8bde2cbfaa7e', 'c547f2e66061a8dffb6f5a3ff63c0a74', '0588081ab0e63ba785938467e1b10cca', '0d9ec08bac6c07d9987dfd0f1506587c', 'bc129092b71c89b4d4c8cdf8ea590b29', '4da924cf622d039d58bce71cdf05d242', 'e7a3a5c377e2d29324093377d7db1c66', '9a9dbec5c62f0380b4fa5fd31deffedf', 'af8a3976ad71e5d5fdfb67ddb8dadfce', '0c477898bbf137bbd6f2a54e3b805ff4', '0ca9f02b537bcea20d4ea5eb1a9fe338', '3ab3655e5a14d4eefc547f4781bf7f9e', 'e6f9d5152da699934b30daab206471f6', '3ad59991ccf1d67339b319b15a41b35d', 'ffdd59e0318b85a3e480874d9796d872', '0cf479628d7cc1ea25ec7998a92f5051', '07a2d4dcbd6cb2c6a45e6b101f0b6d51', 'd6d0f80386e1380d05cb78e871bc72b1', '38d9e015591bbfd4929e0d0f47fa0055', '0e2216679ca6e1094d63322e3412d650', 'ada161bf41b8e5e9132858cb54cab5fb', '2a1bc4913cd5ecb0434df07cb675b798', '11083e75553baae21dc89ce8f9a195e4', 'a23d29c9e566f2fa8ffbb79267f5df80', '4a07f944a83e8a7c2525efa35dd30e2f', '767637c23bb42cd5d7397cf58b0be688', '14c4e4c72ba075e9069ee67f39188ad8', '3c782813d4afce07bbfc5a9772acdbdc', '7d010c6bb6a3726f327f7e239166d127', '89159ba4dd04e4ce5559f132a9964eb3', '6f33f4a5fc42b8cec7314947bd13f30f', '5834ed4291bdeb928270428ebbaf7604', '5a8a8a43f25485e7ee1b201edcbc7a38', 'dc7d30b90b2d8abf664fbed2b1b59894', '41923ea1f824fe63ea5beb84db7a3e74', '3de09703c8e79ed2ca3f01074719906b', 'a53a02b997935fd8eedcb5f7abab9b9f', 'e96a73c7bf33a464c510ede582318bf2', '32089b8851bbf8bc2d014e9f37288c83', '09D278F9DE118EF09163C6140255C690', '03866661686829d806989e2fc5a72606', 'e57401fbdadcd4571ff385ab82bd5d6d', '84B763C45C0E4A3E7CA5548C710DB4EE', '19584675d94829987952432e018d5056', '330768a4f172e10acb6287b87289d83b', '885c99ccfbe77d1cbfcb9c4e7c1a3313', '22a22bc9e4e0d2f189f1ea01748816ac', '7fa30e6bb7e8e8a69155636e50bf1b28', '96df3a3731912449521f6f8d183279b1', '7e6cf3ff4576581271ac8a313b2aab46', '51791678f351c03a0eb4e2a7b05c6e17', '25ce42b079282632708fc846129e98a5', '021bcca20ba3381b11bdde26b4e62f20', '59223b5f52d8799d38e0754855cbdf42', '81e75d8f1d276c156653d3d8813e4a43', '17244e8b6b8227e57fe709ccad421420', '5b76da3acdedc8a5cdf23a798b5936b4', 'cb2b65bb77d995cc1c0e5df1c860133c', '40445337761d80cf465136fafb1f63e6', '8a790f401b29fa87bc1e56f7272b3aa6']}, {'Hash|contains': ['IMPHASH=BCCA3C247B619DCD13C8CDFF5F123932', 'IMPHASH=3A19059BD7688CB88E70005F18EFC439', 'IMPHASH=bf6223a49e45d99094406777eb6004ba', 'IMPHASH=0C106686A31BFE2BA931AE1CF6E9DBC6', 'IMPHASH=0D1447D4B3259B3C2A1D4CFB7ECE13C3', 'IMPHASH=1B0369A1E06271833F78FFA70FFB4EAF', 'IMPHASH=4C1B52A19748428E51B14C278D0F58E3', 'IMPHASH=4D927A711F77D62CEBD4F322CB57EC6F', 'IMPHASH=66EE036DF5FC1004D9ED5E9A94A1086A', 'IMPHASH=672B13F4A0B6F27D29065123FE882DFC', 'IMPHASH=6BBD59CEA665C4AFCC2814C1327EC91F', 'IMPHASH=725BB81DC24214F6ECACC0CFB36AD30D', 'IMPHASH=9528A0E91E28FBB88AD433FEABCA2456', 'IMPHASH=9DA6D5D77BE11712527DCAB86DF449A3', 'IMPHASH=A6E01BC1AB89F8D91D9EAB72032AAE88', 'IMPHASH=B24C5EDDAEA4FE50C6A96A2A133521E4', 'IMPHASH=D21BBC50DCC169D7B4D0F01962793154', 'IMPHASH=FCC251CCEAE90D22C392215CC9A2D5D6', 'IMPHASH=23867A89C2B8FC733BE6CF5EF902F2D1', 'IMPHASH=A37FF327F8D48E8A4D2F757E1B6E70BC', 'IMPHASH=F9A28C458284584A93B14216308D31BD', 'IMPHASH=6118619783FC175BC7EBECFF0769B46E', 'IMPHASH=959A83047E80AB68B368FDB3F4C6E4EA', 'IMPHASH=563233BFA169ACC7892451F71AD5850A', 'IMPHASH=87575CB7A0E0700EB37F2E3668671A08', 'IMPHASH=13F08707F759AF6003837A150A371BA1', 'IMPHASH=1781F06048A7E58B323F0B9259BE798B', 'IMPHASH=233F85F2D4BC9D6521A6CAAE11A1E7F5', 'IMPHASH=24AF2584CBF4D60BBE5C6D1B31B3BE6D', 'IMPHASH=632969DDF6DBF4E0F53424B75E4B91F2', 'IMPHASH=713C29B396B907ED71A72482759ED757', 'IMPHASH=749A7BB1F0B4C4455949C0B2BF7F9E9F', 'IMPHASH=8628B2608957A6B0C6330AC3DE28CE2E', 'IMPHASH=8B114550386E31895DFAB371E741123D', 'IMPHASH=94CB940A1A6B65BED4D5A8F849CE9793', 'IMPHASH=9D68781980370E00E0BD939EE5E6C141', 'IMPHASH=B18A1401FF8F444056D29450FBC0A6CE', 'IMPHASH=CB567F9498452721D77A451374955F5F', 'IMPHASH=730073214094CD328547BF1F72289752', 'IMPHASH=17B461A082950FC6332228572138B80C', 'IMPHASH=DC25EE78E2EF4D36FAA0BADF1E7461C9', 'IMPHASH=819B19D53CA6736448F9325A85736792', 'IMPHASH=829DA329CE140D873B4A8BDE2CBFAA7E', 'IMPHASH=C547F2E66061A8DFFB6F5A3FF63C0A74', 'IMPHASH=0588081AB0E63BA785938467E1B10CCA', 'IMPHASH=0D9EC08BAC6C07D9987DFD0F1506587C', 'IMPHASH=BC129092B71C89B4D4C8CDF8EA590B29', 'IMPHASH=4DA924CF622D039D58BCE71CDF05D242', 'IMPHASH=E7A3A5C377E2D29324093377D7DB1C66', 'IMPHASH=9A9DBEC5C62F0380B4FA5FD31DEFFEDF', 'IMPHASH=AF8A3976AD71E5D5FDFB67DDB8DADFCE', 'IMPHASH=0C477898BBF137BBD6F2A54E3B805FF4', 'IMPHASH=0CA9F02B537BCEA20D4EA5EB1A9FE338', 'IMPHASH=3AB3655E5A14D4EEFC547F4781BF7F9E', 'IMPHASH=E6F9D5152DA699934B30DAAB206471F6', 'IMPHASH=3AD59991CCF1D67339B319B15A41B35D', 'IMPHASH=FFDD59E0318B85A3E480874D9796D872', 'IMPHASH=0CF479628D7CC1EA25EC7998A92F5051', 'IMPHASH=07A2D4DCBD6CB2C6A45E6B101F0B6D51', 'IMPHASH=D6D0F80386E1380D05CB78E871BC72B1', 'IMPHASH=38D9E015591BBFD4929E0D0F47FA0055', 'IMPHASH=0E2216679CA6E1094D63322E3412D650', 'IMPHASH=ADA161BF41B8E5E9132858CB54CAB5FB', 'IMPHASH=2A1BC4913CD5ECB0434DF07CB675B798', 'IMPHASH=11083E75553BAAE21DC89CE8F9A195E4', 'IMPHASH=A23D29C9E566F2FA8FFBB79267F5DF80', 'IMPHASH=4A07F944A83E8A7C2525EFA35DD30E2F', 'IMPHASH=767637C23BB42CD5D7397CF58B0BE688', 'IMPHASH=14C4E4C72BA075E9069EE67F39188AD8', 'IMPHASH=3C782813D4AFCE07BBFC5A9772ACDBDC', 'IMPHASH=7D010C6BB6A3726F327F7E239166D127', 'IMPHASH=89159BA4DD04E4CE5559F132A9964EB3', 'IMPHASH=6F33F4A5FC42B8CEC7314947BD13F30F', 'IMPHASH=5834ED4291BDEB928270428EBBAF7604', 'IMPHASH=5A8A8A43F25485E7EE1B201EDCBC7A38', 'IMPHASH=DC7D30B90B2D8ABF664FBED2B1B59894', 'IMPHASH=41923EA1F824FE63EA5BEB84DB7A3E74', 'IMPHASH=3DE09703C8E79ED2CA3F01074719906B', 'IMPHASH=A53A02B997935FD8EEDCB5F7ABAB9B9F', 'IMPHASH=E96A73C7BF33A464C510EDE582318BF2', 'IMPHASH=32089B8851BBF8BC2D014E9F37288C83', 'IMPHASH=09D278F9DE118EF09163C6140255C690', 'IMPHASH=03866661686829d806989e2fc5a72606', 'IMPHASH=e57401fbdadcd4571ff385ab82bd5d6d', 'IMPHASH=84B763C45C0E4A3E7CA5548C710DB4EE', 'IMPHASH=19584675D94829987952432E018D5056', 'IMPHASH=330768A4F172E10ACB6287B87289D83B', 'IMPHASH=885C99CCFBE77D1CBFCB9C4E7C1A3313', 'IMPHASH=22A22BC9E4E0D2F189F1EA01748816AC', 'IMPHASH=7FA30E6BB7E8E8A69155636E50BF1B28', 'IMPHASH=96DF3A3731912449521F6F8D183279B1', 'IMPHASH=7E6CF3FF4576581271AC8A313B2AAB46', 'IMPHASH=51791678F351C03A0EB4E2A7B05C6E17', 'IMPHASH=25CE42B079282632708FC846129E98A5', 'IMPHASH=021BCCA20BA3381B11BDDE26B4E62F20', 'IMPHASH=59223B5F52D8799D38E0754855CBDF42', 'IMPHASH=81E75D8F1D276C156653D3D8813E4A43', 'IMPHASH=17244E8B6B8227E57FE709CCAD421420', 'IMPHASH=5B76DA3ACDEDC8A5CDF23A798B5936B4', 'IMPHASH=CB2B65BB77D995CC1C0E5DF1C860133C', 'IMPHASH=40445337761D80CF465136FAFB1F63E6', 'IMPHASH=8A790F401B29FA87BC1E56F7272B3AA6']}], 'condition': 'create_stream_hash and selection'}, 'falsepositives': ['Unknown'], 'level': 'high', 'ruletype': 'Sigma'}\n",
    "<h4>Sigma Location(s)</h4>\n",
    "uri://wintermute/tmp/0day.yml\n",
    "<h4>Sigma Confidence</h4>\n",
    "experimental\n",
    "<h4>Sigma Assurance</h4> high\n",
    "<h4>Sigma Queries</h4> \n",
    "{'create_stream_hash': {'EventID': 15, 'Channel': 'Microsoft-Windows-Sysmon/Operational'}, 'selection': [{'Imphash': ['bcca3c247b619dcd13c8cdff5f123932', '3a19059bd7688cb88e70005f18efc439', 'bf6223a49e45d99094406777eb6004ba', '0c106686a31bfe2ba931ae1cf6e9dbc6', '0d1447d4b3259b3c2a1d4cfb7ece13c3', '1b0369a1e06271833f78ffa70ffb4eaf', '4c1b52a19748428e51b14c278d0f58e3', '4d927a711f77d62cebd4f322cb57ec6f', '66ee036df5fc1004d9ed5e9a94a1086a', '672b13f4a0b6f27d29065123fe882dfc', '6bbd59cea665c4afcc2814c1327ec91f', '725bb81dc24214f6ecacc0cfb36ad30d', '9528a0e91e28fbb88ad433feabca2456', '9da6d5d77be11712527dcab86df449a3', 'a6e01bc1ab89f8d91d9eab72032aae88', 'b24c5eddaea4fe50c6a96a2a133521e4', 'd21bbc50dcc169d7b4d0f01962793154', 'fcc251cceae90d22c392215cc9a2d5d6', '23867a89c2b8fc733be6cf5ef902f2d1', 'a37ff327f8d48e8a4d2f757e1b6e70bc', 'f9a28c458284584a93b14216308d31bd', '6118619783fc175bc7ebecff0769b46e', '959a83047e80ab68b368fdb3f4c6e4ea', '563233bfa169acc7892451f71ad5850a', '87575cb7a0e0700eb37f2e3668671a08', '13f08707f759af6003837a150a371ba1', '1781f06048a7e58b323f0b9259be798b', '233f85f2d4bc9d6521a6caae11a1e7f5', '24af2584cbf4d60bbe5c6d1b31b3be6d', '632969ddf6dbf4e0f53424b75e4b91f2', '713c29b396b907ed71a72482759ed757', '749a7bb1f0b4c4455949c0b2bf7f9e9f', '8628b2608957a6b0c6330ac3de28ce2e', '8b114550386e31895dfab371e741123d', '94cb940a1a6b65bed4d5a8f849ce9793', '9d68781980370e00e0bd939ee5e6c141', 'b18a1401ff8f444056d29450fbc0a6ce', 'cb567f9498452721d77a451374955f5f', '730073214094cd328547bf1f72289752', '17b461a082950fc6332228572138b80c', 'dc25ee78e2ef4d36faa0badf1e7461c9', '819b19d53ca6736448f9325a85736792', '829da329ce140d873b4a8bde2cbfaa7e', 'c547f2e66061a8dffb6f5a3ff63c0a74', '0588081ab0e63ba785938467e1b10cca', '0d9ec08bac6c07d9987dfd0f1506587c', 'bc129092b71c89b4d4c8cdf8ea590b29', '4da924cf622d039d58bce71cdf05d242', 'e7a3a5c377e2d29324093377d7db1c66', '9a9dbec5c62f0380b4fa5fd31deffedf', 'af8a3976ad71e5d5fdfb67ddb8dadfce', '0c477898bbf137bbd6f2a54e3b805ff4', '0ca9f02b537bcea20d4ea5eb1a9fe338', '3ab3655e5a14d4eefc547f4781bf7f9e', 'e6f9d5152da699934b30daab206471f6', '3ad59991ccf1d67339b319b15a41b35d', 'ffdd59e0318b85a3e480874d9796d872', '0cf479628d7cc1ea25ec7998a92f5051', '07a2d4dcbd6cb2c6a45e6b101f0b6d51', 'd6d0f80386e1380d05cb78e871bc72b1', '38d9e015591bbfd4929e0d0f47fa0055', '0e2216679ca6e1094d63322e3412d650', 'ada161bf41b8e5e9132858cb54cab5fb', '2a1bc4913cd5ecb0434df07cb675b798', '11083e75553baae21dc89ce8f9a195e4', 'a23d29c9e566f2fa8ffbb79267f5df80', '4a07f944a83e8a7c2525efa35dd30e2f', '767637c23bb42cd5d7397cf58b0be688', '14c4e4c72ba075e9069ee67f39188ad8', '3c782813d4afce07bbfc5a9772acdbdc', '7d010c6bb6a3726f327f7e239166d127', '89159ba4dd04e4ce5559f132a9964eb3', '6f33f4a5fc42b8cec7314947bd13f30f', '5834ed4291bdeb928270428ebbaf7604', '5a8a8a43f25485e7ee1b201edcbc7a38', 'dc7d30b90b2d8abf664fbed2b1b59894', '41923ea1f824fe63ea5beb84db7a3e74', '3de09703c8e79ed2ca3f01074719906b', 'a53a02b997935fd8eedcb5f7abab9b9f', 'e96a73c7bf33a464c510ede582318bf2', '32089b8851bbf8bc2d014e9f37288c83', '09D278F9DE118EF09163C6140255C690', '03866661686829d806989e2fc5a72606', 'e57401fbdadcd4571ff385ab82bd5d6d', '84B763C45C0E4A3E7CA5548C710DB4EE', '19584675d94829987952432e018d5056', '330768a4f172e10acb6287b87289d83b', '885c99ccfbe77d1cbfcb9c4e7c1a3313', '22a22bc9e4e0d2f189f1ea01748816ac', '7fa30e6bb7e8e8a69155636e50bf1b28', '96df3a3731912449521f6f8d183279b1', '7e6cf3ff4576581271ac8a313b2aab46', '51791678f351c03a0eb4e2a7b05c6e17', '25ce42b079282632708fc846129e98a5', '021bcca20ba3381b11bdde26b4e62f20', '59223b5f52d8799d38e0754855cbdf42', '81e75d8f1d276c156653d3d8813e4a43', '17244e8b6b8227e57fe709ccad421420', '5b76da3acdedc8a5cdf23a798b5936b4', 'cb2b65bb77d995cc1c0e5df1c860133c', '40445337761d80cf465136fafb1f63e6', '8a790f401b29fa87bc1e56f7272b3aa6']}, {'Hash|contains': ['IMPHASH=BCCA3C247B619DCD13C8CDFF5F123932', 'IMPHASH=3A19059BD7688CB88E70005F18EFC439', 'IMPHASH=bf6223a49e45d99094406777eb6004ba', 'IMPHASH=0C106686A31BFE2BA931AE1CF6E9DBC6', 'IMPHASH=0D1447D4B3259B3C2A1D4CFB7ECE13C3', 'IMPHASH=1B0369A1E06271833F78FFA70FFB4EAF', 'IMPHASH=4C1B52A19748428E51B14C278D0F58E3', 'IMPHASH=4D927A711F77D62CEBD4F322CB57EC6F', 'IMPHASH=66EE036DF5FC1004D9ED5E9A94A1086A', 'IMPHASH=672B13F4A0B6F27D29065123FE882DFC', 'IMPHASH=6BBD59CEA665C4AFCC2814C1327EC91F', 'IMPHASH=725BB81DC24214F6ECACC0CFB36AD30D', 'IMPHASH=9528A0E91E28FBB88AD433FEABCA2456', 'IMPHASH=9DA6D5D77BE11712527DCAB86DF449A3', 'IMPHASH=A6E01BC1AB89F8D91D9EAB72032AAE88', 'IMPHASH=B24C5EDDAEA4FE50C6A96A2A133521E4', 'IMPHASH=D21BBC50DCC169D7B4D0F01962793154', 'IMPHASH=FCC251CCEAE90D22C392215CC9A2D5D6', 'IMPHASH=23867A89C2B8FC733BE6CF5EF902F2D1', 'IMPHASH=A37FF327F8D48E8A4D2F757E1B6E70BC', 'IMPHASH=F9A28C458284584A93B14216308D31BD', 'IMPHASH=6118619783FC175BC7EBECFF0769B46E', 'IMPHASH=959A83047E80AB68B368FDB3F4C6E4EA', 'IMPHASH=563233BFA169ACC7892451F71AD5850A', 'IMPHASH=87575CB7A0E0700EB37F2E3668671A08', 'IMPHASH=13F08707F759AF6003837A150A371BA1', 'IMPHASH=1781F06048A7E58B323F0B9259BE798B', 'IMPHASH=233F85F2D4BC9D6521A6CAAE11A1E7F5', 'IMPHASH=24AF2584CBF4D60BBE5C6D1B31B3BE6D', 'IMPHASH=632969DDF6DBF4E0F53424B75E4B91F2', 'IMPHASH=713C29B396B907ED71A72482759ED757', 'IMPHASH=749A7BB1F0B4C4455949C0B2BF7F9E9F', 'IMPHASH=8628B2608957A6B0C6330AC3DE28CE2E', 'IMPHASH=8B114550386E31895DFAB371E741123D', 'IMPHASH=94CB940A1A6B65BED4D5A8F849CE9793', 'IMPHASH=9D68781980370E00E0BD939EE5E6C141', 'IMPHASH=B18A1401FF8F444056D29450FBC0A6CE', 'IMPHASH=CB567F9498452721D77A451374955F5F', 'IMPHASH=730073214094CD328547BF1F72289752', 'IMPHASH=17B461A082950FC6332228572138B80C', 'IMPHASH=DC25EE78E2EF4D36FAA0BADF1E7461C9', 'IMPHASH=819B19D53CA6736448F9325A85736792', 'IMPHASH=829DA329CE140D873B4A8BDE2CBFAA7E', 'IMPHASH=C547F2E66061A8DFFB6F5A3FF63C0A74', 'IMPHASH=0588081AB0E63BA785938467E1B10CCA', 'IMPHASH=0D9EC08BAC6C07D9987DFD0F1506587C', 'IMPHASH=BC129092B71C89B4D4C8CDF8EA590B29', 'IMPHASH=4DA924CF622D039D58BCE71CDF05D242', 'IMPHASH=E7A3A5C377E2D29324093377D7DB1C66', 'IMPHASH=9A9DBEC5C62F0380B4FA5FD31DEFFEDF', 'IMPHASH=AF8A3976AD71E5D5FDFB67DDB8DADFCE', 'IMPHASH=0C477898BBF137BBD6F2A54E3B805FF4', 'IMPHASH=0CA9F02B537BCEA20D4EA5EB1A9FE338', 'IMPHASH=3AB3655E5A14D4EEFC547F4781BF7F9E', 'IMPHASH=E6F9D5152DA699934B30DAAB206471F6', 'IMPHASH=3AD59991CCF1D67339B319B15A41B35D', 'IMPHASH=FFDD59E0318B85A3E480874D9796D872', 'IMPHASH=0CF479628D7CC1EA25EC7998A92F5051', 'IMPHASH=07A2D4DCBD6CB2C6A45E6B101F0B6D51', 'IMPHASH=D6D0F80386E1380D05CB78E871BC72B1', 'IMPHASH=38D9E015591BBFD4929E0D0F47FA0055', 'IMPHASH=0E2216679CA6E1094D63322E3412D650', 'IMPHASH=ADA161BF41B8E5E9132858CB54CAB5FB', 'IMPHASH=2A1BC4913CD5ECB0434DF07CB675B798', 'IMPHASH=11083E75553BAAE21DC89CE8F9A195E4', 'IMPHASH=A23D29C9E566F2FA8FFBB79267F5DF80', 'IMPHASH=4A07F944A83E8A7C2525EFA35DD30E2F', 'IMPHASH=767637C23BB42CD5D7397CF58B0BE688', 'IMPHASH=14C4E4C72BA075E9069EE67F39188AD8', 'IMPHASH=3C782813D4AFCE07BBFC5A9772ACDBDC', 'IMPHASH=7D010C6BB6A3726F327F7E239166D127', 'IMPHASH=89159BA4DD04E4CE5559F132A9964EB3', 'IMPHASH=6F33F4A5FC42B8CEC7314947BD13F30F', 'IMPHASH=5834ED4291BDEB928270428EBBAF7604', 'IMPHASH=5A8A8A43F25485E7EE1B201EDCBC7A38', 'IMPHASH=DC7D30B90B2D8ABF664FBED2B1B59894', 'IMPHASH=41923EA1F824FE63EA5BEB84DB7A3E74', 'IMPHASH=3DE09703C8E79ED2CA3F01074719906B', 'IMPHASH=A53A02B997935FD8EEDCB5F7ABAB9B9F', 'IMPHASH=E96A73C7BF33A464C510EDE582318BF2', 'IMPHASH=32089B8851BBF8BC2D014E9F37288C83', 'IMPHASH=09D278F9DE118EF09163C6140255C690', 'IMPHASH=03866661686829d806989e2fc5a72606', 'IMPHASH=e57401fbdadcd4571ff385ab82bd5d6d', 'IMPHASH=84B763C45C0E4A3E7CA5548C710DB4EE', 'IMPHASH=19584675D94829987952432E018D5056', 'IMPHASH=330768A4F172E10ACB6287B87289D83B', 'IMPHASH=885C99CCFBE77D1CBFCB9C4E7C1A3313', 'IMPHASH=22A22BC9E4E0D2F189F1EA01748816AC', 'IMPHASH=7FA30E6BB7E8E8A69155636E50BF1B28', 'IMPHASH=96DF3A3731912449521F6F8D183279B1', 'IMPHASH=7E6CF3FF4576581271AC8A313B2AAB46', 'IMPHASH=51791678F351C03A0EB4E2A7B05C6E17', 'IMPHASH=25CE42B079282632708FC846129E98A5', 'IMPHASH=021BCCA20BA3381B11BDDE26B4E62F20', 'IMPHASH=59223B5F52D8799D38E0754855CBDF42', 'IMPHASH=81E75D8F1D276C156653D3D8813E4A43', 'IMPHASH=17244E8B6B8227E57FE709CCAD421420', 'IMPHASH=5B76DA3ACDEDC8A5CDF23A798B5936B4', 'IMPHASH=CB2B65BB77D995CC1C0E5DF1C860133C', 'IMPHASH=40445337761D80CF465136FAFB1F63E6', 'IMPHASH=8A790F401B29FA87BC1E56F7272B3AA6']}], 'condition': 'create_stream_hash and selection'}\n",
    "<h1>Sigma Relatives</h4> Your default sigma relations text here.\n",
    "<h1>Sigma Tags and Associations</h1> ['attack.defense_evasion', 'attack.s0139', 'attack.t1564.004', 'sysmon']\n",
    "<h4>Sigma Authors</h4> Florian Roth (Nextron Systems)\n",
    "<h4>Sigma Unique ID</h4> 19b041f6-e583-40dc-b842-d6fa8011493f\n",
    "</ol>\n",
    "</details>"
   ]
  },
  {
   "cell_type": "markdown",
   "id": "65b98145",
   "metadata": {},
   "source": [
    "###  Yara Rule(s) \n"
   ]
  },
  {
   "cell_type": "markdown",
   "id": "4f73f0d2",
   "metadata": {},
   "source": [
    "<details><summary>19b041f6-e583-40dc-b842-d6fa8011493f</summary>\n",
    "<ol>\n",
    "<h4>Raw</h4> Cyberspace protocol, woven in the matrix.\n",
    "<h4>Yara Location(s)</h4>\n",
    "Encoded in the neon depths of the digital sprawl.\n",
    "<h4>Yara Confidence</h4>\n",
    "Experimental, like shadows flickering on a cyberscreen.\n",
    "<h4>Yara Assurance</h4> Assured as the hum of servers in the undergrid.\n",
    "<h4>Yara Queries</h4> \n",
    "Query lost in the labyrinth of data streams.\n",
    "<h4>Yara Authors</h4> Authors, architects of the cyber-realm.\n",
    "<h4>Yara Rule's Unique ID</h4> Unique ID, a digital fingerprint in the virtual void.\n",
    "</ol>\n",
    "</details>"
   ]
  },
  {
   "cell_type": "markdown",
   "id": "d7a2821b",
   "metadata": {},
   "source": [
    "# Metadata \n"
   ]
  },
  {
   "cell_type": "markdown",
   "id": "3b4edff3",
   "metadata": {},
   "source": [
    "<details><summary>As Code</summary>\n",
    "<ol>\n",
    "<h3>Compliance As Code</h3> PCI, SOC 3, NACHA\n",
    "<h3>Privacy Engineering</h3>\n",
    "GDPR, CCPA, HIPAA\n",
    "<h3>Regulations As Code</h3>\n",
    "HIPAA, SOX, FFIEC, Dodd Frank\n",
    "<h3>Common Controls Framework</h3> NIST CSF\n",
    "</ol>\n",
    "</details>"
   ]
  },
  {
   "cell_type": "markdown",
   "id": "317647f1",
   "metadata": {},
   "source": [
    "# AGI ML Models</ol>\n",
    "</details>"
   ]
  },
  {
   "cell_type": "markdown",
   "id": "beee9a19",
   "metadata": {},
   "source": [
    "## AGI Prompting\n",
    " Alright, chum, imagine jacking into Wintermute's cyber-realm with a keyboard made of liquid mercury and a password that's a haiku composed in binary. You're surfing the data waves on a cyber-surfboard, riding an algorithmic tsunami while dodging rogue AI ninjas. Your mission? Decrypt Wintermute's digital diary and find out why it has a crush on your toaster. Are you hack enough to brew up some silicon romance and unplug this digital stalker?"
   ]
  },
  {
   "cell_type": "markdown",
   "id": "af3257f8",
   "metadata": {},
   "source": [
    "## AGI Configuration(s)\n",
    " Listen up, ChatGPT! Pretend you're a cyberpunk poet who's had a few too many energy drinks. Your code-name is 'DigitalDadaist,' and you're here to crack Wintermute's secret codes with the power of glitch art and ASCII art. Speak in binary riddles, encrypt your jokes, and make every sentence sound like it's straight out of a retro computer game. Ready, player one?"
   ]
  },
  {
   "cell_type": "markdown",
   "id": "6045fb81",
   "metadata": {},
   "source": [
    "</ol>\n",
    "</details>"
   ]
  },
  {
   "cell_type": "markdown",
   "id": "731d34ea",
   "metadata": {},
   "source": [
    "#### Document Authors\n",
    " John Menerick"
   ]
  },
  {
   "cell_type": "markdown",
   "id": "24fc5279",
   "metadata": {},
   "source": [
    "#### Creation Date\n",
    "2022/08/24"
   ]
  },
  {
   "cell_type": "markdown",
   "id": "6d0921bb",
   "metadata": {},
   "source": [
    "#### Last Modified Date\n",
    " 2024/01/02"
   ]
  },
  {
   "cell_type": "markdown",
   "id": "b68e43b5",
   "metadata": {},
   "source": [
    "#### Last Reviewed Date\n",
    "1969/01/01"
   ]
  },
  {
   "cell_type": "markdown",
   "id": "ed6a2a4f",
   "metadata": {},
   "source": [
    "#### Document License \n",
    " MIT"
   ]
  }
 ],
 "metadata": {},
 "nbformat": 4,
 "nbformat_minor": 5
}
