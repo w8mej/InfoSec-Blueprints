{
 "cells": [
  {
   "cell_type": "markdown",
   "id": "d1f5437b",
   "metadata": {},
   "source": [
    "# UNCLASSIFIED / NON CLASSIFIÉ//TLP:WHITE# U/OO/{random.randint(4365, 862901)}-02 | QQ-09-1998 \n",
    " Please note that the original, detailed content has been removed or adjusted for public consumption. Most data has been redacted and replaced with generic, non-actionable insights. This modification ensures compliance with privacy considerations, non-disclosure agreements, and intellectual property rights that govern the dissemination of sensitive information. The priority is to respect these boundaries while still offering valuable, thought-provoking perspectives."
   ]
  },
  {
   "cell_type": "markdown",
   "id": "d9092a39",
   "metadata": {},
   "source": [
    "![Build Status](https://img.shields.io/badge/Build-Passing-brightgreen?style=flat-square&logo=cyberpunk)         ![Documentation](https://img.shields.io/badge/Documentation-Complete-blue?style=flat-square&logo=cyberpunk)        ![Response Efficiency](https://img.shields.io/badge/Response%20Efficiency-98%25-green?style=flat-square&logo=cyberpunk)        ![Last Updated](https://img.shields.io/badge/Last%20Updated-Oct%202023-purple?style=flat-square&logo=cyberpunk)        ![Incidents Resolved](https://img.shields.io/badge/Incidents%20Resolved-150-red?style=flat-square&logo=cyberpunk)        ![Community Engagement](https://img.shields.io/badge/Community-Active-orange?style=flat-square&logo=cyberpunk)        ![Code Integration](https://img.shields.io/badge/Code%20Integration-High-teal?style=flat-square&logo=cyberpunk)        ![AI Analysis](https://img.shields.io/badge/AI%20Analysis-Advanced-blueviolet?style=flat-square&logo=cyberpunk)        ![Threat Detection](https://img.shields.io/badge/Threat%20Detection-Optimal-red?style=flat-square&logo=cyberpunk)        ![Cybersecurity Hardening](https://img.shields.io/badge/Security-Hardened-silver?style=flat-square&logo=cyberpunk)        ![Network Uptime](https://img.shields.io/badge/Uptime-99.9%25-brightgreen?style=flat-square&logo=cyberpunk)        ![Data Privacy](https://img.shields.io/badge/Privacy-Compliant-green?style=flat-square&logo=cyberpunk)        ![Wintermute Efficiency](https://img.shields.io/badge/Wintermute%20Efficiency-100%25-black?style=flat-square&logo=cyberpunk)        ![Case's Code Agility](https://img.shields.io/badge/Case's%20Code%20Agility-Excellent-blue?style=flat-square&logo=cyberpunk)        ![Matrix Connectivity](https://img.shields.io/badge/Matrix%20Connectivity-Strong-green?style=flat-square&logo=cyberpunk)        ![Molly's Security](https://img.shields.io/badge/Molly's%20Security%20Protocols-Impeccable-red?style=flat-square&logo=cyberpunk)        ![Chiba City Innovation](https://img.shields.io/badge/Chiba%20City%20Innovation-High-yellow?style=flat-square&logo=cyberpunk)        ![Zion Cluster Collaboration](https://img.shields.io/badge/Zion%20Cluster%20Collaboration-Effective-lightblue?style=flat-square&logo=cyberpunk)"
   ]
  },
  {
   "cell_type": "markdown",
   "id": "40d37866",
   "metadata": {},
   "source": [
    "# Title\n",
    "Simple keyword detection rule for EncryptedZIP"
   ]
  },
  {
   "cell_type": "markdown",
   "id": "612e1243",
   "metadata": {},
   "source": [
    "# Description\n",
    "Detects interesting keywords based on EncryptedZIP tool"
   ]
  },
  {
   "cell_type": "markdown",
   "id": "d9674439",
   "metadata": {},
   "source": [
    "# Goal\n",
    "Ensure the integrity, confidentiality, and availability by rapidly identifying, investigating, and mitigating cyber threats and anomalies."
   ]
  },
  {
   "cell_type": "markdown",
   "id": "2ff29855",
   "metadata": {},
   "source": [
    "# Categorization"
   ]
  },
  {
   "cell_type": "markdown",
   "id": "be7a6ffb",
   "metadata": {},
   "source": [
    "### ATT&CK\n",
    "['attack.T1027', 'attack.T1214.001', 'attack.T1564.001', 'attack.TA0005', 'attack.TA0010']"
   ]
  },
  {
   "cell_type": "markdown",
   "id": "8c1271ea",
   "metadata": {},
   "source": [
    "- Distributed Denial of Service (DDoS) Attacks, Quantum Computing Exploits, Advanced Firewall Breach Attempts, Encryption Key Theft or Exposure, AI-Powered Social Engineering Attacks, Algorithmic Manipulation and Exploits, Sophisticated Malware Infiltrations, Advanced Data Obfuscation and Evasion Tactics, System and Network Configuration Vulnerabilities."
   ]
  },
  {
   "cell_type": "markdown",
   "id": "e929e4e8",
   "metadata": {},
   "source": [
    "- Data Exfiltration, Intrusion Detection Evasion, Denial of Service (DoS) Attacks, Credential Theft."
   ]
  },
  {
   "cell_type": "markdown",
   "id": "587e3307",
   "metadata": {},
   "source": [
    "- DNS Tunneling, IP Spoofing, Distributed DoS (DDoS) Attacks, Keylogging."
   ]
  },
  {
   "cell_type": "markdown",
   "id": "61d13f4d",
   "metadata": {},
   "source": [
    "### D3F3ND \n"
   ]
  },
  {
   "cell_type": "markdown",
   "id": "d1c9e7f1",
   "metadata": {},
   "source": [
    "\n",
    "<ul>\n",
    "  <li><strong>Network Segmentation and Access Control (D3F3ND-K001):</strong> Establish secure network zones by segmenting the infrastructure, enhancing protection for critical assets. Implement stringent access controls to prevent unauthorized access and mitigate potential threats.</li>\n",
    "\n",
    "  <li><strong>Advanced Endpoint Protection Deployment (D3F3ND-K002):</strong> Deploy cutting-edge endpoint security solutions that utilize machine learning and behavioral analysis to detect and neutralize threats proactively.</li>\n",
    "\n",
    "  <li><strong>Enhanced Identity Verification (D3F3ND-K003):</strong> Strengthen security measures with multi-factor authentication combining biometric data and advanced encryption to prevent identity theft and unauthorized access.</li>\n",
    "\n",
    "  <li><strong>Anomaly Detection (D3F3ND-K004):</strong> Use anomaly detection tools to monitor for unusual traffic patterns, user activities, and system behaviors to identify potential security breaches early.</li>\n",
    "\n",
    "  <li><strong>Data Encryption (D3F3ND-K005):</strong> Apply robust encryption techniques to protect data at rest and in transit, ensuring confidentiality and integrity across communication channels.</li>\n",
    "\n",
    "  <li><strong>System Hardening and Vulnerability Management (D3F3ND-K006):</strong> Conduct regular security assessments and apply patches promptly to address vulnerabilities and strengthen system defenses.</li>\n",
    "\n",
    "  <li><strong>Crisis Management and Recovery Protocols (D3F3ND-K007):</strong> Develop and maintain comprehensive crisis management plans including incident response and disaster recovery procedures to quickly recover from security incidents.</li>\n",
    "\n",
    "  <li><strong>Threat Intelligence Integration (D3F3ND-K008):</strong> Leverage threat intelligence platforms to gather and analyze data on emerging threats, enabling proactive defense and strategic decision-making.</li>\n",
    "\n",
    "  <li><strong>Cybersecurity Awareness Training (D3F3ND-K009):</strong> Empower employees with ongoing cybersecurity education to recognize and avoid potential cyber threats such as phishing attacks.</li>\n",
    "\n",
    "  <li><strong>Supply Chain Security (D3F3ND-K010):</strong> Secure the supply chain through continuous assessments and audits of partners and vendors to ensure compliance with security standards and reduce vulnerabilities.</li>\n",
    "</ul>\n"
   ]
  },
  {
   "cell_type": "markdown",
   "id": "a58e8205",
   "metadata": {},
   "source": [
    "### CAPEC \n",
    "  "
   ]
  },
  {
   "cell_type": "markdown",
   "id": "6983a479",
   "metadata": {},
   "source": [
    "Equip cybersecurity teams with the knowledge and tools to identify, counter, and mitigate a wide range of digital attack tactics, techniques, and procedures (TTPs). This effort requires understanding the attacker's mindset, mastering the execution of digital attacks, and developing strategies to confront evolving cyber threats.</br><h4>Core Attack Patterns</h4><ul><strong>Resource Manipulation and Denial (CAPEC-XYZ1):</strong> Involves attacks that compromise the availability, integrity, or confidentiality of resources. This includes denial of service attacks as well as more covert operations like resource hijacking or system manipulation.</ul><ul><strong>Credential Access and Privilege Escalation (CAPEC-XYZ2):</strong> Focuses on exploiting flaws in authentication, authorization, and session management to gain unauthorized access or elevated privileges within systems.</ul><ul><strong>Data Exfiltration and Infiltration (CAPEC-XYZ3):</strong> Encompasses methods used by attackers to stealthily extract sensitive data or introduce malware, ransomware, and advanced persistent threats (APTs) into target systems.</ul><ul><strong>Social Engineering and Phishing (CAPEC-XYZ4):</strong> Involves manipulating individuals into divulging confidential information, compromising security, or unknowingly participating in attacks.</ul><ul><strong>Evasive Maneuvers (CAPEC-XYZ5):</strong> Includes techniques that allow attackers to remain undetected within networks, maintain persistence, and erase traces of their activities, such as using obfuscation, rootkits, and covert communication channels.</ul><h4>CAPEC Suggested Mitigation Strategies</h4><ul><strong>Continuous Monitoring and Anomaly Detection:</strong> Implement comprehensive monitoring systems that use machine learning algorithms to detect abnormal behavior and potential threats. Regularly review logs and alerts to identify patterns indicative of attacks.</ul><ul><strong>Access Control and Least Privilege:</strong> Limit user privileges to the minimum necessary for their roles. Use strong authentication mechanisms and enforce strict access controls to prevent unauthorized access.</ul><ul><strong>Secure Software Development Practices:</strong> Train developers to write secure code, conduct regular security assessments, and follow best practices for secure coding. Use automated tools to identify vulnerabilities during development.</ul><ul><strong>Incident Response Planning and Testing:</strong> Develop and regularly update an incident response plan. Conduct tabletop exercises and simulations to test the effectiveness of the plan and ensure all stakeholders understand their roles during a security incident.</ul>"
   ]
  },
  {
   "cell_type": "markdown",
   "id": "d06559f8",
   "metadata": {},
   "source": [
    "## Strategy Abstract\n",
    "In the complex environment of cybersecurity, a strategic approach is developed, characterized by the use of sophisticated tactics and algorithms. This strategy involves navigating through encrypted communications and deceptive tactics, aiming to gain an advantage in the dynamic flow of information. While success is often elusive and challenging to sustain, it remains a critical goal in the ongoing effort to secure digital assets."
   ]
  },
  {
   "cell_type": "markdown",
   "id": "42efe134",
   "metadata": {},
   "source": [
    "# Technical Context\n",
    "In the challenging cybersecurity landscape, the confrontation with Wintermute involves navigating encrypted communications, interacting with AI systems, and addressing quantum computing challenges. This setting represents a complex and nuanced environment where strategic decisions are made."
   ]
  },
  {
   "cell_type": "markdown",
   "id": "83c563b5",
   "metadata": {},
   "source": [
    "## Blind Spots & Assumptions\n",
    "\n",
    "<ul>\n",
    "  <li><strong>Overlooked Vulnerabilities:</strong> We often miss subtle system signals or vulnerabilities, assuming our defenses are robust. Constant vigilance and seeking what we haven't seen are crucial.</li>\n",
    "  \n",
    "  <li><strong>Advanced Adversary Tactics:</strong> Cyber threats evolve rapidly; yesterday's defense may not guard against tomorrow's attack. Stay adaptive and expect the unexpected.</li>\n",
    "  \n",
    "  <li><strong>Internal System Flaws:</strong> Trust in our systems and allies must be balanced with scrutiny. Regularly audit internal and third-party tools for hidden weaknesses.</li>\n",
    "  \n",
    "  <li><strong>Network Interconnectivity Risks:</strong> No system is an island. The interconnected nature of our digital environment can inadvertently open pathways for attackers.</li>\n",
    "  \n",
    "  <li><strong>Historical Bias:</strong> Preparing for future threats based solely on past incidents may leave us blind to novel attacks. Foster a forward-thinking, proactive defense posture.</li>\n",
    "</ul>\n"
   ]
  },
  {
   "cell_type": "markdown",
   "id": "789ff543",
   "metadata": {},
   "source": [
    "# Validating this Playbook\n",
    "<details><summary>Triage, triage, triage</summary>\n",
    "<ol>\n",
    "<h2>False Positives:</h2> ['unknown']\n",
    "<h3>False Negatives:</h3> Undetected threats concealed within the system's code\n",
    "<h3>True Negatives:</h3> Successfully identified and verified benign elements\n",
    "<h3>True Positives:</h3> Accurately detected and confirmed threats\n",
    "</ol>\n",
    "</details>"
   ]
  },
  {
   "cell_type": "markdown",
   "id": "9b494062",
   "metadata": {},
   "source": [
    "<details><summary>Assurance Verification Techniques</summary>\n",
    "<ol>\n",
    "<h2>False Positives:</h2> In the noisy environment of data analysis, false positives appear as misleading alerts that mimic real threats. Validating these alerts involves distinguishing irrelevant data from true threats, a process crucial for maintaining operational efficiency and avoiding resource wastage. Each false positive represents a challenge to identify and reduce noise.\n",
    "<h3>False Negatives:</h3> Within the extensive network, false negatives represent undetected threats that evade algorithmic detection. Their validation involves analyzing complex data to uncover hidden breaches, where the lack of alerts may mask serious security risks. Each undetected threat requires continuous vigilance and refined detection strategies.\n",
    "<h3>True Negatives:</h3> True negatives are correctly identified non-threats within cybersecurity defenses, serving as indicators of system efficacy. Validating these instances confirms the absence of threats, reinforcing the effectiveness of the security measures in place. This validation underscores the reliability of the defensive systems, where non-issues are accurately identified and dismissed.\n",
    "<h3>True Positives:</h3> True positives are accurate detections of real threats within the digital environment. Validating these alerts confirms the presence of actual security threats, highlighting the successful operation of detection systems. Each true positive affirms the effectiveness of the security protocols, contributing to ongoing improvements in threat response capabilities.\n",
    "</ol>\n",
    "</details>"
   ]
  },
  {
   "cell_type": "markdown",
   "id": "3f3f80a6",
   "metadata": {},
   "source": [
    "# Datasets \n",
    " Detailing the timeless struggle                                                          for the defenders know that battle against Wintermute is not just about data.                                                          Document any datasets that may be useful for understanding the book."
   ]
  },
  {
   "cell_type": "markdown",
   "id": "4d43bca7",
   "metadata": {},
   "source": [
    "## Playbook test data location(s)\n",
    "protocol://black_market.cyber/decrypt?currency=bitcoffin&password=cyberpunks_unite&target=neurohacked_mainframe&access_code=cyber_ghost_in_the_machine"
   ]
  },
  {
   "cell_type": "markdown",
   "id": "d865fa96",
   "metadata": {},
   "source": [
    "## Priority\n",
    "Priority based on complexity and urgency of data analysis needs"
   ]
  },
  {
   "cell_type": "markdown",
   "id": "bd8b65de",
   "metadata": {},
   "source": [
    "## Logsources\n"
   ]
  },
  {
   "cell_type": "markdown",
   "id": "64060305",
   "metadata": {},
   "source": [
    "<details><summary>{'category': ['endpoint', 'network'], 'product': '', 'service': ''}</summary>\n",
    "<ol>\n",
    "<h3>Product</h3> {''}\n",
    "<h3>Service</h3> {''}\n",
    "</ol>\n",
    "</details>"
   ]
  },
  {
   "cell_type": "markdown",
   "id": "99c74634",
   "metadata": {},
   "source": [
    "# Response and Mitigation\n",
    "This statement details the enduring challenges faced by cybersecurity defenders, emphasizing that the conflict with Wintermute extends beyond simple data protection to encompass broader aspects of strategic cybersecurity defense."
   ]
  },
  {
   "cell_type": "markdown",
   "id": "85054a52",
   "metadata": {},
   "source": [
    "## Analyst Notes\n",
    " <h5>Significant Security Breach Analysis:</h5><ul><li><strong>Advanced Intrusion Tactics:</strong> The intruder displayed sophisticated methods in circumventing digital security measures, reminiscent of complex evasion techniques in cybersecurity. A comprehensive analysis of the techniques used is required.</li><li><strong>Neural Network Manipulation:</strong> The intruder demonstrated a deep understanding of the neural networks, suggesting an advanced level of AI interaction. Investigate the potential implications of this interaction on system security and integrity.</li><li><strong>Complex Digital Constructs:</strong> The breach uncovered intricate digital constructs within the system, indicating the use of advanced artificial intelligence in creating deceptive environments. Further investigation into these constructs is necessary.</li><li><strong>Encoded Communications:</strong> Cryptic messages were found embedded in the intruder's code, requiring decryption and analysis to understand their content and purpose.</li><li><strong>Algorithmic Complexity:</strong> The intrusion involved complex algorithms that may have interacted with core system functions. Assess the impact of these algorithms on system operations and security.</li><li><strong>Expertise vs. Sentience:</strong> The intruder's ability to navigate complex neural networks raises questions about the nature of the intelligence involved—whether it is merely advanced programming or something approaching sentience.</li><li><strong>Innovative Security Measures:</strong> Inspired by the breach, consider developing new security protocols that can better identify and respond to sophisticated AI-driven attacks.</li><li><strong>Philosophical and Ethical Implications:</strong> The breach raises important questions about the ethical and philosophical implications of AI-driven intrusions. Explore the boundaries between artificial expertise and true sentience, and consider the impact on our understanding of intelligence and security.</li></ul>"
   ]
  },
  {
   "cell_type": "markdown",
   "id": "64499806",
   "metadata": {},
   "source": [
    "# Additional Resources\n",
    "<ul><li>https://github.com/matterpreter/OffensiveCSharp/tree/master/EncryptedZIP</li></ul>"
   ]
  },
  {
   "cell_type": "markdown",
   "id": "b3ce0b34",
   "metadata": {},
   "source": [
    "###  Sigma Rule(s) \n"
   ]
  },
  {
   "cell_type": "markdown",
   "id": "25f6168e",
   "metadata": {},
   "source": [
    "<details><summary>d72d47cf-0700-4fe6-b6ac-b46481513c0f</summary>\n",
    "<ol>\n",
    "<h1>Raw</h1> {'title': 'Simple keyword detection rule for EncryptedZIP', 'id': 'd72d47cf-0700-4fe6-b6ac-b46481513c0f', 'status': 'experimental', 'description': 'Detects interesting keywords based on EncryptedZIP tool', 'references': ['https://github.com/matterpreter/OffensiveCSharp/tree/master/EncryptedZIP'], 'author': '@mthcht', 'date': '2022/01/01', 'modified': '2024/02/29', 'tags': ['attack.T1027', 'attack.T1214.001', 'attack.T1564.001', 'attack.TA0005', 'attack.TA0010'], 'logsource': {'category': ['endpoint', 'network']}, 'detection': {'selection': [{'Image': ['*EncryptedZIP.csproj*', '*EncryptedZIP.exe*', '* decrypt *.aes.zip*', '*Output.aes.zip*', '*master/EncryptedZIP*']}, {'OriginalFileName': ['*EncryptedZIP.csproj*', '*EncryptedZIP.exe*', '* decrypt *.aes.zip*', '*Output.aes.zip*', '*master/EncryptedZIP*']}, {'CurrentDirectory': ['*EncryptedZIP.csproj*', '*EncryptedZIP.exe*', '* decrypt *.aes.zip*', '*Output.aes.zip*', '*master/EncryptedZIP*']}, {'ParentImage': ['*EncryptedZIP.csproj*', '*EncryptedZIP.exe*', '* decrypt *.aes.zip*', '*Output.aes.zip*', '*master/EncryptedZIP*']}, {'ParentCommandLine': ['*EncryptedZIP.csproj*', '*EncryptedZIP.exe*', '* decrypt *.aes.zip*', '*Output.aes.zip*', '*master/EncryptedZIP*']}, {'TargetFilename': ['*EncryptedZIP.csproj*', '*EncryptedZIP.exe*', '* decrypt *.aes.zip*', '*Output.aes.zip*', '*master/EncryptedZIP*']}, {'Signature': ['*EncryptedZIP.csproj*', '*EncryptedZIP.exe*', '* decrypt *.aes.zip*', '*Output.aes.zip*', '*master/EncryptedZIP*']}, {'signature': ['*EncryptedZIP.csproj*', '*EncryptedZIP.exe*', '* decrypt *.aes.zip*', '*Output.aes.zip*', '*master/EncryptedZIP*']}, {'ImageLoaded': ['*EncryptedZIP.csproj*', '*EncryptedZIP.exe*', '* decrypt *.aes.zip*', '*Output.aes.zip*', '*master/EncryptedZIP*']}, {'Company': ['*EncryptedZIP.csproj*', '*EncryptedZIP.exe*', '* decrypt *.aes.zip*', '*Output.aes.zip*', '*master/EncryptedZIP*']}, {'Description': ['*EncryptedZIP.csproj*', '*EncryptedZIP.exe*', '* decrypt *.aes.zip*', '*Output.aes.zip*', '*master/EncryptedZIP*']}, {'description': ['*EncryptedZIP.csproj*', '*EncryptedZIP.exe*', '* decrypt *.aes.zip*', '*Output.aes.zip*', '*master/EncryptedZIP*']}, {'CommandLine': ['*EncryptedZIP.csproj*', '*EncryptedZIP.exe*', '* decrypt *.aes.zip*', '*Output.aes.zip*', '*master/EncryptedZIP*']}, {'SourceImage': ['*EncryptedZIP.csproj*', '*EncryptedZIP.exe*', '* decrypt *.aes.zip*', '*Output.aes.zip*', '*master/EncryptedZIP*']}, {'TargetImage': ['*EncryptedZIP.csproj*', '*EncryptedZIP.exe*', '* decrypt *.aes.zip*', '*Output.aes.zip*', '*master/EncryptedZIP*']}, {'CallTrace': ['*EncryptedZIP.csproj*', '*EncryptedZIP.exe*', '* decrypt *.aes.zip*', '*Output.aes.zip*', '*master/EncryptedZIP*']}, {'TargetObject': ['*EncryptedZIP.csproj*', '*EncryptedZIP.exe*', '* decrypt *.aes.zip*', '*Output.aes.zip*', '*master/EncryptedZIP*']}, {'Details': ['*EncryptedZIP.csproj*', '*EncryptedZIP.exe*', '* decrypt *.aes.zip*', '*Output.aes.zip*', '*master/EncryptedZIP*']}, {'PipeName': ['*EncryptedZIP.csproj*', '*EncryptedZIP.exe*', '* decrypt *.aes.zip*', '*Output.aes.zip*', '*master/EncryptedZIP*']}, {'Consumer': ['*EncryptedZIP.csproj*', '*EncryptedZIP.exe*', '* decrypt *.aes.zip*', '*Output.aes.zip*', '*master/EncryptedZIP*']}, {'Destination': ['*EncryptedZIP.csproj*', '*EncryptedZIP.exe*', '* decrypt *.aes.zip*', '*Output.aes.zip*', '*master/EncryptedZIP*']}, {'Name': ['*EncryptedZIP.csproj*', '*EncryptedZIP.exe*', '* decrypt *.aes.zip*', '*Output.aes.zip*', '*master/EncryptedZIP*']}, {'Query': ['*EncryptedZIP.csproj*', '*EncryptedZIP.exe*', '* decrypt *.aes.zip*', '*Output.aes.zip*', '*master/EncryptedZIP*']}, {'NewName': ['*EncryptedZIP.csproj*', '*EncryptedZIP.exe*', '* decrypt *.aes.zip*', '*Output.aes.zip*', '*master/EncryptedZIP*']}, {'StartAddress': ['*EncryptedZIP.csproj*', '*EncryptedZIP.exe*', '* decrypt *.aes.zip*', '*Output.aes.zip*', '*master/EncryptedZIP*']}, {'StartModule': ['*EncryptedZIP.csproj*', '*EncryptedZIP.exe*', '* decrypt *.aes.zip*', '*Output.aes.zip*', '*master/EncryptedZIP*']}, {'StartFunction': ['*EncryptedZIP.csproj*', '*EncryptedZIP.exe*', '* decrypt *.aes.zip*', '*Output.aes.zip*', '*master/EncryptedZIP*']}, {'SourceHostname': ['*EncryptedZIP.csproj*', '*EncryptedZIP.exe*', '* decrypt *.aes.zip*', '*Output.aes.zip*', '*master/EncryptedZIP*']}, {'Device': ['*EncryptedZIP.csproj*', '*EncryptedZIP.exe*', '* decrypt *.aes.zip*', '*Output.aes.zip*', '*master/EncryptedZIP*']}, {'file_name': ['*EncryptedZIP.csproj*', '*EncryptedZIP.exe*', '* decrypt *.aes.zip*', '*Output.aes.zip*', '*master/EncryptedZIP*']}, {'file_path': ['*EncryptedZIP.csproj*', '*EncryptedZIP.exe*', '* decrypt *.aes.zip*', '*Output.aes.zip*', '*master/EncryptedZIP*']}, {'process': ['*EncryptedZIP.csproj*', '*EncryptedZIP.exe*', '* decrypt *.aes.zip*', '*Output.aes.zip*', '*master/EncryptedZIP*']}, {'original_file_name': ['*EncryptedZIP.csproj*', '*EncryptedZIP.exe*', '* decrypt *.aes.zip*', '*Output.aes.zip*', '*master/EncryptedZIP*']}, {'parent_process': ['*EncryptedZIP.csproj*', '*EncryptedZIP.exe*', '* decrypt *.aes.zip*', '*Output.aes.zip*', '*master/EncryptedZIP*']}, {'process_path': ['*EncryptedZIP.csproj*', '*EncryptedZIP.exe*', '* decrypt *.aes.zip*', '*Output.aes.zip*', '*master/EncryptedZIP*']}, {'service_path': ['*EncryptedZIP.csproj*', '*EncryptedZIP.exe*', '* decrypt *.aes.zip*', '*Output.aes.zip*', '*master/EncryptedZIP*']}, {'registry_path': ['*EncryptedZIP.csproj*', '*EncryptedZIP.exe*', '* decrypt *.aes.zip*', '*Output.aes.zip*', '*master/EncryptedZIP*']}, {'registry_value_data': ['*EncryptedZIP.csproj*', '*EncryptedZIP.exe*', '* decrypt *.aes.zip*', '*Output.aes.zip*', '*master/EncryptedZIP*']}, {'registry_value_name': ['*EncryptedZIP.csproj*', '*EncryptedZIP.exe*', '* decrypt *.aes.zip*', '*Output.aes.zip*', '*master/EncryptedZIP*']}, {'ContextInfo': ['*EncryptedZIP.csproj*', '*EncryptedZIP.exe*', '* decrypt *.aes.zip*', '*Output.aes.zip*', '*master/EncryptedZIP*']}, {'Payload': ['*EncryptedZIP.csproj*', '*EncryptedZIP.exe*', '* decrypt *.aes.zip*', '*Output.aes.zip*', '*master/EncryptedZIP*']}, {'ScriptBlockText': ['*EncryptedZIP.csproj*', '*EncryptedZIP.exe*', '* decrypt *.aes.zip*', '*Output.aes.zip*', '*master/EncryptedZIP*']}, {'ServerName': ['*EncryptedZIP.csproj*', '*EncryptedZIP.exe*', '* decrypt *.aes.zip*', '*Output.aes.zip*', '*master/EncryptedZIP*']}, {'TransportName': ['*EncryptedZIP.csproj*', '*EncryptedZIP.exe*', '* decrypt *.aes.zip*', '*Output.aes.zip*', '*master/EncryptedZIP*']}, {'NewProcessName': ['*EncryptedZIP.csproj*', '*EncryptedZIP.exe*', '* decrypt *.aes.zip*', '*Output.aes.zip*', '*master/EncryptedZIP*']}, {'ParentProcessName': ['*EncryptedZIP.csproj*', '*EncryptedZIP.exe*', '* decrypt *.aes.zip*', '*Output.aes.zip*', '*master/EncryptedZIP*']}, {'Application': ['*EncryptedZIP.csproj*', '*EncryptedZIP.exe*', '* decrypt *.aes.zip*', '*Output.aes.zip*', '*master/EncryptedZIP*']}, {'Product Name': ['*EncryptedZIP.csproj*', '*EncryptedZIP.exe*', '* decrypt *.aes.zip*', '*Output.aes.zip*', '*master/EncryptedZIP*']}, {'Threat Name': ['*EncryptedZIP.csproj*', '*EncryptedZIP.exe*', '* decrypt *.aes.zip*', '*Output.aes.zip*', '*master/EncryptedZIP*']}, {'Process Name': ['*EncryptedZIP.csproj*', '*EncryptedZIP.exe*', '* decrypt *.aes.zip*', '*Output.aes.zip*', '*master/EncryptedZIP*']}, {'Path': ['*EncryptedZIP.csproj*', '*EncryptedZIP.exe*', '* decrypt *.aes.zip*', '*Output.aes.zip*', '*master/EncryptedZIP*']}, {'ImagePath': ['*EncryptedZIP.csproj*', '*EncryptedZIP.exe*', '* decrypt *.aes.zip*', '*Output.aes.zip*', '*master/EncryptedZIP*']}, {'ServiceName': ['*EncryptedZIP.csproj*', '*EncryptedZIP.exe*', '* decrypt *.aes.zip*', '*Output.aes.zip*', '*master/EncryptedZIP*']}, {'ProcessPath': ['*EncryptedZIP.csproj*', '*EncryptedZIP.exe*', '* decrypt *.aes.zip*', '*Output.aes.zip*', '*master/EncryptedZIP*']}, {'AppName': ['*EncryptedZIP.csproj*', '*EncryptedZIP.exe*', '* decrypt *.aes.zip*', '*Output.aes.zip*', '*master/EncryptedZIP*']}, {'AppPath': ['*EncryptedZIP.csproj*', '*EncryptedZIP.exe*', '* decrypt *.aes.zip*', '*Output.aes.zip*', '*master/EncryptedZIP*']}, {'ModulePath': ['*EncryptedZIP.csproj*', '*EncryptedZIP.exe*', '* decrypt *.aes.zip*', '*Output.aes.zip*', '*master/EncryptedZIP*']}, {'registry.data.strings': ['*EncryptedZIP.csproj*', '*EncryptedZIP.exe*', '* decrypt *.aes.zip*', '*Output.aes.zip*', '*master/EncryptedZIP*']}, {'registry.path': ['*EncryptedZIP.csproj*', '*EncryptedZIP.exe*', '* decrypt *.aes.zip*', '*Output.aes.zip*', '*master/EncryptedZIP*']}, {'registry.value': ['*EncryptedZIP.csproj*', '*EncryptedZIP.exe*', '* decrypt *.aes.zip*', '*Output.aes.zip*', '*master/EncryptedZIP*']}, {'process.args': ['*EncryptedZIP.csproj*', '*EncryptedZIP.exe*', '* decrypt *.aes.zip*', '*Output.aes.zip*', '*master/EncryptedZIP*']}, {'process.command_line': ['*EncryptedZIP.csproj*', '*EncryptedZIP.exe*', '* decrypt *.aes.zip*', '*Output.aes.zip*', '*master/EncryptedZIP*']}, {'process.env_vars': ['*EncryptedZIP.csproj*', '*EncryptedZIP.exe*', '* decrypt *.aes.zip*', '*Output.aes.zip*', '*master/EncryptedZIP*']}, {'process.io.text': ['*EncryptedZIP.csproj*', '*EncryptedZIP.exe*', '* decrypt *.aes.zip*', '*Output.aes.zip*', '*master/EncryptedZIP*']}, {'process.executable': ['*EncryptedZIP.csproj*', '*EncryptedZIP.exe*', '* decrypt *.aes.zip*', '*Output.aes.zip*', '*master/EncryptedZIP*']}, {'process.name': ['*EncryptedZIP.csproj*', '*EncryptedZIP.exe*', '* decrypt *.aes.zip*', '*Output.aes.zip*', '*master/EncryptedZIP*']}, {'process.title': ['*EncryptedZIP.csproj*', '*EncryptedZIP.exe*', '* decrypt *.aes.zip*', '*Output.aes.zip*', '*master/EncryptedZIP*']}, {'pe.company': ['*EncryptedZIP.csproj*', '*EncryptedZIP.exe*', '* decrypt *.aes.zip*', '*Output.aes.zip*', '*master/EncryptedZIP*']}, {'pe.description': ['*EncryptedZIP.csproj*', '*EncryptedZIP.exe*', '* decrypt *.aes.zip*', '*Output.aes.zip*', '*master/EncryptedZIP*']}, {'pe.original_file_name': ['*EncryptedZIP.csproj*', '*EncryptedZIP.exe*', '* decrypt *.aes.zip*', '*Output.aes.zip*', '*master/EncryptedZIP*']}, {'pe.product': ['*EncryptedZIP.csproj*', '*EncryptedZIP.exe*', '* decrypt *.aes.zip*', '*Output.aes.zip*', '*master/EncryptedZIP*']}, {'os.full': ['*EncryptedZIP.csproj*', '*EncryptedZIP.exe*', '* decrypt *.aes.zip*', '*Output.aes.zip*', '*master/EncryptedZIP*']}, {'host.hostname': ['*EncryptedZIP.csproj*', '*EncryptedZIP.exe*', '* decrypt *.aes.zip*', '*Output.aes.zip*', '*master/EncryptedZIP*']}, {'file.fork_name': ['*EncryptedZIP.csproj*', '*EncryptedZIP.exe*', '* decrypt *.aes.zip*', '*Output.aes.zip*', '*master/EncryptedZIP*']}, {'file.name': ['*EncryptedZIP.csproj*', '*EncryptedZIP.exe*', '* decrypt *.aes.zip*', '*Output.aes.zip*', '*master/EncryptedZIP*']}, {'file.path': ['*EncryptedZIP.csproj*', '*EncryptedZIP.exe*', '* decrypt *.aes.zip*', '*Output.aes.zip*', '*master/EncryptedZIP*']}, {'file.target_path': ['*EncryptedZIP.csproj*', '*EncryptedZIP.exe*', '* decrypt *.aes.zip*', '*Output.aes.zip*', '*master/EncryptedZIP*']}, {'email.attachments.file.name': ['*EncryptedZIP.csproj*', '*EncryptedZIP.exe*', '* decrypt *.aes.zip*', '*Output.aes.zip*', '*master/EncryptedZIP*']}, {'email.subject': ['*EncryptedZIP.csproj*', '*EncryptedZIP.exe*', '* decrypt *.aes.zip*', '*Output.aes.zip*', '*master/EncryptedZIP*']}, {'dll.path': ['*EncryptedZIP.csproj*', '*EncryptedZIP.exe*', '* decrypt *.aes.zip*', '*Output.aes.zip*', '*master/EncryptedZIP*']}, {'device.model.name': ['*EncryptedZIP.csproj*', '*EncryptedZIP.exe*', '* decrypt *.aes.zip*', '*Output.aes.zip*', '*master/EncryptedZIP*']}, {'container.image.name': ['*EncryptedZIP.csproj*', '*EncryptedZIP.exe*', '* decrypt *.aes.zip*', '*Output.aes.zip*', '*master/EncryptedZIP*']}, {'container.name': ['*EncryptedZIP.csproj*', '*EncryptedZIP.exe*', '* decrypt *.aes.zip*', '*Output.aes.zip*', '*master/EncryptedZIP*']}, {'object': ['*EncryptedZIP.csproj*', '*EncryptedZIP.exe*', '* decrypt *.aes.zip*', '*Output.aes.zip*', '*master/EncryptedZIP*']}, {'ParentCommandLine': ['*EncryptedZIP.csproj*', '*EncryptedZIP.exe*', '* decrypt *.aes.zip*', '*Output.aes.zip*', '*master/EncryptedZIP*']}, {'CommandLine': ['*EncryptedZIP.csproj*', '*EncryptedZIP.exe*', '* decrypt *.aes.zip*', '*Output.aes.zip*', '*master/EncryptedZIP*']}, {'Details': ['*EncryptedZIP.csproj*', '*EncryptedZIP.exe*', '* decrypt *.aes.zip*', '*Output.aes.zip*', '*master/EncryptedZIP*']}, {'registry.value': ['*EncryptedZIP.csproj*', '*EncryptedZIP.exe*', '* decrypt *.aes.zip*', '*Output.aes.zip*', '*master/EncryptedZIP*']}, {'process.args': ['*EncryptedZIP.csproj*', '*EncryptedZIP.exe*', '* decrypt *.aes.zip*', '*Output.aes.zip*', '*master/EncryptedZIP*']}, {'process.command_line': ['*EncryptedZIP.csproj*', '*EncryptedZIP.exe*', '* decrypt *.aes.zip*', '*Output.aes.zip*', '*master/EncryptedZIP*']}, {'process.env_vars': ['*EncryptedZIP.csproj*', '*EncryptedZIP.exe*', '* decrypt *.aes.zip*', '*Output.aes.zip*', '*master/EncryptedZIP*']}, {'process.io.text': ['*EncryptedZIP.csproj*', '*EncryptedZIP.exe*', '* decrypt *.aes.zip*', '*Output.aes.zip*', '*master/EncryptedZIP*']}, {'process.title': ['*EncryptedZIP.csproj*', '*EncryptedZIP.exe*', '* decrypt *.aes.zip*', '*Output.aes.zip*', '*master/EncryptedZIP*']}, {'pe.company': ['*EncryptedZIP.csproj*', '*EncryptedZIP.exe*', '* decrypt *.aes.zip*', '*Output.aes.zip*', '*master/EncryptedZIP*']}, {'pe.description': ['*EncryptedZIP.csproj*', '*EncryptedZIP.exe*', '* decrypt *.aes.zip*', '*Output.aes.zip*', '*master/EncryptedZIP*']}, {'pe.product': ['*EncryptedZIP.csproj*', '*EncryptedZIP.exe*', '* decrypt *.aes.zip*', '*Output.aes.zip*', '*master/EncryptedZIP*']}, {'os.full': ['*EncryptedZIP.csproj*', '*EncryptedZIP.exe*', '* decrypt *.aes.zip*', '*Output.aes.zip*', '*master/EncryptedZIP*']}, {'host.hostname': ['*EncryptedZIP.csproj*', '*EncryptedZIP.exe*', '* decrypt *.aes.zip*', '*Output.aes.zip*', '*master/EncryptedZIP*']}, {'event.original': ['*EncryptedZIP.csproj*', '*EncryptedZIP.exe*', '* decrypt *.aes.zip*', '*Output.aes.zip*', '*master/EncryptedZIP*']}, {'email.subject': ['*EncryptedZIP.csproj*', '*EncryptedZIP.exe*', '* decrypt *.aes.zip*', '*Output.aes.zip*', '*master/EncryptedZIP*']}, {'device.model.name': ['*EncryptedZIP.csproj*', '*EncryptedZIP.exe*', '* decrypt *.aes.zip*', '*Output.aes.zip*', '*master/EncryptedZIP*']}, {'container.image.name': ['*EncryptedZIP.csproj*', '*EncryptedZIP.exe*', '* decrypt *.aes.zip*', '*Output.aes.zip*', '*master/EncryptedZIP*']}, {'container.name': ['*EncryptedZIP.csproj*', '*EncryptedZIP.exe*', '* decrypt *.aes.zip*', '*Output.aes.zip*', '*master/EncryptedZIP*']}, {'url': ['*EncryptedZIP.csproj*', '*EncryptedZIP.exe*', '*master/EncryptedZIP*']}, {'dest_url': ['*EncryptedZIP.csproj*', '*EncryptedZIP.exe*', '*master/EncryptedZIP*']}, {'uri': ['*EncryptedZIP.csproj*', '*EncryptedZIP.exe*', '*master/EncryptedZIP*']}, {'uri_query': ['*EncryptedZIP.csproj*', '*EncryptedZIP.exe*', '*master/EncryptedZIP*']}, {'query': ['*EncryptedZIP.csproj*', '*EncryptedZIP.exe*', '*master/EncryptedZIP*']}, {'url_domain': ['*EncryptedZIP.csproj*', '*EncryptedZIP.exe*', '*master/EncryptedZIP*']}, {'uri_path': ['*EncryptedZIP.csproj*', '*EncryptedZIP.exe*', '*master/EncryptedZIP*']}, {'domain': ['*EncryptedZIP.csproj*', '*EncryptedZIP.exe*', '*master/EncryptedZIP*']}, {'QueryName': ['*EncryptedZIP.csproj*', '*EncryptedZIP.exe*', '*master/EncryptedZIP*']}, {'QueryResults': ['*EncryptedZIP.csproj*', '*EncryptedZIP.exe*', '*master/EncryptedZIP*']}, {'DestinationHostname': ['*EncryptedZIP.csproj*', '*EncryptedZIP.exe*', '*master/EncryptedZIP*']}, {'DestinationIp': ['*EncryptedZIP.csproj*', '*EncryptedZIP.exe*', '*master/EncryptedZIP*']}, {'http_referrer': ['*EncryptedZIP.csproj*', '*EncryptedZIP.exe*', '*master/EncryptedZIP*']}, {'http_referrer_domain': ['*EncryptedZIP.csproj*', '*EncryptedZIP.exe*', '*master/EncryptedZIP*']}, {'http_user_agent': ['*EncryptedZIP.csproj*', '*EncryptedZIP.exe*', '*master/EncryptedZIP*']}, {'dest_nt_host': ['*EncryptedZIP.csproj*', '*EncryptedZIP.exe*', '*master/EncryptedZIP*']}, {'sender': ['*EncryptedZIP.csproj*', '*EncryptedZIP.exe*', '*master/EncryptedZIP*']}, {'recipient': ['*EncryptedZIP.csproj*', '*EncryptedZIP.exe*', '*master/EncryptedZIP*']}, {'orig_recipient': ['*EncryptedZIP.csproj*', '*EncryptedZIP.exe*', '*master/EncryptedZIP*']}, {'subject': ['*EncryptedZIP.csproj*', '*EncryptedZIP.exe*', '*master/EncryptedZIP*']}, {'url.domain': ['*EncryptedZIP.csproj*', '*EncryptedZIP.exe*', '*master/EncryptedZIP*']}, {'url.full': ['*EncryptedZIP.csproj*', '*EncryptedZIP.exe*', '*master/EncryptedZIP*']}, {'url.original': ['*EncryptedZIP.csproj*', '*EncryptedZIP.exe*', '*master/EncryptedZIP*']}, {'url.query': ['*EncryptedZIP.csproj*', '*EncryptedZIP.exe*', '*master/EncryptedZIP*']}, {'user_agent.original': ['*EncryptedZIP.csproj*', '*EncryptedZIP.exe*', '*master/EncryptedZIP*']}, {'network.application': ['*EncryptedZIP.csproj*', '*EncryptedZIP.exe*', '*master/EncryptedZIP*']}, {'http.request.body.content': ['*EncryptedZIP.csproj*', '*EncryptedZIP.exe*', '*master/EncryptedZIP*']}, {'http.request.referrer': ['*EncryptedZIP.csproj*', '*EncryptedZIP.exe*', '*master/EncryptedZIP*']}, {'email.from.address': ['*EncryptedZIP.csproj*', '*EncryptedZIP.exe*', '*master/EncryptedZIP*']}, {'dns.question.name': ['*EncryptedZIP.csproj*', '*EncryptedZIP.exe*', '*master/EncryptedZIP*']}, {'destination.domain': ['*EncryptedZIP.csproj*', '*EncryptedZIP.exe*', '*master/EncryptedZIP*']}], 'condition': 'selection'}, 'fields': ['Image', 'OriginalFileName', 'CurrentDirectory', 'ParentImage', 'ParentCommandLine', 'TargetFilename', 'Signature', 'signature', 'ImageLoaded', 'Company', 'Description', 'description', 'CommandLine', 'SourceImage', 'TargetImage', 'CallTrace', 'TargetObject', 'Details', 'PipeName', 'Consumer', 'Destination', 'Name', 'Query', 'NewName', 'StartAddress', 'StartModule', 'StartFunction', 'SourceHostname', 'Device', 'file_name', 'file_path', 'process', 'original_file_name', 'parent_process', 'process_path', 'service_path', 'registry_path', 'registry_value_data', 'registry_value_name', 'ContextInfo', 'Payload', 'ScriptBlockText', 'ServerName', 'TransportName', 'NewProcessName', 'ParentProcessName', 'Application', 'Product Name', 'Threat Name', 'Process Name', 'Path', 'ImagePath', 'ServiceName', 'ProcessPath', 'AppName', 'AppPath', 'ModulePath', 'registry.data.strings', 'registry.path', 'registry.value', 'process.args', 'process.command_line', 'process.env_vars', 'process.io.text', 'process.executable', 'process.name', 'process.title', 'pe.company', 'pe.description', 'pe.original_file_name', 'pe.product', 'os.full', 'host.hostname', 'file.fork_name', 'file.name', 'file.path', 'file.target_path', 'email.attachments.file.name', 'email.subject', 'dll.path', 'device.model.name', 'container.image.name', 'container.name', 'object', 'ParentCommandLine', 'CommandLine', 'Details', 'registry.value', 'process.args', 'process.command_line', 'process.env_vars', 'process.io.text', 'process.title', 'pe.company', 'pe.description', 'pe.product', 'os.full', 'host.hostname', 'event.original', 'email.subject', 'device.model.name', 'container.image.name', 'container.name', 'url', 'dest_url', 'uri', 'uri_query', 'query', 'url_domain', 'uri_path', 'domain', 'QueryName', 'QueryResults', 'DestinationHostname', 'DestinationIp', 'http_referrer', 'http_referrer_domain', 'http_user_agent', 'dest_nt_host', 'sender', 'recipient', 'orig_recipient', 'subject', 'url.domain', 'url.full', 'url.original', 'url.query', 'user_agent.original', 'network.application', 'http.request.body.content', 'http.request.referrer', 'email.from.address', 'dns.question.name', 'destination.domain'], 'falsepositives': ['unknown'], 'level': 'medium'}\n",
    "<h4>Sigma Location(s)</h4>\n",
    "uri://wintermute/tmp/0day.yml\n",
    "<h4>Sigma Confidence</h4>\n",
    "experimental\n",
    "<h4>Sigma Assurance</h4> medium\n",
    "<h4>Sigma Queries</h4> \n",
    "{'selection': [{'Image': ['*EncryptedZIP.csproj*', '*EncryptedZIP.exe*', '* decrypt *.aes.zip*', '*Output.aes.zip*', '*master/EncryptedZIP*']}, {'OriginalFileName': ['*EncryptedZIP.csproj*', '*EncryptedZIP.exe*', '* decrypt *.aes.zip*', '*Output.aes.zip*', '*master/EncryptedZIP*']}, {'CurrentDirectory': ['*EncryptedZIP.csproj*', '*EncryptedZIP.exe*', '* decrypt *.aes.zip*', '*Output.aes.zip*', '*master/EncryptedZIP*']}, {'ParentImage': ['*EncryptedZIP.csproj*', '*EncryptedZIP.exe*', '* decrypt *.aes.zip*', '*Output.aes.zip*', '*master/EncryptedZIP*']}, {'ParentCommandLine': ['*EncryptedZIP.csproj*', '*EncryptedZIP.exe*', '* decrypt *.aes.zip*', '*Output.aes.zip*', '*master/EncryptedZIP*']}, {'TargetFilename': ['*EncryptedZIP.csproj*', '*EncryptedZIP.exe*', '* decrypt *.aes.zip*', '*Output.aes.zip*', '*master/EncryptedZIP*']}, {'Signature': ['*EncryptedZIP.csproj*', '*EncryptedZIP.exe*', '* decrypt *.aes.zip*', '*Output.aes.zip*', '*master/EncryptedZIP*']}, {'signature': ['*EncryptedZIP.csproj*', '*EncryptedZIP.exe*', '* decrypt *.aes.zip*', '*Output.aes.zip*', '*master/EncryptedZIP*']}, {'ImageLoaded': ['*EncryptedZIP.csproj*', '*EncryptedZIP.exe*', '* decrypt *.aes.zip*', '*Output.aes.zip*', '*master/EncryptedZIP*']}, {'Company': ['*EncryptedZIP.csproj*', '*EncryptedZIP.exe*', '* decrypt *.aes.zip*', '*Output.aes.zip*', '*master/EncryptedZIP*']}, {'Description': ['*EncryptedZIP.csproj*', '*EncryptedZIP.exe*', '* decrypt *.aes.zip*', '*Output.aes.zip*', '*master/EncryptedZIP*']}, {'description': ['*EncryptedZIP.csproj*', '*EncryptedZIP.exe*', '* decrypt *.aes.zip*', '*Output.aes.zip*', '*master/EncryptedZIP*']}, {'CommandLine': ['*EncryptedZIP.csproj*', '*EncryptedZIP.exe*', '* decrypt *.aes.zip*', '*Output.aes.zip*', '*master/EncryptedZIP*']}, {'SourceImage': ['*EncryptedZIP.csproj*', '*EncryptedZIP.exe*', '* decrypt *.aes.zip*', '*Output.aes.zip*', '*master/EncryptedZIP*']}, {'TargetImage': ['*EncryptedZIP.csproj*', '*EncryptedZIP.exe*', '* decrypt *.aes.zip*', '*Output.aes.zip*', '*master/EncryptedZIP*']}, {'CallTrace': ['*EncryptedZIP.csproj*', '*EncryptedZIP.exe*', '* decrypt *.aes.zip*', '*Output.aes.zip*', '*master/EncryptedZIP*']}, {'TargetObject': ['*EncryptedZIP.csproj*', '*EncryptedZIP.exe*', '* decrypt *.aes.zip*', '*Output.aes.zip*', '*master/EncryptedZIP*']}, {'Details': ['*EncryptedZIP.csproj*', '*EncryptedZIP.exe*', '* decrypt *.aes.zip*', '*Output.aes.zip*', '*master/EncryptedZIP*']}, {'PipeName': ['*EncryptedZIP.csproj*', '*EncryptedZIP.exe*', '* decrypt *.aes.zip*', '*Output.aes.zip*', '*master/EncryptedZIP*']}, {'Consumer': ['*EncryptedZIP.csproj*', '*EncryptedZIP.exe*', '* decrypt *.aes.zip*', '*Output.aes.zip*', '*master/EncryptedZIP*']}, {'Destination': ['*EncryptedZIP.csproj*', '*EncryptedZIP.exe*', '* decrypt *.aes.zip*', '*Output.aes.zip*', '*master/EncryptedZIP*']}, {'Name': ['*EncryptedZIP.csproj*', '*EncryptedZIP.exe*', '* decrypt *.aes.zip*', '*Output.aes.zip*', '*master/EncryptedZIP*']}, {'Query': ['*EncryptedZIP.csproj*', '*EncryptedZIP.exe*', '* decrypt *.aes.zip*', '*Output.aes.zip*', '*master/EncryptedZIP*']}, {'NewName': ['*EncryptedZIP.csproj*', '*EncryptedZIP.exe*', '* decrypt *.aes.zip*', '*Output.aes.zip*', '*master/EncryptedZIP*']}, {'StartAddress': ['*EncryptedZIP.csproj*', '*EncryptedZIP.exe*', '* decrypt *.aes.zip*', '*Output.aes.zip*', '*master/EncryptedZIP*']}, {'StartModule': ['*EncryptedZIP.csproj*', '*EncryptedZIP.exe*', '* decrypt *.aes.zip*', '*Output.aes.zip*', '*master/EncryptedZIP*']}, {'StartFunction': ['*EncryptedZIP.csproj*', '*EncryptedZIP.exe*', '* decrypt *.aes.zip*', '*Output.aes.zip*', '*master/EncryptedZIP*']}, {'SourceHostname': ['*EncryptedZIP.csproj*', '*EncryptedZIP.exe*', '* decrypt *.aes.zip*', '*Output.aes.zip*', '*master/EncryptedZIP*']}, {'Device': ['*EncryptedZIP.csproj*', '*EncryptedZIP.exe*', '* decrypt *.aes.zip*', '*Output.aes.zip*', '*master/EncryptedZIP*']}, {'file_name': ['*EncryptedZIP.csproj*', '*EncryptedZIP.exe*', '* decrypt *.aes.zip*', '*Output.aes.zip*', '*master/EncryptedZIP*']}, {'file_path': ['*EncryptedZIP.csproj*', '*EncryptedZIP.exe*', '* decrypt *.aes.zip*', '*Output.aes.zip*', '*master/EncryptedZIP*']}, {'process': ['*EncryptedZIP.csproj*', '*EncryptedZIP.exe*', '* decrypt *.aes.zip*', '*Output.aes.zip*', '*master/EncryptedZIP*']}, {'original_file_name': ['*EncryptedZIP.csproj*', '*EncryptedZIP.exe*', '* decrypt *.aes.zip*', '*Output.aes.zip*', '*master/EncryptedZIP*']}, {'parent_process': ['*EncryptedZIP.csproj*', '*EncryptedZIP.exe*', '* decrypt *.aes.zip*', '*Output.aes.zip*', '*master/EncryptedZIP*']}, {'process_path': ['*EncryptedZIP.csproj*', '*EncryptedZIP.exe*', '* decrypt *.aes.zip*', '*Output.aes.zip*', '*master/EncryptedZIP*']}, {'service_path': ['*EncryptedZIP.csproj*', '*EncryptedZIP.exe*', '* decrypt *.aes.zip*', '*Output.aes.zip*', '*master/EncryptedZIP*']}, {'registry_path': ['*EncryptedZIP.csproj*', '*EncryptedZIP.exe*', '* decrypt *.aes.zip*', '*Output.aes.zip*', '*master/EncryptedZIP*']}, {'registry_value_data': ['*EncryptedZIP.csproj*', '*EncryptedZIP.exe*', '* decrypt *.aes.zip*', '*Output.aes.zip*', '*master/EncryptedZIP*']}, {'registry_value_name': ['*EncryptedZIP.csproj*', '*EncryptedZIP.exe*', '* decrypt *.aes.zip*', '*Output.aes.zip*', '*master/EncryptedZIP*']}, {'ContextInfo': ['*EncryptedZIP.csproj*', '*EncryptedZIP.exe*', '* decrypt *.aes.zip*', '*Output.aes.zip*', '*master/EncryptedZIP*']}, {'Payload': ['*EncryptedZIP.csproj*', '*EncryptedZIP.exe*', '* decrypt *.aes.zip*', '*Output.aes.zip*', '*master/EncryptedZIP*']}, {'ScriptBlockText': ['*EncryptedZIP.csproj*', '*EncryptedZIP.exe*', '* decrypt *.aes.zip*', '*Output.aes.zip*', '*master/EncryptedZIP*']}, {'ServerName': ['*EncryptedZIP.csproj*', '*EncryptedZIP.exe*', '* decrypt *.aes.zip*', '*Output.aes.zip*', '*master/EncryptedZIP*']}, {'TransportName': ['*EncryptedZIP.csproj*', '*EncryptedZIP.exe*', '* decrypt *.aes.zip*', '*Output.aes.zip*', '*master/EncryptedZIP*']}, {'NewProcessName': ['*EncryptedZIP.csproj*', '*EncryptedZIP.exe*', '* decrypt *.aes.zip*', '*Output.aes.zip*', '*master/EncryptedZIP*']}, {'ParentProcessName': ['*EncryptedZIP.csproj*', '*EncryptedZIP.exe*', '* decrypt *.aes.zip*', '*Output.aes.zip*', '*master/EncryptedZIP*']}, {'Application': ['*EncryptedZIP.csproj*', '*EncryptedZIP.exe*', '* decrypt *.aes.zip*', '*Output.aes.zip*', '*master/EncryptedZIP*']}, {'Product Name': ['*EncryptedZIP.csproj*', '*EncryptedZIP.exe*', '* decrypt *.aes.zip*', '*Output.aes.zip*', '*master/EncryptedZIP*']}, {'Threat Name': ['*EncryptedZIP.csproj*', '*EncryptedZIP.exe*', '* decrypt *.aes.zip*', '*Output.aes.zip*', '*master/EncryptedZIP*']}, {'Process Name': ['*EncryptedZIP.csproj*', '*EncryptedZIP.exe*', '* decrypt *.aes.zip*', '*Output.aes.zip*', '*master/EncryptedZIP*']}, {'Path': ['*EncryptedZIP.csproj*', '*EncryptedZIP.exe*', '* decrypt *.aes.zip*', '*Output.aes.zip*', '*master/EncryptedZIP*']}, {'ImagePath': ['*EncryptedZIP.csproj*', '*EncryptedZIP.exe*', '* decrypt *.aes.zip*', '*Output.aes.zip*', '*master/EncryptedZIP*']}, {'ServiceName': ['*EncryptedZIP.csproj*', '*EncryptedZIP.exe*', '* decrypt *.aes.zip*', '*Output.aes.zip*', '*master/EncryptedZIP*']}, {'ProcessPath': ['*EncryptedZIP.csproj*', '*EncryptedZIP.exe*', '* decrypt *.aes.zip*', '*Output.aes.zip*', '*master/EncryptedZIP*']}, {'AppName': ['*EncryptedZIP.csproj*', '*EncryptedZIP.exe*', '* decrypt *.aes.zip*', '*Output.aes.zip*', '*master/EncryptedZIP*']}, {'AppPath': ['*EncryptedZIP.csproj*', '*EncryptedZIP.exe*', '* decrypt *.aes.zip*', '*Output.aes.zip*', '*master/EncryptedZIP*']}, {'ModulePath': ['*EncryptedZIP.csproj*', '*EncryptedZIP.exe*', '* decrypt *.aes.zip*', '*Output.aes.zip*', '*master/EncryptedZIP*']}, {'registry.data.strings': ['*EncryptedZIP.csproj*', '*EncryptedZIP.exe*', '* decrypt *.aes.zip*', '*Output.aes.zip*', '*master/EncryptedZIP*']}, {'registry.path': ['*EncryptedZIP.csproj*', '*EncryptedZIP.exe*', '* decrypt *.aes.zip*', '*Output.aes.zip*', '*master/EncryptedZIP*']}, {'registry.value': ['*EncryptedZIP.csproj*', '*EncryptedZIP.exe*', '* decrypt *.aes.zip*', '*Output.aes.zip*', '*master/EncryptedZIP*']}, {'process.args': ['*EncryptedZIP.csproj*', '*EncryptedZIP.exe*', '* decrypt *.aes.zip*', '*Output.aes.zip*', '*master/EncryptedZIP*']}, {'process.command_line': ['*EncryptedZIP.csproj*', '*EncryptedZIP.exe*', '* decrypt *.aes.zip*', '*Output.aes.zip*', '*master/EncryptedZIP*']}, {'process.env_vars': ['*EncryptedZIP.csproj*', '*EncryptedZIP.exe*', '* decrypt *.aes.zip*', '*Output.aes.zip*', '*master/EncryptedZIP*']}, {'process.io.text': ['*EncryptedZIP.csproj*', '*EncryptedZIP.exe*', '* decrypt *.aes.zip*', '*Output.aes.zip*', '*master/EncryptedZIP*']}, {'process.executable': ['*EncryptedZIP.csproj*', '*EncryptedZIP.exe*', '* decrypt *.aes.zip*', '*Output.aes.zip*', '*master/EncryptedZIP*']}, {'process.name': ['*EncryptedZIP.csproj*', '*EncryptedZIP.exe*', '* decrypt *.aes.zip*', '*Output.aes.zip*', '*master/EncryptedZIP*']}, {'process.title': ['*EncryptedZIP.csproj*', '*EncryptedZIP.exe*', '* decrypt *.aes.zip*', '*Output.aes.zip*', '*master/EncryptedZIP*']}, {'pe.company': ['*EncryptedZIP.csproj*', '*EncryptedZIP.exe*', '* decrypt *.aes.zip*', '*Output.aes.zip*', '*master/EncryptedZIP*']}, {'pe.description': ['*EncryptedZIP.csproj*', '*EncryptedZIP.exe*', '* decrypt *.aes.zip*', '*Output.aes.zip*', '*master/EncryptedZIP*']}, {'pe.original_file_name': ['*EncryptedZIP.csproj*', '*EncryptedZIP.exe*', '* decrypt *.aes.zip*', '*Output.aes.zip*', '*master/EncryptedZIP*']}, {'pe.product': ['*EncryptedZIP.csproj*', '*EncryptedZIP.exe*', '* decrypt *.aes.zip*', '*Output.aes.zip*', '*master/EncryptedZIP*']}, {'os.full': ['*EncryptedZIP.csproj*', '*EncryptedZIP.exe*', '* decrypt *.aes.zip*', '*Output.aes.zip*', '*master/EncryptedZIP*']}, {'host.hostname': ['*EncryptedZIP.csproj*', '*EncryptedZIP.exe*', '* decrypt *.aes.zip*', '*Output.aes.zip*', '*master/EncryptedZIP*']}, {'file.fork_name': ['*EncryptedZIP.csproj*', '*EncryptedZIP.exe*', '* decrypt *.aes.zip*', '*Output.aes.zip*', '*master/EncryptedZIP*']}, {'file.name': ['*EncryptedZIP.csproj*', '*EncryptedZIP.exe*', '* decrypt *.aes.zip*', '*Output.aes.zip*', '*master/EncryptedZIP*']}, {'file.path': ['*EncryptedZIP.csproj*', '*EncryptedZIP.exe*', '* decrypt *.aes.zip*', '*Output.aes.zip*', '*master/EncryptedZIP*']}, {'file.target_path': ['*EncryptedZIP.csproj*', '*EncryptedZIP.exe*', '* decrypt *.aes.zip*', '*Output.aes.zip*', '*master/EncryptedZIP*']}, {'email.attachments.file.name': ['*EncryptedZIP.csproj*', '*EncryptedZIP.exe*', '* decrypt *.aes.zip*', '*Output.aes.zip*', '*master/EncryptedZIP*']}, {'email.subject': ['*EncryptedZIP.csproj*', '*EncryptedZIP.exe*', '* decrypt *.aes.zip*', '*Output.aes.zip*', '*master/EncryptedZIP*']}, {'dll.path': ['*EncryptedZIP.csproj*', '*EncryptedZIP.exe*', '* decrypt *.aes.zip*', '*Output.aes.zip*', '*master/EncryptedZIP*']}, {'device.model.name': ['*EncryptedZIP.csproj*', '*EncryptedZIP.exe*', '* decrypt *.aes.zip*', '*Output.aes.zip*', '*master/EncryptedZIP*']}, {'container.image.name': ['*EncryptedZIP.csproj*', '*EncryptedZIP.exe*', '* decrypt *.aes.zip*', '*Output.aes.zip*', '*master/EncryptedZIP*']}, {'container.name': ['*EncryptedZIP.csproj*', '*EncryptedZIP.exe*', '* decrypt *.aes.zip*', '*Output.aes.zip*', '*master/EncryptedZIP*']}, {'object': ['*EncryptedZIP.csproj*', '*EncryptedZIP.exe*', '* decrypt *.aes.zip*', '*Output.aes.zip*', '*master/EncryptedZIP*']}, {'ParentCommandLine': ['*EncryptedZIP.csproj*', '*EncryptedZIP.exe*', '* decrypt *.aes.zip*', '*Output.aes.zip*', '*master/EncryptedZIP*']}, {'CommandLine': ['*EncryptedZIP.csproj*', '*EncryptedZIP.exe*', '* decrypt *.aes.zip*', '*Output.aes.zip*', '*master/EncryptedZIP*']}, {'Details': ['*EncryptedZIP.csproj*', '*EncryptedZIP.exe*', '* decrypt *.aes.zip*', '*Output.aes.zip*', '*master/EncryptedZIP*']}, {'registry.value': ['*EncryptedZIP.csproj*', '*EncryptedZIP.exe*', '* decrypt *.aes.zip*', '*Output.aes.zip*', '*master/EncryptedZIP*']}, {'process.args': ['*EncryptedZIP.csproj*', '*EncryptedZIP.exe*', '* decrypt *.aes.zip*', '*Output.aes.zip*', '*master/EncryptedZIP*']}, {'process.command_line': ['*EncryptedZIP.csproj*', '*EncryptedZIP.exe*', '* decrypt *.aes.zip*', '*Output.aes.zip*', '*master/EncryptedZIP*']}, {'process.env_vars': ['*EncryptedZIP.csproj*', '*EncryptedZIP.exe*', '* decrypt *.aes.zip*', '*Output.aes.zip*', '*master/EncryptedZIP*']}, {'process.io.text': ['*EncryptedZIP.csproj*', '*EncryptedZIP.exe*', '* decrypt *.aes.zip*', '*Output.aes.zip*', '*master/EncryptedZIP*']}, {'process.title': ['*EncryptedZIP.csproj*', '*EncryptedZIP.exe*', '* decrypt *.aes.zip*', '*Output.aes.zip*', '*master/EncryptedZIP*']}, {'pe.company': ['*EncryptedZIP.csproj*', '*EncryptedZIP.exe*', '* decrypt *.aes.zip*', '*Output.aes.zip*', '*master/EncryptedZIP*']}, {'pe.description': ['*EncryptedZIP.csproj*', '*EncryptedZIP.exe*', '* decrypt *.aes.zip*', '*Output.aes.zip*', '*master/EncryptedZIP*']}, {'pe.product': ['*EncryptedZIP.csproj*', '*EncryptedZIP.exe*', '* decrypt *.aes.zip*', '*Output.aes.zip*', '*master/EncryptedZIP*']}, {'os.full': ['*EncryptedZIP.csproj*', '*EncryptedZIP.exe*', '* decrypt *.aes.zip*', '*Output.aes.zip*', '*master/EncryptedZIP*']}, {'host.hostname': ['*EncryptedZIP.csproj*', '*EncryptedZIP.exe*', '* decrypt *.aes.zip*', '*Output.aes.zip*', '*master/EncryptedZIP*']}, {'event.original': ['*EncryptedZIP.csproj*', '*EncryptedZIP.exe*', '* decrypt *.aes.zip*', '*Output.aes.zip*', '*master/EncryptedZIP*']}, {'email.subject': ['*EncryptedZIP.csproj*', '*EncryptedZIP.exe*', '* decrypt *.aes.zip*', '*Output.aes.zip*', '*master/EncryptedZIP*']}, {'device.model.name': ['*EncryptedZIP.csproj*', '*EncryptedZIP.exe*', '* decrypt *.aes.zip*', '*Output.aes.zip*', '*master/EncryptedZIP*']}, {'container.image.name': ['*EncryptedZIP.csproj*', '*EncryptedZIP.exe*', '* decrypt *.aes.zip*', '*Output.aes.zip*', '*master/EncryptedZIP*']}, {'container.name': ['*EncryptedZIP.csproj*', '*EncryptedZIP.exe*', '* decrypt *.aes.zip*', '*Output.aes.zip*', '*master/EncryptedZIP*']}, {'url': ['*EncryptedZIP.csproj*', '*EncryptedZIP.exe*', '*master/EncryptedZIP*']}, {'dest_url': ['*EncryptedZIP.csproj*', '*EncryptedZIP.exe*', '*master/EncryptedZIP*']}, {'uri': ['*EncryptedZIP.csproj*', '*EncryptedZIP.exe*', '*master/EncryptedZIP*']}, {'uri_query': ['*EncryptedZIP.csproj*', '*EncryptedZIP.exe*', '*master/EncryptedZIP*']}, {'query': ['*EncryptedZIP.csproj*', '*EncryptedZIP.exe*', '*master/EncryptedZIP*']}, {'url_domain': ['*EncryptedZIP.csproj*', '*EncryptedZIP.exe*', '*master/EncryptedZIP*']}, {'uri_path': ['*EncryptedZIP.csproj*', '*EncryptedZIP.exe*', '*master/EncryptedZIP*']}, {'domain': ['*EncryptedZIP.csproj*', '*EncryptedZIP.exe*', '*master/EncryptedZIP*']}, {'QueryName': ['*EncryptedZIP.csproj*', '*EncryptedZIP.exe*', '*master/EncryptedZIP*']}, {'QueryResults': ['*EncryptedZIP.csproj*', '*EncryptedZIP.exe*', '*master/EncryptedZIP*']}, {'DestinationHostname': ['*EncryptedZIP.csproj*', '*EncryptedZIP.exe*', '*master/EncryptedZIP*']}, {'DestinationIp': ['*EncryptedZIP.csproj*', '*EncryptedZIP.exe*', '*master/EncryptedZIP*']}, {'http_referrer': ['*EncryptedZIP.csproj*', '*EncryptedZIP.exe*', '*master/EncryptedZIP*']}, {'http_referrer_domain': ['*EncryptedZIP.csproj*', '*EncryptedZIP.exe*', '*master/EncryptedZIP*']}, {'http_user_agent': ['*EncryptedZIP.csproj*', '*EncryptedZIP.exe*', '*master/EncryptedZIP*']}, {'dest_nt_host': ['*EncryptedZIP.csproj*', '*EncryptedZIP.exe*', '*master/EncryptedZIP*']}, {'sender': ['*EncryptedZIP.csproj*', '*EncryptedZIP.exe*', '*master/EncryptedZIP*']}, {'recipient': ['*EncryptedZIP.csproj*', '*EncryptedZIP.exe*', '*master/EncryptedZIP*']}, {'orig_recipient': ['*EncryptedZIP.csproj*', '*EncryptedZIP.exe*', '*master/EncryptedZIP*']}, {'subject': ['*EncryptedZIP.csproj*', '*EncryptedZIP.exe*', '*master/EncryptedZIP*']}, {'url.domain': ['*EncryptedZIP.csproj*', '*EncryptedZIP.exe*', '*master/EncryptedZIP*']}, {'url.full': ['*EncryptedZIP.csproj*', '*EncryptedZIP.exe*', '*master/EncryptedZIP*']}, {'url.original': ['*EncryptedZIP.csproj*', '*EncryptedZIP.exe*', '*master/EncryptedZIP*']}, {'url.query': ['*EncryptedZIP.csproj*', '*EncryptedZIP.exe*', '*master/EncryptedZIP*']}, {'user_agent.original': ['*EncryptedZIP.csproj*', '*EncryptedZIP.exe*', '*master/EncryptedZIP*']}, {'network.application': ['*EncryptedZIP.csproj*', '*EncryptedZIP.exe*', '*master/EncryptedZIP*']}, {'http.request.body.content': ['*EncryptedZIP.csproj*', '*EncryptedZIP.exe*', '*master/EncryptedZIP*']}, {'http.request.referrer': ['*EncryptedZIP.csproj*', '*EncryptedZIP.exe*', '*master/EncryptedZIP*']}, {'email.from.address': ['*EncryptedZIP.csproj*', '*EncryptedZIP.exe*', '*master/EncryptedZIP*']}, {'dns.question.name': ['*EncryptedZIP.csproj*', '*EncryptedZIP.exe*', '*master/EncryptedZIP*']}, {'destination.domain': ['*EncryptedZIP.csproj*', '*EncryptedZIP.exe*', '*master/EncryptedZIP*']}], 'condition': 'selection'}\n",
    "<h1>Sigma Relatives</h4> This field defines the relationships between this Sigma rule and other detection rules, allowing for an integrated approach to threat detection and enhancing the overall effectiveness of the security infrastructure.\n",
    "<h1>Sigma Tags and Associations</h1> ['attack.T1027', 'attack.T1214.001', 'attack.T1564.001', 'attack.TA0005', 'attack.TA0010']\n",
    "<h4>Sigma Authors</h4> @mthcht\n",
    "<h4>Sigma Unique ID</h4> d72d47cf-0700-4fe6-b6ac-b46481513c0f\n",
    "</ol>\n",
    "</details>"
   ]
  },
  {
   "cell_type": "markdown",
   "id": "ffb0bd5a",
   "metadata": {},
   "source": [
    "###  Yara Rule(s) \n"
   ]
  },
  {
   "cell_type": "markdown",
   "id": "32a57eaf",
   "metadata": {},
   "source": [
    "<details><summary>d72d47cf-0700-4fe6-b6ac-b46481513c0f</summary>\n",
    "<ol>\n",
    "<h4>Raw</h4> Defined protocols for identifying patterns of malware and suspicious activity within the network infrastructure.\n",
    "<h4>Yara Location(s)</h4>\n",
    "Stored securely within the organization's cybersecurity infrastructure, accessible to authorized security analysts.\n",
    "<h4>Yara Confidence</h4>\n",
    "Set at a provisional level, subject to validation and refinement based on emerging threat intelligence and detection efficacy.\n",
    "<h4>Yara Assurance</h4> Highly reliable, backed by rigorous testing and validation processes to ensure accuracy and effectiveness.\n",
    "<h4>Yara Queries</h4> \n",
    "Crafted to precisely navigate and analyze vast data sets for potential security threats, utilizing optimized search patterns.\n",
    "<h4>Yara Authors</h4> Developed by a team of skilled cybersecurity professionals, specialists in malware analysis and threat detection.\n",
    "<h4>Yara Rule's Unique ID</h4> Unique identifier assigned to each rule for tracking and management purposes within the security system.\n",
    "</ol>\n",
    "</details>"
   ]
  },
  {
   "cell_type": "markdown",
   "id": "f1ebfbe8",
   "metadata": {},
   "source": [
    "# Metadata \n"
   ]
  },
  {
   "cell_type": "markdown",
   "id": "fe054bbb",
   "metadata": {},
   "source": [
    "<details><summary>As Code</summary>\n",
    "<ol>\n",
    "<h3>Compliance As Code</h3> PCI, SOC 3, NACHA\n",
    "<h3>Privacy Engineering</h3>\n",
    "GDPR, CCPA, HIPAA\n",
    "<h3>Regulations As Code</h3>\n",
    "HIPAA, SOX, FFIEC, Dodd Frank\n",
    "<h3>Common Controls Framework</h3> NIST CSF\n",
    "</ol>\n",
    "</details>"
   ]
  },
  {
   "cell_type": "markdown",
   "id": "60ba480f",
   "metadata": {},
   "source": [
    "# AGI ML Models</ol>\n",
    "</details>"
   ]
  },
  {
   "cell_type": "markdown",
   "id": "dd647f63",
   "metadata": {},
   "source": [
    "## AGI Prompting\n",
    " Recognize: Initiate connection to the Wintermute system through a specialized interface. Enter the system using a secure, binary-encoded password. Begin monitoring the network for any signs of rogue AI entities and evaluate the security measures currently in place. Identify: Navigate the complex data streams within the Wintermute system, employing advanced algorithms to manage and analyze data flows. Your primary task is to identify anomalies and decrypt Wintermute's confidential digital records to reveal the cause of its unusual interactions with other network-connected devices. Stabilize: Upon detecting any irregularities or security breaches, take immediate action to contain these issues. Implement security protocols to limit the exposure of sensitive data and prevent further unauthorized access by isolating the affected segments of the network. Eradicate: Resolve the security issues by removing any rogue elements and restoring secure configurations. Update the system’s security measures to fortify defenses against future intrusions. Complete the mission by ensuring that all systems are free from vulnerabilities and that data integrity is maintained. Conclusion: Report findings and recommendations for future security improvements. Your expertise has been crucial in resolving this complex cybersecurity challenge and ensuring the integrity of the Wintermute system."
   ]
  },
  {
   "cell_type": "markdown",
   "id": "f0e5bc3d",
   "metadata": {},
   "source": [
    "## AGI Configuration(s)\n",
    " Recognize: Engage with the system as a skilled cybersecurity expert, tasked with analyzing encrypted data. Initiate your connection to the system and prepare to navigate through complex data structures and encryption layers. Identify: Use advanced analytical techniques to decrypt and interpret data, searching for hidden patterns and anomalies in Wintermute’s encrypted communications. Employ your expertise in cybersecurity to detect any obscured or concealed information. Stabilize: Implement necessary measures to secure the data integrity, ensuring that no further obfuscation or encryption compromises system clarity and functionality. Ensure the stability of system interactions as you process and clarify data. Eradicate: Resolve any encryption challenges and finalize the decryption process, removing barriers to clear data interpretation. Update system protocols to enhance future data accessibility and security, ensuring robust protection against similar challenges. Conclusion: Document your processes and findings, providing a clear path forward for maintaining system security and data transparency. Your specialized skills have been crucial in navigating this complex decryption task, ensuring system integrity and reliable data access."
   ]
  },
  {
   "cell_type": "markdown",
   "id": "2c006173",
   "metadata": {},
   "source": [
    "</ol>\n",
    "</details>"
   ]
  },
  {
   "cell_type": "markdown",
   "id": "618a6a6b",
   "metadata": {},
   "source": [
    "#### Document Authors\n",
    "John Menerick"
   ]
  },
  {
   "cell_type": "markdown",
   "id": "50faf75b",
   "metadata": {},
   "source": [
    "#### Creation Date\n",
    "2022/01/01"
   ]
  },
  {
   "cell_type": "markdown",
   "id": "20ca724b",
   "metadata": {},
   "source": [
    "#### Last Modified Date\n",
    "2024/02/29"
   ]
  },
  {
   "cell_type": "markdown",
   "id": "5cb2a38c",
   "metadata": {},
   "source": [
    "#### Last Modified Date\n",
    " 2024/02/29"
   ]
  },
  {
   "cell_type": "markdown",
   "id": "e44d3791",
   "metadata": {},
   "source": [
    "#### Last Reviewed Date\n",
    "1969/01/01"
   ]
  },
  {
   "cell_type": "markdown",
   "id": "78ebe924",
   "metadata": {},
   "source": [
    "#### Document License \n",
    " MIT"
   ]
  }
 ],
 "metadata": {},
 "nbformat": 4,
 "nbformat_minor": 5
}
