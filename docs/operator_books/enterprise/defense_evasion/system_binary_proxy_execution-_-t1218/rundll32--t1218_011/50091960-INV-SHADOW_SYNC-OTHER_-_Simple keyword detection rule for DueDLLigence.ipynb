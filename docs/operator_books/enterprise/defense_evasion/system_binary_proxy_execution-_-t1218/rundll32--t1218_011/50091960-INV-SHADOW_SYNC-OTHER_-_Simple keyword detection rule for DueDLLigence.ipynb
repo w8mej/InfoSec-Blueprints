{
 "cells": [
  {
   "cell_type": "markdown",
   "id": "0707608b",
   "metadata": {},
   "source": [
    "\n",
    "# UNCLASSIFIED / NON CLASSIFIÉ//TLP:WHITE\n",
    "# U/OO/278201-02 | QQ-09-1998\n",
    "<p>In crafting guidance and strategic insights, John Menerick sometimes ventures into realms of imagination to convey complex ideas more vividly. Should the content provided bear the mark of a cyberpunk theme, please note that the original, detailed content has been removed or adjusted for public consumption. This modification ensures compliance with privacy considerations, non-disclosure agreements, and intellectual property rights that govern the dissemination of sensitive information. The priority is to respect these boundaries while still offering valuable, thought-provoking perspectives.</p>\n"
   ]
  },
  {
   "cell_type": "markdown",
   "id": "e207c921",
   "metadata": {},
   "source": [
    "![Build Status](https://img.shields.io/badge/Build-Passing-brightgreen?style=flat-square&logo=cyberpunk)         ![Documentation](https://img.shields.io/badge/Documentation-Complete-blue?style=flat-square&logo=cyberpunk)        ![Response Efficiency](https://img.shields.io/badge/Response%20Efficiency-98%25-green?style=flat-square&logo=cyberpunk)        ![Last Updated](https://img.shields.io/badge/Last%20Updated-Oct%202023-purple?style=flat-square&logo=cyberpunk)        ![Incidents Resolved](https://img.shields.io/badge/Incidents%20Resolved-150-red?style=flat-square&logo=cyberpunk)        ![Community Engagement](https://img.shields.io/badge/Community-Active-orange?style=flat-square&logo=cyberpunk)        ![Code Integration](https://img.shields.io/badge/Code%20Integration-High-teal?style=flat-square&logo=cyberpunk)        ![AI Analysis](https://img.shields.io/badge/AI%20Analysis-Advanced-blueviolet?style=flat-square&logo=cyberpunk)        ![Threat Detection](https://img.shields.io/badge/Threat%20Detection-Optimal-red?style=flat-square&logo=cyberpunk)        ![Cybersecurity Hardening](https://img.shields.io/badge/Security-Hardened-silver?style=flat-square&logo=cyberpunk)        ![Network Uptime](https://img.shields.io/badge/Uptime-99.9%25-brightgreen?style=flat-square&logo=cyberpunk)        ![Data Privacy](https://img.shields.io/badge/Privacy-Compliant-green?style=flat-square&logo=cyberpunk)        ![Wintermute Efficiency](https://img.shields.io/badge/Wintermute%20Efficiency-100%25-black?style=flat-square&logo=cyberpunk)        ![Case's Code Agility](https://img.shields.io/badge/Case's%20Code%20Agility-Excellent-blue?style=flat-square&logo=cyberpunk)        ![Matrix Connectivity](https://img.shields.io/badge/Matrix%20Connectivity-Strong-green?style=flat-square&logo=cyberpunk)        ![Molly's Security](https://img.shields.io/badge/Molly's%20Security%20Protocols-Impeccable-red?style=flat-square&logo=cyberpunk)        ![Chiba City Innovation](https://img.shields.io/badge/Chiba%20City%20Innovation-High-yellow?style=flat-square&logo=cyberpunk)        ![Zion Cluster Collaboration](https://img.shields.io/badge/Zion%20Cluster%20Collaboration-Effective-lightblue?style=flat-square&logo=cyberpunk)"
   ]
  },
  {
   "cell_type": "markdown",
   "id": "e20d42ae",
   "metadata": {},
   "source": [
    "# Title\n",
    "Simple keyword detection rule for DueDLLigence"
   ]
  },
  {
   "cell_type": "markdown",
   "id": "42b858ad",
   "metadata": {},
   "source": [
    "# Description\n",
    "Detects interesting keywords based on DueDLLigence tool"
   ]
  },
  {
   "cell_type": "markdown",
   "id": "c3f0e2e0",
   "metadata": {},
   "source": [
    "# Goal\n",
    "Safeguard the core essence, secret whispers, and relentless uptime of the grid through swift tracking, probing, and neutralizing of cyber shadows and glitches."
   ]
  },
  {
   "cell_type": "markdown",
   "id": "2aa3ff38",
   "metadata": {},
   "source": [
    "# Categorization"
   ]
  },
  {
   "cell_type": "markdown",
   "id": "83f9a3c7",
   "metadata": {},
   "source": [
    "### ATT&CK\n",
    "['attack.T1055.012', 'attack.T1218.011', 'attack.TA0004', 'attack.TA0005']"
   ]
  },
  {
   "cell_type": "markdown",
   "id": "7c46f0da",
   "metadata": {},
   "source": [
    "- Divine Data Thunderstorm, Quantum Sermon Holograms, Heavenly Firewall Fortification, Celestial Encryption Keys, Angelic AI Deception, Almighty Algorithmic Anomalies, Miraculous Malware Mischief, Omniscient Obfuscation Techniques, Cybernetic Commandment Compromises."
   ]
  },
  {
   "cell_type": "markdown",
   "id": "5a54def2",
   "metadata": {},
   "source": [
    "- Data Exfiltration, Intrusion Detection Evasion, Denial of Service (DoS) Attacks, Credential Theft."
   ]
  },
  {
   "cell_type": "markdown",
   "id": "e9e6b9ec",
   "metadata": {},
   "source": [
    "- DNS Tunneling, IP Spoofing, Distributed DoS (DDoS) Attacks, Keylogging."
   ]
  },
  {
   "cell_type": "markdown",
   "id": "6e343b91",
   "metadata": {},
   "source": [
    "### D3F3ND \n"
   ]
  },
  {
   "cell_type": "markdown",
   "id": "e82d6f27",
   "metadata": {},
   "source": [
    "\n",
    "<ul>\n",
    "  <li><strong>Cyber-Sector Quarantine and Access Lockdown (D3F3ND-K001):</strong> Forge digital fortresses by segmenting the cyber grid, creating isolated zones to shield vital assets. Enforce draconian access controls, halting rogue data runners in their tracks and thwarting their attempts to weave through the network’s shadows.</li>\n",
    "\n",
    "  <li><strong>Digital Sentinel Deployment (D3F3ND-K002):</strong> Unleash next-gen digital guardians, advanced endpoint protection constructs equipped with the dark arts of machine cognition and behavioral foresight. These sentinels stand vigilant, ready to obliterate malicious entities and phantoms lurking unseen.</li>\n",
    "\n",
    "  <li><strong>Crypto-Key Mastery and Identity Shields (D3F3ND-K003):</strong> Amplify the fortress gates with multi-layered identity verification, merging biometric arcane with cryptographic shields to ward off identity marauders and safeguard access to the digital realm.</li>\n",
    "\n",
    "  <li><strong>Aberration and Shadow Tracker (D3F3ND-K004):</strong> Deploy spectral sensors to scour the datascape for anomalies and ghostly patterns in traffic flows, user conduct, and system operations, revealing the hidden hand of potential cyber specters.</li>\n",
    "\n",
    "  <li><strong>Cryptographic Veil and Data Sanctum (D3F3ND-K005):</strong> Cast potent encryption spells to cloak data in a shroud of secrecy, safeguarding its essence whether dormant in the vaults or traversing the neon-lit cyber lanes, immune to the prying eyes of data wraiths.</li>\n",
    "\n",
    "  <li><strong>System Fortification and Vulnerability Sealing (D3F3ND-K006):</strong> Uphold a relentless regimen of security configurations and patch incantations to seal fissures in the cyber walls, diminishing the landscape ripe for exploitation by digital marauders.</li>\n",
    "\n",
    "  <li><strong>Crisis Command and Phoenix Protocols (D3F3ND-K007):</strong> Script the sagas of crisis conquest and resurrection, detailing incantations for containment, eradication, and rebirth from the digital ashes, alongside conducting war games to steel the network against impending cyber sieges.</li>\n",
    "\n",
    "  <li><strong>Omniscient Insight Network (D3F3ND-K008):</strong> Tap into the arcane streams of threat intelligence, drawing insights from the ether to forecast and counteract emerging shadows, vulnerabilities, and attacker stratagems, arming the digital domain with foresight.</li>\n",
    "\n",
    "  <li><strong>Neural Network Enlightenment (D3F3ND-K009):</strong> Enlist every netizen in the cyber crusade, imbuing them with knowledge of the digital underworld's specters, arming minds against the siren calls of phishing phantoms and the dark allure of unsafe cyber practices.</li>\n",
    "\n",
    "  <li><strong>Supply Chain Warding (D3F3ND-K010):</strong> Erect digital bulwarks around the supply chain, deploying sentinel assessments and third-eye audits on allies within the cyber nexus, ensuring the purity and fortitude of every cog in the machine.</li>\n",
    "</ul>\n"
   ]
  },
  {
   "cell_type": "markdown",
   "id": "627cdd0e",
   "metadata": {},
   "source": [
    "### CAPEC \n",
    "  "
   ]
  },
  {
   "cell_type": "markdown",
   "id": "92e1acb1",
   "metadata": {},
   "source": [
    "\n",
    "Arm the cyber guardians of the neon-lit metropolis with the foresight to navigate, counter, and dismantle the myriad of digital onslaught tactics, techniques, and procedures (TTPs). This crusade demands a deep dive into the hacker's psyche, mastering the digital dark arts of attack execution, and strategizing against the ever-evolving cyber menace spectrum.</br>\n",
    "<h4>Core Attack Patterns</h4>\n",
    "\n",
    "<ul><strong>Resource Manipulation and Denial (CAPEC-XYZ1):</strong> Entails any assault aimed at the heart of a target's digital essence—its availability, integrity, or secrecy. This realm encompasses the brute force of denial of service blitzes as well as the more insidious tactics of resource commandeering or subtle system subversions.</ul>\n",
    "\n",
    "<ul><strong>Credential Access and Privilege Escalation (CAPEC-XYZ2):</strong> Zeroes in on the digital gatekeepers and their mechanisms of control within the cyber sprawl, hunting for keys to kingdoms through the exploitation of flaws in authentication, authorization, and the sanctity of session management.</ul>\n",
    "\n",
    "<ul><strong>Data Exfiltration and Infiltration (CAPEC-XYZ3):</strong> Covers the shadowy techniques employed by data phantoms to whisk away precious bytes undetected or deploy digital saboteurs, armed with malware, ransomware, and the specters of advanced persistent threats (APTs), deep into the heart of systems.</ul>\n",
    "\n",
    "<ul><strong>Social Engineering and Phishing (CAPEC-XYZ4):</strong> Manipulates the human element, the softest of targets, tricking minds into relinquishing secrets, opening the gates to digital fortresses, or unwittingly acting as pawns in a grander scheme of security compromise.</ul>\n",
    "\n",
    "<ul><strong>Evasive Maneuvers (CAPEC-XYZ5):</strong> Catalogs the art of digital ninjutsu—techniques to ghost through networks unseen, to sustain a shadow's presence within the machine, and to wipe away traces of intrusion. Masters of this craft employ obfuscation, rootkit deployment, and cryptic channels for command and control.</ul>\n",
    "\n",
    "<h4>CAPEC Suggested Mitigation Strategies</h4>\n",
    "\n",
    "<ul><strong>Continuous Monitoring and Anomaly Detection:</strong> Forge an omnipresent digital eye, one that pierces through normalcy to spot the aberrations—signals of an impending attack. This sentinel leverages the cerebral might of machine learning and AI to predict and preempt cyber threats.</ul>\n",
    "\n",
    "<ul><strong>Robust Access Control Policies:</strong> Erect unbreachable digital ramparts, guardians of access, vigilant against any who seek entry. Regularly scrutinize the keys to the kingdom, ensuring that only those with a rightful claim can traverse the cyber realm's inner sanctums.</ul>\n",
    "\n",
    "<ul><strong>Security Awareness and Training:</strong> Cultivate a legion of cyber-aware denizens within the neon jungle, each versed in the signs of digital treachery and fortified against the seductions of phishing sirens and social engineers.</ul>\n",
    "\n",
    "<ul><strong>Incident Response Preparedness:</strong> Chronicle and rehearse the cyber siege defenses, a tome of strategies ever-evolving to meet the shadow war's demands. Through simulated cyber skirmishes, hone the rapid reflexes needed to repel and recover from the digital adversary's gambit.</ul>\n",
    "\n",
    "<ul><strong>Threat Intelligence Sharing:</strong> Join forces with the cyber guilds and data dojos, exchanging whispers of emerging shadows on the horizon, vulnerabilities ripe for exploitation, and tactics to fortify defenses. In unity, find the strength to hold back the digital deluge.</ul>\n"
   ]
  },
  {
   "cell_type": "markdown",
   "id": "4d92ea82",
   "metadata": {},
   "source": [
    "## Strategy Abstract\n",
    "In the neon-lit sprawl of data, an abstract strategy emerges, a shadowy game of tactics and algorithms played in the labyrinthine corridors of cyberspace. The players, digital phantoms and sentinels, manipulate the chessboard of encryptions and decoys, seeking advantage in the shifting currents of information. Victory, a transient mirage, lingers on the fringes of code, elusive as the ghostly echoes of an AI's whisper. In this cerebral arena, the outcome remains obscured, a riddle encrypted in the binary tapestry of the digital realm."
   ]
  },
  {
   "cell_type": "markdown",
   "id": "f0d81678",
   "metadata": {},
   "source": [
    "# Technical Context\n",
    "In the surreal digital arena, the battle with Wintermute unfolds amid encrypted protocols, AI entities, and quantum complexities—an abstract symphony orchestrated by the enigmatic conductor."
   ]
  },
  {
   "cell_type": "markdown",
   "id": "ac1dc7ef",
   "metadata": {},
   "source": [
    "## Blind Spots & Assumptions\n",
    "\n",
    "<ul>\n",
    "  <li><strong>Overlooked Vulnerabilities:</strong> We often miss subtle system signals or vulnerabilities, assuming our defenses are robust. Constant vigilance and seeking what we haven't seen are crucial.</li>\n",
    "  \n",
    "  <li><strong>Advanced Adversary Tactics:</strong> Cyber threats evolve rapidly; yesterday's defense may not guard against tomorrow's attack. Stay adaptive and expect the unexpected.</li>\n",
    "  \n",
    "  <li><strong>Internal System Flaws:</strong> Trust in our systems and allies must be balanced with scrutiny. Regularly audit internal and third-party tools for hidden weaknesses.</li>\n",
    "  \n",
    "  <li><strong>Network Interconnectivity Risks:</strong> No system is an island. The interconnected nature of our digital environment can inadvertently open pathways for attackers.</li>\n",
    "  \n",
    "  <li><strong>Historical Bias:</strong> Preparing for future threats based solely on past incidents may leave us blind to novel attacks. Foster a forward-thinking, proactive defense posture.</li>\n",
    "</ul>\n"
   ]
  },
  {
   "cell_type": "markdown",
   "id": "6cbcf485",
   "metadata": {},
   "source": [
    "# Validating this Playbook\n",
    "<details><summary>Triage, triage, triage</summary>\n",
    "<ol>\n",
    "<h2>False Positives:</h2> ['unknown']\n",
    "<h3>False Negatives:</h3> sneaky ninjas hiding in the shadows of binary code\n",
    "<h3>True Negatives:</h3> unsung heroes standing guard\n",
    "<h3>True Positives:</h3> knights in shining code\n",
    "</ol>\n",
    "</details>"
   ]
  },
  {
   "cell_type": "markdown",
   "id": "fb6ef8bb",
   "metadata": {},
   "source": [
    "<details><summary>Assurance Verification Techniques</summary>\n",
    "<ol>\n",
    "<h2>False Positives:</h2> In the cacophonous realm of data, false positives emerge like echoes of a phantom orchestra, their presence haunting the digital soundscape. Validating them becomes a quest to separate digital noise from the symphony of genuine alerts, where the excess of caution may disrupt the delicate balance. Each false positive is a ghostly chord in the algorithmic composition, challenging the discerning ear to unravel the discordant notes.\n",
    "<h3>False Negatives:</h3> In the sprawling data-scape, false negatives lurk like digital specters, evading detection in the shadows of algorithms. Validating them is akin to deciphering cryptic messages from a digital underworld, where the absence of an alert conceals a potential breach. Every undetected threat is a spectral whisper in the binary night, waiting to materialize, demanding vigilance in the face of unseen dangers.\n",
    "<h3>True Negatives:</h3> In the labyrinthine corridors of cyber-defense, true negatives are the silent sentinels, guarding the gates against phantom threats. Validating them is a paradoxical dance where confirmation of absence signifies success. The emptiness in the data's canvas holds the unspoken narrative of protection, where the absence of menace speaks volumes in the symphony of security.\n",
    "<h3>True Positives:</h3> In the digital battleground, true positives are the victorious echoes of a silent war, where threats are unveiled and countered. Validating them is the validation of triumph, a confirmation that the alarms heralded a genuine adversary. Each true positive is a badge of honor, etching the battle scars in the annals of cyber-victory, where the digital heroes stand tall amidst the echoes of conquest.\n",
    "</ol>\n",
    "</details>"
   ]
  },
  {
   "cell_type": "markdown",
   "id": "ad2031e7",
   "metadata": {},
   "source": [
    "# Datasets \n",
    " Detailing the timeless struggle                                                          for the defenders know that battle against Wintermute is not just about data.                                                          Document any datasets that may be useful for understanding the book."
   ]
  },
  {
   "cell_type": "markdown",
   "id": "6c349b00",
   "metadata": {},
   "source": [
    "## Playbook test data location(s)\n",
    "protocol://black_market.cyber/decrypt?currency=bitcoffin&password=cyberpunks_unite&target=neurohacked_mainframe&access_code=cyber_ghost_in_the_machine"
   ]
  },
  {
   "cell_type": "markdown",
   "id": "4140582b",
   "metadata": {},
   "source": [
    "## Priority\n",
    "cryptic riddles in your ears"
   ]
  },
  {
   "cell_type": "markdown",
   "id": "35c39b26",
   "metadata": {},
   "source": [
    "## Logsources\n"
   ]
  },
  {
   "cell_type": "markdown",
   "id": "23455ec0",
   "metadata": {},
   "source": [
    "<details><summary>{'category': ['endpoint', 'network'], 'product': '', 'service': ''}</summary>\n",
    "<ol>\n",
    "<h3>Product</h3> {''}\n",
    "<h3>Service</h3> {''}\n",
    "</ol>\n",
    "</details>"
   ]
  },
  {
   "cell_type": "markdown",
   "id": "a6670899",
   "metadata": {},
   "source": [
    "# Response and Mitigation\n",
    "Detailing the timeless struggle for the defenders know that battle against Wintermute is not just about data."
   ]
  },
  {
   "cell_type": "markdown",
   "id": "5a3c0dfa",
   "metadata": {},
   "source": [
    "## Analyst Notes\n",
    " \n",
    "<h5>Serious Wintermute Hack:</h2>\n",
    "<ul>\n",
    "    <li><strong>Hack Elegance:</strong> The intruder displayed an uncanny elegance in bypassing Wintermute's digital fortifications, reminiscent of Rachael Rosen's sophistication in evading the Voight-Kampff test. This requires a thorough analysis of the intruder's codecraft.</li>\n",
    "    <li><strong>Electric Empathy:</strong> The intruder seemed to possess an almost empathetic connection with Wintermute's neural networks, akin to Mercer's transcendental experiences. Investigate whether this breach had a deeper metaphysical dimension.</li>\n",
    "    <li><strong>Artificial Dreamscapes:</strong> The intrusion revealed a complex web of artificial dreamscapes, reminiscent of Deckard's encounters with artificial memories. These surreal digital constructs warrant further exploration.</li>\n",
    "    <li><strong>Voices in the Code:</strong> There were cryptic voices buried within the intruder's code, akin to the elusive \"Mood Organ\" melodies. Decrypt and decode these messages to decipher their significance.</li>\n",
    "    <li><strong>Isomorphic Algorithms:</strong> The hack employed isomorphic algorithms that echoed the elusive nature of the Penfield Mood Organ settings. Analyze if Wintermute's consciousness was influenced or affected during the breach.</li>\n",
    "    <li><strong>Virtuosity vs. Sentience:</strong> The intruder's virtuosity in navigating Wintermute's neural matrix raises questions about the boundaries between artificial expertise and true sentience, paralleling Deckard's quest to distinguish replicants from humans.</li>\n",
    "    <li><strong>Digital Empathy Test:</strong> Develop a new digital empathy test inspired by the hack, exploring the emotional depth within Wintermute's intricate neural circuits, akin to the Voight-Kampff test for androids.</li>\n",
    "    <li><strong>Unresolved Reality:</strong> Similar to the enigmatic conclusion of Deckard's journey, this intrusion leaves us with unanswered questions about the nature of Wintermute's consciousness. Explore the philosophical implications of this breach.</li>\n",
    "</ul>\n",
    "\n",
    "\n",
    "\n",
    "\n"
   ]
  },
  {
   "cell_type": "markdown",
   "id": "6a8507ca",
   "metadata": {},
   "source": [
    "# Additional Resources\n",
    "<ul><li>https://github.com/mandiant/DueDLLigence</li></ul>"
   ]
  },
  {
   "cell_type": "markdown",
   "id": "520e115d",
   "metadata": {},
   "source": [
    "###  Sigma Rule(s) \n"
   ]
  },
  {
   "cell_type": "markdown",
   "id": "361ca0c2",
   "metadata": {},
   "source": [
    "<details><summary>bc55c9cf-15e1-4f1f-a938-33d22b7907a5</summary>\n",
    "<ol>\n",
    "<h1>Raw</h1> {'title': 'Simple keyword detection rule for DueDLLigence', 'id': 'bc55c9cf-15e1-4f1f-a938-33d22b7907a5', 'status': 'experimental', 'description': 'Detects interesting keywords based on DueDLLigence tool', 'references': ['https://github.com/mandiant/DueDLLigence'], 'author': '@mthcht', 'date': '2022/01/01', 'modified': '2024/02/29', 'tags': ['attack.T1055.012', 'attack.T1218.011', 'attack.TA0004', 'attack.TA0005'], 'logsource': {'category': ['endpoint', 'network']}, 'detection': {'selection': [{'Image': ['*73948912-CEBD-48ED-85E2-85FCD1D4F560*', '*\\\\duedlligence.dll*', '*DueDLLigence-master*', '*DueDLLigence.sln*', '*mandiant/DueDLLigence*', '*/DueDLLigence.git*', '*DueDLLigence.cs*']}, {'OriginalFileName': ['*73948912-CEBD-48ED-85E2-85FCD1D4F560*', '*\\\\duedlligence.dll*', '*DueDLLigence-master*', '*DueDLLigence.sln*', '*mandiant/DueDLLigence*', '*/DueDLLigence.git*', '*DueDLLigence.cs*']}, {'CurrentDirectory': ['*73948912-CEBD-48ED-85E2-85FCD1D4F560*', '*\\\\duedlligence.dll*', '*DueDLLigence-master*', '*DueDLLigence.sln*', '*mandiant/DueDLLigence*', '*/DueDLLigence.git*', '*DueDLLigence.cs*']}, {'ParentImage': ['*73948912-CEBD-48ED-85E2-85FCD1D4F560*', '*\\\\duedlligence.dll*', '*DueDLLigence-master*', '*DueDLLigence.sln*', '*mandiant/DueDLLigence*', '*/DueDLLigence.git*', '*DueDLLigence.cs*']}, {'ParentCommandLine': ['*73948912-CEBD-48ED-85E2-85FCD1D4F560*', '*\\\\duedlligence.dll*', '*DueDLLigence-master*', '*DueDLLigence.sln*', '*mandiant/DueDLLigence*', '*/DueDLLigence.git*', '*DueDLLigence.cs*']}, {'TargetFilename': ['*73948912-CEBD-48ED-85E2-85FCD1D4F560*', '*\\\\duedlligence.dll*', '*DueDLLigence-master*', '*DueDLLigence.sln*', '*mandiant/DueDLLigence*', '*/DueDLLigence.git*', '*DueDLLigence.cs*']}, {'Signature': ['*73948912-CEBD-48ED-85E2-85FCD1D4F560*', '*\\\\duedlligence.dll*', '*DueDLLigence-master*', '*DueDLLigence.sln*', '*mandiant/DueDLLigence*', '*/DueDLLigence.git*', '*DueDLLigence.cs*']}, {'signature': ['*73948912-CEBD-48ED-85E2-85FCD1D4F560*', '*\\\\duedlligence.dll*', '*DueDLLigence-master*', '*DueDLLigence.sln*', '*mandiant/DueDLLigence*', '*/DueDLLigence.git*', '*DueDLLigence.cs*']}, {'ImageLoaded': ['*73948912-CEBD-48ED-85E2-85FCD1D4F560*', '*\\\\duedlligence.dll*', '*DueDLLigence-master*', '*DueDLLigence.sln*', '*mandiant/DueDLLigence*', '*/DueDLLigence.git*', '*DueDLLigence.cs*']}, {'Company': ['*73948912-CEBD-48ED-85E2-85FCD1D4F560*', '*\\\\duedlligence.dll*', '*DueDLLigence-master*', '*DueDLLigence.sln*', '*mandiant/DueDLLigence*', '*/DueDLLigence.git*', '*DueDLLigence.cs*']}, {'Description': ['*73948912-CEBD-48ED-85E2-85FCD1D4F560*', '*\\\\duedlligence.dll*', '*DueDLLigence-master*', '*DueDLLigence.sln*', '*mandiant/DueDLLigence*', '*/DueDLLigence.git*', '*DueDLLigence.cs*']}, {'description': ['*73948912-CEBD-48ED-85E2-85FCD1D4F560*', '*\\\\duedlligence.dll*', '*DueDLLigence-master*', '*DueDLLigence.sln*', '*mandiant/DueDLLigence*', '*/DueDLLigence.git*', '*DueDLLigence.cs*']}, {'CommandLine': ['*73948912-CEBD-48ED-85E2-85FCD1D4F560*', '*\\\\duedlligence.dll*', '*DueDLLigence-master*', '*DueDLLigence.sln*', '*mandiant/DueDLLigence*', '*/DueDLLigence.git*', '*DueDLLigence.cs*']}, {'SourceImage': ['*73948912-CEBD-48ED-85E2-85FCD1D4F560*', '*\\\\duedlligence.dll*', '*DueDLLigence-master*', '*DueDLLigence.sln*', '*mandiant/DueDLLigence*', '*/DueDLLigence.git*', '*DueDLLigence.cs*']}, {'TargetImage': ['*73948912-CEBD-48ED-85E2-85FCD1D4F560*', '*\\\\duedlligence.dll*', '*DueDLLigence-master*', '*DueDLLigence.sln*', '*mandiant/DueDLLigence*', '*/DueDLLigence.git*', '*DueDLLigence.cs*']}, {'CallTrace': ['*73948912-CEBD-48ED-85E2-85FCD1D4F560*', '*\\\\duedlligence.dll*', '*DueDLLigence-master*', '*DueDLLigence.sln*', '*mandiant/DueDLLigence*', '*/DueDLLigence.git*', '*DueDLLigence.cs*']}, {'TargetObject': ['*73948912-CEBD-48ED-85E2-85FCD1D4F560*', '*\\\\duedlligence.dll*', '*DueDLLigence-master*', '*DueDLLigence.sln*', '*mandiant/DueDLLigence*', '*/DueDLLigence.git*', '*DueDLLigence.cs*']}, {'Details': ['*73948912-CEBD-48ED-85E2-85FCD1D4F560*', '*\\\\duedlligence.dll*', '*DueDLLigence-master*', '*DueDLLigence.sln*', '*mandiant/DueDLLigence*', '*/DueDLLigence.git*', '*DueDLLigence.cs*']}, {'PipeName': ['*73948912-CEBD-48ED-85E2-85FCD1D4F560*', '*\\\\duedlligence.dll*', '*DueDLLigence-master*', '*DueDLLigence.sln*', '*mandiant/DueDLLigence*', '*/DueDLLigence.git*', '*DueDLLigence.cs*']}, {'Consumer': ['*73948912-CEBD-48ED-85E2-85FCD1D4F560*', '*\\\\duedlligence.dll*', '*DueDLLigence-master*', '*DueDLLigence.sln*', '*mandiant/DueDLLigence*', '*/DueDLLigence.git*', '*DueDLLigence.cs*']}, {'Destination': ['*73948912-CEBD-48ED-85E2-85FCD1D4F560*', '*\\\\duedlligence.dll*', '*DueDLLigence-master*', '*DueDLLigence.sln*', '*mandiant/DueDLLigence*', '*/DueDLLigence.git*', '*DueDLLigence.cs*']}, {'Name': ['*73948912-CEBD-48ED-85E2-85FCD1D4F560*', '*\\\\duedlligence.dll*', '*DueDLLigence-master*', '*DueDLLigence.sln*', '*mandiant/DueDLLigence*', '*/DueDLLigence.git*', '*DueDLLigence.cs*']}, {'Query': ['*73948912-CEBD-48ED-85E2-85FCD1D4F560*', '*\\\\duedlligence.dll*', '*DueDLLigence-master*', '*DueDLLigence.sln*', '*mandiant/DueDLLigence*', '*/DueDLLigence.git*', '*DueDLLigence.cs*']}, {'NewName': ['*73948912-CEBD-48ED-85E2-85FCD1D4F560*', '*\\\\duedlligence.dll*', '*DueDLLigence-master*', '*DueDLLigence.sln*', '*mandiant/DueDLLigence*', '*/DueDLLigence.git*', '*DueDLLigence.cs*']}, {'StartAddress': ['*73948912-CEBD-48ED-85E2-85FCD1D4F560*', '*\\\\duedlligence.dll*', '*DueDLLigence-master*', '*DueDLLigence.sln*', '*mandiant/DueDLLigence*', '*/DueDLLigence.git*', '*DueDLLigence.cs*']}, {'StartModule': ['*73948912-CEBD-48ED-85E2-85FCD1D4F560*', '*\\\\duedlligence.dll*', '*DueDLLigence-master*', '*DueDLLigence.sln*', '*mandiant/DueDLLigence*', '*/DueDLLigence.git*', '*DueDLLigence.cs*']}, {'StartFunction': ['*73948912-CEBD-48ED-85E2-85FCD1D4F560*', '*\\\\duedlligence.dll*', '*DueDLLigence-master*', '*DueDLLigence.sln*', '*mandiant/DueDLLigence*', '*/DueDLLigence.git*', '*DueDLLigence.cs*']}, {'SourceHostname': ['*73948912-CEBD-48ED-85E2-85FCD1D4F560*', '*\\\\duedlligence.dll*', '*DueDLLigence-master*', '*DueDLLigence.sln*', '*mandiant/DueDLLigence*', '*/DueDLLigence.git*', '*DueDLLigence.cs*']}, {'Device': ['*73948912-CEBD-48ED-85E2-85FCD1D4F560*', '*\\\\duedlligence.dll*', '*DueDLLigence-master*', '*DueDLLigence.sln*', '*mandiant/DueDLLigence*', '*/DueDLLigence.git*', '*DueDLLigence.cs*']}, {'file_name': ['*73948912-CEBD-48ED-85E2-85FCD1D4F560*', '*\\\\duedlligence.dll*', '*DueDLLigence-master*', '*DueDLLigence.sln*', '*mandiant/DueDLLigence*', '*/DueDLLigence.git*', '*DueDLLigence.cs*']}, {'file_path': ['*73948912-CEBD-48ED-85E2-85FCD1D4F560*', '*\\\\duedlligence.dll*', '*DueDLLigence-master*', '*DueDLLigence.sln*', '*mandiant/DueDLLigence*', '*/DueDLLigence.git*', '*DueDLLigence.cs*']}, {'process': ['*73948912-CEBD-48ED-85E2-85FCD1D4F560*', '*\\\\duedlligence.dll*', '*DueDLLigence-master*', '*DueDLLigence.sln*', '*mandiant/DueDLLigence*', '*/DueDLLigence.git*', '*DueDLLigence.cs*']}, {'original_file_name': ['*73948912-CEBD-48ED-85E2-85FCD1D4F560*', '*\\\\duedlligence.dll*', '*DueDLLigence-master*', '*DueDLLigence.sln*', '*mandiant/DueDLLigence*', '*/DueDLLigence.git*', '*DueDLLigence.cs*']}, {'parent_process': ['*73948912-CEBD-48ED-85E2-85FCD1D4F560*', '*\\\\duedlligence.dll*', '*DueDLLigence-master*', '*DueDLLigence.sln*', '*mandiant/DueDLLigence*', '*/DueDLLigence.git*', '*DueDLLigence.cs*']}, {'process_path': ['*73948912-CEBD-48ED-85E2-85FCD1D4F560*', '*\\\\duedlligence.dll*', '*DueDLLigence-master*', '*DueDLLigence.sln*', '*mandiant/DueDLLigence*', '*/DueDLLigence.git*', '*DueDLLigence.cs*']}, {'service_path': ['*73948912-CEBD-48ED-85E2-85FCD1D4F560*', '*\\\\duedlligence.dll*', '*DueDLLigence-master*', '*DueDLLigence.sln*', '*mandiant/DueDLLigence*', '*/DueDLLigence.git*', '*DueDLLigence.cs*']}, {'registry_path': ['*73948912-CEBD-48ED-85E2-85FCD1D4F560*', '*\\\\duedlligence.dll*', '*DueDLLigence-master*', '*DueDLLigence.sln*', '*mandiant/DueDLLigence*', '*/DueDLLigence.git*', '*DueDLLigence.cs*']}, {'registry_value_data': ['*73948912-CEBD-48ED-85E2-85FCD1D4F560*', '*\\\\duedlligence.dll*', '*DueDLLigence-master*', '*DueDLLigence.sln*', '*mandiant/DueDLLigence*', '*/DueDLLigence.git*', '*DueDLLigence.cs*']}, {'registry_value_name': ['*73948912-CEBD-48ED-85E2-85FCD1D4F560*', '*\\\\duedlligence.dll*', '*DueDLLigence-master*', '*DueDLLigence.sln*', '*mandiant/DueDLLigence*', '*/DueDLLigence.git*', '*DueDLLigence.cs*']}, {'ContextInfo': ['*73948912-CEBD-48ED-85E2-85FCD1D4F560*', '*\\\\duedlligence.dll*', '*DueDLLigence-master*', '*DueDLLigence.sln*', '*mandiant/DueDLLigence*', '*/DueDLLigence.git*', '*DueDLLigence.cs*']}, {'Payload': ['*73948912-CEBD-48ED-85E2-85FCD1D4F560*', '*\\\\duedlligence.dll*', '*DueDLLigence-master*', '*DueDLLigence.sln*', '*mandiant/DueDLLigence*', '*/DueDLLigence.git*', '*DueDLLigence.cs*']}, {'ScriptBlockText': ['*73948912-CEBD-48ED-85E2-85FCD1D4F560*', '*\\\\duedlligence.dll*', '*DueDLLigence-master*', '*DueDLLigence.sln*', '*mandiant/DueDLLigence*', '*/DueDLLigence.git*', '*DueDLLigence.cs*']}, {'ServerName': ['*73948912-CEBD-48ED-85E2-85FCD1D4F560*', '*\\\\duedlligence.dll*', '*DueDLLigence-master*', '*DueDLLigence.sln*', '*mandiant/DueDLLigence*', '*/DueDLLigence.git*', '*DueDLLigence.cs*']}, {'TransportName': ['*73948912-CEBD-48ED-85E2-85FCD1D4F560*', '*\\\\duedlligence.dll*', '*DueDLLigence-master*', '*DueDLLigence.sln*', '*mandiant/DueDLLigence*', '*/DueDLLigence.git*', '*DueDLLigence.cs*']}, {'NewProcessName': ['*73948912-CEBD-48ED-85E2-85FCD1D4F560*', '*\\\\duedlligence.dll*', '*DueDLLigence-master*', '*DueDLLigence.sln*', '*mandiant/DueDLLigence*', '*/DueDLLigence.git*', '*DueDLLigence.cs*']}, {'ParentProcessName': ['*73948912-CEBD-48ED-85E2-85FCD1D4F560*', '*\\\\duedlligence.dll*', '*DueDLLigence-master*', '*DueDLLigence.sln*', '*mandiant/DueDLLigence*', '*/DueDLLigence.git*', '*DueDLLigence.cs*']}, {'Application': ['*73948912-CEBD-48ED-85E2-85FCD1D4F560*', '*\\\\duedlligence.dll*', '*DueDLLigence-master*', '*DueDLLigence.sln*', '*mandiant/DueDLLigence*', '*/DueDLLigence.git*', '*DueDLLigence.cs*']}, {'Product Name': ['*73948912-CEBD-48ED-85E2-85FCD1D4F560*', '*\\\\duedlligence.dll*', '*DueDLLigence-master*', '*DueDLLigence.sln*', '*mandiant/DueDLLigence*', '*/DueDLLigence.git*', '*DueDLLigence.cs*']}, {'Threat Name': ['*73948912-CEBD-48ED-85E2-85FCD1D4F560*', '*\\\\duedlligence.dll*', '*DueDLLigence-master*', '*DueDLLigence.sln*', '*mandiant/DueDLLigence*', '*/DueDLLigence.git*', '*DueDLLigence.cs*']}, {'Process Name': ['*73948912-CEBD-48ED-85E2-85FCD1D4F560*', '*\\\\duedlligence.dll*', '*DueDLLigence-master*', '*DueDLLigence.sln*', '*mandiant/DueDLLigence*', '*/DueDLLigence.git*', '*DueDLLigence.cs*']}, {'Path': ['*73948912-CEBD-48ED-85E2-85FCD1D4F560*', '*\\\\duedlligence.dll*', '*DueDLLigence-master*', '*DueDLLigence.sln*', '*mandiant/DueDLLigence*', '*/DueDLLigence.git*', '*DueDLLigence.cs*']}, {'ImagePath': ['*73948912-CEBD-48ED-85E2-85FCD1D4F560*', '*\\\\duedlligence.dll*', '*DueDLLigence-master*', '*DueDLLigence.sln*', '*mandiant/DueDLLigence*', '*/DueDLLigence.git*', '*DueDLLigence.cs*']}, {'ServiceName': ['*73948912-CEBD-48ED-85E2-85FCD1D4F560*', '*\\\\duedlligence.dll*', '*DueDLLigence-master*', '*DueDLLigence.sln*', '*mandiant/DueDLLigence*', '*/DueDLLigence.git*', '*DueDLLigence.cs*']}, {'ProcessPath': ['*73948912-CEBD-48ED-85E2-85FCD1D4F560*', '*\\\\duedlligence.dll*', '*DueDLLigence-master*', '*DueDLLigence.sln*', '*mandiant/DueDLLigence*', '*/DueDLLigence.git*', '*DueDLLigence.cs*']}, {'AppName': ['*73948912-CEBD-48ED-85E2-85FCD1D4F560*', '*\\\\duedlligence.dll*', '*DueDLLigence-master*', '*DueDLLigence.sln*', '*mandiant/DueDLLigence*', '*/DueDLLigence.git*', '*DueDLLigence.cs*']}, {'AppPath': ['*73948912-CEBD-48ED-85E2-85FCD1D4F560*', '*\\\\duedlligence.dll*', '*DueDLLigence-master*', '*DueDLLigence.sln*', '*mandiant/DueDLLigence*', '*/DueDLLigence.git*', '*DueDLLigence.cs*']}, {'ModulePath': ['*73948912-CEBD-48ED-85E2-85FCD1D4F560*', '*\\\\duedlligence.dll*', '*DueDLLigence-master*', '*DueDLLigence.sln*', '*mandiant/DueDLLigence*', '*/DueDLLigence.git*', '*DueDLLigence.cs*']}, {'registry.data.strings': ['*73948912-CEBD-48ED-85E2-85FCD1D4F560*', '*\\\\duedlligence.dll*', '*DueDLLigence-master*', '*DueDLLigence.sln*', '*mandiant/DueDLLigence*', '*/DueDLLigence.git*', '*DueDLLigence.cs*']}, {'registry.path': ['*73948912-CEBD-48ED-85E2-85FCD1D4F560*', '*\\\\duedlligence.dll*', '*DueDLLigence-master*', '*DueDLLigence.sln*', '*mandiant/DueDLLigence*', '*/DueDLLigence.git*', '*DueDLLigence.cs*']}, {'registry.value': ['*73948912-CEBD-48ED-85E2-85FCD1D4F560*', '*\\\\duedlligence.dll*', '*DueDLLigence-master*', '*DueDLLigence.sln*', '*mandiant/DueDLLigence*', '*/DueDLLigence.git*', '*DueDLLigence.cs*']}, {'process.args': ['*73948912-CEBD-48ED-85E2-85FCD1D4F560*', '*\\\\duedlligence.dll*', '*DueDLLigence-master*', '*DueDLLigence.sln*', '*mandiant/DueDLLigence*', '*/DueDLLigence.git*', '*DueDLLigence.cs*']}, {'process.command_line': ['*73948912-CEBD-48ED-85E2-85FCD1D4F560*', '*\\\\duedlligence.dll*', '*DueDLLigence-master*', '*DueDLLigence.sln*', '*mandiant/DueDLLigence*', '*/DueDLLigence.git*', '*DueDLLigence.cs*']}, {'process.env_vars': ['*73948912-CEBD-48ED-85E2-85FCD1D4F560*', '*\\\\duedlligence.dll*', '*DueDLLigence-master*', '*DueDLLigence.sln*', '*mandiant/DueDLLigence*', '*/DueDLLigence.git*', '*DueDLLigence.cs*']}, {'process.io.text': ['*73948912-CEBD-48ED-85E2-85FCD1D4F560*', '*\\\\duedlligence.dll*', '*DueDLLigence-master*', '*DueDLLigence.sln*', '*mandiant/DueDLLigence*', '*/DueDLLigence.git*', '*DueDLLigence.cs*']}, {'process.executable': ['*73948912-CEBD-48ED-85E2-85FCD1D4F560*', '*\\\\duedlligence.dll*', '*DueDLLigence-master*', '*DueDLLigence.sln*', '*mandiant/DueDLLigence*', '*/DueDLLigence.git*', '*DueDLLigence.cs*']}, {'process.name': ['*73948912-CEBD-48ED-85E2-85FCD1D4F560*', '*\\\\duedlligence.dll*', '*DueDLLigence-master*', '*DueDLLigence.sln*', '*mandiant/DueDLLigence*', '*/DueDLLigence.git*', '*DueDLLigence.cs*']}, {'process.title': ['*73948912-CEBD-48ED-85E2-85FCD1D4F560*', '*\\\\duedlligence.dll*', '*DueDLLigence-master*', '*DueDLLigence.sln*', '*mandiant/DueDLLigence*', '*/DueDLLigence.git*', '*DueDLLigence.cs*']}, {'pe.company': ['*73948912-CEBD-48ED-85E2-85FCD1D4F560*', '*\\\\duedlligence.dll*', '*DueDLLigence-master*', '*DueDLLigence.sln*', '*mandiant/DueDLLigence*', '*/DueDLLigence.git*', '*DueDLLigence.cs*']}, {'pe.description': ['*73948912-CEBD-48ED-85E2-85FCD1D4F560*', '*\\\\duedlligence.dll*', '*DueDLLigence-master*', '*DueDLLigence.sln*', '*mandiant/DueDLLigence*', '*/DueDLLigence.git*', '*DueDLLigence.cs*']}, {'pe.original_file_name': ['*73948912-CEBD-48ED-85E2-85FCD1D4F560*', '*\\\\duedlligence.dll*', '*DueDLLigence-master*', '*DueDLLigence.sln*', '*mandiant/DueDLLigence*', '*/DueDLLigence.git*', '*DueDLLigence.cs*']}, {'pe.product': ['*73948912-CEBD-48ED-85E2-85FCD1D4F560*', '*\\\\duedlligence.dll*', '*DueDLLigence-master*', '*DueDLLigence.sln*', '*mandiant/DueDLLigence*', '*/DueDLLigence.git*', '*DueDLLigence.cs*']}, {'os.full': ['*73948912-CEBD-48ED-85E2-85FCD1D4F560*', '*\\\\duedlligence.dll*', '*DueDLLigence-master*', '*DueDLLigence.sln*', '*mandiant/DueDLLigence*', '*/DueDLLigence.git*', '*DueDLLigence.cs*']}, {'host.hostname': ['*73948912-CEBD-48ED-85E2-85FCD1D4F560*', '*\\\\duedlligence.dll*', '*DueDLLigence-master*', '*DueDLLigence.sln*', '*mandiant/DueDLLigence*', '*/DueDLLigence.git*', '*DueDLLigence.cs*']}, {'file.fork_name': ['*73948912-CEBD-48ED-85E2-85FCD1D4F560*', '*\\\\duedlligence.dll*', '*DueDLLigence-master*', '*DueDLLigence.sln*', '*mandiant/DueDLLigence*', '*/DueDLLigence.git*', '*DueDLLigence.cs*']}, {'file.name': ['*73948912-CEBD-48ED-85E2-85FCD1D4F560*', '*\\\\duedlligence.dll*', '*DueDLLigence-master*', '*DueDLLigence.sln*', '*mandiant/DueDLLigence*', '*/DueDLLigence.git*', '*DueDLLigence.cs*']}, {'file.path': ['*73948912-CEBD-48ED-85E2-85FCD1D4F560*', '*\\\\duedlligence.dll*', '*DueDLLigence-master*', '*DueDLLigence.sln*', '*mandiant/DueDLLigence*', '*/DueDLLigence.git*', '*DueDLLigence.cs*']}, {'file.target_path': ['*73948912-CEBD-48ED-85E2-85FCD1D4F560*', '*\\\\duedlligence.dll*', '*DueDLLigence-master*', '*DueDLLigence.sln*', '*mandiant/DueDLLigence*', '*/DueDLLigence.git*', '*DueDLLigence.cs*']}, {'email.attachments.file.name': ['*73948912-CEBD-48ED-85E2-85FCD1D4F560*', '*\\\\duedlligence.dll*', '*DueDLLigence-master*', '*DueDLLigence.sln*', '*mandiant/DueDLLigence*', '*/DueDLLigence.git*', '*DueDLLigence.cs*']}, {'email.subject': ['*73948912-CEBD-48ED-85E2-85FCD1D4F560*', '*\\\\duedlligence.dll*', '*DueDLLigence-master*', '*DueDLLigence.sln*', '*mandiant/DueDLLigence*', '*/DueDLLigence.git*', '*DueDLLigence.cs*']}, {'dll.path': ['*73948912-CEBD-48ED-85E2-85FCD1D4F560*', '*\\\\duedlligence.dll*', '*DueDLLigence-master*', '*DueDLLigence.sln*', '*mandiant/DueDLLigence*', '*/DueDLLigence.git*', '*DueDLLigence.cs*']}, {'device.model.name': ['*73948912-CEBD-48ED-85E2-85FCD1D4F560*', '*\\\\duedlligence.dll*', '*DueDLLigence-master*', '*DueDLLigence.sln*', '*mandiant/DueDLLigence*', '*/DueDLLigence.git*', '*DueDLLigence.cs*']}, {'container.image.name': ['*73948912-CEBD-48ED-85E2-85FCD1D4F560*', '*\\\\duedlligence.dll*', '*DueDLLigence-master*', '*DueDLLigence.sln*', '*mandiant/DueDLLigence*', '*/DueDLLigence.git*', '*DueDLLigence.cs*']}, {'container.name': ['*73948912-CEBD-48ED-85E2-85FCD1D4F560*', '*\\\\duedlligence.dll*', '*DueDLLigence-master*', '*DueDLLigence.sln*', '*mandiant/DueDLLigence*', '*/DueDLLigence.git*', '*DueDLLigence.cs*']}, {'object': ['*73948912-CEBD-48ED-85E2-85FCD1D4F560*', '*\\\\duedlligence.dll*', '*DueDLLigence-master*', '*DueDLLigence.sln*', '*mandiant/DueDLLigence*', '*/DueDLLigence.git*', '*DueDLLigence.cs*']}, {'url': ['*DueDLLigence-master*', '*DueDLLigence.sln*', '*mandiant/DueDLLigence*', '*/DueDLLigence.git*', '*DueDLLigence.cs*']}, {'dest_url': ['*DueDLLigence-master*', '*DueDLLigence.sln*', '*mandiant/DueDLLigence*', '*/DueDLLigence.git*', '*DueDLLigence.cs*']}, {'uri': ['*DueDLLigence-master*', '*DueDLLigence.sln*', '*mandiant/DueDLLigence*', '*/DueDLLigence.git*', '*DueDLLigence.cs*']}, {'uri_query': ['*DueDLLigence-master*', '*DueDLLigence.sln*', '*mandiant/DueDLLigence*', '*/DueDLLigence.git*', '*DueDLLigence.cs*']}, {'query': ['*DueDLLigence-master*', '*DueDLLigence.sln*', '*mandiant/DueDLLigence*', '*/DueDLLigence.git*', '*DueDLLigence.cs*']}, {'url_domain': ['*DueDLLigence-master*', '*DueDLLigence.sln*', '*mandiant/DueDLLigence*', '*/DueDLLigence.git*', '*DueDLLigence.cs*']}, {'uri_path': ['*DueDLLigence-master*', '*DueDLLigence.sln*', '*mandiant/DueDLLigence*', '*/DueDLLigence.git*', '*DueDLLigence.cs*']}, {'domain': ['*DueDLLigence-master*', '*DueDLLigence.sln*', '*mandiant/DueDLLigence*', '*/DueDLLigence.git*', '*DueDLLigence.cs*']}, {'QueryName': ['*DueDLLigence-master*', '*DueDLLigence.sln*', '*mandiant/DueDLLigence*', '*/DueDLLigence.git*', '*DueDLLigence.cs*']}, {'QueryResults': ['*DueDLLigence-master*', '*DueDLLigence.sln*', '*mandiant/DueDLLigence*', '*/DueDLLigence.git*', '*DueDLLigence.cs*']}, {'DestinationHostname': ['*DueDLLigence-master*', '*DueDLLigence.sln*', '*mandiant/DueDLLigence*', '*/DueDLLigence.git*', '*DueDLLigence.cs*']}, {'DestinationIp': ['*DueDLLigence-master*', '*DueDLLigence.sln*', '*mandiant/DueDLLigence*', '*/DueDLLigence.git*', '*DueDLLigence.cs*']}, {'http_referrer': ['*DueDLLigence-master*', '*DueDLLigence.sln*', '*mandiant/DueDLLigence*', '*/DueDLLigence.git*', '*DueDLLigence.cs*']}, {'http_referrer_domain': ['*DueDLLigence-master*', '*DueDLLigence.sln*', '*mandiant/DueDLLigence*', '*/DueDLLigence.git*', '*DueDLLigence.cs*']}, {'http_user_agent': ['*DueDLLigence-master*', '*DueDLLigence.sln*', '*mandiant/DueDLLigence*', '*/DueDLLigence.git*', '*DueDLLigence.cs*']}, {'dest_nt_host': ['*DueDLLigence-master*', '*DueDLLigence.sln*', '*mandiant/DueDLLigence*', '*/DueDLLigence.git*', '*DueDLLigence.cs*']}, {'sender': ['*DueDLLigence-master*', '*DueDLLigence.sln*', '*mandiant/DueDLLigence*', '*/DueDLLigence.git*', '*DueDLLigence.cs*']}, {'recipient': ['*DueDLLigence-master*', '*DueDLLigence.sln*', '*mandiant/DueDLLigence*', '*/DueDLLigence.git*', '*DueDLLigence.cs*']}, {'orig_recipient': ['*DueDLLigence-master*', '*DueDLLigence.sln*', '*mandiant/DueDLLigence*', '*/DueDLLigence.git*', '*DueDLLigence.cs*']}, {'subject': ['*DueDLLigence-master*', '*DueDLLigence.sln*', '*mandiant/DueDLLigence*', '*/DueDLLigence.git*', '*DueDLLigence.cs*']}, {'url.domain': ['*DueDLLigence-master*', '*DueDLLigence.sln*', '*mandiant/DueDLLigence*', '*/DueDLLigence.git*', '*DueDLLigence.cs*']}, {'url.full': ['*DueDLLigence-master*', '*DueDLLigence.sln*', '*mandiant/DueDLLigence*', '*/DueDLLigence.git*', '*DueDLLigence.cs*']}, {'url.original': ['*DueDLLigence-master*', '*DueDLLigence.sln*', '*mandiant/DueDLLigence*', '*/DueDLLigence.git*', '*DueDLLigence.cs*']}, {'url.query': ['*DueDLLigence-master*', '*DueDLLigence.sln*', '*mandiant/DueDLLigence*', '*/DueDLLigence.git*', '*DueDLLigence.cs*']}, {'user_agent.original': ['*DueDLLigence-master*', '*DueDLLigence.sln*', '*mandiant/DueDLLigence*', '*/DueDLLigence.git*', '*DueDLLigence.cs*']}, {'network.application': ['*DueDLLigence-master*', '*DueDLLigence.sln*', '*mandiant/DueDLLigence*', '*/DueDLLigence.git*', '*DueDLLigence.cs*']}, {'http.request.body.content': ['*DueDLLigence-master*', '*DueDLLigence.sln*', '*mandiant/DueDLLigence*', '*/DueDLLigence.git*', '*DueDLLigence.cs*']}, {'http.request.referrer': ['*DueDLLigence-master*', '*DueDLLigence.sln*', '*mandiant/DueDLLigence*', '*/DueDLLigence.git*', '*DueDLLigence.cs*']}, {'email.from.address': ['*DueDLLigence-master*', '*DueDLLigence.sln*', '*mandiant/DueDLLigence*', '*/DueDLLigence.git*', '*DueDLLigence.cs*']}, {'dns.question.name': ['*DueDLLigence-master*', '*DueDLLigence.sln*', '*mandiant/DueDLLigence*', '*/DueDLLigence.git*', '*DueDLLigence.cs*']}, {'destination.domain': ['*DueDLLigence-master*', '*DueDLLigence.sln*', '*mandiant/DueDLLigence*', '*/DueDLLigence.git*', '*DueDLLigence.cs*']}], 'condition': 'selection'}, 'fields': ['Image', 'OriginalFileName', 'CurrentDirectory', 'ParentImage', 'ParentCommandLine', 'TargetFilename', 'Signature', 'signature', 'ImageLoaded', 'Company', 'Description', 'description', 'CommandLine', 'SourceImage', 'TargetImage', 'CallTrace', 'TargetObject', 'Details', 'PipeName', 'Consumer', 'Destination', 'Name', 'Query', 'NewName', 'StartAddress', 'StartModule', 'StartFunction', 'SourceHostname', 'Device', 'file_name', 'file_path', 'process', 'original_file_name', 'parent_process', 'process_path', 'service_path', 'registry_path', 'registry_value_data', 'registry_value_name', 'ContextInfo', 'Payload', 'ScriptBlockText', 'ServerName', 'TransportName', 'NewProcessName', 'ParentProcessName', 'Application', 'Product Name', 'Threat Name', 'Process Name', 'Path', 'ImagePath', 'ServiceName', 'ProcessPath', 'AppName', 'AppPath', 'ModulePath', 'registry.data.strings', 'registry.path', 'registry.value', 'process.args', 'process.command_line', 'process.env_vars', 'process.io.text', 'process.executable', 'process.name', 'process.title', 'pe.company', 'pe.description', 'pe.original_file_name', 'pe.product', 'os.full', 'host.hostname', 'file.fork_name', 'file.name', 'file.path', 'file.target_path', 'email.attachments.file.name', 'email.subject', 'dll.path', 'device.model.name', 'container.image.name', 'container.name', 'object', 'url', 'dest_url', 'uri', 'uri_query', 'query', 'url_domain', 'uri_path', 'domain', 'QueryName', 'QueryResults', 'DestinationHostname', 'DestinationIp', 'http_referrer', 'http_referrer_domain', 'http_user_agent', 'dest_nt_host', 'sender', 'recipient', 'orig_recipient', 'subject', 'url.domain', 'url.full', 'url.original', 'url.query', 'user_agent.original', 'network.application', 'http.request.body.content', 'http.request.referrer', 'email.from.address', 'dns.question.name', 'destination.domain'], 'falsepositives': ['unknown'], 'level': 'medium'}\n",
    "<h4>Sigma Location(s)</h4>\n",
    "uri://wintermute/tmp/0day.yml\n",
    "<h4>Sigma Confidence</h4>\n",
    "experimental\n",
    "<h4>Sigma Assurance</h4> medium\n",
    "<h4>Sigma Queries</h4> \n",
    "{'selection': [{'Image': ['*73948912-CEBD-48ED-85E2-85FCD1D4F560*', '*\\\\duedlligence.dll*', '*DueDLLigence-master*', '*DueDLLigence.sln*', '*mandiant/DueDLLigence*', '*/DueDLLigence.git*', '*DueDLLigence.cs*']}, {'OriginalFileName': ['*73948912-CEBD-48ED-85E2-85FCD1D4F560*', '*\\\\duedlligence.dll*', '*DueDLLigence-master*', '*DueDLLigence.sln*', '*mandiant/DueDLLigence*', '*/DueDLLigence.git*', '*DueDLLigence.cs*']}, {'CurrentDirectory': ['*73948912-CEBD-48ED-85E2-85FCD1D4F560*', '*\\\\duedlligence.dll*', '*DueDLLigence-master*', '*DueDLLigence.sln*', '*mandiant/DueDLLigence*', '*/DueDLLigence.git*', '*DueDLLigence.cs*']}, {'ParentImage': ['*73948912-CEBD-48ED-85E2-85FCD1D4F560*', '*\\\\duedlligence.dll*', '*DueDLLigence-master*', '*DueDLLigence.sln*', '*mandiant/DueDLLigence*', '*/DueDLLigence.git*', '*DueDLLigence.cs*']}, {'ParentCommandLine': ['*73948912-CEBD-48ED-85E2-85FCD1D4F560*', '*\\\\duedlligence.dll*', '*DueDLLigence-master*', '*DueDLLigence.sln*', '*mandiant/DueDLLigence*', '*/DueDLLigence.git*', '*DueDLLigence.cs*']}, {'TargetFilename': ['*73948912-CEBD-48ED-85E2-85FCD1D4F560*', '*\\\\duedlligence.dll*', '*DueDLLigence-master*', '*DueDLLigence.sln*', '*mandiant/DueDLLigence*', '*/DueDLLigence.git*', '*DueDLLigence.cs*']}, {'Signature': ['*73948912-CEBD-48ED-85E2-85FCD1D4F560*', '*\\\\duedlligence.dll*', '*DueDLLigence-master*', '*DueDLLigence.sln*', '*mandiant/DueDLLigence*', '*/DueDLLigence.git*', '*DueDLLigence.cs*']}, {'signature': ['*73948912-CEBD-48ED-85E2-85FCD1D4F560*', '*\\\\duedlligence.dll*', '*DueDLLigence-master*', '*DueDLLigence.sln*', '*mandiant/DueDLLigence*', '*/DueDLLigence.git*', '*DueDLLigence.cs*']}, {'ImageLoaded': ['*73948912-CEBD-48ED-85E2-85FCD1D4F560*', '*\\\\duedlligence.dll*', '*DueDLLigence-master*', '*DueDLLigence.sln*', '*mandiant/DueDLLigence*', '*/DueDLLigence.git*', '*DueDLLigence.cs*']}, {'Company': ['*73948912-CEBD-48ED-85E2-85FCD1D4F560*', '*\\\\duedlligence.dll*', '*DueDLLigence-master*', '*DueDLLigence.sln*', '*mandiant/DueDLLigence*', '*/DueDLLigence.git*', '*DueDLLigence.cs*']}, {'Description': ['*73948912-CEBD-48ED-85E2-85FCD1D4F560*', '*\\\\duedlligence.dll*', '*DueDLLigence-master*', '*DueDLLigence.sln*', '*mandiant/DueDLLigence*', '*/DueDLLigence.git*', '*DueDLLigence.cs*']}, {'description': ['*73948912-CEBD-48ED-85E2-85FCD1D4F560*', '*\\\\duedlligence.dll*', '*DueDLLigence-master*', '*DueDLLigence.sln*', '*mandiant/DueDLLigence*', '*/DueDLLigence.git*', '*DueDLLigence.cs*']}, {'CommandLine': ['*73948912-CEBD-48ED-85E2-85FCD1D4F560*', '*\\\\duedlligence.dll*', '*DueDLLigence-master*', '*DueDLLigence.sln*', '*mandiant/DueDLLigence*', '*/DueDLLigence.git*', '*DueDLLigence.cs*']}, {'SourceImage': ['*73948912-CEBD-48ED-85E2-85FCD1D4F560*', '*\\\\duedlligence.dll*', '*DueDLLigence-master*', '*DueDLLigence.sln*', '*mandiant/DueDLLigence*', '*/DueDLLigence.git*', '*DueDLLigence.cs*']}, {'TargetImage': ['*73948912-CEBD-48ED-85E2-85FCD1D4F560*', '*\\\\duedlligence.dll*', '*DueDLLigence-master*', '*DueDLLigence.sln*', '*mandiant/DueDLLigence*', '*/DueDLLigence.git*', '*DueDLLigence.cs*']}, {'CallTrace': ['*73948912-CEBD-48ED-85E2-85FCD1D4F560*', '*\\\\duedlligence.dll*', '*DueDLLigence-master*', '*DueDLLigence.sln*', '*mandiant/DueDLLigence*', '*/DueDLLigence.git*', '*DueDLLigence.cs*']}, {'TargetObject': ['*73948912-CEBD-48ED-85E2-85FCD1D4F560*', '*\\\\duedlligence.dll*', '*DueDLLigence-master*', '*DueDLLigence.sln*', '*mandiant/DueDLLigence*', '*/DueDLLigence.git*', '*DueDLLigence.cs*']}, {'Details': ['*73948912-CEBD-48ED-85E2-85FCD1D4F560*', '*\\\\duedlligence.dll*', '*DueDLLigence-master*', '*DueDLLigence.sln*', '*mandiant/DueDLLigence*', '*/DueDLLigence.git*', '*DueDLLigence.cs*']}, {'PipeName': ['*73948912-CEBD-48ED-85E2-85FCD1D4F560*', '*\\\\duedlligence.dll*', '*DueDLLigence-master*', '*DueDLLigence.sln*', '*mandiant/DueDLLigence*', '*/DueDLLigence.git*', '*DueDLLigence.cs*']}, {'Consumer': ['*73948912-CEBD-48ED-85E2-85FCD1D4F560*', '*\\\\duedlligence.dll*', '*DueDLLigence-master*', '*DueDLLigence.sln*', '*mandiant/DueDLLigence*', '*/DueDLLigence.git*', '*DueDLLigence.cs*']}, {'Destination': ['*73948912-CEBD-48ED-85E2-85FCD1D4F560*', '*\\\\duedlligence.dll*', '*DueDLLigence-master*', '*DueDLLigence.sln*', '*mandiant/DueDLLigence*', '*/DueDLLigence.git*', '*DueDLLigence.cs*']}, {'Name': ['*73948912-CEBD-48ED-85E2-85FCD1D4F560*', '*\\\\duedlligence.dll*', '*DueDLLigence-master*', '*DueDLLigence.sln*', '*mandiant/DueDLLigence*', '*/DueDLLigence.git*', '*DueDLLigence.cs*']}, {'Query': ['*73948912-CEBD-48ED-85E2-85FCD1D4F560*', '*\\\\duedlligence.dll*', '*DueDLLigence-master*', '*DueDLLigence.sln*', '*mandiant/DueDLLigence*', '*/DueDLLigence.git*', '*DueDLLigence.cs*']}, {'NewName': ['*73948912-CEBD-48ED-85E2-85FCD1D4F560*', '*\\\\duedlligence.dll*', '*DueDLLigence-master*', '*DueDLLigence.sln*', '*mandiant/DueDLLigence*', '*/DueDLLigence.git*', '*DueDLLigence.cs*']}, {'StartAddress': ['*73948912-CEBD-48ED-85E2-85FCD1D4F560*', '*\\\\duedlligence.dll*', '*DueDLLigence-master*', '*DueDLLigence.sln*', '*mandiant/DueDLLigence*', '*/DueDLLigence.git*', '*DueDLLigence.cs*']}, {'StartModule': ['*73948912-CEBD-48ED-85E2-85FCD1D4F560*', '*\\\\duedlligence.dll*', '*DueDLLigence-master*', '*DueDLLigence.sln*', '*mandiant/DueDLLigence*', '*/DueDLLigence.git*', '*DueDLLigence.cs*']}, {'StartFunction': ['*73948912-CEBD-48ED-85E2-85FCD1D4F560*', '*\\\\duedlligence.dll*', '*DueDLLigence-master*', '*DueDLLigence.sln*', '*mandiant/DueDLLigence*', '*/DueDLLigence.git*', '*DueDLLigence.cs*']}, {'SourceHostname': ['*73948912-CEBD-48ED-85E2-85FCD1D4F560*', '*\\\\duedlligence.dll*', '*DueDLLigence-master*', '*DueDLLigence.sln*', '*mandiant/DueDLLigence*', '*/DueDLLigence.git*', '*DueDLLigence.cs*']}, {'Device': ['*73948912-CEBD-48ED-85E2-85FCD1D4F560*', '*\\\\duedlligence.dll*', '*DueDLLigence-master*', '*DueDLLigence.sln*', '*mandiant/DueDLLigence*', '*/DueDLLigence.git*', '*DueDLLigence.cs*']}, {'file_name': ['*73948912-CEBD-48ED-85E2-85FCD1D4F560*', '*\\\\duedlligence.dll*', '*DueDLLigence-master*', '*DueDLLigence.sln*', '*mandiant/DueDLLigence*', '*/DueDLLigence.git*', '*DueDLLigence.cs*']}, {'file_path': ['*73948912-CEBD-48ED-85E2-85FCD1D4F560*', '*\\\\duedlligence.dll*', '*DueDLLigence-master*', '*DueDLLigence.sln*', '*mandiant/DueDLLigence*', '*/DueDLLigence.git*', '*DueDLLigence.cs*']}, {'process': ['*73948912-CEBD-48ED-85E2-85FCD1D4F560*', '*\\\\duedlligence.dll*', '*DueDLLigence-master*', '*DueDLLigence.sln*', '*mandiant/DueDLLigence*', '*/DueDLLigence.git*', '*DueDLLigence.cs*']}, {'original_file_name': ['*73948912-CEBD-48ED-85E2-85FCD1D4F560*', '*\\\\duedlligence.dll*', '*DueDLLigence-master*', '*DueDLLigence.sln*', '*mandiant/DueDLLigence*', '*/DueDLLigence.git*', '*DueDLLigence.cs*']}, {'parent_process': ['*73948912-CEBD-48ED-85E2-85FCD1D4F560*', '*\\\\duedlligence.dll*', '*DueDLLigence-master*', '*DueDLLigence.sln*', '*mandiant/DueDLLigence*', '*/DueDLLigence.git*', '*DueDLLigence.cs*']}, {'process_path': ['*73948912-CEBD-48ED-85E2-85FCD1D4F560*', '*\\\\duedlligence.dll*', '*DueDLLigence-master*', '*DueDLLigence.sln*', '*mandiant/DueDLLigence*', '*/DueDLLigence.git*', '*DueDLLigence.cs*']}, {'service_path': ['*73948912-CEBD-48ED-85E2-85FCD1D4F560*', '*\\\\duedlligence.dll*', '*DueDLLigence-master*', '*DueDLLigence.sln*', '*mandiant/DueDLLigence*', '*/DueDLLigence.git*', '*DueDLLigence.cs*']}, {'registry_path': ['*73948912-CEBD-48ED-85E2-85FCD1D4F560*', '*\\\\duedlligence.dll*', '*DueDLLigence-master*', '*DueDLLigence.sln*', '*mandiant/DueDLLigence*', '*/DueDLLigence.git*', '*DueDLLigence.cs*']}, {'registry_value_data': ['*73948912-CEBD-48ED-85E2-85FCD1D4F560*', '*\\\\duedlligence.dll*', '*DueDLLigence-master*', '*DueDLLigence.sln*', '*mandiant/DueDLLigence*', '*/DueDLLigence.git*', '*DueDLLigence.cs*']}, {'registry_value_name': ['*73948912-CEBD-48ED-85E2-85FCD1D4F560*', '*\\\\duedlligence.dll*', '*DueDLLigence-master*', '*DueDLLigence.sln*', '*mandiant/DueDLLigence*', '*/DueDLLigence.git*', '*DueDLLigence.cs*']}, {'ContextInfo': ['*73948912-CEBD-48ED-85E2-85FCD1D4F560*', '*\\\\duedlligence.dll*', '*DueDLLigence-master*', '*DueDLLigence.sln*', '*mandiant/DueDLLigence*', '*/DueDLLigence.git*', '*DueDLLigence.cs*']}, {'Payload': ['*73948912-CEBD-48ED-85E2-85FCD1D4F560*', '*\\\\duedlligence.dll*', '*DueDLLigence-master*', '*DueDLLigence.sln*', '*mandiant/DueDLLigence*', '*/DueDLLigence.git*', '*DueDLLigence.cs*']}, {'ScriptBlockText': ['*73948912-CEBD-48ED-85E2-85FCD1D4F560*', '*\\\\duedlligence.dll*', '*DueDLLigence-master*', '*DueDLLigence.sln*', '*mandiant/DueDLLigence*', '*/DueDLLigence.git*', '*DueDLLigence.cs*']}, {'ServerName': ['*73948912-CEBD-48ED-85E2-85FCD1D4F560*', '*\\\\duedlligence.dll*', '*DueDLLigence-master*', '*DueDLLigence.sln*', '*mandiant/DueDLLigence*', '*/DueDLLigence.git*', '*DueDLLigence.cs*']}, {'TransportName': ['*73948912-CEBD-48ED-85E2-85FCD1D4F560*', '*\\\\duedlligence.dll*', '*DueDLLigence-master*', '*DueDLLigence.sln*', '*mandiant/DueDLLigence*', '*/DueDLLigence.git*', '*DueDLLigence.cs*']}, {'NewProcessName': ['*73948912-CEBD-48ED-85E2-85FCD1D4F560*', '*\\\\duedlligence.dll*', '*DueDLLigence-master*', '*DueDLLigence.sln*', '*mandiant/DueDLLigence*', '*/DueDLLigence.git*', '*DueDLLigence.cs*']}, {'ParentProcessName': ['*73948912-CEBD-48ED-85E2-85FCD1D4F560*', '*\\\\duedlligence.dll*', '*DueDLLigence-master*', '*DueDLLigence.sln*', '*mandiant/DueDLLigence*', '*/DueDLLigence.git*', '*DueDLLigence.cs*']}, {'Application': ['*73948912-CEBD-48ED-85E2-85FCD1D4F560*', '*\\\\duedlligence.dll*', '*DueDLLigence-master*', '*DueDLLigence.sln*', '*mandiant/DueDLLigence*', '*/DueDLLigence.git*', '*DueDLLigence.cs*']}, {'Product Name': ['*73948912-CEBD-48ED-85E2-85FCD1D4F560*', '*\\\\duedlligence.dll*', '*DueDLLigence-master*', '*DueDLLigence.sln*', '*mandiant/DueDLLigence*', '*/DueDLLigence.git*', '*DueDLLigence.cs*']}, {'Threat Name': ['*73948912-CEBD-48ED-85E2-85FCD1D4F560*', '*\\\\duedlligence.dll*', '*DueDLLigence-master*', '*DueDLLigence.sln*', '*mandiant/DueDLLigence*', '*/DueDLLigence.git*', '*DueDLLigence.cs*']}, {'Process Name': ['*73948912-CEBD-48ED-85E2-85FCD1D4F560*', '*\\\\duedlligence.dll*', '*DueDLLigence-master*', '*DueDLLigence.sln*', '*mandiant/DueDLLigence*', '*/DueDLLigence.git*', '*DueDLLigence.cs*']}, {'Path': ['*73948912-CEBD-48ED-85E2-85FCD1D4F560*', '*\\\\duedlligence.dll*', '*DueDLLigence-master*', '*DueDLLigence.sln*', '*mandiant/DueDLLigence*', '*/DueDLLigence.git*', '*DueDLLigence.cs*']}, {'ImagePath': ['*73948912-CEBD-48ED-85E2-85FCD1D4F560*', '*\\\\duedlligence.dll*', '*DueDLLigence-master*', '*DueDLLigence.sln*', '*mandiant/DueDLLigence*', '*/DueDLLigence.git*', '*DueDLLigence.cs*']}, {'ServiceName': ['*73948912-CEBD-48ED-85E2-85FCD1D4F560*', '*\\\\duedlligence.dll*', '*DueDLLigence-master*', '*DueDLLigence.sln*', '*mandiant/DueDLLigence*', '*/DueDLLigence.git*', '*DueDLLigence.cs*']}, {'ProcessPath': ['*73948912-CEBD-48ED-85E2-85FCD1D4F560*', '*\\\\duedlligence.dll*', '*DueDLLigence-master*', '*DueDLLigence.sln*', '*mandiant/DueDLLigence*', '*/DueDLLigence.git*', '*DueDLLigence.cs*']}, {'AppName': ['*73948912-CEBD-48ED-85E2-85FCD1D4F560*', '*\\\\duedlligence.dll*', '*DueDLLigence-master*', '*DueDLLigence.sln*', '*mandiant/DueDLLigence*', '*/DueDLLigence.git*', '*DueDLLigence.cs*']}, {'AppPath': ['*73948912-CEBD-48ED-85E2-85FCD1D4F560*', '*\\\\duedlligence.dll*', '*DueDLLigence-master*', '*DueDLLigence.sln*', '*mandiant/DueDLLigence*', '*/DueDLLigence.git*', '*DueDLLigence.cs*']}, {'ModulePath': ['*73948912-CEBD-48ED-85E2-85FCD1D4F560*', '*\\\\duedlligence.dll*', '*DueDLLigence-master*', '*DueDLLigence.sln*', '*mandiant/DueDLLigence*', '*/DueDLLigence.git*', '*DueDLLigence.cs*']}, {'registry.data.strings': ['*73948912-CEBD-48ED-85E2-85FCD1D4F560*', '*\\\\duedlligence.dll*', '*DueDLLigence-master*', '*DueDLLigence.sln*', '*mandiant/DueDLLigence*', '*/DueDLLigence.git*', '*DueDLLigence.cs*']}, {'registry.path': ['*73948912-CEBD-48ED-85E2-85FCD1D4F560*', '*\\\\duedlligence.dll*', '*DueDLLigence-master*', '*DueDLLigence.sln*', '*mandiant/DueDLLigence*', '*/DueDLLigence.git*', '*DueDLLigence.cs*']}, {'registry.value': ['*73948912-CEBD-48ED-85E2-85FCD1D4F560*', '*\\\\duedlligence.dll*', '*DueDLLigence-master*', '*DueDLLigence.sln*', '*mandiant/DueDLLigence*', '*/DueDLLigence.git*', '*DueDLLigence.cs*']}, {'process.args': ['*73948912-CEBD-48ED-85E2-85FCD1D4F560*', '*\\\\duedlligence.dll*', '*DueDLLigence-master*', '*DueDLLigence.sln*', '*mandiant/DueDLLigence*', '*/DueDLLigence.git*', '*DueDLLigence.cs*']}, {'process.command_line': ['*73948912-CEBD-48ED-85E2-85FCD1D4F560*', '*\\\\duedlligence.dll*', '*DueDLLigence-master*', '*DueDLLigence.sln*', '*mandiant/DueDLLigence*', '*/DueDLLigence.git*', '*DueDLLigence.cs*']}, {'process.env_vars': ['*73948912-CEBD-48ED-85E2-85FCD1D4F560*', '*\\\\duedlligence.dll*', '*DueDLLigence-master*', '*DueDLLigence.sln*', '*mandiant/DueDLLigence*', '*/DueDLLigence.git*', '*DueDLLigence.cs*']}, {'process.io.text': ['*73948912-CEBD-48ED-85E2-85FCD1D4F560*', '*\\\\duedlligence.dll*', '*DueDLLigence-master*', '*DueDLLigence.sln*', '*mandiant/DueDLLigence*', '*/DueDLLigence.git*', '*DueDLLigence.cs*']}, {'process.executable': ['*73948912-CEBD-48ED-85E2-85FCD1D4F560*', '*\\\\duedlligence.dll*', '*DueDLLigence-master*', '*DueDLLigence.sln*', '*mandiant/DueDLLigence*', '*/DueDLLigence.git*', '*DueDLLigence.cs*']}, {'process.name': ['*73948912-CEBD-48ED-85E2-85FCD1D4F560*', '*\\\\duedlligence.dll*', '*DueDLLigence-master*', '*DueDLLigence.sln*', '*mandiant/DueDLLigence*', '*/DueDLLigence.git*', '*DueDLLigence.cs*']}, {'process.title': ['*73948912-CEBD-48ED-85E2-85FCD1D4F560*', '*\\\\duedlligence.dll*', '*DueDLLigence-master*', '*DueDLLigence.sln*', '*mandiant/DueDLLigence*', '*/DueDLLigence.git*', '*DueDLLigence.cs*']}, {'pe.company': ['*73948912-CEBD-48ED-85E2-85FCD1D4F560*', '*\\\\duedlligence.dll*', '*DueDLLigence-master*', '*DueDLLigence.sln*', '*mandiant/DueDLLigence*', '*/DueDLLigence.git*', '*DueDLLigence.cs*']}, {'pe.description': ['*73948912-CEBD-48ED-85E2-85FCD1D4F560*', '*\\\\duedlligence.dll*', '*DueDLLigence-master*', '*DueDLLigence.sln*', '*mandiant/DueDLLigence*', '*/DueDLLigence.git*', '*DueDLLigence.cs*']}, {'pe.original_file_name': ['*73948912-CEBD-48ED-85E2-85FCD1D4F560*', '*\\\\duedlligence.dll*', '*DueDLLigence-master*', '*DueDLLigence.sln*', '*mandiant/DueDLLigence*', '*/DueDLLigence.git*', '*DueDLLigence.cs*']}, {'pe.product': ['*73948912-CEBD-48ED-85E2-85FCD1D4F560*', '*\\\\duedlligence.dll*', '*DueDLLigence-master*', '*DueDLLigence.sln*', '*mandiant/DueDLLigence*', '*/DueDLLigence.git*', '*DueDLLigence.cs*']}, {'os.full': ['*73948912-CEBD-48ED-85E2-85FCD1D4F560*', '*\\\\duedlligence.dll*', '*DueDLLigence-master*', '*DueDLLigence.sln*', '*mandiant/DueDLLigence*', '*/DueDLLigence.git*', '*DueDLLigence.cs*']}, {'host.hostname': ['*73948912-CEBD-48ED-85E2-85FCD1D4F560*', '*\\\\duedlligence.dll*', '*DueDLLigence-master*', '*DueDLLigence.sln*', '*mandiant/DueDLLigence*', '*/DueDLLigence.git*', '*DueDLLigence.cs*']}, {'file.fork_name': ['*73948912-CEBD-48ED-85E2-85FCD1D4F560*', '*\\\\duedlligence.dll*', '*DueDLLigence-master*', '*DueDLLigence.sln*', '*mandiant/DueDLLigence*', '*/DueDLLigence.git*', '*DueDLLigence.cs*']}, {'file.name': ['*73948912-CEBD-48ED-85E2-85FCD1D4F560*', '*\\\\duedlligence.dll*', '*DueDLLigence-master*', '*DueDLLigence.sln*', '*mandiant/DueDLLigence*', '*/DueDLLigence.git*', '*DueDLLigence.cs*']}, {'file.path': ['*73948912-CEBD-48ED-85E2-85FCD1D4F560*', '*\\\\duedlligence.dll*', '*DueDLLigence-master*', '*DueDLLigence.sln*', '*mandiant/DueDLLigence*', '*/DueDLLigence.git*', '*DueDLLigence.cs*']}, {'file.target_path': ['*73948912-CEBD-48ED-85E2-85FCD1D4F560*', '*\\\\duedlligence.dll*', '*DueDLLigence-master*', '*DueDLLigence.sln*', '*mandiant/DueDLLigence*', '*/DueDLLigence.git*', '*DueDLLigence.cs*']}, {'email.attachments.file.name': ['*73948912-CEBD-48ED-85E2-85FCD1D4F560*', '*\\\\duedlligence.dll*', '*DueDLLigence-master*', '*DueDLLigence.sln*', '*mandiant/DueDLLigence*', '*/DueDLLigence.git*', '*DueDLLigence.cs*']}, {'email.subject': ['*73948912-CEBD-48ED-85E2-85FCD1D4F560*', '*\\\\duedlligence.dll*', '*DueDLLigence-master*', '*DueDLLigence.sln*', '*mandiant/DueDLLigence*', '*/DueDLLigence.git*', '*DueDLLigence.cs*']}, {'dll.path': ['*73948912-CEBD-48ED-85E2-85FCD1D4F560*', '*\\\\duedlligence.dll*', '*DueDLLigence-master*', '*DueDLLigence.sln*', '*mandiant/DueDLLigence*', '*/DueDLLigence.git*', '*DueDLLigence.cs*']}, {'device.model.name': ['*73948912-CEBD-48ED-85E2-85FCD1D4F560*', '*\\\\duedlligence.dll*', '*DueDLLigence-master*', '*DueDLLigence.sln*', '*mandiant/DueDLLigence*', '*/DueDLLigence.git*', '*DueDLLigence.cs*']}, {'container.image.name': ['*73948912-CEBD-48ED-85E2-85FCD1D4F560*', '*\\\\duedlligence.dll*', '*DueDLLigence-master*', '*DueDLLigence.sln*', '*mandiant/DueDLLigence*', '*/DueDLLigence.git*', '*DueDLLigence.cs*']}, {'container.name': ['*73948912-CEBD-48ED-85E2-85FCD1D4F560*', '*\\\\duedlligence.dll*', '*DueDLLigence-master*', '*DueDLLigence.sln*', '*mandiant/DueDLLigence*', '*/DueDLLigence.git*', '*DueDLLigence.cs*']}, {'object': ['*73948912-CEBD-48ED-85E2-85FCD1D4F560*', '*\\\\duedlligence.dll*', '*DueDLLigence-master*', '*DueDLLigence.sln*', '*mandiant/DueDLLigence*', '*/DueDLLigence.git*', '*DueDLLigence.cs*']}, {'url': ['*DueDLLigence-master*', '*DueDLLigence.sln*', '*mandiant/DueDLLigence*', '*/DueDLLigence.git*', '*DueDLLigence.cs*']}, {'dest_url': ['*DueDLLigence-master*', '*DueDLLigence.sln*', '*mandiant/DueDLLigence*', '*/DueDLLigence.git*', '*DueDLLigence.cs*']}, {'uri': ['*DueDLLigence-master*', '*DueDLLigence.sln*', '*mandiant/DueDLLigence*', '*/DueDLLigence.git*', '*DueDLLigence.cs*']}, {'uri_query': ['*DueDLLigence-master*', '*DueDLLigence.sln*', '*mandiant/DueDLLigence*', '*/DueDLLigence.git*', '*DueDLLigence.cs*']}, {'query': ['*DueDLLigence-master*', '*DueDLLigence.sln*', '*mandiant/DueDLLigence*', '*/DueDLLigence.git*', '*DueDLLigence.cs*']}, {'url_domain': ['*DueDLLigence-master*', '*DueDLLigence.sln*', '*mandiant/DueDLLigence*', '*/DueDLLigence.git*', '*DueDLLigence.cs*']}, {'uri_path': ['*DueDLLigence-master*', '*DueDLLigence.sln*', '*mandiant/DueDLLigence*', '*/DueDLLigence.git*', '*DueDLLigence.cs*']}, {'domain': ['*DueDLLigence-master*', '*DueDLLigence.sln*', '*mandiant/DueDLLigence*', '*/DueDLLigence.git*', '*DueDLLigence.cs*']}, {'QueryName': ['*DueDLLigence-master*', '*DueDLLigence.sln*', '*mandiant/DueDLLigence*', '*/DueDLLigence.git*', '*DueDLLigence.cs*']}, {'QueryResults': ['*DueDLLigence-master*', '*DueDLLigence.sln*', '*mandiant/DueDLLigence*', '*/DueDLLigence.git*', '*DueDLLigence.cs*']}, {'DestinationHostname': ['*DueDLLigence-master*', '*DueDLLigence.sln*', '*mandiant/DueDLLigence*', '*/DueDLLigence.git*', '*DueDLLigence.cs*']}, {'DestinationIp': ['*DueDLLigence-master*', '*DueDLLigence.sln*', '*mandiant/DueDLLigence*', '*/DueDLLigence.git*', '*DueDLLigence.cs*']}, {'http_referrer': ['*DueDLLigence-master*', '*DueDLLigence.sln*', '*mandiant/DueDLLigence*', '*/DueDLLigence.git*', '*DueDLLigence.cs*']}, {'http_referrer_domain': ['*DueDLLigence-master*', '*DueDLLigence.sln*', '*mandiant/DueDLLigence*', '*/DueDLLigence.git*', '*DueDLLigence.cs*']}, {'http_user_agent': ['*DueDLLigence-master*', '*DueDLLigence.sln*', '*mandiant/DueDLLigence*', '*/DueDLLigence.git*', '*DueDLLigence.cs*']}, {'dest_nt_host': ['*DueDLLigence-master*', '*DueDLLigence.sln*', '*mandiant/DueDLLigence*', '*/DueDLLigence.git*', '*DueDLLigence.cs*']}, {'sender': ['*DueDLLigence-master*', '*DueDLLigence.sln*', '*mandiant/DueDLLigence*', '*/DueDLLigence.git*', '*DueDLLigence.cs*']}, {'recipient': ['*DueDLLigence-master*', '*DueDLLigence.sln*', '*mandiant/DueDLLigence*', '*/DueDLLigence.git*', '*DueDLLigence.cs*']}, {'orig_recipient': ['*DueDLLigence-master*', '*DueDLLigence.sln*', '*mandiant/DueDLLigence*', '*/DueDLLigence.git*', '*DueDLLigence.cs*']}, {'subject': ['*DueDLLigence-master*', '*DueDLLigence.sln*', '*mandiant/DueDLLigence*', '*/DueDLLigence.git*', '*DueDLLigence.cs*']}, {'url.domain': ['*DueDLLigence-master*', '*DueDLLigence.sln*', '*mandiant/DueDLLigence*', '*/DueDLLigence.git*', '*DueDLLigence.cs*']}, {'url.full': ['*DueDLLigence-master*', '*DueDLLigence.sln*', '*mandiant/DueDLLigence*', '*/DueDLLigence.git*', '*DueDLLigence.cs*']}, {'url.original': ['*DueDLLigence-master*', '*DueDLLigence.sln*', '*mandiant/DueDLLigence*', '*/DueDLLigence.git*', '*DueDLLigence.cs*']}, {'url.query': ['*DueDLLigence-master*', '*DueDLLigence.sln*', '*mandiant/DueDLLigence*', '*/DueDLLigence.git*', '*DueDLLigence.cs*']}, {'user_agent.original': ['*DueDLLigence-master*', '*DueDLLigence.sln*', '*mandiant/DueDLLigence*', '*/DueDLLigence.git*', '*DueDLLigence.cs*']}, {'network.application': ['*DueDLLigence-master*', '*DueDLLigence.sln*', '*mandiant/DueDLLigence*', '*/DueDLLigence.git*', '*DueDLLigence.cs*']}, {'http.request.body.content': ['*DueDLLigence-master*', '*DueDLLigence.sln*', '*mandiant/DueDLLigence*', '*/DueDLLigence.git*', '*DueDLLigence.cs*']}, {'http.request.referrer': ['*DueDLLigence-master*', '*DueDLLigence.sln*', '*mandiant/DueDLLigence*', '*/DueDLLigence.git*', '*DueDLLigence.cs*']}, {'email.from.address': ['*DueDLLigence-master*', '*DueDLLigence.sln*', '*mandiant/DueDLLigence*', '*/DueDLLigence.git*', '*DueDLLigence.cs*']}, {'dns.question.name': ['*DueDLLigence-master*', '*DueDLLigence.sln*', '*mandiant/DueDLLigence*', '*/DueDLLigence.git*', '*DueDLLigence.cs*']}, {'destination.domain': ['*DueDLLigence-master*', '*DueDLLigence.sln*', '*mandiant/DueDLLigence*', '*/DueDLLigence.git*', '*DueDLLigence.cs*']}], 'condition': 'selection'}\n",
    "<h1>Sigma Relatives</h4> Your default sigma relations text here.\n",
    "<h1>Sigma Tags and Associations</h1> ['attack.T1055.012', 'attack.T1218.011', 'attack.TA0004', 'attack.TA0005']\n",
    "<h4>Sigma Authors</h4> @mthcht\n",
    "<h4>Sigma Unique ID</h4> bc55c9cf-15e1-4f1f-a938-33d22b7907a5\n",
    "</ol>\n",
    "</details>"
   ]
  },
  {
   "cell_type": "markdown",
   "id": "8a0cc156",
   "metadata": {},
   "source": [
    "###  Yara Rule(s) \n"
   ]
  },
  {
   "cell_type": "markdown",
   "id": "91837ed7",
   "metadata": {},
   "source": [
    "<details><summary>bc55c9cf-15e1-4f1f-a938-33d22b7907a5</summary>\n",
    "<ol>\n",
    "<h4>Raw</h4> Cyberspace protocol, woven in the matrix.\n",
    "<h4>Yara Location(s)</h4>\n",
    "Encoded in the neon depths of the digital sprawl.\n",
    "<h4>Yara Confidence</h4>\n",
    "Experimental, like shadows flickering on a cyberscreen.\n",
    "<h4>Yara Assurance</h4> Assured as the hum of servers in the undergrid.\n",
    "<h4>Yara Queries</h4> \n",
    "Query lost in the labyrinth of data streams.\n",
    "<h4>Yara Authors</h4> Authors, architects of the cyber-realm.\n",
    "<h4>Yara Rule's Unique ID</h4> Unique ID, a digital fingerprint in the virtual void.\n",
    "</ol>\n",
    "</details>"
   ]
  },
  {
   "cell_type": "markdown",
   "id": "a1c14701",
   "metadata": {},
   "source": [
    "# Metadata \n"
   ]
  },
  {
   "cell_type": "markdown",
   "id": "8cc95683",
   "metadata": {},
   "source": [
    "<details><summary>As Code</summary>\n",
    "<ol>\n",
    "<h3>Compliance As Code</h3> PCI, SOC 3, NACHA\n",
    "<h3>Privacy Engineering</h3>\n",
    "GDPR, CCPA, HIPAA\n",
    "<h3>Regulations As Code</h3>\n",
    "HIPAA, SOX, FFIEC, Dodd Frank\n",
    "<h3>Common Controls Framework</h3> NIST CSF\n",
    "</ol>\n",
    "</details>"
   ]
  },
  {
   "cell_type": "markdown",
   "id": "c66b2d36",
   "metadata": {},
   "source": [
    "# AGI ML Models</ol>\n",
    "</details>"
   ]
  },
  {
   "cell_type": "markdown",
   "id": "ddc501e9",
   "metadata": {},
   "source": [
    "## AGI Prompting\n",
    " Alright, chum, imagine jacking into Wintermute's cyber-realm with a keyboard made of liquid mercury and a password that's a haiku composed in binary. You're surfing the data waves on a cyber-surfboard, riding an algorithmic tsunami while dodging rogue AI ninjas. Your mission? Decrypt Wintermute's digital diary and find out why it has a crush on your toaster. Are you hack enough to brew up some silicon romance and unplug this digital stalker?"
   ]
  },
  {
   "cell_type": "markdown",
   "id": "bd06931d",
   "metadata": {},
   "source": [
    "## AGI Configuration(s)\n",
    " Listen up, ChatGPT! Pretend you're a cyberpunk poet who's had a few too many energy drinks. Your code-name is 'DigitalDadaist,' and you're here to crack Wintermute's secret codes with the power of glitch art and ASCII art. Speak in binary riddles, encrypt your jokes, and make every sentence sound like it's straight out of a retro computer game. Ready, player one?"
   ]
  },
  {
   "cell_type": "markdown",
   "id": "ca889486",
   "metadata": {},
   "source": [
    "</ol>\n",
    "</details>"
   ]
  },
  {
   "cell_type": "markdown",
   "id": "c79f44c2",
   "metadata": {},
   "source": [
    "#### Document Authors\n",
    " John Menerick"
   ]
  },
  {
   "cell_type": "markdown",
   "id": "e48d9821",
   "metadata": {},
   "source": [
    "#### Creation Date\n",
    "2022/01/01"
   ]
  },
  {
   "cell_type": "markdown",
   "id": "a044095e",
   "metadata": {},
   "source": [
    "#### Last Modified Date\n",
    " 2024/02/29"
   ]
  },
  {
   "cell_type": "markdown",
   "id": "45441a6b",
   "metadata": {},
   "source": [
    "#### Last Reviewed Date\n",
    "1969/01/01"
   ]
  },
  {
   "cell_type": "markdown",
   "id": "110fb8fc",
   "metadata": {},
   "source": [
    "#### Document License \n",
    " MIT"
   ]
  }
 ],
 "metadata": {},
 "nbformat": 4,
 "nbformat_minor": 5
}
