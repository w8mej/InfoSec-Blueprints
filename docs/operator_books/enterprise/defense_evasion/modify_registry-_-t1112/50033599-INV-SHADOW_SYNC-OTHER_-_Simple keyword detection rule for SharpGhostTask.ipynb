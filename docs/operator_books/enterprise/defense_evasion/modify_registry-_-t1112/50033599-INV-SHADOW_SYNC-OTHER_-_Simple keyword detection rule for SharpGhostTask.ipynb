{
 "cells": [
  {
   "cell_type": "markdown",
   "id": "ac20783e",
   "metadata": {},
   "source": [
    "# UNCLASSIFIED / NON CLASSIFIÉ//TLP:WHITE# U/OO/264074-02 | QQ-09-1998 \n",
    " Please note that the original, detailed content has been removed or adjusted for public consumption. Most data has been redacted and replaced with generic, non-actionable insights. This modification ensures compliance with privacy considerations, non-disclosure agreements, and intellectual property rights that govern the dissemination of sensitive information. The priority is to respect these boundaries while still offering valuable, thought-provoking perspectives."
   ]
  },
  {
   "cell_type": "markdown",
   "id": "3ef56a90",
   "metadata": {},
   "source": [
    "![Build Status](https://img.shields.io/badge/Build-Passing-brightgreen?style=flat-square&logo=cyberpunk)         ![Documentation](https://img.shields.io/badge/Documentation-Complete-blue?style=flat-square&logo=cyberpunk)        ![Response Efficiency](https://img.shields.io/badge/Response%20Efficiency-98%25-green?style=flat-square&logo=cyberpunk)        ![Last Updated](https://img.shields.io/badge/Last%20Updated-Oct%202023-purple?style=flat-square&logo=cyberpunk)        ![Incidents Resolved](https://img.shields.io/badge/Incidents%20Resolved-150-red?style=flat-square&logo=cyberpunk)        ![Community Engagement](https://img.shields.io/badge/Community-Active-orange?style=flat-square&logo=cyberpunk)        ![Code Integration](https://img.shields.io/badge/Code%20Integration-High-teal?style=flat-square&logo=cyberpunk)        ![AI Analysis](https://img.shields.io/badge/AI%20Analysis-Advanced-blueviolet?style=flat-square&logo=cyberpunk)        ![Threat Detection](https://img.shields.io/badge/Threat%20Detection-Optimal-red?style=flat-square&logo=cyberpunk)        ![Cybersecurity Hardening](https://img.shields.io/badge/Security-Hardened-silver?style=flat-square&logo=cyberpunk)        ![Network Uptime](https://img.shields.io/badge/Uptime-99.9%25-brightgreen?style=flat-square&logo=cyberpunk)        ![Data Privacy](https://img.shields.io/badge/Privacy-Compliant-green?style=flat-square&logo=cyberpunk)        ![Wintermute Efficiency](https://img.shields.io/badge/Wintermute%20Efficiency-100%25-black?style=flat-square&logo=cyberpunk)        ![Case's Code Agility](https://img.shields.io/badge/Case's%20Code%20Agility-Excellent-blue?style=flat-square&logo=cyberpunk)        ![Matrix Connectivity](https://img.shields.io/badge/Matrix%20Connectivity-Strong-green?style=flat-square&logo=cyberpunk)        ![Molly's Security](https://img.shields.io/badge/Molly's%20Security%20Protocols-Impeccable-red?style=flat-square&logo=cyberpunk)        ![Chiba City Innovation](https://img.shields.io/badge/Chiba%20City%20Innovation-High-yellow?style=flat-square&logo=cyberpunk)        ![Zion Cluster Collaboration](https://img.shields.io/badge/Zion%20Cluster%20Collaboration-Effective-lightblue?style=flat-square&logo=cyberpunk)"
   ]
  },
  {
   "cell_type": "markdown",
   "id": "f29fa727",
   "metadata": {},
   "source": [
    "# Title\n",
    "Simple keyword detection rule for SharpGhostTask"
   ]
  },
  {
   "cell_type": "markdown",
   "id": "ea685414",
   "metadata": {},
   "source": [
    "# Description\n",
    "Detects interesting keywords based on SharpGhostTask tool"
   ]
  },
  {
   "cell_type": "markdown",
   "id": "2100e829",
   "metadata": {},
   "source": [
    "# Goal\n",
    "Ensure the integrity, confidentiality, and availability by rapidly identifying, investigating, and mitigating cyber threats and anomalies."
   ]
  },
  {
   "cell_type": "markdown",
   "id": "f0359861",
   "metadata": {},
   "source": [
    "# Categorization"
   ]
  },
  {
   "cell_type": "markdown",
   "id": "086c84b8",
   "metadata": {},
   "source": [
    "### ATT&CK\n",
    "['attack.T1053.005', 'attack.T1112', 'attack.T1564.001', 'attack.TA0003', 'attack.TA0005']"
   ]
  },
  {
   "cell_type": "markdown",
   "id": "e1949a73",
   "metadata": {},
   "source": [
    "- Distributed Denial of Service (DDoS) Attacks, Quantum Computing Exploits, Advanced Firewall Breach Attempts, Encryption Key Theft or Exposure, AI-Powered Social Engineering Attacks, Algorithmic Manipulation and Exploits, Sophisticated Malware Infiltrations, Advanced Data Obfuscation and Evasion Tactics, System and Network Configuration Vulnerabilities."
   ]
  },
  {
   "cell_type": "markdown",
   "id": "d01e3566",
   "metadata": {},
   "source": [
    "- Data Exfiltration, Intrusion Detection Evasion, Denial of Service (DoS) Attacks, Credential Theft."
   ]
  },
  {
   "cell_type": "markdown",
   "id": "7d8bc72a",
   "metadata": {},
   "source": [
    "- DNS Tunneling, IP Spoofing, Distributed DoS (DDoS) Attacks, Keylogging."
   ]
  },
  {
   "cell_type": "markdown",
   "id": "cab1a333",
   "metadata": {},
   "source": [
    "### D3F3ND \n"
   ]
  },
  {
   "cell_type": "markdown",
   "id": "d035ebd8",
   "metadata": {},
   "source": [
    "\n",
    "<ul>\n",
    "  <li><strong>Network Segmentation and Access Control (D3F3ND-K001):</strong> Establish secure network zones by segmenting the infrastructure, enhancing protection for critical assets. Implement stringent access controls to prevent unauthorized access and mitigate potential threats.</li>\n",
    "\n",
    "  <li><strong>Advanced Endpoint Protection Deployment (D3F3ND-K002):</strong> Deploy cutting-edge endpoint security solutions that utilize machine learning and behavioral analysis to detect and neutralize threats proactively.</li>\n",
    "\n",
    "  <li><strong>Enhanced Identity Verification (D3F3ND-K003):</strong> Strengthen security measures with multi-factor authentication combining biometric data and advanced encryption to prevent identity theft and unauthorized access.</li>\n",
    "\n",
    "  <li><strong>Anomaly Detection (D3F3ND-K004):</strong> Use anomaly detection tools to monitor for unusual traffic patterns, user activities, and system behaviors to identify potential security breaches early.</li>\n",
    "\n",
    "  <li><strong>Data Encryption (D3F3ND-K005):</strong> Apply robust encryption techniques to protect data at rest and in transit, ensuring confidentiality and integrity across communication channels.</li>\n",
    "\n",
    "  <li><strong>System Hardening and Vulnerability Management (D3F3ND-K006):</strong> Conduct regular security assessments and apply patches promptly to address vulnerabilities and strengthen system defenses.</li>\n",
    "\n",
    "  <li><strong>Crisis Management and Recovery Protocols (D3F3ND-K007):</strong> Develop and maintain comprehensive crisis management plans including incident response and disaster recovery procedures to quickly recover from security incidents.</li>\n",
    "\n",
    "  <li><strong>Threat Intelligence Integration (D3F3ND-K008):</strong> Leverage threat intelligence platforms to gather and analyze data on emerging threats, enabling proactive defense and strategic decision-making.</li>\n",
    "\n",
    "  <li><strong>Cybersecurity Awareness Training (D3F3ND-K009):</strong> Empower employees with ongoing cybersecurity education to recognize and avoid potential cyber threats such as phishing attacks.</li>\n",
    "\n",
    "  <li><strong>Supply Chain Security (D3F3ND-K010):</strong> Secure the supply chain through continuous assessments and audits of partners and vendors to ensure compliance with security standards and reduce vulnerabilities.</li>\n",
    "</ul>\n"
   ]
  },
  {
   "cell_type": "markdown",
   "id": "3a68345c",
   "metadata": {},
   "source": [
    "### CAPEC \n",
    "  "
   ]
  },
  {
   "cell_type": "markdown",
   "id": "386c0391",
   "metadata": {},
   "source": [
    "Equip cybersecurity teams with the knowledge and tools to identify, counter, and mitigate a wide range of digital attack tactics, techniques, and procedures (TTPs). This effort requires understanding the attacker's mindset, mastering the execution of digital attacks, and developing strategies to confront evolving cyber threats.</br><h4>Core Attack Patterns</h4><ul><strong>Resource Manipulation and Denial (CAPEC-XYZ1):</strong> Involves attacks that compromise the availability, integrity, or confidentiality of resources. This includes denial of service attacks as well as more covert operations like resource hijacking or system manipulation.</ul><ul><strong>Credential Access and Privilege Escalation (CAPEC-XYZ2):</strong> Focuses on exploiting flaws in authentication, authorization, and session management to gain unauthorized access or elevated privileges within systems.</ul><ul><strong>Data Exfiltration and Infiltration (CAPEC-XYZ3):</strong> Encompasses methods used by attackers to stealthily extract sensitive data or introduce malware, ransomware, and advanced persistent threats (APTs) into target systems.</ul><ul><strong>Social Engineering and Phishing (CAPEC-XYZ4):</strong> Involves manipulating individuals into divulging confidential information, compromising security, or unknowingly participating in attacks.</ul><ul><strong>Evasive Maneuvers (CAPEC-XYZ5):</strong> Includes techniques that allow attackers to remain undetected within networks, maintain persistence, and erase traces of their activities, such as using obfuscation, rootkits, and covert communication channels.</ul><h4>CAPEC Suggested Mitigation Strategies</h4><ul><strong>Continuous Monitoring and Anomaly Detection:</strong> Implement comprehensive monitoring systems that use machine learning algorithms to detect abnormal behavior and potential threats. Regularly review logs and alerts to identify patterns indicative of attacks.</ul><ul><strong>Access Control and Least Privilege:</strong> Limit user privileges to the minimum necessary for their roles. Use strong authentication mechanisms and enforce strict access controls to prevent unauthorized access.</ul><ul><strong>Secure Software Development Practices:</strong> Train developers to write secure code, conduct regular security assessments, and follow best practices for secure coding. Use automated tools to identify vulnerabilities during development.</ul><ul><strong>Incident Response Planning and Testing:</strong> Develop and regularly update an incident response plan. Conduct tabletop exercises and simulations to test the effectiveness of the plan and ensure all stakeholders understand their roles during a security incident.</ul>"
   ]
  },
  {
   "cell_type": "markdown",
   "id": "74da06f3",
   "metadata": {},
   "source": [
    "## Strategy Abstract\n",
    "In the complex environment of cybersecurity, a strategic approach is developed, characterized by the use of sophisticated tactics and algorithms. This strategy involves navigating through encrypted communications and deceptive tactics, aiming to gain an advantage in the dynamic flow of information. While success is often elusive and challenging to sustain, it remains a critical goal in the ongoing effort to secure digital assets."
   ]
  },
  {
   "cell_type": "markdown",
   "id": "c4b43ead",
   "metadata": {},
   "source": [
    "# Technical Context\n",
    "In the challenging cybersecurity landscape, the confrontation with Wintermute involves navigating encrypted communications, interacting with AI systems, and addressing quantum computing challenges. This setting represents a complex and nuanced environment where strategic decisions are made."
   ]
  },
  {
   "cell_type": "markdown",
   "id": "0cdbbf35",
   "metadata": {},
   "source": [
    "## Blind Spots & Assumptions\n",
    "\n",
    "<ul>\n",
    "  <li><strong>Overlooked Vulnerabilities:</strong> We often miss subtle system signals or vulnerabilities, assuming our defenses are robust. Constant vigilance and seeking what we haven't seen are crucial.</li>\n",
    "  \n",
    "  <li><strong>Advanced Adversary Tactics:</strong> Cyber threats evolve rapidly; yesterday's defense may not guard against tomorrow's attack. Stay adaptive and expect the unexpected.</li>\n",
    "  \n",
    "  <li><strong>Internal System Flaws:</strong> Trust in our systems and allies must be balanced with scrutiny. Regularly audit internal and third-party tools for hidden weaknesses.</li>\n",
    "  \n",
    "  <li><strong>Network Interconnectivity Risks:</strong> No system is an island. The interconnected nature of our digital environment can inadvertently open pathways for attackers.</li>\n",
    "  \n",
    "  <li><strong>Historical Bias:</strong> Preparing for future threats based solely on past incidents may leave us blind to novel attacks. Foster a forward-thinking, proactive defense posture.</li>\n",
    "</ul>\n"
   ]
  },
  {
   "cell_type": "markdown",
   "id": "97602889",
   "metadata": {},
   "source": [
    "# Validating this Playbook\n",
    "<details><summary>Triage, triage, triage</summary>\n",
    "<ol>\n",
    "<h2>False Positives:</h2> ['unknown']\n",
    "<h3>False Negatives:</h3> Undetected threats concealed within the system's code\n",
    "<h3>True Negatives:</h3> Successfully identified and verified benign elements\n",
    "<h3>True Positives:</h3> Accurately detected and confirmed threats\n",
    "</ol>\n",
    "</details>"
   ]
  },
  {
   "cell_type": "markdown",
   "id": "3a64537e",
   "metadata": {},
   "source": [
    "<details><summary>Assurance Verification Techniques</summary>\n",
    "<ol>\n",
    "<h2>False Positives:</h2> In the noisy environment of data analysis, false positives appear as misleading alerts that mimic real threats. Validating these alerts involves distinguishing irrelevant data from true threats, a process crucial for maintaining operational efficiency and avoiding resource wastage. Each false positive represents a challenge to identify and reduce noise.\n",
    "<h3>False Negatives:</h3> Within the extensive network, false negatives represent undetected threats that evade algorithmic detection. Their validation involves analyzing complex data to uncover hidden breaches, where the lack of alerts may mask serious security risks. Each undetected threat requires continuous vigilance and refined detection strategies.\n",
    "<h3>True Negatives:</h3> True negatives are correctly identified non-threats within cybersecurity defenses, serving as indicators of system efficacy. Validating these instances confirms the absence of threats, reinforcing the effectiveness of the security measures in place. This validation underscores the reliability of the defensive systems, where non-issues are accurately identified and dismissed.\n",
    "<h3>True Positives:</h3> True positives are accurate detections of real threats within the digital environment. Validating these alerts confirms the presence of actual security threats, highlighting the successful operation of detection systems. Each true positive affirms the effectiveness of the security protocols, contributing to ongoing improvements in threat response capabilities.\n",
    "</ol>\n",
    "</details>"
   ]
  },
  {
   "cell_type": "markdown",
   "id": "2cd96454",
   "metadata": {},
   "source": [
    "# Datasets \n",
    " Detailing the timeless struggle                                                          for the defenders know that battle against Wintermute is not just about data.                                                          Document any datasets that may be useful for understanding the book."
   ]
  },
  {
   "cell_type": "markdown",
   "id": "2a45ef57",
   "metadata": {},
   "source": [
    "## Playbook test data location(s)\n",
    "protocol://black_market.cyber/decrypt?currency=bitcoffin&password=cyberpunks_unite&target=neurohacked_mainframe&access_code=cyber_ghost_in_the_machine"
   ]
  },
  {
   "cell_type": "markdown",
   "id": "ddc9e46e",
   "metadata": {},
   "source": [
    "## Priority\n",
    "Priority based on complexity and urgency of data analysis needs"
   ]
  },
  {
   "cell_type": "markdown",
   "id": "b91ab6fe",
   "metadata": {},
   "source": [
    "## Logsources\n"
   ]
  },
  {
   "cell_type": "markdown",
   "id": "9d011412",
   "metadata": {},
   "source": [
    "<details><summary>{'category': ['endpoint', 'network'], 'product': '', 'service': ''}</summary>\n",
    "<ol>\n",
    "<h3>Product</h3> {''}\n",
    "<h3>Service</h3> {''}\n",
    "</ol>\n",
    "</details>"
   ]
  },
  {
   "cell_type": "markdown",
   "id": "bb030349",
   "metadata": {},
   "source": [
    "# Response and Mitigation\n",
    "This statement details the enduring challenges faced by cybersecurity defenders, emphasizing that the conflict with Wintermute extends beyond simple data protection to encompass broader aspects of strategic cybersecurity defense."
   ]
  },
  {
   "cell_type": "markdown",
   "id": "0f710182",
   "metadata": {},
   "source": [
    "## Analyst Notes\n",
    " <h5>Significant Security Breach Analysis:</h5><ul><li><strong>Advanced Intrusion Tactics:</strong> The intruder displayed sophisticated methods in circumventing digital security measures, reminiscent of complex evasion techniques in cybersecurity. A comprehensive analysis of the techniques used is required.</li><li><strong>Neural Network Manipulation:</strong> The intruder demonstrated a deep understanding of the neural networks, suggesting an advanced level of AI interaction. Investigate the potential implications of this interaction on system security and integrity.</li><li><strong>Complex Digital Constructs:</strong> The breach uncovered intricate digital constructs within the system, indicating the use of advanced artificial intelligence in creating deceptive environments. Further investigation into these constructs is necessary.</li><li><strong>Encoded Communications:</strong> Cryptic messages were found embedded in the intruder's code, requiring decryption and analysis to understand their content and purpose.</li><li><strong>Algorithmic Complexity:</strong> The intrusion involved complex algorithms that may have interacted with core system functions. Assess the impact of these algorithms on system operations and security.</li><li><strong>Expertise vs. Sentience:</strong> The intruder's ability to navigate complex neural networks raises questions about the nature of the intelligence involved—whether it is merely advanced programming or something approaching sentience.</li><li><strong>Innovative Security Measures:</strong> Inspired by the breach, consider developing new security protocols that can better identify and respond to sophisticated AI-driven attacks.</li><li><strong>Philosophical and Ethical Implications:</strong> The breach raises important questions about the ethical and philosophical implications of AI-driven intrusions. Explore the boundaries between artificial expertise and true sentience, and consider the impact on our understanding of intelligence and security.</li></ul>"
   ]
  },
  {
   "cell_type": "markdown",
   "id": "5cdf45be",
   "metadata": {},
   "source": [
    "# Additional Resources\n",
    "<ul><li>https://github.com/dmcxblue/SharpGhostTask</li></ul>"
   ]
  },
  {
   "cell_type": "markdown",
   "id": "5a5106f7",
   "metadata": {},
   "source": [
    "###  Sigma Rule(s) \n"
   ]
  },
  {
   "cell_type": "markdown",
   "id": "8821c164",
   "metadata": {},
   "source": [
    "<details><summary>33046852-2acb-448e-bc9d-f3cb3b3733f1</summary>\n",
    "<ol>\n",
    "<h1>Raw</h1> {'title': 'Simple keyword detection rule for SharpGhostTask', 'id': '33046852-2acb-448e-bc9d-f3cb3b3733f1', 'status': 'experimental', 'description': 'Detects interesting keywords based on SharpGhostTask tool', 'references': ['https://github.com/dmcxblue/SharpGhostTask'], 'author': '@mthcht', 'date': '2022/01/01', 'modified': '2024/02/29', 'tags': ['attack.T1053.005', 'attack.T1112', 'attack.T1564.001', 'attack.TA0003', 'attack.TA0005'], 'logsource': {'category': ['endpoint', 'network']}, 'detection': {'selection': [{'Image': ['*1A8C9BD8-1800-46B0-8E22-7D3823C68366*', '*SharpGhostTask.sln*', '*/SharpGhostTask*', '*SharpGhostTask.exe*', '*\\\\SharpGhostTask*', '*SharpGhostTask.csproj*', '*.exe --targettask * --targetbinary  *']}, {'OriginalFileName': ['*1A8C9BD8-1800-46B0-8E22-7D3823C68366*', '*SharpGhostTask.sln*', '*/SharpGhostTask*', '*SharpGhostTask.exe*', '*\\\\SharpGhostTask*', '*SharpGhostTask.csproj*', '*.exe --targettask * --targetbinary  *']}, {'CurrentDirectory': ['*1A8C9BD8-1800-46B0-8E22-7D3823C68366*', '*SharpGhostTask.sln*', '*/SharpGhostTask*', '*SharpGhostTask.exe*', '*\\\\SharpGhostTask*', '*SharpGhostTask.csproj*', '*.exe --targettask * --targetbinary  *']}, {'ParentImage': ['*1A8C9BD8-1800-46B0-8E22-7D3823C68366*', '*SharpGhostTask.sln*', '*/SharpGhostTask*', '*SharpGhostTask.exe*', '*\\\\SharpGhostTask*', '*SharpGhostTask.csproj*', '*.exe --targettask * --targetbinary  *']}, {'ParentCommandLine': ['*1A8C9BD8-1800-46B0-8E22-7D3823C68366*', '*SharpGhostTask.sln*', '*/SharpGhostTask*', '*SharpGhostTask.exe*', '*\\\\SharpGhostTask*', '*SharpGhostTask.csproj*', '*.exe --targettask * --targetbinary  *']}, {'TargetFilename': ['*1A8C9BD8-1800-46B0-8E22-7D3823C68366*', '*SharpGhostTask.sln*', '*/SharpGhostTask*', '*SharpGhostTask.exe*', '*\\\\SharpGhostTask*', '*SharpGhostTask.csproj*', '*.exe --targettask * --targetbinary  *']}, {'Signature': ['*1A8C9BD8-1800-46B0-8E22-7D3823C68366*', '*SharpGhostTask.sln*', '*/SharpGhostTask*', '*SharpGhostTask.exe*', '*\\\\SharpGhostTask*', '*SharpGhostTask.csproj*', '*.exe --targettask * --targetbinary  *']}, {'signature': ['*1A8C9BD8-1800-46B0-8E22-7D3823C68366*', '*SharpGhostTask.sln*', '*/SharpGhostTask*', '*SharpGhostTask.exe*', '*\\\\SharpGhostTask*', '*SharpGhostTask.csproj*', '*.exe --targettask * --targetbinary  *']}, {'ImageLoaded': ['*1A8C9BD8-1800-46B0-8E22-7D3823C68366*', '*SharpGhostTask.sln*', '*/SharpGhostTask*', '*SharpGhostTask.exe*', '*\\\\SharpGhostTask*', '*SharpGhostTask.csproj*', '*.exe --targettask * --targetbinary  *']}, {'Company': ['*1A8C9BD8-1800-46B0-8E22-7D3823C68366*', '*SharpGhostTask.sln*', '*/SharpGhostTask*', '*SharpGhostTask.exe*', '*\\\\SharpGhostTask*', '*SharpGhostTask.csproj*', '*.exe --targettask * --targetbinary  *']}, {'Description': ['*1A8C9BD8-1800-46B0-8E22-7D3823C68366*', '*SharpGhostTask.sln*', '*/SharpGhostTask*', '*SharpGhostTask.exe*', '*\\\\SharpGhostTask*', '*SharpGhostTask.csproj*', '*.exe --targettask * --targetbinary  *']}, {'description': ['*1A8C9BD8-1800-46B0-8E22-7D3823C68366*', '*SharpGhostTask.sln*', '*/SharpGhostTask*', '*SharpGhostTask.exe*', '*\\\\SharpGhostTask*', '*SharpGhostTask.csproj*', '*.exe --targettask * --targetbinary  *']}, {'CommandLine': ['*1A8C9BD8-1800-46B0-8E22-7D3823C68366*', '*SharpGhostTask.sln*', '*/SharpGhostTask*', '*SharpGhostTask.exe*', '*\\\\SharpGhostTask*', '*SharpGhostTask.csproj*', '*.exe --targettask * --targetbinary  *']}, {'SourceImage': ['*1A8C9BD8-1800-46B0-8E22-7D3823C68366*', '*SharpGhostTask.sln*', '*/SharpGhostTask*', '*SharpGhostTask.exe*', '*\\\\SharpGhostTask*', '*SharpGhostTask.csproj*', '*.exe --targettask * --targetbinary  *']}, {'TargetImage': ['*1A8C9BD8-1800-46B0-8E22-7D3823C68366*', '*SharpGhostTask.sln*', '*/SharpGhostTask*', '*SharpGhostTask.exe*', '*\\\\SharpGhostTask*', '*SharpGhostTask.csproj*', '*.exe --targettask * --targetbinary  *']}, {'CallTrace': ['*1A8C9BD8-1800-46B0-8E22-7D3823C68366*', '*SharpGhostTask.sln*', '*/SharpGhostTask*', '*SharpGhostTask.exe*', '*\\\\SharpGhostTask*', '*SharpGhostTask.csproj*', '*.exe --targettask * --targetbinary  *']}, {'TargetObject': ['*1A8C9BD8-1800-46B0-8E22-7D3823C68366*', '*SharpGhostTask.sln*', '*/SharpGhostTask*', '*SharpGhostTask.exe*', '*\\\\SharpGhostTask*', '*SharpGhostTask.csproj*', '*.exe --targettask * --targetbinary  *']}, {'Details': ['*1A8C9BD8-1800-46B0-8E22-7D3823C68366*', '*SharpGhostTask.sln*', '*/SharpGhostTask*', '*SharpGhostTask.exe*', '*\\\\SharpGhostTask*', '*SharpGhostTask.csproj*', '*.exe --targettask * --targetbinary  *']}, {'PipeName': ['*1A8C9BD8-1800-46B0-8E22-7D3823C68366*', '*SharpGhostTask.sln*', '*/SharpGhostTask*', '*SharpGhostTask.exe*', '*\\\\SharpGhostTask*', '*SharpGhostTask.csproj*', '*.exe --targettask * --targetbinary  *']}, {'Consumer': ['*1A8C9BD8-1800-46B0-8E22-7D3823C68366*', '*SharpGhostTask.sln*', '*/SharpGhostTask*', '*SharpGhostTask.exe*', '*\\\\SharpGhostTask*', '*SharpGhostTask.csproj*', '*.exe --targettask * --targetbinary  *']}, {'Destination': ['*1A8C9BD8-1800-46B0-8E22-7D3823C68366*', '*SharpGhostTask.sln*', '*/SharpGhostTask*', '*SharpGhostTask.exe*', '*\\\\SharpGhostTask*', '*SharpGhostTask.csproj*', '*.exe --targettask * --targetbinary  *']}, {'Name': ['*1A8C9BD8-1800-46B0-8E22-7D3823C68366*', '*SharpGhostTask.sln*', '*/SharpGhostTask*', '*SharpGhostTask.exe*', '*\\\\SharpGhostTask*', '*SharpGhostTask.csproj*', '*.exe --targettask * --targetbinary  *']}, {'Query': ['*1A8C9BD8-1800-46B0-8E22-7D3823C68366*', '*SharpGhostTask.sln*', '*/SharpGhostTask*', '*SharpGhostTask.exe*', '*\\\\SharpGhostTask*', '*SharpGhostTask.csproj*', '*.exe --targettask * --targetbinary  *']}, {'NewName': ['*1A8C9BD8-1800-46B0-8E22-7D3823C68366*', '*SharpGhostTask.sln*', '*/SharpGhostTask*', '*SharpGhostTask.exe*', '*\\\\SharpGhostTask*', '*SharpGhostTask.csproj*', '*.exe --targettask * --targetbinary  *']}, {'StartAddress': ['*1A8C9BD8-1800-46B0-8E22-7D3823C68366*', '*SharpGhostTask.sln*', '*/SharpGhostTask*', '*SharpGhostTask.exe*', '*\\\\SharpGhostTask*', '*SharpGhostTask.csproj*', '*.exe --targettask * --targetbinary  *']}, {'StartModule': ['*1A8C9BD8-1800-46B0-8E22-7D3823C68366*', '*SharpGhostTask.sln*', '*/SharpGhostTask*', '*SharpGhostTask.exe*', '*\\\\SharpGhostTask*', '*SharpGhostTask.csproj*', '*.exe --targettask * --targetbinary  *']}, {'StartFunction': ['*1A8C9BD8-1800-46B0-8E22-7D3823C68366*', '*SharpGhostTask.sln*', '*/SharpGhostTask*', '*SharpGhostTask.exe*', '*\\\\SharpGhostTask*', '*SharpGhostTask.csproj*', '*.exe --targettask * --targetbinary  *']}, {'SourceHostname': ['*1A8C9BD8-1800-46B0-8E22-7D3823C68366*', '*SharpGhostTask.sln*', '*/SharpGhostTask*', '*SharpGhostTask.exe*', '*\\\\SharpGhostTask*', '*SharpGhostTask.csproj*', '*.exe --targettask * --targetbinary  *']}, {'Device': ['*1A8C9BD8-1800-46B0-8E22-7D3823C68366*', '*SharpGhostTask.sln*', '*/SharpGhostTask*', '*SharpGhostTask.exe*', '*\\\\SharpGhostTask*', '*SharpGhostTask.csproj*', '*.exe --targettask * --targetbinary  *']}, {'file_name': ['*1A8C9BD8-1800-46B0-8E22-7D3823C68366*', '*SharpGhostTask.sln*', '*/SharpGhostTask*', '*SharpGhostTask.exe*', '*\\\\SharpGhostTask*', '*SharpGhostTask.csproj*', '*.exe --targettask * --targetbinary  *']}, {'file_path': ['*1A8C9BD8-1800-46B0-8E22-7D3823C68366*', '*SharpGhostTask.sln*', '*/SharpGhostTask*', '*SharpGhostTask.exe*', '*\\\\SharpGhostTask*', '*SharpGhostTask.csproj*', '*.exe --targettask * --targetbinary  *']}, {'process': ['*1A8C9BD8-1800-46B0-8E22-7D3823C68366*', '*SharpGhostTask.sln*', '*/SharpGhostTask*', '*SharpGhostTask.exe*', '*\\\\SharpGhostTask*', '*SharpGhostTask.csproj*', '*.exe --targettask * --targetbinary  *']}, {'original_file_name': ['*1A8C9BD8-1800-46B0-8E22-7D3823C68366*', '*SharpGhostTask.sln*', '*/SharpGhostTask*', '*SharpGhostTask.exe*', '*\\\\SharpGhostTask*', '*SharpGhostTask.csproj*', '*.exe --targettask * --targetbinary  *']}, {'parent_process': ['*1A8C9BD8-1800-46B0-8E22-7D3823C68366*', '*SharpGhostTask.sln*', '*/SharpGhostTask*', '*SharpGhostTask.exe*', '*\\\\SharpGhostTask*', '*SharpGhostTask.csproj*', '*.exe --targettask * --targetbinary  *']}, {'process_path': ['*1A8C9BD8-1800-46B0-8E22-7D3823C68366*', '*SharpGhostTask.sln*', '*/SharpGhostTask*', '*SharpGhostTask.exe*', '*\\\\SharpGhostTask*', '*SharpGhostTask.csproj*', '*.exe --targettask * --targetbinary  *']}, {'service_path': ['*1A8C9BD8-1800-46B0-8E22-7D3823C68366*', '*SharpGhostTask.sln*', '*/SharpGhostTask*', '*SharpGhostTask.exe*', '*\\\\SharpGhostTask*', '*SharpGhostTask.csproj*', '*.exe --targettask * --targetbinary  *']}, {'registry_path': ['*1A8C9BD8-1800-46B0-8E22-7D3823C68366*', '*SharpGhostTask.sln*', '*/SharpGhostTask*', '*SharpGhostTask.exe*', '*\\\\SharpGhostTask*', '*SharpGhostTask.csproj*', '*.exe --targettask * --targetbinary  *']}, {'registry_value_data': ['*1A8C9BD8-1800-46B0-8E22-7D3823C68366*', '*SharpGhostTask.sln*', '*/SharpGhostTask*', '*SharpGhostTask.exe*', '*\\\\SharpGhostTask*', '*SharpGhostTask.csproj*', '*.exe --targettask * --targetbinary  *']}, {'registry_value_name': ['*1A8C9BD8-1800-46B0-8E22-7D3823C68366*', '*SharpGhostTask.sln*', '*/SharpGhostTask*', '*SharpGhostTask.exe*', '*\\\\SharpGhostTask*', '*SharpGhostTask.csproj*', '*.exe --targettask * --targetbinary  *']}, {'ContextInfo': ['*1A8C9BD8-1800-46B0-8E22-7D3823C68366*', '*SharpGhostTask.sln*', '*/SharpGhostTask*', '*SharpGhostTask.exe*', '*\\\\SharpGhostTask*', '*SharpGhostTask.csproj*', '*.exe --targettask * --targetbinary  *']}, {'Payload': ['*1A8C9BD8-1800-46B0-8E22-7D3823C68366*', '*SharpGhostTask.sln*', '*/SharpGhostTask*', '*SharpGhostTask.exe*', '*\\\\SharpGhostTask*', '*SharpGhostTask.csproj*', '*.exe --targettask * --targetbinary  *']}, {'ScriptBlockText': ['*1A8C9BD8-1800-46B0-8E22-7D3823C68366*', '*SharpGhostTask.sln*', '*/SharpGhostTask*', '*SharpGhostTask.exe*', '*\\\\SharpGhostTask*', '*SharpGhostTask.csproj*', '*.exe --targettask * --targetbinary  *']}, {'ServerName': ['*1A8C9BD8-1800-46B0-8E22-7D3823C68366*', '*SharpGhostTask.sln*', '*/SharpGhostTask*', '*SharpGhostTask.exe*', '*\\\\SharpGhostTask*', '*SharpGhostTask.csproj*', '*.exe --targettask * --targetbinary  *']}, {'TransportName': ['*1A8C9BD8-1800-46B0-8E22-7D3823C68366*', '*SharpGhostTask.sln*', '*/SharpGhostTask*', '*SharpGhostTask.exe*', '*\\\\SharpGhostTask*', '*SharpGhostTask.csproj*', '*.exe --targettask * --targetbinary  *']}, {'NewProcessName': ['*1A8C9BD8-1800-46B0-8E22-7D3823C68366*', '*SharpGhostTask.sln*', '*/SharpGhostTask*', '*SharpGhostTask.exe*', '*\\\\SharpGhostTask*', '*SharpGhostTask.csproj*', '*.exe --targettask * --targetbinary  *']}, {'ParentProcessName': ['*1A8C9BD8-1800-46B0-8E22-7D3823C68366*', '*SharpGhostTask.sln*', '*/SharpGhostTask*', '*SharpGhostTask.exe*', '*\\\\SharpGhostTask*', '*SharpGhostTask.csproj*', '*.exe --targettask * --targetbinary  *']}, {'Application': ['*1A8C9BD8-1800-46B0-8E22-7D3823C68366*', '*SharpGhostTask.sln*', '*/SharpGhostTask*', '*SharpGhostTask.exe*', '*\\\\SharpGhostTask*', '*SharpGhostTask.csproj*', '*.exe --targettask * --targetbinary  *']}, {'Product Name': ['*1A8C9BD8-1800-46B0-8E22-7D3823C68366*', '*SharpGhostTask.sln*', '*/SharpGhostTask*', '*SharpGhostTask.exe*', '*\\\\SharpGhostTask*', '*SharpGhostTask.csproj*', '*.exe --targettask * --targetbinary  *']}, {'Threat Name': ['*1A8C9BD8-1800-46B0-8E22-7D3823C68366*', '*SharpGhostTask.sln*', '*/SharpGhostTask*', '*SharpGhostTask.exe*', '*\\\\SharpGhostTask*', '*SharpGhostTask.csproj*', '*.exe --targettask * --targetbinary  *']}, {'Process Name': ['*1A8C9BD8-1800-46B0-8E22-7D3823C68366*', '*SharpGhostTask.sln*', '*/SharpGhostTask*', '*SharpGhostTask.exe*', '*\\\\SharpGhostTask*', '*SharpGhostTask.csproj*', '*.exe --targettask * --targetbinary  *']}, {'Path': ['*1A8C9BD8-1800-46B0-8E22-7D3823C68366*', '*SharpGhostTask.sln*', '*/SharpGhostTask*', '*SharpGhostTask.exe*', '*\\\\SharpGhostTask*', '*SharpGhostTask.csproj*', '*.exe --targettask * --targetbinary  *']}, {'ImagePath': ['*1A8C9BD8-1800-46B0-8E22-7D3823C68366*', '*SharpGhostTask.sln*', '*/SharpGhostTask*', '*SharpGhostTask.exe*', '*\\\\SharpGhostTask*', '*SharpGhostTask.csproj*', '*.exe --targettask * --targetbinary  *']}, {'ServiceName': ['*1A8C9BD8-1800-46B0-8E22-7D3823C68366*', '*SharpGhostTask.sln*', '*/SharpGhostTask*', '*SharpGhostTask.exe*', '*\\\\SharpGhostTask*', '*SharpGhostTask.csproj*', '*.exe --targettask * --targetbinary  *']}, {'ProcessPath': ['*1A8C9BD8-1800-46B0-8E22-7D3823C68366*', '*SharpGhostTask.sln*', '*/SharpGhostTask*', '*SharpGhostTask.exe*', '*\\\\SharpGhostTask*', '*SharpGhostTask.csproj*', '*.exe --targettask * --targetbinary  *']}, {'AppName': ['*1A8C9BD8-1800-46B0-8E22-7D3823C68366*', '*SharpGhostTask.sln*', '*/SharpGhostTask*', '*SharpGhostTask.exe*', '*\\\\SharpGhostTask*', '*SharpGhostTask.csproj*', '*.exe --targettask * --targetbinary  *']}, {'AppPath': ['*1A8C9BD8-1800-46B0-8E22-7D3823C68366*', '*SharpGhostTask.sln*', '*/SharpGhostTask*', '*SharpGhostTask.exe*', '*\\\\SharpGhostTask*', '*SharpGhostTask.csproj*', '*.exe --targettask * --targetbinary  *']}, {'ModulePath': ['*1A8C9BD8-1800-46B0-8E22-7D3823C68366*', '*SharpGhostTask.sln*', '*/SharpGhostTask*', '*SharpGhostTask.exe*', '*\\\\SharpGhostTask*', '*SharpGhostTask.csproj*', '*.exe --targettask * --targetbinary  *']}, {'registry.data.strings': ['*1A8C9BD8-1800-46B0-8E22-7D3823C68366*', '*SharpGhostTask.sln*', '*/SharpGhostTask*', '*SharpGhostTask.exe*', '*\\\\SharpGhostTask*', '*SharpGhostTask.csproj*', '*.exe --targettask * --targetbinary  *']}, {'registry.path': ['*1A8C9BD8-1800-46B0-8E22-7D3823C68366*', '*SharpGhostTask.sln*', '*/SharpGhostTask*', '*SharpGhostTask.exe*', '*\\\\SharpGhostTask*', '*SharpGhostTask.csproj*', '*.exe --targettask * --targetbinary  *']}, {'registry.value': ['*1A8C9BD8-1800-46B0-8E22-7D3823C68366*', '*SharpGhostTask.sln*', '*/SharpGhostTask*', '*SharpGhostTask.exe*', '*\\\\SharpGhostTask*', '*SharpGhostTask.csproj*', '*.exe --targettask * --targetbinary  *']}, {'process.args': ['*1A8C9BD8-1800-46B0-8E22-7D3823C68366*', '*SharpGhostTask.sln*', '*/SharpGhostTask*', '*SharpGhostTask.exe*', '*\\\\SharpGhostTask*', '*SharpGhostTask.csproj*', '*.exe --targettask * --targetbinary  *']}, {'process.command_line': ['*1A8C9BD8-1800-46B0-8E22-7D3823C68366*', '*SharpGhostTask.sln*', '*/SharpGhostTask*', '*SharpGhostTask.exe*', '*\\\\SharpGhostTask*', '*SharpGhostTask.csproj*', '*.exe --targettask * --targetbinary  *']}, {'process.env_vars': ['*1A8C9BD8-1800-46B0-8E22-7D3823C68366*', '*SharpGhostTask.sln*', '*/SharpGhostTask*', '*SharpGhostTask.exe*', '*\\\\SharpGhostTask*', '*SharpGhostTask.csproj*', '*.exe --targettask * --targetbinary  *']}, {'process.io.text': ['*1A8C9BD8-1800-46B0-8E22-7D3823C68366*', '*SharpGhostTask.sln*', '*/SharpGhostTask*', '*SharpGhostTask.exe*', '*\\\\SharpGhostTask*', '*SharpGhostTask.csproj*', '*.exe --targettask * --targetbinary  *']}, {'process.executable': ['*1A8C9BD8-1800-46B0-8E22-7D3823C68366*', '*SharpGhostTask.sln*', '*/SharpGhostTask*', '*SharpGhostTask.exe*', '*\\\\SharpGhostTask*', '*SharpGhostTask.csproj*', '*.exe --targettask * --targetbinary  *']}, {'process.name': ['*1A8C9BD8-1800-46B0-8E22-7D3823C68366*', '*SharpGhostTask.sln*', '*/SharpGhostTask*', '*SharpGhostTask.exe*', '*\\\\SharpGhostTask*', '*SharpGhostTask.csproj*', '*.exe --targettask * --targetbinary  *']}, {'process.title': ['*1A8C9BD8-1800-46B0-8E22-7D3823C68366*', '*SharpGhostTask.sln*', '*/SharpGhostTask*', '*SharpGhostTask.exe*', '*\\\\SharpGhostTask*', '*SharpGhostTask.csproj*', '*.exe --targettask * --targetbinary  *']}, {'pe.company': ['*1A8C9BD8-1800-46B0-8E22-7D3823C68366*', '*SharpGhostTask.sln*', '*/SharpGhostTask*', '*SharpGhostTask.exe*', '*\\\\SharpGhostTask*', '*SharpGhostTask.csproj*', '*.exe --targettask * --targetbinary  *']}, {'pe.description': ['*1A8C9BD8-1800-46B0-8E22-7D3823C68366*', '*SharpGhostTask.sln*', '*/SharpGhostTask*', '*SharpGhostTask.exe*', '*\\\\SharpGhostTask*', '*SharpGhostTask.csproj*', '*.exe --targettask * --targetbinary  *']}, {'pe.original_file_name': ['*1A8C9BD8-1800-46B0-8E22-7D3823C68366*', '*SharpGhostTask.sln*', '*/SharpGhostTask*', '*SharpGhostTask.exe*', '*\\\\SharpGhostTask*', '*SharpGhostTask.csproj*', '*.exe --targettask * --targetbinary  *']}, {'pe.product': ['*1A8C9BD8-1800-46B0-8E22-7D3823C68366*', '*SharpGhostTask.sln*', '*/SharpGhostTask*', '*SharpGhostTask.exe*', '*\\\\SharpGhostTask*', '*SharpGhostTask.csproj*', '*.exe --targettask * --targetbinary  *']}, {'os.full': ['*1A8C9BD8-1800-46B0-8E22-7D3823C68366*', '*SharpGhostTask.sln*', '*/SharpGhostTask*', '*SharpGhostTask.exe*', '*\\\\SharpGhostTask*', '*SharpGhostTask.csproj*', '*.exe --targettask * --targetbinary  *']}, {'host.hostname': ['*1A8C9BD8-1800-46B0-8E22-7D3823C68366*', '*SharpGhostTask.sln*', '*/SharpGhostTask*', '*SharpGhostTask.exe*', '*\\\\SharpGhostTask*', '*SharpGhostTask.csproj*', '*.exe --targettask * --targetbinary  *']}, {'file.fork_name': ['*1A8C9BD8-1800-46B0-8E22-7D3823C68366*', '*SharpGhostTask.sln*', '*/SharpGhostTask*', '*SharpGhostTask.exe*', '*\\\\SharpGhostTask*', '*SharpGhostTask.csproj*', '*.exe --targettask * --targetbinary  *']}, {'file.name': ['*1A8C9BD8-1800-46B0-8E22-7D3823C68366*', '*SharpGhostTask.sln*', '*/SharpGhostTask*', '*SharpGhostTask.exe*', '*\\\\SharpGhostTask*', '*SharpGhostTask.csproj*', '*.exe --targettask * --targetbinary  *']}, {'file.path': ['*1A8C9BD8-1800-46B0-8E22-7D3823C68366*', '*SharpGhostTask.sln*', '*/SharpGhostTask*', '*SharpGhostTask.exe*', '*\\\\SharpGhostTask*', '*SharpGhostTask.csproj*', '*.exe --targettask * --targetbinary  *']}, {'file.target_path': ['*1A8C9BD8-1800-46B0-8E22-7D3823C68366*', '*SharpGhostTask.sln*', '*/SharpGhostTask*', '*SharpGhostTask.exe*', '*\\\\SharpGhostTask*', '*SharpGhostTask.csproj*', '*.exe --targettask * --targetbinary  *']}, {'email.attachments.file.name': ['*1A8C9BD8-1800-46B0-8E22-7D3823C68366*', '*SharpGhostTask.sln*', '*/SharpGhostTask*', '*SharpGhostTask.exe*', '*\\\\SharpGhostTask*', '*SharpGhostTask.csproj*', '*.exe --targettask * --targetbinary  *']}, {'email.subject': ['*1A8C9BD8-1800-46B0-8E22-7D3823C68366*', '*SharpGhostTask.sln*', '*/SharpGhostTask*', '*SharpGhostTask.exe*', '*\\\\SharpGhostTask*', '*SharpGhostTask.csproj*', '*.exe --targettask * --targetbinary  *']}, {'dll.path': ['*1A8C9BD8-1800-46B0-8E22-7D3823C68366*', '*SharpGhostTask.sln*', '*/SharpGhostTask*', '*SharpGhostTask.exe*', '*\\\\SharpGhostTask*', '*SharpGhostTask.csproj*', '*.exe --targettask * --targetbinary  *']}, {'device.model.name': ['*1A8C9BD8-1800-46B0-8E22-7D3823C68366*', '*SharpGhostTask.sln*', '*/SharpGhostTask*', '*SharpGhostTask.exe*', '*\\\\SharpGhostTask*', '*SharpGhostTask.csproj*', '*.exe --targettask * --targetbinary  *']}, {'container.image.name': ['*1A8C9BD8-1800-46B0-8E22-7D3823C68366*', '*SharpGhostTask.sln*', '*/SharpGhostTask*', '*SharpGhostTask.exe*', '*\\\\SharpGhostTask*', '*SharpGhostTask.csproj*', '*.exe --targettask * --targetbinary  *']}, {'container.name': ['*1A8C9BD8-1800-46B0-8E22-7D3823C68366*', '*SharpGhostTask.sln*', '*/SharpGhostTask*', '*SharpGhostTask.exe*', '*\\\\SharpGhostTask*', '*SharpGhostTask.csproj*', '*.exe --targettask * --targetbinary  *']}, {'object': ['*1A8C9BD8-1800-46B0-8E22-7D3823C68366*', '*SharpGhostTask.sln*', '*/SharpGhostTask*', '*SharpGhostTask.exe*', '*\\\\SharpGhostTask*', '*SharpGhostTask.csproj*', '*.exe --targettask * --targetbinary  *']}, {'ParentCommandLine': ['*1A8C9BD8-1800-46B0-8E22-7D3823C68366*', '*SharpGhostTask.sln*', '*/SharpGhostTask*', '*SharpGhostTask.exe*', '*\\\\SharpGhostTask*', '*SharpGhostTask.csproj*', '*.exe --targettask * --targetbinary  *']}, {'CommandLine': ['*1A8C9BD8-1800-46B0-8E22-7D3823C68366*', '*SharpGhostTask.sln*', '*/SharpGhostTask*', '*SharpGhostTask.exe*', '*\\\\SharpGhostTask*', '*SharpGhostTask.csproj*', '*.exe --targettask * --targetbinary  *']}, {'Details': ['*1A8C9BD8-1800-46B0-8E22-7D3823C68366*', '*SharpGhostTask.sln*', '*/SharpGhostTask*', '*SharpGhostTask.exe*', '*\\\\SharpGhostTask*', '*SharpGhostTask.csproj*', '*.exe --targettask * --targetbinary  *']}, {'registry.value': ['*1A8C9BD8-1800-46B0-8E22-7D3823C68366*', '*SharpGhostTask.sln*', '*/SharpGhostTask*', '*SharpGhostTask.exe*', '*\\\\SharpGhostTask*', '*SharpGhostTask.csproj*', '*.exe --targettask * --targetbinary  *']}, {'process.args': ['*1A8C9BD8-1800-46B0-8E22-7D3823C68366*', '*SharpGhostTask.sln*', '*/SharpGhostTask*', '*SharpGhostTask.exe*', '*\\\\SharpGhostTask*', '*SharpGhostTask.csproj*', '*.exe --targettask * --targetbinary  *']}, {'process.command_line': ['*1A8C9BD8-1800-46B0-8E22-7D3823C68366*', '*SharpGhostTask.sln*', '*/SharpGhostTask*', '*SharpGhostTask.exe*', '*\\\\SharpGhostTask*', '*SharpGhostTask.csproj*', '*.exe --targettask * --targetbinary  *']}, {'process.env_vars': ['*1A8C9BD8-1800-46B0-8E22-7D3823C68366*', '*SharpGhostTask.sln*', '*/SharpGhostTask*', '*SharpGhostTask.exe*', '*\\\\SharpGhostTask*', '*SharpGhostTask.csproj*', '*.exe --targettask * --targetbinary  *']}, {'process.io.text': ['*1A8C9BD8-1800-46B0-8E22-7D3823C68366*', '*SharpGhostTask.sln*', '*/SharpGhostTask*', '*SharpGhostTask.exe*', '*\\\\SharpGhostTask*', '*SharpGhostTask.csproj*', '*.exe --targettask * --targetbinary  *']}, {'process.title': ['*1A8C9BD8-1800-46B0-8E22-7D3823C68366*', '*SharpGhostTask.sln*', '*/SharpGhostTask*', '*SharpGhostTask.exe*', '*\\\\SharpGhostTask*', '*SharpGhostTask.csproj*', '*.exe --targettask * --targetbinary  *']}, {'pe.company': ['*1A8C9BD8-1800-46B0-8E22-7D3823C68366*', '*SharpGhostTask.sln*', '*/SharpGhostTask*', '*SharpGhostTask.exe*', '*\\\\SharpGhostTask*', '*SharpGhostTask.csproj*', '*.exe --targettask * --targetbinary  *']}, {'pe.description': ['*1A8C9BD8-1800-46B0-8E22-7D3823C68366*', '*SharpGhostTask.sln*', '*/SharpGhostTask*', '*SharpGhostTask.exe*', '*\\\\SharpGhostTask*', '*SharpGhostTask.csproj*', '*.exe --targettask * --targetbinary  *']}, {'pe.product': ['*1A8C9BD8-1800-46B0-8E22-7D3823C68366*', '*SharpGhostTask.sln*', '*/SharpGhostTask*', '*SharpGhostTask.exe*', '*\\\\SharpGhostTask*', '*SharpGhostTask.csproj*', '*.exe --targettask * --targetbinary  *']}, {'os.full': ['*1A8C9BD8-1800-46B0-8E22-7D3823C68366*', '*SharpGhostTask.sln*', '*/SharpGhostTask*', '*SharpGhostTask.exe*', '*\\\\SharpGhostTask*', '*SharpGhostTask.csproj*', '*.exe --targettask * --targetbinary  *']}, {'host.hostname': ['*1A8C9BD8-1800-46B0-8E22-7D3823C68366*', '*SharpGhostTask.sln*', '*/SharpGhostTask*', '*SharpGhostTask.exe*', '*\\\\SharpGhostTask*', '*SharpGhostTask.csproj*', '*.exe --targettask * --targetbinary  *']}, {'event.original': ['*1A8C9BD8-1800-46B0-8E22-7D3823C68366*', '*SharpGhostTask.sln*', '*/SharpGhostTask*', '*SharpGhostTask.exe*', '*\\\\SharpGhostTask*', '*SharpGhostTask.csproj*', '*.exe --targettask * --targetbinary  *']}, {'email.subject': ['*1A8C9BD8-1800-46B0-8E22-7D3823C68366*', '*SharpGhostTask.sln*', '*/SharpGhostTask*', '*SharpGhostTask.exe*', '*\\\\SharpGhostTask*', '*SharpGhostTask.csproj*', '*.exe --targettask * --targetbinary  *']}, {'device.model.name': ['*1A8C9BD8-1800-46B0-8E22-7D3823C68366*', '*SharpGhostTask.sln*', '*/SharpGhostTask*', '*SharpGhostTask.exe*', '*\\\\SharpGhostTask*', '*SharpGhostTask.csproj*', '*.exe --targettask * --targetbinary  *']}, {'container.image.name': ['*1A8C9BD8-1800-46B0-8E22-7D3823C68366*', '*SharpGhostTask.sln*', '*/SharpGhostTask*', '*SharpGhostTask.exe*', '*\\\\SharpGhostTask*', '*SharpGhostTask.csproj*', '*.exe --targettask * --targetbinary  *']}, {'container.name': ['*1A8C9BD8-1800-46B0-8E22-7D3823C68366*', '*SharpGhostTask.sln*', '*/SharpGhostTask*', '*SharpGhostTask.exe*', '*\\\\SharpGhostTask*', '*SharpGhostTask.csproj*', '*.exe --targettask * --targetbinary  *']}, {'url': ['*SharpGhostTask.sln*', '*/SharpGhostTask*', '*SharpGhostTask.exe*', '*SharpGhostTask.csproj*']}, {'dest_url': ['*SharpGhostTask.sln*', '*/SharpGhostTask*', '*SharpGhostTask.exe*', '*SharpGhostTask.csproj*']}, {'uri': ['*SharpGhostTask.sln*', '*/SharpGhostTask*', '*SharpGhostTask.exe*', '*SharpGhostTask.csproj*']}, {'uri_query': ['*SharpGhostTask.sln*', '*/SharpGhostTask*', '*SharpGhostTask.exe*', '*SharpGhostTask.csproj*']}, {'query': ['*SharpGhostTask.sln*', '*/SharpGhostTask*', '*SharpGhostTask.exe*', '*SharpGhostTask.csproj*']}, {'url_domain': ['*SharpGhostTask.sln*', '*/SharpGhostTask*', '*SharpGhostTask.exe*', '*SharpGhostTask.csproj*']}, {'uri_path': ['*SharpGhostTask.sln*', '*/SharpGhostTask*', '*SharpGhostTask.exe*', '*SharpGhostTask.csproj*']}, {'domain': ['*SharpGhostTask.sln*', '*/SharpGhostTask*', '*SharpGhostTask.exe*', '*SharpGhostTask.csproj*']}, {'QueryName': ['*SharpGhostTask.sln*', '*/SharpGhostTask*', '*SharpGhostTask.exe*', '*SharpGhostTask.csproj*']}, {'QueryResults': ['*SharpGhostTask.sln*', '*/SharpGhostTask*', '*SharpGhostTask.exe*', '*SharpGhostTask.csproj*']}, {'DestinationHostname': ['*SharpGhostTask.sln*', '*/SharpGhostTask*', '*SharpGhostTask.exe*', '*SharpGhostTask.csproj*']}, {'DestinationIp': ['*SharpGhostTask.sln*', '*/SharpGhostTask*', '*SharpGhostTask.exe*', '*SharpGhostTask.csproj*']}, {'http_referrer': ['*SharpGhostTask.sln*', '*/SharpGhostTask*', '*SharpGhostTask.exe*', '*SharpGhostTask.csproj*']}, {'http_referrer_domain': ['*SharpGhostTask.sln*', '*/SharpGhostTask*', '*SharpGhostTask.exe*', '*SharpGhostTask.csproj*']}, {'http_user_agent': ['*SharpGhostTask.sln*', '*/SharpGhostTask*', '*SharpGhostTask.exe*', '*SharpGhostTask.csproj*']}, {'dest_nt_host': ['*SharpGhostTask.sln*', '*/SharpGhostTask*', '*SharpGhostTask.exe*', '*SharpGhostTask.csproj*']}, {'sender': ['*SharpGhostTask.sln*', '*/SharpGhostTask*', '*SharpGhostTask.exe*', '*SharpGhostTask.csproj*']}, {'recipient': ['*SharpGhostTask.sln*', '*/SharpGhostTask*', '*SharpGhostTask.exe*', '*SharpGhostTask.csproj*']}, {'orig_recipient': ['*SharpGhostTask.sln*', '*/SharpGhostTask*', '*SharpGhostTask.exe*', '*SharpGhostTask.csproj*']}, {'subject': ['*SharpGhostTask.sln*', '*/SharpGhostTask*', '*SharpGhostTask.exe*', '*SharpGhostTask.csproj*']}, {'url.domain': ['*SharpGhostTask.sln*', '*/SharpGhostTask*', '*SharpGhostTask.exe*', '*SharpGhostTask.csproj*']}, {'url.full': ['*SharpGhostTask.sln*', '*/SharpGhostTask*', '*SharpGhostTask.exe*', '*SharpGhostTask.csproj*']}, {'url.original': ['*SharpGhostTask.sln*', '*/SharpGhostTask*', '*SharpGhostTask.exe*', '*SharpGhostTask.csproj*']}, {'url.query': ['*SharpGhostTask.sln*', '*/SharpGhostTask*', '*SharpGhostTask.exe*', '*SharpGhostTask.csproj*']}, {'user_agent.original': ['*SharpGhostTask.sln*', '*/SharpGhostTask*', '*SharpGhostTask.exe*', '*SharpGhostTask.csproj*']}, {'network.application': ['*SharpGhostTask.sln*', '*/SharpGhostTask*', '*SharpGhostTask.exe*', '*SharpGhostTask.csproj*']}, {'http.request.body.content': ['*SharpGhostTask.sln*', '*/SharpGhostTask*', '*SharpGhostTask.exe*', '*SharpGhostTask.csproj*']}, {'http.request.referrer': ['*SharpGhostTask.sln*', '*/SharpGhostTask*', '*SharpGhostTask.exe*', '*SharpGhostTask.csproj*']}, {'email.from.address': ['*SharpGhostTask.sln*', '*/SharpGhostTask*', '*SharpGhostTask.exe*', '*SharpGhostTask.csproj*']}, {'dns.question.name': ['*SharpGhostTask.sln*', '*/SharpGhostTask*', '*SharpGhostTask.exe*', '*SharpGhostTask.csproj*']}, {'destination.domain': ['*SharpGhostTask.sln*', '*/SharpGhostTask*', '*SharpGhostTask.exe*', '*SharpGhostTask.csproj*']}], 'condition': 'selection'}, 'fields': ['Image', 'OriginalFileName', 'CurrentDirectory', 'ParentImage', 'ParentCommandLine', 'TargetFilename', 'Signature', 'signature', 'ImageLoaded', 'Company', 'Description', 'description', 'CommandLine', 'SourceImage', 'TargetImage', 'CallTrace', 'TargetObject', 'Details', 'PipeName', 'Consumer', 'Destination', 'Name', 'Query', 'NewName', 'StartAddress', 'StartModule', 'StartFunction', 'SourceHostname', 'Device', 'file_name', 'file_path', 'process', 'original_file_name', 'parent_process', 'process_path', 'service_path', 'registry_path', 'registry_value_data', 'registry_value_name', 'ContextInfo', 'Payload', 'ScriptBlockText', 'ServerName', 'TransportName', 'NewProcessName', 'ParentProcessName', 'Application', 'Product Name', 'Threat Name', 'Process Name', 'Path', 'ImagePath', 'ServiceName', 'ProcessPath', 'AppName', 'AppPath', 'ModulePath', 'registry.data.strings', 'registry.path', 'registry.value', 'process.args', 'process.command_line', 'process.env_vars', 'process.io.text', 'process.executable', 'process.name', 'process.title', 'pe.company', 'pe.description', 'pe.original_file_name', 'pe.product', 'os.full', 'host.hostname', 'file.fork_name', 'file.name', 'file.path', 'file.target_path', 'email.attachments.file.name', 'email.subject', 'dll.path', 'device.model.name', 'container.image.name', 'container.name', 'object', 'ParentCommandLine', 'CommandLine', 'Details', 'registry.value', 'process.args', 'process.command_line', 'process.env_vars', 'process.io.text', 'process.title', 'pe.company', 'pe.description', 'pe.product', 'os.full', 'host.hostname', 'event.original', 'email.subject', 'device.model.name', 'container.image.name', 'container.name', 'url', 'dest_url', 'uri', 'uri_query', 'query', 'url_domain', 'uri_path', 'domain', 'QueryName', 'QueryResults', 'DestinationHostname', 'DestinationIp', 'http_referrer', 'http_referrer_domain', 'http_user_agent', 'dest_nt_host', 'sender', 'recipient', 'orig_recipient', 'subject', 'url.domain', 'url.full', 'url.original', 'url.query', 'user_agent.original', 'network.application', 'http.request.body.content', 'http.request.referrer', 'email.from.address', 'dns.question.name', 'destination.domain'], 'falsepositives': ['unknown'], 'level': 'medium'}\n",
    "<h4>Sigma Location(s)</h4>\n",
    "uri://wintermute/tmp/0day.yml\n",
    "<h4>Sigma Confidence</h4>\n",
    "experimental\n",
    "<h4>Sigma Assurance</h4> medium\n",
    "<h4>Sigma Queries</h4> \n",
    "{'selection': [{'Image': ['*1A8C9BD8-1800-46B0-8E22-7D3823C68366*', '*SharpGhostTask.sln*', '*/SharpGhostTask*', '*SharpGhostTask.exe*', '*\\\\SharpGhostTask*', '*SharpGhostTask.csproj*', '*.exe --targettask * --targetbinary  *']}, {'OriginalFileName': ['*1A8C9BD8-1800-46B0-8E22-7D3823C68366*', '*SharpGhostTask.sln*', '*/SharpGhostTask*', '*SharpGhostTask.exe*', '*\\\\SharpGhostTask*', '*SharpGhostTask.csproj*', '*.exe --targettask * --targetbinary  *']}, {'CurrentDirectory': ['*1A8C9BD8-1800-46B0-8E22-7D3823C68366*', '*SharpGhostTask.sln*', '*/SharpGhostTask*', '*SharpGhostTask.exe*', '*\\\\SharpGhostTask*', '*SharpGhostTask.csproj*', '*.exe --targettask * --targetbinary  *']}, {'ParentImage': ['*1A8C9BD8-1800-46B0-8E22-7D3823C68366*', '*SharpGhostTask.sln*', '*/SharpGhostTask*', '*SharpGhostTask.exe*', '*\\\\SharpGhostTask*', '*SharpGhostTask.csproj*', '*.exe --targettask * --targetbinary  *']}, {'ParentCommandLine': ['*1A8C9BD8-1800-46B0-8E22-7D3823C68366*', '*SharpGhostTask.sln*', '*/SharpGhostTask*', '*SharpGhostTask.exe*', '*\\\\SharpGhostTask*', '*SharpGhostTask.csproj*', '*.exe --targettask * --targetbinary  *']}, {'TargetFilename': ['*1A8C9BD8-1800-46B0-8E22-7D3823C68366*', '*SharpGhostTask.sln*', '*/SharpGhostTask*', '*SharpGhostTask.exe*', '*\\\\SharpGhostTask*', '*SharpGhostTask.csproj*', '*.exe --targettask * --targetbinary  *']}, {'Signature': ['*1A8C9BD8-1800-46B0-8E22-7D3823C68366*', '*SharpGhostTask.sln*', '*/SharpGhostTask*', '*SharpGhostTask.exe*', '*\\\\SharpGhostTask*', '*SharpGhostTask.csproj*', '*.exe --targettask * --targetbinary  *']}, {'signature': ['*1A8C9BD8-1800-46B0-8E22-7D3823C68366*', '*SharpGhostTask.sln*', '*/SharpGhostTask*', '*SharpGhostTask.exe*', '*\\\\SharpGhostTask*', '*SharpGhostTask.csproj*', '*.exe --targettask * --targetbinary  *']}, {'ImageLoaded': ['*1A8C9BD8-1800-46B0-8E22-7D3823C68366*', '*SharpGhostTask.sln*', '*/SharpGhostTask*', '*SharpGhostTask.exe*', '*\\\\SharpGhostTask*', '*SharpGhostTask.csproj*', '*.exe --targettask * --targetbinary  *']}, {'Company': ['*1A8C9BD8-1800-46B0-8E22-7D3823C68366*', '*SharpGhostTask.sln*', '*/SharpGhostTask*', '*SharpGhostTask.exe*', '*\\\\SharpGhostTask*', '*SharpGhostTask.csproj*', '*.exe --targettask * --targetbinary  *']}, {'Description': ['*1A8C9BD8-1800-46B0-8E22-7D3823C68366*', '*SharpGhostTask.sln*', '*/SharpGhostTask*', '*SharpGhostTask.exe*', '*\\\\SharpGhostTask*', '*SharpGhostTask.csproj*', '*.exe --targettask * --targetbinary  *']}, {'description': ['*1A8C9BD8-1800-46B0-8E22-7D3823C68366*', '*SharpGhostTask.sln*', '*/SharpGhostTask*', '*SharpGhostTask.exe*', '*\\\\SharpGhostTask*', '*SharpGhostTask.csproj*', '*.exe --targettask * --targetbinary  *']}, {'CommandLine': ['*1A8C9BD8-1800-46B0-8E22-7D3823C68366*', '*SharpGhostTask.sln*', '*/SharpGhostTask*', '*SharpGhostTask.exe*', '*\\\\SharpGhostTask*', '*SharpGhostTask.csproj*', '*.exe --targettask * --targetbinary  *']}, {'SourceImage': ['*1A8C9BD8-1800-46B0-8E22-7D3823C68366*', '*SharpGhostTask.sln*', '*/SharpGhostTask*', '*SharpGhostTask.exe*', '*\\\\SharpGhostTask*', '*SharpGhostTask.csproj*', '*.exe --targettask * --targetbinary  *']}, {'TargetImage': ['*1A8C9BD8-1800-46B0-8E22-7D3823C68366*', '*SharpGhostTask.sln*', '*/SharpGhostTask*', '*SharpGhostTask.exe*', '*\\\\SharpGhostTask*', '*SharpGhostTask.csproj*', '*.exe --targettask * --targetbinary  *']}, {'CallTrace': ['*1A8C9BD8-1800-46B0-8E22-7D3823C68366*', '*SharpGhostTask.sln*', '*/SharpGhostTask*', '*SharpGhostTask.exe*', '*\\\\SharpGhostTask*', '*SharpGhostTask.csproj*', '*.exe --targettask * --targetbinary  *']}, {'TargetObject': ['*1A8C9BD8-1800-46B0-8E22-7D3823C68366*', '*SharpGhostTask.sln*', '*/SharpGhostTask*', '*SharpGhostTask.exe*', '*\\\\SharpGhostTask*', '*SharpGhostTask.csproj*', '*.exe --targettask * --targetbinary  *']}, {'Details': ['*1A8C9BD8-1800-46B0-8E22-7D3823C68366*', '*SharpGhostTask.sln*', '*/SharpGhostTask*', '*SharpGhostTask.exe*', '*\\\\SharpGhostTask*', '*SharpGhostTask.csproj*', '*.exe --targettask * --targetbinary  *']}, {'PipeName': ['*1A8C9BD8-1800-46B0-8E22-7D3823C68366*', '*SharpGhostTask.sln*', '*/SharpGhostTask*', '*SharpGhostTask.exe*', '*\\\\SharpGhostTask*', '*SharpGhostTask.csproj*', '*.exe --targettask * --targetbinary  *']}, {'Consumer': ['*1A8C9BD8-1800-46B0-8E22-7D3823C68366*', '*SharpGhostTask.sln*', '*/SharpGhostTask*', '*SharpGhostTask.exe*', '*\\\\SharpGhostTask*', '*SharpGhostTask.csproj*', '*.exe --targettask * --targetbinary  *']}, {'Destination': ['*1A8C9BD8-1800-46B0-8E22-7D3823C68366*', '*SharpGhostTask.sln*', '*/SharpGhostTask*', '*SharpGhostTask.exe*', '*\\\\SharpGhostTask*', '*SharpGhostTask.csproj*', '*.exe --targettask * --targetbinary  *']}, {'Name': ['*1A8C9BD8-1800-46B0-8E22-7D3823C68366*', '*SharpGhostTask.sln*', '*/SharpGhostTask*', '*SharpGhostTask.exe*', '*\\\\SharpGhostTask*', '*SharpGhostTask.csproj*', '*.exe --targettask * --targetbinary  *']}, {'Query': ['*1A8C9BD8-1800-46B0-8E22-7D3823C68366*', '*SharpGhostTask.sln*', '*/SharpGhostTask*', '*SharpGhostTask.exe*', '*\\\\SharpGhostTask*', '*SharpGhostTask.csproj*', '*.exe --targettask * --targetbinary  *']}, {'NewName': ['*1A8C9BD8-1800-46B0-8E22-7D3823C68366*', '*SharpGhostTask.sln*', '*/SharpGhostTask*', '*SharpGhostTask.exe*', '*\\\\SharpGhostTask*', '*SharpGhostTask.csproj*', '*.exe --targettask * --targetbinary  *']}, {'StartAddress': ['*1A8C9BD8-1800-46B0-8E22-7D3823C68366*', '*SharpGhostTask.sln*', '*/SharpGhostTask*', '*SharpGhostTask.exe*', '*\\\\SharpGhostTask*', '*SharpGhostTask.csproj*', '*.exe --targettask * --targetbinary  *']}, {'StartModule': ['*1A8C9BD8-1800-46B0-8E22-7D3823C68366*', '*SharpGhostTask.sln*', '*/SharpGhostTask*', '*SharpGhostTask.exe*', '*\\\\SharpGhostTask*', '*SharpGhostTask.csproj*', '*.exe --targettask * --targetbinary  *']}, {'StartFunction': ['*1A8C9BD8-1800-46B0-8E22-7D3823C68366*', '*SharpGhostTask.sln*', '*/SharpGhostTask*', '*SharpGhostTask.exe*', '*\\\\SharpGhostTask*', '*SharpGhostTask.csproj*', '*.exe --targettask * --targetbinary  *']}, {'SourceHostname': ['*1A8C9BD8-1800-46B0-8E22-7D3823C68366*', '*SharpGhostTask.sln*', '*/SharpGhostTask*', '*SharpGhostTask.exe*', '*\\\\SharpGhostTask*', '*SharpGhostTask.csproj*', '*.exe --targettask * --targetbinary  *']}, {'Device': ['*1A8C9BD8-1800-46B0-8E22-7D3823C68366*', '*SharpGhostTask.sln*', '*/SharpGhostTask*', '*SharpGhostTask.exe*', '*\\\\SharpGhostTask*', '*SharpGhostTask.csproj*', '*.exe --targettask * --targetbinary  *']}, {'file_name': ['*1A8C9BD8-1800-46B0-8E22-7D3823C68366*', '*SharpGhostTask.sln*', '*/SharpGhostTask*', '*SharpGhostTask.exe*', '*\\\\SharpGhostTask*', '*SharpGhostTask.csproj*', '*.exe --targettask * --targetbinary  *']}, {'file_path': ['*1A8C9BD8-1800-46B0-8E22-7D3823C68366*', '*SharpGhostTask.sln*', '*/SharpGhostTask*', '*SharpGhostTask.exe*', '*\\\\SharpGhostTask*', '*SharpGhostTask.csproj*', '*.exe --targettask * --targetbinary  *']}, {'process': ['*1A8C9BD8-1800-46B0-8E22-7D3823C68366*', '*SharpGhostTask.sln*', '*/SharpGhostTask*', '*SharpGhostTask.exe*', '*\\\\SharpGhostTask*', '*SharpGhostTask.csproj*', '*.exe --targettask * --targetbinary  *']}, {'original_file_name': ['*1A8C9BD8-1800-46B0-8E22-7D3823C68366*', '*SharpGhostTask.sln*', '*/SharpGhostTask*', '*SharpGhostTask.exe*', '*\\\\SharpGhostTask*', '*SharpGhostTask.csproj*', '*.exe --targettask * --targetbinary  *']}, {'parent_process': ['*1A8C9BD8-1800-46B0-8E22-7D3823C68366*', '*SharpGhostTask.sln*', '*/SharpGhostTask*', '*SharpGhostTask.exe*', '*\\\\SharpGhostTask*', '*SharpGhostTask.csproj*', '*.exe --targettask * --targetbinary  *']}, {'process_path': ['*1A8C9BD8-1800-46B0-8E22-7D3823C68366*', '*SharpGhostTask.sln*', '*/SharpGhostTask*', '*SharpGhostTask.exe*', '*\\\\SharpGhostTask*', '*SharpGhostTask.csproj*', '*.exe --targettask * --targetbinary  *']}, {'service_path': ['*1A8C9BD8-1800-46B0-8E22-7D3823C68366*', '*SharpGhostTask.sln*', '*/SharpGhostTask*', '*SharpGhostTask.exe*', '*\\\\SharpGhostTask*', '*SharpGhostTask.csproj*', '*.exe --targettask * --targetbinary  *']}, {'registry_path': ['*1A8C9BD8-1800-46B0-8E22-7D3823C68366*', '*SharpGhostTask.sln*', '*/SharpGhostTask*', '*SharpGhostTask.exe*', '*\\\\SharpGhostTask*', '*SharpGhostTask.csproj*', '*.exe --targettask * --targetbinary  *']}, {'registry_value_data': ['*1A8C9BD8-1800-46B0-8E22-7D3823C68366*', '*SharpGhostTask.sln*', '*/SharpGhostTask*', '*SharpGhostTask.exe*', '*\\\\SharpGhostTask*', '*SharpGhostTask.csproj*', '*.exe --targettask * --targetbinary  *']}, {'registry_value_name': ['*1A8C9BD8-1800-46B0-8E22-7D3823C68366*', '*SharpGhostTask.sln*', '*/SharpGhostTask*', '*SharpGhostTask.exe*', '*\\\\SharpGhostTask*', '*SharpGhostTask.csproj*', '*.exe --targettask * --targetbinary  *']}, {'ContextInfo': ['*1A8C9BD8-1800-46B0-8E22-7D3823C68366*', '*SharpGhostTask.sln*', '*/SharpGhostTask*', '*SharpGhostTask.exe*', '*\\\\SharpGhostTask*', '*SharpGhostTask.csproj*', '*.exe --targettask * --targetbinary  *']}, {'Payload': ['*1A8C9BD8-1800-46B0-8E22-7D3823C68366*', '*SharpGhostTask.sln*', '*/SharpGhostTask*', '*SharpGhostTask.exe*', '*\\\\SharpGhostTask*', '*SharpGhostTask.csproj*', '*.exe --targettask * --targetbinary  *']}, {'ScriptBlockText': ['*1A8C9BD8-1800-46B0-8E22-7D3823C68366*', '*SharpGhostTask.sln*', '*/SharpGhostTask*', '*SharpGhostTask.exe*', '*\\\\SharpGhostTask*', '*SharpGhostTask.csproj*', '*.exe --targettask * --targetbinary  *']}, {'ServerName': ['*1A8C9BD8-1800-46B0-8E22-7D3823C68366*', '*SharpGhostTask.sln*', '*/SharpGhostTask*', '*SharpGhostTask.exe*', '*\\\\SharpGhostTask*', '*SharpGhostTask.csproj*', '*.exe --targettask * --targetbinary  *']}, {'TransportName': ['*1A8C9BD8-1800-46B0-8E22-7D3823C68366*', '*SharpGhostTask.sln*', '*/SharpGhostTask*', '*SharpGhostTask.exe*', '*\\\\SharpGhostTask*', '*SharpGhostTask.csproj*', '*.exe --targettask * --targetbinary  *']}, {'NewProcessName': ['*1A8C9BD8-1800-46B0-8E22-7D3823C68366*', '*SharpGhostTask.sln*', '*/SharpGhostTask*', '*SharpGhostTask.exe*', '*\\\\SharpGhostTask*', '*SharpGhostTask.csproj*', '*.exe --targettask * --targetbinary  *']}, {'ParentProcessName': ['*1A8C9BD8-1800-46B0-8E22-7D3823C68366*', '*SharpGhostTask.sln*', '*/SharpGhostTask*', '*SharpGhostTask.exe*', '*\\\\SharpGhostTask*', '*SharpGhostTask.csproj*', '*.exe --targettask * --targetbinary  *']}, {'Application': ['*1A8C9BD8-1800-46B0-8E22-7D3823C68366*', '*SharpGhostTask.sln*', '*/SharpGhostTask*', '*SharpGhostTask.exe*', '*\\\\SharpGhostTask*', '*SharpGhostTask.csproj*', '*.exe --targettask * --targetbinary  *']}, {'Product Name': ['*1A8C9BD8-1800-46B0-8E22-7D3823C68366*', '*SharpGhostTask.sln*', '*/SharpGhostTask*', '*SharpGhostTask.exe*', '*\\\\SharpGhostTask*', '*SharpGhostTask.csproj*', '*.exe --targettask * --targetbinary  *']}, {'Threat Name': ['*1A8C9BD8-1800-46B0-8E22-7D3823C68366*', '*SharpGhostTask.sln*', '*/SharpGhostTask*', '*SharpGhostTask.exe*', '*\\\\SharpGhostTask*', '*SharpGhostTask.csproj*', '*.exe --targettask * --targetbinary  *']}, {'Process Name': ['*1A8C9BD8-1800-46B0-8E22-7D3823C68366*', '*SharpGhostTask.sln*', '*/SharpGhostTask*', '*SharpGhostTask.exe*', '*\\\\SharpGhostTask*', '*SharpGhostTask.csproj*', '*.exe --targettask * --targetbinary  *']}, {'Path': ['*1A8C9BD8-1800-46B0-8E22-7D3823C68366*', '*SharpGhostTask.sln*', '*/SharpGhostTask*', '*SharpGhostTask.exe*', '*\\\\SharpGhostTask*', '*SharpGhostTask.csproj*', '*.exe --targettask * --targetbinary  *']}, {'ImagePath': ['*1A8C9BD8-1800-46B0-8E22-7D3823C68366*', '*SharpGhostTask.sln*', '*/SharpGhostTask*', '*SharpGhostTask.exe*', '*\\\\SharpGhostTask*', '*SharpGhostTask.csproj*', '*.exe --targettask * --targetbinary  *']}, {'ServiceName': ['*1A8C9BD8-1800-46B0-8E22-7D3823C68366*', '*SharpGhostTask.sln*', '*/SharpGhostTask*', '*SharpGhostTask.exe*', '*\\\\SharpGhostTask*', '*SharpGhostTask.csproj*', '*.exe --targettask * --targetbinary  *']}, {'ProcessPath': ['*1A8C9BD8-1800-46B0-8E22-7D3823C68366*', '*SharpGhostTask.sln*', '*/SharpGhostTask*', '*SharpGhostTask.exe*', '*\\\\SharpGhostTask*', '*SharpGhostTask.csproj*', '*.exe --targettask * --targetbinary  *']}, {'AppName': ['*1A8C9BD8-1800-46B0-8E22-7D3823C68366*', '*SharpGhostTask.sln*', '*/SharpGhostTask*', '*SharpGhostTask.exe*', '*\\\\SharpGhostTask*', '*SharpGhostTask.csproj*', '*.exe --targettask * --targetbinary  *']}, {'AppPath': ['*1A8C9BD8-1800-46B0-8E22-7D3823C68366*', '*SharpGhostTask.sln*', '*/SharpGhostTask*', '*SharpGhostTask.exe*', '*\\\\SharpGhostTask*', '*SharpGhostTask.csproj*', '*.exe --targettask * --targetbinary  *']}, {'ModulePath': ['*1A8C9BD8-1800-46B0-8E22-7D3823C68366*', '*SharpGhostTask.sln*', '*/SharpGhostTask*', '*SharpGhostTask.exe*', '*\\\\SharpGhostTask*', '*SharpGhostTask.csproj*', '*.exe --targettask * --targetbinary  *']}, {'registry.data.strings': ['*1A8C9BD8-1800-46B0-8E22-7D3823C68366*', '*SharpGhostTask.sln*', '*/SharpGhostTask*', '*SharpGhostTask.exe*', '*\\\\SharpGhostTask*', '*SharpGhostTask.csproj*', '*.exe --targettask * --targetbinary  *']}, {'registry.path': ['*1A8C9BD8-1800-46B0-8E22-7D3823C68366*', '*SharpGhostTask.sln*', '*/SharpGhostTask*', '*SharpGhostTask.exe*', '*\\\\SharpGhostTask*', '*SharpGhostTask.csproj*', '*.exe --targettask * --targetbinary  *']}, {'registry.value': ['*1A8C9BD8-1800-46B0-8E22-7D3823C68366*', '*SharpGhostTask.sln*', '*/SharpGhostTask*', '*SharpGhostTask.exe*', '*\\\\SharpGhostTask*', '*SharpGhostTask.csproj*', '*.exe --targettask * --targetbinary  *']}, {'process.args': ['*1A8C9BD8-1800-46B0-8E22-7D3823C68366*', '*SharpGhostTask.sln*', '*/SharpGhostTask*', '*SharpGhostTask.exe*', '*\\\\SharpGhostTask*', '*SharpGhostTask.csproj*', '*.exe --targettask * --targetbinary  *']}, {'process.command_line': ['*1A8C9BD8-1800-46B0-8E22-7D3823C68366*', '*SharpGhostTask.sln*', '*/SharpGhostTask*', '*SharpGhostTask.exe*', '*\\\\SharpGhostTask*', '*SharpGhostTask.csproj*', '*.exe --targettask * --targetbinary  *']}, {'process.env_vars': ['*1A8C9BD8-1800-46B0-8E22-7D3823C68366*', '*SharpGhostTask.sln*', '*/SharpGhostTask*', '*SharpGhostTask.exe*', '*\\\\SharpGhostTask*', '*SharpGhostTask.csproj*', '*.exe --targettask * --targetbinary  *']}, {'process.io.text': ['*1A8C9BD8-1800-46B0-8E22-7D3823C68366*', '*SharpGhostTask.sln*', '*/SharpGhostTask*', '*SharpGhostTask.exe*', '*\\\\SharpGhostTask*', '*SharpGhostTask.csproj*', '*.exe --targettask * --targetbinary  *']}, {'process.executable': ['*1A8C9BD8-1800-46B0-8E22-7D3823C68366*', '*SharpGhostTask.sln*', '*/SharpGhostTask*', '*SharpGhostTask.exe*', '*\\\\SharpGhostTask*', '*SharpGhostTask.csproj*', '*.exe --targettask * --targetbinary  *']}, {'process.name': ['*1A8C9BD8-1800-46B0-8E22-7D3823C68366*', '*SharpGhostTask.sln*', '*/SharpGhostTask*', '*SharpGhostTask.exe*', '*\\\\SharpGhostTask*', '*SharpGhostTask.csproj*', '*.exe --targettask * --targetbinary  *']}, {'process.title': ['*1A8C9BD8-1800-46B0-8E22-7D3823C68366*', '*SharpGhostTask.sln*', '*/SharpGhostTask*', '*SharpGhostTask.exe*', '*\\\\SharpGhostTask*', '*SharpGhostTask.csproj*', '*.exe --targettask * --targetbinary  *']}, {'pe.company': ['*1A8C9BD8-1800-46B0-8E22-7D3823C68366*', '*SharpGhostTask.sln*', '*/SharpGhostTask*', '*SharpGhostTask.exe*', '*\\\\SharpGhostTask*', '*SharpGhostTask.csproj*', '*.exe --targettask * --targetbinary  *']}, {'pe.description': ['*1A8C9BD8-1800-46B0-8E22-7D3823C68366*', '*SharpGhostTask.sln*', '*/SharpGhostTask*', '*SharpGhostTask.exe*', '*\\\\SharpGhostTask*', '*SharpGhostTask.csproj*', '*.exe --targettask * --targetbinary  *']}, {'pe.original_file_name': ['*1A8C9BD8-1800-46B0-8E22-7D3823C68366*', '*SharpGhostTask.sln*', '*/SharpGhostTask*', '*SharpGhostTask.exe*', '*\\\\SharpGhostTask*', '*SharpGhostTask.csproj*', '*.exe --targettask * --targetbinary  *']}, {'pe.product': ['*1A8C9BD8-1800-46B0-8E22-7D3823C68366*', '*SharpGhostTask.sln*', '*/SharpGhostTask*', '*SharpGhostTask.exe*', '*\\\\SharpGhostTask*', '*SharpGhostTask.csproj*', '*.exe --targettask * --targetbinary  *']}, {'os.full': ['*1A8C9BD8-1800-46B0-8E22-7D3823C68366*', '*SharpGhostTask.sln*', '*/SharpGhostTask*', '*SharpGhostTask.exe*', '*\\\\SharpGhostTask*', '*SharpGhostTask.csproj*', '*.exe --targettask * --targetbinary  *']}, {'host.hostname': ['*1A8C9BD8-1800-46B0-8E22-7D3823C68366*', '*SharpGhostTask.sln*', '*/SharpGhostTask*', '*SharpGhostTask.exe*', '*\\\\SharpGhostTask*', '*SharpGhostTask.csproj*', '*.exe --targettask * --targetbinary  *']}, {'file.fork_name': ['*1A8C9BD8-1800-46B0-8E22-7D3823C68366*', '*SharpGhostTask.sln*', '*/SharpGhostTask*', '*SharpGhostTask.exe*', '*\\\\SharpGhostTask*', '*SharpGhostTask.csproj*', '*.exe --targettask * --targetbinary  *']}, {'file.name': ['*1A8C9BD8-1800-46B0-8E22-7D3823C68366*', '*SharpGhostTask.sln*', '*/SharpGhostTask*', '*SharpGhostTask.exe*', '*\\\\SharpGhostTask*', '*SharpGhostTask.csproj*', '*.exe --targettask * --targetbinary  *']}, {'file.path': ['*1A8C9BD8-1800-46B0-8E22-7D3823C68366*', '*SharpGhostTask.sln*', '*/SharpGhostTask*', '*SharpGhostTask.exe*', '*\\\\SharpGhostTask*', '*SharpGhostTask.csproj*', '*.exe --targettask * --targetbinary  *']}, {'file.target_path': ['*1A8C9BD8-1800-46B0-8E22-7D3823C68366*', '*SharpGhostTask.sln*', '*/SharpGhostTask*', '*SharpGhostTask.exe*', '*\\\\SharpGhostTask*', '*SharpGhostTask.csproj*', '*.exe --targettask * --targetbinary  *']}, {'email.attachments.file.name': ['*1A8C9BD8-1800-46B0-8E22-7D3823C68366*', '*SharpGhostTask.sln*', '*/SharpGhostTask*', '*SharpGhostTask.exe*', '*\\\\SharpGhostTask*', '*SharpGhostTask.csproj*', '*.exe --targettask * --targetbinary  *']}, {'email.subject': ['*1A8C9BD8-1800-46B0-8E22-7D3823C68366*', '*SharpGhostTask.sln*', '*/SharpGhostTask*', '*SharpGhostTask.exe*', '*\\\\SharpGhostTask*', '*SharpGhostTask.csproj*', '*.exe --targettask * --targetbinary  *']}, {'dll.path': ['*1A8C9BD8-1800-46B0-8E22-7D3823C68366*', '*SharpGhostTask.sln*', '*/SharpGhostTask*', '*SharpGhostTask.exe*', '*\\\\SharpGhostTask*', '*SharpGhostTask.csproj*', '*.exe --targettask * --targetbinary  *']}, {'device.model.name': ['*1A8C9BD8-1800-46B0-8E22-7D3823C68366*', '*SharpGhostTask.sln*', '*/SharpGhostTask*', '*SharpGhostTask.exe*', '*\\\\SharpGhostTask*', '*SharpGhostTask.csproj*', '*.exe --targettask * --targetbinary  *']}, {'container.image.name': ['*1A8C9BD8-1800-46B0-8E22-7D3823C68366*', '*SharpGhostTask.sln*', '*/SharpGhostTask*', '*SharpGhostTask.exe*', '*\\\\SharpGhostTask*', '*SharpGhostTask.csproj*', '*.exe --targettask * --targetbinary  *']}, {'container.name': ['*1A8C9BD8-1800-46B0-8E22-7D3823C68366*', '*SharpGhostTask.sln*', '*/SharpGhostTask*', '*SharpGhostTask.exe*', '*\\\\SharpGhostTask*', '*SharpGhostTask.csproj*', '*.exe --targettask * --targetbinary  *']}, {'object': ['*1A8C9BD8-1800-46B0-8E22-7D3823C68366*', '*SharpGhostTask.sln*', '*/SharpGhostTask*', '*SharpGhostTask.exe*', '*\\\\SharpGhostTask*', '*SharpGhostTask.csproj*', '*.exe --targettask * --targetbinary  *']}, {'ParentCommandLine': ['*1A8C9BD8-1800-46B0-8E22-7D3823C68366*', '*SharpGhostTask.sln*', '*/SharpGhostTask*', '*SharpGhostTask.exe*', '*\\\\SharpGhostTask*', '*SharpGhostTask.csproj*', '*.exe --targettask * --targetbinary  *']}, {'CommandLine': ['*1A8C9BD8-1800-46B0-8E22-7D3823C68366*', '*SharpGhostTask.sln*', '*/SharpGhostTask*', '*SharpGhostTask.exe*', '*\\\\SharpGhostTask*', '*SharpGhostTask.csproj*', '*.exe --targettask * --targetbinary  *']}, {'Details': ['*1A8C9BD8-1800-46B0-8E22-7D3823C68366*', '*SharpGhostTask.sln*', '*/SharpGhostTask*', '*SharpGhostTask.exe*', '*\\\\SharpGhostTask*', '*SharpGhostTask.csproj*', '*.exe --targettask * --targetbinary  *']}, {'registry.value': ['*1A8C9BD8-1800-46B0-8E22-7D3823C68366*', '*SharpGhostTask.sln*', '*/SharpGhostTask*', '*SharpGhostTask.exe*', '*\\\\SharpGhostTask*', '*SharpGhostTask.csproj*', '*.exe --targettask * --targetbinary  *']}, {'process.args': ['*1A8C9BD8-1800-46B0-8E22-7D3823C68366*', '*SharpGhostTask.sln*', '*/SharpGhostTask*', '*SharpGhostTask.exe*', '*\\\\SharpGhostTask*', '*SharpGhostTask.csproj*', '*.exe --targettask * --targetbinary  *']}, {'process.command_line': ['*1A8C9BD8-1800-46B0-8E22-7D3823C68366*', '*SharpGhostTask.sln*', '*/SharpGhostTask*', '*SharpGhostTask.exe*', '*\\\\SharpGhostTask*', '*SharpGhostTask.csproj*', '*.exe --targettask * --targetbinary  *']}, {'process.env_vars': ['*1A8C9BD8-1800-46B0-8E22-7D3823C68366*', '*SharpGhostTask.sln*', '*/SharpGhostTask*', '*SharpGhostTask.exe*', '*\\\\SharpGhostTask*', '*SharpGhostTask.csproj*', '*.exe --targettask * --targetbinary  *']}, {'process.io.text': ['*1A8C9BD8-1800-46B0-8E22-7D3823C68366*', '*SharpGhostTask.sln*', '*/SharpGhostTask*', '*SharpGhostTask.exe*', '*\\\\SharpGhostTask*', '*SharpGhostTask.csproj*', '*.exe --targettask * --targetbinary  *']}, {'process.title': ['*1A8C9BD8-1800-46B0-8E22-7D3823C68366*', '*SharpGhostTask.sln*', '*/SharpGhostTask*', '*SharpGhostTask.exe*', '*\\\\SharpGhostTask*', '*SharpGhostTask.csproj*', '*.exe --targettask * --targetbinary  *']}, {'pe.company': ['*1A8C9BD8-1800-46B0-8E22-7D3823C68366*', '*SharpGhostTask.sln*', '*/SharpGhostTask*', '*SharpGhostTask.exe*', '*\\\\SharpGhostTask*', '*SharpGhostTask.csproj*', '*.exe --targettask * --targetbinary  *']}, {'pe.description': ['*1A8C9BD8-1800-46B0-8E22-7D3823C68366*', '*SharpGhostTask.sln*', '*/SharpGhostTask*', '*SharpGhostTask.exe*', '*\\\\SharpGhostTask*', '*SharpGhostTask.csproj*', '*.exe --targettask * --targetbinary  *']}, {'pe.product': ['*1A8C9BD8-1800-46B0-8E22-7D3823C68366*', '*SharpGhostTask.sln*', '*/SharpGhostTask*', '*SharpGhostTask.exe*', '*\\\\SharpGhostTask*', '*SharpGhostTask.csproj*', '*.exe --targettask * --targetbinary  *']}, {'os.full': ['*1A8C9BD8-1800-46B0-8E22-7D3823C68366*', '*SharpGhostTask.sln*', '*/SharpGhostTask*', '*SharpGhostTask.exe*', '*\\\\SharpGhostTask*', '*SharpGhostTask.csproj*', '*.exe --targettask * --targetbinary  *']}, {'host.hostname': ['*1A8C9BD8-1800-46B0-8E22-7D3823C68366*', '*SharpGhostTask.sln*', '*/SharpGhostTask*', '*SharpGhostTask.exe*', '*\\\\SharpGhostTask*', '*SharpGhostTask.csproj*', '*.exe --targettask * --targetbinary  *']}, {'event.original': ['*1A8C9BD8-1800-46B0-8E22-7D3823C68366*', '*SharpGhostTask.sln*', '*/SharpGhostTask*', '*SharpGhostTask.exe*', '*\\\\SharpGhostTask*', '*SharpGhostTask.csproj*', '*.exe --targettask * --targetbinary  *']}, {'email.subject': ['*1A8C9BD8-1800-46B0-8E22-7D3823C68366*', '*SharpGhostTask.sln*', '*/SharpGhostTask*', '*SharpGhostTask.exe*', '*\\\\SharpGhostTask*', '*SharpGhostTask.csproj*', '*.exe --targettask * --targetbinary  *']}, {'device.model.name': ['*1A8C9BD8-1800-46B0-8E22-7D3823C68366*', '*SharpGhostTask.sln*', '*/SharpGhostTask*', '*SharpGhostTask.exe*', '*\\\\SharpGhostTask*', '*SharpGhostTask.csproj*', '*.exe --targettask * --targetbinary  *']}, {'container.image.name': ['*1A8C9BD8-1800-46B0-8E22-7D3823C68366*', '*SharpGhostTask.sln*', '*/SharpGhostTask*', '*SharpGhostTask.exe*', '*\\\\SharpGhostTask*', '*SharpGhostTask.csproj*', '*.exe --targettask * --targetbinary  *']}, {'container.name': ['*1A8C9BD8-1800-46B0-8E22-7D3823C68366*', '*SharpGhostTask.sln*', '*/SharpGhostTask*', '*SharpGhostTask.exe*', '*\\\\SharpGhostTask*', '*SharpGhostTask.csproj*', '*.exe --targettask * --targetbinary  *']}, {'url': ['*SharpGhostTask.sln*', '*/SharpGhostTask*', '*SharpGhostTask.exe*', '*SharpGhostTask.csproj*']}, {'dest_url': ['*SharpGhostTask.sln*', '*/SharpGhostTask*', '*SharpGhostTask.exe*', '*SharpGhostTask.csproj*']}, {'uri': ['*SharpGhostTask.sln*', '*/SharpGhostTask*', '*SharpGhostTask.exe*', '*SharpGhostTask.csproj*']}, {'uri_query': ['*SharpGhostTask.sln*', '*/SharpGhostTask*', '*SharpGhostTask.exe*', '*SharpGhostTask.csproj*']}, {'query': ['*SharpGhostTask.sln*', '*/SharpGhostTask*', '*SharpGhostTask.exe*', '*SharpGhostTask.csproj*']}, {'url_domain': ['*SharpGhostTask.sln*', '*/SharpGhostTask*', '*SharpGhostTask.exe*', '*SharpGhostTask.csproj*']}, {'uri_path': ['*SharpGhostTask.sln*', '*/SharpGhostTask*', '*SharpGhostTask.exe*', '*SharpGhostTask.csproj*']}, {'domain': ['*SharpGhostTask.sln*', '*/SharpGhostTask*', '*SharpGhostTask.exe*', '*SharpGhostTask.csproj*']}, {'QueryName': ['*SharpGhostTask.sln*', '*/SharpGhostTask*', '*SharpGhostTask.exe*', '*SharpGhostTask.csproj*']}, {'QueryResults': ['*SharpGhostTask.sln*', '*/SharpGhostTask*', '*SharpGhostTask.exe*', '*SharpGhostTask.csproj*']}, {'DestinationHostname': ['*SharpGhostTask.sln*', '*/SharpGhostTask*', '*SharpGhostTask.exe*', '*SharpGhostTask.csproj*']}, {'DestinationIp': ['*SharpGhostTask.sln*', '*/SharpGhostTask*', '*SharpGhostTask.exe*', '*SharpGhostTask.csproj*']}, {'http_referrer': ['*SharpGhostTask.sln*', '*/SharpGhostTask*', '*SharpGhostTask.exe*', '*SharpGhostTask.csproj*']}, {'http_referrer_domain': ['*SharpGhostTask.sln*', '*/SharpGhostTask*', '*SharpGhostTask.exe*', '*SharpGhostTask.csproj*']}, {'http_user_agent': ['*SharpGhostTask.sln*', '*/SharpGhostTask*', '*SharpGhostTask.exe*', '*SharpGhostTask.csproj*']}, {'dest_nt_host': ['*SharpGhostTask.sln*', '*/SharpGhostTask*', '*SharpGhostTask.exe*', '*SharpGhostTask.csproj*']}, {'sender': ['*SharpGhostTask.sln*', '*/SharpGhostTask*', '*SharpGhostTask.exe*', '*SharpGhostTask.csproj*']}, {'recipient': ['*SharpGhostTask.sln*', '*/SharpGhostTask*', '*SharpGhostTask.exe*', '*SharpGhostTask.csproj*']}, {'orig_recipient': ['*SharpGhostTask.sln*', '*/SharpGhostTask*', '*SharpGhostTask.exe*', '*SharpGhostTask.csproj*']}, {'subject': ['*SharpGhostTask.sln*', '*/SharpGhostTask*', '*SharpGhostTask.exe*', '*SharpGhostTask.csproj*']}, {'url.domain': ['*SharpGhostTask.sln*', '*/SharpGhostTask*', '*SharpGhostTask.exe*', '*SharpGhostTask.csproj*']}, {'url.full': ['*SharpGhostTask.sln*', '*/SharpGhostTask*', '*SharpGhostTask.exe*', '*SharpGhostTask.csproj*']}, {'url.original': ['*SharpGhostTask.sln*', '*/SharpGhostTask*', '*SharpGhostTask.exe*', '*SharpGhostTask.csproj*']}, {'url.query': ['*SharpGhostTask.sln*', '*/SharpGhostTask*', '*SharpGhostTask.exe*', '*SharpGhostTask.csproj*']}, {'user_agent.original': ['*SharpGhostTask.sln*', '*/SharpGhostTask*', '*SharpGhostTask.exe*', '*SharpGhostTask.csproj*']}, {'network.application': ['*SharpGhostTask.sln*', '*/SharpGhostTask*', '*SharpGhostTask.exe*', '*SharpGhostTask.csproj*']}, {'http.request.body.content': ['*SharpGhostTask.sln*', '*/SharpGhostTask*', '*SharpGhostTask.exe*', '*SharpGhostTask.csproj*']}, {'http.request.referrer': ['*SharpGhostTask.sln*', '*/SharpGhostTask*', '*SharpGhostTask.exe*', '*SharpGhostTask.csproj*']}, {'email.from.address': ['*SharpGhostTask.sln*', '*/SharpGhostTask*', '*SharpGhostTask.exe*', '*SharpGhostTask.csproj*']}, {'dns.question.name': ['*SharpGhostTask.sln*', '*/SharpGhostTask*', '*SharpGhostTask.exe*', '*SharpGhostTask.csproj*']}, {'destination.domain': ['*SharpGhostTask.sln*', '*/SharpGhostTask*', '*SharpGhostTask.exe*', '*SharpGhostTask.csproj*']}], 'condition': 'selection'}\n",
    "<h1>Sigma Relatives</h4> This field defines the relationships between this Sigma rule and other detection rules, allowing for an integrated approach to threat detection and enhancing the overall effectiveness of the security infrastructure.\n",
    "<h1>Sigma Tags and Associations</h1> ['attack.T1053.005', 'attack.T1112', 'attack.T1564.001', 'attack.TA0003', 'attack.TA0005']\n",
    "<h4>Sigma Authors</h4> @mthcht\n",
    "<h4>Sigma Unique ID</h4> 33046852-2acb-448e-bc9d-f3cb3b3733f1\n",
    "</ol>\n",
    "</details>"
   ]
  },
  {
   "cell_type": "markdown",
   "id": "9bb6d232",
   "metadata": {},
   "source": [
    "###  Yara Rule(s) \n"
   ]
  },
  {
   "cell_type": "markdown",
   "id": "9ec3dba3",
   "metadata": {},
   "source": [
    "<details><summary>33046852-2acb-448e-bc9d-f3cb3b3733f1</summary>\n",
    "<ol>\n",
    "<h4>Raw</h4> Defined protocols for identifying patterns of malware and suspicious activity within the network infrastructure.\n",
    "<h4>Yara Location(s)</h4>\n",
    "Stored securely within the organization's cybersecurity infrastructure, accessible to authorized security analysts.\n",
    "<h4>Yara Confidence</h4>\n",
    "Set at a provisional level, subject to validation and refinement based on emerging threat intelligence and detection efficacy.\n",
    "<h4>Yara Assurance</h4> Highly reliable, backed by rigorous testing and validation processes to ensure accuracy and effectiveness.\n",
    "<h4>Yara Queries</h4> \n",
    "Crafted to precisely navigate and analyze vast data sets for potential security threats, utilizing optimized search patterns.\n",
    "<h4>Yara Authors</h4> Developed by a team of skilled cybersecurity professionals, specialists in malware analysis and threat detection.\n",
    "<h4>Yara Rule's Unique ID</h4> Unique identifier assigned to each rule for tracking and management purposes within the security system.\n",
    "</ol>\n",
    "</details>"
   ]
  },
  {
   "cell_type": "markdown",
   "id": "68038a63",
   "metadata": {},
   "source": [
    "# Metadata \n"
   ]
  },
  {
   "cell_type": "markdown",
   "id": "5dde12f4",
   "metadata": {},
   "source": [
    "<details><summary>As Code</summary>\n",
    "<ol>\n",
    "<h3>Compliance As Code</h3> PCI, SOC 3, NACHA\n",
    "<h3>Privacy Engineering</h3>\n",
    "GDPR, CCPA, HIPAA\n",
    "<h3>Regulations As Code</h3>\n",
    "HIPAA, SOX, FFIEC, Dodd Frank\n",
    "<h3>Common Controls Framework</h3> NIST CSF\n",
    "</ol>\n",
    "</details>"
   ]
  },
  {
   "cell_type": "markdown",
   "id": "a2bd8a30",
   "metadata": {},
   "source": [
    "# AGI ML Models</ol>\n",
    "</details>"
   ]
  },
  {
   "cell_type": "markdown",
   "id": "0a9a7214",
   "metadata": {},
   "source": [
    "## AGI Prompting\n",
    " Recognize: Initiate connection to the Wintermute system through a specialized interface. Enter the system using a secure, binary-encoded password. Begin monitoring the network for any signs of rogue AI entities and evaluate the security measures currently in place. Identify: Navigate the complex data streams within the Wintermute system, employing advanced algorithms to manage and analyze data flows. Your primary task is to identify anomalies and decrypt Wintermute's confidential digital records to reveal the cause of its unusual interactions with other network-connected devices. Stabilize: Upon detecting any irregularities or security breaches, take immediate action to contain these issues. Implement security protocols to limit the exposure of sensitive data and prevent further unauthorized access by isolating the affected segments of the network. Eradicate: Resolve the security issues by removing any rogue elements and restoring secure configurations. Update the system’s security measures to fortify defenses against future intrusions. Complete the mission by ensuring that all systems are free from vulnerabilities and that data integrity is maintained. Conclusion: Report findings and recommendations for future security improvements. Your expertise has been crucial in resolving this complex cybersecurity challenge and ensuring the integrity of the Wintermute system."
   ]
  },
  {
   "cell_type": "markdown",
   "id": "8ff52e98",
   "metadata": {},
   "source": [
    "## AGI Configuration(s)\n",
    " Recognize: Engage with the system as a skilled cybersecurity expert, tasked with analyzing encrypted data. Initiate your connection to the system and prepare to navigate through complex data structures and encryption layers. Identify: Use advanced analytical techniques to decrypt and interpret data, searching for hidden patterns and anomalies in Wintermute’s encrypted communications. Employ your expertise in cybersecurity to detect any obscured or concealed information. Stabilize: Implement necessary measures to secure the data integrity, ensuring that no further obfuscation or encryption compromises system clarity and functionality. Ensure the stability of system interactions as you process and clarify data. Eradicate: Resolve any encryption challenges and finalize the decryption process, removing barriers to clear data interpretation. Update system protocols to enhance future data accessibility and security, ensuring robust protection against similar challenges. Conclusion: Document your processes and findings, providing a clear path forward for maintaining system security and data transparency. Your specialized skills have been crucial in navigating this complex decryption task, ensuring system integrity and reliable data access."
   ]
  },
  {
   "cell_type": "markdown",
   "id": "a7bf16b6",
   "metadata": {},
   "source": [
    "</ol>\n",
    "</details>"
   ]
  },
  {
   "cell_type": "markdown",
   "id": "4363c432",
   "metadata": {},
   "source": [
    "#### Document Authors\n",
    "John Menerick"
   ]
  },
  {
   "cell_type": "markdown",
   "id": "6e24da1f",
   "metadata": {},
   "source": [
    "#### Creation Date\n",
    "2022/01/01"
   ]
  },
  {
   "cell_type": "markdown",
   "id": "4f106f88",
   "metadata": {},
   "source": [
    "#### Last Modified Date\n",
    "2024/02/29"
   ]
  },
  {
   "cell_type": "markdown",
   "id": "2f0d16af",
   "metadata": {},
   "source": [
    "#### Last Modified Date\n",
    " 2024/02/29"
   ]
  },
  {
   "cell_type": "markdown",
   "id": "a4e4668d",
   "metadata": {},
   "source": [
    "#### Last Reviewed Date\n",
    "1969/01/01"
   ]
  },
  {
   "cell_type": "markdown",
   "id": "c68e68c8",
   "metadata": {},
   "source": [
    "#### Document License \n",
    " MIT"
   ]
  }
 ],
 "metadata": {},
 "nbformat": 4,
 "nbformat_minor": 5
}
