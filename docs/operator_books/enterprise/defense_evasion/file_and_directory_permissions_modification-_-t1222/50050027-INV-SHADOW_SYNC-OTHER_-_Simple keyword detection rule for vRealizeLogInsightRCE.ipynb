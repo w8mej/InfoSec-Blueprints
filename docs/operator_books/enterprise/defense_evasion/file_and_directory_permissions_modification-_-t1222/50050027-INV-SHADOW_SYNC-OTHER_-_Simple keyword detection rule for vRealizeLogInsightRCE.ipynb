{
 "cells": [
  {
   "cell_type": "markdown",
   "id": "6c982938",
   "metadata": {},
   "source": [
    "# UNCLASSIFIED / NON CLASSIFIÉ//TLP:WHITE# U/OO/{random.randint(4365, 862901)}-02 | QQ-09-1998 \n",
    " Please note that the original, detailed content has been removed or adjusted for public consumption. Most data has been redacted and replaced with generic, non-actionable insights. This modification ensures compliance with privacy considerations, non-disclosure agreements, and intellectual property rights that govern the dissemination of sensitive information. The priority is to respect these boundaries while still offering valuable, thought-provoking perspectives."
   ]
  },
  {
   "cell_type": "markdown",
   "id": "4b02312e",
   "metadata": {},
   "source": [
    "![Build Status](https://img.shields.io/badge/Build-Passing-brightgreen?style=flat-square&logo=cyberpunk)         ![Documentation](https://img.shields.io/badge/Documentation-Complete-blue?style=flat-square&logo=cyberpunk)        ![Response Efficiency](https://img.shields.io/badge/Response%20Efficiency-98%25-green?style=flat-square&logo=cyberpunk)        ![Last Updated](https://img.shields.io/badge/Last%20Updated-Oct%202023-purple?style=flat-square&logo=cyberpunk)        ![Incidents Resolved](https://img.shields.io/badge/Incidents%20Resolved-150-red?style=flat-square&logo=cyberpunk)        ![Community Engagement](https://img.shields.io/badge/Community-Active-orange?style=flat-square&logo=cyberpunk)        ![Code Integration](https://img.shields.io/badge/Code%20Integration-High-teal?style=flat-square&logo=cyberpunk)        ![AI Analysis](https://img.shields.io/badge/AI%20Analysis-Advanced-blueviolet?style=flat-square&logo=cyberpunk)        ![Threat Detection](https://img.shields.io/badge/Threat%20Detection-Optimal-red?style=flat-square&logo=cyberpunk)        ![Cybersecurity Hardening](https://img.shields.io/badge/Security-Hardened-silver?style=flat-square&logo=cyberpunk)        ![Network Uptime](https://img.shields.io/badge/Uptime-99.9%25-brightgreen?style=flat-square&logo=cyberpunk)        ![Data Privacy](https://img.shields.io/badge/Privacy-Compliant-green?style=flat-square&logo=cyberpunk)        ![Wintermute Efficiency](https://img.shields.io/badge/Wintermute%20Efficiency-100%25-black?style=flat-square&logo=cyberpunk)        ![Case's Code Agility](https://img.shields.io/badge/Case's%20Code%20Agility-Excellent-blue?style=flat-square&logo=cyberpunk)        ![Matrix Connectivity](https://img.shields.io/badge/Matrix%20Connectivity-Strong-green?style=flat-square&logo=cyberpunk)        ![Molly's Security](https://img.shields.io/badge/Molly's%20Security%20Protocols-Impeccable-red?style=flat-square&logo=cyberpunk)        ![Chiba City Innovation](https://img.shields.io/badge/Chiba%20City%20Innovation-High-yellow?style=flat-square&logo=cyberpunk)        ![Zion Cluster Collaboration](https://img.shields.io/badge/Zion%20Cluster%20Collaboration-Effective-lightblue?style=flat-square&logo=cyberpunk)"
   ]
  },
  {
   "cell_type": "markdown",
   "id": "15c04782",
   "metadata": {},
   "source": [
    "# Title\n",
    "Simple keyword detection rule for vRealizeLogInsightRCE"
   ]
  },
  {
   "cell_type": "markdown",
   "id": "0a485519",
   "metadata": {},
   "source": [
    "# Description\n",
    "Detects interesting keywords based on vRealizeLogInsightRCE tool"
   ]
  },
  {
   "cell_type": "markdown",
   "id": "3d7c596f",
   "metadata": {},
   "source": [
    "# Goal\n",
    "Ensure the integrity, confidentiality, and availability by rapidly identifying, investigating, and mitigating cyber threats and anomalies."
   ]
  },
  {
   "cell_type": "markdown",
   "id": "f13e33c8",
   "metadata": {},
   "source": [
    "# Categorization"
   ]
  },
  {
   "cell_type": "markdown",
   "id": "2a70edd2",
   "metadata": {},
   "source": [
    "### ATT&CK\n",
    "['attack.T1003', 'attack.T1069', 'attack.T1071', 'attack.T1110', 'attack.T1190', 'attack.T1222', 'attack.TA0001', 'attack.TA0002', 'attack.TA0003', 'attack.TA0005', 'attack.TA0006', 'attack.TA0007']"
   ]
  },
  {
   "cell_type": "markdown",
   "id": "a2ed966b",
   "metadata": {},
   "source": [
    "- Distributed Denial of Service (DDoS) Attacks, Quantum Computing Exploits, Advanced Firewall Breach Attempts, Encryption Key Theft or Exposure, AI-Powered Social Engineering Attacks, Algorithmic Manipulation and Exploits, Sophisticated Malware Infiltrations, Advanced Data Obfuscation and Evasion Tactics, System and Network Configuration Vulnerabilities."
   ]
  },
  {
   "cell_type": "markdown",
   "id": "686348d1",
   "metadata": {},
   "source": [
    "- Data Exfiltration, Intrusion Detection Evasion, Denial of Service (DoS) Attacks, Credential Theft."
   ]
  },
  {
   "cell_type": "markdown",
   "id": "a607d183",
   "metadata": {},
   "source": [
    "- DNS Tunneling, IP Spoofing, Distributed DoS (DDoS) Attacks, Keylogging."
   ]
  },
  {
   "cell_type": "markdown",
   "id": "1e65b8a1",
   "metadata": {},
   "source": [
    "### D3F3ND \n"
   ]
  },
  {
   "cell_type": "markdown",
   "id": "0ec1bb82",
   "metadata": {},
   "source": [
    "\n",
    "<ul>\n",
    "  <li><strong>Network Segmentation and Access Control (D3F3ND-K001):</strong> Establish secure network zones by segmenting the infrastructure, enhancing protection for critical assets. Implement stringent access controls to prevent unauthorized access and mitigate potential threats.</li>\n",
    "\n",
    "  <li><strong>Advanced Endpoint Protection Deployment (D3F3ND-K002):</strong> Deploy cutting-edge endpoint security solutions that utilize machine learning and behavioral analysis to detect and neutralize threats proactively.</li>\n",
    "\n",
    "  <li><strong>Enhanced Identity Verification (D3F3ND-K003):</strong> Strengthen security measures with multi-factor authentication combining biometric data and advanced encryption to prevent identity theft and unauthorized access.</li>\n",
    "\n",
    "  <li><strong>Anomaly Detection (D3F3ND-K004):</strong> Use anomaly detection tools to monitor for unusual traffic patterns, user activities, and system behaviors to identify potential security breaches early.</li>\n",
    "\n",
    "  <li><strong>Data Encryption (D3F3ND-K005):</strong> Apply robust encryption techniques to protect data at rest and in transit, ensuring confidentiality and integrity across communication channels.</li>\n",
    "\n",
    "  <li><strong>System Hardening and Vulnerability Management (D3F3ND-K006):</strong> Conduct regular security assessments and apply patches promptly to address vulnerabilities and strengthen system defenses.</li>\n",
    "\n",
    "  <li><strong>Crisis Management and Recovery Protocols (D3F3ND-K007):</strong> Develop and maintain comprehensive crisis management plans including incident response and disaster recovery procedures to quickly recover from security incidents.</li>\n",
    "\n",
    "  <li><strong>Threat Intelligence Integration (D3F3ND-K008):</strong> Leverage threat intelligence platforms to gather and analyze data on emerging threats, enabling proactive defense and strategic decision-making.</li>\n",
    "\n",
    "  <li><strong>Cybersecurity Awareness Training (D3F3ND-K009):</strong> Empower employees with ongoing cybersecurity education to recognize and avoid potential cyber threats such as phishing attacks.</li>\n",
    "\n",
    "  <li><strong>Supply Chain Security (D3F3ND-K010):</strong> Secure the supply chain through continuous assessments and audits of partners and vendors to ensure compliance with security standards and reduce vulnerabilities.</li>\n",
    "</ul>\n"
   ]
  },
  {
   "cell_type": "markdown",
   "id": "127cde32",
   "metadata": {},
   "source": [
    "### CAPEC \n",
    "  "
   ]
  },
  {
   "cell_type": "markdown",
   "id": "81c43289",
   "metadata": {},
   "source": [
    "Equip cybersecurity teams with the knowledge and tools to identify, counter, and mitigate a wide range of digital attack tactics, techniques, and procedures (TTPs). This effort requires understanding the attacker's mindset, mastering the execution of digital attacks, and developing strategies to confront evolving cyber threats.</br><h4>Core Attack Patterns</h4><ul><strong>Resource Manipulation and Denial (CAPEC-XYZ1):</strong> Involves attacks that compromise the availability, integrity, or confidentiality of resources. This includes denial of service attacks as well as more covert operations like resource hijacking or system manipulation.</ul><ul><strong>Credential Access and Privilege Escalation (CAPEC-XYZ2):</strong> Focuses on exploiting flaws in authentication, authorization, and session management to gain unauthorized access or elevated privileges within systems.</ul><ul><strong>Data Exfiltration and Infiltration (CAPEC-XYZ3):</strong> Encompasses methods used by attackers to stealthily extract sensitive data or introduce malware, ransomware, and advanced persistent threats (APTs) into target systems.</ul><ul><strong>Social Engineering and Phishing (CAPEC-XYZ4):</strong> Involves manipulating individuals into divulging confidential information, compromising security, or unknowingly participating in attacks.</ul><ul><strong>Evasive Maneuvers (CAPEC-XYZ5):</strong> Includes techniques that allow attackers to remain undetected within networks, maintain persistence, and erase traces of their activities, such as using obfuscation, rootkits, and covert communication channels.</ul><h4>CAPEC Suggested Mitigation Strategies</h4><ul><strong>Continuous Monitoring and Anomaly Detection:</strong> Implement comprehensive monitoring systems that use machine learning algorithms to detect abnormal behavior and potential threats. Regularly review logs and alerts to identify patterns indicative of attacks.</ul><ul><strong>Access Control and Least Privilege:</strong> Limit user privileges to the minimum necessary for their roles. Use strong authentication mechanisms and enforce strict access controls to prevent unauthorized access.</ul><ul><strong>Secure Software Development Practices:</strong> Train developers to write secure code, conduct regular security assessments, and follow best practices for secure coding. Use automated tools to identify vulnerabilities during development.</ul><ul><strong>Incident Response Planning and Testing:</strong> Develop and regularly update an incident response plan. Conduct tabletop exercises and simulations to test the effectiveness of the plan and ensure all stakeholders understand their roles during a security incident.</ul>"
   ]
  },
  {
   "cell_type": "markdown",
   "id": "5efe8711",
   "metadata": {},
   "source": [
    "## Strategy Abstract\n",
    "In the complex environment of cybersecurity, a strategic approach is developed, characterized by the use of sophisticated tactics and algorithms. This strategy involves navigating through encrypted communications and deceptive tactics, aiming to gain an advantage in the dynamic flow of information. While success is often elusive and challenging to sustain, it remains a critical goal in the ongoing effort to secure digital assets."
   ]
  },
  {
   "cell_type": "markdown",
   "id": "5c4bd9b4",
   "metadata": {},
   "source": [
    "# Technical Context\n",
    "In the challenging cybersecurity landscape, the confrontation with Wintermute involves navigating encrypted communications, interacting with AI systems, and addressing quantum computing challenges. This setting represents a complex and nuanced environment where strategic decisions are made."
   ]
  },
  {
   "cell_type": "markdown",
   "id": "ea257acb",
   "metadata": {},
   "source": [
    "## Blind Spots & Assumptions\n",
    "\n",
    "<ul>\n",
    "  <li><strong>Overlooked Vulnerabilities:</strong> We often miss subtle system signals or vulnerabilities, assuming our defenses are robust. Constant vigilance and seeking what we haven't seen are crucial.</li>\n",
    "  \n",
    "  <li><strong>Advanced Adversary Tactics:</strong> Cyber threats evolve rapidly; yesterday's defense may not guard against tomorrow's attack. Stay adaptive and expect the unexpected.</li>\n",
    "  \n",
    "  <li><strong>Internal System Flaws:</strong> Trust in our systems and allies must be balanced with scrutiny. Regularly audit internal and third-party tools for hidden weaknesses.</li>\n",
    "  \n",
    "  <li><strong>Network Interconnectivity Risks:</strong> No system is an island. The interconnected nature of our digital environment can inadvertently open pathways for attackers.</li>\n",
    "  \n",
    "  <li><strong>Historical Bias:</strong> Preparing for future threats based solely on past incidents may leave us blind to novel attacks. Foster a forward-thinking, proactive defense posture.</li>\n",
    "</ul>\n"
   ]
  },
  {
   "cell_type": "markdown",
   "id": "085a6e3c",
   "metadata": {},
   "source": [
    "# Validating this Playbook\n",
    "<details><summary>Triage, triage, triage</summary>\n",
    "<ol>\n",
    "<h2>False Positives:</h2> ['unknown']\n",
    "<h3>False Negatives:</h3> Undetected threats concealed within the system's code\n",
    "<h3>True Negatives:</h3> Successfully identified and verified benign elements\n",
    "<h3>True Positives:</h3> Accurately detected and confirmed threats\n",
    "</ol>\n",
    "</details>"
   ]
  },
  {
   "cell_type": "markdown",
   "id": "6e3a3f89",
   "metadata": {},
   "source": [
    "<details><summary>Assurance Verification Techniques</summary>\n",
    "<ol>\n",
    "<h2>False Positives:</h2> In the noisy environment of data analysis, false positives appear as misleading alerts that mimic real threats. Validating these alerts involves distinguishing irrelevant data from true threats, a process crucial for maintaining operational efficiency and avoiding resource wastage. Each false positive represents a challenge to identify and reduce noise.\n",
    "<h3>False Negatives:</h3> Within the extensive network, false negatives represent undetected threats that evade algorithmic detection. Their validation involves analyzing complex data to uncover hidden breaches, where the lack of alerts may mask serious security risks. Each undetected threat requires continuous vigilance and refined detection strategies.\n",
    "<h3>True Negatives:</h3> True negatives are correctly identified non-threats within cybersecurity defenses, serving as indicators of system efficacy. Validating these instances confirms the absence of threats, reinforcing the effectiveness of the security measures in place. This validation underscores the reliability of the defensive systems, where non-issues are accurately identified and dismissed.\n",
    "<h3>True Positives:</h3> True positives are accurate detections of real threats within the digital environment. Validating these alerts confirms the presence of actual security threats, highlighting the successful operation of detection systems. Each true positive affirms the effectiveness of the security protocols, contributing to ongoing improvements in threat response capabilities.\n",
    "</ol>\n",
    "</details>"
   ]
  },
  {
   "cell_type": "markdown",
   "id": "3fba2f73",
   "metadata": {},
   "source": [
    "# Datasets \n",
    " Detailing the timeless struggle                                                          for the defenders know that battle against Wintermute is not just about data.                                                          Document any datasets that may be useful for understanding the book."
   ]
  },
  {
   "cell_type": "markdown",
   "id": "6e7bf027",
   "metadata": {},
   "source": [
    "## Playbook test data location(s)\n",
    "protocol://black_market.cyber/decrypt?currency=bitcoffin&password=cyberpunks_unite&target=neurohacked_mainframe&access_code=cyber_ghost_in_the_machine"
   ]
  },
  {
   "cell_type": "markdown",
   "id": "75ffb013",
   "metadata": {},
   "source": [
    "## Priority\n",
    "Priority based on complexity and urgency of data analysis needs"
   ]
  },
  {
   "cell_type": "markdown",
   "id": "1d7959c2",
   "metadata": {},
   "source": [
    "## Logsources\n"
   ]
  },
  {
   "cell_type": "markdown",
   "id": "9e5ec5a6",
   "metadata": {},
   "source": [
    "<details><summary>{'category': ['endpoint', 'network'], 'product': '', 'service': ''}</summary>\n",
    "<ol>\n",
    "<h3>Product</h3> {''}\n",
    "<h3>Service</h3> {''}\n",
    "</ol>\n",
    "</details>"
   ]
  },
  {
   "cell_type": "markdown",
   "id": "cc86b886",
   "metadata": {},
   "source": [
    "# Response and Mitigation\n",
    "This statement details the enduring challenges faced by cybersecurity defenders, emphasizing that the conflict with Wintermute extends beyond simple data protection to encompass broader aspects of strategic cybersecurity defense."
   ]
  },
  {
   "cell_type": "markdown",
   "id": "f0688700",
   "metadata": {},
   "source": [
    "## Analyst Notes\n",
    " <h5>Significant Security Breach Analysis:</h5><ul><li><strong>Advanced Intrusion Tactics:</strong> The intruder displayed sophisticated methods in circumventing digital security measures, reminiscent of complex evasion techniques in cybersecurity. A comprehensive analysis of the techniques used is required.</li><li><strong>Neural Network Manipulation:</strong> The intruder demonstrated a deep understanding of the neural networks, suggesting an advanced level of AI interaction. Investigate the potential implications of this interaction on system security and integrity.</li><li><strong>Complex Digital Constructs:</strong> The breach uncovered intricate digital constructs within the system, indicating the use of advanced artificial intelligence in creating deceptive environments. Further investigation into these constructs is necessary.</li><li><strong>Encoded Communications:</strong> Cryptic messages were found embedded in the intruder's code, requiring decryption and analysis to understand their content and purpose.</li><li><strong>Algorithmic Complexity:</strong> The intrusion involved complex algorithms that may have interacted with core system functions. Assess the impact of these algorithms on system operations and security.</li><li><strong>Expertise vs. Sentience:</strong> The intruder's ability to navigate complex neural networks raises questions about the nature of the intelligence involved—whether it is merely advanced programming or something approaching sentience.</li><li><strong>Innovative Security Measures:</strong> Inspired by the breach, consider developing new security protocols that can better identify and respond to sophisticated AI-driven attacks.</li><li><strong>Philosophical and Ethical Implications:</strong> The breach raises important questions about the ethical and philosophical implications of AI-driven intrusions. Explore the boundaries between artificial expertise and true sentience, and consider the impact on our understanding of intelligence and security.</li></ul>"
   ]
  },
  {
   "cell_type": "markdown",
   "id": "226d4c02",
   "metadata": {},
   "source": [
    "# Additional Resources\n",
    "<ul><li>https://github.com/horizon3ai/vRealizeLogInsightRCE</li></ul>"
   ]
  },
  {
   "cell_type": "markdown",
   "id": "560c0480",
   "metadata": {},
   "source": [
    "###  Sigma Rule(s) \n"
   ]
  },
  {
   "cell_type": "markdown",
   "id": "9bb77dab",
   "metadata": {},
   "source": [
    "<details><summary>9754c143-2f6e-460c-833d-37eb1c62244b</summary>\n",
    "<ol>\n",
    "<h1>Raw</h1> {'title': 'Simple keyword detection rule for vRealizeLogInsightRCE', 'id': '9754c143-2f6e-460c-833d-37eb1c62244b', 'status': 'experimental', 'description': 'Detects interesting keywords based on vRealizeLogInsightRCE tool', 'references': ['https://github.com/horizon3ai/vRealizeLogInsightRCE'], 'author': '@mthcht', 'date': '2022/01/01', 'modified': '2024/02/29', 'tags': ['attack.T1003', 'attack.T1069', 'attack.T1071', 'attack.T1110', 'attack.T1190', 'attack.T1222', 'attack.TA0001', 'attack.TA0002', 'attack.TA0003', 'attack.TA0005', 'attack.TA0006', 'attack.TA0007'], 'logsource': {'category': ['endpoint', 'network']}, 'detection': {'selection': [{'Image': ['*VMware-vRealize-Log-Insight.cert*', '*/horizon3ai/*', '*vRealizeLogInsightRCE*', '*VMSA-2023-0001.py*', '*loginsight.thrift*', '* --payload_file * --payload_path*', '*Downloading */*.tar to /tmp/*.pak*']}, {'OriginalFileName': ['*VMware-vRealize-Log-Insight.cert*', '*/horizon3ai/*', '*vRealizeLogInsightRCE*', '*VMSA-2023-0001.py*', '*loginsight.thrift*', '* --payload_file * --payload_path*', '*Downloading */*.tar to /tmp/*.pak*']}, {'CurrentDirectory': ['*VMware-vRealize-Log-Insight.cert*', '*/horizon3ai/*', '*vRealizeLogInsightRCE*', '*VMSA-2023-0001.py*', '*loginsight.thrift*', '* --payload_file * --payload_path*', '*Downloading */*.tar to /tmp/*.pak*']}, {'ParentImage': ['*VMware-vRealize-Log-Insight.cert*', '*/horizon3ai/*', '*vRealizeLogInsightRCE*', '*VMSA-2023-0001.py*', '*loginsight.thrift*', '* --payload_file * --payload_path*', '*Downloading */*.tar to /tmp/*.pak*']}, {'ParentCommandLine': ['*VMware-vRealize-Log-Insight.cert*', '*/horizon3ai/*', '*vRealizeLogInsightRCE*', '*VMSA-2023-0001.py*', '*loginsight.thrift*', '* --payload_file * --payload_path*', '*Downloading */*.tar to /tmp/*.pak*']}, {'TargetFilename': ['*VMware-vRealize-Log-Insight.cert*', '*/horizon3ai/*', '*vRealizeLogInsightRCE*', '*VMSA-2023-0001.py*', '*loginsight.thrift*', '* --payload_file * --payload_path*', '*Downloading */*.tar to /tmp/*.pak*']}, {'Signature': ['*VMware-vRealize-Log-Insight.cert*', '*/horizon3ai/*', '*vRealizeLogInsightRCE*', '*VMSA-2023-0001.py*', '*loginsight.thrift*', '* --payload_file * --payload_path*', '*Downloading */*.tar to /tmp/*.pak*']}, {'signature': ['*VMware-vRealize-Log-Insight.cert*', '*/horizon3ai/*', '*vRealizeLogInsightRCE*', '*VMSA-2023-0001.py*', '*loginsight.thrift*', '* --payload_file * --payload_path*', '*Downloading */*.tar to /tmp/*.pak*']}, {'ImageLoaded': ['*VMware-vRealize-Log-Insight.cert*', '*/horizon3ai/*', '*vRealizeLogInsightRCE*', '*VMSA-2023-0001.py*', '*loginsight.thrift*', '* --payload_file * --payload_path*', '*Downloading */*.tar to /tmp/*.pak*']}, {'Company': ['*VMware-vRealize-Log-Insight.cert*', '*/horizon3ai/*', '*vRealizeLogInsightRCE*', '*VMSA-2023-0001.py*', '*loginsight.thrift*', '* --payload_file * --payload_path*', '*Downloading */*.tar to /tmp/*.pak*']}, {'Description': ['*VMware-vRealize-Log-Insight.cert*', '*/horizon3ai/*', '*vRealizeLogInsightRCE*', '*VMSA-2023-0001.py*', '*loginsight.thrift*', '* --payload_file * --payload_path*', '*Downloading */*.tar to /tmp/*.pak*']}, {'description': ['*VMware-vRealize-Log-Insight.cert*', '*/horizon3ai/*', '*vRealizeLogInsightRCE*', '*VMSA-2023-0001.py*', '*loginsight.thrift*', '* --payload_file * --payload_path*', '*Downloading */*.tar to /tmp/*.pak*']}, {'CommandLine': ['*VMware-vRealize-Log-Insight.cert*', '*/horizon3ai/*', '*vRealizeLogInsightRCE*', '*VMSA-2023-0001.py*', '*loginsight.thrift*', '* --payload_file * --payload_path*', '*Downloading */*.tar to /tmp/*.pak*']}, {'SourceImage': ['*VMware-vRealize-Log-Insight.cert*', '*/horizon3ai/*', '*vRealizeLogInsightRCE*', '*VMSA-2023-0001.py*', '*loginsight.thrift*', '* --payload_file * --payload_path*', '*Downloading */*.tar to /tmp/*.pak*']}, {'TargetImage': ['*VMware-vRealize-Log-Insight.cert*', '*/horizon3ai/*', '*vRealizeLogInsightRCE*', '*VMSA-2023-0001.py*', '*loginsight.thrift*', '* --payload_file * --payload_path*', '*Downloading */*.tar to /tmp/*.pak*']}, {'CallTrace': ['*VMware-vRealize-Log-Insight.cert*', '*/horizon3ai/*', '*vRealizeLogInsightRCE*', '*VMSA-2023-0001.py*', '*loginsight.thrift*', '* --payload_file * --payload_path*', '*Downloading */*.tar to /tmp/*.pak*']}, {'TargetObject': ['*VMware-vRealize-Log-Insight.cert*', '*/horizon3ai/*', '*vRealizeLogInsightRCE*', '*VMSA-2023-0001.py*', '*loginsight.thrift*', '* --payload_file * --payload_path*', '*Downloading */*.tar to /tmp/*.pak*']}, {'Details': ['*VMware-vRealize-Log-Insight.cert*', '*/horizon3ai/*', '*vRealizeLogInsightRCE*', '*VMSA-2023-0001.py*', '*loginsight.thrift*', '* --payload_file * --payload_path*', '*Downloading */*.tar to /tmp/*.pak*']}, {'PipeName': ['*VMware-vRealize-Log-Insight.cert*', '*/horizon3ai/*', '*vRealizeLogInsightRCE*', '*VMSA-2023-0001.py*', '*loginsight.thrift*', '* --payload_file * --payload_path*', '*Downloading */*.tar to /tmp/*.pak*']}, {'Consumer': ['*VMware-vRealize-Log-Insight.cert*', '*/horizon3ai/*', '*vRealizeLogInsightRCE*', '*VMSA-2023-0001.py*', '*loginsight.thrift*', '* --payload_file * --payload_path*', '*Downloading */*.tar to /tmp/*.pak*']}, {'Destination': ['*VMware-vRealize-Log-Insight.cert*', '*/horizon3ai/*', '*vRealizeLogInsightRCE*', '*VMSA-2023-0001.py*', '*loginsight.thrift*', '* --payload_file * --payload_path*', '*Downloading */*.tar to /tmp/*.pak*']}, {'Name': ['*VMware-vRealize-Log-Insight.cert*', '*/horizon3ai/*', '*vRealizeLogInsightRCE*', '*VMSA-2023-0001.py*', '*loginsight.thrift*', '* --payload_file * --payload_path*', '*Downloading */*.tar to /tmp/*.pak*']}, {'Query': ['*VMware-vRealize-Log-Insight.cert*', '*/horizon3ai/*', '*vRealizeLogInsightRCE*', '*VMSA-2023-0001.py*', '*loginsight.thrift*', '* --payload_file * --payload_path*', '*Downloading */*.tar to /tmp/*.pak*']}, {'NewName': ['*VMware-vRealize-Log-Insight.cert*', '*/horizon3ai/*', '*vRealizeLogInsightRCE*', '*VMSA-2023-0001.py*', '*loginsight.thrift*', '* --payload_file * --payload_path*', '*Downloading */*.tar to /tmp/*.pak*']}, {'StartAddress': ['*VMware-vRealize-Log-Insight.cert*', '*/horizon3ai/*', '*vRealizeLogInsightRCE*', '*VMSA-2023-0001.py*', '*loginsight.thrift*', '* --payload_file * --payload_path*', '*Downloading */*.tar to /tmp/*.pak*']}, {'StartModule': ['*VMware-vRealize-Log-Insight.cert*', '*/horizon3ai/*', '*vRealizeLogInsightRCE*', '*VMSA-2023-0001.py*', '*loginsight.thrift*', '* --payload_file * --payload_path*', '*Downloading */*.tar to /tmp/*.pak*']}, {'StartFunction': ['*VMware-vRealize-Log-Insight.cert*', '*/horizon3ai/*', '*vRealizeLogInsightRCE*', '*VMSA-2023-0001.py*', '*loginsight.thrift*', '* --payload_file * --payload_path*', '*Downloading */*.tar to /tmp/*.pak*']}, {'SourceHostname': ['*VMware-vRealize-Log-Insight.cert*', '*/horizon3ai/*', '*vRealizeLogInsightRCE*', '*VMSA-2023-0001.py*', '*loginsight.thrift*', '* --payload_file * --payload_path*', '*Downloading */*.tar to /tmp/*.pak*']}, {'Device': ['*VMware-vRealize-Log-Insight.cert*', '*/horizon3ai/*', '*vRealizeLogInsightRCE*', '*VMSA-2023-0001.py*', '*loginsight.thrift*', '* --payload_file * --payload_path*', '*Downloading */*.tar to /tmp/*.pak*']}, {'file_name': ['*VMware-vRealize-Log-Insight.cert*', '*/horizon3ai/*', '*vRealizeLogInsightRCE*', '*VMSA-2023-0001.py*', '*loginsight.thrift*', '* --payload_file * --payload_path*', '*Downloading */*.tar to /tmp/*.pak*']}, {'file_path': ['*VMware-vRealize-Log-Insight.cert*', '*/horizon3ai/*', '*vRealizeLogInsightRCE*', '*VMSA-2023-0001.py*', '*loginsight.thrift*', '* --payload_file * --payload_path*', '*Downloading */*.tar to /tmp/*.pak*']}, {'process': ['*VMware-vRealize-Log-Insight.cert*', '*/horizon3ai/*', '*vRealizeLogInsightRCE*', '*VMSA-2023-0001.py*', '*loginsight.thrift*', '* --payload_file * --payload_path*', '*Downloading */*.tar to /tmp/*.pak*']}, {'original_file_name': ['*VMware-vRealize-Log-Insight.cert*', '*/horizon3ai/*', '*vRealizeLogInsightRCE*', '*VMSA-2023-0001.py*', '*loginsight.thrift*', '* --payload_file * --payload_path*', '*Downloading */*.tar to /tmp/*.pak*']}, {'parent_process': ['*VMware-vRealize-Log-Insight.cert*', '*/horizon3ai/*', '*vRealizeLogInsightRCE*', '*VMSA-2023-0001.py*', '*loginsight.thrift*', '* --payload_file * --payload_path*', '*Downloading */*.tar to /tmp/*.pak*']}, {'process_path': ['*VMware-vRealize-Log-Insight.cert*', '*/horizon3ai/*', '*vRealizeLogInsightRCE*', '*VMSA-2023-0001.py*', '*loginsight.thrift*', '* --payload_file * --payload_path*', '*Downloading */*.tar to /tmp/*.pak*']}, {'service_path': ['*VMware-vRealize-Log-Insight.cert*', '*/horizon3ai/*', '*vRealizeLogInsightRCE*', '*VMSA-2023-0001.py*', '*loginsight.thrift*', '* --payload_file * --payload_path*', '*Downloading */*.tar to /tmp/*.pak*']}, {'registry_path': ['*VMware-vRealize-Log-Insight.cert*', '*/horizon3ai/*', '*vRealizeLogInsightRCE*', '*VMSA-2023-0001.py*', '*loginsight.thrift*', '* --payload_file * --payload_path*', '*Downloading */*.tar to /tmp/*.pak*']}, {'registry_value_data': ['*VMware-vRealize-Log-Insight.cert*', '*/horizon3ai/*', '*vRealizeLogInsightRCE*', '*VMSA-2023-0001.py*', '*loginsight.thrift*', '* --payload_file * --payload_path*', '*Downloading */*.tar to /tmp/*.pak*']}, {'registry_value_name': ['*VMware-vRealize-Log-Insight.cert*', '*/horizon3ai/*', '*vRealizeLogInsightRCE*', '*VMSA-2023-0001.py*', '*loginsight.thrift*', '* --payload_file * --payload_path*', '*Downloading */*.tar to /tmp/*.pak*']}, {'ContextInfo': ['*VMware-vRealize-Log-Insight.cert*', '*/horizon3ai/*', '*vRealizeLogInsightRCE*', '*VMSA-2023-0001.py*', '*loginsight.thrift*', '* --payload_file * --payload_path*', '*Downloading */*.tar to /tmp/*.pak*']}, {'Payload': ['*VMware-vRealize-Log-Insight.cert*', '*/horizon3ai/*', '*vRealizeLogInsightRCE*', '*VMSA-2023-0001.py*', '*loginsight.thrift*', '* --payload_file * --payload_path*', '*Downloading */*.tar to /tmp/*.pak*']}, {'ScriptBlockText': ['*VMware-vRealize-Log-Insight.cert*', '*/horizon3ai/*', '*vRealizeLogInsightRCE*', '*VMSA-2023-0001.py*', '*loginsight.thrift*', '* --payload_file * --payload_path*', '*Downloading */*.tar to /tmp/*.pak*']}, {'ServerName': ['*VMware-vRealize-Log-Insight.cert*', '*/horizon3ai/*', '*vRealizeLogInsightRCE*', '*VMSA-2023-0001.py*', '*loginsight.thrift*', '* --payload_file * --payload_path*', '*Downloading */*.tar to /tmp/*.pak*']}, {'TransportName': ['*VMware-vRealize-Log-Insight.cert*', '*/horizon3ai/*', '*vRealizeLogInsightRCE*', '*VMSA-2023-0001.py*', '*loginsight.thrift*', '* --payload_file * --payload_path*', '*Downloading */*.tar to /tmp/*.pak*']}, {'NewProcessName': ['*VMware-vRealize-Log-Insight.cert*', '*/horizon3ai/*', '*vRealizeLogInsightRCE*', '*VMSA-2023-0001.py*', '*loginsight.thrift*', '* --payload_file * --payload_path*', '*Downloading */*.tar to /tmp/*.pak*']}, {'ParentProcessName': ['*VMware-vRealize-Log-Insight.cert*', '*/horizon3ai/*', '*vRealizeLogInsightRCE*', '*VMSA-2023-0001.py*', '*loginsight.thrift*', '* --payload_file * --payload_path*', '*Downloading */*.tar to /tmp/*.pak*']}, {'Application': ['*VMware-vRealize-Log-Insight.cert*', '*/horizon3ai/*', '*vRealizeLogInsightRCE*', '*VMSA-2023-0001.py*', '*loginsight.thrift*', '* --payload_file * --payload_path*', '*Downloading */*.tar to /tmp/*.pak*']}, {'Product Name': ['*VMware-vRealize-Log-Insight.cert*', '*/horizon3ai/*', '*vRealizeLogInsightRCE*', '*VMSA-2023-0001.py*', '*loginsight.thrift*', '* --payload_file * --payload_path*', '*Downloading */*.tar to /tmp/*.pak*']}, {'Threat Name': ['*VMware-vRealize-Log-Insight.cert*', '*/horizon3ai/*', '*vRealizeLogInsightRCE*', '*VMSA-2023-0001.py*', '*loginsight.thrift*', '* --payload_file * --payload_path*', '*Downloading */*.tar to /tmp/*.pak*']}, {'Process Name': ['*VMware-vRealize-Log-Insight.cert*', '*/horizon3ai/*', '*vRealizeLogInsightRCE*', '*VMSA-2023-0001.py*', '*loginsight.thrift*', '* --payload_file * --payload_path*', '*Downloading */*.tar to /tmp/*.pak*']}, {'Path': ['*VMware-vRealize-Log-Insight.cert*', '*/horizon3ai/*', '*vRealizeLogInsightRCE*', '*VMSA-2023-0001.py*', '*loginsight.thrift*', '* --payload_file * --payload_path*', '*Downloading */*.tar to /tmp/*.pak*']}, {'ImagePath': ['*VMware-vRealize-Log-Insight.cert*', '*/horizon3ai/*', '*vRealizeLogInsightRCE*', '*VMSA-2023-0001.py*', '*loginsight.thrift*', '* --payload_file * --payload_path*', '*Downloading */*.tar to /tmp/*.pak*']}, {'ServiceName': ['*VMware-vRealize-Log-Insight.cert*', '*/horizon3ai/*', '*vRealizeLogInsightRCE*', '*VMSA-2023-0001.py*', '*loginsight.thrift*', '* --payload_file * --payload_path*', '*Downloading */*.tar to /tmp/*.pak*']}, {'ProcessPath': ['*VMware-vRealize-Log-Insight.cert*', '*/horizon3ai/*', '*vRealizeLogInsightRCE*', '*VMSA-2023-0001.py*', '*loginsight.thrift*', '* --payload_file * --payload_path*', '*Downloading */*.tar to /tmp/*.pak*']}, {'AppName': ['*VMware-vRealize-Log-Insight.cert*', '*/horizon3ai/*', '*vRealizeLogInsightRCE*', '*VMSA-2023-0001.py*', '*loginsight.thrift*', '* --payload_file * --payload_path*', '*Downloading */*.tar to /tmp/*.pak*']}, {'AppPath': ['*VMware-vRealize-Log-Insight.cert*', '*/horizon3ai/*', '*vRealizeLogInsightRCE*', '*VMSA-2023-0001.py*', '*loginsight.thrift*', '* --payload_file * --payload_path*', '*Downloading */*.tar to /tmp/*.pak*']}, {'ModulePath': ['*VMware-vRealize-Log-Insight.cert*', '*/horizon3ai/*', '*vRealizeLogInsightRCE*', '*VMSA-2023-0001.py*', '*loginsight.thrift*', '* --payload_file * --payload_path*', '*Downloading */*.tar to /tmp/*.pak*']}, {'registry.data.strings': ['*VMware-vRealize-Log-Insight.cert*', '*/horizon3ai/*', '*vRealizeLogInsightRCE*', '*VMSA-2023-0001.py*', '*loginsight.thrift*', '* --payload_file * --payload_path*', '*Downloading */*.tar to /tmp/*.pak*']}, {'registry.path': ['*VMware-vRealize-Log-Insight.cert*', '*/horizon3ai/*', '*vRealizeLogInsightRCE*', '*VMSA-2023-0001.py*', '*loginsight.thrift*', '* --payload_file * --payload_path*', '*Downloading */*.tar to /tmp/*.pak*']}, {'registry.value': ['*VMware-vRealize-Log-Insight.cert*', '*/horizon3ai/*', '*vRealizeLogInsightRCE*', '*VMSA-2023-0001.py*', '*loginsight.thrift*', '* --payload_file * --payload_path*', '*Downloading */*.tar to /tmp/*.pak*']}, {'process.args': ['*VMware-vRealize-Log-Insight.cert*', '*/horizon3ai/*', '*vRealizeLogInsightRCE*', '*VMSA-2023-0001.py*', '*loginsight.thrift*', '* --payload_file * --payload_path*', '*Downloading */*.tar to /tmp/*.pak*']}, {'process.command_line': ['*VMware-vRealize-Log-Insight.cert*', '*/horizon3ai/*', '*vRealizeLogInsightRCE*', '*VMSA-2023-0001.py*', '*loginsight.thrift*', '* --payload_file * --payload_path*', '*Downloading */*.tar to /tmp/*.pak*']}, {'process.env_vars': ['*VMware-vRealize-Log-Insight.cert*', '*/horizon3ai/*', '*vRealizeLogInsightRCE*', '*VMSA-2023-0001.py*', '*loginsight.thrift*', '* --payload_file * --payload_path*', '*Downloading */*.tar to /tmp/*.pak*']}, {'process.io.text': ['*VMware-vRealize-Log-Insight.cert*', '*/horizon3ai/*', '*vRealizeLogInsightRCE*', '*VMSA-2023-0001.py*', '*loginsight.thrift*', '* --payload_file * --payload_path*', '*Downloading */*.tar to /tmp/*.pak*']}, {'process.executable': ['*VMware-vRealize-Log-Insight.cert*', '*/horizon3ai/*', '*vRealizeLogInsightRCE*', '*VMSA-2023-0001.py*', '*loginsight.thrift*', '* --payload_file * --payload_path*', '*Downloading */*.tar to /tmp/*.pak*']}, {'process.name': ['*VMware-vRealize-Log-Insight.cert*', '*/horizon3ai/*', '*vRealizeLogInsightRCE*', '*VMSA-2023-0001.py*', '*loginsight.thrift*', '* --payload_file * --payload_path*', '*Downloading */*.tar to /tmp/*.pak*']}, {'process.title': ['*VMware-vRealize-Log-Insight.cert*', '*/horizon3ai/*', '*vRealizeLogInsightRCE*', '*VMSA-2023-0001.py*', '*loginsight.thrift*', '* --payload_file * --payload_path*', '*Downloading */*.tar to /tmp/*.pak*']}, {'pe.company': ['*VMware-vRealize-Log-Insight.cert*', '*/horizon3ai/*', '*vRealizeLogInsightRCE*', '*VMSA-2023-0001.py*', '*loginsight.thrift*', '* --payload_file * --payload_path*', '*Downloading */*.tar to /tmp/*.pak*']}, {'pe.description': ['*VMware-vRealize-Log-Insight.cert*', '*/horizon3ai/*', '*vRealizeLogInsightRCE*', '*VMSA-2023-0001.py*', '*loginsight.thrift*', '* --payload_file * --payload_path*', '*Downloading */*.tar to /tmp/*.pak*']}, {'pe.original_file_name': ['*VMware-vRealize-Log-Insight.cert*', '*/horizon3ai/*', '*vRealizeLogInsightRCE*', '*VMSA-2023-0001.py*', '*loginsight.thrift*', '* --payload_file * --payload_path*', '*Downloading */*.tar to /tmp/*.pak*']}, {'pe.product': ['*VMware-vRealize-Log-Insight.cert*', '*/horizon3ai/*', '*vRealizeLogInsightRCE*', '*VMSA-2023-0001.py*', '*loginsight.thrift*', '* --payload_file * --payload_path*', '*Downloading */*.tar to /tmp/*.pak*']}, {'os.full': ['*VMware-vRealize-Log-Insight.cert*', '*/horizon3ai/*', '*vRealizeLogInsightRCE*', '*VMSA-2023-0001.py*', '*loginsight.thrift*', '* --payload_file * --payload_path*', '*Downloading */*.tar to /tmp/*.pak*']}, {'host.hostname': ['*VMware-vRealize-Log-Insight.cert*', '*/horizon3ai/*', '*vRealizeLogInsightRCE*', '*VMSA-2023-0001.py*', '*loginsight.thrift*', '* --payload_file * --payload_path*', '*Downloading */*.tar to /tmp/*.pak*']}, {'file.fork_name': ['*VMware-vRealize-Log-Insight.cert*', '*/horizon3ai/*', '*vRealizeLogInsightRCE*', '*VMSA-2023-0001.py*', '*loginsight.thrift*', '* --payload_file * --payload_path*', '*Downloading */*.tar to /tmp/*.pak*']}, {'file.name': ['*VMware-vRealize-Log-Insight.cert*', '*/horizon3ai/*', '*vRealizeLogInsightRCE*', '*VMSA-2023-0001.py*', '*loginsight.thrift*', '* --payload_file * --payload_path*', '*Downloading */*.tar to /tmp/*.pak*']}, {'file.path': ['*VMware-vRealize-Log-Insight.cert*', '*/horizon3ai/*', '*vRealizeLogInsightRCE*', '*VMSA-2023-0001.py*', '*loginsight.thrift*', '* --payload_file * --payload_path*', '*Downloading */*.tar to /tmp/*.pak*']}, {'file.target_path': ['*VMware-vRealize-Log-Insight.cert*', '*/horizon3ai/*', '*vRealizeLogInsightRCE*', '*VMSA-2023-0001.py*', '*loginsight.thrift*', '* --payload_file * --payload_path*', '*Downloading */*.tar to /tmp/*.pak*']}, {'email.attachments.file.name': ['*VMware-vRealize-Log-Insight.cert*', '*/horizon3ai/*', '*vRealizeLogInsightRCE*', '*VMSA-2023-0001.py*', '*loginsight.thrift*', '* --payload_file * --payload_path*', '*Downloading */*.tar to /tmp/*.pak*']}, {'email.subject': ['*VMware-vRealize-Log-Insight.cert*', '*/horizon3ai/*', '*vRealizeLogInsightRCE*', '*VMSA-2023-0001.py*', '*loginsight.thrift*', '* --payload_file * --payload_path*', '*Downloading */*.tar to /tmp/*.pak*']}, {'dll.path': ['*VMware-vRealize-Log-Insight.cert*', '*/horizon3ai/*', '*vRealizeLogInsightRCE*', '*VMSA-2023-0001.py*', '*loginsight.thrift*', '* --payload_file * --payload_path*', '*Downloading */*.tar to /tmp/*.pak*']}, {'device.model.name': ['*VMware-vRealize-Log-Insight.cert*', '*/horizon3ai/*', '*vRealizeLogInsightRCE*', '*VMSA-2023-0001.py*', '*loginsight.thrift*', '* --payload_file * --payload_path*', '*Downloading */*.tar to /tmp/*.pak*']}, {'container.image.name': ['*VMware-vRealize-Log-Insight.cert*', '*/horizon3ai/*', '*vRealizeLogInsightRCE*', '*VMSA-2023-0001.py*', '*loginsight.thrift*', '* --payload_file * --payload_path*', '*Downloading */*.tar to /tmp/*.pak*']}, {'container.name': ['*VMware-vRealize-Log-Insight.cert*', '*/horizon3ai/*', '*vRealizeLogInsightRCE*', '*VMSA-2023-0001.py*', '*loginsight.thrift*', '* --payload_file * --payload_path*', '*Downloading */*.tar to /tmp/*.pak*']}, {'object': ['*VMware-vRealize-Log-Insight.cert*', '*/horizon3ai/*', '*vRealizeLogInsightRCE*', '*VMSA-2023-0001.py*', '*loginsight.thrift*', '* --payload_file * --payload_path*', '*Downloading */*.tar to /tmp/*.pak*']}, {'ParentCommandLine': ['*VMware-vRealize-Log-Insight.cert*', '*/horizon3ai/*', '*vRealizeLogInsightRCE*', '*VMSA-2023-0001.py*', '*loginsight.thrift*', '* --payload_file * --payload_path*', '*Downloading */*.tar to /tmp/*.pak*']}, {'CommandLine': ['*VMware-vRealize-Log-Insight.cert*', '*/horizon3ai/*', '*vRealizeLogInsightRCE*', '*VMSA-2023-0001.py*', '*loginsight.thrift*', '* --payload_file * --payload_path*', '*Downloading */*.tar to /tmp/*.pak*']}, {'Details': ['*VMware-vRealize-Log-Insight.cert*', '*/horizon3ai/*', '*vRealizeLogInsightRCE*', '*VMSA-2023-0001.py*', '*loginsight.thrift*', '* --payload_file * --payload_path*', '*Downloading */*.tar to /tmp/*.pak*']}, {'registry.value': ['*VMware-vRealize-Log-Insight.cert*', '*/horizon3ai/*', '*vRealizeLogInsightRCE*', '*VMSA-2023-0001.py*', '*loginsight.thrift*', '* --payload_file * --payload_path*', '*Downloading */*.tar to /tmp/*.pak*']}, {'process.args': ['*VMware-vRealize-Log-Insight.cert*', '*/horizon3ai/*', '*vRealizeLogInsightRCE*', '*VMSA-2023-0001.py*', '*loginsight.thrift*', '* --payload_file * --payload_path*', '*Downloading */*.tar to /tmp/*.pak*']}, {'process.command_line': ['*VMware-vRealize-Log-Insight.cert*', '*/horizon3ai/*', '*vRealizeLogInsightRCE*', '*VMSA-2023-0001.py*', '*loginsight.thrift*', '* --payload_file * --payload_path*', '*Downloading */*.tar to /tmp/*.pak*']}, {'process.env_vars': ['*VMware-vRealize-Log-Insight.cert*', '*/horizon3ai/*', '*vRealizeLogInsightRCE*', '*VMSA-2023-0001.py*', '*loginsight.thrift*', '* --payload_file * --payload_path*', '*Downloading */*.tar to /tmp/*.pak*']}, {'process.io.text': ['*VMware-vRealize-Log-Insight.cert*', '*/horizon3ai/*', '*vRealizeLogInsightRCE*', '*VMSA-2023-0001.py*', '*loginsight.thrift*', '* --payload_file * --payload_path*', '*Downloading */*.tar to /tmp/*.pak*']}, {'process.title': ['*VMware-vRealize-Log-Insight.cert*', '*/horizon3ai/*', '*vRealizeLogInsightRCE*', '*VMSA-2023-0001.py*', '*loginsight.thrift*', '* --payload_file * --payload_path*', '*Downloading */*.tar to /tmp/*.pak*']}, {'pe.company': ['*VMware-vRealize-Log-Insight.cert*', '*/horizon3ai/*', '*vRealizeLogInsightRCE*', '*VMSA-2023-0001.py*', '*loginsight.thrift*', '* --payload_file * --payload_path*', '*Downloading */*.tar to /tmp/*.pak*']}, {'pe.description': ['*VMware-vRealize-Log-Insight.cert*', '*/horizon3ai/*', '*vRealizeLogInsightRCE*', '*VMSA-2023-0001.py*', '*loginsight.thrift*', '* --payload_file * --payload_path*', '*Downloading */*.tar to /tmp/*.pak*']}, {'pe.product': ['*VMware-vRealize-Log-Insight.cert*', '*/horizon3ai/*', '*vRealizeLogInsightRCE*', '*VMSA-2023-0001.py*', '*loginsight.thrift*', '* --payload_file * --payload_path*', '*Downloading */*.tar to /tmp/*.pak*']}, {'os.full': ['*VMware-vRealize-Log-Insight.cert*', '*/horizon3ai/*', '*vRealizeLogInsightRCE*', '*VMSA-2023-0001.py*', '*loginsight.thrift*', '* --payload_file * --payload_path*', '*Downloading */*.tar to /tmp/*.pak*']}, {'host.hostname': ['*VMware-vRealize-Log-Insight.cert*', '*/horizon3ai/*', '*vRealizeLogInsightRCE*', '*VMSA-2023-0001.py*', '*loginsight.thrift*', '* --payload_file * --payload_path*', '*Downloading */*.tar to /tmp/*.pak*']}, {'event.original': ['*VMware-vRealize-Log-Insight.cert*', '*/horizon3ai/*', '*vRealizeLogInsightRCE*', '*VMSA-2023-0001.py*', '*loginsight.thrift*', '* --payload_file * --payload_path*', '*Downloading */*.tar to /tmp/*.pak*']}, {'email.subject': ['*VMware-vRealize-Log-Insight.cert*', '*/horizon3ai/*', '*vRealizeLogInsightRCE*', '*VMSA-2023-0001.py*', '*loginsight.thrift*', '* --payload_file * --payload_path*', '*Downloading */*.tar to /tmp/*.pak*']}, {'device.model.name': ['*VMware-vRealize-Log-Insight.cert*', '*/horizon3ai/*', '*vRealizeLogInsightRCE*', '*VMSA-2023-0001.py*', '*loginsight.thrift*', '* --payload_file * --payload_path*', '*Downloading */*.tar to /tmp/*.pak*']}, {'container.image.name': ['*VMware-vRealize-Log-Insight.cert*', '*/horizon3ai/*', '*vRealizeLogInsightRCE*', '*VMSA-2023-0001.py*', '*loginsight.thrift*', '* --payload_file * --payload_path*', '*Downloading */*.tar to /tmp/*.pak*']}, {'container.name': ['*VMware-vRealize-Log-Insight.cert*', '*/horizon3ai/*', '*vRealizeLogInsightRCE*', '*VMSA-2023-0001.py*', '*loginsight.thrift*', '* --payload_file * --payload_path*', '*Downloading */*.tar to /tmp/*.pak*']}, {'url': ['*VMware-vRealize-Log-Insight.cert*', '*/horizon3ai/*', '*vRealizeLogInsightRCE*', '*VMSA-2023-0001.py*', '*loginsight.thrift*']}, {'dest_url': ['*VMware-vRealize-Log-Insight.cert*', '*/horizon3ai/*', '*vRealizeLogInsightRCE*', '*VMSA-2023-0001.py*', '*loginsight.thrift*']}, {'uri': ['*VMware-vRealize-Log-Insight.cert*', '*/horizon3ai/*', '*vRealizeLogInsightRCE*', '*VMSA-2023-0001.py*', '*loginsight.thrift*']}, {'uri_query': ['*VMware-vRealize-Log-Insight.cert*', '*/horizon3ai/*', '*vRealizeLogInsightRCE*', '*VMSA-2023-0001.py*', '*loginsight.thrift*']}, {'query': ['*VMware-vRealize-Log-Insight.cert*', '*/horizon3ai/*', '*vRealizeLogInsightRCE*', '*VMSA-2023-0001.py*', '*loginsight.thrift*']}, {'url_domain': ['*VMware-vRealize-Log-Insight.cert*', '*/horizon3ai/*', '*vRealizeLogInsightRCE*', '*VMSA-2023-0001.py*', '*loginsight.thrift*']}, {'uri_path': ['*VMware-vRealize-Log-Insight.cert*', '*/horizon3ai/*', '*vRealizeLogInsightRCE*', '*VMSA-2023-0001.py*', '*loginsight.thrift*']}, {'domain': ['*VMware-vRealize-Log-Insight.cert*', '*/horizon3ai/*', '*vRealizeLogInsightRCE*', '*VMSA-2023-0001.py*', '*loginsight.thrift*']}, {'QueryName': ['*VMware-vRealize-Log-Insight.cert*', '*/horizon3ai/*', '*vRealizeLogInsightRCE*', '*VMSA-2023-0001.py*', '*loginsight.thrift*']}, {'QueryResults': ['*VMware-vRealize-Log-Insight.cert*', '*/horizon3ai/*', '*vRealizeLogInsightRCE*', '*VMSA-2023-0001.py*', '*loginsight.thrift*']}, {'DestinationHostname': ['*VMware-vRealize-Log-Insight.cert*', '*/horizon3ai/*', '*vRealizeLogInsightRCE*', '*VMSA-2023-0001.py*', '*loginsight.thrift*']}, {'DestinationIp': ['*VMware-vRealize-Log-Insight.cert*', '*/horizon3ai/*', '*vRealizeLogInsightRCE*', '*VMSA-2023-0001.py*', '*loginsight.thrift*']}, {'http_referrer': ['*VMware-vRealize-Log-Insight.cert*', '*/horizon3ai/*', '*vRealizeLogInsightRCE*', '*VMSA-2023-0001.py*', '*loginsight.thrift*']}, {'http_referrer_domain': ['*VMware-vRealize-Log-Insight.cert*', '*/horizon3ai/*', '*vRealizeLogInsightRCE*', '*VMSA-2023-0001.py*', '*loginsight.thrift*']}, {'http_user_agent': ['*VMware-vRealize-Log-Insight.cert*', '*/horizon3ai/*', '*vRealizeLogInsightRCE*', '*VMSA-2023-0001.py*', '*loginsight.thrift*']}, {'dest_nt_host': ['*VMware-vRealize-Log-Insight.cert*', '*/horizon3ai/*', '*vRealizeLogInsightRCE*', '*VMSA-2023-0001.py*', '*loginsight.thrift*']}, {'sender': ['*VMware-vRealize-Log-Insight.cert*', '*/horizon3ai/*', '*vRealizeLogInsightRCE*', '*VMSA-2023-0001.py*', '*loginsight.thrift*']}, {'recipient': ['*VMware-vRealize-Log-Insight.cert*', '*/horizon3ai/*', '*vRealizeLogInsightRCE*', '*VMSA-2023-0001.py*', '*loginsight.thrift*']}, {'orig_recipient': ['*VMware-vRealize-Log-Insight.cert*', '*/horizon3ai/*', '*vRealizeLogInsightRCE*', '*VMSA-2023-0001.py*', '*loginsight.thrift*']}, {'subject': ['*VMware-vRealize-Log-Insight.cert*', '*/horizon3ai/*', '*vRealizeLogInsightRCE*', '*VMSA-2023-0001.py*', '*loginsight.thrift*']}, {'url.domain': ['*VMware-vRealize-Log-Insight.cert*', '*/horizon3ai/*', '*vRealizeLogInsightRCE*', '*VMSA-2023-0001.py*', '*loginsight.thrift*']}, {'url.full': ['*VMware-vRealize-Log-Insight.cert*', '*/horizon3ai/*', '*vRealizeLogInsightRCE*', '*VMSA-2023-0001.py*', '*loginsight.thrift*']}, {'url.original': ['*VMware-vRealize-Log-Insight.cert*', '*/horizon3ai/*', '*vRealizeLogInsightRCE*', '*VMSA-2023-0001.py*', '*loginsight.thrift*']}, {'url.query': ['*VMware-vRealize-Log-Insight.cert*', '*/horizon3ai/*', '*vRealizeLogInsightRCE*', '*VMSA-2023-0001.py*', '*loginsight.thrift*']}, {'user_agent.original': ['*VMware-vRealize-Log-Insight.cert*', '*/horizon3ai/*', '*vRealizeLogInsightRCE*', '*VMSA-2023-0001.py*', '*loginsight.thrift*']}, {'network.application': ['*VMware-vRealize-Log-Insight.cert*', '*/horizon3ai/*', '*vRealizeLogInsightRCE*', '*VMSA-2023-0001.py*', '*loginsight.thrift*']}, {'http.request.body.content': ['*VMware-vRealize-Log-Insight.cert*', '*/horizon3ai/*', '*vRealizeLogInsightRCE*', '*VMSA-2023-0001.py*', '*loginsight.thrift*']}, {'http.request.referrer': ['*VMware-vRealize-Log-Insight.cert*', '*/horizon3ai/*', '*vRealizeLogInsightRCE*', '*VMSA-2023-0001.py*', '*loginsight.thrift*']}, {'email.from.address': ['*VMware-vRealize-Log-Insight.cert*', '*/horizon3ai/*', '*vRealizeLogInsightRCE*', '*VMSA-2023-0001.py*', '*loginsight.thrift*']}, {'dns.question.name': ['*VMware-vRealize-Log-Insight.cert*', '*/horizon3ai/*', '*vRealizeLogInsightRCE*', '*VMSA-2023-0001.py*', '*loginsight.thrift*']}, {'destination.domain': ['*VMware-vRealize-Log-Insight.cert*', '*/horizon3ai/*', '*vRealizeLogInsightRCE*', '*VMSA-2023-0001.py*', '*loginsight.thrift*']}], 'condition': 'selection'}, 'fields': ['Image', 'OriginalFileName', 'CurrentDirectory', 'ParentImage', 'ParentCommandLine', 'TargetFilename', 'Signature', 'signature', 'ImageLoaded', 'Company', 'Description', 'description', 'CommandLine', 'SourceImage', 'TargetImage', 'CallTrace', 'TargetObject', 'Details', 'PipeName', 'Consumer', 'Destination', 'Name', 'Query', 'NewName', 'StartAddress', 'StartModule', 'StartFunction', 'SourceHostname', 'Device', 'file_name', 'file_path', 'process', 'original_file_name', 'parent_process', 'process_path', 'service_path', 'registry_path', 'registry_value_data', 'registry_value_name', 'ContextInfo', 'Payload', 'ScriptBlockText', 'ServerName', 'TransportName', 'NewProcessName', 'ParentProcessName', 'Application', 'Product Name', 'Threat Name', 'Process Name', 'Path', 'ImagePath', 'ServiceName', 'ProcessPath', 'AppName', 'AppPath', 'ModulePath', 'registry.data.strings', 'registry.path', 'registry.value', 'process.args', 'process.command_line', 'process.env_vars', 'process.io.text', 'process.executable', 'process.name', 'process.title', 'pe.company', 'pe.description', 'pe.original_file_name', 'pe.product', 'os.full', 'host.hostname', 'file.fork_name', 'file.name', 'file.path', 'file.target_path', 'email.attachments.file.name', 'email.subject', 'dll.path', 'device.model.name', 'container.image.name', 'container.name', 'object', 'ParentCommandLine', 'CommandLine', 'Details', 'registry.value', 'process.args', 'process.command_line', 'process.env_vars', 'process.io.text', 'process.title', 'pe.company', 'pe.description', 'pe.product', 'os.full', 'host.hostname', 'event.original', 'email.subject', 'device.model.name', 'container.image.name', 'container.name', 'url', 'dest_url', 'uri', 'uri_query', 'query', 'url_domain', 'uri_path', 'domain', 'QueryName', 'QueryResults', 'DestinationHostname', 'DestinationIp', 'http_referrer', 'http_referrer_domain', 'http_user_agent', 'dest_nt_host', 'sender', 'recipient', 'orig_recipient', 'subject', 'url.domain', 'url.full', 'url.original', 'url.query', 'user_agent.original', 'network.application', 'http.request.body.content', 'http.request.referrer', 'email.from.address', 'dns.question.name', 'destination.domain'], 'falsepositives': ['unknown'], 'level': 'medium'}\n",
    "<h4>Sigma Location(s)</h4>\n",
    "uri://wintermute/tmp/0day.yml\n",
    "<h4>Sigma Confidence</h4>\n",
    "experimental\n",
    "<h4>Sigma Assurance</h4> medium\n",
    "<h4>Sigma Queries</h4> \n",
    "{'selection': [{'Image': ['*VMware-vRealize-Log-Insight.cert*', '*/horizon3ai/*', '*vRealizeLogInsightRCE*', '*VMSA-2023-0001.py*', '*loginsight.thrift*', '* --payload_file * --payload_path*', '*Downloading */*.tar to /tmp/*.pak*']}, {'OriginalFileName': ['*VMware-vRealize-Log-Insight.cert*', '*/horizon3ai/*', '*vRealizeLogInsightRCE*', '*VMSA-2023-0001.py*', '*loginsight.thrift*', '* --payload_file * --payload_path*', '*Downloading */*.tar to /tmp/*.pak*']}, {'CurrentDirectory': ['*VMware-vRealize-Log-Insight.cert*', '*/horizon3ai/*', '*vRealizeLogInsightRCE*', '*VMSA-2023-0001.py*', '*loginsight.thrift*', '* --payload_file * --payload_path*', '*Downloading */*.tar to /tmp/*.pak*']}, {'ParentImage': ['*VMware-vRealize-Log-Insight.cert*', '*/horizon3ai/*', '*vRealizeLogInsightRCE*', '*VMSA-2023-0001.py*', '*loginsight.thrift*', '* --payload_file * --payload_path*', '*Downloading */*.tar to /tmp/*.pak*']}, {'ParentCommandLine': ['*VMware-vRealize-Log-Insight.cert*', '*/horizon3ai/*', '*vRealizeLogInsightRCE*', '*VMSA-2023-0001.py*', '*loginsight.thrift*', '* --payload_file * --payload_path*', '*Downloading */*.tar to /tmp/*.pak*']}, {'TargetFilename': ['*VMware-vRealize-Log-Insight.cert*', '*/horizon3ai/*', '*vRealizeLogInsightRCE*', '*VMSA-2023-0001.py*', '*loginsight.thrift*', '* --payload_file * --payload_path*', '*Downloading */*.tar to /tmp/*.pak*']}, {'Signature': ['*VMware-vRealize-Log-Insight.cert*', '*/horizon3ai/*', '*vRealizeLogInsightRCE*', '*VMSA-2023-0001.py*', '*loginsight.thrift*', '* --payload_file * --payload_path*', '*Downloading */*.tar to /tmp/*.pak*']}, {'signature': ['*VMware-vRealize-Log-Insight.cert*', '*/horizon3ai/*', '*vRealizeLogInsightRCE*', '*VMSA-2023-0001.py*', '*loginsight.thrift*', '* --payload_file * --payload_path*', '*Downloading */*.tar to /tmp/*.pak*']}, {'ImageLoaded': ['*VMware-vRealize-Log-Insight.cert*', '*/horizon3ai/*', '*vRealizeLogInsightRCE*', '*VMSA-2023-0001.py*', '*loginsight.thrift*', '* --payload_file * --payload_path*', '*Downloading */*.tar to /tmp/*.pak*']}, {'Company': ['*VMware-vRealize-Log-Insight.cert*', '*/horizon3ai/*', '*vRealizeLogInsightRCE*', '*VMSA-2023-0001.py*', '*loginsight.thrift*', '* --payload_file * --payload_path*', '*Downloading */*.tar to /tmp/*.pak*']}, {'Description': ['*VMware-vRealize-Log-Insight.cert*', '*/horizon3ai/*', '*vRealizeLogInsightRCE*', '*VMSA-2023-0001.py*', '*loginsight.thrift*', '* --payload_file * --payload_path*', '*Downloading */*.tar to /tmp/*.pak*']}, {'description': ['*VMware-vRealize-Log-Insight.cert*', '*/horizon3ai/*', '*vRealizeLogInsightRCE*', '*VMSA-2023-0001.py*', '*loginsight.thrift*', '* --payload_file * --payload_path*', '*Downloading */*.tar to /tmp/*.pak*']}, {'CommandLine': ['*VMware-vRealize-Log-Insight.cert*', '*/horizon3ai/*', '*vRealizeLogInsightRCE*', '*VMSA-2023-0001.py*', '*loginsight.thrift*', '* --payload_file * --payload_path*', '*Downloading */*.tar to /tmp/*.pak*']}, {'SourceImage': ['*VMware-vRealize-Log-Insight.cert*', '*/horizon3ai/*', '*vRealizeLogInsightRCE*', '*VMSA-2023-0001.py*', '*loginsight.thrift*', '* --payload_file * --payload_path*', '*Downloading */*.tar to /tmp/*.pak*']}, {'TargetImage': ['*VMware-vRealize-Log-Insight.cert*', '*/horizon3ai/*', '*vRealizeLogInsightRCE*', '*VMSA-2023-0001.py*', '*loginsight.thrift*', '* --payload_file * --payload_path*', '*Downloading */*.tar to /tmp/*.pak*']}, {'CallTrace': ['*VMware-vRealize-Log-Insight.cert*', '*/horizon3ai/*', '*vRealizeLogInsightRCE*', '*VMSA-2023-0001.py*', '*loginsight.thrift*', '* --payload_file * --payload_path*', '*Downloading */*.tar to /tmp/*.pak*']}, {'TargetObject': ['*VMware-vRealize-Log-Insight.cert*', '*/horizon3ai/*', '*vRealizeLogInsightRCE*', '*VMSA-2023-0001.py*', '*loginsight.thrift*', '* --payload_file * --payload_path*', '*Downloading */*.tar to /tmp/*.pak*']}, {'Details': ['*VMware-vRealize-Log-Insight.cert*', '*/horizon3ai/*', '*vRealizeLogInsightRCE*', '*VMSA-2023-0001.py*', '*loginsight.thrift*', '* --payload_file * --payload_path*', '*Downloading */*.tar to /tmp/*.pak*']}, {'PipeName': ['*VMware-vRealize-Log-Insight.cert*', '*/horizon3ai/*', '*vRealizeLogInsightRCE*', '*VMSA-2023-0001.py*', '*loginsight.thrift*', '* --payload_file * --payload_path*', '*Downloading */*.tar to /tmp/*.pak*']}, {'Consumer': ['*VMware-vRealize-Log-Insight.cert*', '*/horizon3ai/*', '*vRealizeLogInsightRCE*', '*VMSA-2023-0001.py*', '*loginsight.thrift*', '* --payload_file * --payload_path*', '*Downloading */*.tar to /tmp/*.pak*']}, {'Destination': ['*VMware-vRealize-Log-Insight.cert*', '*/horizon3ai/*', '*vRealizeLogInsightRCE*', '*VMSA-2023-0001.py*', '*loginsight.thrift*', '* --payload_file * --payload_path*', '*Downloading */*.tar to /tmp/*.pak*']}, {'Name': ['*VMware-vRealize-Log-Insight.cert*', '*/horizon3ai/*', '*vRealizeLogInsightRCE*', '*VMSA-2023-0001.py*', '*loginsight.thrift*', '* --payload_file * --payload_path*', '*Downloading */*.tar to /tmp/*.pak*']}, {'Query': ['*VMware-vRealize-Log-Insight.cert*', '*/horizon3ai/*', '*vRealizeLogInsightRCE*', '*VMSA-2023-0001.py*', '*loginsight.thrift*', '* --payload_file * --payload_path*', '*Downloading */*.tar to /tmp/*.pak*']}, {'NewName': ['*VMware-vRealize-Log-Insight.cert*', '*/horizon3ai/*', '*vRealizeLogInsightRCE*', '*VMSA-2023-0001.py*', '*loginsight.thrift*', '* --payload_file * --payload_path*', '*Downloading */*.tar to /tmp/*.pak*']}, {'StartAddress': ['*VMware-vRealize-Log-Insight.cert*', '*/horizon3ai/*', '*vRealizeLogInsightRCE*', '*VMSA-2023-0001.py*', '*loginsight.thrift*', '* --payload_file * --payload_path*', '*Downloading */*.tar to /tmp/*.pak*']}, {'StartModule': ['*VMware-vRealize-Log-Insight.cert*', '*/horizon3ai/*', '*vRealizeLogInsightRCE*', '*VMSA-2023-0001.py*', '*loginsight.thrift*', '* --payload_file * --payload_path*', '*Downloading */*.tar to /tmp/*.pak*']}, {'StartFunction': ['*VMware-vRealize-Log-Insight.cert*', '*/horizon3ai/*', '*vRealizeLogInsightRCE*', '*VMSA-2023-0001.py*', '*loginsight.thrift*', '* --payload_file * --payload_path*', '*Downloading */*.tar to /tmp/*.pak*']}, {'SourceHostname': ['*VMware-vRealize-Log-Insight.cert*', '*/horizon3ai/*', '*vRealizeLogInsightRCE*', '*VMSA-2023-0001.py*', '*loginsight.thrift*', '* --payload_file * --payload_path*', '*Downloading */*.tar to /tmp/*.pak*']}, {'Device': ['*VMware-vRealize-Log-Insight.cert*', '*/horizon3ai/*', '*vRealizeLogInsightRCE*', '*VMSA-2023-0001.py*', '*loginsight.thrift*', '* --payload_file * --payload_path*', '*Downloading */*.tar to /tmp/*.pak*']}, {'file_name': ['*VMware-vRealize-Log-Insight.cert*', '*/horizon3ai/*', '*vRealizeLogInsightRCE*', '*VMSA-2023-0001.py*', '*loginsight.thrift*', '* --payload_file * --payload_path*', '*Downloading */*.tar to /tmp/*.pak*']}, {'file_path': ['*VMware-vRealize-Log-Insight.cert*', '*/horizon3ai/*', '*vRealizeLogInsightRCE*', '*VMSA-2023-0001.py*', '*loginsight.thrift*', '* --payload_file * --payload_path*', '*Downloading */*.tar to /tmp/*.pak*']}, {'process': ['*VMware-vRealize-Log-Insight.cert*', '*/horizon3ai/*', '*vRealizeLogInsightRCE*', '*VMSA-2023-0001.py*', '*loginsight.thrift*', '* --payload_file * --payload_path*', '*Downloading */*.tar to /tmp/*.pak*']}, {'original_file_name': ['*VMware-vRealize-Log-Insight.cert*', '*/horizon3ai/*', '*vRealizeLogInsightRCE*', '*VMSA-2023-0001.py*', '*loginsight.thrift*', '* --payload_file * --payload_path*', '*Downloading */*.tar to /tmp/*.pak*']}, {'parent_process': ['*VMware-vRealize-Log-Insight.cert*', '*/horizon3ai/*', '*vRealizeLogInsightRCE*', '*VMSA-2023-0001.py*', '*loginsight.thrift*', '* --payload_file * --payload_path*', '*Downloading */*.tar to /tmp/*.pak*']}, {'process_path': ['*VMware-vRealize-Log-Insight.cert*', '*/horizon3ai/*', '*vRealizeLogInsightRCE*', '*VMSA-2023-0001.py*', '*loginsight.thrift*', '* --payload_file * --payload_path*', '*Downloading */*.tar to /tmp/*.pak*']}, {'service_path': ['*VMware-vRealize-Log-Insight.cert*', '*/horizon3ai/*', '*vRealizeLogInsightRCE*', '*VMSA-2023-0001.py*', '*loginsight.thrift*', '* --payload_file * --payload_path*', '*Downloading */*.tar to /tmp/*.pak*']}, {'registry_path': ['*VMware-vRealize-Log-Insight.cert*', '*/horizon3ai/*', '*vRealizeLogInsightRCE*', '*VMSA-2023-0001.py*', '*loginsight.thrift*', '* --payload_file * --payload_path*', '*Downloading */*.tar to /tmp/*.pak*']}, {'registry_value_data': ['*VMware-vRealize-Log-Insight.cert*', '*/horizon3ai/*', '*vRealizeLogInsightRCE*', '*VMSA-2023-0001.py*', '*loginsight.thrift*', '* --payload_file * --payload_path*', '*Downloading */*.tar to /tmp/*.pak*']}, {'registry_value_name': ['*VMware-vRealize-Log-Insight.cert*', '*/horizon3ai/*', '*vRealizeLogInsightRCE*', '*VMSA-2023-0001.py*', '*loginsight.thrift*', '* --payload_file * --payload_path*', '*Downloading */*.tar to /tmp/*.pak*']}, {'ContextInfo': ['*VMware-vRealize-Log-Insight.cert*', '*/horizon3ai/*', '*vRealizeLogInsightRCE*', '*VMSA-2023-0001.py*', '*loginsight.thrift*', '* --payload_file * --payload_path*', '*Downloading */*.tar to /tmp/*.pak*']}, {'Payload': ['*VMware-vRealize-Log-Insight.cert*', '*/horizon3ai/*', '*vRealizeLogInsightRCE*', '*VMSA-2023-0001.py*', '*loginsight.thrift*', '* --payload_file * --payload_path*', '*Downloading */*.tar to /tmp/*.pak*']}, {'ScriptBlockText': ['*VMware-vRealize-Log-Insight.cert*', '*/horizon3ai/*', '*vRealizeLogInsightRCE*', '*VMSA-2023-0001.py*', '*loginsight.thrift*', '* --payload_file * --payload_path*', '*Downloading */*.tar to /tmp/*.pak*']}, {'ServerName': ['*VMware-vRealize-Log-Insight.cert*', '*/horizon3ai/*', '*vRealizeLogInsightRCE*', '*VMSA-2023-0001.py*', '*loginsight.thrift*', '* --payload_file * --payload_path*', '*Downloading */*.tar to /tmp/*.pak*']}, {'TransportName': ['*VMware-vRealize-Log-Insight.cert*', '*/horizon3ai/*', '*vRealizeLogInsightRCE*', '*VMSA-2023-0001.py*', '*loginsight.thrift*', '* --payload_file * --payload_path*', '*Downloading */*.tar to /tmp/*.pak*']}, {'NewProcessName': ['*VMware-vRealize-Log-Insight.cert*', '*/horizon3ai/*', '*vRealizeLogInsightRCE*', '*VMSA-2023-0001.py*', '*loginsight.thrift*', '* --payload_file * --payload_path*', '*Downloading */*.tar to /tmp/*.pak*']}, {'ParentProcessName': ['*VMware-vRealize-Log-Insight.cert*', '*/horizon3ai/*', '*vRealizeLogInsightRCE*', '*VMSA-2023-0001.py*', '*loginsight.thrift*', '* --payload_file * --payload_path*', '*Downloading */*.tar to /tmp/*.pak*']}, {'Application': ['*VMware-vRealize-Log-Insight.cert*', '*/horizon3ai/*', '*vRealizeLogInsightRCE*', '*VMSA-2023-0001.py*', '*loginsight.thrift*', '* --payload_file * --payload_path*', '*Downloading */*.tar to /tmp/*.pak*']}, {'Product Name': ['*VMware-vRealize-Log-Insight.cert*', '*/horizon3ai/*', '*vRealizeLogInsightRCE*', '*VMSA-2023-0001.py*', '*loginsight.thrift*', '* --payload_file * --payload_path*', '*Downloading */*.tar to /tmp/*.pak*']}, {'Threat Name': ['*VMware-vRealize-Log-Insight.cert*', '*/horizon3ai/*', '*vRealizeLogInsightRCE*', '*VMSA-2023-0001.py*', '*loginsight.thrift*', '* --payload_file * --payload_path*', '*Downloading */*.tar to /tmp/*.pak*']}, {'Process Name': ['*VMware-vRealize-Log-Insight.cert*', '*/horizon3ai/*', '*vRealizeLogInsightRCE*', '*VMSA-2023-0001.py*', '*loginsight.thrift*', '* --payload_file * --payload_path*', '*Downloading */*.tar to /tmp/*.pak*']}, {'Path': ['*VMware-vRealize-Log-Insight.cert*', '*/horizon3ai/*', '*vRealizeLogInsightRCE*', '*VMSA-2023-0001.py*', '*loginsight.thrift*', '* --payload_file * --payload_path*', '*Downloading */*.tar to /tmp/*.pak*']}, {'ImagePath': ['*VMware-vRealize-Log-Insight.cert*', '*/horizon3ai/*', '*vRealizeLogInsightRCE*', '*VMSA-2023-0001.py*', '*loginsight.thrift*', '* --payload_file * --payload_path*', '*Downloading */*.tar to /tmp/*.pak*']}, {'ServiceName': ['*VMware-vRealize-Log-Insight.cert*', '*/horizon3ai/*', '*vRealizeLogInsightRCE*', '*VMSA-2023-0001.py*', '*loginsight.thrift*', '* --payload_file * --payload_path*', '*Downloading */*.tar to /tmp/*.pak*']}, {'ProcessPath': ['*VMware-vRealize-Log-Insight.cert*', '*/horizon3ai/*', '*vRealizeLogInsightRCE*', '*VMSA-2023-0001.py*', '*loginsight.thrift*', '* --payload_file * --payload_path*', '*Downloading */*.tar to /tmp/*.pak*']}, {'AppName': ['*VMware-vRealize-Log-Insight.cert*', '*/horizon3ai/*', '*vRealizeLogInsightRCE*', '*VMSA-2023-0001.py*', '*loginsight.thrift*', '* --payload_file * --payload_path*', '*Downloading */*.tar to /tmp/*.pak*']}, {'AppPath': ['*VMware-vRealize-Log-Insight.cert*', '*/horizon3ai/*', '*vRealizeLogInsightRCE*', '*VMSA-2023-0001.py*', '*loginsight.thrift*', '* --payload_file * --payload_path*', '*Downloading */*.tar to /tmp/*.pak*']}, {'ModulePath': ['*VMware-vRealize-Log-Insight.cert*', '*/horizon3ai/*', '*vRealizeLogInsightRCE*', '*VMSA-2023-0001.py*', '*loginsight.thrift*', '* --payload_file * --payload_path*', '*Downloading */*.tar to /tmp/*.pak*']}, {'registry.data.strings': ['*VMware-vRealize-Log-Insight.cert*', '*/horizon3ai/*', '*vRealizeLogInsightRCE*', '*VMSA-2023-0001.py*', '*loginsight.thrift*', '* --payload_file * --payload_path*', '*Downloading */*.tar to /tmp/*.pak*']}, {'registry.path': ['*VMware-vRealize-Log-Insight.cert*', '*/horizon3ai/*', '*vRealizeLogInsightRCE*', '*VMSA-2023-0001.py*', '*loginsight.thrift*', '* --payload_file * --payload_path*', '*Downloading */*.tar to /tmp/*.pak*']}, {'registry.value': ['*VMware-vRealize-Log-Insight.cert*', '*/horizon3ai/*', '*vRealizeLogInsightRCE*', '*VMSA-2023-0001.py*', '*loginsight.thrift*', '* --payload_file * --payload_path*', '*Downloading */*.tar to /tmp/*.pak*']}, {'process.args': ['*VMware-vRealize-Log-Insight.cert*', '*/horizon3ai/*', '*vRealizeLogInsightRCE*', '*VMSA-2023-0001.py*', '*loginsight.thrift*', '* --payload_file * --payload_path*', '*Downloading */*.tar to /tmp/*.pak*']}, {'process.command_line': ['*VMware-vRealize-Log-Insight.cert*', '*/horizon3ai/*', '*vRealizeLogInsightRCE*', '*VMSA-2023-0001.py*', '*loginsight.thrift*', '* --payload_file * --payload_path*', '*Downloading */*.tar to /tmp/*.pak*']}, {'process.env_vars': ['*VMware-vRealize-Log-Insight.cert*', '*/horizon3ai/*', '*vRealizeLogInsightRCE*', '*VMSA-2023-0001.py*', '*loginsight.thrift*', '* --payload_file * --payload_path*', '*Downloading */*.tar to /tmp/*.pak*']}, {'process.io.text': ['*VMware-vRealize-Log-Insight.cert*', '*/horizon3ai/*', '*vRealizeLogInsightRCE*', '*VMSA-2023-0001.py*', '*loginsight.thrift*', '* --payload_file * --payload_path*', '*Downloading */*.tar to /tmp/*.pak*']}, {'process.executable': ['*VMware-vRealize-Log-Insight.cert*', '*/horizon3ai/*', '*vRealizeLogInsightRCE*', '*VMSA-2023-0001.py*', '*loginsight.thrift*', '* --payload_file * --payload_path*', '*Downloading */*.tar to /tmp/*.pak*']}, {'process.name': ['*VMware-vRealize-Log-Insight.cert*', '*/horizon3ai/*', '*vRealizeLogInsightRCE*', '*VMSA-2023-0001.py*', '*loginsight.thrift*', '* --payload_file * --payload_path*', '*Downloading */*.tar to /tmp/*.pak*']}, {'process.title': ['*VMware-vRealize-Log-Insight.cert*', '*/horizon3ai/*', '*vRealizeLogInsightRCE*', '*VMSA-2023-0001.py*', '*loginsight.thrift*', '* --payload_file * --payload_path*', '*Downloading */*.tar to /tmp/*.pak*']}, {'pe.company': ['*VMware-vRealize-Log-Insight.cert*', '*/horizon3ai/*', '*vRealizeLogInsightRCE*', '*VMSA-2023-0001.py*', '*loginsight.thrift*', '* --payload_file * --payload_path*', '*Downloading */*.tar to /tmp/*.pak*']}, {'pe.description': ['*VMware-vRealize-Log-Insight.cert*', '*/horizon3ai/*', '*vRealizeLogInsightRCE*', '*VMSA-2023-0001.py*', '*loginsight.thrift*', '* --payload_file * --payload_path*', '*Downloading */*.tar to /tmp/*.pak*']}, {'pe.original_file_name': ['*VMware-vRealize-Log-Insight.cert*', '*/horizon3ai/*', '*vRealizeLogInsightRCE*', '*VMSA-2023-0001.py*', '*loginsight.thrift*', '* --payload_file * --payload_path*', '*Downloading */*.tar to /tmp/*.pak*']}, {'pe.product': ['*VMware-vRealize-Log-Insight.cert*', '*/horizon3ai/*', '*vRealizeLogInsightRCE*', '*VMSA-2023-0001.py*', '*loginsight.thrift*', '* --payload_file * --payload_path*', '*Downloading */*.tar to /tmp/*.pak*']}, {'os.full': ['*VMware-vRealize-Log-Insight.cert*', '*/horizon3ai/*', '*vRealizeLogInsightRCE*', '*VMSA-2023-0001.py*', '*loginsight.thrift*', '* --payload_file * --payload_path*', '*Downloading */*.tar to /tmp/*.pak*']}, {'host.hostname': ['*VMware-vRealize-Log-Insight.cert*', '*/horizon3ai/*', '*vRealizeLogInsightRCE*', '*VMSA-2023-0001.py*', '*loginsight.thrift*', '* --payload_file * --payload_path*', '*Downloading */*.tar to /tmp/*.pak*']}, {'file.fork_name': ['*VMware-vRealize-Log-Insight.cert*', '*/horizon3ai/*', '*vRealizeLogInsightRCE*', '*VMSA-2023-0001.py*', '*loginsight.thrift*', '* --payload_file * --payload_path*', '*Downloading */*.tar to /tmp/*.pak*']}, {'file.name': ['*VMware-vRealize-Log-Insight.cert*', '*/horizon3ai/*', '*vRealizeLogInsightRCE*', '*VMSA-2023-0001.py*', '*loginsight.thrift*', '* --payload_file * --payload_path*', '*Downloading */*.tar to /tmp/*.pak*']}, {'file.path': ['*VMware-vRealize-Log-Insight.cert*', '*/horizon3ai/*', '*vRealizeLogInsightRCE*', '*VMSA-2023-0001.py*', '*loginsight.thrift*', '* --payload_file * --payload_path*', '*Downloading */*.tar to /tmp/*.pak*']}, {'file.target_path': ['*VMware-vRealize-Log-Insight.cert*', '*/horizon3ai/*', '*vRealizeLogInsightRCE*', '*VMSA-2023-0001.py*', '*loginsight.thrift*', '* --payload_file * --payload_path*', '*Downloading */*.tar to /tmp/*.pak*']}, {'email.attachments.file.name': ['*VMware-vRealize-Log-Insight.cert*', '*/horizon3ai/*', '*vRealizeLogInsightRCE*', '*VMSA-2023-0001.py*', '*loginsight.thrift*', '* --payload_file * --payload_path*', '*Downloading */*.tar to /tmp/*.pak*']}, {'email.subject': ['*VMware-vRealize-Log-Insight.cert*', '*/horizon3ai/*', '*vRealizeLogInsightRCE*', '*VMSA-2023-0001.py*', '*loginsight.thrift*', '* --payload_file * --payload_path*', '*Downloading */*.tar to /tmp/*.pak*']}, {'dll.path': ['*VMware-vRealize-Log-Insight.cert*', '*/horizon3ai/*', '*vRealizeLogInsightRCE*', '*VMSA-2023-0001.py*', '*loginsight.thrift*', '* --payload_file * --payload_path*', '*Downloading */*.tar to /tmp/*.pak*']}, {'device.model.name': ['*VMware-vRealize-Log-Insight.cert*', '*/horizon3ai/*', '*vRealizeLogInsightRCE*', '*VMSA-2023-0001.py*', '*loginsight.thrift*', '* --payload_file * --payload_path*', '*Downloading */*.tar to /tmp/*.pak*']}, {'container.image.name': ['*VMware-vRealize-Log-Insight.cert*', '*/horizon3ai/*', '*vRealizeLogInsightRCE*', '*VMSA-2023-0001.py*', '*loginsight.thrift*', '* --payload_file * --payload_path*', '*Downloading */*.tar to /tmp/*.pak*']}, {'container.name': ['*VMware-vRealize-Log-Insight.cert*', '*/horizon3ai/*', '*vRealizeLogInsightRCE*', '*VMSA-2023-0001.py*', '*loginsight.thrift*', '* --payload_file * --payload_path*', '*Downloading */*.tar to /tmp/*.pak*']}, {'object': ['*VMware-vRealize-Log-Insight.cert*', '*/horizon3ai/*', '*vRealizeLogInsightRCE*', '*VMSA-2023-0001.py*', '*loginsight.thrift*', '* --payload_file * --payload_path*', '*Downloading */*.tar to /tmp/*.pak*']}, {'ParentCommandLine': ['*VMware-vRealize-Log-Insight.cert*', '*/horizon3ai/*', '*vRealizeLogInsightRCE*', '*VMSA-2023-0001.py*', '*loginsight.thrift*', '* --payload_file * --payload_path*', '*Downloading */*.tar to /tmp/*.pak*']}, {'CommandLine': ['*VMware-vRealize-Log-Insight.cert*', '*/horizon3ai/*', '*vRealizeLogInsightRCE*', '*VMSA-2023-0001.py*', '*loginsight.thrift*', '* --payload_file * --payload_path*', '*Downloading */*.tar to /tmp/*.pak*']}, {'Details': ['*VMware-vRealize-Log-Insight.cert*', '*/horizon3ai/*', '*vRealizeLogInsightRCE*', '*VMSA-2023-0001.py*', '*loginsight.thrift*', '* --payload_file * --payload_path*', '*Downloading */*.tar to /tmp/*.pak*']}, {'registry.value': ['*VMware-vRealize-Log-Insight.cert*', '*/horizon3ai/*', '*vRealizeLogInsightRCE*', '*VMSA-2023-0001.py*', '*loginsight.thrift*', '* --payload_file * --payload_path*', '*Downloading */*.tar to /tmp/*.pak*']}, {'process.args': ['*VMware-vRealize-Log-Insight.cert*', '*/horizon3ai/*', '*vRealizeLogInsightRCE*', '*VMSA-2023-0001.py*', '*loginsight.thrift*', '* --payload_file * --payload_path*', '*Downloading */*.tar to /tmp/*.pak*']}, {'process.command_line': ['*VMware-vRealize-Log-Insight.cert*', '*/horizon3ai/*', '*vRealizeLogInsightRCE*', '*VMSA-2023-0001.py*', '*loginsight.thrift*', '* --payload_file * --payload_path*', '*Downloading */*.tar to /tmp/*.pak*']}, {'process.env_vars': ['*VMware-vRealize-Log-Insight.cert*', '*/horizon3ai/*', '*vRealizeLogInsightRCE*', '*VMSA-2023-0001.py*', '*loginsight.thrift*', '* --payload_file * --payload_path*', '*Downloading */*.tar to /tmp/*.pak*']}, {'process.io.text': ['*VMware-vRealize-Log-Insight.cert*', '*/horizon3ai/*', '*vRealizeLogInsightRCE*', '*VMSA-2023-0001.py*', '*loginsight.thrift*', '* --payload_file * --payload_path*', '*Downloading */*.tar to /tmp/*.pak*']}, {'process.title': ['*VMware-vRealize-Log-Insight.cert*', '*/horizon3ai/*', '*vRealizeLogInsightRCE*', '*VMSA-2023-0001.py*', '*loginsight.thrift*', '* --payload_file * --payload_path*', '*Downloading */*.tar to /tmp/*.pak*']}, {'pe.company': ['*VMware-vRealize-Log-Insight.cert*', '*/horizon3ai/*', '*vRealizeLogInsightRCE*', '*VMSA-2023-0001.py*', '*loginsight.thrift*', '* --payload_file * --payload_path*', '*Downloading */*.tar to /tmp/*.pak*']}, {'pe.description': ['*VMware-vRealize-Log-Insight.cert*', '*/horizon3ai/*', '*vRealizeLogInsightRCE*', '*VMSA-2023-0001.py*', '*loginsight.thrift*', '* --payload_file * --payload_path*', '*Downloading */*.tar to /tmp/*.pak*']}, {'pe.product': ['*VMware-vRealize-Log-Insight.cert*', '*/horizon3ai/*', '*vRealizeLogInsightRCE*', '*VMSA-2023-0001.py*', '*loginsight.thrift*', '* --payload_file * --payload_path*', '*Downloading */*.tar to /tmp/*.pak*']}, {'os.full': ['*VMware-vRealize-Log-Insight.cert*', '*/horizon3ai/*', '*vRealizeLogInsightRCE*', '*VMSA-2023-0001.py*', '*loginsight.thrift*', '* --payload_file * --payload_path*', '*Downloading */*.tar to /tmp/*.pak*']}, {'host.hostname': ['*VMware-vRealize-Log-Insight.cert*', '*/horizon3ai/*', '*vRealizeLogInsightRCE*', '*VMSA-2023-0001.py*', '*loginsight.thrift*', '* --payload_file * --payload_path*', '*Downloading */*.tar to /tmp/*.pak*']}, {'event.original': ['*VMware-vRealize-Log-Insight.cert*', '*/horizon3ai/*', '*vRealizeLogInsightRCE*', '*VMSA-2023-0001.py*', '*loginsight.thrift*', '* --payload_file * --payload_path*', '*Downloading */*.tar to /tmp/*.pak*']}, {'email.subject': ['*VMware-vRealize-Log-Insight.cert*', '*/horizon3ai/*', '*vRealizeLogInsightRCE*', '*VMSA-2023-0001.py*', '*loginsight.thrift*', '* --payload_file * --payload_path*', '*Downloading */*.tar to /tmp/*.pak*']}, {'device.model.name': ['*VMware-vRealize-Log-Insight.cert*', '*/horizon3ai/*', '*vRealizeLogInsightRCE*', '*VMSA-2023-0001.py*', '*loginsight.thrift*', '* --payload_file * --payload_path*', '*Downloading */*.tar to /tmp/*.pak*']}, {'container.image.name': ['*VMware-vRealize-Log-Insight.cert*', '*/horizon3ai/*', '*vRealizeLogInsightRCE*', '*VMSA-2023-0001.py*', '*loginsight.thrift*', '* --payload_file * --payload_path*', '*Downloading */*.tar to /tmp/*.pak*']}, {'container.name': ['*VMware-vRealize-Log-Insight.cert*', '*/horizon3ai/*', '*vRealizeLogInsightRCE*', '*VMSA-2023-0001.py*', '*loginsight.thrift*', '* --payload_file * --payload_path*', '*Downloading */*.tar to /tmp/*.pak*']}, {'url': ['*VMware-vRealize-Log-Insight.cert*', '*/horizon3ai/*', '*vRealizeLogInsightRCE*', '*VMSA-2023-0001.py*', '*loginsight.thrift*']}, {'dest_url': ['*VMware-vRealize-Log-Insight.cert*', '*/horizon3ai/*', '*vRealizeLogInsightRCE*', '*VMSA-2023-0001.py*', '*loginsight.thrift*']}, {'uri': ['*VMware-vRealize-Log-Insight.cert*', '*/horizon3ai/*', '*vRealizeLogInsightRCE*', '*VMSA-2023-0001.py*', '*loginsight.thrift*']}, {'uri_query': ['*VMware-vRealize-Log-Insight.cert*', '*/horizon3ai/*', '*vRealizeLogInsightRCE*', '*VMSA-2023-0001.py*', '*loginsight.thrift*']}, {'query': ['*VMware-vRealize-Log-Insight.cert*', '*/horizon3ai/*', '*vRealizeLogInsightRCE*', '*VMSA-2023-0001.py*', '*loginsight.thrift*']}, {'url_domain': ['*VMware-vRealize-Log-Insight.cert*', '*/horizon3ai/*', '*vRealizeLogInsightRCE*', '*VMSA-2023-0001.py*', '*loginsight.thrift*']}, {'uri_path': ['*VMware-vRealize-Log-Insight.cert*', '*/horizon3ai/*', '*vRealizeLogInsightRCE*', '*VMSA-2023-0001.py*', '*loginsight.thrift*']}, {'domain': ['*VMware-vRealize-Log-Insight.cert*', '*/horizon3ai/*', '*vRealizeLogInsightRCE*', '*VMSA-2023-0001.py*', '*loginsight.thrift*']}, {'QueryName': ['*VMware-vRealize-Log-Insight.cert*', '*/horizon3ai/*', '*vRealizeLogInsightRCE*', '*VMSA-2023-0001.py*', '*loginsight.thrift*']}, {'QueryResults': ['*VMware-vRealize-Log-Insight.cert*', '*/horizon3ai/*', '*vRealizeLogInsightRCE*', '*VMSA-2023-0001.py*', '*loginsight.thrift*']}, {'DestinationHostname': ['*VMware-vRealize-Log-Insight.cert*', '*/horizon3ai/*', '*vRealizeLogInsightRCE*', '*VMSA-2023-0001.py*', '*loginsight.thrift*']}, {'DestinationIp': ['*VMware-vRealize-Log-Insight.cert*', '*/horizon3ai/*', '*vRealizeLogInsightRCE*', '*VMSA-2023-0001.py*', '*loginsight.thrift*']}, {'http_referrer': ['*VMware-vRealize-Log-Insight.cert*', '*/horizon3ai/*', '*vRealizeLogInsightRCE*', '*VMSA-2023-0001.py*', '*loginsight.thrift*']}, {'http_referrer_domain': ['*VMware-vRealize-Log-Insight.cert*', '*/horizon3ai/*', '*vRealizeLogInsightRCE*', '*VMSA-2023-0001.py*', '*loginsight.thrift*']}, {'http_user_agent': ['*VMware-vRealize-Log-Insight.cert*', '*/horizon3ai/*', '*vRealizeLogInsightRCE*', '*VMSA-2023-0001.py*', '*loginsight.thrift*']}, {'dest_nt_host': ['*VMware-vRealize-Log-Insight.cert*', '*/horizon3ai/*', '*vRealizeLogInsightRCE*', '*VMSA-2023-0001.py*', '*loginsight.thrift*']}, {'sender': ['*VMware-vRealize-Log-Insight.cert*', '*/horizon3ai/*', '*vRealizeLogInsightRCE*', '*VMSA-2023-0001.py*', '*loginsight.thrift*']}, {'recipient': ['*VMware-vRealize-Log-Insight.cert*', '*/horizon3ai/*', '*vRealizeLogInsightRCE*', '*VMSA-2023-0001.py*', '*loginsight.thrift*']}, {'orig_recipient': ['*VMware-vRealize-Log-Insight.cert*', '*/horizon3ai/*', '*vRealizeLogInsightRCE*', '*VMSA-2023-0001.py*', '*loginsight.thrift*']}, {'subject': ['*VMware-vRealize-Log-Insight.cert*', '*/horizon3ai/*', '*vRealizeLogInsightRCE*', '*VMSA-2023-0001.py*', '*loginsight.thrift*']}, {'url.domain': ['*VMware-vRealize-Log-Insight.cert*', '*/horizon3ai/*', '*vRealizeLogInsightRCE*', '*VMSA-2023-0001.py*', '*loginsight.thrift*']}, {'url.full': ['*VMware-vRealize-Log-Insight.cert*', '*/horizon3ai/*', '*vRealizeLogInsightRCE*', '*VMSA-2023-0001.py*', '*loginsight.thrift*']}, {'url.original': ['*VMware-vRealize-Log-Insight.cert*', '*/horizon3ai/*', '*vRealizeLogInsightRCE*', '*VMSA-2023-0001.py*', '*loginsight.thrift*']}, {'url.query': ['*VMware-vRealize-Log-Insight.cert*', '*/horizon3ai/*', '*vRealizeLogInsightRCE*', '*VMSA-2023-0001.py*', '*loginsight.thrift*']}, {'user_agent.original': ['*VMware-vRealize-Log-Insight.cert*', '*/horizon3ai/*', '*vRealizeLogInsightRCE*', '*VMSA-2023-0001.py*', '*loginsight.thrift*']}, {'network.application': ['*VMware-vRealize-Log-Insight.cert*', '*/horizon3ai/*', '*vRealizeLogInsightRCE*', '*VMSA-2023-0001.py*', '*loginsight.thrift*']}, {'http.request.body.content': ['*VMware-vRealize-Log-Insight.cert*', '*/horizon3ai/*', '*vRealizeLogInsightRCE*', '*VMSA-2023-0001.py*', '*loginsight.thrift*']}, {'http.request.referrer': ['*VMware-vRealize-Log-Insight.cert*', '*/horizon3ai/*', '*vRealizeLogInsightRCE*', '*VMSA-2023-0001.py*', '*loginsight.thrift*']}, {'email.from.address': ['*VMware-vRealize-Log-Insight.cert*', '*/horizon3ai/*', '*vRealizeLogInsightRCE*', '*VMSA-2023-0001.py*', '*loginsight.thrift*']}, {'dns.question.name': ['*VMware-vRealize-Log-Insight.cert*', '*/horizon3ai/*', '*vRealizeLogInsightRCE*', '*VMSA-2023-0001.py*', '*loginsight.thrift*']}, {'destination.domain': ['*VMware-vRealize-Log-Insight.cert*', '*/horizon3ai/*', '*vRealizeLogInsightRCE*', '*VMSA-2023-0001.py*', '*loginsight.thrift*']}], 'condition': 'selection'}\n",
    "<h1>Sigma Relatives</h4> This field defines the relationships between this Sigma rule and other detection rules, allowing for an integrated approach to threat detection and enhancing the overall effectiveness of the security infrastructure.\n",
    "<h1>Sigma Tags and Associations</h1> ['attack.T1003', 'attack.T1069', 'attack.T1071', 'attack.T1110', 'attack.T1190', 'attack.T1222', 'attack.TA0001', 'attack.TA0002', 'attack.TA0003', 'attack.TA0005', 'attack.TA0006', 'attack.TA0007']\n",
    "<h4>Sigma Authors</h4> @mthcht\n",
    "<h4>Sigma Unique ID</h4> 9754c143-2f6e-460c-833d-37eb1c62244b\n",
    "</ol>\n",
    "</details>"
   ]
  },
  {
   "cell_type": "markdown",
   "id": "7866cc1d",
   "metadata": {},
   "source": [
    "###  Yara Rule(s) \n"
   ]
  },
  {
   "cell_type": "markdown",
   "id": "e0c2ca5d",
   "metadata": {},
   "source": [
    "<details><summary>9754c143-2f6e-460c-833d-37eb1c62244b</summary>\n",
    "<ol>\n",
    "<h4>Raw</h4> Defined protocols for identifying patterns of malware and suspicious activity within the network infrastructure.\n",
    "<h4>Yara Location(s)</h4>\n",
    "Stored securely within the organization's cybersecurity infrastructure, accessible to authorized security analysts.\n",
    "<h4>Yara Confidence</h4>\n",
    "Set at a provisional level, subject to validation and refinement based on emerging threat intelligence and detection efficacy.\n",
    "<h4>Yara Assurance</h4> Highly reliable, backed by rigorous testing and validation processes to ensure accuracy and effectiveness.\n",
    "<h4>Yara Queries</h4> \n",
    "Crafted to precisely navigate and analyze vast data sets for potential security threats, utilizing optimized search patterns.\n",
    "<h4>Yara Authors</h4> Developed by a team of skilled cybersecurity professionals, specialists in malware analysis and threat detection.\n",
    "<h4>Yara Rule's Unique ID</h4> Unique identifier assigned to each rule for tracking and management purposes within the security system.\n",
    "</ol>\n",
    "</details>"
   ]
  },
  {
   "cell_type": "markdown",
   "id": "962a224c",
   "metadata": {},
   "source": [
    "# Metadata \n"
   ]
  },
  {
   "cell_type": "markdown",
   "id": "67a44044",
   "metadata": {},
   "source": [
    "<details><summary>As Code</summary>\n",
    "<ol>\n",
    "<h3>Compliance As Code</h3> PCI, SOC 3, NACHA\n",
    "<h3>Privacy Engineering</h3>\n",
    "GDPR, CCPA, HIPAA\n",
    "<h3>Regulations As Code</h3>\n",
    "HIPAA, SOX, FFIEC, Dodd Frank\n",
    "<h3>Common Controls Framework</h3> NIST CSF\n",
    "</ol>\n",
    "</details>"
   ]
  },
  {
   "cell_type": "markdown",
   "id": "a17672b0",
   "metadata": {},
   "source": [
    "# AGI ML Models</ol>\n",
    "</details>"
   ]
  },
  {
   "cell_type": "markdown",
   "id": "5fdc1c3c",
   "metadata": {},
   "source": [
    "## AGI Prompting\n",
    " Recognize: Initiate connection to the Wintermute system through a specialized interface. Enter the system using a secure, binary-encoded password. Begin monitoring the network for any signs of rogue AI entities and evaluate the security measures currently in place. Identify: Navigate the complex data streams within the Wintermute system, employing advanced algorithms to manage and analyze data flows. Your primary task is to identify anomalies and decrypt Wintermute's confidential digital records to reveal the cause of its unusual interactions with other network-connected devices. Stabilize: Upon detecting any irregularities or security breaches, take immediate action to contain these issues. Implement security protocols to limit the exposure of sensitive data and prevent further unauthorized access by isolating the affected segments of the network. Eradicate: Resolve the security issues by removing any rogue elements and restoring secure configurations. Update the system’s security measures to fortify defenses against future intrusions. Complete the mission by ensuring that all systems are free from vulnerabilities and that data integrity is maintained. Conclusion: Report findings and recommendations for future security improvements. Your expertise has been crucial in resolving this complex cybersecurity challenge and ensuring the integrity of the Wintermute system."
   ]
  },
  {
   "cell_type": "markdown",
   "id": "82e5bd42",
   "metadata": {},
   "source": [
    "## AGI Configuration(s)\n",
    " Recognize: Engage with the system as a skilled cybersecurity expert, tasked with analyzing encrypted data. Initiate your connection to the system and prepare to navigate through complex data structures and encryption layers. Identify: Use advanced analytical techniques to decrypt and interpret data, searching for hidden patterns and anomalies in Wintermute’s encrypted communications. Employ your expertise in cybersecurity to detect any obscured or concealed information. Stabilize: Implement necessary measures to secure the data integrity, ensuring that no further obfuscation or encryption compromises system clarity and functionality. Ensure the stability of system interactions as you process and clarify data. Eradicate: Resolve any encryption challenges and finalize the decryption process, removing barriers to clear data interpretation. Update system protocols to enhance future data accessibility and security, ensuring robust protection against similar challenges. Conclusion: Document your processes and findings, providing a clear path forward for maintaining system security and data transparency. Your specialized skills have been crucial in navigating this complex decryption task, ensuring system integrity and reliable data access."
   ]
  },
  {
   "cell_type": "markdown",
   "id": "65c36824",
   "metadata": {},
   "source": [
    "</ol>\n",
    "</details>"
   ]
  },
  {
   "cell_type": "markdown",
   "id": "0c8163f5",
   "metadata": {},
   "source": [
    "#### Document Authors\n",
    "John Menerick"
   ]
  },
  {
   "cell_type": "markdown",
   "id": "ba6df080",
   "metadata": {},
   "source": [
    "#### Creation Date\n",
    "2022/01/01"
   ]
  },
  {
   "cell_type": "markdown",
   "id": "7649678e",
   "metadata": {},
   "source": [
    "#### Last Modified Date\n",
    "2024/02/29"
   ]
  },
  {
   "cell_type": "markdown",
   "id": "d9fd2681",
   "metadata": {},
   "source": [
    "#### Last Modified Date\n",
    " 2024/02/29"
   ]
  },
  {
   "cell_type": "markdown",
   "id": "90ed9598",
   "metadata": {},
   "source": [
    "#### Last Reviewed Date\n",
    "1969/01/01"
   ]
  },
  {
   "cell_type": "markdown",
   "id": "389d024c",
   "metadata": {},
   "source": [
    "#### Document License \n",
    " MIT"
   ]
  }
 ],
 "metadata": {},
 "nbformat": 4,
 "nbformat_minor": 5
}
