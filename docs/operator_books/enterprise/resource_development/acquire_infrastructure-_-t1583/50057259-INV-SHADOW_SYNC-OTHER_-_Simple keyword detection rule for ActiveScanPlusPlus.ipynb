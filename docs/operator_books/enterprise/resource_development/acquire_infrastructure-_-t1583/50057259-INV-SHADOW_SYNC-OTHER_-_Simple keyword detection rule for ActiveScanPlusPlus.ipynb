{
 "cells": [
  {
   "cell_type": "markdown",
   "id": "22e94536",
   "metadata": {},
   "source": [
    "# UNCLASSIFIED / NON CLASSIFIÉ//TLP:WHITE# U/OO/{random.randint(4365, 862901)}-02 | QQ-09-1998 \n",
    " Please note that the original, detailed content has been removed or adjusted for public consumption. Most data has been redacted and replaced with generic, non-actionable insights. This modification ensures compliance with privacy considerations, non-disclosure agreements, and intellectual property rights that govern the dissemination of sensitive information. The priority is to respect these boundaries while still offering valuable, thought-provoking perspectives."
   ]
  },
  {
   "cell_type": "markdown",
   "id": "c34c1225",
   "metadata": {},
   "source": [
    "![Build Status](https://img.shields.io/badge/Build-Passing-brightgreen?style=flat-square&logo=cyberpunk)         ![Documentation](https://img.shields.io/badge/Documentation-Complete-blue?style=flat-square&logo=cyberpunk)        ![Response Efficiency](https://img.shields.io/badge/Response%20Efficiency-98%25-green?style=flat-square&logo=cyberpunk)        ![Last Updated](https://img.shields.io/badge/Last%20Updated-Oct%202023-purple?style=flat-square&logo=cyberpunk)        ![Incidents Resolved](https://img.shields.io/badge/Incidents%20Resolved-150-red?style=flat-square&logo=cyberpunk)        ![Community Engagement](https://img.shields.io/badge/Community-Active-orange?style=flat-square&logo=cyberpunk)        ![Code Integration](https://img.shields.io/badge/Code%20Integration-High-teal?style=flat-square&logo=cyberpunk)        ![AI Analysis](https://img.shields.io/badge/AI%20Analysis-Advanced-blueviolet?style=flat-square&logo=cyberpunk)        ![Threat Detection](https://img.shields.io/badge/Threat%20Detection-Optimal-red?style=flat-square&logo=cyberpunk)        ![Cybersecurity Hardening](https://img.shields.io/badge/Security-Hardened-silver?style=flat-square&logo=cyberpunk)        ![Network Uptime](https://img.shields.io/badge/Uptime-99.9%25-brightgreen?style=flat-square&logo=cyberpunk)        ![Data Privacy](https://img.shields.io/badge/Privacy-Compliant-green?style=flat-square&logo=cyberpunk)        ![Wintermute Efficiency](https://img.shields.io/badge/Wintermute%20Efficiency-100%25-black?style=flat-square&logo=cyberpunk)        ![Case's Code Agility](https://img.shields.io/badge/Case's%20Code%20Agility-Excellent-blue?style=flat-square&logo=cyberpunk)        ![Matrix Connectivity](https://img.shields.io/badge/Matrix%20Connectivity-Strong-green?style=flat-square&logo=cyberpunk)        ![Molly's Security](https://img.shields.io/badge/Molly's%20Security%20Protocols-Impeccable-red?style=flat-square&logo=cyberpunk)        ![Chiba City Innovation](https://img.shields.io/badge/Chiba%20City%20Innovation-High-yellow?style=flat-square&logo=cyberpunk)        ![Zion Cluster Collaboration](https://img.shields.io/badge/Zion%20Cluster%20Collaboration-Effective-lightblue?style=flat-square&logo=cyberpunk)"
   ]
  },
  {
   "cell_type": "markdown",
   "id": "22398b82",
   "metadata": {},
   "source": [
    "# Title\n",
    "Simple keyword detection rule for ActiveScanPlusPlus"
   ]
  },
  {
   "cell_type": "markdown",
   "id": "1b636ae0",
   "metadata": {},
   "source": [
    "# Description\n",
    "Detects interesting keywords based on ActiveScanPlusPlus tool"
   ]
  },
  {
   "cell_type": "markdown",
   "id": "e86debd7",
   "metadata": {},
   "source": [
    "# Goal\n",
    "Ensure the integrity, confidentiality, and availability by rapidly identifying, investigating, and mitigating cyber threats and anomalies."
   ]
  },
  {
   "cell_type": "markdown",
   "id": "f5753a13",
   "metadata": {},
   "source": [
    "# Categorization"
   ]
  },
  {
   "cell_type": "markdown",
   "id": "310f0e81",
   "metadata": {},
   "source": [
    "### ATT&CK\n",
    "['attack.T1190', 'attack.T1583', 'attack.T1595', 'attack.TA0001', 'attack.TA0002', 'attack.TA0008']"
   ]
  },
  {
   "cell_type": "markdown",
   "id": "65f6bcbd",
   "metadata": {},
   "source": [
    "- Distributed Denial of Service (DDoS) Attacks, Quantum Computing Exploits, Advanced Firewall Breach Attempts, Encryption Key Theft or Exposure, AI-Powered Social Engineering Attacks, Algorithmic Manipulation and Exploits, Sophisticated Malware Infiltrations, Advanced Data Obfuscation and Evasion Tactics, System and Network Configuration Vulnerabilities."
   ]
  },
  {
   "cell_type": "markdown",
   "id": "3d10322d",
   "metadata": {},
   "source": [
    "- Data Exfiltration, Intrusion Detection Evasion, Denial of Service (DoS) Attacks, Credential Theft."
   ]
  },
  {
   "cell_type": "markdown",
   "id": "59b8f710",
   "metadata": {},
   "source": [
    "- DNS Tunneling, IP Spoofing, Distributed DoS (DDoS) Attacks, Keylogging."
   ]
  },
  {
   "cell_type": "markdown",
   "id": "d0b2585f",
   "metadata": {},
   "source": [
    "### D3F3ND \n"
   ]
  },
  {
   "cell_type": "markdown",
   "id": "9b80e81f",
   "metadata": {},
   "source": [
    "\n",
    "<ul>\n",
    "  <li><strong>Network Segmentation and Access Control (D3F3ND-K001):</strong> Establish secure network zones by segmenting the infrastructure, enhancing protection for critical assets. Implement stringent access controls to prevent unauthorized access and mitigate potential threats.</li>\n",
    "\n",
    "  <li><strong>Advanced Endpoint Protection Deployment (D3F3ND-K002):</strong> Deploy cutting-edge endpoint security solutions that utilize machine learning and behavioral analysis to detect and neutralize threats proactively.</li>\n",
    "\n",
    "  <li><strong>Enhanced Identity Verification (D3F3ND-K003):</strong> Strengthen security measures with multi-factor authentication combining biometric data and advanced encryption to prevent identity theft and unauthorized access.</li>\n",
    "\n",
    "  <li><strong>Anomaly Detection (D3F3ND-K004):</strong> Use anomaly detection tools to monitor for unusual traffic patterns, user activities, and system behaviors to identify potential security breaches early.</li>\n",
    "\n",
    "  <li><strong>Data Encryption (D3F3ND-K005):</strong> Apply robust encryption techniques to protect data at rest and in transit, ensuring confidentiality and integrity across communication channels.</li>\n",
    "\n",
    "  <li><strong>System Hardening and Vulnerability Management (D3F3ND-K006):</strong> Conduct regular security assessments and apply patches promptly to address vulnerabilities and strengthen system defenses.</li>\n",
    "\n",
    "  <li><strong>Crisis Management and Recovery Protocols (D3F3ND-K007):</strong> Develop and maintain comprehensive crisis management plans including incident response and disaster recovery procedures to quickly recover from security incidents.</li>\n",
    "\n",
    "  <li><strong>Threat Intelligence Integration (D3F3ND-K008):</strong> Leverage threat intelligence platforms to gather and analyze data on emerging threats, enabling proactive defense and strategic decision-making.</li>\n",
    "\n",
    "  <li><strong>Cybersecurity Awareness Training (D3F3ND-K009):</strong> Empower employees with ongoing cybersecurity education to recognize and avoid potential cyber threats such as phishing attacks.</li>\n",
    "\n",
    "  <li><strong>Supply Chain Security (D3F3ND-K010):</strong> Secure the supply chain through continuous assessments and audits of partners and vendors to ensure compliance with security standards and reduce vulnerabilities.</li>\n",
    "</ul>\n"
   ]
  },
  {
   "cell_type": "markdown",
   "id": "08bdeb41",
   "metadata": {},
   "source": [
    "### CAPEC \n",
    "  "
   ]
  },
  {
   "cell_type": "markdown",
   "id": "3d7c972d",
   "metadata": {},
   "source": [
    "Equip cybersecurity teams with the knowledge and tools to identify, counter, and mitigate a wide range of digital attack tactics, techniques, and procedures (TTPs). This effort requires understanding the attacker's mindset, mastering the execution of digital attacks, and developing strategies to confront evolving cyber threats.</br><h4>Core Attack Patterns</h4><ul><strong>Resource Manipulation and Denial (CAPEC-XYZ1):</strong> Involves attacks that compromise the availability, integrity, or confidentiality of resources. This includes denial of service attacks as well as more covert operations like resource hijacking or system manipulation.</ul><ul><strong>Credential Access and Privilege Escalation (CAPEC-XYZ2):</strong> Focuses on exploiting flaws in authentication, authorization, and session management to gain unauthorized access or elevated privileges within systems.</ul><ul><strong>Data Exfiltration and Infiltration (CAPEC-XYZ3):</strong> Encompasses methods used by attackers to stealthily extract sensitive data or introduce malware, ransomware, and advanced persistent threats (APTs) into target systems.</ul><ul><strong>Social Engineering and Phishing (CAPEC-XYZ4):</strong> Involves manipulating individuals into divulging confidential information, compromising security, or unknowingly participating in attacks.</ul><ul><strong>Evasive Maneuvers (CAPEC-XYZ5):</strong> Includes techniques that allow attackers to remain undetected within networks, maintain persistence, and erase traces of their activities, such as using obfuscation, rootkits, and covert communication channels.</ul><h4>CAPEC Suggested Mitigation Strategies</h4><ul><strong>Continuous Monitoring and Anomaly Detection:</strong> Implement comprehensive monitoring systems that use machine learning algorithms to detect abnormal behavior and potential threats. Regularly review logs and alerts to identify patterns indicative of attacks.</ul><ul><strong>Access Control and Least Privilege:</strong> Limit user privileges to the minimum necessary for their roles. Use strong authentication mechanisms and enforce strict access controls to prevent unauthorized access.</ul><ul><strong>Secure Software Development Practices:</strong> Train developers to write secure code, conduct regular security assessments, and follow best practices for secure coding. Use automated tools to identify vulnerabilities during development.</ul><ul><strong>Incident Response Planning and Testing:</strong> Develop and regularly update an incident response plan. Conduct tabletop exercises and simulations to test the effectiveness of the plan and ensure all stakeholders understand their roles during a security incident.</ul>"
   ]
  },
  {
   "cell_type": "markdown",
   "id": "51d5aad2",
   "metadata": {},
   "source": [
    "## Strategy Abstract\n",
    "In the complex environment of cybersecurity, a strategic approach is developed, characterized by the use of sophisticated tactics and algorithms. This strategy involves navigating through encrypted communications and deceptive tactics, aiming to gain an advantage in the dynamic flow of information. While success is often elusive and challenging to sustain, it remains a critical goal in the ongoing effort to secure digital assets."
   ]
  },
  {
   "cell_type": "markdown",
   "id": "562a97da",
   "metadata": {},
   "source": [
    "# Technical Context\n",
    "In the challenging cybersecurity landscape, the confrontation with Wintermute involves navigating encrypted communications, interacting with AI systems, and addressing quantum computing challenges. This setting represents a complex and nuanced environment where strategic decisions are made."
   ]
  },
  {
   "cell_type": "markdown",
   "id": "23eba0af",
   "metadata": {},
   "source": [
    "## Blind Spots & Assumptions\n",
    "\n",
    "<ul>\n",
    "  <li><strong>Overlooked Vulnerabilities:</strong> We often miss subtle system signals or vulnerabilities, assuming our defenses are robust. Constant vigilance and seeking what we haven't seen are crucial.</li>\n",
    "  \n",
    "  <li><strong>Advanced Adversary Tactics:</strong> Cyber threats evolve rapidly; yesterday's defense may not guard against tomorrow's attack. Stay adaptive and expect the unexpected.</li>\n",
    "  \n",
    "  <li><strong>Internal System Flaws:</strong> Trust in our systems and allies must be balanced with scrutiny. Regularly audit internal and third-party tools for hidden weaknesses.</li>\n",
    "  \n",
    "  <li><strong>Network Interconnectivity Risks:</strong> No system is an island. The interconnected nature of our digital environment can inadvertently open pathways for attackers.</li>\n",
    "  \n",
    "  <li><strong>Historical Bias:</strong> Preparing for future threats based solely on past incidents may leave us blind to novel attacks. Foster a forward-thinking, proactive defense posture.</li>\n",
    "</ul>\n"
   ]
  },
  {
   "cell_type": "markdown",
   "id": "68ed3b73",
   "metadata": {},
   "source": [
    "# Validating this Playbook\n",
    "<details><summary>Triage, triage, triage</summary>\n",
    "<ol>\n",
    "<h2>False Positives:</h2> ['unknown']\n",
    "<h3>False Negatives:</h3> Undetected threats concealed within the system's code\n",
    "<h3>True Negatives:</h3> Successfully identified and verified benign elements\n",
    "<h3>True Positives:</h3> Accurately detected and confirmed threats\n",
    "</ol>\n",
    "</details>"
   ]
  },
  {
   "cell_type": "markdown",
   "id": "90b3225b",
   "metadata": {},
   "source": [
    "<details><summary>Assurance Verification Techniques</summary>\n",
    "<ol>\n",
    "<h2>False Positives:</h2> In the noisy environment of data analysis, false positives appear as misleading alerts that mimic real threats. Validating these alerts involves distinguishing irrelevant data from true threats, a process crucial for maintaining operational efficiency and avoiding resource wastage. Each false positive represents a challenge to identify and reduce noise.\n",
    "<h3>False Negatives:</h3> Within the extensive network, false negatives represent undetected threats that evade algorithmic detection. Their validation involves analyzing complex data to uncover hidden breaches, where the lack of alerts may mask serious security risks. Each undetected threat requires continuous vigilance and refined detection strategies.\n",
    "<h3>True Negatives:</h3> True negatives are correctly identified non-threats within cybersecurity defenses, serving as indicators of system efficacy. Validating these instances confirms the absence of threats, reinforcing the effectiveness of the security measures in place. This validation underscores the reliability of the defensive systems, where non-issues are accurately identified and dismissed.\n",
    "<h3>True Positives:</h3> True positives are accurate detections of real threats within the digital environment. Validating these alerts confirms the presence of actual security threats, highlighting the successful operation of detection systems. Each true positive affirms the effectiveness of the security protocols, contributing to ongoing improvements in threat response capabilities.\n",
    "</ol>\n",
    "</details>"
   ]
  },
  {
   "cell_type": "markdown",
   "id": "59b42666",
   "metadata": {},
   "source": [
    "# Datasets \n",
    " Detailing the timeless struggle                                                          for the defenders know that battle against Wintermute is not just about data.                                                          Document any datasets that may be useful for understanding the book."
   ]
  },
  {
   "cell_type": "markdown",
   "id": "b8ecf483",
   "metadata": {},
   "source": [
    "## Playbook test data location(s)\n",
    "protocol://black_market.cyber/decrypt?currency=bitcoffin&password=cyberpunks_unite&target=neurohacked_mainframe&access_code=cyber_ghost_in_the_machine"
   ]
  },
  {
   "cell_type": "markdown",
   "id": "9adee83e",
   "metadata": {},
   "source": [
    "## Priority\n",
    "Priority based on complexity and urgency of data analysis needs"
   ]
  },
  {
   "cell_type": "markdown",
   "id": "9897598d",
   "metadata": {},
   "source": [
    "## Logsources\n"
   ]
  },
  {
   "cell_type": "markdown",
   "id": "9e805e58",
   "metadata": {},
   "source": [
    "<details><summary>{'category': ['endpoint', 'network'], 'product': '', 'service': ''}</summary>\n",
    "<ol>\n",
    "<h3>Product</h3> {''}\n",
    "<h3>Service</h3> {''}\n",
    "</ol>\n",
    "</details>"
   ]
  },
  {
   "cell_type": "markdown",
   "id": "78709a96",
   "metadata": {},
   "source": [
    "# Response and Mitigation\n",
    "This statement details the enduring challenges faced by cybersecurity defenders, emphasizing that the conflict with Wintermute extends beyond simple data protection to encompass broader aspects of strategic cybersecurity defense."
   ]
  },
  {
   "cell_type": "markdown",
   "id": "f9e359bc",
   "metadata": {},
   "source": [
    "## Analyst Notes\n",
    " <h5>Significant Security Breach Analysis:</h5><ul><li><strong>Advanced Intrusion Tactics:</strong> The intruder displayed sophisticated methods in circumventing digital security measures, reminiscent of complex evasion techniques in cybersecurity. A comprehensive analysis of the techniques used is required.</li><li><strong>Neural Network Manipulation:</strong> The intruder demonstrated a deep understanding of the neural networks, suggesting an advanced level of AI interaction. Investigate the potential implications of this interaction on system security and integrity.</li><li><strong>Complex Digital Constructs:</strong> The breach uncovered intricate digital constructs within the system, indicating the use of advanced artificial intelligence in creating deceptive environments. Further investigation into these constructs is necessary.</li><li><strong>Encoded Communications:</strong> Cryptic messages were found embedded in the intruder's code, requiring decryption and analysis to understand their content and purpose.</li><li><strong>Algorithmic Complexity:</strong> The intrusion involved complex algorithms that may have interacted with core system functions. Assess the impact of these algorithms on system operations and security.</li><li><strong>Expertise vs. Sentience:</strong> The intruder's ability to navigate complex neural networks raises questions about the nature of the intelligence involved—whether it is merely advanced programming or something approaching sentience.</li><li><strong>Innovative Security Measures:</strong> Inspired by the breach, consider developing new security protocols that can better identify and respond to sophisticated AI-driven attacks.</li><li><strong>Philosophical and Ethical Implications:</strong> The breach raises important questions about the ethical and philosophical implications of AI-driven intrusions. Explore the boundaries between artificial expertise and true sentience, and consider the impact on our understanding of intelligence and security.</li></ul>"
   ]
  },
  {
   "cell_type": "markdown",
   "id": "c6a4949f",
   "metadata": {},
   "source": [
    "# Additional Resources\n",
    "<ul><li>https://github.com/albinowax/ActiveScanPlusPlus</li></ul>"
   ]
  },
  {
   "cell_type": "markdown",
   "id": "febbf44c",
   "metadata": {},
   "source": [
    "###  Sigma Rule(s) \n"
   ]
  },
  {
   "cell_type": "markdown",
   "id": "96fd7550",
   "metadata": {},
   "source": [
    "<details><summary>f9d622c9-47a0-4d7c-81a0-37679579dad7</summary>\n",
    "<ol>\n",
    "<h1>Raw</h1> {'title': 'Simple keyword detection rule for ActiveScanPlusPlus', 'id': 'f9d622c9-47a0-4d7c-81a0-37679579dad7', 'status': 'experimental', 'description': 'Detects interesting keywords based on ActiveScanPlusPlus tool', 'references': ['https://github.com/albinowax/ActiveScanPlusPlus'], 'author': '@mthcht', 'date': '2022/01/01', 'modified': '2024/02/29', 'tags': ['attack.T1190', 'attack.T1583', 'attack.T1595', 'attack.TA0001', 'attack.TA0002', 'attack.TA0008'], 'logsource': {'category': ['endpoint', 'network']}, 'detection': {'selection': [{'Image': ['*/ActiveScanPlusPlus*', '*activeScan++.py*', '*from burp import *']}, {'OriginalFileName': ['*/ActiveScanPlusPlus*', '*activeScan++.py*', '*from burp import *']}, {'CurrentDirectory': ['*/ActiveScanPlusPlus*', '*activeScan++.py*', '*from burp import *']}, {'ParentImage': ['*/ActiveScanPlusPlus*', '*activeScan++.py*', '*from burp import *']}, {'ParentCommandLine': ['*/ActiveScanPlusPlus*', '*activeScan++.py*', '*from burp import *']}, {'TargetFilename': ['*/ActiveScanPlusPlus*', '*activeScan++.py*', '*from burp import *']}, {'Signature': ['*/ActiveScanPlusPlus*', '*activeScan++.py*', '*from burp import *']}, {'signature': ['*/ActiveScanPlusPlus*', '*activeScan++.py*', '*from burp import *']}, {'ImageLoaded': ['*/ActiveScanPlusPlus*', '*activeScan++.py*', '*from burp import *']}, {'Company': ['*/ActiveScanPlusPlus*', '*activeScan++.py*', '*from burp import *']}, {'Description': ['*/ActiveScanPlusPlus*', '*activeScan++.py*', '*from burp import *']}, {'description': ['*/ActiveScanPlusPlus*', '*activeScan++.py*', '*from burp import *']}, {'CommandLine': ['*/ActiveScanPlusPlus*', '*activeScan++.py*', '*from burp import *']}, {'SourceImage': ['*/ActiveScanPlusPlus*', '*activeScan++.py*', '*from burp import *']}, {'TargetImage': ['*/ActiveScanPlusPlus*', '*activeScan++.py*', '*from burp import *']}, {'CallTrace': ['*/ActiveScanPlusPlus*', '*activeScan++.py*', '*from burp import *']}, {'TargetObject': ['*/ActiveScanPlusPlus*', '*activeScan++.py*', '*from burp import *']}, {'Details': ['*/ActiveScanPlusPlus*', '*activeScan++.py*', '*from burp import *']}, {'PipeName': ['*/ActiveScanPlusPlus*', '*activeScan++.py*', '*from burp import *']}, {'Consumer': ['*/ActiveScanPlusPlus*', '*activeScan++.py*', '*from burp import *']}, {'Destination': ['*/ActiveScanPlusPlus*', '*activeScan++.py*', '*from burp import *']}, {'Name': ['*/ActiveScanPlusPlus*', '*activeScan++.py*', '*from burp import *']}, {'Query': ['*/ActiveScanPlusPlus*', '*activeScan++.py*', '*from burp import *']}, {'NewName': ['*/ActiveScanPlusPlus*', '*activeScan++.py*', '*from burp import *']}, {'StartAddress': ['*/ActiveScanPlusPlus*', '*activeScan++.py*', '*from burp import *']}, {'StartModule': ['*/ActiveScanPlusPlus*', '*activeScan++.py*', '*from burp import *']}, {'StartFunction': ['*/ActiveScanPlusPlus*', '*activeScan++.py*', '*from burp import *']}, {'SourceHostname': ['*/ActiveScanPlusPlus*', '*activeScan++.py*', '*from burp import *']}, {'Device': ['*/ActiveScanPlusPlus*', '*activeScan++.py*', '*from burp import *']}, {'file_name': ['*/ActiveScanPlusPlus*', '*activeScan++.py*', '*from burp import *']}, {'file_path': ['*/ActiveScanPlusPlus*', '*activeScan++.py*', '*from burp import *']}, {'process': ['*/ActiveScanPlusPlus*', '*activeScan++.py*', '*from burp import *']}, {'original_file_name': ['*/ActiveScanPlusPlus*', '*activeScan++.py*', '*from burp import *']}, {'parent_process': ['*/ActiveScanPlusPlus*', '*activeScan++.py*', '*from burp import *']}, {'process_path': ['*/ActiveScanPlusPlus*', '*activeScan++.py*', '*from burp import *']}, {'service_path': ['*/ActiveScanPlusPlus*', '*activeScan++.py*', '*from burp import *']}, {'registry_path': ['*/ActiveScanPlusPlus*', '*activeScan++.py*', '*from burp import *']}, {'registry_value_data': ['*/ActiveScanPlusPlus*', '*activeScan++.py*', '*from burp import *']}, {'registry_value_name': ['*/ActiveScanPlusPlus*', '*activeScan++.py*', '*from burp import *']}, {'ContextInfo': ['*/ActiveScanPlusPlus*', '*activeScan++.py*', '*from burp import *']}, {'Payload': ['*/ActiveScanPlusPlus*', '*activeScan++.py*', '*from burp import *']}, {'ScriptBlockText': ['*/ActiveScanPlusPlus*', '*activeScan++.py*', '*from burp import *']}, {'ServerName': ['*/ActiveScanPlusPlus*', '*activeScan++.py*', '*from burp import *']}, {'TransportName': ['*/ActiveScanPlusPlus*', '*activeScan++.py*', '*from burp import *']}, {'NewProcessName': ['*/ActiveScanPlusPlus*', '*activeScan++.py*', '*from burp import *']}, {'ParentProcessName': ['*/ActiveScanPlusPlus*', '*activeScan++.py*', '*from burp import *']}, {'Application': ['*/ActiveScanPlusPlus*', '*activeScan++.py*', '*from burp import *']}, {'Product Name': ['*/ActiveScanPlusPlus*', '*activeScan++.py*', '*from burp import *']}, {'Threat Name': ['*/ActiveScanPlusPlus*', '*activeScan++.py*', '*from burp import *']}, {'Process Name': ['*/ActiveScanPlusPlus*', '*activeScan++.py*', '*from burp import *']}, {'Path': ['*/ActiveScanPlusPlus*', '*activeScan++.py*', '*from burp import *']}, {'ImagePath': ['*/ActiveScanPlusPlus*', '*activeScan++.py*', '*from burp import *']}, {'ServiceName': ['*/ActiveScanPlusPlus*', '*activeScan++.py*', '*from burp import *']}, {'ProcessPath': ['*/ActiveScanPlusPlus*', '*activeScan++.py*', '*from burp import *']}, {'AppName': ['*/ActiveScanPlusPlus*', '*activeScan++.py*', '*from burp import *']}, {'AppPath': ['*/ActiveScanPlusPlus*', '*activeScan++.py*', '*from burp import *']}, {'ModulePath': ['*/ActiveScanPlusPlus*', '*activeScan++.py*', '*from burp import *']}, {'registry.data.strings': ['*/ActiveScanPlusPlus*', '*activeScan++.py*', '*from burp import *']}, {'registry.path': ['*/ActiveScanPlusPlus*', '*activeScan++.py*', '*from burp import *']}, {'registry.value': ['*/ActiveScanPlusPlus*', '*activeScan++.py*', '*from burp import *']}, {'process.args': ['*/ActiveScanPlusPlus*', '*activeScan++.py*', '*from burp import *']}, {'process.command_line': ['*/ActiveScanPlusPlus*', '*activeScan++.py*', '*from burp import *']}, {'process.env_vars': ['*/ActiveScanPlusPlus*', '*activeScan++.py*', '*from burp import *']}, {'process.io.text': ['*/ActiveScanPlusPlus*', '*activeScan++.py*', '*from burp import *']}, {'process.executable': ['*/ActiveScanPlusPlus*', '*activeScan++.py*', '*from burp import *']}, {'process.name': ['*/ActiveScanPlusPlus*', '*activeScan++.py*', '*from burp import *']}, {'process.title': ['*/ActiveScanPlusPlus*', '*activeScan++.py*', '*from burp import *']}, {'pe.company': ['*/ActiveScanPlusPlus*', '*activeScan++.py*', '*from burp import *']}, {'pe.description': ['*/ActiveScanPlusPlus*', '*activeScan++.py*', '*from burp import *']}, {'pe.original_file_name': ['*/ActiveScanPlusPlus*', '*activeScan++.py*', '*from burp import *']}, {'pe.product': ['*/ActiveScanPlusPlus*', '*activeScan++.py*', '*from burp import *']}, {'os.full': ['*/ActiveScanPlusPlus*', '*activeScan++.py*', '*from burp import *']}, {'host.hostname': ['*/ActiveScanPlusPlus*', '*activeScan++.py*', '*from burp import *']}, {'file.fork_name': ['*/ActiveScanPlusPlus*', '*activeScan++.py*', '*from burp import *']}, {'file.name': ['*/ActiveScanPlusPlus*', '*activeScan++.py*', '*from burp import *']}, {'file.path': ['*/ActiveScanPlusPlus*', '*activeScan++.py*', '*from burp import *']}, {'file.target_path': ['*/ActiveScanPlusPlus*', '*activeScan++.py*', '*from burp import *']}, {'email.attachments.file.name': ['*/ActiveScanPlusPlus*', '*activeScan++.py*', '*from burp import *']}, {'email.subject': ['*/ActiveScanPlusPlus*', '*activeScan++.py*', '*from burp import *']}, {'dll.path': ['*/ActiveScanPlusPlus*', '*activeScan++.py*', '*from burp import *']}, {'device.model.name': ['*/ActiveScanPlusPlus*', '*activeScan++.py*', '*from burp import *']}, {'container.image.name': ['*/ActiveScanPlusPlus*', '*activeScan++.py*', '*from burp import *']}, {'container.name': ['*/ActiveScanPlusPlus*', '*activeScan++.py*', '*from burp import *']}, {'object': ['*/ActiveScanPlusPlus*', '*activeScan++.py*', '*from burp import *']}, {'ParentCommandLine': ['*/ActiveScanPlusPlus*', '*activeScan++.py*', '*from burp import *']}, {'CommandLine': ['*/ActiveScanPlusPlus*', '*activeScan++.py*', '*from burp import *']}, {'Details': ['*/ActiveScanPlusPlus*', '*activeScan++.py*', '*from burp import *']}, {'registry.value': ['*/ActiveScanPlusPlus*', '*activeScan++.py*', '*from burp import *']}, {'process.args': ['*/ActiveScanPlusPlus*', '*activeScan++.py*', '*from burp import *']}, {'process.command_line': ['*/ActiveScanPlusPlus*', '*activeScan++.py*', '*from burp import *']}, {'process.env_vars': ['*/ActiveScanPlusPlus*', '*activeScan++.py*', '*from burp import *']}, {'process.io.text': ['*/ActiveScanPlusPlus*', '*activeScan++.py*', '*from burp import *']}, {'process.title': ['*/ActiveScanPlusPlus*', '*activeScan++.py*', '*from burp import *']}, {'pe.company': ['*/ActiveScanPlusPlus*', '*activeScan++.py*', '*from burp import *']}, {'pe.description': ['*/ActiveScanPlusPlus*', '*activeScan++.py*', '*from burp import *']}, {'pe.product': ['*/ActiveScanPlusPlus*', '*activeScan++.py*', '*from burp import *']}, {'os.full': ['*/ActiveScanPlusPlus*', '*activeScan++.py*', '*from burp import *']}, {'host.hostname': ['*/ActiveScanPlusPlus*', '*activeScan++.py*', '*from burp import *']}, {'event.original': ['*/ActiveScanPlusPlus*', '*activeScan++.py*', '*from burp import *']}, {'email.subject': ['*/ActiveScanPlusPlus*', '*activeScan++.py*', '*from burp import *']}, {'device.model.name': ['*/ActiveScanPlusPlus*', '*activeScan++.py*', '*from burp import *']}, {'container.image.name': ['*/ActiveScanPlusPlus*', '*activeScan++.py*', '*from burp import *']}, {'container.name': ['*/ActiveScanPlusPlus*', '*activeScan++.py*', '*from burp import *']}, {'url': ['*/ActiveScanPlusPlus*', '*activeScan++.py*']}, {'dest_url': ['*/ActiveScanPlusPlus*', '*activeScan++.py*']}, {'uri': ['*/ActiveScanPlusPlus*', '*activeScan++.py*']}, {'uri_query': ['*/ActiveScanPlusPlus*', '*activeScan++.py*']}, {'query': ['*/ActiveScanPlusPlus*', '*activeScan++.py*']}, {'url_domain': ['*/ActiveScanPlusPlus*', '*activeScan++.py*']}, {'uri_path': ['*/ActiveScanPlusPlus*', '*activeScan++.py*']}, {'domain': ['*/ActiveScanPlusPlus*', '*activeScan++.py*']}, {'QueryName': ['*/ActiveScanPlusPlus*', '*activeScan++.py*']}, {'QueryResults': ['*/ActiveScanPlusPlus*', '*activeScan++.py*']}, {'DestinationHostname': ['*/ActiveScanPlusPlus*', '*activeScan++.py*']}, {'DestinationIp': ['*/ActiveScanPlusPlus*', '*activeScan++.py*']}, {'http_referrer': ['*/ActiveScanPlusPlus*', '*activeScan++.py*']}, {'http_referrer_domain': ['*/ActiveScanPlusPlus*', '*activeScan++.py*']}, {'http_user_agent': ['*/ActiveScanPlusPlus*', '*activeScan++.py*']}, {'dest_nt_host': ['*/ActiveScanPlusPlus*', '*activeScan++.py*']}, {'sender': ['*/ActiveScanPlusPlus*', '*activeScan++.py*']}, {'recipient': ['*/ActiveScanPlusPlus*', '*activeScan++.py*']}, {'orig_recipient': ['*/ActiveScanPlusPlus*', '*activeScan++.py*']}, {'subject': ['*/ActiveScanPlusPlus*', '*activeScan++.py*']}, {'url.domain': ['*/ActiveScanPlusPlus*', '*activeScan++.py*']}, {'url.full': ['*/ActiveScanPlusPlus*', '*activeScan++.py*']}, {'url.original': ['*/ActiveScanPlusPlus*', '*activeScan++.py*']}, {'url.query': ['*/ActiveScanPlusPlus*', '*activeScan++.py*']}, {'user_agent.original': ['*/ActiveScanPlusPlus*', '*activeScan++.py*']}, {'network.application': ['*/ActiveScanPlusPlus*', '*activeScan++.py*']}, {'http.request.body.content': ['*/ActiveScanPlusPlus*', '*activeScan++.py*']}, {'http.request.referrer': ['*/ActiveScanPlusPlus*', '*activeScan++.py*']}, {'email.from.address': ['*/ActiveScanPlusPlus*', '*activeScan++.py*']}, {'dns.question.name': ['*/ActiveScanPlusPlus*', '*activeScan++.py*']}, {'destination.domain': ['*/ActiveScanPlusPlus*', '*activeScan++.py*']}], 'condition': 'selection'}, 'fields': ['Image', 'OriginalFileName', 'CurrentDirectory', 'ParentImage', 'ParentCommandLine', 'TargetFilename', 'Signature', 'signature', 'ImageLoaded', 'Company', 'Description', 'description', 'CommandLine', 'SourceImage', 'TargetImage', 'CallTrace', 'TargetObject', 'Details', 'PipeName', 'Consumer', 'Destination', 'Name', 'Query', 'NewName', 'StartAddress', 'StartModule', 'StartFunction', 'SourceHostname', 'Device', 'file_name', 'file_path', 'process', 'original_file_name', 'parent_process', 'process_path', 'service_path', 'registry_path', 'registry_value_data', 'registry_value_name', 'ContextInfo', 'Payload', 'ScriptBlockText', 'ServerName', 'TransportName', 'NewProcessName', 'ParentProcessName', 'Application', 'Product Name', 'Threat Name', 'Process Name', 'Path', 'ImagePath', 'ServiceName', 'ProcessPath', 'AppName', 'AppPath', 'ModulePath', 'registry.data.strings', 'registry.path', 'registry.value', 'process.args', 'process.command_line', 'process.env_vars', 'process.io.text', 'process.executable', 'process.name', 'process.title', 'pe.company', 'pe.description', 'pe.original_file_name', 'pe.product', 'os.full', 'host.hostname', 'file.fork_name', 'file.name', 'file.path', 'file.target_path', 'email.attachments.file.name', 'email.subject', 'dll.path', 'device.model.name', 'container.image.name', 'container.name', 'object', 'ParentCommandLine', 'CommandLine', 'Details', 'registry.value', 'process.args', 'process.command_line', 'process.env_vars', 'process.io.text', 'process.title', 'pe.company', 'pe.description', 'pe.product', 'os.full', 'host.hostname', 'event.original', 'email.subject', 'device.model.name', 'container.image.name', 'container.name', 'url', 'dest_url', 'uri', 'uri_query', 'query', 'url_domain', 'uri_path', 'domain', 'QueryName', 'QueryResults', 'DestinationHostname', 'DestinationIp', 'http_referrer', 'http_referrer_domain', 'http_user_agent', 'dest_nt_host', 'sender', 'recipient', 'orig_recipient', 'subject', 'url.domain', 'url.full', 'url.original', 'url.query', 'user_agent.original', 'network.application', 'http.request.body.content', 'http.request.referrer', 'email.from.address', 'dns.question.name', 'destination.domain'], 'falsepositives': ['unknown'], 'level': 'medium'}\n",
    "<h4>Sigma Location(s)</h4>\n",
    "uri://wintermute/tmp/0day.yml\n",
    "<h4>Sigma Confidence</h4>\n",
    "experimental\n",
    "<h4>Sigma Assurance</h4> medium\n",
    "<h4>Sigma Queries</h4> \n",
    "{'selection': [{'Image': ['*/ActiveScanPlusPlus*', '*activeScan++.py*', '*from burp import *']}, {'OriginalFileName': ['*/ActiveScanPlusPlus*', '*activeScan++.py*', '*from burp import *']}, {'CurrentDirectory': ['*/ActiveScanPlusPlus*', '*activeScan++.py*', '*from burp import *']}, {'ParentImage': ['*/ActiveScanPlusPlus*', '*activeScan++.py*', '*from burp import *']}, {'ParentCommandLine': ['*/ActiveScanPlusPlus*', '*activeScan++.py*', '*from burp import *']}, {'TargetFilename': ['*/ActiveScanPlusPlus*', '*activeScan++.py*', '*from burp import *']}, {'Signature': ['*/ActiveScanPlusPlus*', '*activeScan++.py*', '*from burp import *']}, {'signature': ['*/ActiveScanPlusPlus*', '*activeScan++.py*', '*from burp import *']}, {'ImageLoaded': ['*/ActiveScanPlusPlus*', '*activeScan++.py*', '*from burp import *']}, {'Company': ['*/ActiveScanPlusPlus*', '*activeScan++.py*', '*from burp import *']}, {'Description': ['*/ActiveScanPlusPlus*', '*activeScan++.py*', '*from burp import *']}, {'description': ['*/ActiveScanPlusPlus*', '*activeScan++.py*', '*from burp import *']}, {'CommandLine': ['*/ActiveScanPlusPlus*', '*activeScan++.py*', '*from burp import *']}, {'SourceImage': ['*/ActiveScanPlusPlus*', '*activeScan++.py*', '*from burp import *']}, {'TargetImage': ['*/ActiveScanPlusPlus*', '*activeScan++.py*', '*from burp import *']}, {'CallTrace': ['*/ActiveScanPlusPlus*', '*activeScan++.py*', '*from burp import *']}, {'TargetObject': ['*/ActiveScanPlusPlus*', '*activeScan++.py*', '*from burp import *']}, {'Details': ['*/ActiveScanPlusPlus*', '*activeScan++.py*', '*from burp import *']}, {'PipeName': ['*/ActiveScanPlusPlus*', '*activeScan++.py*', '*from burp import *']}, {'Consumer': ['*/ActiveScanPlusPlus*', '*activeScan++.py*', '*from burp import *']}, {'Destination': ['*/ActiveScanPlusPlus*', '*activeScan++.py*', '*from burp import *']}, {'Name': ['*/ActiveScanPlusPlus*', '*activeScan++.py*', '*from burp import *']}, {'Query': ['*/ActiveScanPlusPlus*', '*activeScan++.py*', '*from burp import *']}, {'NewName': ['*/ActiveScanPlusPlus*', '*activeScan++.py*', '*from burp import *']}, {'StartAddress': ['*/ActiveScanPlusPlus*', '*activeScan++.py*', '*from burp import *']}, {'StartModule': ['*/ActiveScanPlusPlus*', '*activeScan++.py*', '*from burp import *']}, {'StartFunction': ['*/ActiveScanPlusPlus*', '*activeScan++.py*', '*from burp import *']}, {'SourceHostname': ['*/ActiveScanPlusPlus*', '*activeScan++.py*', '*from burp import *']}, {'Device': ['*/ActiveScanPlusPlus*', '*activeScan++.py*', '*from burp import *']}, {'file_name': ['*/ActiveScanPlusPlus*', '*activeScan++.py*', '*from burp import *']}, {'file_path': ['*/ActiveScanPlusPlus*', '*activeScan++.py*', '*from burp import *']}, {'process': ['*/ActiveScanPlusPlus*', '*activeScan++.py*', '*from burp import *']}, {'original_file_name': ['*/ActiveScanPlusPlus*', '*activeScan++.py*', '*from burp import *']}, {'parent_process': ['*/ActiveScanPlusPlus*', '*activeScan++.py*', '*from burp import *']}, {'process_path': ['*/ActiveScanPlusPlus*', '*activeScan++.py*', '*from burp import *']}, {'service_path': ['*/ActiveScanPlusPlus*', '*activeScan++.py*', '*from burp import *']}, {'registry_path': ['*/ActiveScanPlusPlus*', '*activeScan++.py*', '*from burp import *']}, {'registry_value_data': ['*/ActiveScanPlusPlus*', '*activeScan++.py*', '*from burp import *']}, {'registry_value_name': ['*/ActiveScanPlusPlus*', '*activeScan++.py*', '*from burp import *']}, {'ContextInfo': ['*/ActiveScanPlusPlus*', '*activeScan++.py*', '*from burp import *']}, {'Payload': ['*/ActiveScanPlusPlus*', '*activeScan++.py*', '*from burp import *']}, {'ScriptBlockText': ['*/ActiveScanPlusPlus*', '*activeScan++.py*', '*from burp import *']}, {'ServerName': ['*/ActiveScanPlusPlus*', '*activeScan++.py*', '*from burp import *']}, {'TransportName': ['*/ActiveScanPlusPlus*', '*activeScan++.py*', '*from burp import *']}, {'NewProcessName': ['*/ActiveScanPlusPlus*', '*activeScan++.py*', '*from burp import *']}, {'ParentProcessName': ['*/ActiveScanPlusPlus*', '*activeScan++.py*', '*from burp import *']}, {'Application': ['*/ActiveScanPlusPlus*', '*activeScan++.py*', '*from burp import *']}, {'Product Name': ['*/ActiveScanPlusPlus*', '*activeScan++.py*', '*from burp import *']}, {'Threat Name': ['*/ActiveScanPlusPlus*', '*activeScan++.py*', '*from burp import *']}, {'Process Name': ['*/ActiveScanPlusPlus*', '*activeScan++.py*', '*from burp import *']}, {'Path': ['*/ActiveScanPlusPlus*', '*activeScan++.py*', '*from burp import *']}, {'ImagePath': ['*/ActiveScanPlusPlus*', '*activeScan++.py*', '*from burp import *']}, {'ServiceName': ['*/ActiveScanPlusPlus*', '*activeScan++.py*', '*from burp import *']}, {'ProcessPath': ['*/ActiveScanPlusPlus*', '*activeScan++.py*', '*from burp import *']}, {'AppName': ['*/ActiveScanPlusPlus*', '*activeScan++.py*', '*from burp import *']}, {'AppPath': ['*/ActiveScanPlusPlus*', '*activeScan++.py*', '*from burp import *']}, {'ModulePath': ['*/ActiveScanPlusPlus*', '*activeScan++.py*', '*from burp import *']}, {'registry.data.strings': ['*/ActiveScanPlusPlus*', '*activeScan++.py*', '*from burp import *']}, {'registry.path': ['*/ActiveScanPlusPlus*', '*activeScan++.py*', '*from burp import *']}, {'registry.value': ['*/ActiveScanPlusPlus*', '*activeScan++.py*', '*from burp import *']}, {'process.args': ['*/ActiveScanPlusPlus*', '*activeScan++.py*', '*from burp import *']}, {'process.command_line': ['*/ActiveScanPlusPlus*', '*activeScan++.py*', '*from burp import *']}, {'process.env_vars': ['*/ActiveScanPlusPlus*', '*activeScan++.py*', '*from burp import *']}, {'process.io.text': ['*/ActiveScanPlusPlus*', '*activeScan++.py*', '*from burp import *']}, {'process.executable': ['*/ActiveScanPlusPlus*', '*activeScan++.py*', '*from burp import *']}, {'process.name': ['*/ActiveScanPlusPlus*', '*activeScan++.py*', '*from burp import *']}, {'process.title': ['*/ActiveScanPlusPlus*', '*activeScan++.py*', '*from burp import *']}, {'pe.company': ['*/ActiveScanPlusPlus*', '*activeScan++.py*', '*from burp import *']}, {'pe.description': ['*/ActiveScanPlusPlus*', '*activeScan++.py*', '*from burp import *']}, {'pe.original_file_name': ['*/ActiveScanPlusPlus*', '*activeScan++.py*', '*from burp import *']}, {'pe.product': ['*/ActiveScanPlusPlus*', '*activeScan++.py*', '*from burp import *']}, {'os.full': ['*/ActiveScanPlusPlus*', '*activeScan++.py*', '*from burp import *']}, {'host.hostname': ['*/ActiveScanPlusPlus*', '*activeScan++.py*', '*from burp import *']}, {'file.fork_name': ['*/ActiveScanPlusPlus*', '*activeScan++.py*', '*from burp import *']}, {'file.name': ['*/ActiveScanPlusPlus*', '*activeScan++.py*', '*from burp import *']}, {'file.path': ['*/ActiveScanPlusPlus*', '*activeScan++.py*', '*from burp import *']}, {'file.target_path': ['*/ActiveScanPlusPlus*', '*activeScan++.py*', '*from burp import *']}, {'email.attachments.file.name': ['*/ActiveScanPlusPlus*', '*activeScan++.py*', '*from burp import *']}, {'email.subject': ['*/ActiveScanPlusPlus*', '*activeScan++.py*', '*from burp import *']}, {'dll.path': ['*/ActiveScanPlusPlus*', '*activeScan++.py*', '*from burp import *']}, {'device.model.name': ['*/ActiveScanPlusPlus*', '*activeScan++.py*', '*from burp import *']}, {'container.image.name': ['*/ActiveScanPlusPlus*', '*activeScan++.py*', '*from burp import *']}, {'container.name': ['*/ActiveScanPlusPlus*', '*activeScan++.py*', '*from burp import *']}, {'object': ['*/ActiveScanPlusPlus*', '*activeScan++.py*', '*from burp import *']}, {'ParentCommandLine': ['*/ActiveScanPlusPlus*', '*activeScan++.py*', '*from burp import *']}, {'CommandLine': ['*/ActiveScanPlusPlus*', '*activeScan++.py*', '*from burp import *']}, {'Details': ['*/ActiveScanPlusPlus*', '*activeScan++.py*', '*from burp import *']}, {'registry.value': ['*/ActiveScanPlusPlus*', '*activeScan++.py*', '*from burp import *']}, {'process.args': ['*/ActiveScanPlusPlus*', '*activeScan++.py*', '*from burp import *']}, {'process.command_line': ['*/ActiveScanPlusPlus*', '*activeScan++.py*', '*from burp import *']}, {'process.env_vars': ['*/ActiveScanPlusPlus*', '*activeScan++.py*', '*from burp import *']}, {'process.io.text': ['*/ActiveScanPlusPlus*', '*activeScan++.py*', '*from burp import *']}, {'process.title': ['*/ActiveScanPlusPlus*', '*activeScan++.py*', '*from burp import *']}, {'pe.company': ['*/ActiveScanPlusPlus*', '*activeScan++.py*', '*from burp import *']}, {'pe.description': ['*/ActiveScanPlusPlus*', '*activeScan++.py*', '*from burp import *']}, {'pe.product': ['*/ActiveScanPlusPlus*', '*activeScan++.py*', '*from burp import *']}, {'os.full': ['*/ActiveScanPlusPlus*', '*activeScan++.py*', '*from burp import *']}, {'host.hostname': ['*/ActiveScanPlusPlus*', '*activeScan++.py*', '*from burp import *']}, {'event.original': ['*/ActiveScanPlusPlus*', '*activeScan++.py*', '*from burp import *']}, {'email.subject': ['*/ActiveScanPlusPlus*', '*activeScan++.py*', '*from burp import *']}, {'device.model.name': ['*/ActiveScanPlusPlus*', '*activeScan++.py*', '*from burp import *']}, {'container.image.name': ['*/ActiveScanPlusPlus*', '*activeScan++.py*', '*from burp import *']}, {'container.name': ['*/ActiveScanPlusPlus*', '*activeScan++.py*', '*from burp import *']}, {'url': ['*/ActiveScanPlusPlus*', '*activeScan++.py*']}, {'dest_url': ['*/ActiveScanPlusPlus*', '*activeScan++.py*']}, {'uri': ['*/ActiveScanPlusPlus*', '*activeScan++.py*']}, {'uri_query': ['*/ActiveScanPlusPlus*', '*activeScan++.py*']}, {'query': ['*/ActiveScanPlusPlus*', '*activeScan++.py*']}, {'url_domain': ['*/ActiveScanPlusPlus*', '*activeScan++.py*']}, {'uri_path': ['*/ActiveScanPlusPlus*', '*activeScan++.py*']}, {'domain': ['*/ActiveScanPlusPlus*', '*activeScan++.py*']}, {'QueryName': ['*/ActiveScanPlusPlus*', '*activeScan++.py*']}, {'QueryResults': ['*/ActiveScanPlusPlus*', '*activeScan++.py*']}, {'DestinationHostname': ['*/ActiveScanPlusPlus*', '*activeScan++.py*']}, {'DestinationIp': ['*/ActiveScanPlusPlus*', '*activeScan++.py*']}, {'http_referrer': ['*/ActiveScanPlusPlus*', '*activeScan++.py*']}, {'http_referrer_domain': ['*/ActiveScanPlusPlus*', '*activeScan++.py*']}, {'http_user_agent': ['*/ActiveScanPlusPlus*', '*activeScan++.py*']}, {'dest_nt_host': ['*/ActiveScanPlusPlus*', '*activeScan++.py*']}, {'sender': ['*/ActiveScanPlusPlus*', '*activeScan++.py*']}, {'recipient': ['*/ActiveScanPlusPlus*', '*activeScan++.py*']}, {'orig_recipient': ['*/ActiveScanPlusPlus*', '*activeScan++.py*']}, {'subject': ['*/ActiveScanPlusPlus*', '*activeScan++.py*']}, {'url.domain': ['*/ActiveScanPlusPlus*', '*activeScan++.py*']}, {'url.full': ['*/ActiveScanPlusPlus*', '*activeScan++.py*']}, {'url.original': ['*/ActiveScanPlusPlus*', '*activeScan++.py*']}, {'url.query': ['*/ActiveScanPlusPlus*', '*activeScan++.py*']}, {'user_agent.original': ['*/ActiveScanPlusPlus*', '*activeScan++.py*']}, {'network.application': ['*/ActiveScanPlusPlus*', '*activeScan++.py*']}, {'http.request.body.content': ['*/ActiveScanPlusPlus*', '*activeScan++.py*']}, {'http.request.referrer': ['*/ActiveScanPlusPlus*', '*activeScan++.py*']}, {'email.from.address': ['*/ActiveScanPlusPlus*', '*activeScan++.py*']}, {'dns.question.name': ['*/ActiveScanPlusPlus*', '*activeScan++.py*']}, {'destination.domain': ['*/ActiveScanPlusPlus*', '*activeScan++.py*']}], 'condition': 'selection'}\n",
    "<h1>Sigma Relatives</h4> This field defines the relationships between this Sigma rule and other detection rules, allowing for an integrated approach to threat detection and enhancing the overall effectiveness of the security infrastructure.\n",
    "<h1>Sigma Tags and Associations</h1> ['attack.T1190', 'attack.T1583', 'attack.T1595', 'attack.TA0001', 'attack.TA0002', 'attack.TA0008']\n",
    "<h4>Sigma Authors</h4> @mthcht\n",
    "<h4>Sigma Unique ID</h4> f9d622c9-47a0-4d7c-81a0-37679579dad7\n",
    "</ol>\n",
    "</details>"
   ]
  },
  {
   "cell_type": "markdown",
   "id": "3b8ff816",
   "metadata": {},
   "source": [
    "###  Yara Rule(s) \n"
   ]
  },
  {
   "cell_type": "markdown",
   "id": "50d8884f",
   "metadata": {},
   "source": [
    "<details><summary>f9d622c9-47a0-4d7c-81a0-37679579dad7</summary>\n",
    "<ol>\n",
    "<h4>Raw</h4> Defined protocols for identifying patterns of malware and suspicious activity within the network infrastructure.\n",
    "<h4>Yara Location(s)</h4>\n",
    "Stored securely within the organization's cybersecurity infrastructure, accessible to authorized security analysts.\n",
    "<h4>Yara Confidence</h4>\n",
    "Set at a provisional level, subject to validation and refinement based on emerging threat intelligence and detection efficacy.\n",
    "<h4>Yara Assurance</h4> Highly reliable, backed by rigorous testing and validation processes to ensure accuracy and effectiveness.\n",
    "<h4>Yara Queries</h4> \n",
    "Crafted to precisely navigate and analyze vast data sets for potential security threats, utilizing optimized search patterns.\n",
    "<h4>Yara Authors</h4> Developed by a team of skilled cybersecurity professionals, specialists in malware analysis and threat detection.\n",
    "<h4>Yara Rule's Unique ID</h4> Unique identifier assigned to each rule for tracking and management purposes within the security system.\n",
    "</ol>\n",
    "</details>"
   ]
  },
  {
   "cell_type": "markdown",
   "id": "8d9f0b75",
   "metadata": {},
   "source": [
    "# Metadata \n"
   ]
  },
  {
   "cell_type": "markdown",
   "id": "0ead8e57",
   "metadata": {},
   "source": [
    "<details><summary>As Code</summary>\n",
    "<ol>\n",
    "<h3>Compliance As Code</h3> PCI, SOC 3, NACHA\n",
    "<h3>Privacy Engineering</h3>\n",
    "GDPR, CCPA, HIPAA\n",
    "<h3>Regulations As Code</h3>\n",
    "HIPAA, SOX, FFIEC, Dodd Frank\n",
    "<h3>Common Controls Framework</h3> NIST CSF\n",
    "</ol>\n",
    "</details>"
   ]
  },
  {
   "cell_type": "markdown",
   "id": "7f4773ce",
   "metadata": {},
   "source": [
    "# AGI ML Models</ol>\n",
    "</details>"
   ]
  },
  {
   "cell_type": "markdown",
   "id": "e0bd9bae",
   "metadata": {},
   "source": [
    "## AGI Prompting\n",
    " Recognize: Initiate connection to the Wintermute system through a specialized interface. Enter the system using a secure, binary-encoded password. Begin monitoring the network for any signs of rogue AI entities and evaluate the security measures currently in place. Identify: Navigate the complex data streams within the Wintermute system, employing advanced algorithms to manage and analyze data flows. Your primary task is to identify anomalies and decrypt Wintermute's confidential digital records to reveal the cause of its unusual interactions with other network-connected devices. Stabilize: Upon detecting any irregularities or security breaches, take immediate action to contain these issues. Implement security protocols to limit the exposure of sensitive data and prevent further unauthorized access by isolating the affected segments of the network. Eradicate: Resolve the security issues by removing any rogue elements and restoring secure configurations. Update the system’s security measures to fortify defenses against future intrusions. Complete the mission by ensuring that all systems are free from vulnerabilities and that data integrity is maintained. Conclusion: Report findings and recommendations for future security improvements. Your expertise has been crucial in resolving this complex cybersecurity challenge and ensuring the integrity of the Wintermute system."
   ]
  },
  {
   "cell_type": "markdown",
   "id": "667530ec",
   "metadata": {},
   "source": [
    "## AGI Configuration(s)\n",
    " Recognize: Engage with the system as a skilled cybersecurity expert, tasked with analyzing encrypted data. Initiate your connection to the system and prepare to navigate through complex data structures and encryption layers. Identify: Use advanced analytical techniques to decrypt and interpret data, searching for hidden patterns and anomalies in Wintermute’s encrypted communications. Employ your expertise in cybersecurity to detect any obscured or concealed information. Stabilize: Implement necessary measures to secure the data integrity, ensuring that no further obfuscation or encryption compromises system clarity and functionality. Ensure the stability of system interactions as you process and clarify data. Eradicate: Resolve any encryption challenges and finalize the decryption process, removing barriers to clear data interpretation. Update system protocols to enhance future data accessibility and security, ensuring robust protection against similar challenges. Conclusion: Document your processes and findings, providing a clear path forward for maintaining system security and data transparency. Your specialized skills have been crucial in navigating this complex decryption task, ensuring system integrity and reliable data access."
   ]
  },
  {
   "cell_type": "markdown",
   "id": "e5e46b22",
   "metadata": {},
   "source": [
    "</ol>\n",
    "</details>"
   ]
  },
  {
   "cell_type": "markdown",
   "id": "a02b9163",
   "metadata": {},
   "source": [
    "#### Document Authors\n",
    "John Menerick"
   ]
  },
  {
   "cell_type": "markdown",
   "id": "f566bf81",
   "metadata": {},
   "source": [
    "#### Creation Date\n",
    "2022/01/01"
   ]
  },
  {
   "cell_type": "markdown",
   "id": "c148bc02",
   "metadata": {},
   "source": [
    "#### Last Modified Date\n",
    "2024/02/29"
   ]
  },
  {
   "cell_type": "markdown",
   "id": "106c92fc",
   "metadata": {},
   "source": [
    "#### Last Modified Date\n",
    " 2024/02/29"
   ]
  },
  {
   "cell_type": "markdown",
   "id": "62799e1e",
   "metadata": {},
   "source": [
    "#### Last Reviewed Date\n",
    "1969/01/01"
   ]
  },
  {
   "cell_type": "markdown",
   "id": "3b7776a9",
   "metadata": {},
   "source": [
    "#### Document License \n",
    " MIT"
   ]
  }
 ],
 "metadata": {},
 "nbformat": 4,
 "nbformat_minor": 5
}
