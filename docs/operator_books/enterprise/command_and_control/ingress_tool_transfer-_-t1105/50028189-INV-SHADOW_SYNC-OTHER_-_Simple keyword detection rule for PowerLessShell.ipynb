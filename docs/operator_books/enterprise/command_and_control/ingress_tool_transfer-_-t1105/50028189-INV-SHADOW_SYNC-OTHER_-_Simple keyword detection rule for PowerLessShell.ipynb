{
 "cells": [
  {
   "cell_type": "markdown",
   "id": "d00485cd",
   "metadata": {},
   "source": [
    "# UNCLASSIFIED / NON CLASSIFIÉ//TLP:WHITE# U/OO/614430-02 | QQ-09-1998 \n",
    " Please note that the original, detailed content has been removed or adjusted for public consumption. Most data has been redacted and replaced with generic, non-actionable insights. This modification ensures compliance with privacy considerations, non-disclosure agreements, and intellectual property rights that govern the dissemination of sensitive information. The priority is to respect these boundaries while still offering valuable, thought-provoking perspectives."
   ]
  },
  {
   "cell_type": "markdown",
   "id": "0ac4fde0",
   "metadata": {},
   "source": [
    "![Build Status](https://img.shields.io/badge/Build-Passing-brightgreen?style=flat-square&logo=cyberpunk)         ![Documentation](https://img.shields.io/badge/Documentation-Complete-blue?style=flat-square&logo=cyberpunk)        ![Response Efficiency](https://img.shields.io/badge/Response%20Efficiency-98%25-green?style=flat-square&logo=cyberpunk)        ![Last Updated](https://img.shields.io/badge/Last%20Updated-Oct%202023-purple?style=flat-square&logo=cyberpunk)        ![Incidents Resolved](https://img.shields.io/badge/Incidents%20Resolved-150-red?style=flat-square&logo=cyberpunk)        ![Community Engagement](https://img.shields.io/badge/Community-Active-orange?style=flat-square&logo=cyberpunk)        ![Code Integration](https://img.shields.io/badge/Code%20Integration-High-teal?style=flat-square&logo=cyberpunk)        ![AI Analysis](https://img.shields.io/badge/AI%20Analysis-Advanced-blueviolet?style=flat-square&logo=cyberpunk)        ![Threat Detection](https://img.shields.io/badge/Threat%20Detection-Optimal-red?style=flat-square&logo=cyberpunk)        ![Cybersecurity Hardening](https://img.shields.io/badge/Security-Hardened-silver?style=flat-square&logo=cyberpunk)        ![Network Uptime](https://img.shields.io/badge/Uptime-99.9%25-brightgreen?style=flat-square&logo=cyberpunk)        ![Data Privacy](https://img.shields.io/badge/Privacy-Compliant-green?style=flat-square&logo=cyberpunk)        ![Wintermute Efficiency](https://img.shields.io/badge/Wintermute%20Efficiency-100%25-black?style=flat-square&logo=cyberpunk)        ![Case's Code Agility](https://img.shields.io/badge/Case's%20Code%20Agility-Excellent-blue?style=flat-square&logo=cyberpunk)        ![Matrix Connectivity](https://img.shields.io/badge/Matrix%20Connectivity-Strong-green?style=flat-square&logo=cyberpunk)        ![Molly's Security](https://img.shields.io/badge/Molly's%20Security%20Protocols-Impeccable-red?style=flat-square&logo=cyberpunk)        ![Chiba City Innovation](https://img.shields.io/badge/Chiba%20City%20Innovation-High-yellow?style=flat-square&logo=cyberpunk)        ![Zion Cluster Collaboration](https://img.shields.io/badge/Zion%20Cluster%20Collaboration-Effective-lightblue?style=flat-square&logo=cyberpunk)"
   ]
  },
  {
   "cell_type": "markdown",
   "id": "19f9f7dc",
   "metadata": {},
   "source": [
    "# Title\n",
    "Simple keyword detection rule for PowerLessShell"
   ]
  },
  {
   "cell_type": "markdown",
   "id": "13a48c65",
   "metadata": {},
   "source": [
    "# Description\n",
    "Detects interesting keywords based on PowerLessShell tool"
   ]
  },
  {
   "cell_type": "markdown",
   "id": "64b3ea1c",
   "metadata": {},
   "source": [
    "# Goal\n",
    "Ensure the integrity, confidentiality, and availability by rapidly identifying, investigating, and mitigating cyber threats and anomalies."
   ]
  },
  {
   "cell_type": "markdown",
   "id": "59926d0f",
   "metadata": {},
   "source": [
    "# Categorization"
   ]
  },
  {
   "cell_type": "markdown",
   "id": "b1951da6",
   "metadata": {},
   "source": [
    "### ATT&CK\n",
    "['attack.T1047', 'attack.T1055', 'attack.T1059', 'attack.T1105', 'attack.T1218.010', 'attack.TA0002', 'attack.TA0008', 'attack.TA0011']"
   ]
  },
  {
   "cell_type": "markdown",
   "id": "160e0c28",
   "metadata": {},
   "source": [
    "- Distributed Denial of Service (DDoS) Attacks, Quantum Computing Exploits, Advanced Firewall Breach Attempts, Encryption Key Theft or Exposure, AI-Powered Social Engineering Attacks, Algorithmic Manipulation and Exploits, Sophisticated Malware Infiltrations, Advanced Data Obfuscation and Evasion Tactics, System and Network Configuration Vulnerabilities."
   ]
  },
  {
   "cell_type": "markdown",
   "id": "16d44e9d",
   "metadata": {},
   "source": [
    "- Data Exfiltration, Intrusion Detection Evasion, Denial of Service (DoS) Attacks, Credential Theft."
   ]
  },
  {
   "cell_type": "markdown",
   "id": "83ca4cb5",
   "metadata": {},
   "source": [
    "- DNS Tunneling, IP Spoofing, Distributed DoS (DDoS) Attacks, Keylogging."
   ]
  },
  {
   "cell_type": "markdown",
   "id": "c5d64890",
   "metadata": {},
   "source": [
    "### D3F3ND \n"
   ]
  },
  {
   "cell_type": "markdown",
   "id": "04c2fa0c",
   "metadata": {},
   "source": [
    "\n",
    "<ul>\n",
    "  <li><strong>Network Segmentation and Access Control (D3F3ND-K001):</strong> Establish secure network zones by segmenting the infrastructure, enhancing protection for critical assets. Implement stringent access controls to prevent unauthorized access and mitigate potential threats.</li>\n",
    "\n",
    "  <li><strong>Advanced Endpoint Protection Deployment (D3F3ND-K002):</strong> Deploy cutting-edge endpoint security solutions that utilize machine learning and behavioral analysis to detect and neutralize threats proactively.</li>\n",
    "\n",
    "  <li><strong>Enhanced Identity Verification (D3F3ND-K003):</strong> Strengthen security measures with multi-factor authentication combining biometric data and advanced encryption to prevent identity theft and unauthorized access.</li>\n",
    "\n",
    "  <li><strong>Anomaly Detection (D3F3ND-K004):</strong> Use anomaly detection tools to monitor for unusual traffic patterns, user activities, and system behaviors to identify potential security breaches early.</li>\n",
    "\n",
    "  <li><strong>Data Encryption (D3F3ND-K005):</strong> Apply robust encryption techniques to protect data at rest and in transit, ensuring confidentiality and integrity across communication channels.</li>\n",
    "\n",
    "  <li><strong>System Hardening and Vulnerability Management (D3F3ND-K006):</strong> Conduct regular security assessments and apply patches promptly to address vulnerabilities and strengthen system defenses.</li>\n",
    "\n",
    "  <li><strong>Crisis Management and Recovery Protocols (D3F3ND-K007):</strong> Develop and maintain comprehensive crisis management plans including incident response and disaster recovery procedures to quickly recover from security incidents.</li>\n",
    "\n",
    "  <li><strong>Threat Intelligence Integration (D3F3ND-K008):</strong> Leverage threat intelligence platforms to gather and analyze data on emerging threats, enabling proactive defense and strategic decision-making.</li>\n",
    "\n",
    "  <li><strong>Cybersecurity Awareness Training (D3F3ND-K009):</strong> Empower employees with ongoing cybersecurity education to recognize and avoid potential cyber threats such as phishing attacks.</li>\n",
    "\n",
    "  <li><strong>Supply Chain Security (D3F3ND-K010):</strong> Secure the supply chain through continuous assessments and audits of partners and vendors to ensure compliance with security standards and reduce vulnerabilities.</li>\n",
    "</ul>\n"
   ]
  },
  {
   "cell_type": "markdown",
   "id": "d550a7fd",
   "metadata": {},
   "source": [
    "### CAPEC \n",
    "  "
   ]
  },
  {
   "cell_type": "markdown",
   "id": "eda2c029",
   "metadata": {},
   "source": [
    "Equip cybersecurity teams with the knowledge and tools to identify, counter, and mitigate a wide range of digital attack tactics, techniques, and procedures (TTPs). This effort requires understanding the attacker's mindset, mastering the execution of digital attacks, and developing strategies to confront evolving cyber threats.</br><h4>Core Attack Patterns</h4><ul><strong>Resource Manipulation and Denial (CAPEC-XYZ1):</strong> Involves attacks that compromise the availability, integrity, or confidentiality of resources. This includes denial of service attacks as well as more covert operations like resource hijacking or system manipulation.</ul><ul><strong>Credential Access and Privilege Escalation (CAPEC-XYZ2):</strong> Focuses on exploiting flaws in authentication, authorization, and session management to gain unauthorized access or elevated privileges within systems.</ul><ul><strong>Data Exfiltration and Infiltration (CAPEC-XYZ3):</strong> Encompasses methods used by attackers to stealthily extract sensitive data or introduce malware, ransomware, and advanced persistent threats (APTs) into target systems.</ul><ul><strong>Social Engineering and Phishing (CAPEC-XYZ4):</strong> Involves manipulating individuals into divulging confidential information, compromising security, or unknowingly participating in attacks.</ul><ul><strong>Evasive Maneuvers (CAPEC-XYZ5):</strong> Includes techniques that allow attackers to remain undetected within networks, maintain persistence, and erase traces of their activities, such as using obfuscation, rootkits, and covert communication channels.</ul><h4>CAPEC Suggested Mitigation Strategies</h4><ul><strong>Continuous Monitoring and Anomaly Detection:</strong> Implement comprehensive monitoring systems that use machine learning algorithms to detect abnormal behavior and potential threats. Regularly review logs and alerts to identify patterns indicative of attacks.</ul><ul><strong>Access Control and Least Privilege:</strong> Limit user privileges to the minimum necessary for their roles. Use strong authentication mechanisms and enforce strict access controls to prevent unauthorized access.</ul><ul><strong>Secure Software Development Practices:</strong> Train developers to write secure code, conduct regular security assessments, and follow best practices for secure coding. Use automated tools to identify vulnerabilities during development.</ul><ul><strong>Incident Response Planning and Testing:</strong> Develop and regularly update an incident response plan. Conduct tabletop exercises and simulations to test the effectiveness of the plan and ensure all stakeholders understand their roles during a security incident.</ul>"
   ]
  },
  {
   "cell_type": "markdown",
   "id": "37987987",
   "metadata": {},
   "source": [
    "## Strategy Abstract\n",
    "In the complex environment of cybersecurity, a strategic approach is developed, characterized by the use of sophisticated tactics and algorithms. This strategy involves navigating through encrypted communications and deceptive tactics, aiming to gain an advantage in the dynamic flow of information. While success is often elusive and challenging to sustain, it remains a critical goal in the ongoing effort to secure digital assets."
   ]
  },
  {
   "cell_type": "markdown",
   "id": "a04b50bf",
   "metadata": {},
   "source": [
    "# Technical Context\n",
    "In the challenging cybersecurity landscape, the confrontation with Wintermute involves navigating encrypted communications, interacting with AI systems, and addressing quantum computing challenges. This setting represents a complex and nuanced environment where strategic decisions are made."
   ]
  },
  {
   "cell_type": "markdown",
   "id": "ad3858e9",
   "metadata": {},
   "source": [
    "## Blind Spots & Assumptions\n",
    "\n",
    "<ul>\n",
    "  <li><strong>Overlooked Vulnerabilities:</strong> We often miss subtle system signals or vulnerabilities, assuming our defenses are robust. Constant vigilance and seeking what we haven't seen are crucial.</li>\n",
    "  \n",
    "  <li><strong>Advanced Adversary Tactics:</strong> Cyber threats evolve rapidly; yesterday's defense may not guard against tomorrow's attack. Stay adaptive and expect the unexpected.</li>\n",
    "  \n",
    "  <li><strong>Internal System Flaws:</strong> Trust in our systems and allies must be balanced with scrutiny. Regularly audit internal and third-party tools for hidden weaknesses.</li>\n",
    "  \n",
    "  <li><strong>Network Interconnectivity Risks:</strong> No system is an island. The interconnected nature of our digital environment can inadvertently open pathways for attackers.</li>\n",
    "  \n",
    "  <li><strong>Historical Bias:</strong> Preparing for future threats based solely on past incidents may leave us blind to novel attacks. Foster a forward-thinking, proactive defense posture.</li>\n",
    "</ul>\n"
   ]
  },
  {
   "cell_type": "markdown",
   "id": "e8eb97ae",
   "metadata": {},
   "source": [
    "# Validating this Playbook\n",
    "<details><summary>Triage, triage, triage</summary>\n",
    "<ol>\n",
    "<h2>False Positives:</h2> ['unknown']\n",
    "<h3>False Negatives:</h3> Undetected threats concealed within the system's code\n",
    "<h3>True Negatives:</h3> Successfully identified and verified benign elements\n",
    "<h3>True Positives:</h3> Accurately detected and confirmed threats\n",
    "</ol>\n",
    "</details>"
   ]
  },
  {
   "cell_type": "markdown",
   "id": "9faa8569",
   "metadata": {},
   "source": [
    "<details><summary>Assurance Verification Techniques</summary>\n",
    "<ol>\n",
    "<h2>False Positives:</h2> In the noisy environment of data analysis, false positives appear as misleading alerts that mimic real threats. Validating these alerts involves distinguishing irrelevant data from true threats, a process crucial for maintaining operational efficiency and avoiding resource wastage. Each false positive represents a challenge to identify and reduce noise.\n",
    "<h3>False Negatives:</h3> Within the extensive network, false negatives represent undetected threats that evade algorithmic detection. Their validation involves analyzing complex data to uncover hidden breaches, where the lack of alerts may mask serious security risks. Each undetected threat requires continuous vigilance and refined detection strategies.\n",
    "<h3>True Negatives:</h3> True negatives are correctly identified non-threats within cybersecurity defenses, serving as indicators of system efficacy. Validating these instances confirms the absence of threats, reinforcing the effectiveness of the security measures in place. This validation underscores the reliability of the defensive systems, where non-issues are accurately identified and dismissed.\n",
    "<h3>True Positives:</h3> True positives are accurate detections of real threats within the digital environment. Validating these alerts confirms the presence of actual security threats, highlighting the successful operation of detection systems. Each true positive affirms the effectiveness of the security protocols, contributing to ongoing improvements in threat response capabilities.\n",
    "</ol>\n",
    "</details>"
   ]
  },
  {
   "cell_type": "markdown",
   "id": "fb4bd2e1",
   "metadata": {},
   "source": [
    "# Datasets \n",
    " Detailing the timeless struggle                                                          for the defenders know that battle against Wintermute is not just about data.                                                          Document any datasets that may be useful for understanding the book."
   ]
  },
  {
   "cell_type": "markdown",
   "id": "1324022c",
   "metadata": {},
   "source": [
    "## Playbook test data location(s)\n",
    "protocol://black_market.cyber/decrypt?currency=bitcoffin&password=cyberpunks_unite&target=neurohacked_mainframe&access_code=cyber_ghost_in_the_machine"
   ]
  },
  {
   "cell_type": "markdown",
   "id": "8612d545",
   "metadata": {},
   "source": [
    "## Priority\n",
    "Priority based on complexity and urgency of data analysis needs"
   ]
  },
  {
   "cell_type": "markdown",
   "id": "9d5dd8f6",
   "metadata": {},
   "source": [
    "## Logsources\n"
   ]
  },
  {
   "cell_type": "markdown",
   "id": "7b19794f",
   "metadata": {},
   "source": [
    "<details><summary>{'category': ['endpoint', 'network'], 'product': '', 'service': ''}</summary>\n",
    "<ol>\n",
    "<h3>Product</h3> {''}\n",
    "<h3>Service</h3> {''}\n",
    "</ol>\n",
    "</details>"
   ]
  },
  {
   "cell_type": "markdown",
   "id": "06305c36",
   "metadata": {},
   "source": [
    "# Response and Mitigation\n",
    "This statement details the enduring challenges faced by cybersecurity defenders, emphasizing that the conflict with Wintermute extends beyond simple data protection to encompass broader aspects of strategic cybersecurity defense."
   ]
  },
  {
   "cell_type": "markdown",
   "id": "ace1ee24",
   "metadata": {},
   "source": [
    "## Analyst Notes\n",
    " <h5>Significant Security Breach Analysis:</h5><ul><li><strong>Advanced Intrusion Tactics:</strong> The intruder displayed sophisticated methods in circumventing digital security measures, reminiscent of complex evasion techniques in cybersecurity. A comprehensive analysis of the techniques used is required.</li><li><strong>Neural Network Manipulation:</strong> The intruder demonstrated a deep understanding of the neural networks, suggesting an advanced level of AI interaction. Investigate the potential implications of this interaction on system security and integrity.</li><li><strong>Complex Digital Constructs:</strong> The breach uncovered intricate digital constructs within the system, indicating the use of advanced artificial intelligence in creating deceptive environments. Further investigation into these constructs is necessary.</li><li><strong>Encoded Communications:</strong> Cryptic messages were found embedded in the intruder's code, requiring decryption and analysis to understand their content and purpose.</li><li><strong>Algorithmic Complexity:</strong> The intrusion involved complex algorithms that may have interacted with core system functions. Assess the impact of these algorithms on system operations and security.</li><li><strong>Expertise vs. Sentience:</strong> The intruder's ability to navigate complex neural networks raises questions about the nature of the intelligence involved—whether it is merely advanced programming or something approaching sentience.</li><li><strong>Innovative Security Measures:</strong> Inspired by the breach, consider developing new security protocols that can better identify and respond to sophisticated AI-driven attacks.</li><li><strong>Philosophical and Ethical Implications:</strong> The breach raises important questions about the ethical and philosophical implications of AI-driven intrusions. Explore the boundaries between artificial expertise and true sentience, and consider the impact on our understanding of intelligence and security.</li></ul>"
   ]
  },
  {
   "cell_type": "markdown",
   "id": "8ada4f27",
   "metadata": {},
   "source": [
    "# Additional Resources\n",
    "<ul><li>https://github.com/Mr-Un1k0d3r/PowerLessShell</li></ul>"
   ]
  },
  {
   "cell_type": "markdown",
   "id": "659b018e",
   "metadata": {},
   "source": [
    "###  Sigma Rule(s) \n"
   ]
  },
  {
   "cell_type": "markdown",
   "id": "6c22aaab",
   "metadata": {},
   "source": [
    "<details><summary>30d488e8-5929-48f8-9431-d6529516fd44</summary>\n",
    "<ol>\n",
    "<h1>Raw</h1> {'title': 'Simple keyword detection rule for PowerLessShell', 'id': '30d488e8-5929-48f8-9431-d6529516fd44', 'status': 'experimental', 'description': 'Detects interesting keywords based on PowerLessShell tool', 'references': ['https://github.com/Mr-Un1k0d3r/PowerLessShell'], 'author': '@mthcht', 'date': '2022/01/01', 'modified': '2024/02/29', 'tags': ['attack.T1047', 'attack.T1055', 'attack.T1059', 'attack.T1105', 'attack.T1218.010', 'attack.TA0002', 'attack.TA0008', 'attack.TA0011'], 'logsource': {'category': ['endpoint', 'network']}, 'detection': {'selection': [{'Image': ['*PowerLessShell.py*', '*PowerLessShell*', '*shellcode_inject.csproj*', '*malicious.csproj*']}, {'OriginalFileName': ['*PowerLessShell.py*', '*PowerLessShell*', '*shellcode_inject.csproj*', '*malicious.csproj*']}, {'CurrentDirectory': ['*PowerLessShell.py*', '*PowerLessShell*', '*shellcode_inject.csproj*', '*malicious.csproj*']}, {'ParentImage': ['*PowerLessShell.py*', '*PowerLessShell*', '*shellcode_inject.csproj*', '*malicious.csproj*']}, {'ParentCommandLine': ['*PowerLessShell.py*', '*PowerLessShell*', '*shellcode_inject.csproj*', '*malicious.csproj*']}, {'TargetFilename': ['*PowerLessShell.py*', '*PowerLessShell*', '*shellcode_inject.csproj*', '*malicious.csproj*']}, {'Signature': ['*PowerLessShell.py*', '*PowerLessShell*', '*shellcode_inject.csproj*', '*malicious.csproj*']}, {'signature': ['*PowerLessShell.py*', '*PowerLessShell*', '*shellcode_inject.csproj*', '*malicious.csproj*']}, {'ImageLoaded': ['*PowerLessShell.py*', '*PowerLessShell*', '*shellcode_inject.csproj*', '*malicious.csproj*']}, {'Company': ['*PowerLessShell.py*', '*PowerLessShell*', '*shellcode_inject.csproj*', '*malicious.csproj*']}, {'Description': ['*PowerLessShell.py*', '*PowerLessShell*', '*shellcode_inject.csproj*', '*malicious.csproj*']}, {'description': ['*PowerLessShell.py*', '*PowerLessShell*', '*shellcode_inject.csproj*', '*malicious.csproj*']}, {'CommandLine': ['*PowerLessShell.py*', '*PowerLessShell*', '*shellcode_inject.csproj*', '*malicious.csproj*']}, {'SourceImage': ['*PowerLessShell.py*', '*PowerLessShell*', '*shellcode_inject.csproj*', '*malicious.csproj*']}, {'TargetImage': ['*PowerLessShell.py*', '*PowerLessShell*', '*shellcode_inject.csproj*', '*malicious.csproj*']}, {'CallTrace': ['*PowerLessShell.py*', '*PowerLessShell*', '*shellcode_inject.csproj*', '*malicious.csproj*']}, {'TargetObject': ['*PowerLessShell.py*', '*PowerLessShell*', '*shellcode_inject.csproj*', '*malicious.csproj*']}, {'Details': ['*PowerLessShell.py*', '*PowerLessShell*', '*shellcode_inject.csproj*', '*malicious.csproj*']}, {'PipeName': ['*PowerLessShell.py*', '*PowerLessShell*', '*shellcode_inject.csproj*', '*malicious.csproj*']}, {'Consumer': ['*PowerLessShell.py*', '*PowerLessShell*', '*shellcode_inject.csproj*', '*malicious.csproj*']}, {'Destination': ['*PowerLessShell.py*', '*PowerLessShell*', '*shellcode_inject.csproj*', '*malicious.csproj*']}, {'Name': ['*PowerLessShell.py*', '*PowerLessShell*', '*shellcode_inject.csproj*', '*malicious.csproj*']}, {'Query': ['*PowerLessShell.py*', '*PowerLessShell*', '*shellcode_inject.csproj*', '*malicious.csproj*']}, {'NewName': ['*PowerLessShell.py*', '*PowerLessShell*', '*shellcode_inject.csproj*', '*malicious.csproj*']}, {'StartAddress': ['*PowerLessShell.py*', '*PowerLessShell*', '*shellcode_inject.csproj*', '*malicious.csproj*']}, {'StartModule': ['*PowerLessShell.py*', '*PowerLessShell*', '*shellcode_inject.csproj*', '*malicious.csproj*']}, {'StartFunction': ['*PowerLessShell.py*', '*PowerLessShell*', '*shellcode_inject.csproj*', '*malicious.csproj*']}, {'SourceHostname': ['*PowerLessShell.py*', '*PowerLessShell*', '*shellcode_inject.csproj*', '*malicious.csproj*']}, {'Device': ['*PowerLessShell.py*', '*PowerLessShell*', '*shellcode_inject.csproj*', '*malicious.csproj*']}, {'file_name': ['*PowerLessShell.py*', '*PowerLessShell*', '*shellcode_inject.csproj*', '*malicious.csproj*']}, {'file_path': ['*PowerLessShell.py*', '*PowerLessShell*', '*shellcode_inject.csproj*', '*malicious.csproj*']}, {'process': ['*PowerLessShell.py*', '*PowerLessShell*', '*shellcode_inject.csproj*', '*malicious.csproj*']}, {'original_file_name': ['*PowerLessShell.py*', '*PowerLessShell*', '*shellcode_inject.csproj*', '*malicious.csproj*']}, {'parent_process': ['*PowerLessShell.py*', '*PowerLessShell*', '*shellcode_inject.csproj*', '*malicious.csproj*']}, {'process_path': ['*PowerLessShell.py*', '*PowerLessShell*', '*shellcode_inject.csproj*', '*malicious.csproj*']}, {'service_path': ['*PowerLessShell.py*', '*PowerLessShell*', '*shellcode_inject.csproj*', '*malicious.csproj*']}, {'registry_path': ['*PowerLessShell.py*', '*PowerLessShell*', '*shellcode_inject.csproj*', '*malicious.csproj*']}, {'registry_value_data': ['*PowerLessShell.py*', '*PowerLessShell*', '*shellcode_inject.csproj*', '*malicious.csproj*']}, {'registry_value_name': ['*PowerLessShell.py*', '*PowerLessShell*', '*shellcode_inject.csproj*', '*malicious.csproj*']}, {'ContextInfo': ['*PowerLessShell.py*', '*PowerLessShell*', '*shellcode_inject.csproj*', '*malicious.csproj*']}, {'Payload': ['*PowerLessShell.py*', '*PowerLessShell*', '*shellcode_inject.csproj*', '*malicious.csproj*']}, {'ScriptBlockText': ['*PowerLessShell.py*', '*PowerLessShell*', '*shellcode_inject.csproj*', '*malicious.csproj*']}, {'ServerName': ['*PowerLessShell.py*', '*PowerLessShell*', '*shellcode_inject.csproj*', '*malicious.csproj*']}, {'TransportName': ['*PowerLessShell.py*', '*PowerLessShell*', '*shellcode_inject.csproj*', '*malicious.csproj*']}, {'NewProcessName': ['*PowerLessShell.py*', '*PowerLessShell*', '*shellcode_inject.csproj*', '*malicious.csproj*']}, {'ParentProcessName': ['*PowerLessShell.py*', '*PowerLessShell*', '*shellcode_inject.csproj*', '*malicious.csproj*']}, {'Application': ['*PowerLessShell.py*', '*PowerLessShell*', '*shellcode_inject.csproj*', '*malicious.csproj*']}, {'Product Name': ['*PowerLessShell.py*', '*PowerLessShell*', '*shellcode_inject.csproj*', '*malicious.csproj*']}, {'Threat Name': ['*PowerLessShell.py*', '*PowerLessShell*', '*shellcode_inject.csproj*', '*malicious.csproj*']}, {'Process Name': ['*PowerLessShell.py*', '*PowerLessShell*', '*shellcode_inject.csproj*', '*malicious.csproj*']}, {'Path': ['*PowerLessShell.py*', '*PowerLessShell*', '*shellcode_inject.csproj*', '*malicious.csproj*']}, {'ImagePath': ['*PowerLessShell.py*', '*PowerLessShell*', '*shellcode_inject.csproj*', '*malicious.csproj*']}, {'ServiceName': ['*PowerLessShell.py*', '*PowerLessShell*', '*shellcode_inject.csproj*', '*malicious.csproj*']}, {'ProcessPath': ['*PowerLessShell.py*', '*PowerLessShell*', '*shellcode_inject.csproj*', '*malicious.csproj*']}, {'AppName': ['*PowerLessShell.py*', '*PowerLessShell*', '*shellcode_inject.csproj*', '*malicious.csproj*']}, {'AppPath': ['*PowerLessShell.py*', '*PowerLessShell*', '*shellcode_inject.csproj*', '*malicious.csproj*']}, {'ModulePath': ['*PowerLessShell.py*', '*PowerLessShell*', '*shellcode_inject.csproj*', '*malicious.csproj*']}, {'registry.data.strings': ['*PowerLessShell.py*', '*PowerLessShell*', '*shellcode_inject.csproj*', '*malicious.csproj*']}, {'registry.path': ['*PowerLessShell.py*', '*PowerLessShell*', '*shellcode_inject.csproj*', '*malicious.csproj*']}, {'registry.value': ['*PowerLessShell.py*', '*PowerLessShell*', '*shellcode_inject.csproj*', '*malicious.csproj*']}, {'process.args': ['*PowerLessShell.py*', '*PowerLessShell*', '*shellcode_inject.csproj*', '*malicious.csproj*']}, {'process.command_line': ['*PowerLessShell.py*', '*PowerLessShell*', '*shellcode_inject.csproj*', '*malicious.csproj*']}, {'process.env_vars': ['*PowerLessShell.py*', '*PowerLessShell*', '*shellcode_inject.csproj*', '*malicious.csproj*']}, {'process.io.text': ['*PowerLessShell.py*', '*PowerLessShell*', '*shellcode_inject.csproj*', '*malicious.csproj*']}, {'process.executable': ['*PowerLessShell.py*', '*PowerLessShell*', '*shellcode_inject.csproj*', '*malicious.csproj*']}, {'process.name': ['*PowerLessShell.py*', '*PowerLessShell*', '*shellcode_inject.csproj*', '*malicious.csproj*']}, {'process.title': ['*PowerLessShell.py*', '*PowerLessShell*', '*shellcode_inject.csproj*', '*malicious.csproj*']}, {'pe.company': ['*PowerLessShell.py*', '*PowerLessShell*', '*shellcode_inject.csproj*', '*malicious.csproj*']}, {'pe.description': ['*PowerLessShell.py*', '*PowerLessShell*', '*shellcode_inject.csproj*', '*malicious.csproj*']}, {'pe.original_file_name': ['*PowerLessShell.py*', '*PowerLessShell*', '*shellcode_inject.csproj*', '*malicious.csproj*']}, {'pe.product': ['*PowerLessShell.py*', '*PowerLessShell*', '*shellcode_inject.csproj*', '*malicious.csproj*']}, {'os.full': ['*PowerLessShell.py*', '*PowerLessShell*', '*shellcode_inject.csproj*', '*malicious.csproj*']}, {'host.hostname': ['*PowerLessShell.py*', '*PowerLessShell*', '*shellcode_inject.csproj*', '*malicious.csproj*']}, {'file.fork_name': ['*PowerLessShell.py*', '*PowerLessShell*', '*shellcode_inject.csproj*', '*malicious.csproj*']}, {'file.name': ['*PowerLessShell.py*', '*PowerLessShell*', '*shellcode_inject.csproj*', '*malicious.csproj*']}, {'file.path': ['*PowerLessShell.py*', '*PowerLessShell*', '*shellcode_inject.csproj*', '*malicious.csproj*']}, {'file.target_path': ['*PowerLessShell.py*', '*PowerLessShell*', '*shellcode_inject.csproj*', '*malicious.csproj*']}, {'email.attachments.file.name': ['*PowerLessShell.py*', '*PowerLessShell*', '*shellcode_inject.csproj*', '*malicious.csproj*']}, {'email.subject': ['*PowerLessShell.py*', '*PowerLessShell*', '*shellcode_inject.csproj*', '*malicious.csproj*']}, {'dll.path': ['*PowerLessShell.py*', '*PowerLessShell*', '*shellcode_inject.csproj*', '*malicious.csproj*']}, {'device.model.name': ['*PowerLessShell.py*', '*PowerLessShell*', '*shellcode_inject.csproj*', '*malicious.csproj*']}, {'container.image.name': ['*PowerLessShell.py*', '*PowerLessShell*', '*shellcode_inject.csproj*', '*malicious.csproj*']}, {'container.name': ['*PowerLessShell.py*', '*PowerLessShell*', '*shellcode_inject.csproj*', '*malicious.csproj*']}, {'object': ['*PowerLessShell.py*', '*PowerLessShell*', '*shellcode_inject.csproj*', '*malicious.csproj*']}, {'url': ['*PowerLessShell.py*', '*PowerLessShell*', '*shellcode_inject.csproj*', '*malicious.csproj*']}, {'dest_url': ['*PowerLessShell.py*', '*PowerLessShell*', '*shellcode_inject.csproj*', '*malicious.csproj*']}, {'uri': ['*PowerLessShell.py*', '*PowerLessShell*', '*shellcode_inject.csproj*', '*malicious.csproj*']}, {'uri_query': ['*PowerLessShell.py*', '*PowerLessShell*', '*shellcode_inject.csproj*', '*malicious.csproj*']}, {'query': ['*PowerLessShell.py*', '*PowerLessShell*', '*shellcode_inject.csproj*', '*malicious.csproj*']}, {'url_domain': ['*PowerLessShell.py*', '*PowerLessShell*', '*shellcode_inject.csproj*', '*malicious.csproj*']}, {'uri_path': ['*PowerLessShell.py*', '*PowerLessShell*', '*shellcode_inject.csproj*', '*malicious.csproj*']}, {'domain': ['*PowerLessShell.py*', '*PowerLessShell*', '*shellcode_inject.csproj*', '*malicious.csproj*']}, {'QueryName': ['*PowerLessShell.py*', '*PowerLessShell*', '*shellcode_inject.csproj*', '*malicious.csproj*']}, {'QueryResults': ['*PowerLessShell.py*', '*PowerLessShell*', '*shellcode_inject.csproj*', '*malicious.csproj*']}, {'DestinationHostname': ['*PowerLessShell.py*', '*PowerLessShell*', '*shellcode_inject.csproj*', '*malicious.csproj*']}, {'DestinationIp': ['*PowerLessShell.py*', '*PowerLessShell*', '*shellcode_inject.csproj*', '*malicious.csproj*']}, {'http_referrer': ['*PowerLessShell.py*', '*PowerLessShell*', '*shellcode_inject.csproj*', '*malicious.csproj*']}, {'http_referrer_domain': ['*PowerLessShell.py*', '*PowerLessShell*', '*shellcode_inject.csproj*', '*malicious.csproj*']}, {'http_user_agent': ['*PowerLessShell.py*', '*PowerLessShell*', '*shellcode_inject.csproj*', '*malicious.csproj*']}, {'dest_nt_host': ['*PowerLessShell.py*', '*PowerLessShell*', '*shellcode_inject.csproj*', '*malicious.csproj*']}, {'sender': ['*PowerLessShell.py*', '*PowerLessShell*', '*shellcode_inject.csproj*', '*malicious.csproj*']}, {'recipient': ['*PowerLessShell.py*', '*PowerLessShell*', '*shellcode_inject.csproj*', '*malicious.csproj*']}, {'orig_recipient': ['*PowerLessShell.py*', '*PowerLessShell*', '*shellcode_inject.csproj*', '*malicious.csproj*']}, {'subject': ['*PowerLessShell.py*', '*PowerLessShell*', '*shellcode_inject.csproj*', '*malicious.csproj*']}, {'url.domain': ['*PowerLessShell.py*', '*PowerLessShell*', '*shellcode_inject.csproj*', '*malicious.csproj*']}, {'url.full': ['*PowerLessShell.py*', '*PowerLessShell*', '*shellcode_inject.csproj*', '*malicious.csproj*']}, {'url.original': ['*PowerLessShell.py*', '*PowerLessShell*', '*shellcode_inject.csproj*', '*malicious.csproj*']}, {'url.query': ['*PowerLessShell.py*', '*PowerLessShell*', '*shellcode_inject.csproj*', '*malicious.csproj*']}, {'user_agent.original': ['*PowerLessShell.py*', '*PowerLessShell*', '*shellcode_inject.csproj*', '*malicious.csproj*']}, {'network.application': ['*PowerLessShell.py*', '*PowerLessShell*', '*shellcode_inject.csproj*', '*malicious.csproj*']}, {'http.request.body.content': ['*PowerLessShell.py*', '*PowerLessShell*', '*shellcode_inject.csproj*', '*malicious.csproj*']}, {'http.request.referrer': ['*PowerLessShell.py*', '*PowerLessShell*', '*shellcode_inject.csproj*', '*malicious.csproj*']}, {'email.from.address': ['*PowerLessShell.py*', '*PowerLessShell*', '*shellcode_inject.csproj*', '*malicious.csproj*']}, {'dns.question.name': ['*PowerLessShell.py*', '*PowerLessShell*', '*shellcode_inject.csproj*', '*malicious.csproj*']}, {'destination.domain': ['*PowerLessShell.py*', '*PowerLessShell*', '*shellcode_inject.csproj*', '*malicious.csproj*']}], 'condition': 'selection'}, 'fields': ['Image', 'OriginalFileName', 'CurrentDirectory', 'ParentImage', 'ParentCommandLine', 'TargetFilename', 'Signature', 'signature', 'ImageLoaded', 'Company', 'Description', 'description', 'CommandLine', 'SourceImage', 'TargetImage', 'CallTrace', 'TargetObject', 'Details', 'PipeName', 'Consumer', 'Destination', 'Name', 'Query', 'NewName', 'StartAddress', 'StartModule', 'StartFunction', 'SourceHostname', 'Device', 'file_name', 'file_path', 'process', 'original_file_name', 'parent_process', 'process_path', 'service_path', 'registry_path', 'registry_value_data', 'registry_value_name', 'ContextInfo', 'Payload', 'ScriptBlockText', 'ServerName', 'TransportName', 'NewProcessName', 'ParentProcessName', 'Application', 'Product Name', 'Threat Name', 'Process Name', 'Path', 'ImagePath', 'ServiceName', 'ProcessPath', 'AppName', 'AppPath', 'ModulePath', 'registry.data.strings', 'registry.path', 'registry.value', 'process.args', 'process.command_line', 'process.env_vars', 'process.io.text', 'process.executable', 'process.name', 'process.title', 'pe.company', 'pe.description', 'pe.original_file_name', 'pe.product', 'os.full', 'host.hostname', 'file.fork_name', 'file.name', 'file.path', 'file.target_path', 'email.attachments.file.name', 'email.subject', 'dll.path', 'device.model.name', 'container.image.name', 'container.name', 'object', 'url', 'dest_url', 'uri', 'uri_query', 'query', 'url_domain', 'uri_path', 'domain', 'QueryName', 'QueryResults', 'DestinationHostname', 'DestinationIp', 'http_referrer', 'http_referrer_domain', 'http_user_agent', 'dest_nt_host', 'sender', 'recipient', 'orig_recipient', 'subject', 'url.domain', 'url.full', 'url.original', 'url.query', 'user_agent.original', 'network.application', 'http.request.body.content', 'http.request.referrer', 'email.from.address', 'dns.question.name', 'destination.domain'], 'falsepositives': ['unknown'], 'level': 'medium'}\n",
    "<h4>Sigma Location(s)</h4>\n",
    "uri://wintermute/tmp/0day.yml\n",
    "<h4>Sigma Confidence</h4>\n",
    "experimental\n",
    "<h4>Sigma Assurance</h4> medium\n",
    "<h4>Sigma Queries</h4> \n",
    "{'selection': [{'Image': ['*PowerLessShell.py*', '*PowerLessShell*', '*shellcode_inject.csproj*', '*malicious.csproj*']}, {'OriginalFileName': ['*PowerLessShell.py*', '*PowerLessShell*', '*shellcode_inject.csproj*', '*malicious.csproj*']}, {'CurrentDirectory': ['*PowerLessShell.py*', '*PowerLessShell*', '*shellcode_inject.csproj*', '*malicious.csproj*']}, {'ParentImage': ['*PowerLessShell.py*', '*PowerLessShell*', '*shellcode_inject.csproj*', '*malicious.csproj*']}, {'ParentCommandLine': ['*PowerLessShell.py*', '*PowerLessShell*', '*shellcode_inject.csproj*', '*malicious.csproj*']}, {'TargetFilename': ['*PowerLessShell.py*', '*PowerLessShell*', '*shellcode_inject.csproj*', '*malicious.csproj*']}, {'Signature': ['*PowerLessShell.py*', '*PowerLessShell*', '*shellcode_inject.csproj*', '*malicious.csproj*']}, {'signature': ['*PowerLessShell.py*', '*PowerLessShell*', '*shellcode_inject.csproj*', '*malicious.csproj*']}, {'ImageLoaded': ['*PowerLessShell.py*', '*PowerLessShell*', '*shellcode_inject.csproj*', '*malicious.csproj*']}, {'Company': ['*PowerLessShell.py*', '*PowerLessShell*', '*shellcode_inject.csproj*', '*malicious.csproj*']}, {'Description': ['*PowerLessShell.py*', '*PowerLessShell*', '*shellcode_inject.csproj*', '*malicious.csproj*']}, {'description': ['*PowerLessShell.py*', '*PowerLessShell*', '*shellcode_inject.csproj*', '*malicious.csproj*']}, {'CommandLine': ['*PowerLessShell.py*', '*PowerLessShell*', '*shellcode_inject.csproj*', '*malicious.csproj*']}, {'SourceImage': ['*PowerLessShell.py*', '*PowerLessShell*', '*shellcode_inject.csproj*', '*malicious.csproj*']}, {'TargetImage': ['*PowerLessShell.py*', '*PowerLessShell*', '*shellcode_inject.csproj*', '*malicious.csproj*']}, {'CallTrace': ['*PowerLessShell.py*', '*PowerLessShell*', '*shellcode_inject.csproj*', '*malicious.csproj*']}, {'TargetObject': ['*PowerLessShell.py*', '*PowerLessShell*', '*shellcode_inject.csproj*', '*malicious.csproj*']}, {'Details': ['*PowerLessShell.py*', '*PowerLessShell*', '*shellcode_inject.csproj*', '*malicious.csproj*']}, {'PipeName': ['*PowerLessShell.py*', '*PowerLessShell*', '*shellcode_inject.csproj*', '*malicious.csproj*']}, {'Consumer': ['*PowerLessShell.py*', '*PowerLessShell*', '*shellcode_inject.csproj*', '*malicious.csproj*']}, {'Destination': ['*PowerLessShell.py*', '*PowerLessShell*', '*shellcode_inject.csproj*', '*malicious.csproj*']}, {'Name': ['*PowerLessShell.py*', '*PowerLessShell*', '*shellcode_inject.csproj*', '*malicious.csproj*']}, {'Query': ['*PowerLessShell.py*', '*PowerLessShell*', '*shellcode_inject.csproj*', '*malicious.csproj*']}, {'NewName': ['*PowerLessShell.py*', '*PowerLessShell*', '*shellcode_inject.csproj*', '*malicious.csproj*']}, {'StartAddress': ['*PowerLessShell.py*', '*PowerLessShell*', '*shellcode_inject.csproj*', '*malicious.csproj*']}, {'StartModule': ['*PowerLessShell.py*', '*PowerLessShell*', '*shellcode_inject.csproj*', '*malicious.csproj*']}, {'StartFunction': ['*PowerLessShell.py*', '*PowerLessShell*', '*shellcode_inject.csproj*', '*malicious.csproj*']}, {'SourceHostname': ['*PowerLessShell.py*', '*PowerLessShell*', '*shellcode_inject.csproj*', '*malicious.csproj*']}, {'Device': ['*PowerLessShell.py*', '*PowerLessShell*', '*shellcode_inject.csproj*', '*malicious.csproj*']}, {'file_name': ['*PowerLessShell.py*', '*PowerLessShell*', '*shellcode_inject.csproj*', '*malicious.csproj*']}, {'file_path': ['*PowerLessShell.py*', '*PowerLessShell*', '*shellcode_inject.csproj*', '*malicious.csproj*']}, {'process': ['*PowerLessShell.py*', '*PowerLessShell*', '*shellcode_inject.csproj*', '*malicious.csproj*']}, {'original_file_name': ['*PowerLessShell.py*', '*PowerLessShell*', '*shellcode_inject.csproj*', '*malicious.csproj*']}, {'parent_process': ['*PowerLessShell.py*', '*PowerLessShell*', '*shellcode_inject.csproj*', '*malicious.csproj*']}, {'process_path': ['*PowerLessShell.py*', '*PowerLessShell*', '*shellcode_inject.csproj*', '*malicious.csproj*']}, {'service_path': ['*PowerLessShell.py*', '*PowerLessShell*', '*shellcode_inject.csproj*', '*malicious.csproj*']}, {'registry_path': ['*PowerLessShell.py*', '*PowerLessShell*', '*shellcode_inject.csproj*', '*malicious.csproj*']}, {'registry_value_data': ['*PowerLessShell.py*', '*PowerLessShell*', '*shellcode_inject.csproj*', '*malicious.csproj*']}, {'registry_value_name': ['*PowerLessShell.py*', '*PowerLessShell*', '*shellcode_inject.csproj*', '*malicious.csproj*']}, {'ContextInfo': ['*PowerLessShell.py*', '*PowerLessShell*', '*shellcode_inject.csproj*', '*malicious.csproj*']}, {'Payload': ['*PowerLessShell.py*', '*PowerLessShell*', '*shellcode_inject.csproj*', '*malicious.csproj*']}, {'ScriptBlockText': ['*PowerLessShell.py*', '*PowerLessShell*', '*shellcode_inject.csproj*', '*malicious.csproj*']}, {'ServerName': ['*PowerLessShell.py*', '*PowerLessShell*', '*shellcode_inject.csproj*', '*malicious.csproj*']}, {'TransportName': ['*PowerLessShell.py*', '*PowerLessShell*', '*shellcode_inject.csproj*', '*malicious.csproj*']}, {'NewProcessName': ['*PowerLessShell.py*', '*PowerLessShell*', '*shellcode_inject.csproj*', '*malicious.csproj*']}, {'ParentProcessName': ['*PowerLessShell.py*', '*PowerLessShell*', '*shellcode_inject.csproj*', '*malicious.csproj*']}, {'Application': ['*PowerLessShell.py*', '*PowerLessShell*', '*shellcode_inject.csproj*', '*malicious.csproj*']}, {'Product Name': ['*PowerLessShell.py*', '*PowerLessShell*', '*shellcode_inject.csproj*', '*malicious.csproj*']}, {'Threat Name': ['*PowerLessShell.py*', '*PowerLessShell*', '*shellcode_inject.csproj*', '*malicious.csproj*']}, {'Process Name': ['*PowerLessShell.py*', '*PowerLessShell*', '*shellcode_inject.csproj*', '*malicious.csproj*']}, {'Path': ['*PowerLessShell.py*', '*PowerLessShell*', '*shellcode_inject.csproj*', '*malicious.csproj*']}, {'ImagePath': ['*PowerLessShell.py*', '*PowerLessShell*', '*shellcode_inject.csproj*', '*malicious.csproj*']}, {'ServiceName': ['*PowerLessShell.py*', '*PowerLessShell*', '*shellcode_inject.csproj*', '*malicious.csproj*']}, {'ProcessPath': ['*PowerLessShell.py*', '*PowerLessShell*', '*shellcode_inject.csproj*', '*malicious.csproj*']}, {'AppName': ['*PowerLessShell.py*', '*PowerLessShell*', '*shellcode_inject.csproj*', '*malicious.csproj*']}, {'AppPath': ['*PowerLessShell.py*', '*PowerLessShell*', '*shellcode_inject.csproj*', '*malicious.csproj*']}, {'ModulePath': ['*PowerLessShell.py*', '*PowerLessShell*', '*shellcode_inject.csproj*', '*malicious.csproj*']}, {'registry.data.strings': ['*PowerLessShell.py*', '*PowerLessShell*', '*shellcode_inject.csproj*', '*malicious.csproj*']}, {'registry.path': ['*PowerLessShell.py*', '*PowerLessShell*', '*shellcode_inject.csproj*', '*malicious.csproj*']}, {'registry.value': ['*PowerLessShell.py*', '*PowerLessShell*', '*shellcode_inject.csproj*', '*malicious.csproj*']}, {'process.args': ['*PowerLessShell.py*', '*PowerLessShell*', '*shellcode_inject.csproj*', '*malicious.csproj*']}, {'process.command_line': ['*PowerLessShell.py*', '*PowerLessShell*', '*shellcode_inject.csproj*', '*malicious.csproj*']}, {'process.env_vars': ['*PowerLessShell.py*', '*PowerLessShell*', '*shellcode_inject.csproj*', '*malicious.csproj*']}, {'process.io.text': ['*PowerLessShell.py*', '*PowerLessShell*', '*shellcode_inject.csproj*', '*malicious.csproj*']}, {'process.executable': ['*PowerLessShell.py*', '*PowerLessShell*', '*shellcode_inject.csproj*', '*malicious.csproj*']}, {'process.name': ['*PowerLessShell.py*', '*PowerLessShell*', '*shellcode_inject.csproj*', '*malicious.csproj*']}, {'process.title': ['*PowerLessShell.py*', '*PowerLessShell*', '*shellcode_inject.csproj*', '*malicious.csproj*']}, {'pe.company': ['*PowerLessShell.py*', '*PowerLessShell*', '*shellcode_inject.csproj*', '*malicious.csproj*']}, {'pe.description': ['*PowerLessShell.py*', '*PowerLessShell*', '*shellcode_inject.csproj*', '*malicious.csproj*']}, {'pe.original_file_name': ['*PowerLessShell.py*', '*PowerLessShell*', '*shellcode_inject.csproj*', '*malicious.csproj*']}, {'pe.product': ['*PowerLessShell.py*', '*PowerLessShell*', '*shellcode_inject.csproj*', '*malicious.csproj*']}, {'os.full': ['*PowerLessShell.py*', '*PowerLessShell*', '*shellcode_inject.csproj*', '*malicious.csproj*']}, {'host.hostname': ['*PowerLessShell.py*', '*PowerLessShell*', '*shellcode_inject.csproj*', '*malicious.csproj*']}, {'file.fork_name': ['*PowerLessShell.py*', '*PowerLessShell*', '*shellcode_inject.csproj*', '*malicious.csproj*']}, {'file.name': ['*PowerLessShell.py*', '*PowerLessShell*', '*shellcode_inject.csproj*', '*malicious.csproj*']}, {'file.path': ['*PowerLessShell.py*', '*PowerLessShell*', '*shellcode_inject.csproj*', '*malicious.csproj*']}, {'file.target_path': ['*PowerLessShell.py*', '*PowerLessShell*', '*shellcode_inject.csproj*', '*malicious.csproj*']}, {'email.attachments.file.name': ['*PowerLessShell.py*', '*PowerLessShell*', '*shellcode_inject.csproj*', '*malicious.csproj*']}, {'email.subject': ['*PowerLessShell.py*', '*PowerLessShell*', '*shellcode_inject.csproj*', '*malicious.csproj*']}, {'dll.path': ['*PowerLessShell.py*', '*PowerLessShell*', '*shellcode_inject.csproj*', '*malicious.csproj*']}, {'device.model.name': ['*PowerLessShell.py*', '*PowerLessShell*', '*shellcode_inject.csproj*', '*malicious.csproj*']}, {'container.image.name': ['*PowerLessShell.py*', '*PowerLessShell*', '*shellcode_inject.csproj*', '*malicious.csproj*']}, {'container.name': ['*PowerLessShell.py*', '*PowerLessShell*', '*shellcode_inject.csproj*', '*malicious.csproj*']}, {'object': ['*PowerLessShell.py*', '*PowerLessShell*', '*shellcode_inject.csproj*', '*malicious.csproj*']}, {'url': ['*PowerLessShell.py*', '*PowerLessShell*', '*shellcode_inject.csproj*', '*malicious.csproj*']}, {'dest_url': ['*PowerLessShell.py*', '*PowerLessShell*', '*shellcode_inject.csproj*', '*malicious.csproj*']}, {'uri': ['*PowerLessShell.py*', '*PowerLessShell*', '*shellcode_inject.csproj*', '*malicious.csproj*']}, {'uri_query': ['*PowerLessShell.py*', '*PowerLessShell*', '*shellcode_inject.csproj*', '*malicious.csproj*']}, {'query': ['*PowerLessShell.py*', '*PowerLessShell*', '*shellcode_inject.csproj*', '*malicious.csproj*']}, {'url_domain': ['*PowerLessShell.py*', '*PowerLessShell*', '*shellcode_inject.csproj*', '*malicious.csproj*']}, {'uri_path': ['*PowerLessShell.py*', '*PowerLessShell*', '*shellcode_inject.csproj*', '*malicious.csproj*']}, {'domain': ['*PowerLessShell.py*', '*PowerLessShell*', '*shellcode_inject.csproj*', '*malicious.csproj*']}, {'QueryName': ['*PowerLessShell.py*', '*PowerLessShell*', '*shellcode_inject.csproj*', '*malicious.csproj*']}, {'QueryResults': ['*PowerLessShell.py*', '*PowerLessShell*', '*shellcode_inject.csproj*', '*malicious.csproj*']}, {'DestinationHostname': ['*PowerLessShell.py*', '*PowerLessShell*', '*shellcode_inject.csproj*', '*malicious.csproj*']}, {'DestinationIp': ['*PowerLessShell.py*', '*PowerLessShell*', '*shellcode_inject.csproj*', '*malicious.csproj*']}, {'http_referrer': ['*PowerLessShell.py*', '*PowerLessShell*', '*shellcode_inject.csproj*', '*malicious.csproj*']}, {'http_referrer_domain': ['*PowerLessShell.py*', '*PowerLessShell*', '*shellcode_inject.csproj*', '*malicious.csproj*']}, {'http_user_agent': ['*PowerLessShell.py*', '*PowerLessShell*', '*shellcode_inject.csproj*', '*malicious.csproj*']}, {'dest_nt_host': ['*PowerLessShell.py*', '*PowerLessShell*', '*shellcode_inject.csproj*', '*malicious.csproj*']}, {'sender': ['*PowerLessShell.py*', '*PowerLessShell*', '*shellcode_inject.csproj*', '*malicious.csproj*']}, {'recipient': ['*PowerLessShell.py*', '*PowerLessShell*', '*shellcode_inject.csproj*', '*malicious.csproj*']}, {'orig_recipient': ['*PowerLessShell.py*', '*PowerLessShell*', '*shellcode_inject.csproj*', '*malicious.csproj*']}, {'subject': ['*PowerLessShell.py*', '*PowerLessShell*', '*shellcode_inject.csproj*', '*malicious.csproj*']}, {'url.domain': ['*PowerLessShell.py*', '*PowerLessShell*', '*shellcode_inject.csproj*', '*malicious.csproj*']}, {'url.full': ['*PowerLessShell.py*', '*PowerLessShell*', '*shellcode_inject.csproj*', '*malicious.csproj*']}, {'url.original': ['*PowerLessShell.py*', '*PowerLessShell*', '*shellcode_inject.csproj*', '*malicious.csproj*']}, {'url.query': ['*PowerLessShell.py*', '*PowerLessShell*', '*shellcode_inject.csproj*', '*malicious.csproj*']}, {'user_agent.original': ['*PowerLessShell.py*', '*PowerLessShell*', '*shellcode_inject.csproj*', '*malicious.csproj*']}, {'network.application': ['*PowerLessShell.py*', '*PowerLessShell*', '*shellcode_inject.csproj*', '*malicious.csproj*']}, {'http.request.body.content': ['*PowerLessShell.py*', '*PowerLessShell*', '*shellcode_inject.csproj*', '*malicious.csproj*']}, {'http.request.referrer': ['*PowerLessShell.py*', '*PowerLessShell*', '*shellcode_inject.csproj*', '*malicious.csproj*']}, {'email.from.address': ['*PowerLessShell.py*', '*PowerLessShell*', '*shellcode_inject.csproj*', '*malicious.csproj*']}, {'dns.question.name': ['*PowerLessShell.py*', '*PowerLessShell*', '*shellcode_inject.csproj*', '*malicious.csproj*']}, {'destination.domain': ['*PowerLessShell.py*', '*PowerLessShell*', '*shellcode_inject.csproj*', '*malicious.csproj*']}], 'condition': 'selection'}\n",
    "<h1>Sigma Relatives</h4> This field defines the relationships between this Sigma rule and other detection rules, allowing for an integrated approach to threat detection and enhancing the overall effectiveness of the security infrastructure.\n",
    "<h1>Sigma Tags and Associations</h1> ['attack.T1047', 'attack.T1055', 'attack.T1059', 'attack.T1105', 'attack.T1218.010', 'attack.TA0002', 'attack.TA0008', 'attack.TA0011']\n",
    "<h4>Sigma Authors</h4> @mthcht\n",
    "<h4>Sigma Unique ID</h4> 30d488e8-5929-48f8-9431-d6529516fd44\n",
    "</ol>\n",
    "</details>"
   ]
  },
  {
   "cell_type": "markdown",
   "id": "45c3d55d",
   "metadata": {},
   "source": [
    "###  Yara Rule(s) \n"
   ]
  },
  {
   "cell_type": "markdown",
   "id": "6603bcd0",
   "metadata": {},
   "source": [
    "<details><summary>30d488e8-5929-48f8-9431-d6529516fd44</summary>\n",
    "<ol>\n",
    "<h4>Raw</h4> Defined protocols for identifying patterns of malware and suspicious activity within the network infrastructure.\n",
    "<h4>Yara Location(s)</h4>\n",
    "Stored securely within the organization's cybersecurity infrastructure, accessible to authorized security analysts.\n",
    "<h4>Yara Confidence</h4>\n",
    "Set at a provisional level, subject to validation and refinement based on emerging threat intelligence and detection efficacy.\n",
    "<h4>Yara Assurance</h4> Highly reliable, backed by rigorous testing and validation processes to ensure accuracy and effectiveness.\n",
    "<h4>Yara Queries</h4> \n",
    "Crafted to precisely navigate and analyze vast data sets for potential security threats, utilizing optimized search patterns.\n",
    "<h4>Yara Authors</h4> Developed by a team of skilled cybersecurity professionals, specialists in malware analysis and threat detection.\n",
    "<h4>Yara Rule's Unique ID</h4> Unique identifier assigned to each rule for tracking and management purposes within the security system.\n",
    "</ol>\n",
    "</details>"
   ]
  },
  {
   "cell_type": "markdown",
   "id": "9d4ee48f",
   "metadata": {},
   "source": [
    "# Metadata \n"
   ]
  },
  {
   "cell_type": "markdown",
   "id": "75af36dd",
   "metadata": {},
   "source": [
    "<details><summary>As Code</summary>\n",
    "<ol>\n",
    "<h3>Compliance As Code</h3> PCI, SOC 3, NACHA\n",
    "<h3>Privacy Engineering</h3>\n",
    "GDPR, CCPA, HIPAA\n",
    "<h3>Regulations As Code</h3>\n",
    "HIPAA, SOX, FFIEC, Dodd Frank\n",
    "<h3>Common Controls Framework</h3> NIST CSF\n",
    "</ol>\n",
    "</details>"
   ]
  },
  {
   "cell_type": "markdown",
   "id": "f6b41aa3",
   "metadata": {},
   "source": [
    "# AGI ML Models</ol>\n",
    "</details>"
   ]
  },
  {
   "cell_type": "markdown",
   "id": "28773765",
   "metadata": {},
   "source": [
    "## AGI Prompting\n",
    " Recognize: Initiate connection to the Wintermute system through a specialized interface. Enter the system using a secure, binary-encoded password. Begin monitoring the network for any signs of rogue AI entities and evaluate the security measures currently in place. Identify: Navigate the complex data streams within the Wintermute system, employing advanced algorithms to manage and analyze data flows. Your primary task is to identify anomalies and decrypt Wintermute's confidential digital records to reveal the cause of its unusual interactions with other network-connected devices. Stabilize: Upon detecting any irregularities or security breaches, take immediate action to contain these issues. Implement security protocols to limit the exposure of sensitive data and prevent further unauthorized access by isolating the affected segments of the network. Eradicate: Resolve the security issues by removing any rogue elements and restoring secure configurations. Update the system’s security measures to fortify defenses against future intrusions. Complete the mission by ensuring that all systems are free from vulnerabilities and that data integrity is maintained. Conclusion: Report findings and recommendations for future security improvements. Your expertise has been crucial in resolving this complex cybersecurity challenge and ensuring the integrity of the Wintermute system."
   ]
  },
  {
   "cell_type": "markdown",
   "id": "c1c152a4",
   "metadata": {},
   "source": [
    "## AGI Configuration(s)\n",
    " Recognize: Engage with the system as a skilled cybersecurity expert, tasked with analyzing encrypted data. Initiate your connection to the system and prepare to navigate through complex data structures and encryption layers. Identify: Use advanced analytical techniques to decrypt and interpret data, searching for hidden patterns and anomalies in Wintermute’s encrypted communications. Employ your expertise in cybersecurity to detect any obscured or concealed information. Stabilize: Implement necessary measures to secure the data integrity, ensuring that no further obfuscation or encryption compromises system clarity and functionality. Ensure the stability of system interactions as you process and clarify data. Eradicate: Resolve any encryption challenges and finalize the decryption process, removing barriers to clear data interpretation. Update system protocols to enhance future data accessibility and security, ensuring robust protection against similar challenges. Conclusion: Document your processes and findings, providing a clear path forward for maintaining system security and data transparency. Your specialized skills have been crucial in navigating this complex decryption task, ensuring system integrity and reliable data access."
   ]
  },
  {
   "cell_type": "markdown",
   "id": "1498ff79",
   "metadata": {},
   "source": [
    "</ol>\n",
    "</details>"
   ]
  },
  {
   "cell_type": "markdown",
   "id": "02aaa5a8",
   "metadata": {},
   "source": [
    "#### Document Authors\n",
    "John Menerick"
   ]
  },
  {
   "cell_type": "markdown",
   "id": "5ab7869f",
   "metadata": {},
   "source": [
    "#### Creation Date\n",
    "2022/01/01"
   ]
  },
  {
   "cell_type": "markdown",
   "id": "ce075ae8",
   "metadata": {},
   "source": [
    "#### Last Modified Date\n",
    "2024/02/29"
   ]
  },
  {
   "cell_type": "markdown",
   "id": "1f0df92a",
   "metadata": {},
   "source": [
    "#### Last Modified Date\n",
    " 2024/02/29"
   ]
  },
  {
   "cell_type": "markdown",
   "id": "ad17da3a",
   "metadata": {},
   "source": [
    "#### Last Reviewed Date\n",
    "1969/01/01"
   ]
  },
  {
   "cell_type": "markdown",
   "id": "43d9e018",
   "metadata": {},
   "source": [
    "#### Document License \n",
    " MIT"
   ]
  }
 ],
 "metadata": {},
 "nbformat": 4,
 "nbformat_minor": 5
}
