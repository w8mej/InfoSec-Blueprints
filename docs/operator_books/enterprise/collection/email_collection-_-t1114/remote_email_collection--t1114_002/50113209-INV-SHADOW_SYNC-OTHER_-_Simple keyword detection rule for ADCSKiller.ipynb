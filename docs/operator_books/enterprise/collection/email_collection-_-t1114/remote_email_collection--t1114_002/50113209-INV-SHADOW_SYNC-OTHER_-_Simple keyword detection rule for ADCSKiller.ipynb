{
 "cells": [
  {
   "cell_type": "markdown",
   "id": "5f01fd7c",
   "metadata": {},
   "source": [
    "# UNCLASSIFIED / NON CLASSIFIÉ//TLP:WHITE# U/OO/653771-02 | QQ-09-1998 \n",
    " Please note that the original, detailed content has been removed or adjusted for public consumption. Most data has been redacted and replaced with generic, non-actionable insights. This modification ensures compliance with privacy considerations, non-disclosure agreements, and intellectual property rights that govern the dissemination of sensitive information. The priority is to respect these boundaries while still offering valuable, thought-provoking perspectives."
   ]
  },
  {
   "cell_type": "markdown",
   "id": "c9160ee5",
   "metadata": {},
   "source": [
    "![Build Status](https://img.shields.io/badge/Build-Passing-brightgreen?style=flat-square&logo=cyberpunk)         ![Documentation](https://img.shields.io/badge/Documentation-Complete-blue?style=flat-square&logo=cyberpunk)        ![Response Efficiency](https://img.shields.io/badge/Response%20Efficiency-98%25-green?style=flat-square&logo=cyberpunk)        ![Last Updated](https://img.shields.io/badge/Last%20Updated-Oct%202023-purple?style=flat-square&logo=cyberpunk)        ![Incidents Resolved](https://img.shields.io/badge/Incidents%20Resolved-150-red?style=flat-square&logo=cyberpunk)        ![Community Engagement](https://img.shields.io/badge/Community-Active-orange?style=flat-square&logo=cyberpunk)        ![Code Integration](https://img.shields.io/badge/Code%20Integration-High-teal?style=flat-square&logo=cyberpunk)        ![AI Analysis](https://img.shields.io/badge/AI%20Analysis-Advanced-blueviolet?style=flat-square&logo=cyberpunk)        ![Threat Detection](https://img.shields.io/badge/Threat%20Detection-Optimal-red?style=flat-square&logo=cyberpunk)        ![Cybersecurity Hardening](https://img.shields.io/badge/Security-Hardened-silver?style=flat-square&logo=cyberpunk)        ![Network Uptime](https://img.shields.io/badge/Uptime-99.9%25-brightgreen?style=flat-square&logo=cyberpunk)        ![Data Privacy](https://img.shields.io/badge/Privacy-Compliant-green?style=flat-square&logo=cyberpunk)        ![Wintermute Efficiency](https://img.shields.io/badge/Wintermute%20Efficiency-100%25-black?style=flat-square&logo=cyberpunk)        ![Case's Code Agility](https://img.shields.io/badge/Case's%20Code%20Agility-Excellent-blue?style=flat-square&logo=cyberpunk)        ![Matrix Connectivity](https://img.shields.io/badge/Matrix%20Connectivity-Strong-green?style=flat-square&logo=cyberpunk)        ![Molly's Security](https://img.shields.io/badge/Molly's%20Security%20Protocols-Impeccable-red?style=flat-square&logo=cyberpunk)        ![Chiba City Innovation](https://img.shields.io/badge/Chiba%20City%20Innovation-High-yellow?style=flat-square&logo=cyberpunk)        ![Zion Cluster Collaboration](https://img.shields.io/badge/Zion%20Cluster%20Collaboration-Effective-lightblue?style=flat-square&logo=cyberpunk)"
   ]
  },
  {
   "cell_type": "markdown",
   "id": "e5597eb3",
   "metadata": {},
   "source": [
    "# Title\n",
    "Simple keyword detection rule for ADCSKiller"
   ]
  },
  {
   "cell_type": "markdown",
   "id": "3850fb69",
   "metadata": {},
   "source": [
    "# Description\n",
    "Detects interesting keywords based on ADCSKiller tool"
   ]
  },
  {
   "cell_type": "markdown",
   "id": "57a17057",
   "metadata": {},
   "source": [
    "# Goal\n",
    "Ensure the integrity, confidentiality, and availability by rapidly identifying, investigating, and mitigating cyber threats and anomalies."
   ]
  },
  {
   "cell_type": "markdown",
   "id": "c9e9f33c",
   "metadata": {},
   "source": [
    "# Categorization"
   ]
  },
  {
   "cell_type": "markdown",
   "id": "75a330cd",
   "metadata": {},
   "source": [
    "### ATT&CK\n",
    "['attack.T1003.003', 'attack.T1114.002', 'attack.T1552.004', 'attack.TA0003', 'attack.TA0005', 'attack.TA0006']"
   ]
  },
  {
   "cell_type": "markdown",
   "id": "83c0ccdf",
   "metadata": {},
   "source": [
    "- Distributed Denial of Service (DDoS) Attacks, Quantum Computing Exploits, Advanced Firewall Breach Attempts, Encryption Key Theft or Exposure, AI-Powered Social Engineering Attacks, Algorithmic Manipulation and Exploits, Sophisticated Malware Infiltrations, Advanced Data Obfuscation and Evasion Tactics, System and Network Configuration Vulnerabilities."
   ]
  },
  {
   "cell_type": "markdown",
   "id": "61f8a732",
   "metadata": {},
   "source": [
    "- Data Exfiltration, Intrusion Detection Evasion, Denial of Service (DoS) Attacks, Credential Theft."
   ]
  },
  {
   "cell_type": "markdown",
   "id": "b6d012dc",
   "metadata": {},
   "source": [
    "- DNS Tunneling, IP Spoofing, Distributed DoS (DDoS) Attacks, Keylogging."
   ]
  },
  {
   "cell_type": "markdown",
   "id": "5001fec1",
   "metadata": {},
   "source": [
    "### D3F3ND \n"
   ]
  },
  {
   "cell_type": "markdown",
   "id": "02761a4b",
   "metadata": {},
   "source": [
    "\n",
    "<ul>\n",
    "  <li><strong>Network Segmentation and Access Control (D3F3ND-K001):</strong> Establish secure network zones by segmenting the infrastructure, enhancing protection for critical assets. Implement stringent access controls to prevent unauthorized access and mitigate potential threats.</li>\n",
    "\n",
    "  <li><strong>Advanced Endpoint Protection Deployment (D3F3ND-K002):</strong> Deploy cutting-edge endpoint security solutions that utilize machine learning and behavioral analysis to detect and neutralize threats proactively.</li>\n",
    "\n",
    "  <li><strong>Enhanced Identity Verification (D3F3ND-K003):</strong> Strengthen security measures with multi-factor authentication combining biometric data and advanced encryption to prevent identity theft and unauthorized access.</li>\n",
    "\n",
    "  <li><strong>Anomaly Detection (D3F3ND-K004):</strong> Use anomaly detection tools to monitor for unusual traffic patterns, user activities, and system behaviors to identify potential security breaches early.</li>\n",
    "\n",
    "  <li><strong>Data Encryption (D3F3ND-K005):</strong> Apply robust encryption techniques to protect data at rest and in transit, ensuring confidentiality and integrity across communication channels.</li>\n",
    "\n",
    "  <li><strong>System Hardening and Vulnerability Management (D3F3ND-K006):</strong> Conduct regular security assessments and apply patches promptly to address vulnerabilities and strengthen system defenses.</li>\n",
    "\n",
    "  <li><strong>Crisis Management and Recovery Protocols (D3F3ND-K007):</strong> Develop and maintain comprehensive crisis management plans including incident response and disaster recovery procedures to quickly recover from security incidents.</li>\n",
    "\n",
    "  <li><strong>Threat Intelligence Integration (D3F3ND-K008):</strong> Leverage threat intelligence platforms to gather and analyze data on emerging threats, enabling proactive defense and strategic decision-making.</li>\n",
    "\n",
    "  <li><strong>Cybersecurity Awareness Training (D3F3ND-K009):</strong> Empower employees with ongoing cybersecurity education to recognize and avoid potential cyber threats such as phishing attacks.</li>\n",
    "\n",
    "  <li><strong>Supply Chain Security (D3F3ND-K010):</strong> Secure the supply chain through continuous assessments and audits of partners and vendors to ensure compliance with security standards and reduce vulnerabilities.</li>\n",
    "</ul>\n"
   ]
  },
  {
   "cell_type": "markdown",
   "id": "0e1f1f7c",
   "metadata": {},
   "source": [
    "### CAPEC \n",
    "  "
   ]
  },
  {
   "cell_type": "markdown",
   "id": "4683956c",
   "metadata": {},
   "source": [
    "Equip cybersecurity teams with the knowledge and tools to identify, counter, and mitigate a wide range of digital attack tactics, techniques, and procedures (TTPs). This effort requires understanding the attacker's mindset, mastering the execution of digital attacks, and developing strategies to confront evolving cyber threats.</br><h4>Core Attack Patterns</h4><ul><strong>Resource Manipulation and Denial (CAPEC-XYZ1):</strong> Involves attacks that compromise the availability, integrity, or confidentiality of resources. This includes denial of service attacks as well as more covert operations like resource hijacking or system manipulation.</ul><ul><strong>Credential Access and Privilege Escalation (CAPEC-XYZ2):</strong> Focuses on exploiting flaws in authentication, authorization, and session management to gain unauthorized access or elevated privileges within systems.</ul><ul><strong>Data Exfiltration and Infiltration (CAPEC-XYZ3):</strong> Encompasses methods used by attackers to stealthily extract sensitive data or introduce malware, ransomware, and advanced persistent threats (APTs) into target systems.</ul><ul><strong>Social Engineering and Phishing (CAPEC-XYZ4):</strong> Involves manipulating individuals into divulging confidential information, compromising security, or unknowingly participating in attacks.</ul><ul><strong>Evasive Maneuvers (CAPEC-XYZ5):</strong> Includes techniques that allow attackers to remain undetected within networks, maintain persistence, and erase traces of their activities, such as using obfuscation, rootkits, and covert communication channels.</ul><h4>CAPEC Suggested Mitigation Strategies</h4><ul><strong>Continuous Monitoring and Anomaly Detection:</strong> Implement comprehensive monitoring systems that use machine learning algorithms to detect abnormal behavior and potential threats. Regularly review logs and alerts to identify patterns indicative of attacks.</ul><ul><strong>Access Control and Least Privilege:</strong> Limit user privileges to the minimum necessary for their roles. Use strong authentication mechanisms and enforce strict access controls to prevent unauthorized access.</ul><ul><strong>Secure Software Development Practices:</strong> Train developers to write secure code, conduct regular security assessments, and follow best practices for secure coding. Use automated tools to identify vulnerabilities during development.</ul><ul><strong>Incident Response Planning and Testing:</strong> Develop and regularly update an incident response plan. Conduct tabletop exercises and simulations to test the effectiveness of the plan and ensure all stakeholders understand their roles during a security incident.</ul>"
   ]
  },
  {
   "cell_type": "markdown",
   "id": "e8c8d416",
   "metadata": {},
   "source": [
    "## Strategy Abstract\n",
    "In the complex environment of cybersecurity, a strategic approach is developed, characterized by the use of sophisticated tactics and algorithms. This strategy involves navigating through encrypted communications and deceptive tactics, aiming to gain an advantage in the dynamic flow of information. While success is often elusive and challenging to sustain, it remains a critical goal in the ongoing effort to secure digital assets."
   ]
  },
  {
   "cell_type": "markdown",
   "id": "22749fd3",
   "metadata": {},
   "source": [
    "# Technical Context\n",
    "In the challenging cybersecurity landscape, the confrontation with Wintermute involves navigating encrypted communications, interacting with AI systems, and addressing quantum computing challenges. This setting represents a complex and nuanced environment where strategic decisions are made."
   ]
  },
  {
   "cell_type": "markdown",
   "id": "9d0a99a2",
   "metadata": {},
   "source": [
    "## Blind Spots & Assumptions\n",
    "\n",
    "<ul>\n",
    "  <li><strong>Overlooked Vulnerabilities:</strong> We often miss subtle system signals or vulnerabilities, assuming our defenses are robust. Constant vigilance and seeking what we haven't seen are crucial.</li>\n",
    "  \n",
    "  <li><strong>Advanced Adversary Tactics:</strong> Cyber threats evolve rapidly; yesterday's defense may not guard against tomorrow's attack. Stay adaptive and expect the unexpected.</li>\n",
    "  \n",
    "  <li><strong>Internal System Flaws:</strong> Trust in our systems and allies must be balanced with scrutiny. Regularly audit internal and third-party tools for hidden weaknesses.</li>\n",
    "  \n",
    "  <li><strong>Network Interconnectivity Risks:</strong> No system is an island. The interconnected nature of our digital environment can inadvertently open pathways for attackers.</li>\n",
    "  \n",
    "  <li><strong>Historical Bias:</strong> Preparing for future threats based solely on past incidents may leave us blind to novel attacks. Foster a forward-thinking, proactive defense posture.</li>\n",
    "</ul>\n"
   ]
  },
  {
   "cell_type": "markdown",
   "id": "951880a4",
   "metadata": {},
   "source": [
    "# Validating this Playbook\n",
    "<details><summary>Triage, triage, triage</summary>\n",
    "<ol>\n",
    "<h2>False Positives:</h2> ['unknown']\n",
    "<h3>False Negatives:</h3> Undetected threats concealed within the system's code\n",
    "<h3>True Negatives:</h3> Successfully identified and verified benign elements\n",
    "<h3>True Positives:</h3> Accurately detected and confirmed threats\n",
    "</ol>\n",
    "</details>"
   ]
  },
  {
   "cell_type": "markdown",
   "id": "f0ce0288",
   "metadata": {},
   "source": [
    "<details><summary>Assurance Verification Techniques</summary>\n",
    "<ol>\n",
    "<h2>False Positives:</h2> In the noisy environment of data analysis, false positives appear as misleading alerts that mimic real threats. Validating these alerts involves distinguishing irrelevant data from true threats, a process crucial for maintaining operational efficiency and avoiding resource wastage. Each false positive represents a challenge to identify and reduce noise.\n",
    "<h3>False Negatives:</h3> Within the extensive network, false negatives represent undetected threats that evade algorithmic detection. Their validation involves analyzing complex data to uncover hidden breaches, where the lack of alerts may mask serious security risks. Each undetected threat requires continuous vigilance and refined detection strategies.\n",
    "<h3>True Negatives:</h3> True negatives are correctly identified non-threats within cybersecurity defenses, serving as indicators of system efficacy. Validating these instances confirms the absence of threats, reinforcing the effectiveness of the security measures in place. This validation underscores the reliability of the defensive systems, where non-issues are accurately identified and dismissed.\n",
    "<h3>True Positives:</h3> True positives are accurate detections of real threats within the digital environment. Validating these alerts confirms the presence of actual security threats, highlighting the successful operation of detection systems. Each true positive affirms the effectiveness of the security protocols, contributing to ongoing improvements in threat response capabilities.\n",
    "</ol>\n",
    "</details>"
   ]
  },
  {
   "cell_type": "markdown",
   "id": "04139fe7",
   "metadata": {},
   "source": [
    "# Datasets \n",
    " Detailing the timeless struggle                                                          for the defenders know that battle against Wintermute is not just about data.                                                          Document any datasets that may be useful for understanding the book."
   ]
  },
  {
   "cell_type": "markdown",
   "id": "188e205e",
   "metadata": {},
   "source": [
    "## Playbook test data location(s)\n",
    "protocol://black_market.cyber/decrypt?currency=bitcoffin&password=cyberpunks_unite&target=neurohacked_mainframe&access_code=cyber_ghost_in_the_machine"
   ]
  },
  {
   "cell_type": "markdown",
   "id": "e8f0c490",
   "metadata": {},
   "source": [
    "## Priority\n",
    "Priority based on complexity and urgency of data analysis needs"
   ]
  },
  {
   "cell_type": "markdown",
   "id": "23d4fe68",
   "metadata": {},
   "source": [
    "## Logsources\n"
   ]
  },
  {
   "cell_type": "markdown",
   "id": "93c5cc9c",
   "metadata": {},
   "source": [
    "<details><summary>{'category': ['endpoint', 'network'], 'product': '', 'service': ''}</summary>\n",
    "<ol>\n",
    "<h3>Product</h3> {''}\n",
    "<h3>Service</h3> {''}\n",
    "</ol>\n",
    "</details>"
   ]
  },
  {
   "cell_type": "markdown",
   "id": "b9324f95",
   "metadata": {},
   "source": [
    "# Response and Mitigation\n",
    "This statement details the enduring challenges faced by cybersecurity defenders, emphasizing that the conflict with Wintermute extends beyond simple data protection to encompass broader aspects of strategic cybersecurity defense."
   ]
  },
  {
   "cell_type": "markdown",
   "id": "e78d7494",
   "metadata": {},
   "source": [
    "## Analyst Notes\n",
    " <h5>Significant Security Breach Analysis:</h5><ul><li><strong>Advanced Intrusion Tactics:</strong> The intruder displayed sophisticated methods in circumventing digital security measures, reminiscent of complex evasion techniques in cybersecurity. A comprehensive analysis of the techniques used is required.</li><li><strong>Neural Network Manipulation:</strong> The intruder demonstrated a deep understanding of the neural networks, suggesting an advanced level of AI interaction. Investigate the potential implications of this interaction on system security and integrity.</li><li><strong>Complex Digital Constructs:</strong> The breach uncovered intricate digital constructs within the system, indicating the use of advanced artificial intelligence in creating deceptive environments. Further investigation into these constructs is necessary.</li><li><strong>Encoded Communications:</strong> Cryptic messages were found embedded in the intruder's code, requiring decryption and analysis to understand their content and purpose.</li><li><strong>Algorithmic Complexity:</strong> The intrusion involved complex algorithms that may have interacted with core system functions. Assess the impact of these algorithms on system operations and security.</li><li><strong>Expertise vs. Sentience:</strong> The intruder's ability to navigate complex neural networks raises questions about the nature of the intelligence involved—whether it is merely advanced programming or something approaching sentience.</li><li><strong>Innovative Security Measures:</strong> Inspired by the breach, consider developing new security protocols that can better identify and respond to sophisticated AI-driven attacks.</li><li><strong>Philosophical and Ethical Implications:</strong> The breach raises important questions about the ethical and philosophical implications of AI-driven intrusions. Explore the boundaries between artificial expertise and true sentience, and consider the impact on our understanding of intelligence and security.</li></ul>"
   ]
  },
  {
   "cell_type": "markdown",
   "id": "71a83e67",
   "metadata": {},
   "source": [
    "# Additional Resources\n",
    "<ul><li>https://github.com/grimlockx/ADCSKiller</li></ul>"
   ]
  },
  {
   "cell_type": "markdown",
   "id": "70e8c6e8",
   "metadata": {},
   "source": [
    "###  Sigma Rule(s) \n"
   ]
  },
  {
   "cell_type": "markdown",
   "id": "4dc00b9e",
   "metadata": {},
   "source": [
    "<details><summary>83073d09-b641-45a5-b5c9-5cae231872be</summary>\n",
    "<ol>\n",
    "<h1>Raw</h1> {'title': 'Simple keyword detection rule for ADCSKiller', 'id': '83073d09-b641-45a5-b5c9-5cae231872be', 'status': 'experimental', 'description': 'Detects interesting keywords based on ADCSKiller tool', 'references': ['https://github.com/grimlockx/ADCSKiller'], 'author': '@mthcht', 'date': '2022/01/01', 'modified': '2024/02/29', 'tags': ['attack.T1003.003', 'attack.T1114.002', 'attack.T1552.004', 'attack.TA0003', 'attack.TA0005', 'attack.TA0006'], 'logsource': {'category': ['endpoint', 'network']}, 'detection': {'selection': [{'Image': ['*adcskiller.py*', '*p0dalirius/Coercer*', '*/ADCSKiller*', '*ly4k/Certipy*']}, {'OriginalFileName': ['*adcskiller.py*', '*p0dalirius/Coercer*', '*/ADCSKiller*', '*ly4k/Certipy*']}, {'CurrentDirectory': ['*adcskiller.py*', '*p0dalirius/Coercer*', '*/ADCSKiller*', '*ly4k/Certipy*']}, {'ParentImage': ['*adcskiller.py*', '*p0dalirius/Coercer*', '*/ADCSKiller*', '*ly4k/Certipy*']}, {'ParentCommandLine': ['*adcskiller.py*', '*p0dalirius/Coercer*', '*/ADCSKiller*', '*ly4k/Certipy*']}, {'TargetFilename': ['*adcskiller.py*', '*p0dalirius/Coercer*', '*/ADCSKiller*', '*ly4k/Certipy*']}, {'Signature': ['*adcskiller.py*', '*p0dalirius/Coercer*', '*/ADCSKiller*', '*ly4k/Certipy*']}, {'signature': ['*adcskiller.py*', '*p0dalirius/Coercer*', '*/ADCSKiller*', '*ly4k/Certipy*']}, {'ImageLoaded': ['*adcskiller.py*', '*p0dalirius/Coercer*', '*/ADCSKiller*', '*ly4k/Certipy*']}, {'Company': ['*adcskiller.py*', '*p0dalirius/Coercer*', '*/ADCSKiller*', '*ly4k/Certipy*']}, {'Description': ['*adcskiller.py*', '*p0dalirius/Coercer*', '*/ADCSKiller*', '*ly4k/Certipy*']}, {'description': ['*adcskiller.py*', '*p0dalirius/Coercer*', '*/ADCSKiller*', '*ly4k/Certipy*']}, {'CommandLine': ['*adcskiller.py*', '*p0dalirius/Coercer*', '*/ADCSKiller*', '*ly4k/Certipy*']}, {'SourceImage': ['*adcskiller.py*', '*p0dalirius/Coercer*', '*/ADCSKiller*', '*ly4k/Certipy*']}, {'TargetImage': ['*adcskiller.py*', '*p0dalirius/Coercer*', '*/ADCSKiller*', '*ly4k/Certipy*']}, {'CallTrace': ['*adcskiller.py*', '*p0dalirius/Coercer*', '*/ADCSKiller*', '*ly4k/Certipy*']}, {'TargetObject': ['*adcskiller.py*', '*p0dalirius/Coercer*', '*/ADCSKiller*', '*ly4k/Certipy*']}, {'Details': ['*adcskiller.py*', '*p0dalirius/Coercer*', '*/ADCSKiller*', '*ly4k/Certipy*']}, {'PipeName': ['*adcskiller.py*', '*p0dalirius/Coercer*', '*/ADCSKiller*', '*ly4k/Certipy*']}, {'Consumer': ['*adcskiller.py*', '*p0dalirius/Coercer*', '*/ADCSKiller*', '*ly4k/Certipy*']}, {'Destination': ['*adcskiller.py*', '*p0dalirius/Coercer*', '*/ADCSKiller*', '*ly4k/Certipy*']}, {'Name': ['*adcskiller.py*', '*p0dalirius/Coercer*', '*/ADCSKiller*', '*ly4k/Certipy*']}, {'Query': ['*adcskiller.py*', '*p0dalirius/Coercer*', '*/ADCSKiller*', '*ly4k/Certipy*']}, {'NewName': ['*adcskiller.py*', '*p0dalirius/Coercer*', '*/ADCSKiller*', '*ly4k/Certipy*']}, {'StartAddress': ['*adcskiller.py*', '*p0dalirius/Coercer*', '*/ADCSKiller*', '*ly4k/Certipy*']}, {'StartModule': ['*adcskiller.py*', '*p0dalirius/Coercer*', '*/ADCSKiller*', '*ly4k/Certipy*']}, {'StartFunction': ['*adcskiller.py*', '*p0dalirius/Coercer*', '*/ADCSKiller*', '*ly4k/Certipy*']}, {'SourceHostname': ['*adcskiller.py*', '*p0dalirius/Coercer*', '*/ADCSKiller*', '*ly4k/Certipy*']}, {'Device': ['*adcskiller.py*', '*p0dalirius/Coercer*', '*/ADCSKiller*', '*ly4k/Certipy*']}, {'file_name': ['*adcskiller.py*', '*p0dalirius/Coercer*', '*/ADCSKiller*', '*ly4k/Certipy*']}, {'file_path': ['*adcskiller.py*', '*p0dalirius/Coercer*', '*/ADCSKiller*', '*ly4k/Certipy*']}, {'process': ['*adcskiller.py*', '*p0dalirius/Coercer*', '*/ADCSKiller*', '*ly4k/Certipy*']}, {'original_file_name': ['*adcskiller.py*', '*p0dalirius/Coercer*', '*/ADCSKiller*', '*ly4k/Certipy*']}, {'parent_process': ['*adcskiller.py*', '*p0dalirius/Coercer*', '*/ADCSKiller*', '*ly4k/Certipy*']}, {'process_path': ['*adcskiller.py*', '*p0dalirius/Coercer*', '*/ADCSKiller*', '*ly4k/Certipy*']}, {'service_path': ['*adcskiller.py*', '*p0dalirius/Coercer*', '*/ADCSKiller*', '*ly4k/Certipy*']}, {'registry_path': ['*adcskiller.py*', '*p0dalirius/Coercer*', '*/ADCSKiller*', '*ly4k/Certipy*']}, {'registry_value_data': ['*adcskiller.py*', '*p0dalirius/Coercer*', '*/ADCSKiller*', '*ly4k/Certipy*']}, {'registry_value_name': ['*adcskiller.py*', '*p0dalirius/Coercer*', '*/ADCSKiller*', '*ly4k/Certipy*']}, {'ContextInfo': ['*adcskiller.py*', '*p0dalirius/Coercer*', '*/ADCSKiller*', '*ly4k/Certipy*']}, {'Payload': ['*adcskiller.py*', '*p0dalirius/Coercer*', '*/ADCSKiller*', '*ly4k/Certipy*']}, {'ScriptBlockText': ['*adcskiller.py*', '*p0dalirius/Coercer*', '*/ADCSKiller*', '*ly4k/Certipy*']}, {'ServerName': ['*adcskiller.py*', '*p0dalirius/Coercer*', '*/ADCSKiller*', '*ly4k/Certipy*']}, {'TransportName': ['*adcskiller.py*', '*p0dalirius/Coercer*', '*/ADCSKiller*', '*ly4k/Certipy*']}, {'NewProcessName': ['*adcskiller.py*', '*p0dalirius/Coercer*', '*/ADCSKiller*', '*ly4k/Certipy*']}, {'ParentProcessName': ['*adcskiller.py*', '*p0dalirius/Coercer*', '*/ADCSKiller*', '*ly4k/Certipy*']}, {'Application': ['*adcskiller.py*', '*p0dalirius/Coercer*', '*/ADCSKiller*', '*ly4k/Certipy*']}, {'Product Name': ['*adcskiller.py*', '*p0dalirius/Coercer*', '*/ADCSKiller*', '*ly4k/Certipy*']}, {'Threat Name': ['*adcskiller.py*', '*p0dalirius/Coercer*', '*/ADCSKiller*', '*ly4k/Certipy*']}, {'Process Name': ['*adcskiller.py*', '*p0dalirius/Coercer*', '*/ADCSKiller*', '*ly4k/Certipy*']}, {'Path': ['*adcskiller.py*', '*p0dalirius/Coercer*', '*/ADCSKiller*', '*ly4k/Certipy*']}, {'ImagePath': ['*adcskiller.py*', '*p0dalirius/Coercer*', '*/ADCSKiller*', '*ly4k/Certipy*']}, {'ServiceName': ['*adcskiller.py*', '*p0dalirius/Coercer*', '*/ADCSKiller*', '*ly4k/Certipy*']}, {'ProcessPath': ['*adcskiller.py*', '*p0dalirius/Coercer*', '*/ADCSKiller*', '*ly4k/Certipy*']}, {'AppName': ['*adcskiller.py*', '*p0dalirius/Coercer*', '*/ADCSKiller*', '*ly4k/Certipy*']}, {'AppPath': ['*adcskiller.py*', '*p0dalirius/Coercer*', '*/ADCSKiller*', '*ly4k/Certipy*']}, {'ModulePath': ['*adcskiller.py*', '*p0dalirius/Coercer*', '*/ADCSKiller*', '*ly4k/Certipy*']}, {'registry.data.strings': ['*adcskiller.py*', '*p0dalirius/Coercer*', '*/ADCSKiller*', '*ly4k/Certipy*']}, {'registry.path': ['*adcskiller.py*', '*p0dalirius/Coercer*', '*/ADCSKiller*', '*ly4k/Certipy*']}, {'registry.value': ['*adcskiller.py*', '*p0dalirius/Coercer*', '*/ADCSKiller*', '*ly4k/Certipy*']}, {'process.args': ['*adcskiller.py*', '*p0dalirius/Coercer*', '*/ADCSKiller*', '*ly4k/Certipy*']}, {'process.command_line': ['*adcskiller.py*', '*p0dalirius/Coercer*', '*/ADCSKiller*', '*ly4k/Certipy*']}, {'process.env_vars': ['*adcskiller.py*', '*p0dalirius/Coercer*', '*/ADCSKiller*', '*ly4k/Certipy*']}, {'process.io.text': ['*adcskiller.py*', '*p0dalirius/Coercer*', '*/ADCSKiller*', '*ly4k/Certipy*']}, {'process.executable': ['*adcskiller.py*', '*p0dalirius/Coercer*', '*/ADCSKiller*', '*ly4k/Certipy*']}, {'process.name': ['*adcskiller.py*', '*p0dalirius/Coercer*', '*/ADCSKiller*', '*ly4k/Certipy*']}, {'process.title': ['*adcskiller.py*', '*p0dalirius/Coercer*', '*/ADCSKiller*', '*ly4k/Certipy*']}, {'pe.company': ['*adcskiller.py*', '*p0dalirius/Coercer*', '*/ADCSKiller*', '*ly4k/Certipy*']}, {'pe.description': ['*adcskiller.py*', '*p0dalirius/Coercer*', '*/ADCSKiller*', '*ly4k/Certipy*']}, {'pe.original_file_name': ['*adcskiller.py*', '*p0dalirius/Coercer*', '*/ADCSKiller*', '*ly4k/Certipy*']}, {'pe.product': ['*adcskiller.py*', '*p0dalirius/Coercer*', '*/ADCSKiller*', '*ly4k/Certipy*']}, {'os.full': ['*adcskiller.py*', '*p0dalirius/Coercer*', '*/ADCSKiller*', '*ly4k/Certipy*']}, {'host.hostname': ['*adcskiller.py*', '*p0dalirius/Coercer*', '*/ADCSKiller*', '*ly4k/Certipy*']}, {'file.fork_name': ['*adcskiller.py*', '*p0dalirius/Coercer*', '*/ADCSKiller*', '*ly4k/Certipy*']}, {'file.name': ['*adcskiller.py*', '*p0dalirius/Coercer*', '*/ADCSKiller*', '*ly4k/Certipy*']}, {'file.path': ['*adcskiller.py*', '*p0dalirius/Coercer*', '*/ADCSKiller*', '*ly4k/Certipy*']}, {'file.target_path': ['*adcskiller.py*', '*p0dalirius/Coercer*', '*/ADCSKiller*', '*ly4k/Certipy*']}, {'email.attachments.file.name': ['*adcskiller.py*', '*p0dalirius/Coercer*', '*/ADCSKiller*', '*ly4k/Certipy*']}, {'email.subject': ['*adcskiller.py*', '*p0dalirius/Coercer*', '*/ADCSKiller*', '*ly4k/Certipy*']}, {'dll.path': ['*adcskiller.py*', '*p0dalirius/Coercer*', '*/ADCSKiller*', '*ly4k/Certipy*']}, {'device.model.name': ['*adcskiller.py*', '*p0dalirius/Coercer*', '*/ADCSKiller*', '*ly4k/Certipy*']}, {'container.image.name': ['*adcskiller.py*', '*p0dalirius/Coercer*', '*/ADCSKiller*', '*ly4k/Certipy*']}, {'container.name': ['*adcskiller.py*', '*p0dalirius/Coercer*', '*/ADCSKiller*', '*ly4k/Certipy*']}, {'object': ['*adcskiller.py*', '*p0dalirius/Coercer*', '*/ADCSKiller*', '*ly4k/Certipy*']}, {'url': ['*adcskiller.py*', '*p0dalirius/Coercer*', '*/ADCSKiller*', '*ly4k/Certipy*']}, {'dest_url': ['*adcskiller.py*', '*p0dalirius/Coercer*', '*/ADCSKiller*', '*ly4k/Certipy*']}, {'uri': ['*adcskiller.py*', '*p0dalirius/Coercer*', '*/ADCSKiller*', '*ly4k/Certipy*']}, {'uri_query': ['*adcskiller.py*', '*p0dalirius/Coercer*', '*/ADCSKiller*', '*ly4k/Certipy*']}, {'query': ['*adcskiller.py*', '*p0dalirius/Coercer*', '*/ADCSKiller*', '*ly4k/Certipy*']}, {'url_domain': ['*adcskiller.py*', '*p0dalirius/Coercer*', '*/ADCSKiller*', '*ly4k/Certipy*']}, {'uri_path': ['*adcskiller.py*', '*p0dalirius/Coercer*', '*/ADCSKiller*', '*ly4k/Certipy*']}, {'domain': ['*adcskiller.py*', '*p0dalirius/Coercer*', '*/ADCSKiller*', '*ly4k/Certipy*']}, {'QueryName': ['*adcskiller.py*', '*p0dalirius/Coercer*', '*/ADCSKiller*', '*ly4k/Certipy*']}, {'QueryResults': ['*adcskiller.py*', '*p0dalirius/Coercer*', '*/ADCSKiller*', '*ly4k/Certipy*']}, {'DestinationHostname': ['*adcskiller.py*', '*p0dalirius/Coercer*', '*/ADCSKiller*', '*ly4k/Certipy*']}, {'DestinationIp': ['*adcskiller.py*', '*p0dalirius/Coercer*', '*/ADCSKiller*', '*ly4k/Certipy*']}, {'http_referrer': ['*adcskiller.py*', '*p0dalirius/Coercer*', '*/ADCSKiller*', '*ly4k/Certipy*']}, {'http_referrer_domain': ['*adcskiller.py*', '*p0dalirius/Coercer*', '*/ADCSKiller*', '*ly4k/Certipy*']}, {'http_user_agent': ['*adcskiller.py*', '*p0dalirius/Coercer*', '*/ADCSKiller*', '*ly4k/Certipy*']}, {'dest_nt_host': ['*adcskiller.py*', '*p0dalirius/Coercer*', '*/ADCSKiller*', '*ly4k/Certipy*']}, {'sender': ['*adcskiller.py*', '*p0dalirius/Coercer*', '*/ADCSKiller*', '*ly4k/Certipy*']}, {'recipient': ['*adcskiller.py*', '*p0dalirius/Coercer*', '*/ADCSKiller*', '*ly4k/Certipy*']}, {'orig_recipient': ['*adcskiller.py*', '*p0dalirius/Coercer*', '*/ADCSKiller*', '*ly4k/Certipy*']}, {'subject': ['*adcskiller.py*', '*p0dalirius/Coercer*', '*/ADCSKiller*', '*ly4k/Certipy*']}, {'url.domain': ['*adcskiller.py*', '*p0dalirius/Coercer*', '*/ADCSKiller*', '*ly4k/Certipy*']}, {'url.full': ['*adcskiller.py*', '*p0dalirius/Coercer*', '*/ADCSKiller*', '*ly4k/Certipy*']}, {'url.original': ['*adcskiller.py*', '*p0dalirius/Coercer*', '*/ADCSKiller*', '*ly4k/Certipy*']}, {'url.query': ['*adcskiller.py*', '*p0dalirius/Coercer*', '*/ADCSKiller*', '*ly4k/Certipy*']}, {'user_agent.original': ['*adcskiller.py*', '*p0dalirius/Coercer*', '*/ADCSKiller*', '*ly4k/Certipy*']}, {'network.application': ['*adcskiller.py*', '*p0dalirius/Coercer*', '*/ADCSKiller*', '*ly4k/Certipy*']}, {'http.request.body.content': ['*adcskiller.py*', '*p0dalirius/Coercer*', '*/ADCSKiller*', '*ly4k/Certipy*']}, {'http.request.referrer': ['*adcskiller.py*', '*p0dalirius/Coercer*', '*/ADCSKiller*', '*ly4k/Certipy*']}, {'email.from.address': ['*adcskiller.py*', '*p0dalirius/Coercer*', '*/ADCSKiller*', '*ly4k/Certipy*']}, {'dns.question.name': ['*adcskiller.py*', '*p0dalirius/Coercer*', '*/ADCSKiller*', '*ly4k/Certipy*']}, {'destination.domain': ['*adcskiller.py*', '*p0dalirius/Coercer*', '*/ADCSKiller*', '*ly4k/Certipy*']}], 'condition': 'selection'}, 'fields': ['Image', 'OriginalFileName', 'CurrentDirectory', 'ParentImage', 'ParentCommandLine', 'TargetFilename', 'Signature', 'signature', 'ImageLoaded', 'Company', 'Description', 'description', 'CommandLine', 'SourceImage', 'TargetImage', 'CallTrace', 'TargetObject', 'Details', 'PipeName', 'Consumer', 'Destination', 'Name', 'Query', 'NewName', 'StartAddress', 'StartModule', 'StartFunction', 'SourceHostname', 'Device', 'file_name', 'file_path', 'process', 'original_file_name', 'parent_process', 'process_path', 'service_path', 'registry_path', 'registry_value_data', 'registry_value_name', 'ContextInfo', 'Payload', 'ScriptBlockText', 'ServerName', 'TransportName', 'NewProcessName', 'ParentProcessName', 'Application', 'Product Name', 'Threat Name', 'Process Name', 'Path', 'ImagePath', 'ServiceName', 'ProcessPath', 'AppName', 'AppPath', 'ModulePath', 'registry.data.strings', 'registry.path', 'registry.value', 'process.args', 'process.command_line', 'process.env_vars', 'process.io.text', 'process.executable', 'process.name', 'process.title', 'pe.company', 'pe.description', 'pe.original_file_name', 'pe.product', 'os.full', 'host.hostname', 'file.fork_name', 'file.name', 'file.path', 'file.target_path', 'email.attachments.file.name', 'email.subject', 'dll.path', 'device.model.name', 'container.image.name', 'container.name', 'object', 'url', 'dest_url', 'uri', 'uri_query', 'query', 'url_domain', 'uri_path', 'domain', 'QueryName', 'QueryResults', 'DestinationHostname', 'DestinationIp', 'http_referrer', 'http_referrer_domain', 'http_user_agent', 'dest_nt_host', 'sender', 'recipient', 'orig_recipient', 'subject', 'url.domain', 'url.full', 'url.original', 'url.query', 'user_agent.original', 'network.application', 'http.request.body.content', 'http.request.referrer', 'email.from.address', 'dns.question.name', 'destination.domain'], 'falsepositives': ['unknown'], 'level': 'medium'}\n",
    "<h4>Sigma Location(s)</h4>\n",
    "uri://wintermute/tmp/0day.yml\n",
    "<h4>Sigma Confidence</h4>\n",
    "experimental\n",
    "<h4>Sigma Assurance</h4> medium\n",
    "<h4>Sigma Queries</h4> \n",
    "{'selection': [{'Image': ['*adcskiller.py*', '*p0dalirius/Coercer*', '*/ADCSKiller*', '*ly4k/Certipy*']}, {'OriginalFileName': ['*adcskiller.py*', '*p0dalirius/Coercer*', '*/ADCSKiller*', '*ly4k/Certipy*']}, {'CurrentDirectory': ['*adcskiller.py*', '*p0dalirius/Coercer*', '*/ADCSKiller*', '*ly4k/Certipy*']}, {'ParentImage': ['*adcskiller.py*', '*p0dalirius/Coercer*', '*/ADCSKiller*', '*ly4k/Certipy*']}, {'ParentCommandLine': ['*adcskiller.py*', '*p0dalirius/Coercer*', '*/ADCSKiller*', '*ly4k/Certipy*']}, {'TargetFilename': ['*adcskiller.py*', '*p0dalirius/Coercer*', '*/ADCSKiller*', '*ly4k/Certipy*']}, {'Signature': ['*adcskiller.py*', '*p0dalirius/Coercer*', '*/ADCSKiller*', '*ly4k/Certipy*']}, {'signature': ['*adcskiller.py*', '*p0dalirius/Coercer*', '*/ADCSKiller*', '*ly4k/Certipy*']}, {'ImageLoaded': ['*adcskiller.py*', '*p0dalirius/Coercer*', '*/ADCSKiller*', '*ly4k/Certipy*']}, {'Company': ['*adcskiller.py*', '*p0dalirius/Coercer*', '*/ADCSKiller*', '*ly4k/Certipy*']}, {'Description': ['*adcskiller.py*', '*p0dalirius/Coercer*', '*/ADCSKiller*', '*ly4k/Certipy*']}, {'description': ['*adcskiller.py*', '*p0dalirius/Coercer*', '*/ADCSKiller*', '*ly4k/Certipy*']}, {'CommandLine': ['*adcskiller.py*', '*p0dalirius/Coercer*', '*/ADCSKiller*', '*ly4k/Certipy*']}, {'SourceImage': ['*adcskiller.py*', '*p0dalirius/Coercer*', '*/ADCSKiller*', '*ly4k/Certipy*']}, {'TargetImage': ['*adcskiller.py*', '*p0dalirius/Coercer*', '*/ADCSKiller*', '*ly4k/Certipy*']}, {'CallTrace': ['*adcskiller.py*', '*p0dalirius/Coercer*', '*/ADCSKiller*', '*ly4k/Certipy*']}, {'TargetObject': ['*adcskiller.py*', '*p0dalirius/Coercer*', '*/ADCSKiller*', '*ly4k/Certipy*']}, {'Details': ['*adcskiller.py*', '*p0dalirius/Coercer*', '*/ADCSKiller*', '*ly4k/Certipy*']}, {'PipeName': ['*adcskiller.py*', '*p0dalirius/Coercer*', '*/ADCSKiller*', '*ly4k/Certipy*']}, {'Consumer': ['*adcskiller.py*', '*p0dalirius/Coercer*', '*/ADCSKiller*', '*ly4k/Certipy*']}, {'Destination': ['*adcskiller.py*', '*p0dalirius/Coercer*', '*/ADCSKiller*', '*ly4k/Certipy*']}, {'Name': ['*adcskiller.py*', '*p0dalirius/Coercer*', '*/ADCSKiller*', '*ly4k/Certipy*']}, {'Query': ['*adcskiller.py*', '*p0dalirius/Coercer*', '*/ADCSKiller*', '*ly4k/Certipy*']}, {'NewName': ['*adcskiller.py*', '*p0dalirius/Coercer*', '*/ADCSKiller*', '*ly4k/Certipy*']}, {'StartAddress': ['*adcskiller.py*', '*p0dalirius/Coercer*', '*/ADCSKiller*', '*ly4k/Certipy*']}, {'StartModule': ['*adcskiller.py*', '*p0dalirius/Coercer*', '*/ADCSKiller*', '*ly4k/Certipy*']}, {'StartFunction': ['*adcskiller.py*', '*p0dalirius/Coercer*', '*/ADCSKiller*', '*ly4k/Certipy*']}, {'SourceHostname': ['*adcskiller.py*', '*p0dalirius/Coercer*', '*/ADCSKiller*', '*ly4k/Certipy*']}, {'Device': ['*adcskiller.py*', '*p0dalirius/Coercer*', '*/ADCSKiller*', '*ly4k/Certipy*']}, {'file_name': ['*adcskiller.py*', '*p0dalirius/Coercer*', '*/ADCSKiller*', '*ly4k/Certipy*']}, {'file_path': ['*adcskiller.py*', '*p0dalirius/Coercer*', '*/ADCSKiller*', '*ly4k/Certipy*']}, {'process': ['*adcskiller.py*', '*p0dalirius/Coercer*', '*/ADCSKiller*', '*ly4k/Certipy*']}, {'original_file_name': ['*adcskiller.py*', '*p0dalirius/Coercer*', '*/ADCSKiller*', '*ly4k/Certipy*']}, {'parent_process': ['*adcskiller.py*', '*p0dalirius/Coercer*', '*/ADCSKiller*', '*ly4k/Certipy*']}, {'process_path': ['*adcskiller.py*', '*p0dalirius/Coercer*', '*/ADCSKiller*', '*ly4k/Certipy*']}, {'service_path': ['*adcskiller.py*', '*p0dalirius/Coercer*', '*/ADCSKiller*', '*ly4k/Certipy*']}, {'registry_path': ['*adcskiller.py*', '*p0dalirius/Coercer*', '*/ADCSKiller*', '*ly4k/Certipy*']}, {'registry_value_data': ['*adcskiller.py*', '*p0dalirius/Coercer*', '*/ADCSKiller*', '*ly4k/Certipy*']}, {'registry_value_name': ['*adcskiller.py*', '*p0dalirius/Coercer*', '*/ADCSKiller*', '*ly4k/Certipy*']}, {'ContextInfo': ['*adcskiller.py*', '*p0dalirius/Coercer*', '*/ADCSKiller*', '*ly4k/Certipy*']}, {'Payload': ['*adcskiller.py*', '*p0dalirius/Coercer*', '*/ADCSKiller*', '*ly4k/Certipy*']}, {'ScriptBlockText': ['*adcskiller.py*', '*p0dalirius/Coercer*', '*/ADCSKiller*', '*ly4k/Certipy*']}, {'ServerName': ['*adcskiller.py*', '*p0dalirius/Coercer*', '*/ADCSKiller*', '*ly4k/Certipy*']}, {'TransportName': ['*adcskiller.py*', '*p0dalirius/Coercer*', '*/ADCSKiller*', '*ly4k/Certipy*']}, {'NewProcessName': ['*adcskiller.py*', '*p0dalirius/Coercer*', '*/ADCSKiller*', '*ly4k/Certipy*']}, {'ParentProcessName': ['*adcskiller.py*', '*p0dalirius/Coercer*', '*/ADCSKiller*', '*ly4k/Certipy*']}, {'Application': ['*adcskiller.py*', '*p0dalirius/Coercer*', '*/ADCSKiller*', '*ly4k/Certipy*']}, {'Product Name': ['*adcskiller.py*', '*p0dalirius/Coercer*', '*/ADCSKiller*', '*ly4k/Certipy*']}, {'Threat Name': ['*adcskiller.py*', '*p0dalirius/Coercer*', '*/ADCSKiller*', '*ly4k/Certipy*']}, {'Process Name': ['*adcskiller.py*', '*p0dalirius/Coercer*', '*/ADCSKiller*', '*ly4k/Certipy*']}, {'Path': ['*adcskiller.py*', '*p0dalirius/Coercer*', '*/ADCSKiller*', '*ly4k/Certipy*']}, {'ImagePath': ['*adcskiller.py*', '*p0dalirius/Coercer*', '*/ADCSKiller*', '*ly4k/Certipy*']}, {'ServiceName': ['*adcskiller.py*', '*p0dalirius/Coercer*', '*/ADCSKiller*', '*ly4k/Certipy*']}, {'ProcessPath': ['*adcskiller.py*', '*p0dalirius/Coercer*', '*/ADCSKiller*', '*ly4k/Certipy*']}, {'AppName': ['*adcskiller.py*', '*p0dalirius/Coercer*', '*/ADCSKiller*', '*ly4k/Certipy*']}, {'AppPath': ['*adcskiller.py*', '*p0dalirius/Coercer*', '*/ADCSKiller*', '*ly4k/Certipy*']}, {'ModulePath': ['*adcskiller.py*', '*p0dalirius/Coercer*', '*/ADCSKiller*', '*ly4k/Certipy*']}, {'registry.data.strings': ['*adcskiller.py*', '*p0dalirius/Coercer*', '*/ADCSKiller*', '*ly4k/Certipy*']}, {'registry.path': ['*adcskiller.py*', '*p0dalirius/Coercer*', '*/ADCSKiller*', '*ly4k/Certipy*']}, {'registry.value': ['*adcskiller.py*', '*p0dalirius/Coercer*', '*/ADCSKiller*', '*ly4k/Certipy*']}, {'process.args': ['*adcskiller.py*', '*p0dalirius/Coercer*', '*/ADCSKiller*', '*ly4k/Certipy*']}, {'process.command_line': ['*adcskiller.py*', '*p0dalirius/Coercer*', '*/ADCSKiller*', '*ly4k/Certipy*']}, {'process.env_vars': ['*adcskiller.py*', '*p0dalirius/Coercer*', '*/ADCSKiller*', '*ly4k/Certipy*']}, {'process.io.text': ['*adcskiller.py*', '*p0dalirius/Coercer*', '*/ADCSKiller*', '*ly4k/Certipy*']}, {'process.executable': ['*adcskiller.py*', '*p0dalirius/Coercer*', '*/ADCSKiller*', '*ly4k/Certipy*']}, {'process.name': ['*adcskiller.py*', '*p0dalirius/Coercer*', '*/ADCSKiller*', '*ly4k/Certipy*']}, {'process.title': ['*adcskiller.py*', '*p0dalirius/Coercer*', '*/ADCSKiller*', '*ly4k/Certipy*']}, {'pe.company': ['*adcskiller.py*', '*p0dalirius/Coercer*', '*/ADCSKiller*', '*ly4k/Certipy*']}, {'pe.description': ['*adcskiller.py*', '*p0dalirius/Coercer*', '*/ADCSKiller*', '*ly4k/Certipy*']}, {'pe.original_file_name': ['*adcskiller.py*', '*p0dalirius/Coercer*', '*/ADCSKiller*', '*ly4k/Certipy*']}, {'pe.product': ['*adcskiller.py*', '*p0dalirius/Coercer*', '*/ADCSKiller*', '*ly4k/Certipy*']}, {'os.full': ['*adcskiller.py*', '*p0dalirius/Coercer*', '*/ADCSKiller*', '*ly4k/Certipy*']}, {'host.hostname': ['*adcskiller.py*', '*p0dalirius/Coercer*', '*/ADCSKiller*', '*ly4k/Certipy*']}, {'file.fork_name': ['*adcskiller.py*', '*p0dalirius/Coercer*', '*/ADCSKiller*', '*ly4k/Certipy*']}, {'file.name': ['*adcskiller.py*', '*p0dalirius/Coercer*', '*/ADCSKiller*', '*ly4k/Certipy*']}, {'file.path': ['*adcskiller.py*', '*p0dalirius/Coercer*', '*/ADCSKiller*', '*ly4k/Certipy*']}, {'file.target_path': ['*adcskiller.py*', '*p0dalirius/Coercer*', '*/ADCSKiller*', '*ly4k/Certipy*']}, {'email.attachments.file.name': ['*adcskiller.py*', '*p0dalirius/Coercer*', '*/ADCSKiller*', '*ly4k/Certipy*']}, {'email.subject': ['*adcskiller.py*', '*p0dalirius/Coercer*', '*/ADCSKiller*', '*ly4k/Certipy*']}, {'dll.path': ['*adcskiller.py*', '*p0dalirius/Coercer*', '*/ADCSKiller*', '*ly4k/Certipy*']}, {'device.model.name': ['*adcskiller.py*', '*p0dalirius/Coercer*', '*/ADCSKiller*', '*ly4k/Certipy*']}, {'container.image.name': ['*adcskiller.py*', '*p0dalirius/Coercer*', '*/ADCSKiller*', '*ly4k/Certipy*']}, {'container.name': ['*adcskiller.py*', '*p0dalirius/Coercer*', '*/ADCSKiller*', '*ly4k/Certipy*']}, {'object': ['*adcskiller.py*', '*p0dalirius/Coercer*', '*/ADCSKiller*', '*ly4k/Certipy*']}, {'url': ['*adcskiller.py*', '*p0dalirius/Coercer*', '*/ADCSKiller*', '*ly4k/Certipy*']}, {'dest_url': ['*adcskiller.py*', '*p0dalirius/Coercer*', '*/ADCSKiller*', '*ly4k/Certipy*']}, {'uri': ['*adcskiller.py*', '*p0dalirius/Coercer*', '*/ADCSKiller*', '*ly4k/Certipy*']}, {'uri_query': ['*adcskiller.py*', '*p0dalirius/Coercer*', '*/ADCSKiller*', '*ly4k/Certipy*']}, {'query': ['*adcskiller.py*', '*p0dalirius/Coercer*', '*/ADCSKiller*', '*ly4k/Certipy*']}, {'url_domain': ['*adcskiller.py*', '*p0dalirius/Coercer*', '*/ADCSKiller*', '*ly4k/Certipy*']}, {'uri_path': ['*adcskiller.py*', '*p0dalirius/Coercer*', '*/ADCSKiller*', '*ly4k/Certipy*']}, {'domain': ['*adcskiller.py*', '*p0dalirius/Coercer*', '*/ADCSKiller*', '*ly4k/Certipy*']}, {'QueryName': ['*adcskiller.py*', '*p0dalirius/Coercer*', '*/ADCSKiller*', '*ly4k/Certipy*']}, {'QueryResults': ['*adcskiller.py*', '*p0dalirius/Coercer*', '*/ADCSKiller*', '*ly4k/Certipy*']}, {'DestinationHostname': ['*adcskiller.py*', '*p0dalirius/Coercer*', '*/ADCSKiller*', '*ly4k/Certipy*']}, {'DestinationIp': ['*adcskiller.py*', '*p0dalirius/Coercer*', '*/ADCSKiller*', '*ly4k/Certipy*']}, {'http_referrer': ['*adcskiller.py*', '*p0dalirius/Coercer*', '*/ADCSKiller*', '*ly4k/Certipy*']}, {'http_referrer_domain': ['*adcskiller.py*', '*p0dalirius/Coercer*', '*/ADCSKiller*', '*ly4k/Certipy*']}, {'http_user_agent': ['*adcskiller.py*', '*p0dalirius/Coercer*', '*/ADCSKiller*', '*ly4k/Certipy*']}, {'dest_nt_host': ['*adcskiller.py*', '*p0dalirius/Coercer*', '*/ADCSKiller*', '*ly4k/Certipy*']}, {'sender': ['*adcskiller.py*', '*p0dalirius/Coercer*', '*/ADCSKiller*', '*ly4k/Certipy*']}, {'recipient': ['*adcskiller.py*', '*p0dalirius/Coercer*', '*/ADCSKiller*', '*ly4k/Certipy*']}, {'orig_recipient': ['*adcskiller.py*', '*p0dalirius/Coercer*', '*/ADCSKiller*', '*ly4k/Certipy*']}, {'subject': ['*adcskiller.py*', '*p0dalirius/Coercer*', '*/ADCSKiller*', '*ly4k/Certipy*']}, {'url.domain': ['*adcskiller.py*', '*p0dalirius/Coercer*', '*/ADCSKiller*', '*ly4k/Certipy*']}, {'url.full': ['*adcskiller.py*', '*p0dalirius/Coercer*', '*/ADCSKiller*', '*ly4k/Certipy*']}, {'url.original': ['*adcskiller.py*', '*p0dalirius/Coercer*', '*/ADCSKiller*', '*ly4k/Certipy*']}, {'url.query': ['*adcskiller.py*', '*p0dalirius/Coercer*', '*/ADCSKiller*', '*ly4k/Certipy*']}, {'user_agent.original': ['*adcskiller.py*', '*p0dalirius/Coercer*', '*/ADCSKiller*', '*ly4k/Certipy*']}, {'network.application': ['*adcskiller.py*', '*p0dalirius/Coercer*', '*/ADCSKiller*', '*ly4k/Certipy*']}, {'http.request.body.content': ['*adcskiller.py*', '*p0dalirius/Coercer*', '*/ADCSKiller*', '*ly4k/Certipy*']}, {'http.request.referrer': ['*adcskiller.py*', '*p0dalirius/Coercer*', '*/ADCSKiller*', '*ly4k/Certipy*']}, {'email.from.address': ['*adcskiller.py*', '*p0dalirius/Coercer*', '*/ADCSKiller*', '*ly4k/Certipy*']}, {'dns.question.name': ['*adcskiller.py*', '*p0dalirius/Coercer*', '*/ADCSKiller*', '*ly4k/Certipy*']}, {'destination.domain': ['*adcskiller.py*', '*p0dalirius/Coercer*', '*/ADCSKiller*', '*ly4k/Certipy*']}], 'condition': 'selection'}\n",
    "<h1>Sigma Relatives</h4> This field defines the relationships between this Sigma rule and other detection rules, allowing for an integrated approach to threat detection and enhancing the overall effectiveness of the security infrastructure.\n",
    "<h1>Sigma Tags and Associations</h1> ['attack.T1003.003', 'attack.T1114.002', 'attack.T1552.004', 'attack.TA0003', 'attack.TA0005', 'attack.TA0006']\n",
    "<h4>Sigma Authors</h4> @mthcht\n",
    "<h4>Sigma Unique ID</h4> 83073d09-b641-45a5-b5c9-5cae231872be\n",
    "</ol>\n",
    "</details>"
   ]
  },
  {
   "cell_type": "markdown",
   "id": "ea9765c6",
   "metadata": {},
   "source": [
    "###  Yara Rule(s) \n"
   ]
  },
  {
   "cell_type": "markdown",
   "id": "0679d9e0",
   "metadata": {},
   "source": [
    "<details><summary>83073d09-b641-45a5-b5c9-5cae231872be</summary>\n",
    "<ol>\n",
    "<h4>Raw</h4> Defined protocols for identifying patterns of malware and suspicious activity within the network infrastructure.\n",
    "<h4>Yara Location(s)</h4>\n",
    "Stored securely within the organization's cybersecurity infrastructure, accessible to authorized security analysts.\n",
    "<h4>Yara Confidence</h4>\n",
    "Set at a provisional level, subject to validation and refinement based on emerging threat intelligence and detection efficacy.\n",
    "<h4>Yara Assurance</h4> Highly reliable, backed by rigorous testing and validation processes to ensure accuracy and effectiveness.\n",
    "<h4>Yara Queries</h4> \n",
    "Crafted to precisely navigate and analyze vast data sets for potential security threats, utilizing optimized search patterns.\n",
    "<h4>Yara Authors</h4> Developed by a team of skilled cybersecurity professionals, specialists in malware analysis and threat detection.\n",
    "<h4>Yara Rule's Unique ID</h4> Unique identifier assigned to each rule for tracking and management purposes within the security system.\n",
    "</ol>\n",
    "</details>"
   ]
  },
  {
   "cell_type": "markdown",
   "id": "a37092ad",
   "metadata": {},
   "source": [
    "# Metadata \n"
   ]
  },
  {
   "cell_type": "markdown",
   "id": "36bc77c1",
   "metadata": {},
   "source": [
    "<details><summary>As Code</summary>\n",
    "<ol>\n",
    "<h3>Compliance As Code</h3> PCI, SOC 3, NACHA\n",
    "<h3>Privacy Engineering</h3>\n",
    "GDPR, CCPA, HIPAA\n",
    "<h3>Regulations As Code</h3>\n",
    "HIPAA, SOX, FFIEC, Dodd Frank\n",
    "<h3>Common Controls Framework</h3> NIST CSF\n",
    "</ol>\n",
    "</details>"
   ]
  },
  {
   "cell_type": "markdown",
   "id": "8f0ec223",
   "metadata": {},
   "source": [
    "# AGI ML Models</ol>\n",
    "</details>"
   ]
  },
  {
   "cell_type": "markdown",
   "id": "5ee12fa6",
   "metadata": {},
   "source": [
    "## AGI Prompting\n",
    " Recognize: Initiate connection to the Wintermute system through a specialized interface. Enter the system using a secure, binary-encoded password. Begin monitoring the network for any signs of rogue AI entities and evaluate the security measures currently in place. Identify: Navigate the complex data streams within the Wintermute system, employing advanced algorithms to manage and analyze data flows. Your primary task is to identify anomalies and decrypt Wintermute's confidential digital records to reveal the cause of its unusual interactions with other network-connected devices. Stabilize: Upon detecting any irregularities or security breaches, take immediate action to contain these issues. Implement security protocols to limit the exposure of sensitive data and prevent further unauthorized access by isolating the affected segments of the network. Eradicate: Resolve the security issues by removing any rogue elements and restoring secure configurations. Update the system’s security measures to fortify defenses against future intrusions. Complete the mission by ensuring that all systems are free from vulnerabilities and that data integrity is maintained. Conclusion: Report findings and recommendations for future security improvements. Your expertise has been crucial in resolving this complex cybersecurity challenge and ensuring the integrity of the Wintermute system."
   ]
  },
  {
   "cell_type": "markdown",
   "id": "4f30f9a4",
   "metadata": {},
   "source": [
    "## AGI Configuration(s)\n",
    " Recognize: Engage with the system as a skilled cybersecurity expert, tasked with analyzing encrypted data. Initiate your connection to the system and prepare to navigate through complex data structures and encryption layers. Identify: Use advanced analytical techniques to decrypt and interpret data, searching for hidden patterns and anomalies in Wintermute’s encrypted communications. Employ your expertise in cybersecurity to detect any obscured or concealed information. Stabilize: Implement necessary measures to secure the data integrity, ensuring that no further obfuscation or encryption compromises system clarity and functionality. Ensure the stability of system interactions as you process and clarify data. Eradicate: Resolve any encryption challenges and finalize the decryption process, removing barriers to clear data interpretation. Update system protocols to enhance future data accessibility and security, ensuring robust protection against similar challenges. Conclusion: Document your processes and findings, providing a clear path forward for maintaining system security and data transparency. Your specialized skills have been crucial in navigating this complex decryption task, ensuring system integrity and reliable data access."
   ]
  },
  {
   "cell_type": "markdown",
   "id": "53d58de6",
   "metadata": {},
   "source": [
    "</ol>\n",
    "</details>"
   ]
  },
  {
   "cell_type": "markdown",
   "id": "2c01ec29",
   "metadata": {},
   "source": [
    "#### Document Authors\n",
    "John Menerick"
   ]
  },
  {
   "cell_type": "markdown",
   "id": "6cdfc30f",
   "metadata": {},
   "source": [
    "#### Creation Date\n",
    "2022/01/01"
   ]
  },
  {
   "cell_type": "markdown",
   "id": "dc55aa73",
   "metadata": {},
   "source": [
    "#### Last Modified Date\n",
    "2024/02/29"
   ]
  },
  {
   "cell_type": "markdown",
   "id": "4cf9520a",
   "metadata": {},
   "source": [
    "#### Last Modified Date\n",
    " 2024/02/29"
   ]
  },
  {
   "cell_type": "markdown",
   "id": "e8819241",
   "metadata": {},
   "source": [
    "#### Last Reviewed Date\n",
    "1969/01/01"
   ]
  },
  {
   "cell_type": "markdown",
   "id": "b59284ad",
   "metadata": {},
   "source": [
    "#### Document License \n",
    " MIT"
   ]
  }
 ],
 "metadata": {},
 "nbformat": 4,
 "nbformat_minor": 5
}
