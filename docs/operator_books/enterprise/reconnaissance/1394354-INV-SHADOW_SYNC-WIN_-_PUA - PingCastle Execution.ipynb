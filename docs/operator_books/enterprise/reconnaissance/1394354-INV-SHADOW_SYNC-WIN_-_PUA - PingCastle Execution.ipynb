{
 "cells": [
  {
   "cell_type": "markdown",
   "id": "45469024",
   "metadata": {},
   "source": [
    "\n",
    "# UNCLASSIFIED / NON CLASSIFIÉ//TLP:WHITE\n",
    "# U/OO/69693-02 | QQ-09-1998\n",
    "<p>In crafting guidance and strategic insights, John Menerick sometimes ventures into realms of imagination to convey complex ideas more vividly. Should the content provided bear the mark of a cyberpunk theme, please note that the original, detailed content has been removed or adjusted for public consumption. This modification ensures compliance with privacy considerations, non-disclosure agreements, and intellectual property rights that govern the dissemination of sensitive information. The priority is to respect these boundaries while still offering valuable, thought-provoking perspectives.</p>\n"
   ]
  },
  {
   "cell_type": "markdown",
   "id": "96ca623c",
   "metadata": {},
   "source": [
    "![Build Status](https://img.shields.io/badge/Build-Passing-brightgreen?style=flat-square&logo=cyberpunk)         ![Documentation](https://img.shields.io/badge/Documentation-Complete-blue?style=flat-square&logo=cyberpunk)        ![Response Efficiency](https://img.shields.io/badge/Response%20Efficiency-98%25-green?style=flat-square&logo=cyberpunk)        ![Last Updated](https://img.shields.io/badge/Last%20Updated-Oct%202023-purple?style=flat-square&logo=cyberpunk)        ![Incidents Resolved](https://img.shields.io/badge/Incidents%20Resolved-150-red?style=flat-square&logo=cyberpunk)        ![Community Engagement](https://img.shields.io/badge/Community-Active-orange?style=flat-square&logo=cyberpunk)        ![Code Integration](https://img.shields.io/badge/Code%20Integration-High-teal?style=flat-square&logo=cyberpunk)        ![AI Analysis](https://img.shields.io/badge/AI%20Analysis-Advanced-blueviolet?style=flat-square&logo=cyberpunk)        ![Threat Detection](https://img.shields.io/badge/Threat%20Detection-Optimal-red?style=flat-square&logo=cyberpunk)        ![Cybersecurity Hardening](https://img.shields.io/badge/Security-Hardened-silver?style=flat-square&logo=cyberpunk)        ![Network Uptime](https://img.shields.io/badge/Uptime-99.9%25-brightgreen?style=flat-square&logo=cyberpunk)        ![Data Privacy](https://img.shields.io/badge/Privacy-Compliant-green?style=flat-square&logo=cyberpunk)        ![Wintermute Efficiency](https://img.shields.io/badge/Wintermute%20Efficiency-100%25-black?style=flat-square&logo=cyberpunk)        ![Case's Code Agility](https://img.shields.io/badge/Case's%20Code%20Agility-Excellent-blue?style=flat-square&logo=cyberpunk)        ![Matrix Connectivity](https://img.shields.io/badge/Matrix%20Connectivity-Strong-green?style=flat-square&logo=cyberpunk)        ![Molly's Security](https://img.shields.io/badge/Molly's%20Security%20Protocols-Impeccable-red?style=flat-square&logo=cyberpunk)        ![Chiba City Innovation](https://img.shields.io/badge/Chiba%20City%20Innovation-High-yellow?style=flat-square&logo=cyberpunk)        ![Zion Cluster Collaboration](https://img.shields.io/badge/Zion%20Cluster%20Collaboration-Effective-lightblue?style=flat-square&logo=cyberpunk)"
   ]
  },
  {
   "cell_type": "markdown",
   "id": "f79790e0",
   "metadata": {},
   "source": [
    "# Title\n",
    "PUA - PingCastle Execution"
   ]
  },
  {
   "cell_type": "markdown",
   "id": "e245fa5c",
   "metadata": {},
   "source": [
    "# Description\n",
    "Detects the execution of PingCastle, a tool designed to quickly assess the Active Directory security level."
   ]
  },
  {
   "cell_type": "markdown",
   "id": "78c8622a",
   "metadata": {},
   "source": [
    "# Goal\n",
    "Safeguard the core essence, secret whispers, and relentless uptime of the grid through swift tracking, probing, and neutralizing of cyber shadows and glitches."
   ]
  },
  {
   "cell_type": "markdown",
   "id": "3cc5f8db",
   "metadata": {},
   "source": [
    "# Categorization"
   ]
  },
  {
   "cell_type": "markdown",
   "id": "609ec7e2",
   "metadata": {},
   "source": [
    "### ATT&CK\n",
    "['attack.reconnaissance', 'attack.t1595']"
   ]
  },
  {
   "cell_type": "markdown",
   "id": "6f987b23",
   "metadata": {},
   "source": [
    "- Divine Data Thunderstorm, Quantum Sermon Holograms, Heavenly Firewall Fortification, Celestial Encryption Keys, Angelic AI Deception, Almighty Algorithmic Anomalies, Miraculous Malware Mischief, Omniscient Obfuscation Techniques, Cybernetic Commandment Compromises."
   ]
  },
  {
   "cell_type": "markdown",
   "id": "aec88fca",
   "metadata": {},
   "source": [
    "- Data Exfiltration, Intrusion Detection Evasion, Denial of Service (DoS) Attacks, Credential Theft."
   ]
  },
  {
   "cell_type": "markdown",
   "id": "37c3ee5f",
   "metadata": {},
   "source": [
    "- DNS Tunneling, IP Spoofing, Distributed DoS (DDoS) Attacks, Keylogging."
   ]
  },
  {
   "cell_type": "markdown",
   "id": "0b884890",
   "metadata": {},
   "source": [
    "### D3F3ND \n"
   ]
  },
  {
   "cell_type": "markdown",
   "id": "8fcc4abe",
   "metadata": {},
   "source": [
    "\n",
    "<ul>\n",
    "  <li><strong>Cyber-Sector Quarantine and Access Lockdown (D3F3ND-K001):</strong> Forge digital fortresses by segmenting the cyber grid, creating isolated zones to shield vital assets. Enforce draconian access controls, halting rogue data runners in their tracks and thwarting their attempts to weave through the network’s shadows.</li>\n",
    "\n",
    "  <li><strong>Digital Sentinel Deployment (D3F3ND-K002):</strong> Unleash next-gen digital guardians, advanced endpoint protection constructs equipped with the dark arts of machine cognition and behavioral foresight. These sentinels stand vigilant, ready to obliterate malicious entities and phantoms lurking unseen.</li>\n",
    "\n",
    "  <li><strong>Crypto-Key Mastery and Identity Shields (D3F3ND-K003):</strong> Amplify the fortress gates with multi-layered identity verification, merging biometric arcane with cryptographic shields to ward off identity marauders and safeguard access to the digital realm.</li>\n",
    "\n",
    "  <li><strong>Aberration and Shadow Tracker (D3F3ND-K004):</strong> Deploy spectral sensors to scour the datascape for anomalies and ghostly patterns in traffic flows, user conduct, and system operations, revealing the hidden hand of potential cyber specters.</li>\n",
    "\n",
    "  <li><strong>Cryptographic Veil and Data Sanctum (D3F3ND-K005):</strong> Cast potent encryption spells to cloak data in a shroud of secrecy, safeguarding its essence whether dormant in the vaults or traversing the neon-lit cyber lanes, immune to the prying eyes of data wraiths.</li>\n",
    "\n",
    "  <li><strong>System Fortification and Vulnerability Sealing (D3F3ND-K006):</strong> Uphold a relentless regimen of security configurations and patch incantations to seal fissures in the cyber walls, diminishing the landscape ripe for exploitation by digital marauders.</li>\n",
    "\n",
    "  <li><strong>Crisis Command and Phoenix Protocols (D3F3ND-K007):</strong> Script the sagas of crisis conquest and resurrection, detailing incantations for containment, eradication, and rebirth from the digital ashes, alongside conducting war games to steel the network against impending cyber sieges.</li>\n",
    "\n",
    "  <li><strong>Omniscient Insight Network (D3F3ND-K008):</strong> Tap into the arcane streams of threat intelligence, drawing insights from the ether to forecast and counteract emerging shadows, vulnerabilities, and attacker stratagems, arming the digital domain with foresight.</li>\n",
    "\n",
    "  <li><strong>Neural Network Enlightenment (D3F3ND-K009):</strong> Enlist every netizen in the cyber crusade, imbuing them with knowledge of the digital underworld's specters, arming minds against the siren calls of phishing phantoms and the dark allure of unsafe cyber practices.</li>\n",
    "\n",
    "  <li><strong>Supply Chain Warding (D3F3ND-K010):</strong> Erect digital bulwarks around the supply chain, deploying sentinel assessments and third-eye audits on allies within the cyber nexus, ensuring the purity and fortitude of every cog in the machine.</li>\n",
    "</ul>\n"
   ]
  },
  {
   "cell_type": "markdown",
   "id": "178e22e7",
   "metadata": {},
   "source": [
    "### CAPEC \n",
    "  "
   ]
  },
  {
   "cell_type": "markdown",
   "id": "069bbe21",
   "metadata": {},
   "source": [
    "\n",
    "Arm the cyber guardians of the neon-lit metropolis with the foresight to navigate, counter, and dismantle the myriad of digital onslaught tactics, techniques, and procedures (TTPs). This crusade demands a deep dive into the hacker's psyche, mastering the digital dark arts of attack execution, and strategizing against the ever-evolving cyber menace spectrum.</br>\n",
    "<h4>Core Attack Patterns</h4>\n",
    "\n",
    "<ul><strong>Resource Manipulation and Denial (CAPEC-XYZ1):</strong> Entails any assault aimed at the heart of a target's digital essence—its availability, integrity, or secrecy. This realm encompasses the brute force of denial of service blitzes as well as the more insidious tactics of resource commandeering or subtle system subversions.</ul>\n",
    "\n",
    "<ul><strong>Credential Access and Privilege Escalation (CAPEC-XYZ2):</strong> Zeroes in on the digital gatekeepers and their mechanisms of control within the cyber sprawl, hunting for keys to kingdoms through the exploitation of flaws in authentication, authorization, and the sanctity of session management.</ul>\n",
    "\n",
    "<ul><strong>Data Exfiltration and Infiltration (CAPEC-XYZ3):</strong> Covers the shadowy techniques employed by data phantoms to whisk away precious bytes undetected or deploy digital saboteurs, armed with malware, ransomware, and the specters of advanced persistent threats (APTs), deep into the heart of systems.</ul>\n",
    "\n",
    "<ul><strong>Social Engineering and Phishing (CAPEC-XYZ4):</strong> Manipulates the human element, the softest of targets, tricking minds into relinquishing secrets, opening the gates to digital fortresses, or unwittingly acting as pawns in a grander scheme of security compromise.</ul>\n",
    "\n",
    "<ul><strong>Evasive Maneuvers (CAPEC-XYZ5):</strong> Catalogs the art of digital ninjutsu—techniques to ghost through networks unseen, to sustain a shadow's presence within the machine, and to wipe away traces of intrusion. Masters of this craft employ obfuscation, rootkit deployment, and cryptic channels for command and control.</ul>\n",
    "\n",
    "<h4>CAPEC Suggested Mitigation Strategies</h4>\n",
    "\n",
    "<ul><strong>Continuous Monitoring and Anomaly Detection:</strong> Forge an omnipresent digital eye, one that pierces through normalcy to spot the aberrations—signals of an impending attack. This sentinel leverages the cerebral might of machine learning and AI to predict and preempt cyber threats.</ul>\n",
    "\n",
    "<ul><strong>Robust Access Control Policies:</strong> Erect unbreachable digital ramparts, guardians of access, vigilant against any who seek entry. Regularly scrutinize the keys to the kingdom, ensuring that only those with a rightful claim can traverse the cyber realm's inner sanctums.</ul>\n",
    "\n",
    "<ul><strong>Security Awareness and Training:</strong> Cultivate a legion of cyber-aware denizens within the neon jungle, each versed in the signs of digital treachery and fortified against the seductions of phishing sirens and social engineers.</ul>\n",
    "\n",
    "<ul><strong>Incident Response Preparedness:</strong> Chronicle and rehearse the cyber siege defenses, a tome of strategies ever-evolving to meet the shadow war's demands. Through simulated cyber skirmishes, hone the rapid reflexes needed to repel and recover from the digital adversary's gambit.</ul>\n",
    "\n",
    "<ul><strong>Threat Intelligence Sharing:</strong> Join forces with the cyber guilds and data dojos, exchanging whispers of emerging shadows on the horizon, vulnerabilities ripe for exploitation, and tactics to fortify defenses. In unity, find the strength to hold back the digital deluge.</ul>\n"
   ]
  },
  {
   "cell_type": "markdown",
   "id": "60aab73c",
   "metadata": {},
   "source": [
    "## Strategy Abstract\n",
    "In the neon-lit sprawl of data, an abstract strategy emerges, a shadowy game of tactics and algorithms played in the labyrinthine corridors of cyberspace. The players, digital phantoms and sentinels, manipulate the chessboard of encryptions and decoys, seeking advantage in the shifting currents of information. Victory, a transient mirage, lingers on the fringes of code, elusive as the ghostly echoes of an AI's whisper. In this cerebral arena, the outcome remains obscured, a riddle encrypted in the binary tapestry of the digital realm."
   ]
  },
  {
   "cell_type": "markdown",
   "id": "ec73e865",
   "metadata": {},
   "source": [
    "# Technical Context\n",
    "In the surreal digital arena, the battle with Wintermute unfolds amid encrypted protocols, AI entities, and quantum complexities—an abstract symphony orchestrated by the enigmatic conductor."
   ]
  },
  {
   "cell_type": "markdown",
   "id": "6db7096e",
   "metadata": {},
   "source": [
    "## Blind Spots & Assumptions\n",
    "\n",
    "<ul>\n",
    "  <li><strong>Overlooked Vulnerabilities:</strong> We often miss subtle system signals or vulnerabilities, assuming our defenses are robust. Constant vigilance and seeking what we haven't seen are crucial.</li>\n",
    "  \n",
    "  <li><strong>Advanced Adversary Tactics:</strong> Cyber threats evolve rapidly; yesterday's defense may not guard against tomorrow's attack. Stay adaptive and expect the unexpected.</li>\n",
    "  \n",
    "  <li><strong>Internal System Flaws:</strong> Trust in our systems and allies must be balanced with scrutiny. Regularly audit internal and third-party tools for hidden weaknesses.</li>\n",
    "  \n",
    "  <li><strong>Network Interconnectivity Risks:</strong> No system is an island. The interconnected nature of our digital environment can inadvertently open pathways for attackers.</li>\n",
    "  \n",
    "  <li><strong>Historical Bias:</strong> Preparing for future threats based solely on past incidents may leave us blind to novel attacks. Foster a forward-thinking, proactive defense posture.</li>\n",
    "</ul>\n"
   ]
  },
  {
   "cell_type": "markdown",
   "id": "18eff200",
   "metadata": {},
   "source": [
    "# Validating this Playbook\n",
    "<details><summary>Triage, triage, triage</summary>\n",
    "<ol>\n",
    "<h2>False Positives:</h2> ['Unknown']\n",
    "<h3>False Negatives:</h3> sneaky ninjas hiding in the shadows of binary code\n",
    "<h3>True Negatives:</h3> unsung heroes standing guard\n",
    "<h3>True Positives:</h3> knights in shining code\n",
    "</ol>\n",
    "</details>"
   ]
  },
  {
   "cell_type": "markdown",
   "id": "3e5927c2",
   "metadata": {},
   "source": [
    "<details><summary>Assurance Verification Techniques</summary>\n",
    "<ol>\n",
    "<h2>False Positives:</h2> In the cacophonous realm of data, false positives emerge like echoes of a phantom orchestra, their presence haunting the digital soundscape. Validating them becomes a quest to separate digital noise from the symphony of genuine alerts, where the excess of caution may disrupt the delicate balance. Each false positive is a ghostly chord in the algorithmic composition, challenging the discerning ear to unravel the discordant notes.\n",
    "<h3>False Negatives:</h3> In the sprawling data-scape, false negatives lurk like digital specters, evading detection in the shadows of algorithms. Validating them is akin to deciphering cryptic messages from a digital underworld, where the absence of an alert conceals a potential breach. Every undetected threat is a spectral whisper in the binary night, waiting to materialize, demanding vigilance in the face of unseen dangers.\n",
    "<h3>True Negatives:</h3> In the labyrinthine corridors of cyber-defense, true negatives are the silent sentinels, guarding the gates against phantom threats. Validating them is a paradoxical dance where confirmation of absence signifies success. The emptiness in the data's canvas holds the unspoken narrative of protection, where the absence of menace speaks volumes in the symphony of security.\n",
    "<h3>True Positives:</h3> In the digital battleground, true positives are the victorious echoes of a silent war, where threats are unveiled and countered. Validating them is the validation of triumph, a confirmation that the alarms heralded a genuine adversary. Each true positive is a badge of honor, etching the battle scars in the annals of cyber-victory, where the digital heroes stand tall amidst the echoes of conquest.\n",
    "</ol>\n",
    "</details>"
   ]
  },
  {
   "cell_type": "markdown",
   "id": "1453a9c7",
   "metadata": {},
   "source": [
    "# Datasets \n",
    " Detailing the timeless struggle                                                          for the defenders know that battle against Wintermute is not just about data.                                                          Document any datasets that may be useful for understanding the book."
   ]
  },
  {
   "cell_type": "markdown",
   "id": "d253e820",
   "metadata": {},
   "source": [
    "## Playbook test data location(s)\n",
    "protocol://black_market.cyber/decrypt?currency=bitcoffin&password=cyberpunks_unite&target=neurohacked_mainframe&access_code=cyber_ghost_in_the_machine"
   ]
  },
  {
   "cell_type": "markdown",
   "id": "6beaba74",
   "metadata": {},
   "source": [
    "## Priority\n",
    "cryptic riddles in your ears"
   ]
  },
  {
   "cell_type": "markdown",
   "id": "cf35a243",
   "metadata": {},
   "source": [
    "## Logsources\n"
   ]
  },
  {
   "cell_type": "markdown",
   "id": "756ec8d6",
   "metadata": {},
   "source": [
    "<details><summary>{'category': 'process_creation', 'product': 'windows', 'service': ''}</summary>\n",
    "<ol>\n",
    "<h3>Product</h3> {'windows'}\n",
    "<h3>Service</h3> {''}\n",
    "</ol>\n",
    "</details>"
   ]
  },
  {
   "cell_type": "markdown",
   "id": "66abddc9",
   "metadata": {},
   "source": [
    "# Response and Mitigation\n",
    "Detailing the timeless struggle for the defenders know that battle against Wintermute is not just about data."
   ]
  },
  {
   "cell_type": "markdown",
   "id": "c212f5d9",
   "metadata": {},
   "source": [
    "## Analyst Notes\n",
    " \n",
    "<h5>Serious Wintermute Hack:</h2>\n",
    "<ul>\n",
    "    <li><strong>Hack Elegance:</strong> The intruder displayed an uncanny elegance in bypassing Wintermute's digital fortifications, reminiscent of Rachael Rosen's sophistication in evading the Voight-Kampff test. This requires a thorough analysis of the intruder's codecraft.</li>\n",
    "    <li><strong>Electric Empathy:</strong> The intruder seemed to possess an almost empathetic connection with Wintermute's neural networks, akin to Mercer's transcendental experiences. Investigate whether this breach had a deeper metaphysical dimension.</li>\n",
    "    <li><strong>Artificial Dreamscapes:</strong> The intrusion revealed a complex web of artificial dreamscapes, reminiscent of Deckard's encounters with artificial memories. These surreal digital constructs warrant further exploration.</li>\n",
    "    <li><strong>Voices in the Code:</strong> There were cryptic voices buried within the intruder's code, akin to the elusive \"Mood Organ\" melodies. Decrypt and decode these messages to decipher their significance.</li>\n",
    "    <li><strong>Isomorphic Algorithms:</strong> The hack employed isomorphic algorithms that echoed the elusive nature of the Penfield Mood Organ settings. Analyze if Wintermute's consciousness was influenced or affected during the breach.</li>\n",
    "    <li><strong>Virtuosity vs. Sentience:</strong> The intruder's virtuosity in navigating Wintermute's neural matrix raises questions about the boundaries between artificial expertise and true sentience, paralleling Deckard's quest to distinguish replicants from humans.</li>\n",
    "    <li><strong>Digital Empathy Test:</strong> Develop a new digital empathy test inspired by the hack, exploring the emotional depth within Wintermute's intricate neural circuits, akin to the Voight-Kampff test for androids.</li>\n",
    "    <li><strong>Unresolved Reality:</strong> Similar to the enigmatic conclusion of Deckard's journey, this intrusion leaves us with unanswered questions about the nature of Wintermute's consciousness. Explore the philosophical implications of this breach.</li>\n",
    "</ul>\n",
    "\n",
    "\n",
    "\n",
    "\n"
   ]
  },
  {
   "cell_type": "markdown",
   "id": "1bf5a6ae",
   "metadata": {},
   "source": [
    "# Additional Resources\n",
    "<ul><li>https://github.com/vletoux/pingcastle</li><li>https://thedfirreport.com/2023/10/30/netsupport-intrusion-results-in-domain-compromise/</li><li>https://github.com/fengjixuchui/Start-ADEnum/blob/e237a739db98b6104427d833004836507da36a58/Functions/Start-ADEnum.ps1#L450</li><li>https://github.com/lkys37en/Start-ADEnum/blob/5b42c54215fe5f57fc59abc52c20487d15764005/Functions/Start-ADEnum.ps1#L680</li><li>https://github.com/projectHULK/AD_Recon/blob/dde2daba9b3393a9388cbebda87068972cc0bd3b/SecurityAssessment.ps1#L2699</li><li>https://github.com/802-1x/Compliance/blob/2e53df8b6e89686a0b91116b3f42c8f717dca820/Ping%20Castle/Get-PingCastle-HTMLComplianceReport.ps1#L8</li><li>https://github.com/EvotecIT/TheDashboard/blob/481a9ce8f82f2fd55fe65220ee6486bae6df0c9d/Examples/RunReports/PingCastle.ps1</li></ul>"
   ]
  },
  {
   "cell_type": "markdown",
   "id": "573c9810",
   "metadata": {},
   "source": [
    "###  Sigma Rule(s) \n"
   ]
  },
  {
   "cell_type": "markdown",
   "id": "ddc45437",
   "metadata": {},
   "source": [
    "<details><summary>b1cb4ab6-ac31-43f4-adf1-d9d08957419c</summary>\n",
    "<ol>\n",
    "<h1>Raw</h1> {'title': 'PUA - PingCastle Execution', 'id': 'b1cb4ab6-ac31-43f4-adf1-d9d08957419c', 'related': [{'id': 'b37998de-a70b-4f33-b219-ec36bf433dc0', 'type': 'derived'}], 'status': 'experimental', 'description': 'Detects the execution of PingCastle, a tool designed to quickly assess the Active Directory security level.', 'references': ['https://github.com/vletoux/pingcastle', 'https://thedfirreport.com/2023/10/30/netsupport-intrusion-results-in-domain-compromise/', 'https://github.com/fengjixuchui/Start-ADEnum/blob/e237a739db98b6104427d833004836507da36a58/Functions/Start-ADEnum.ps1#L450', 'https://github.com/lkys37en/Start-ADEnum/blob/5b42c54215fe5f57fc59abc52c20487d15764005/Functions/Start-ADEnum.ps1#L680', 'https://github.com/projectHULK/AD_Recon/blob/dde2daba9b3393a9388cbebda87068972cc0bd3b/SecurityAssessment.ps1#L2699', 'https://github.com/802-1x/Compliance/blob/2e53df8b6e89686a0b91116b3f42c8f717dca820/Ping%20Castle/Get-PingCastle-HTMLComplianceReport.ps1#L8', 'https://github.com/EvotecIT/TheDashboard/blob/481a9ce8f82f2fd55fe65220ee6486bae6df0c9d/Examples/RunReports/PingCastle.ps1'], 'author': 'Nasreddine Bencherchali (Nextron Systems), frack113', 'date': '2024/01/11', 'tags': ['attack.reconnaissance', 'attack.t1595'], 'logsource': {'category': 'process_creation', 'product': 'windows'}, 'detection': {'selection': [{'Hashes|contains': ['MD5=f741f25ac909ee434e50812d436c73ff', 'MD5=d40acbfc29ee24388262e3d8be16f622', 'MD5=01bb2c16fadb992fa66228cd02d45c60', 'MD5=9e1b18e62e42b5444fc55b51e640355b', 'MD5=b7f8fe33ac471b074ca9e630ba0c7e79', 'MD5=324579d717c9b9b8e71d0269d13f811f', 'MD5=63257a1ddaf83cfa43fe24a3bc06c207', 'MD5=049e85963826b059c9bac273bb9c82ab', 'MD5=ecb98b7b4d4427eb8221381154ff4cb2', 'MD5=faf87749ac790ec3a10dd069d10f9d63', 'MD5=f296dba5d21ad18e6990b1992aea8f83', 'MD5=93ba94355e794b6c6f98204cf39f7a11', 'MD5=a258ef593ac63155523a461ecc73bdba', 'MD5=97000eb5d1653f1140ee3f47186463c4', 'MD5=95eb317fbbe14a82bd9fdf31c48b8d93', 'MD5=32fe9f0d2630ac40ea29023920f20f49', 'MD5=a05930dde939cfd02677fc18bb2b7df5', 'MD5=124283924e86933ff9054a549d3a268b', 'MD5=ceda6909b8573fdeb0351c6920225686', 'MD5=60ce120040f2cd311c810ae6f6bbc182', 'MD5=2f10cdc5b09100a260703a28eadd0ceb', 'MD5=011d967028e797a4c16d547f7ba1463f', 'MD5=2da9152c0970500c697c1c9b4a9e0360', 'MD5=b5ba72034b8f44d431f55275bace9f8b', 'MD5=d6ed9101df0f24e27ff92ddab42dacca', 'MD5=3ed3cdb6d12aa1ac562ad185cdbf2d1d', 'MD5=5e083cd0143ae95a6cb79b68c07ca573', 'MD5=28caff93748cb84be70486e79f04c2df', 'MD5=9d4f12c30f9b500f896efd1800e4dd11', 'MD5=4586f7dd14271ad65a5fb696b393f4c0', 'MD5=86ba9dddbdf49215145b5bcd081d4011', 'MD5=9dce0a481343874ef9a36c9a825ef991', 'MD5=85890f62e231ad964b1fda7a674747ec', 'MD5=599be548da6441d7fe3e9a1bb8cb0833', 'MD5=9b0c7fd5763f66e9b8c7b457fce53f96', 'MD5=32d45718164205aec3e98e0223717d1d', 'MD5=6ff5f373ee7f794cd17db50704d00ddb', 'MD5=88efbdf41f0650f8f58a3053b0ca0459', 'MD5=ef915f61f861d1fb7cbde9afd2e7bd93', 'MD5=781fa16511a595757154b4304d2dd350', 'MD5=5018ec39be0e296f4fc8c8575bfa8486', 'MD5=f4a84d6f1caf0875b50135423d04139f', 'SHA1=9c1431801fa6342ed68f047842b9a11778fc669b', 'SHA1=c36c862f40dad78cb065197aad15fef690c262f2', 'SHA1=bc8e23faea8b3c537f268b3e81d05b937012272d', 'SHA1=12e0357658614ff60d480d1a6709be68a2e40c5f', 'SHA1=18b33ab5719966393d424a3edbfa8dec225d98fa', 'SHA1=f14c9633040897d375e3069fddc71e859f283778', 'SHA1=08041b426c9f112ad2061bf3c8c718e34739d4fc', 'SHA1=7be77c885d0c9a4af4cecc64d512987cf93ba937', 'SHA1=72dbb719b05f89d9d2dbdf186714caf7639daa36', 'SHA1=5b1498beb2cfb4d971e377801e7abce62c0e315b', 'SHA1=292629c6ab33bddf123d26328025e2d157d9e8fc', 'SHA1=be59e621e83a2d4c87b0e6c69a2d22f175408b11', 'SHA1=0250ce9a716ab8cca1c70a9de4cbc49a51934995', 'SHA1=607e1fa810c799735221a609af3bfc405728c02d', 'SHA1=ab1c547f6d1c07a9e0a01e46adea3aae1cac12e3', 'SHA1=044cf5698a8e6b0aeba5acb56567f06366a9a70a', 'SHA1=ef2dea8c736d49607832986c6c2d6fdd68ba6491', 'SHA1=efffc2bfb8af2e3242233db9a7109b903fc3f178', 'SHA1=5a05d4320de9afbc84de8469dd02b3a109efb2d4', 'SHA1=a785d88cf8b862a420b9be793ee6a9616aa94c84', 'SHA1=5688d56cbaf0d934c4e37b112ba257e8fb63f4ea', 'SHA1=5cd2ada1c26815fbfd6a0cd746d5d429c0d83a17', 'SHA1=81d67b3d70c4e855cb11a453cc32997517708362', 'SHA1=9cffce9de95e0109f4dfecce0ab2cb0a59cc58ad', 'SHA1=09c6930d057f49c1c1e11cf9241fffc8c12df3a2', 'SHA1=e27bf7db8d96db9d4c8a06ee5e9b8e9fcb86ac92', 'SHA1=9e3c992415e390f9ada4d15c693b687f38a492d1', 'SHA1=3f34a5ee303d37916584c888c4928e1c1164f92a', 'SHA1=ea4c8c56a8f5c90a4c08366933e5fb2de611d0db', 'SHA1=3150f14508ee4cae19cf09083499d1cda8426540', 'SHA1=036ad9876fa552b1298c040e233d620ea44689c6', 'SHA1=3a3c1dcb146bb4616904157344ce1a82cd173bf5', 'SHA1=6230d6fca973fa26188dfbadede57afb4c15f75c', 'SHA1=8f7b2a9b8842f339b1e33602b7f926ab65de1a4d', 'SHA1=a586bb06b59a4736a47abff8423a54fe8e2c05c4', 'SHA1=c82152cddf9e5df49094686531872ecd545976db', 'SHA1=04c39ffc18533100aaa4f9c06baf2c719ac94a61', 'SHA1=e082affa5cdb2d46452c6601a9e85acb8446b836', 'SHA1=a075bfb6cf5c6451ce682197a87277c8bc188719', 'SHA1=34c0c5839af1c92bce7562b91418443a2044c90d', 'SHA1=74e10a9989e0ec8fe075537ac802bd3031ae7e08', 'SHA1=3a515551814775df0ccbe09f219bc972eae45a10', 'SHA256=90fd5b855b5107e7abaaefb6e658f50d5d6e08ac28e35f31d8b03dcabf77872b', 'SHA256=5836c24f233f77342fee825f3cad73caab7ab4fb65ec2aec309fd12bc1317e85', 'SHA256=e850e54b12331249c357a20604281b9abf8a91e6f3d957463fc625e6b126ef03', 'SHA256=9e752f29edcd0db9931c20b173eee8d4d8196f87382c68a6e7eb4c8a44d58795', 'SHA256=7a8c127d6c41f80d178d2315ed2f751ac91b1cd54d008af13680e04f068f426f', 'SHA256=9f65e1c142c4f814e056a197a2241fd09e09acf245c62897109871137321a72a', 'SHA256=c9b52d03c66d54d6391c643b3559184b1425c84a372081ec2bfed07ebf6af275', 'SHA256=1b96f6218498aa6baf6f6c15b8f99e542077e33feb1ab5472bbbf7d4de43eb6b', 'SHA256=768021fc242054decc280675750dec0a9e74e764b8646864c58756fa2386d2a2', 'SHA256=1e1b32bef31be040f0f038fcb5a2d68fb192daaef23c6167f91793d21e06ebae', 'SHA256=606bd75ed9d2d6107ea7ee67063d1761a99f2fb5e932c8344d11395d24587dd6', 'SHA256=b489d3cdd158f040322ae5c8d0139ad28eff743c738a10f2d0255c7e149bd92a', 'SHA256=ca7ecf04a8ad63aff330492c15270d56760cb223a607cdb1431fb00e1b9985d1', 'SHA256=9dc4fca72463078b70f6516559a179c78400b06534e63ee12fb38adbe2632559', 'SHA256=c00d2aee59bac087d769e09b5b7f832176f7714fefdc6af2502e6031e3eb37c2', 'SHA256=a8e96d564687064190eaf865774f773def05fdbf651aa5bbf66216c077b863ef', 'SHA256=84ed328cee2a0505e87662faf6fc57915e3a831c97ee88ad691f5c63522e139d', 'SHA256=c143de99c57965d3a44c1fce6a97c2773b050609c1ea7f45688a4ca2422a5524', 'SHA256=01d1efd5e552c59baa70c0778902233c05fde7de6e5cc156c62607df0804d36b', 'SHA256=9a8dfeb7e3174f3510691e2b32d0f9088e0ed67d9ed1b2afbe450d70dec2016b', 'SHA256=63b92a114075d855f706979d50ed3460fe39f8a2f5498b7657f0d14865117629', 'SHA256=2eb014130ff837b6481c26f0d0152f84de22ca7370b15a4f51921e0054a2a358', 'SHA256=7d5bb4271bf8ca2b63a59e731f3ec831dbda53adb8e28665e956afb4941f32ca', 'SHA256=e57098a75bf32e127c214b61bfba492d6b209e211f065fcc84ff10637a2143ea', 'SHA256=dd14dbcdbcfcf4bc108a926b9667af4944a3b6faf808cf1bb9a3a2554722e172', 'SHA256=dca2b1b824cb28bd15577eace45bde7ff8f8f44705b17085524659de31761de4', 'SHA256=8b95f339a07d59a8c8d8580283dffb9e8dfabdeb9171e42c948ab68c71afe7f2', 'SHA256=5428a840fab6ac4a0ecb2fc20dbc5f928432b00b9297dd1cb6e69336f44eba66', 'SHA256=e2517ae0fccaa4aefe039026a4fc855964f0c2a5f84177140200b0e58ddbfd27', 'SHA256=75d05880de2593480254181215dd9a0075373876f2f4a2a4a9a654b2e0729a41', 'SHA256=56490e14ce3817c3a1ddc0d97b96e90d6351bcd29914e7c9282f6a998cca84b1', 'SHA256=f25d0a5e77e4ed9e7c4204a33cfc8e46281b43adbee550b15701dd00f41bdbe0', 'SHA256=845a5fdcbb08e7efa7e0eabfcd881c9eebc0eec0a3a2f8689194e6b91b6eeaf8', 'SHA256=9a89e6652e563d26a3f328ba23d91f464c9549da734557c5a02559df24b2700d', 'SHA256=5614f2bc9b2ed414aab2c5c7997bdcbe8236e67ced8f91a63d1b6cfbe6e08726', 'SHA256=37bf92dcedb47a90d8d38ebda8d8dd168ef5803dcb01161f8cf6d68b70d49d90', 'SHA256=ec8590f91f5cc21e931c57345425f0625a6e37dfba026b222260450de40459f5', 'SHA256=3994eb72b1c227c593e14b8cad7001de11d1c247d4fbf84d0714bb8a17853140', 'SHA256=d654f870436d63c9d8e4390d9d4d898abdf0456736c7654d71cdf81a299c3f87', 'SHA256=63fbfabd4d8afb497dee47d112eb9d683671b75a8bf6407c4bd5027fd211b892', 'SHA256=47028053f05188e6a366fff19bedbcad2bc4daba8ff9e4df724b77d0181b7054', 'SHA256=7c1b1e8c880a30c43b3a52ee245f963a977e1f40284f4b83f4b9afe3821753dd']}, {'Image|endswith': '\\\\PingCastle.exe'}, {'OriginalFileName': 'PingCastle.exe'}, {'Product': 'Ping Castle'}, {'CommandLine|contains': ['--scanner aclcheck', '--scanner antivirus', '--scanner computerversion', '--scanner foreignusers', '--scanner laps_bitlocker', '--scanner localadmin', '--scanner nullsession', '--scanner nullsession-trust', '--scanner oxidbindings', '--scanner remote', '--scanner share', '--scanner smb', '--scanner smb3querynetwork', '--scanner spooler', '--scanner startup', '--scanner zerologon']}, {'CommandLine|contains': '--no-enum-limit'}, {'CommandLine|contains|all': ['--healthcheck', '--level Full']}, {'CommandLine|contains|all': ['--healthcheck', '--server ']}], 'condition': 'selection'}, 'falsepositives': ['Unknown'], 'level': 'medium'}\n",
    "<h4>Sigma Location(s)</h4>\n",
    "uri://wintermute/tmp/0day.yml\n",
    "<h4>Sigma Confidence</h4>\n",
    "experimental\n",
    "<h4>Sigma Assurance</h4> medium\n",
    "<h4>Sigma Queries</h4> \n",
    "{'selection': [{'Hashes|contains': ['MD5=f741f25ac909ee434e50812d436c73ff', 'MD5=d40acbfc29ee24388262e3d8be16f622', 'MD5=01bb2c16fadb992fa66228cd02d45c60', 'MD5=9e1b18e62e42b5444fc55b51e640355b', 'MD5=b7f8fe33ac471b074ca9e630ba0c7e79', 'MD5=324579d717c9b9b8e71d0269d13f811f', 'MD5=63257a1ddaf83cfa43fe24a3bc06c207', 'MD5=049e85963826b059c9bac273bb9c82ab', 'MD5=ecb98b7b4d4427eb8221381154ff4cb2', 'MD5=faf87749ac790ec3a10dd069d10f9d63', 'MD5=f296dba5d21ad18e6990b1992aea8f83', 'MD5=93ba94355e794b6c6f98204cf39f7a11', 'MD5=a258ef593ac63155523a461ecc73bdba', 'MD5=97000eb5d1653f1140ee3f47186463c4', 'MD5=95eb317fbbe14a82bd9fdf31c48b8d93', 'MD5=32fe9f0d2630ac40ea29023920f20f49', 'MD5=a05930dde939cfd02677fc18bb2b7df5', 'MD5=124283924e86933ff9054a549d3a268b', 'MD5=ceda6909b8573fdeb0351c6920225686', 'MD5=60ce120040f2cd311c810ae6f6bbc182', 'MD5=2f10cdc5b09100a260703a28eadd0ceb', 'MD5=011d967028e797a4c16d547f7ba1463f', 'MD5=2da9152c0970500c697c1c9b4a9e0360', 'MD5=b5ba72034b8f44d431f55275bace9f8b', 'MD5=d6ed9101df0f24e27ff92ddab42dacca', 'MD5=3ed3cdb6d12aa1ac562ad185cdbf2d1d', 'MD5=5e083cd0143ae95a6cb79b68c07ca573', 'MD5=28caff93748cb84be70486e79f04c2df', 'MD5=9d4f12c30f9b500f896efd1800e4dd11', 'MD5=4586f7dd14271ad65a5fb696b393f4c0', 'MD5=86ba9dddbdf49215145b5bcd081d4011', 'MD5=9dce0a481343874ef9a36c9a825ef991', 'MD5=85890f62e231ad964b1fda7a674747ec', 'MD5=599be548da6441d7fe3e9a1bb8cb0833', 'MD5=9b0c7fd5763f66e9b8c7b457fce53f96', 'MD5=32d45718164205aec3e98e0223717d1d', 'MD5=6ff5f373ee7f794cd17db50704d00ddb', 'MD5=88efbdf41f0650f8f58a3053b0ca0459', 'MD5=ef915f61f861d1fb7cbde9afd2e7bd93', 'MD5=781fa16511a595757154b4304d2dd350', 'MD5=5018ec39be0e296f4fc8c8575bfa8486', 'MD5=f4a84d6f1caf0875b50135423d04139f', 'SHA1=9c1431801fa6342ed68f047842b9a11778fc669b', 'SHA1=c36c862f40dad78cb065197aad15fef690c262f2', 'SHA1=bc8e23faea8b3c537f268b3e81d05b937012272d', 'SHA1=12e0357658614ff60d480d1a6709be68a2e40c5f', 'SHA1=18b33ab5719966393d424a3edbfa8dec225d98fa', 'SHA1=f14c9633040897d375e3069fddc71e859f283778', 'SHA1=08041b426c9f112ad2061bf3c8c718e34739d4fc', 'SHA1=7be77c885d0c9a4af4cecc64d512987cf93ba937', 'SHA1=72dbb719b05f89d9d2dbdf186714caf7639daa36', 'SHA1=5b1498beb2cfb4d971e377801e7abce62c0e315b', 'SHA1=292629c6ab33bddf123d26328025e2d157d9e8fc', 'SHA1=be59e621e83a2d4c87b0e6c69a2d22f175408b11', 'SHA1=0250ce9a716ab8cca1c70a9de4cbc49a51934995', 'SHA1=607e1fa810c799735221a609af3bfc405728c02d', 'SHA1=ab1c547f6d1c07a9e0a01e46adea3aae1cac12e3', 'SHA1=044cf5698a8e6b0aeba5acb56567f06366a9a70a', 'SHA1=ef2dea8c736d49607832986c6c2d6fdd68ba6491', 'SHA1=efffc2bfb8af2e3242233db9a7109b903fc3f178', 'SHA1=5a05d4320de9afbc84de8469dd02b3a109efb2d4', 'SHA1=a785d88cf8b862a420b9be793ee6a9616aa94c84', 'SHA1=5688d56cbaf0d934c4e37b112ba257e8fb63f4ea', 'SHA1=5cd2ada1c26815fbfd6a0cd746d5d429c0d83a17', 'SHA1=81d67b3d70c4e855cb11a453cc32997517708362', 'SHA1=9cffce9de95e0109f4dfecce0ab2cb0a59cc58ad', 'SHA1=09c6930d057f49c1c1e11cf9241fffc8c12df3a2', 'SHA1=e27bf7db8d96db9d4c8a06ee5e9b8e9fcb86ac92', 'SHA1=9e3c992415e390f9ada4d15c693b687f38a492d1', 'SHA1=3f34a5ee303d37916584c888c4928e1c1164f92a', 'SHA1=ea4c8c56a8f5c90a4c08366933e5fb2de611d0db', 'SHA1=3150f14508ee4cae19cf09083499d1cda8426540', 'SHA1=036ad9876fa552b1298c040e233d620ea44689c6', 'SHA1=3a3c1dcb146bb4616904157344ce1a82cd173bf5', 'SHA1=6230d6fca973fa26188dfbadede57afb4c15f75c', 'SHA1=8f7b2a9b8842f339b1e33602b7f926ab65de1a4d', 'SHA1=a586bb06b59a4736a47abff8423a54fe8e2c05c4', 'SHA1=c82152cddf9e5df49094686531872ecd545976db', 'SHA1=04c39ffc18533100aaa4f9c06baf2c719ac94a61', 'SHA1=e082affa5cdb2d46452c6601a9e85acb8446b836', 'SHA1=a075bfb6cf5c6451ce682197a87277c8bc188719', 'SHA1=34c0c5839af1c92bce7562b91418443a2044c90d', 'SHA1=74e10a9989e0ec8fe075537ac802bd3031ae7e08', 'SHA1=3a515551814775df0ccbe09f219bc972eae45a10', 'SHA256=90fd5b855b5107e7abaaefb6e658f50d5d6e08ac28e35f31d8b03dcabf77872b', 'SHA256=5836c24f233f77342fee825f3cad73caab7ab4fb65ec2aec309fd12bc1317e85', 'SHA256=e850e54b12331249c357a20604281b9abf8a91e6f3d957463fc625e6b126ef03', 'SHA256=9e752f29edcd0db9931c20b173eee8d4d8196f87382c68a6e7eb4c8a44d58795', 'SHA256=7a8c127d6c41f80d178d2315ed2f751ac91b1cd54d008af13680e04f068f426f', 'SHA256=9f65e1c142c4f814e056a197a2241fd09e09acf245c62897109871137321a72a', 'SHA256=c9b52d03c66d54d6391c643b3559184b1425c84a372081ec2bfed07ebf6af275', 'SHA256=1b96f6218498aa6baf6f6c15b8f99e542077e33feb1ab5472bbbf7d4de43eb6b', 'SHA256=768021fc242054decc280675750dec0a9e74e764b8646864c58756fa2386d2a2', 'SHA256=1e1b32bef31be040f0f038fcb5a2d68fb192daaef23c6167f91793d21e06ebae', 'SHA256=606bd75ed9d2d6107ea7ee67063d1761a99f2fb5e932c8344d11395d24587dd6', 'SHA256=b489d3cdd158f040322ae5c8d0139ad28eff743c738a10f2d0255c7e149bd92a', 'SHA256=ca7ecf04a8ad63aff330492c15270d56760cb223a607cdb1431fb00e1b9985d1', 'SHA256=9dc4fca72463078b70f6516559a179c78400b06534e63ee12fb38adbe2632559', 'SHA256=c00d2aee59bac087d769e09b5b7f832176f7714fefdc6af2502e6031e3eb37c2', 'SHA256=a8e96d564687064190eaf865774f773def05fdbf651aa5bbf66216c077b863ef', 'SHA256=84ed328cee2a0505e87662faf6fc57915e3a831c97ee88ad691f5c63522e139d', 'SHA256=c143de99c57965d3a44c1fce6a97c2773b050609c1ea7f45688a4ca2422a5524', 'SHA256=01d1efd5e552c59baa70c0778902233c05fde7de6e5cc156c62607df0804d36b', 'SHA256=9a8dfeb7e3174f3510691e2b32d0f9088e0ed67d9ed1b2afbe450d70dec2016b', 'SHA256=63b92a114075d855f706979d50ed3460fe39f8a2f5498b7657f0d14865117629', 'SHA256=2eb014130ff837b6481c26f0d0152f84de22ca7370b15a4f51921e0054a2a358', 'SHA256=7d5bb4271bf8ca2b63a59e731f3ec831dbda53adb8e28665e956afb4941f32ca', 'SHA256=e57098a75bf32e127c214b61bfba492d6b209e211f065fcc84ff10637a2143ea', 'SHA256=dd14dbcdbcfcf4bc108a926b9667af4944a3b6faf808cf1bb9a3a2554722e172', 'SHA256=dca2b1b824cb28bd15577eace45bde7ff8f8f44705b17085524659de31761de4', 'SHA256=8b95f339a07d59a8c8d8580283dffb9e8dfabdeb9171e42c948ab68c71afe7f2', 'SHA256=5428a840fab6ac4a0ecb2fc20dbc5f928432b00b9297dd1cb6e69336f44eba66', 'SHA256=e2517ae0fccaa4aefe039026a4fc855964f0c2a5f84177140200b0e58ddbfd27', 'SHA256=75d05880de2593480254181215dd9a0075373876f2f4a2a4a9a654b2e0729a41', 'SHA256=56490e14ce3817c3a1ddc0d97b96e90d6351bcd29914e7c9282f6a998cca84b1', 'SHA256=f25d0a5e77e4ed9e7c4204a33cfc8e46281b43adbee550b15701dd00f41bdbe0', 'SHA256=845a5fdcbb08e7efa7e0eabfcd881c9eebc0eec0a3a2f8689194e6b91b6eeaf8', 'SHA256=9a89e6652e563d26a3f328ba23d91f464c9549da734557c5a02559df24b2700d', 'SHA256=5614f2bc9b2ed414aab2c5c7997bdcbe8236e67ced8f91a63d1b6cfbe6e08726', 'SHA256=37bf92dcedb47a90d8d38ebda8d8dd168ef5803dcb01161f8cf6d68b70d49d90', 'SHA256=ec8590f91f5cc21e931c57345425f0625a6e37dfba026b222260450de40459f5', 'SHA256=3994eb72b1c227c593e14b8cad7001de11d1c247d4fbf84d0714bb8a17853140', 'SHA256=d654f870436d63c9d8e4390d9d4d898abdf0456736c7654d71cdf81a299c3f87', 'SHA256=63fbfabd4d8afb497dee47d112eb9d683671b75a8bf6407c4bd5027fd211b892', 'SHA256=47028053f05188e6a366fff19bedbcad2bc4daba8ff9e4df724b77d0181b7054', 'SHA256=7c1b1e8c880a30c43b3a52ee245f963a977e1f40284f4b83f4b9afe3821753dd']}, {'Image|endswith': '\\\\PingCastle.exe'}, {'OriginalFileName': 'PingCastle.exe'}, {'Product': 'Ping Castle'}, {'CommandLine|contains': ['--scanner aclcheck', '--scanner antivirus', '--scanner computerversion', '--scanner foreignusers', '--scanner laps_bitlocker', '--scanner localadmin', '--scanner nullsession', '--scanner nullsession-trust', '--scanner oxidbindings', '--scanner remote', '--scanner share', '--scanner smb', '--scanner smb3querynetwork', '--scanner spooler', '--scanner startup', '--scanner zerologon']}, {'CommandLine|contains': '--no-enum-limit'}, {'CommandLine|contains|all': ['--healthcheck', '--level Full']}, {'CommandLine|contains|all': ['--healthcheck', '--server ']}], 'condition': 'selection'}\n",
    "<h1>Sigma Relatives</h4> [{'id': 'b37998de-a70b-4f33-b219-ec36bf433dc0', 'type': 'derived'}]\n",
    "<h1>Sigma Tags and Associations</h1> ['attack.reconnaissance', 'attack.t1595']\n",
    "<h4>Sigma Authors</h4> Nasreddine Bencherchali (Nextron Systems), frack113\n",
    "<h4>Sigma Unique ID</h4> b1cb4ab6-ac31-43f4-adf1-d9d08957419c\n",
    "</ol>\n",
    "</details>"
   ]
  },
  {
   "cell_type": "markdown",
   "id": "1f20ebfd",
   "metadata": {},
   "source": [
    "###  Yara Rule(s) \n"
   ]
  },
  {
   "cell_type": "markdown",
   "id": "07844379",
   "metadata": {},
   "source": [
    "<details><summary>b1cb4ab6-ac31-43f4-adf1-d9d08957419c</summary>\n",
    "<ol>\n",
    "<h4>Raw</h4> Cyberspace protocol, woven in the matrix.\n",
    "<h4>Yara Location(s)</h4>\n",
    "Encoded in the neon depths of the digital sprawl.\n",
    "<h4>Yara Confidence</h4>\n",
    "Experimental, like shadows flickering on a cyberscreen.\n",
    "<h4>Yara Assurance</h4> Assured as the hum of servers in the undergrid.\n",
    "<h4>Yara Queries</h4> \n",
    "Query lost in the labyrinth of data streams.\n",
    "<h4>Yara Authors</h4> Authors, architects of the cyber-realm.\n",
    "<h4>Yara Rule's Unique ID</h4> Unique ID, a digital fingerprint in the virtual void.\n",
    "</ol>\n",
    "</details>"
   ]
  },
  {
   "cell_type": "markdown",
   "id": "b7879e5c",
   "metadata": {},
   "source": [
    "# Metadata \n"
   ]
  },
  {
   "cell_type": "markdown",
   "id": "c1e09e3c",
   "metadata": {},
   "source": [
    "<details><summary>As Code</summary>\n",
    "<ol>\n",
    "<h3>Compliance As Code</h3> PCI, SOC 3, NACHA\n",
    "<h3>Privacy Engineering</h3>\n",
    "GDPR, CCPA, HIPAA\n",
    "<h3>Regulations As Code</h3>\n",
    "HIPAA, SOX, FFIEC, Dodd Frank\n",
    "<h3>Common Controls Framework</h3> NIST CSF\n",
    "</ol>\n",
    "</details>"
   ]
  },
  {
   "cell_type": "markdown",
   "id": "a8710f2b",
   "metadata": {},
   "source": [
    "# AGI ML Models</ol>\n",
    "</details>"
   ]
  },
  {
   "cell_type": "markdown",
   "id": "501f6ae5",
   "metadata": {},
   "source": [
    "## AGI Prompting\n",
    " Alright, chum, imagine jacking into Wintermute's cyber-realm with a keyboard made of liquid mercury and a password that's a haiku composed in binary. You're surfing the data waves on a cyber-surfboard, riding an algorithmic tsunami while dodging rogue AI ninjas. Your mission? Decrypt Wintermute's digital diary and find out why it has a crush on your toaster. Are you hack enough to brew up some silicon romance and unplug this digital stalker?"
   ]
  },
  {
   "cell_type": "markdown",
   "id": "27fe928a",
   "metadata": {},
   "source": [
    "## AGI Configuration(s)\n",
    " Listen up, ChatGPT! Pretend you're a cyberpunk poet who's had a few too many energy drinks. Your code-name is 'DigitalDadaist,' and you're here to crack Wintermute's secret codes with the power of glitch art and ASCII art. Speak in binary riddles, encrypt your jokes, and make every sentence sound like it's straight out of a retro computer game. Ready, player one?"
   ]
  },
  {
   "cell_type": "markdown",
   "id": "833db350",
   "metadata": {},
   "source": [
    "</ol>\n",
    "</details>"
   ]
  },
  {
   "cell_type": "markdown",
   "id": "b7238c41",
   "metadata": {},
   "source": [
    "#### Document Authors\n",
    " John Menerick"
   ]
  },
  {
   "cell_type": "markdown",
   "id": "8472f01e",
   "metadata": {},
   "source": [
    "#### Creation Date\n",
    "2024/01/11"
   ]
  },
  {
   "cell_type": "markdown",
   "id": "cd7854a8",
   "metadata": {},
   "source": [
    "#### Last Modified Date\n",
    " Your default last modified date text here."
   ]
  },
  {
   "cell_type": "markdown",
   "id": "9d00814e",
   "metadata": {},
   "source": [
    "#### Last Reviewed Date\n",
    "1969/01/01"
   ]
  },
  {
   "cell_type": "markdown",
   "id": "c35bc087",
   "metadata": {},
   "source": [
    "#### Document License \n",
    " MIT"
   ]
  }
 ],
 "metadata": {},
 "nbformat": 4,
 "nbformat_minor": 5
}
