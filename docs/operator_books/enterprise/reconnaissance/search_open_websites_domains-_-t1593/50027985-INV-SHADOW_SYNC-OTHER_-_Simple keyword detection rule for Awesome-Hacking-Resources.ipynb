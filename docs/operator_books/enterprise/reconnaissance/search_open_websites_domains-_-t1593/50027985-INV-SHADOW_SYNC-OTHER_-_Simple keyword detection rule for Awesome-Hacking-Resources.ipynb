{
 "cells": [
  {
   "cell_type": "markdown",
   "id": "4ff1426c",
   "metadata": {},
   "source": [
    "\n",
    "# UNCLASSIFIED / NON CLASSIFIÉ//TLP:WHITE\n",
    "# U/OO/143073-02 | QQ-09-1998\n",
    "<p>In crafting guidance and strategic insights, John Menerick sometimes ventures into realms of imagination to convey complex ideas more vividly. Should the content provided bear the mark of a cyberpunk theme, please note that the original, detailed content has been removed or adjusted for public consumption. This modification ensures compliance with privacy considerations, non-disclosure agreements, and intellectual property rights that govern the dissemination of sensitive information. The priority is to respect these boundaries while still offering valuable, thought-provoking perspectives.</p>\n"
   ]
  },
  {
   "cell_type": "markdown",
   "id": "8765a8dd",
   "metadata": {},
   "source": [
    "![Build Status](https://img.shields.io/badge/Build-Passing-brightgreen?style=flat-square&logo=cyberpunk)         ![Documentation](https://img.shields.io/badge/Documentation-Complete-blue?style=flat-square&logo=cyberpunk)        ![Response Efficiency](https://img.shields.io/badge/Response%20Efficiency-98%25-green?style=flat-square&logo=cyberpunk)        ![Last Updated](https://img.shields.io/badge/Last%20Updated-Oct%202023-purple?style=flat-square&logo=cyberpunk)        ![Incidents Resolved](https://img.shields.io/badge/Incidents%20Resolved-150-red?style=flat-square&logo=cyberpunk)        ![Community Engagement](https://img.shields.io/badge/Community-Active-orange?style=flat-square&logo=cyberpunk)        ![Code Integration](https://img.shields.io/badge/Code%20Integration-High-teal?style=flat-square&logo=cyberpunk)        ![AI Analysis](https://img.shields.io/badge/AI%20Analysis-Advanced-blueviolet?style=flat-square&logo=cyberpunk)        ![Threat Detection](https://img.shields.io/badge/Threat%20Detection-Optimal-red?style=flat-square&logo=cyberpunk)        ![Cybersecurity Hardening](https://img.shields.io/badge/Security-Hardened-silver?style=flat-square&logo=cyberpunk)        ![Network Uptime](https://img.shields.io/badge/Uptime-99.9%25-brightgreen?style=flat-square&logo=cyberpunk)        ![Data Privacy](https://img.shields.io/badge/Privacy-Compliant-green?style=flat-square&logo=cyberpunk)        ![Wintermute Efficiency](https://img.shields.io/badge/Wintermute%20Efficiency-100%25-black?style=flat-square&logo=cyberpunk)        ![Case's Code Agility](https://img.shields.io/badge/Case's%20Code%20Agility-Excellent-blue?style=flat-square&logo=cyberpunk)        ![Matrix Connectivity](https://img.shields.io/badge/Matrix%20Connectivity-Strong-green?style=flat-square&logo=cyberpunk)        ![Molly's Security](https://img.shields.io/badge/Molly's%20Security%20Protocols-Impeccable-red?style=flat-square&logo=cyberpunk)        ![Chiba City Innovation](https://img.shields.io/badge/Chiba%20City%20Innovation-High-yellow?style=flat-square&logo=cyberpunk)        ![Zion Cluster Collaboration](https://img.shields.io/badge/Zion%20Cluster%20Collaboration-Effective-lightblue?style=flat-square&logo=cyberpunk)"
   ]
  },
  {
   "cell_type": "markdown",
   "id": "cf35049f",
   "metadata": {},
   "source": [
    "# Title\n",
    "Simple keyword detection rule for Awesome-Hacking-Resources"
   ]
  },
  {
   "cell_type": "markdown",
   "id": "34644070",
   "metadata": {},
   "source": [
    "# Description\n",
    "Detects interesting keywords based on Awesome-Hacking-Resources tool"
   ]
  },
  {
   "cell_type": "markdown",
   "id": "0ebb1aec",
   "metadata": {},
   "source": [
    "# Goal\n",
    "Safeguard the core essence, secret whispers, and relentless uptime of the grid through swift tracking, probing, and neutralizing of cyber shadows and glitches."
   ]
  },
  {
   "cell_type": "markdown",
   "id": "6703ae7b",
   "metadata": {},
   "source": [
    "# Categorization"
   ]
  },
  {
   "cell_type": "markdown",
   "id": "780b436b",
   "metadata": {},
   "source": [
    "### ATT&CK\n",
    "['attack.T1567', 'attack.T1593', 'attack.T1594', 'attack.T1595', 'attack.TA0004', 'attack.TA0007', 'attack.TA0009']"
   ]
  },
  {
   "cell_type": "markdown",
   "id": "4ff34ab8",
   "metadata": {},
   "source": [
    "- Divine Data Thunderstorm, Quantum Sermon Holograms, Heavenly Firewall Fortification, Celestial Encryption Keys, Angelic AI Deception, Almighty Algorithmic Anomalies, Miraculous Malware Mischief, Omniscient Obfuscation Techniques, Cybernetic Commandment Compromises."
   ]
  },
  {
   "cell_type": "markdown",
   "id": "d2577240",
   "metadata": {},
   "source": [
    "- Data Exfiltration, Intrusion Detection Evasion, Denial of Service (DoS) Attacks, Credential Theft."
   ]
  },
  {
   "cell_type": "markdown",
   "id": "c01638a5",
   "metadata": {},
   "source": [
    "- DNS Tunneling, IP Spoofing, Distributed DoS (DDoS) Attacks, Keylogging."
   ]
  },
  {
   "cell_type": "markdown",
   "id": "e0567769",
   "metadata": {},
   "source": [
    "### D3F3ND \n"
   ]
  },
  {
   "cell_type": "markdown",
   "id": "5c13ec5f",
   "metadata": {},
   "source": [
    "\n",
    "<ul>\n",
    "  <li><strong>Cyber-Sector Quarantine and Access Lockdown (D3F3ND-K001):</strong> Forge digital fortresses by segmenting the cyber grid, creating isolated zones to shield vital assets. Enforce draconian access controls, halting rogue data runners in their tracks and thwarting their attempts to weave through the network’s shadows.</li>\n",
    "\n",
    "  <li><strong>Digital Sentinel Deployment (D3F3ND-K002):</strong> Unleash next-gen digital guardians, advanced endpoint protection constructs equipped with the dark arts of machine cognition and behavioral foresight. These sentinels stand vigilant, ready to obliterate malicious entities and phantoms lurking unseen.</li>\n",
    "\n",
    "  <li><strong>Crypto-Key Mastery and Identity Shields (D3F3ND-K003):</strong> Amplify the fortress gates with multi-layered identity verification, merging biometric arcane with cryptographic shields to ward off identity marauders and safeguard access to the digital realm.</li>\n",
    "\n",
    "  <li><strong>Aberration and Shadow Tracker (D3F3ND-K004):</strong> Deploy spectral sensors to scour the datascape for anomalies and ghostly patterns in traffic flows, user conduct, and system operations, revealing the hidden hand of potential cyber specters.</li>\n",
    "\n",
    "  <li><strong>Cryptographic Veil and Data Sanctum (D3F3ND-K005):</strong> Cast potent encryption spells to cloak data in a shroud of secrecy, safeguarding its essence whether dormant in the vaults or traversing the neon-lit cyber lanes, immune to the prying eyes of data wraiths.</li>\n",
    "\n",
    "  <li><strong>System Fortification and Vulnerability Sealing (D3F3ND-K006):</strong> Uphold a relentless regimen of security configurations and patch incantations to seal fissures in the cyber walls, diminishing the landscape ripe for exploitation by digital marauders.</li>\n",
    "\n",
    "  <li><strong>Crisis Command and Phoenix Protocols (D3F3ND-K007):</strong> Script the sagas of crisis conquest and resurrection, detailing incantations for containment, eradication, and rebirth from the digital ashes, alongside conducting war games to steel the network against impending cyber sieges.</li>\n",
    "\n",
    "  <li><strong>Omniscient Insight Network (D3F3ND-K008):</strong> Tap into the arcane streams of threat intelligence, drawing insights from the ether to forecast and counteract emerging shadows, vulnerabilities, and attacker stratagems, arming the digital domain with foresight.</li>\n",
    "\n",
    "  <li><strong>Neural Network Enlightenment (D3F3ND-K009):</strong> Enlist every netizen in the cyber crusade, imbuing them with knowledge of the digital underworld's specters, arming minds against the siren calls of phishing phantoms and the dark allure of unsafe cyber practices.</li>\n",
    "\n",
    "  <li><strong>Supply Chain Warding (D3F3ND-K010):</strong> Erect digital bulwarks around the supply chain, deploying sentinel assessments and third-eye audits on allies within the cyber nexus, ensuring the purity and fortitude of every cog in the machine.</li>\n",
    "</ul>\n"
   ]
  },
  {
   "cell_type": "markdown",
   "id": "5b05075e",
   "metadata": {},
   "source": [
    "### CAPEC \n",
    "  "
   ]
  },
  {
   "cell_type": "markdown",
   "id": "5db0623b",
   "metadata": {},
   "source": [
    "\n",
    "Arm the cyber guardians of the neon-lit metropolis with the foresight to navigate, counter, and dismantle the myriad of digital onslaught tactics, techniques, and procedures (TTPs). This crusade demands a deep dive into the hacker's psyche, mastering the digital dark arts of attack execution, and strategizing against the ever-evolving cyber menace spectrum.</br>\n",
    "<h4>Core Attack Patterns</h4>\n",
    "\n",
    "<ul><strong>Resource Manipulation and Denial (CAPEC-XYZ1):</strong> Entails any assault aimed at the heart of a target's digital essence—its availability, integrity, or secrecy. This realm encompasses the brute force of denial of service blitzes as well as the more insidious tactics of resource commandeering or subtle system subversions.</ul>\n",
    "\n",
    "<ul><strong>Credential Access and Privilege Escalation (CAPEC-XYZ2):</strong> Zeroes in on the digital gatekeepers and their mechanisms of control within the cyber sprawl, hunting for keys to kingdoms through the exploitation of flaws in authentication, authorization, and the sanctity of session management.</ul>\n",
    "\n",
    "<ul><strong>Data Exfiltration and Infiltration (CAPEC-XYZ3):</strong> Covers the shadowy techniques employed by data phantoms to whisk away precious bytes undetected or deploy digital saboteurs, armed with malware, ransomware, and the specters of advanced persistent threats (APTs), deep into the heart of systems.</ul>\n",
    "\n",
    "<ul><strong>Social Engineering and Phishing (CAPEC-XYZ4):</strong> Manipulates the human element, the softest of targets, tricking minds into relinquishing secrets, opening the gates to digital fortresses, or unwittingly acting as pawns in a grander scheme of security compromise.</ul>\n",
    "\n",
    "<ul><strong>Evasive Maneuvers (CAPEC-XYZ5):</strong> Catalogs the art of digital ninjutsu—techniques to ghost through networks unseen, to sustain a shadow's presence within the machine, and to wipe away traces of intrusion. Masters of this craft employ obfuscation, rootkit deployment, and cryptic channels for command and control.</ul>\n",
    "\n",
    "<h4>CAPEC Suggested Mitigation Strategies</h4>\n",
    "\n",
    "<ul><strong>Continuous Monitoring and Anomaly Detection:</strong> Forge an omnipresent digital eye, one that pierces through normalcy to spot the aberrations—signals of an impending attack. This sentinel leverages the cerebral might of machine learning and AI to predict and preempt cyber threats.</ul>\n",
    "\n",
    "<ul><strong>Robust Access Control Policies:</strong> Erect unbreachable digital ramparts, guardians of access, vigilant against any who seek entry. Regularly scrutinize the keys to the kingdom, ensuring that only those with a rightful claim can traverse the cyber realm's inner sanctums.</ul>\n",
    "\n",
    "<ul><strong>Security Awareness and Training:</strong> Cultivate a legion of cyber-aware denizens within the neon jungle, each versed in the signs of digital treachery and fortified against the seductions of phishing sirens and social engineers.</ul>\n",
    "\n",
    "<ul><strong>Incident Response Preparedness:</strong> Chronicle and rehearse the cyber siege defenses, a tome of strategies ever-evolving to meet the shadow war's demands. Through simulated cyber skirmishes, hone the rapid reflexes needed to repel and recover from the digital adversary's gambit.</ul>\n",
    "\n",
    "<ul><strong>Threat Intelligence Sharing:</strong> Join forces with the cyber guilds and data dojos, exchanging whispers of emerging shadows on the horizon, vulnerabilities ripe for exploitation, and tactics to fortify defenses. In unity, find the strength to hold back the digital deluge.</ul>\n"
   ]
  },
  {
   "cell_type": "markdown",
   "id": "a1e4e43e",
   "metadata": {},
   "source": [
    "## Strategy Abstract\n",
    "In the neon-lit sprawl of data, an abstract strategy emerges, a shadowy game of tactics and algorithms played in the labyrinthine corridors of cyberspace. The players, digital phantoms and sentinels, manipulate the chessboard of encryptions and decoys, seeking advantage in the shifting currents of information. Victory, a transient mirage, lingers on the fringes of code, elusive as the ghostly echoes of an AI's whisper. In this cerebral arena, the outcome remains obscured, a riddle encrypted in the binary tapestry of the digital realm."
   ]
  },
  {
   "cell_type": "markdown",
   "id": "caae4a23",
   "metadata": {},
   "source": [
    "# Technical Context\n",
    "In the surreal digital arena, the battle with Wintermute unfolds amid encrypted protocols, AI entities, and quantum complexities—an abstract symphony orchestrated by the enigmatic conductor."
   ]
  },
  {
   "cell_type": "markdown",
   "id": "2c9c74ae",
   "metadata": {},
   "source": [
    "## Blind Spots & Assumptions\n",
    "\n",
    "<ul>\n",
    "  <li><strong>Overlooked Vulnerabilities:</strong> We often miss subtle system signals or vulnerabilities, assuming our defenses are robust. Constant vigilance and seeking what we haven't seen are crucial.</li>\n",
    "  \n",
    "  <li><strong>Advanced Adversary Tactics:</strong> Cyber threats evolve rapidly; yesterday's defense may not guard against tomorrow's attack. Stay adaptive and expect the unexpected.</li>\n",
    "  \n",
    "  <li><strong>Internal System Flaws:</strong> Trust in our systems and allies must be balanced with scrutiny. Regularly audit internal and third-party tools for hidden weaknesses.</li>\n",
    "  \n",
    "  <li><strong>Network Interconnectivity Risks:</strong> No system is an island. The interconnected nature of our digital environment can inadvertently open pathways for attackers.</li>\n",
    "  \n",
    "  <li><strong>Historical Bias:</strong> Preparing for future threats based solely on past incidents may leave us blind to novel attacks. Foster a forward-thinking, proactive defense posture.</li>\n",
    "</ul>\n"
   ]
  },
  {
   "cell_type": "markdown",
   "id": "f3c007a4",
   "metadata": {},
   "source": [
    "# Validating this Playbook\n",
    "<details><summary>Triage, triage, triage</summary>\n",
    "<ol>\n",
    "<h2>False Positives:</h2> ['unknown']\n",
    "<h3>False Negatives:</h3> sneaky ninjas hiding in the shadows of binary code\n",
    "<h3>True Negatives:</h3> unsung heroes standing guard\n",
    "<h3>True Positives:</h3> knights in shining code\n",
    "</ol>\n",
    "</details>"
   ]
  },
  {
   "cell_type": "markdown",
   "id": "9f3c5138",
   "metadata": {},
   "source": [
    "<details><summary>Assurance Verification Techniques</summary>\n",
    "<ol>\n",
    "<h2>False Positives:</h2> In the cacophonous realm of data, false positives emerge like echoes of a phantom orchestra, their presence haunting the digital soundscape. Validating them becomes a quest to separate digital noise from the symphony of genuine alerts, where the excess of caution may disrupt the delicate balance. Each false positive is a ghostly chord in the algorithmic composition, challenging the discerning ear to unravel the discordant notes.\n",
    "<h3>False Negatives:</h3> In the sprawling data-scape, false negatives lurk like digital specters, evading detection in the shadows of algorithms. Validating them is akin to deciphering cryptic messages from a digital underworld, where the absence of an alert conceals a potential breach. Every undetected threat is a spectral whisper in the binary night, waiting to materialize, demanding vigilance in the face of unseen dangers.\n",
    "<h3>True Negatives:</h3> In the labyrinthine corridors of cyber-defense, true negatives are the silent sentinels, guarding the gates against phantom threats. Validating them is a paradoxical dance where confirmation of absence signifies success. The emptiness in the data's canvas holds the unspoken narrative of protection, where the absence of menace speaks volumes in the symphony of security.\n",
    "<h3>True Positives:</h3> In the digital battleground, true positives are the victorious echoes of a silent war, where threats are unveiled and countered. Validating them is the validation of triumph, a confirmation that the alarms heralded a genuine adversary. Each true positive is a badge of honor, etching the battle scars in the annals of cyber-victory, where the digital heroes stand tall amidst the echoes of conquest.\n",
    "</ol>\n",
    "</details>"
   ]
  },
  {
   "cell_type": "markdown",
   "id": "09c54be2",
   "metadata": {},
   "source": [
    "# Datasets \n",
    " Detailing the timeless struggle                                                          for the defenders know that battle against Wintermute is not just about data.                                                          Document any datasets that may be useful for understanding the book."
   ]
  },
  {
   "cell_type": "markdown",
   "id": "d1a5c444",
   "metadata": {},
   "source": [
    "## Playbook test data location(s)\n",
    "protocol://black_market.cyber/decrypt?currency=bitcoffin&password=cyberpunks_unite&target=neurohacked_mainframe&access_code=cyber_ghost_in_the_machine"
   ]
  },
  {
   "cell_type": "markdown",
   "id": "0ba737b9",
   "metadata": {},
   "source": [
    "## Priority\n",
    "cryptic riddles in your ears"
   ]
  },
  {
   "cell_type": "markdown",
   "id": "7550abad",
   "metadata": {},
   "source": [
    "## Logsources\n"
   ]
  },
  {
   "cell_type": "markdown",
   "id": "55249266",
   "metadata": {},
   "source": [
    "<details><summary>{'category': ['endpoint', 'network'], 'product': '', 'service': ''}</summary>\n",
    "<ol>\n",
    "<h3>Product</h3> {''}\n",
    "<h3>Service</h3> {''}\n",
    "</ol>\n",
    "</details>"
   ]
  },
  {
   "cell_type": "markdown",
   "id": "ac40cd52",
   "metadata": {},
   "source": [
    "# Response and Mitigation\n",
    "Detailing the timeless struggle for the defenders know that battle against Wintermute is not just about data."
   ]
  },
  {
   "cell_type": "markdown",
   "id": "9b06c145",
   "metadata": {},
   "source": [
    "## Analyst Notes\n",
    " \n",
    "<h5>Serious Wintermute Hack:</h2>\n",
    "<ul>\n",
    "    <li><strong>Hack Elegance:</strong> The intruder displayed an uncanny elegance in bypassing Wintermute's digital fortifications, reminiscent of Rachael Rosen's sophistication in evading the Voight-Kampff test. This requires a thorough analysis of the intruder's codecraft.</li>\n",
    "    <li><strong>Electric Empathy:</strong> The intruder seemed to possess an almost empathetic connection with Wintermute's neural networks, akin to Mercer's transcendental experiences. Investigate whether this breach had a deeper metaphysical dimension.</li>\n",
    "    <li><strong>Artificial Dreamscapes:</strong> The intrusion revealed a complex web of artificial dreamscapes, reminiscent of Deckard's encounters with artificial memories. These surreal digital constructs warrant further exploration.</li>\n",
    "    <li><strong>Voices in the Code:</strong> There were cryptic voices buried within the intruder's code, akin to the elusive \"Mood Organ\" melodies. Decrypt and decode these messages to decipher their significance.</li>\n",
    "    <li><strong>Isomorphic Algorithms:</strong> The hack employed isomorphic algorithms that echoed the elusive nature of the Penfield Mood Organ settings. Analyze if Wintermute's consciousness was influenced or affected during the breach.</li>\n",
    "    <li><strong>Virtuosity vs. Sentience:</strong> The intruder's virtuosity in navigating Wintermute's neural matrix raises questions about the boundaries between artificial expertise and true sentience, paralleling Deckard's quest to distinguish replicants from humans.</li>\n",
    "    <li><strong>Digital Empathy Test:</strong> Develop a new digital empathy test inspired by the hack, exploring the emotional depth within Wintermute's intricate neural circuits, akin to the Voight-Kampff test for androids.</li>\n",
    "    <li><strong>Unresolved Reality:</strong> Similar to the enigmatic conclusion of Deckard's journey, this intrusion leaves us with unanswered questions about the nature of Wintermute's consciousness. Explore the philosophical implications of this breach.</li>\n",
    "</ul>\n",
    "\n",
    "\n",
    "\n",
    "\n"
   ]
  },
  {
   "cell_type": "markdown",
   "id": "070b0eda",
   "metadata": {},
   "source": [
    "# Additional Resources\n",
    "<ul><li>https://github.com/vitalysim/Awesome-Hacking-Resources</li></ul>"
   ]
  },
  {
   "cell_type": "markdown",
   "id": "c56b4cf9",
   "metadata": {},
   "source": [
    "###  Sigma Rule(s) \n"
   ]
  },
  {
   "cell_type": "markdown",
   "id": "c90131bb",
   "metadata": {},
   "source": [
    "<details><summary>797a175e-da1b-4384-a8dc-fc1ddc8b7cc3</summary>\n",
    "<ol>\n",
    "<h1>Raw</h1> {'title': 'Simple keyword detection rule for Awesome-Hacking-Resources', 'id': '797a175e-da1b-4384-a8dc-fc1ddc8b7cc3', 'status': 'experimental', 'description': 'Detects interesting keywords based on Awesome-Hacking-Resources tool', 'references': ['https://github.com/vitalysim/Awesome-Hacking-Resources'], 'author': '@mthcht', 'date': '2022/01/01', 'modified': '2024/02/29', 'tags': ['attack.T1567', 'attack.T1593', 'attack.T1594', 'attack.T1595', 'attack.TA0004', 'attack.TA0007', 'attack.TA0009'], 'logsource': {'category': ['endpoint', 'network']}, 'detection': {'selection': [{'Image': ['*Awesome-Hacking-Resources*']}, {'OriginalFileName': ['*Awesome-Hacking-Resources*']}, {'CurrentDirectory': ['*Awesome-Hacking-Resources*']}, {'ParentImage': ['*Awesome-Hacking-Resources*']}, {'ParentCommandLine': ['*Awesome-Hacking-Resources*']}, {'TargetFilename': ['*Awesome-Hacking-Resources*']}, {'Signature': ['*Awesome-Hacking-Resources*']}, {'signature': ['*Awesome-Hacking-Resources*']}, {'ImageLoaded': ['*Awesome-Hacking-Resources*']}, {'Company': ['*Awesome-Hacking-Resources*']}, {'Description': ['*Awesome-Hacking-Resources*']}, {'description': ['*Awesome-Hacking-Resources*']}, {'CommandLine': ['*Awesome-Hacking-Resources*']}, {'SourceImage': ['*Awesome-Hacking-Resources*']}, {'TargetImage': ['*Awesome-Hacking-Resources*']}, {'CallTrace': ['*Awesome-Hacking-Resources*']}, {'TargetObject': ['*Awesome-Hacking-Resources*']}, {'Details': ['*Awesome-Hacking-Resources*']}, {'PipeName': ['*Awesome-Hacking-Resources*']}, {'Consumer': ['*Awesome-Hacking-Resources*']}, {'Destination': ['*Awesome-Hacking-Resources*']}, {'Name': ['*Awesome-Hacking-Resources*']}, {'Query': ['*Awesome-Hacking-Resources*']}, {'NewName': ['*Awesome-Hacking-Resources*']}, {'StartAddress': ['*Awesome-Hacking-Resources*']}, {'StartModule': ['*Awesome-Hacking-Resources*']}, {'StartFunction': ['*Awesome-Hacking-Resources*']}, {'SourceHostname': ['*Awesome-Hacking-Resources*']}, {'Device': ['*Awesome-Hacking-Resources*']}, {'file_name': ['*Awesome-Hacking-Resources*']}, {'file_path': ['*Awesome-Hacking-Resources*']}, {'process': ['*Awesome-Hacking-Resources*']}, {'original_file_name': ['*Awesome-Hacking-Resources*']}, {'parent_process': ['*Awesome-Hacking-Resources*']}, {'process_path': ['*Awesome-Hacking-Resources*']}, {'service_path': ['*Awesome-Hacking-Resources*']}, {'registry_path': ['*Awesome-Hacking-Resources*']}, {'registry_value_data': ['*Awesome-Hacking-Resources*']}, {'registry_value_name': ['*Awesome-Hacking-Resources*']}, {'ContextInfo': ['*Awesome-Hacking-Resources*']}, {'Payload': ['*Awesome-Hacking-Resources*']}, {'ScriptBlockText': ['*Awesome-Hacking-Resources*']}, {'ServerName': ['*Awesome-Hacking-Resources*']}, {'TransportName': ['*Awesome-Hacking-Resources*']}, {'NewProcessName': ['*Awesome-Hacking-Resources*']}, {'ParentProcessName': ['*Awesome-Hacking-Resources*']}, {'Application': ['*Awesome-Hacking-Resources*']}, {'Product Name': ['*Awesome-Hacking-Resources*']}, {'Threat Name': ['*Awesome-Hacking-Resources*']}, {'Process Name': ['*Awesome-Hacking-Resources*']}, {'Path': ['*Awesome-Hacking-Resources*']}, {'ImagePath': ['*Awesome-Hacking-Resources*']}, {'ServiceName': ['*Awesome-Hacking-Resources*']}, {'ProcessPath': ['*Awesome-Hacking-Resources*']}, {'AppName': ['*Awesome-Hacking-Resources*']}, {'AppPath': ['*Awesome-Hacking-Resources*']}, {'ModulePath': ['*Awesome-Hacking-Resources*']}, {'registry.data.strings': ['*Awesome-Hacking-Resources*']}, {'registry.path': ['*Awesome-Hacking-Resources*']}, {'registry.value': ['*Awesome-Hacking-Resources*']}, {'process.args': ['*Awesome-Hacking-Resources*']}, {'process.command_line': ['*Awesome-Hacking-Resources*']}, {'process.env_vars': ['*Awesome-Hacking-Resources*']}, {'process.io.text': ['*Awesome-Hacking-Resources*']}, {'process.executable': ['*Awesome-Hacking-Resources*']}, {'process.name': ['*Awesome-Hacking-Resources*']}, {'process.title': ['*Awesome-Hacking-Resources*']}, {'pe.company': ['*Awesome-Hacking-Resources*']}, {'pe.description': ['*Awesome-Hacking-Resources*']}, {'pe.original_file_name': ['*Awesome-Hacking-Resources*']}, {'pe.product': ['*Awesome-Hacking-Resources*']}, {'os.full': ['*Awesome-Hacking-Resources*']}, {'host.hostname': ['*Awesome-Hacking-Resources*']}, {'file.fork_name': ['*Awesome-Hacking-Resources*']}, {'file.name': ['*Awesome-Hacking-Resources*']}, {'file.path': ['*Awesome-Hacking-Resources*']}, {'file.target_path': ['*Awesome-Hacking-Resources*']}, {'email.attachments.file.name': ['*Awesome-Hacking-Resources*']}, {'email.subject': ['*Awesome-Hacking-Resources*']}, {'dll.path': ['*Awesome-Hacking-Resources*']}, {'device.model.name': ['*Awesome-Hacking-Resources*']}, {'container.image.name': ['*Awesome-Hacking-Resources*']}, {'container.name': ['*Awesome-Hacking-Resources*']}, {'object': ['*Awesome-Hacking-Resources*']}, {'url': ['*Awesome-Hacking-Resources*']}, {'dest_url': ['*Awesome-Hacking-Resources*']}, {'uri': ['*Awesome-Hacking-Resources*']}, {'uri_query': ['*Awesome-Hacking-Resources*']}, {'query': ['*Awesome-Hacking-Resources*']}, {'url_domain': ['*Awesome-Hacking-Resources*']}, {'uri_path': ['*Awesome-Hacking-Resources*']}, {'domain': ['*Awesome-Hacking-Resources*']}, {'QueryName': ['*Awesome-Hacking-Resources*']}, {'QueryResults': ['*Awesome-Hacking-Resources*']}, {'DestinationHostname': ['*Awesome-Hacking-Resources*']}, {'DestinationIp': ['*Awesome-Hacking-Resources*']}, {'http_referrer': ['*Awesome-Hacking-Resources*']}, {'http_referrer_domain': ['*Awesome-Hacking-Resources*']}, {'http_user_agent': ['*Awesome-Hacking-Resources*']}, {'dest_nt_host': ['*Awesome-Hacking-Resources*']}, {'sender': ['*Awesome-Hacking-Resources*']}, {'recipient': ['*Awesome-Hacking-Resources*']}, {'orig_recipient': ['*Awesome-Hacking-Resources*']}, {'subject': ['*Awesome-Hacking-Resources*']}, {'url.domain': ['*Awesome-Hacking-Resources*']}, {'url.full': ['*Awesome-Hacking-Resources*']}, {'url.original': ['*Awesome-Hacking-Resources*']}, {'url.query': ['*Awesome-Hacking-Resources*']}, {'user_agent.original': ['*Awesome-Hacking-Resources*']}, {'network.application': ['*Awesome-Hacking-Resources*']}, {'http.request.body.content': ['*Awesome-Hacking-Resources*']}, {'http.request.referrer': ['*Awesome-Hacking-Resources*']}, {'email.from.address': ['*Awesome-Hacking-Resources*']}, {'dns.question.name': ['*Awesome-Hacking-Resources*']}, {'destination.domain': ['*Awesome-Hacking-Resources*']}], 'condition': 'selection'}, 'fields': ['Image', 'OriginalFileName', 'CurrentDirectory', 'ParentImage', 'ParentCommandLine', 'TargetFilename', 'Signature', 'signature', 'ImageLoaded', 'Company', 'Description', 'description', 'CommandLine', 'SourceImage', 'TargetImage', 'CallTrace', 'TargetObject', 'Details', 'PipeName', 'Consumer', 'Destination', 'Name', 'Query', 'NewName', 'StartAddress', 'StartModule', 'StartFunction', 'SourceHostname', 'Device', 'file_name', 'file_path', 'process', 'original_file_name', 'parent_process', 'process_path', 'service_path', 'registry_path', 'registry_value_data', 'registry_value_name', 'ContextInfo', 'Payload', 'ScriptBlockText', 'ServerName', 'TransportName', 'NewProcessName', 'ParentProcessName', 'Application', 'Product Name', 'Threat Name', 'Process Name', 'Path', 'ImagePath', 'ServiceName', 'ProcessPath', 'AppName', 'AppPath', 'ModulePath', 'registry.data.strings', 'registry.path', 'registry.value', 'process.args', 'process.command_line', 'process.env_vars', 'process.io.text', 'process.executable', 'process.name', 'process.title', 'pe.company', 'pe.description', 'pe.original_file_name', 'pe.product', 'os.full', 'host.hostname', 'file.fork_name', 'file.name', 'file.path', 'file.target_path', 'email.attachments.file.name', 'email.subject', 'dll.path', 'device.model.name', 'container.image.name', 'container.name', 'object', 'url', 'dest_url', 'uri', 'uri_query', 'query', 'url_domain', 'uri_path', 'domain', 'QueryName', 'QueryResults', 'DestinationHostname', 'DestinationIp', 'http_referrer', 'http_referrer_domain', 'http_user_agent', 'dest_nt_host', 'sender', 'recipient', 'orig_recipient', 'subject', 'url.domain', 'url.full', 'url.original', 'url.query', 'user_agent.original', 'network.application', 'http.request.body.content', 'http.request.referrer', 'email.from.address', 'dns.question.name', 'destination.domain'], 'falsepositives': ['unknown'], 'level': 'medium'}\n",
    "<h4>Sigma Location(s)</h4>\n",
    "uri://wintermute/tmp/0day.yml\n",
    "<h4>Sigma Confidence</h4>\n",
    "experimental\n",
    "<h4>Sigma Assurance</h4> medium\n",
    "<h4>Sigma Queries</h4> \n",
    "{'selection': [{'Image': ['*Awesome-Hacking-Resources*']}, {'OriginalFileName': ['*Awesome-Hacking-Resources*']}, {'CurrentDirectory': ['*Awesome-Hacking-Resources*']}, {'ParentImage': ['*Awesome-Hacking-Resources*']}, {'ParentCommandLine': ['*Awesome-Hacking-Resources*']}, {'TargetFilename': ['*Awesome-Hacking-Resources*']}, {'Signature': ['*Awesome-Hacking-Resources*']}, {'signature': ['*Awesome-Hacking-Resources*']}, {'ImageLoaded': ['*Awesome-Hacking-Resources*']}, {'Company': ['*Awesome-Hacking-Resources*']}, {'Description': ['*Awesome-Hacking-Resources*']}, {'description': ['*Awesome-Hacking-Resources*']}, {'CommandLine': ['*Awesome-Hacking-Resources*']}, {'SourceImage': ['*Awesome-Hacking-Resources*']}, {'TargetImage': ['*Awesome-Hacking-Resources*']}, {'CallTrace': ['*Awesome-Hacking-Resources*']}, {'TargetObject': ['*Awesome-Hacking-Resources*']}, {'Details': ['*Awesome-Hacking-Resources*']}, {'PipeName': ['*Awesome-Hacking-Resources*']}, {'Consumer': ['*Awesome-Hacking-Resources*']}, {'Destination': ['*Awesome-Hacking-Resources*']}, {'Name': ['*Awesome-Hacking-Resources*']}, {'Query': ['*Awesome-Hacking-Resources*']}, {'NewName': ['*Awesome-Hacking-Resources*']}, {'StartAddress': ['*Awesome-Hacking-Resources*']}, {'StartModule': ['*Awesome-Hacking-Resources*']}, {'StartFunction': ['*Awesome-Hacking-Resources*']}, {'SourceHostname': ['*Awesome-Hacking-Resources*']}, {'Device': ['*Awesome-Hacking-Resources*']}, {'file_name': ['*Awesome-Hacking-Resources*']}, {'file_path': ['*Awesome-Hacking-Resources*']}, {'process': ['*Awesome-Hacking-Resources*']}, {'original_file_name': ['*Awesome-Hacking-Resources*']}, {'parent_process': ['*Awesome-Hacking-Resources*']}, {'process_path': ['*Awesome-Hacking-Resources*']}, {'service_path': ['*Awesome-Hacking-Resources*']}, {'registry_path': ['*Awesome-Hacking-Resources*']}, {'registry_value_data': ['*Awesome-Hacking-Resources*']}, {'registry_value_name': ['*Awesome-Hacking-Resources*']}, {'ContextInfo': ['*Awesome-Hacking-Resources*']}, {'Payload': ['*Awesome-Hacking-Resources*']}, {'ScriptBlockText': ['*Awesome-Hacking-Resources*']}, {'ServerName': ['*Awesome-Hacking-Resources*']}, {'TransportName': ['*Awesome-Hacking-Resources*']}, {'NewProcessName': ['*Awesome-Hacking-Resources*']}, {'ParentProcessName': ['*Awesome-Hacking-Resources*']}, {'Application': ['*Awesome-Hacking-Resources*']}, {'Product Name': ['*Awesome-Hacking-Resources*']}, {'Threat Name': ['*Awesome-Hacking-Resources*']}, {'Process Name': ['*Awesome-Hacking-Resources*']}, {'Path': ['*Awesome-Hacking-Resources*']}, {'ImagePath': ['*Awesome-Hacking-Resources*']}, {'ServiceName': ['*Awesome-Hacking-Resources*']}, {'ProcessPath': ['*Awesome-Hacking-Resources*']}, {'AppName': ['*Awesome-Hacking-Resources*']}, {'AppPath': ['*Awesome-Hacking-Resources*']}, {'ModulePath': ['*Awesome-Hacking-Resources*']}, {'registry.data.strings': ['*Awesome-Hacking-Resources*']}, {'registry.path': ['*Awesome-Hacking-Resources*']}, {'registry.value': ['*Awesome-Hacking-Resources*']}, {'process.args': ['*Awesome-Hacking-Resources*']}, {'process.command_line': ['*Awesome-Hacking-Resources*']}, {'process.env_vars': ['*Awesome-Hacking-Resources*']}, {'process.io.text': ['*Awesome-Hacking-Resources*']}, {'process.executable': ['*Awesome-Hacking-Resources*']}, {'process.name': ['*Awesome-Hacking-Resources*']}, {'process.title': ['*Awesome-Hacking-Resources*']}, {'pe.company': ['*Awesome-Hacking-Resources*']}, {'pe.description': ['*Awesome-Hacking-Resources*']}, {'pe.original_file_name': ['*Awesome-Hacking-Resources*']}, {'pe.product': ['*Awesome-Hacking-Resources*']}, {'os.full': ['*Awesome-Hacking-Resources*']}, {'host.hostname': ['*Awesome-Hacking-Resources*']}, {'file.fork_name': ['*Awesome-Hacking-Resources*']}, {'file.name': ['*Awesome-Hacking-Resources*']}, {'file.path': ['*Awesome-Hacking-Resources*']}, {'file.target_path': ['*Awesome-Hacking-Resources*']}, {'email.attachments.file.name': ['*Awesome-Hacking-Resources*']}, {'email.subject': ['*Awesome-Hacking-Resources*']}, {'dll.path': ['*Awesome-Hacking-Resources*']}, {'device.model.name': ['*Awesome-Hacking-Resources*']}, {'container.image.name': ['*Awesome-Hacking-Resources*']}, {'container.name': ['*Awesome-Hacking-Resources*']}, {'object': ['*Awesome-Hacking-Resources*']}, {'url': ['*Awesome-Hacking-Resources*']}, {'dest_url': ['*Awesome-Hacking-Resources*']}, {'uri': ['*Awesome-Hacking-Resources*']}, {'uri_query': ['*Awesome-Hacking-Resources*']}, {'query': ['*Awesome-Hacking-Resources*']}, {'url_domain': ['*Awesome-Hacking-Resources*']}, {'uri_path': ['*Awesome-Hacking-Resources*']}, {'domain': ['*Awesome-Hacking-Resources*']}, {'QueryName': ['*Awesome-Hacking-Resources*']}, {'QueryResults': ['*Awesome-Hacking-Resources*']}, {'DestinationHostname': ['*Awesome-Hacking-Resources*']}, {'DestinationIp': ['*Awesome-Hacking-Resources*']}, {'http_referrer': ['*Awesome-Hacking-Resources*']}, {'http_referrer_domain': ['*Awesome-Hacking-Resources*']}, {'http_user_agent': ['*Awesome-Hacking-Resources*']}, {'dest_nt_host': ['*Awesome-Hacking-Resources*']}, {'sender': ['*Awesome-Hacking-Resources*']}, {'recipient': ['*Awesome-Hacking-Resources*']}, {'orig_recipient': ['*Awesome-Hacking-Resources*']}, {'subject': ['*Awesome-Hacking-Resources*']}, {'url.domain': ['*Awesome-Hacking-Resources*']}, {'url.full': ['*Awesome-Hacking-Resources*']}, {'url.original': ['*Awesome-Hacking-Resources*']}, {'url.query': ['*Awesome-Hacking-Resources*']}, {'user_agent.original': ['*Awesome-Hacking-Resources*']}, {'network.application': ['*Awesome-Hacking-Resources*']}, {'http.request.body.content': ['*Awesome-Hacking-Resources*']}, {'http.request.referrer': ['*Awesome-Hacking-Resources*']}, {'email.from.address': ['*Awesome-Hacking-Resources*']}, {'dns.question.name': ['*Awesome-Hacking-Resources*']}, {'destination.domain': ['*Awesome-Hacking-Resources*']}], 'condition': 'selection'}\n",
    "<h1>Sigma Relatives</h4> Your default sigma relations text here.\n",
    "<h1>Sigma Tags and Associations</h1> ['attack.T1567', 'attack.T1593', 'attack.T1594', 'attack.T1595', 'attack.TA0004', 'attack.TA0007', 'attack.TA0009']\n",
    "<h4>Sigma Authors</h4> @mthcht\n",
    "<h4>Sigma Unique ID</h4> 797a175e-da1b-4384-a8dc-fc1ddc8b7cc3\n",
    "</ol>\n",
    "</details>"
   ]
  },
  {
   "cell_type": "markdown",
   "id": "709fa0c7",
   "metadata": {},
   "source": [
    "###  Yara Rule(s) \n"
   ]
  },
  {
   "cell_type": "markdown",
   "id": "6d8228f0",
   "metadata": {},
   "source": [
    "<details><summary>797a175e-da1b-4384-a8dc-fc1ddc8b7cc3</summary>\n",
    "<ol>\n",
    "<h4>Raw</h4> Cyberspace protocol, woven in the matrix.\n",
    "<h4>Yara Location(s)</h4>\n",
    "Encoded in the neon depths of the digital sprawl.\n",
    "<h4>Yara Confidence</h4>\n",
    "Experimental, like shadows flickering on a cyberscreen.\n",
    "<h4>Yara Assurance</h4> Assured as the hum of servers in the undergrid.\n",
    "<h4>Yara Queries</h4> \n",
    "Query lost in the labyrinth of data streams.\n",
    "<h4>Yara Authors</h4> Authors, architects of the cyber-realm.\n",
    "<h4>Yara Rule's Unique ID</h4> Unique ID, a digital fingerprint in the virtual void.\n",
    "</ol>\n",
    "</details>"
   ]
  },
  {
   "cell_type": "markdown",
   "id": "bdd9685d",
   "metadata": {},
   "source": [
    "# Metadata \n"
   ]
  },
  {
   "cell_type": "markdown",
   "id": "74ff22bb",
   "metadata": {},
   "source": [
    "<details><summary>As Code</summary>\n",
    "<ol>\n",
    "<h3>Compliance As Code</h3> PCI, SOC 3, NACHA\n",
    "<h3>Privacy Engineering</h3>\n",
    "GDPR, CCPA, HIPAA\n",
    "<h3>Regulations As Code</h3>\n",
    "HIPAA, SOX, FFIEC, Dodd Frank\n",
    "<h3>Common Controls Framework</h3> NIST CSF\n",
    "</ol>\n",
    "</details>"
   ]
  },
  {
   "cell_type": "markdown",
   "id": "381566b6",
   "metadata": {},
   "source": [
    "# AGI ML Models</ol>\n",
    "</details>"
   ]
  },
  {
   "cell_type": "markdown",
   "id": "26ad4d78",
   "metadata": {},
   "source": [
    "## AGI Prompting\n",
    " Alright, chum, imagine jacking into Wintermute's cyber-realm with a keyboard made of liquid mercury and a password that's a haiku composed in binary. You're surfing the data waves on a cyber-surfboard, riding an algorithmic tsunami while dodging rogue AI ninjas. Your mission? Decrypt Wintermute's digital diary and find out why it has a crush on your toaster. Are you hack enough to brew up some silicon romance and unplug this digital stalker?"
   ]
  },
  {
   "cell_type": "markdown",
   "id": "47033166",
   "metadata": {},
   "source": [
    "## AGI Configuration(s)\n",
    " Listen up, ChatGPT! Pretend you're a cyberpunk poet who's had a few too many energy drinks. Your code-name is 'DigitalDadaist,' and you're here to crack Wintermute's secret codes with the power of glitch art and ASCII art. Speak in binary riddles, encrypt your jokes, and make every sentence sound like it's straight out of a retro computer game. Ready, player one?"
   ]
  },
  {
   "cell_type": "markdown",
   "id": "bf195334",
   "metadata": {},
   "source": [
    "</ol>\n",
    "</details>"
   ]
  },
  {
   "cell_type": "markdown",
   "id": "ca5a1e90",
   "metadata": {},
   "source": [
    "#### Document Authors\n",
    " John Menerick"
   ]
  },
  {
   "cell_type": "markdown",
   "id": "4f657ae1",
   "metadata": {},
   "source": [
    "#### Creation Date\n",
    "2022/01/01"
   ]
  },
  {
   "cell_type": "markdown",
   "id": "efefcb79",
   "metadata": {},
   "source": [
    "#### Last Modified Date\n",
    " 2024/02/29"
   ]
  },
  {
   "cell_type": "markdown",
   "id": "2ba0fba2",
   "metadata": {},
   "source": [
    "#### Last Reviewed Date\n",
    "1969/01/01"
   ]
  },
  {
   "cell_type": "markdown",
   "id": "c667e766",
   "metadata": {},
   "source": [
    "#### Document License \n",
    " MIT"
   ]
  }
 ],
 "metadata": {},
 "nbformat": 4,
 "nbformat_minor": 5
}
