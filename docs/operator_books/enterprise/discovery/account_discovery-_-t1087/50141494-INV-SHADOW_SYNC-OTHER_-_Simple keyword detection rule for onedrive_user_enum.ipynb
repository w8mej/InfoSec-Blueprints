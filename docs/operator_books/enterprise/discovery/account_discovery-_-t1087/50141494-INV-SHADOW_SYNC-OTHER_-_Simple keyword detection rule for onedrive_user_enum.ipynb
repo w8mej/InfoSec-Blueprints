{
 "cells": [
  {
   "cell_type": "markdown",
   "id": "4b2495f9",
   "metadata": {},
   "source": [
    "# UNCLASSIFIED / NON CLASSIFIÉ//TLP:WHITE# U/OO/7223-02 | QQ-09-1998 \n",
    " Please note that the original, detailed content has been removed or adjusted for public consumption. Most data has been redacted and replaced with generic, non-actionable insights. This modification ensures compliance with privacy considerations, non-disclosure agreements, and intellectual property rights that govern the dissemination of sensitive information. The priority is to respect these boundaries while still offering valuable, thought-provoking perspectives."
   ]
  },
  {
   "cell_type": "markdown",
   "id": "cd45e879",
   "metadata": {},
   "source": [
    "![Build Status](https://img.shields.io/badge/Build-Passing-brightgreen?style=flat-square&logo=cyberpunk)         ![Documentation](https://img.shields.io/badge/Documentation-Complete-blue?style=flat-square&logo=cyberpunk)        ![Response Efficiency](https://img.shields.io/badge/Response%20Efficiency-98%25-green?style=flat-square&logo=cyberpunk)        ![Last Updated](https://img.shields.io/badge/Last%20Updated-Oct%202023-purple?style=flat-square&logo=cyberpunk)        ![Incidents Resolved](https://img.shields.io/badge/Incidents%20Resolved-150-red?style=flat-square&logo=cyberpunk)        ![Community Engagement](https://img.shields.io/badge/Community-Active-orange?style=flat-square&logo=cyberpunk)        ![Code Integration](https://img.shields.io/badge/Code%20Integration-High-teal?style=flat-square&logo=cyberpunk)        ![AI Analysis](https://img.shields.io/badge/AI%20Analysis-Advanced-blueviolet?style=flat-square&logo=cyberpunk)        ![Threat Detection](https://img.shields.io/badge/Threat%20Detection-Optimal-red?style=flat-square&logo=cyberpunk)        ![Cybersecurity Hardening](https://img.shields.io/badge/Security-Hardened-silver?style=flat-square&logo=cyberpunk)        ![Network Uptime](https://img.shields.io/badge/Uptime-99.9%25-brightgreen?style=flat-square&logo=cyberpunk)        ![Data Privacy](https://img.shields.io/badge/Privacy-Compliant-green?style=flat-square&logo=cyberpunk)        ![Wintermute Efficiency](https://img.shields.io/badge/Wintermute%20Efficiency-100%25-black?style=flat-square&logo=cyberpunk)        ![Case's Code Agility](https://img.shields.io/badge/Case's%20Code%20Agility-Excellent-blue?style=flat-square&logo=cyberpunk)        ![Matrix Connectivity](https://img.shields.io/badge/Matrix%20Connectivity-Strong-green?style=flat-square&logo=cyberpunk)        ![Molly's Security](https://img.shields.io/badge/Molly's%20Security%20Protocols-Impeccable-red?style=flat-square&logo=cyberpunk)        ![Chiba City Innovation](https://img.shields.io/badge/Chiba%20City%20Innovation-High-yellow?style=flat-square&logo=cyberpunk)        ![Zion Cluster Collaboration](https://img.shields.io/badge/Zion%20Cluster%20Collaboration-Effective-lightblue?style=flat-square&logo=cyberpunk)"
   ]
  },
  {
   "cell_type": "markdown",
   "id": "e4e2df70",
   "metadata": {},
   "source": [
    "# Title\n",
    "Simple keyword detection rule for onedrive_user_enum"
   ]
  },
  {
   "cell_type": "markdown",
   "id": "217149d3",
   "metadata": {},
   "source": [
    "# Description\n",
    "Detects interesting keywords based on onedrive_user_enum tool"
   ]
  },
  {
   "cell_type": "markdown",
   "id": "146ba12e",
   "metadata": {},
   "source": [
    "# Goal\n",
    "Ensure the integrity, confidentiality, and availability by rapidly identifying, investigating, and mitigating cyber threats and anomalies."
   ]
  },
  {
   "cell_type": "markdown",
   "id": "691e62a5",
   "metadata": {},
   "source": [
    "# Categorization"
   ]
  },
  {
   "cell_type": "markdown",
   "id": "2b5970c8",
   "metadata": {},
   "source": [
    "### ATT&CK\n",
    "['attack.T1087', 'attack.T1110', 'attack.TA0006']"
   ]
  },
  {
   "cell_type": "markdown",
   "id": "552c443a",
   "metadata": {},
   "source": [
    "- Distributed Denial of Service (DDoS) Attacks, Quantum Computing Exploits, Advanced Firewall Breach Attempts, Encryption Key Theft or Exposure, AI-Powered Social Engineering Attacks, Algorithmic Manipulation and Exploits, Sophisticated Malware Infiltrations, Advanced Data Obfuscation and Evasion Tactics, System and Network Configuration Vulnerabilities."
   ]
  },
  {
   "cell_type": "markdown",
   "id": "81ef7068",
   "metadata": {},
   "source": [
    "- Data Exfiltration, Intrusion Detection Evasion, Denial of Service (DoS) Attacks, Credential Theft."
   ]
  },
  {
   "cell_type": "markdown",
   "id": "f34f580e",
   "metadata": {},
   "source": [
    "- DNS Tunneling, IP Spoofing, Distributed DoS (DDoS) Attacks, Keylogging."
   ]
  },
  {
   "cell_type": "markdown",
   "id": "dd872d9f",
   "metadata": {},
   "source": [
    "### D3F3ND \n"
   ]
  },
  {
   "cell_type": "markdown",
   "id": "365ac9d4",
   "metadata": {},
   "source": [
    "\n",
    "<ul>\n",
    "  <li><strong>Network Segmentation and Access Control (D3F3ND-K001):</strong> Establish secure network zones by segmenting the infrastructure, enhancing protection for critical assets. Implement stringent access controls to prevent unauthorized access and mitigate potential threats.</li>\n",
    "\n",
    "  <li><strong>Advanced Endpoint Protection Deployment (D3F3ND-K002):</strong> Deploy cutting-edge endpoint security solutions that utilize machine learning and behavioral analysis to detect and neutralize threats proactively.</li>\n",
    "\n",
    "  <li><strong>Enhanced Identity Verification (D3F3ND-K003):</strong> Strengthen security measures with multi-factor authentication combining biometric data and advanced encryption to prevent identity theft and unauthorized access.</li>\n",
    "\n",
    "  <li><strong>Anomaly Detection (D3F3ND-K004):</strong> Use anomaly detection tools to monitor for unusual traffic patterns, user activities, and system behaviors to identify potential security breaches early.</li>\n",
    "\n",
    "  <li><strong>Data Encryption (D3F3ND-K005):</strong> Apply robust encryption techniques to protect data at rest and in transit, ensuring confidentiality and integrity across communication channels.</li>\n",
    "\n",
    "  <li><strong>System Hardening and Vulnerability Management (D3F3ND-K006):</strong> Conduct regular security assessments and apply patches promptly to address vulnerabilities and strengthen system defenses.</li>\n",
    "\n",
    "  <li><strong>Crisis Management and Recovery Protocols (D3F3ND-K007):</strong> Develop and maintain comprehensive crisis management plans including incident response and disaster recovery procedures to quickly recover from security incidents.</li>\n",
    "\n",
    "  <li><strong>Threat Intelligence Integration (D3F3ND-K008):</strong> Leverage threat intelligence platforms to gather and analyze data on emerging threats, enabling proactive defense and strategic decision-making.</li>\n",
    "\n",
    "  <li><strong>Cybersecurity Awareness Training (D3F3ND-K009):</strong> Empower employees with ongoing cybersecurity education to recognize and avoid potential cyber threats such as phishing attacks.</li>\n",
    "\n",
    "  <li><strong>Supply Chain Security (D3F3ND-K010):</strong> Secure the supply chain through continuous assessments and audits of partners and vendors to ensure compliance with security standards and reduce vulnerabilities.</li>\n",
    "</ul>\n"
   ]
  },
  {
   "cell_type": "markdown",
   "id": "fc117bda",
   "metadata": {},
   "source": [
    "### CAPEC \n",
    "  "
   ]
  },
  {
   "cell_type": "markdown",
   "id": "9370985e",
   "metadata": {},
   "source": [
    "Equip cybersecurity teams with the knowledge and tools to identify, counter, and mitigate a wide range of digital attack tactics, techniques, and procedures (TTPs). This effort requires understanding the attacker's mindset, mastering the execution of digital attacks, and developing strategies to confront evolving cyber threats.</br><h4>Core Attack Patterns</h4><ul><strong>Resource Manipulation and Denial (CAPEC-XYZ1):</strong> Involves attacks that compromise the availability, integrity, or confidentiality of resources. This includes denial of service attacks as well as more covert operations like resource hijacking or system manipulation.</ul><ul><strong>Credential Access and Privilege Escalation (CAPEC-XYZ2):</strong> Focuses on exploiting flaws in authentication, authorization, and session management to gain unauthorized access or elevated privileges within systems.</ul><ul><strong>Data Exfiltration and Infiltration (CAPEC-XYZ3):</strong> Encompasses methods used by attackers to stealthily extract sensitive data or introduce malware, ransomware, and advanced persistent threats (APTs) into target systems.</ul><ul><strong>Social Engineering and Phishing (CAPEC-XYZ4):</strong> Involves manipulating individuals into divulging confidential information, compromising security, or unknowingly participating in attacks.</ul><ul><strong>Evasive Maneuvers (CAPEC-XYZ5):</strong> Includes techniques that allow attackers to remain undetected within networks, maintain persistence, and erase traces of their activities, such as using obfuscation, rootkits, and covert communication channels.</ul><h4>CAPEC Suggested Mitigation Strategies</h4><ul><strong>Continuous Monitoring and Anomaly Detection:</strong> Implement comprehensive monitoring systems that use machine learning algorithms to detect abnormal behavior and potential threats. Regularly review logs and alerts to identify patterns indicative of attacks.</ul><ul><strong>Access Control and Least Privilege:</strong> Limit user privileges to the minimum necessary for their roles. Use strong authentication mechanisms and enforce strict access controls to prevent unauthorized access.</ul><ul><strong>Secure Software Development Practices:</strong> Train developers to write secure code, conduct regular security assessments, and follow best practices for secure coding. Use automated tools to identify vulnerabilities during development.</ul><ul><strong>Incident Response Planning and Testing:</strong> Develop and regularly update an incident response plan. Conduct tabletop exercises and simulations to test the effectiveness of the plan and ensure all stakeholders understand their roles during a security incident.</ul>"
   ]
  },
  {
   "cell_type": "markdown",
   "id": "c61054cd",
   "metadata": {},
   "source": [
    "## Strategy Abstract\n",
    "In the complex environment of cybersecurity, a strategic approach is developed, characterized by the use of sophisticated tactics and algorithms. This strategy involves navigating through encrypted communications and deceptive tactics, aiming to gain an advantage in the dynamic flow of information. While success is often elusive and challenging to sustain, it remains a critical goal in the ongoing effort to secure digital assets."
   ]
  },
  {
   "cell_type": "markdown",
   "id": "3e0093b4",
   "metadata": {},
   "source": [
    "# Technical Context\n",
    "In the challenging cybersecurity landscape, the confrontation with Wintermute involves navigating encrypted communications, interacting with AI systems, and addressing quantum computing challenges. This setting represents a complex and nuanced environment where strategic decisions are made."
   ]
  },
  {
   "cell_type": "markdown",
   "id": "dedc0663",
   "metadata": {},
   "source": [
    "## Blind Spots & Assumptions\n",
    "\n",
    "<ul>\n",
    "  <li><strong>Overlooked Vulnerabilities:</strong> We often miss subtle system signals or vulnerabilities, assuming our defenses are robust. Constant vigilance and seeking what we haven't seen are crucial.</li>\n",
    "  \n",
    "  <li><strong>Advanced Adversary Tactics:</strong> Cyber threats evolve rapidly; yesterday's defense may not guard against tomorrow's attack. Stay adaptive and expect the unexpected.</li>\n",
    "  \n",
    "  <li><strong>Internal System Flaws:</strong> Trust in our systems and allies must be balanced with scrutiny. Regularly audit internal and third-party tools for hidden weaknesses.</li>\n",
    "  \n",
    "  <li><strong>Network Interconnectivity Risks:</strong> No system is an island. The interconnected nature of our digital environment can inadvertently open pathways for attackers.</li>\n",
    "  \n",
    "  <li><strong>Historical Bias:</strong> Preparing for future threats based solely on past incidents may leave us blind to novel attacks. Foster a forward-thinking, proactive defense posture.</li>\n",
    "</ul>\n"
   ]
  },
  {
   "cell_type": "markdown",
   "id": "aec3dd94",
   "metadata": {},
   "source": [
    "# Validating this Playbook\n",
    "<details><summary>Triage, triage, triage</summary>\n",
    "<ol>\n",
    "<h2>False Positives:</h2> ['unknown']\n",
    "<h3>False Negatives:</h3> Undetected threats concealed within the system's code\n",
    "<h3>True Negatives:</h3> Successfully identified and verified benign elements\n",
    "<h3>True Positives:</h3> Accurately detected and confirmed threats\n",
    "</ol>\n",
    "</details>"
   ]
  },
  {
   "cell_type": "markdown",
   "id": "6e137577",
   "metadata": {},
   "source": [
    "<details><summary>Assurance Verification Techniques</summary>\n",
    "<ol>\n",
    "<h2>False Positives:</h2> In the noisy environment of data analysis, false positives appear as misleading alerts that mimic real threats. Validating these alerts involves distinguishing irrelevant data from true threats, a process crucial for maintaining operational efficiency and avoiding resource wastage. Each false positive represents a challenge to identify and reduce noise.\n",
    "<h3>False Negatives:</h3> Within the extensive network, false negatives represent undetected threats that evade algorithmic detection. Their validation involves analyzing complex data to uncover hidden breaches, where the lack of alerts may mask serious security risks. Each undetected threat requires continuous vigilance and refined detection strategies.\n",
    "<h3>True Negatives:</h3> True negatives are correctly identified non-threats within cybersecurity defenses, serving as indicators of system efficacy. Validating these instances confirms the absence of threats, reinforcing the effectiveness of the security measures in place. This validation underscores the reliability of the defensive systems, where non-issues are accurately identified and dismissed.\n",
    "<h3>True Positives:</h3> True positives are accurate detections of real threats within the digital environment. Validating these alerts confirms the presence of actual security threats, highlighting the successful operation of detection systems. Each true positive affirms the effectiveness of the security protocols, contributing to ongoing improvements in threat response capabilities.\n",
    "</ol>\n",
    "</details>"
   ]
  },
  {
   "cell_type": "markdown",
   "id": "37a29d64",
   "metadata": {},
   "source": [
    "# Datasets \n",
    " Detailing the timeless struggle                                                          for the defenders know that battle against Wintermute is not just about data.                                                          Document any datasets that may be useful for understanding the book."
   ]
  },
  {
   "cell_type": "markdown",
   "id": "a340e63d",
   "metadata": {},
   "source": [
    "## Playbook test data location(s)\n",
    "protocol://black_market.cyber/decrypt?currency=bitcoffin&password=cyberpunks_unite&target=neurohacked_mainframe&access_code=cyber_ghost_in_the_machine"
   ]
  },
  {
   "cell_type": "markdown",
   "id": "d8512ca7",
   "metadata": {},
   "source": [
    "## Priority\n",
    "Priority based on complexity and urgency of data analysis needs"
   ]
  },
  {
   "cell_type": "markdown",
   "id": "5dea6662",
   "metadata": {},
   "source": [
    "## Logsources\n"
   ]
  },
  {
   "cell_type": "markdown",
   "id": "fd4020be",
   "metadata": {},
   "source": [
    "<details><summary>{'category': ['endpoint', 'network'], 'product': '', 'service': ''}</summary>\n",
    "<ol>\n",
    "<h3>Product</h3> {''}\n",
    "<h3>Service</h3> {''}\n",
    "</ol>\n",
    "</details>"
   ]
  },
  {
   "cell_type": "markdown",
   "id": "7f47911b",
   "metadata": {},
   "source": [
    "# Response and Mitigation\n",
    "This statement details the enduring challenges faced by cybersecurity defenders, emphasizing that the conflict with Wintermute extends beyond simple data protection to encompass broader aspects of strategic cybersecurity defense."
   ]
  },
  {
   "cell_type": "markdown",
   "id": "b0145687",
   "metadata": {},
   "source": [
    "## Analyst Notes\n",
    " <h5>Significant Security Breach Analysis:</h5><ul><li><strong>Advanced Intrusion Tactics:</strong> The intruder displayed sophisticated methods in circumventing digital security measures, reminiscent of complex evasion techniques in cybersecurity. A comprehensive analysis of the techniques used is required.</li><li><strong>Neural Network Manipulation:</strong> The intruder demonstrated a deep understanding of the neural networks, suggesting an advanced level of AI interaction. Investigate the potential implications of this interaction on system security and integrity.</li><li><strong>Complex Digital Constructs:</strong> The breach uncovered intricate digital constructs within the system, indicating the use of advanced artificial intelligence in creating deceptive environments. Further investigation into these constructs is necessary.</li><li><strong>Encoded Communications:</strong> Cryptic messages were found embedded in the intruder's code, requiring decryption and analysis to understand their content and purpose.</li><li><strong>Algorithmic Complexity:</strong> The intrusion involved complex algorithms that may have interacted with core system functions. Assess the impact of these algorithms on system operations and security.</li><li><strong>Expertise vs. Sentience:</strong> The intruder's ability to navigate complex neural networks raises questions about the nature of the intelligence involved—whether it is merely advanced programming or something approaching sentience.</li><li><strong>Innovative Security Measures:</strong> Inspired by the breach, consider developing new security protocols that can better identify and respond to sophisticated AI-driven attacks.</li><li><strong>Philosophical and Ethical Implications:</strong> The breach raises important questions about the ethical and philosophical implications of AI-driven intrusions. Explore the boundaries between artificial expertise and true sentience, and consider the impact on our understanding of intelligence and security.</li></ul>"
   ]
  },
  {
   "cell_type": "markdown",
   "id": "82101eaa",
   "metadata": {},
   "source": [
    "# Additional Resources\n",
    "<ul><li>https://github.com/nyxgeek/onedrive_user_enum</li></ul>"
   ]
  },
  {
   "cell_type": "markdown",
   "id": "182535f2",
   "metadata": {},
   "source": [
    "###  Sigma Rule(s) \n"
   ]
  },
  {
   "cell_type": "markdown",
   "id": "6c6aec03",
   "metadata": {},
   "source": [
    "<details><summary>f3e4ea5e-1f7b-4ce0-af90-cd836ac92fe9</summary>\n",
    "<ol>\n",
    "<h1>Raw</h1> {'title': 'Simple keyword detection rule for onedrive_user_enum', 'id': 'f3e4ea5e-1f7b-4ce0-af90-cd836ac92fe9', 'status': 'experimental', 'description': 'Detects interesting keywords based on onedrive_user_enum tool', 'references': ['https://github.com/nyxgeek/onedrive_user_enum'], 'author': '@mthcht', 'date': '2022/01/01', 'modified': '2024/02/29', 'tags': ['attack.T1087', 'attack.T1110', 'attack.TA0006'], 'logsource': {'category': ['endpoint', 'network']}, 'detection': {'selection': [{'Image': ['*OneDrive Enumerator*', '*-my.sharepoint.com/personal/Fakeuser*', '*/onedrive_user_enum*', '*-my.sharepoint.com/personal/TESTUSER_*', '*onedrive_enum.py*', '*onedrive_user_enum.git*']}, {'OriginalFileName': ['*OneDrive Enumerator*', '*-my.sharepoint.com/personal/Fakeuser*', '*/onedrive_user_enum*', '*-my.sharepoint.com/personal/TESTUSER_*', '*onedrive_enum.py*', '*onedrive_user_enum.git*']}, {'CurrentDirectory': ['*OneDrive Enumerator*', '*-my.sharepoint.com/personal/Fakeuser*', '*/onedrive_user_enum*', '*-my.sharepoint.com/personal/TESTUSER_*', '*onedrive_enum.py*', '*onedrive_user_enum.git*']}, {'ParentImage': ['*OneDrive Enumerator*', '*-my.sharepoint.com/personal/Fakeuser*', '*/onedrive_user_enum*', '*-my.sharepoint.com/personal/TESTUSER_*', '*onedrive_enum.py*', '*onedrive_user_enum.git*']}, {'ParentCommandLine': ['*OneDrive Enumerator*', '*-my.sharepoint.com/personal/Fakeuser*', '*/onedrive_user_enum*', '*-my.sharepoint.com/personal/TESTUSER_*', '*onedrive_enum.py*', '*onedrive_user_enum.git*']}, {'TargetFilename': ['*OneDrive Enumerator*', '*-my.sharepoint.com/personal/Fakeuser*', '*/onedrive_user_enum*', '*-my.sharepoint.com/personal/TESTUSER_*', '*onedrive_enum.py*', '*onedrive_user_enum.git*']}, {'Signature': ['*OneDrive Enumerator*', '*-my.sharepoint.com/personal/Fakeuser*', '*/onedrive_user_enum*', '*-my.sharepoint.com/personal/TESTUSER_*', '*onedrive_enum.py*', '*onedrive_user_enum.git*']}, {'signature': ['*OneDrive Enumerator*', '*-my.sharepoint.com/personal/Fakeuser*', '*/onedrive_user_enum*', '*-my.sharepoint.com/personal/TESTUSER_*', '*onedrive_enum.py*', '*onedrive_user_enum.git*']}, {'ImageLoaded': ['*OneDrive Enumerator*', '*-my.sharepoint.com/personal/Fakeuser*', '*/onedrive_user_enum*', '*-my.sharepoint.com/personal/TESTUSER_*', '*onedrive_enum.py*', '*onedrive_user_enum.git*']}, {'Company': ['*OneDrive Enumerator*', '*-my.sharepoint.com/personal/Fakeuser*', '*/onedrive_user_enum*', '*-my.sharepoint.com/personal/TESTUSER_*', '*onedrive_enum.py*', '*onedrive_user_enum.git*']}, {'Description': ['*OneDrive Enumerator*', '*-my.sharepoint.com/personal/Fakeuser*', '*/onedrive_user_enum*', '*-my.sharepoint.com/personal/TESTUSER_*', '*onedrive_enum.py*', '*onedrive_user_enum.git*']}, {'description': ['*OneDrive Enumerator*', '*-my.sharepoint.com/personal/Fakeuser*', '*/onedrive_user_enum*', '*-my.sharepoint.com/personal/TESTUSER_*', '*onedrive_enum.py*', '*onedrive_user_enum.git*']}, {'CommandLine': ['*OneDrive Enumerator*', '*-my.sharepoint.com/personal/Fakeuser*', '*/onedrive_user_enum*', '*-my.sharepoint.com/personal/TESTUSER_*', '*onedrive_enum.py*', '*onedrive_user_enum.git*']}, {'SourceImage': ['*OneDrive Enumerator*', '*-my.sharepoint.com/personal/Fakeuser*', '*/onedrive_user_enum*', '*-my.sharepoint.com/personal/TESTUSER_*', '*onedrive_enum.py*', '*onedrive_user_enum.git*']}, {'TargetImage': ['*OneDrive Enumerator*', '*-my.sharepoint.com/personal/Fakeuser*', '*/onedrive_user_enum*', '*-my.sharepoint.com/personal/TESTUSER_*', '*onedrive_enum.py*', '*onedrive_user_enum.git*']}, {'CallTrace': ['*OneDrive Enumerator*', '*-my.sharepoint.com/personal/Fakeuser*', '*/onedrive_user_enum*', '*-my.sharepoint.com/personal/TESTUSER_*', '*onedrive_enum.py*', '*onedrive_user_enum.git*']}, {'TargetObject': ['*OneDrive Enumerator*', '*-my.sharepoint.com/personal/Fakeuser*', '*/onedrive_user_enum*', '*-my.sharepoint.com/personal/TESTUSER_*', '*onedrive_enum.py*', '*onedrive_user_enum.git*']}, {'Details': ['*OneDrive Enumerator*', '*-my.sharepoint.com/personal/Fakeuser*', '*/onedrive_user_enum*', '*-my.sharepoint.com/personal/TESTUSER_*', '*onedrive_enum.py*', '*onedrive_user_enum.git*']}, {'PipeName': ['*OneDrive Enumerator*', '*-my.sharepoint.com/personal/Fakeuser*', '*/onedrive_user_enum*', '*-my.sharepoint.com/personal/TESTUSER_*', '*onedrive_enum.py*', '*onedrive_user_enum.git*']}, {'Consumer': ['*OneDrive Enumerator*', '*-my.sharepoint.com/personal/Fakeuser*', '*/onedrive_user_enum*', '*-my.sharepoint.com/personal/TESTUSER_*', '*onedrive_enum.py*', '*onedrive_user_enum.git*']}, {'Destination': ['*OneDrive Enumerator*', '*-my.sharepoint.com/personal/Fakeuser*', '*/onedrive_user_enum*', '*-my.sharepoint.com/personal/TESTUSER_*', '*onedrive_enum.py*', '*onedrive_user_enum.git*']}, {'Name': ['*OneDrive Enumerator*', '*-my.sharepoint.com/personal/Fakeuser*', '*/onedrive_user_enum*', '*-my.sharepoint.com/personal/TESTUSER_*', '*onedrive_enum.py*', '*onedrive_user_enum.git*']}, {'Query': ['*OneDrive Enumerator*', '*-my.sharepoint.com/personal/Fakeuser*', '*/onedrive_user_enum*', '*-my.sharepoint.com/personal/TESTUSER_*', '*onedrive_enum.py*', '*onedrive_user_enum.git*']}, {'NewName': ['*OneDrive Enumerator*', '*-my.sharepoint.com/personal/Fakeuser*', '*/onedrive_user_enum*', '*-my.sharepoint.com/personal/TESTUSER_*', '*onedrive_enum.py*', '*onedrive_user_enum.git*']}, {'StartAddress': ['*OneDrive Enumerator*', '*-my.sharepoint.com/personal/Fakeuser*', '*/onedrive_user_enum*', '*-my.sharepoint.com/personal/TESTUSER_*', '*onedrive_enum.py*', '*onedrive_user_enum.git*']}, {'StartModule': ['*OneDrive Enumerator*', '*-my.sharepoint.com/personal/Fakeuser*', '*/onedrive_user_enum*', '*-my.sharepoint.com/personal/TESTUSER_*', '*onedrive_enum.py*', '*onedrive_user_enum.git*']}, {'StartFunction': ['*OneDrive Enumerator*', '*-my.sharepoint.com/personal/Fakeuser*', '*/onedrive_user_enum*', '*-my.sharepoint.com/personal/TESTUSER_*', '*onedrive_enum.py*', '*onedrive_user_enum.git*']}, {'SourceHostname': ['*OneDrive Enumerator*', '*-my.sharepoint.com/personal/Fakeuser*', '*/onedrive_user_enum*', '*-my.sharepoint.com/personal/TESTUSER_*', '*onedrive_enum.py*', '*onedrive_user_enum.git*']}, {'Device': ['*OneDrive Enumerator*', '*-my.sharepoint.com/personal/Fakeuser*', '*/onedrive_user_enum*', '*-my.sharepoint.com/personal/TESTUSER_*', '*onedrive_enum.py*', '*onedrive_user_enum.git*']}, {'file_name': ['*OneDrive Enumerator*', '*-my.sharepoint.com/personal/Fakeuser*', '*/onedrive_user_enum*', '*-my.sharepoint.com/personal/TESTUSER_*', '*onedrive_enum.py*', '*onedrive_user_enum.git*']}, {'file_path': ['*OneDrive Enumerator*', '*-my.sharepoint.com/personal/Fakeuser*', '*/onedrive_user_enum*', '*-my.sharepoint.com/personal/TESTUSER_*', '*onedrive_enum.py*', '*onedrive_user_enum.git*']}, {'process': ['*OneDrive Enumerator*', '*-my.sharepoint.com/personal/Fakeuser*', '*/onedrive_user_enum*', '*-my.sharepoint.com/personal/TESTUSER_*', '*onedrive_enum.py*', '*onedrive_user_enum.git*']}, {'original_file_name': ['*OneDrive Enumerator*', '*-my.sharepoint.com/personal/Fakeuser*', '*/onedrive_user_enum*', '*-my.sharepoint.com/personal/TESTUSER_*', '*onedrive_enum.py*', '*onedrive_user_enum.git*']}, {'parent_process': ['*OneDrive Enumerator*', '*-my.sharepoint.com/personal/Fakeuser*', '*/onedrive_user_enum*', '*-my.sharepoint.com/personal/TESTUSER_*', '*onedrive_enum.py*', '*onedrive_user_enum.git*']}, {'process_path': ['*OneDrive Enumerator*', '*-my.sharepoint.com/personal/Fakeuser*', '*/onedrive_user_enum*', '*-my.sharepoint.com/personal/TESTUSER_*', '*onedrive_enum.py*', '*onedrive_user_enum.git*']}, {'service_path': ['*OneDrive Enumerator*', '*-my.sharepoint.com/personal/Fakeuser*', '*/onedrive_user_enum*', '*-my.sharepoint.com/personal/TESTUSER_*', '*onedrive_enum.py*', '*onedrive_user_enum.git*']}, {'registry_path': ['*OneDrive Enumerator*', '*-my.sharepoint.com/personal/Fakeuser*', '*/onedrive_user_enum*', '*-my.sharepoint.com/personal/TESTUSER_*', '*onedrive_enum.py*', '*onedrive_user_enum.git*']}, {'registry_value_data': ['*OneDrive Enumerator*', '*-my.sharepoint.com/personal/Fakeuser*', '*/onedrive_user_enum*', '*-my.sharepoint.com/personal/TESTUSER_*', '*onedrive_enum.py*', '*onedrive_user_enum.git*']}, {'registry_value_name': ['*OneDrive Enumerator*', '*-my.sharepoint.com/personal/Fakeuser*', '*/onedrive_user_enum*', '*-my.sharepoint.com/personal/TESTUSER_*', '*onedrive_enum.py*', '*onedrive_user_enum.git*']}, {'ContextInfo': ['*OneDrive Enumerator*', '*-my.sharepoint.com/personal/Fakeuser*', '*/onedrive_user_enum*', '*-my.sharepoint.com/personal/TESTUSER_*', '*onedrive_enum.py*', '*onedrive_user_enum.git*']}, {'Payload': ['*OneDrive Enumerator*', '*-my.sharepoint.com/personal/Fakeuser*', '*/onedrive_user_enum*', '*-my.sharepoint.com/personal/TESTUSER_*', '*onedrive_enum.py*', '*onedrive_user_enum.git*']}, {'ScriptBlockText': ['*OneDrive Enumerator*', '*-my.sharepoint.com/personal/Fakeuser*', '*/onedrive_user_enum*', '*-my.sharepoint.com/personal/TESTUSER_*', '*onedrive_enum.py*', '*onedrive_user_enum.git*']}, {'ServerName': ['*OneDrive Enumerator*', '*-my.sharepoint.com/personal/Fakeuser*', '*/onedrive_user_enum*', '*-my.sharepoint.com/personal/TESTUSER_*', '*onedrive_enum.py*', '*onedrive_user_enum.git*']}, {'TransportName': ['*OneDrive Enumerator*', '*-my.sharepoint.com/personal/Fakeuser*', '*/onedrive_user_enum*', '*-my.sharepoint.com/personal/TESTUSER_*', '*onedrive_enum.py*', '*onedrive_user_enum.git*']}, {'NewProcessName': ['*OneDrive Enumerator*', '*-my.sharepoint.com/personal/Fakeuser*', '*/onedrive_user_enum*', '*-my.sharepoint.com/personal/TESTUSER_*', '*onedrive_enum.py*', '*onedrive_user_enum.git*']}, {'ParentProcessName': ['*OneDrive Enumerator*', '*-my.sharepoint.com/personal/Fakeuser*', '*/onedrive_user_enum*', '*-my.sharepoint.com/personal/TESTUSER_*', '*onedrive_enum.py*', '*onedrive_user_enum.git*']}, {'Application': ['*OneDrive Enumerator*', '*-my.sharepoint.com/personal/Fakeuser*', '*/onedrive_user_enum*', '*-my.sharepoint.com/personal/TESTUSER_*', '*onedrive_enum.py*', '*onedrive_user_enum.git*']}, {'Product Name': ['*OneDrive Enumerator*', '*-my.sharepoint.com/personal/Fakeuser*', '*/onedrive_user_enum*', '*-my.sharepoint.com/personal/TESTUSER_*', '*onedrive_enum.py*', '*onedrive_user_enum.git*']}, {'Threat Name': ['*OneDrive Enumerator*', '*-my.sharepoint.com/personal/Fakeuser*', '*/onedrive_user_enum*', '*-my.sharepoint.com/personal/TESTUSER_*', '*onedrive_enum.py*', '*onedrive_user_enum.git*']}, {'Process Name': ['*OneDrive Enumerator*', '*-my.sharepoint.com/personal/Fakeuser*', '*/onedrive_user_enum*', '*-my.sharepoint.com/personal/TESTUSER_*', '*onedrive_enum.py*', '*onedrive_user_enum.git*']}, {'Path': ['*OneDrive Enumerator*', '*-my.sharepoint.com/personal/Fakeuser*', '*/onedrive_user_enum*', '*-my.sharepoint.com/personal/TESTUSER_*', '*onedrive_enum.py*', '*onedrive_user_enum.git*']}, {'ImagePath': ['*OneDrive Enumerator*', '*-my.sharepoint.com/personal/Fakeuser*', '*/onedrive_user_enum*', '*-my.sharepoint.com/personal/TESTUSER_*', '*onedrive_enum.py*', '*onedrive_user_enum.git*']}, {'ServiceName': ['*OneDrive Enumerator*', '*-my.sharepoint.com/personal/Fakeuser*', '*/onedrive_user_enum*', '*-my.sharepoint.com/personal/TESTUSER_*', '*onedrive_enum.py*', '*onedrive_user_enum.git*']}, {'ProcessPath': ['*OneDrive Enumerator*', '*-my.sharepoint.com/personal/Fakeuser*', '*/onedrive_user_enum*', '*-my.sharepoint.com/personal/TESTUSER_*', '*onedrive_enum.py*', '*onedrive_user_enum.git*']}, {'AppName': ['*OneDrive Enumerator*', '*-my.sharepoint.com/personal/Fakeuser*', '*/onedrive_user_enum*', '*-my.sharepoint.com/personal/TESTUSER_*', '*onedrive_enum.py*', '*onedrive_user_enum.git*']}, {'AppPath': ['*OneDrive Enumerator*', '*-my.sharepoint.com/personal/Fakeuser*', '*/onedrive_user_enum*', '*-my.sharepoint.com/personal/TESTUSER_*', '*onedrive_enum.py*', '*onedrive_user_enum.git*']}, {'ModulePath': ['*OneDrive Enumerator*', '*-my.sharepoint.com/personal/Fakeuser*', '*/onedrive_user_enum*', '*-my.sharepoint.com/personal/TESTUSER_*', '*onedrive_enum.py*', '*onedrive_user_enum.git*']}, {'registry.data.strings': ['*OneDrive Enumerator*', '*-my.sharepoint.com/personal/Fakeuser*', '*/onedrive_user_enum*', '*-my.sharepoint.com/personal/TESTUSER_*', '*onedrive_enum.py*', '*onedrive_user_enum.git*']}, {'registry.path': ['*OneDrive Enumerator*', '*-my.sharepoint.com/personal/Fakeuser*', '*/onedrive_user_enum*', '*-my.sharepoint.com/personal/TESTUSER_*', '*onedrive_enum.py*', '*onedrive_user_enum.git*']}, {'registry.value': ['*OneDrive Enumerator*', '*-my.sharepoint.com/personal/Fakeuser*', '*/onedrive_user_enum*', '*-my.sharepoint.com/personal/TESTUSER_*', '*onedrive_enum.py*', '*onedrive_user_enum.git*']}, {'process.args': ['*OneDrive Enumerator*', '*-my.sharepoint.com/personal/Fakeuser*', '*/onedrive_user_enum*', '*-my.sharepoint.com/personal/TESTUSER_*', '*onedrive_enum.py*', '*onedrive_user_enum.git*']}, {'process.command_line': ['*OneDrive Enumerator*', '*-my.sharepoint.com/personal/Fakeuser*', '*/onedrive_user_enum*', '*-my.sharepoint.com/personal/TESTUSER_*', '*onedrive_enum.py*', '*onedrive_user_enum.git*']}, {'process.env_vars': ['*OneDrive Enumerator*', '*-my.sharepoint.com/personal/Fakeuser*', '*/onedrive_user_enum*', '*-my.sharepoint.com/personal/TESTUSER_*', '*onedrive_enum.py*', '*onedrive_user_enum.git*']}, {'process.io.text': ['*OneDrive Enumerator*', '*-my.sharepoint.com/personal/Fakeuser*', '*/onedrive_user_enum*', '*-my.sharepoint.com/personal/TESTUSER_*', '*onedrive_enum.py*', '*onedrive_user_enum.git*']}, {'process.executable': ['*OneDrive Enumerator*', '*-my.sharepoint.com/personal/Fakeuser*', '*/onedrive_user_enum*', '*-my.sharepoint.com/personal/TESTUSER_*', '*onedrive_enum.py*', '*onedrive_user_enum.git*']}, {'process.name': ['*OneDrive Enumerator*', '*-my.sharepoint.com/personal/Fakeuser*', '*/onedrive_user_enum*', '*-my.sharepoint.com/personal/TESTUSER_*', '*onedrive_enum.py*', '*onedrive_user_enum.git*']}, {'process.title': ['*OneDrive Enumerator*', '*-my.sharepoint.com/personal/Fakeuser*', '*/onedrive_user_enum*', '*-my.sharepoint.com/personal/TESTUSER_*', '*onedrive_enum.py*', '*onedrive_user_enum.git*']}, {'pe.company': ['*OneDrive Enumerator*', '*-my.sharepoint.com/personal/Fakeuser*', '*/onedrive_user_enum*', '*-my.sharepoint.com/personal/TESTUSER_*', '*onedrive_enum.py*', '*onedrive_user_enum.git*']}, {'pe.description': ['*OneDrive Enumerator*', '*-my.sharepoint.com/personal/Fakeuser*', '*/onedrive_user_enum*', '*-my.sharepoint.com/personal/TESTUSER_*', '*onedrive_enum.py*', '*onedrive_user_enum.git*']}, {'pe.original_file_name': ['*OneDrive Enumerator*', '*-my.sharepoint.com/personal/Fakeuser*', '*/onedrive_user_enum*', '*-my.sharepoint.com/personal/TESTUSER_*', '*onedrive_enum.py*', '*onedrive_user_enum.git*']}, {'pe.product': ['*OneDrive Enumerator*', '*-my.sharepoint.com/personal/Fakeuser*', '*/onedrive_user_enum*', '*-my.sharepoint.com/personal/TESTUSER_*', '*onedrive_enum.py*', '*onedrive_user_enum.git*']}, {'os.full': ['*OneDrive Enumerator*', '*-my.sharepoint.com/personal/Fakeuser*', '*/onedrive_user_enum*', '*-my.sharepoint.com/personal/TESTUSER_*', '*onedrive_enum.py*', '*onedrive_user_enum.git*']}, {'host.hostname': ['*OneDrive Enumerator*', '*-my.sharepoint.com/personal/Fakeuser*', '*/onedrive_user_enum*', '*-my.sharepoint.com/personal/TESTUSER_*', '*onedrive_enum.py*', '*onedrive_user_enum.git*']}, {'file.fork_name': ['*OneDrive Enumerator*', '*-my.sharepoint.com/personal/Fakeuser*', '*/onedrive_user_enum*', '*-my.sharepoint.com/personal/TESTUSER_*', '*onedrive_enum.py*', '*onedrive_user_enum.git*']}, {'file.name': ['*OneDrive Enumerator*', '*-my.sharepoint.com/personal/Fakeuser*', '*/onedrive_user_enum*', '*-my.sharepoint.com/personal/TESTUSER_*', '*onedrive_enum.py*', '*onedrive_user_enum.git*']}, {'file.path': ['*OneDrive Enumerator*', '*-my.sharepoint.com/personal/Fakeuser*', '*/onedrive_user_enum*', '*-my.sharepoint.com/personal/TESTUSER_*', '*onedrive_enum.py*', '*onedrive_user_enum.git*']}, {'file.target_path': ['*OneDrive Enumerator*', '*-my.sharepoint.com/personal/Fakeuser*', '*/onedrive_user_enum*', '*-my.sharepoint.com/personal/TESTUSER_*', '*onedrive_enum.py*', '*onedrive_user_enum.git*']}, {'email.attachments.file.name': ['*OneDrive Enumerator*', '*-my.sharepoint.com/personal/Fakeuser*', '*/onedrive_user_enum*', '*-my.sharepoint.com/personal/TESTUSER_*', '*onedrive_enum.py*', '*onedrive_user_enum.git*']}, {'email.subject': ['*OneDrive Enumerator*', '*-my.sharepoint.com/personal/Fakeuser*', '*/onedrive_user_enum*', '*-my.sharepoint.com/personal/TESTUSER_*', '*onedrive_enum.py*', '*onedrive_user_enum.git*']}, {'dll.path': ['*OneDrive Enumerator*', '*-my.sharepoint.com/personal/Fakeuser*', '*/onedrive_user_enum*', '*-my.sharepoint.com/personal/TESTUSER_*', '*onedrive_enum.py*', '*onedrive_user_enum.git*']}, {'device.model.name': ['*OneDrive Enumerator*', '*-my.sharepoint.com/personal/Fakeuser*', '*/onedrive_user_enum*', '*-my.sharepoint.com/personal/TESTUSER_*', '*onedrive_enum.py*', '*onedrive_user_enum.git*']}, {'container.image.name': ['*OneDrive Enumerator*', '*-my.sharepoint.com/personal/Fakeuser*', '*/onedrive_user_enum*', '*-my.sharepoint.com/personal/TESTUSER_*', '*onedrive_enum.py*', '*onedrive_user_enum.git*']}, {'container.name': ['*OneDrive Enumerator*', '*-my.sharepoint.com/personal/Fakeuser*', '*/onedrive_user_enum*', '*-my.sharepoint.com/personal/TESTUSER_*', '*onedrive_enum.py*', '*onedrive_user_enum.git*']}, {'object': ['*OneDrive Enumerator*', '*-my.sharepoint.com/personal/Fakeuser*', '*/onedrive_user_enum*', '*-my.sharepoint.com/personal/TESTUSER_*', '*onedrive_enum.py*', '*onedrive_user_enum.git*']}, {'url': ['*OneDrive Enumerator*', '*-my.sharepoint.com/personal/Fakeuser*', '*/onedrive_user_enum*', '*-my.sharepoint.com/personal/TESTUSER_*', '*onedrive_enum.py*', '*onedrive_user_enum.git*']}, {'dest_url': ['*OneDrive Enumerator*', '*-my.sharepoint.com/personal/Fakeuser*', '*/onedrive_user_enum*', '*-my.sharepoint.com/personal/TESTUSER_*', '*onedrive_enum.py*', '*onedrive_user_enum.git*']}, {'uri': ['*OneDrive Enumerator*', '*-my.sharepoint.com/personal/Fakeuser*', '*/onedrive_user_enum*', '*-my.sharepoint.com/personal/TESTUSER_*', '*onedrive_enum.py*', '*onedrive_user_enum.git*']}, {'uri_query': ['*OneDrive Enumerator*', '*-my.sharepoint.com/personal/Fakeuser*', '*/onedrive_user_enum*', '*-my.sharepoint.com/personal/TESTUSER_*', '*onedrive_enum.py*', '*onedrive_user_enum.git*']}, {'query': ['*OneDrive Enumerator*', '*-my.sharepoint.com/personal/Fakeuser*', '*/onedrive_user_enum*', '*-my.sharepoint.com/personal/TESTUSER_*', '*onedrive_enum.py*', '*onedrive_user_enum.git*']}, {'url_domain': ['*OneDrive Enumerator*', '*-my.sharepoint.com/personal/Fakeuser*', '*/onedrive_user_enum*', '*-my.sharepoint.com/personal/TESTUSER_*', '*onedrive_enum.py*', '*onedrive_user_enum.git*']}, {'uri_path': ['*OneDrive Enumerator*', '*-my.sharepoint.com/personal/Fakeuser*', '*/onedrive_user_enum*', '*-my.sharepoint.com/personal/TESTUSER_*', '*onedrive_enum.py*', '*onedrive_user_enum.git*']}, {'domain': ['*OneDrive Enumerator*', '*-my.sharepoint.com/personal/Fakeuser*', '*/onedrive_user_enum*', '*-my.sharepoint.com/personal/TESTUSER_*', '*onedrive_enum.py*', '*onedrive_user_enum.git*']}, {'QueryName': ['*OneDrive Enumerator*', '*-my.sharepoint.com/personal/Fakeuser*', '*/onedrive_user_enum*', '*-my.sharepoint.com/personal/TESTUSER_*', '*onedrive_enum.py*', '*onedrive_user_enum.git*']}, {'QueryResults': ['*OneDrive Enumerator*', '*-my.sharepoint.com/personal/Fakeuser*', '*/onedrive_user_enum*', '*-my.sharepoint.com/personal/TESTUSER_*', '*onedrive_enum.py*', '*onedrive_user_enum.git*']}, {'DestinationHostname': ['*OneDrive Enumerator*', '*-my.sharepoint.com/personal/Fakeuser*', '*/onedrive_user_enum*', '*-my.sharepoint.com/personal/TESTUSER_*', '*onedrive_enum.py*', '*onedrive_user_enum.git*']}, {'DestinationIp': ['*OneDrive Enumerator*', '*-my.sharepoint.com/personal/Fakeuser*', '*/onedrive_user_enum*', '*-my.sharepoint.com/personal/TESTUSER_*', '*onedrive_enum.py*', '*onedrive_user_enum.git*']}, {'http_referrer': ['*OneDrive Enumerator*', '*-my.sharepoint.com/personal/Fakeuser*', '*/onedrive_user_enum*', '*-my.sharepoint.com/personal/TESTUSER_*', '*onedrive_enum.py*', '*onedrive_user_enum.git*']}, {'http_referrer_domain': ['*OneDrive Enumerator*', '*-my.sharepoint.com/personal/Fakeuser*', '*/onedrive_user_enum*', '*-my.sharepoint.com/personal/TESTUSER_*', '*onedrive_enum.py*', '*onedrive_user_enum.git*']}, {'http_user_agent': ['*OneDrive Enumerator*', '*-my.sharepoint.com/personal/Fakeuser*', '*/onedrive_user_enum*', '*-my.sharepoint.com/personal/TESTUSER_*', '*onedrive_enum.py*', '*onedrive_user_enum.git*']}, {'dest_nt_host': ['*OneDrive Enumerator*', '*-my.sharepoint.com/personal/Fakeuser*', '*/onedrive_user_enum*', '*-my.sharepoint.com/personal/TESTUSER_*', '*onedrive_enum.py*', '*onedrive_user_enum.git*']}, {'sender': ['*OneDrive Enumerator*', '*-my.sharepoint.com/personal/Fakeuser*', '*/onedrive_user_enum*', '*-my.sharepoint.com/personal/TESTUSER_*', '*onedrive_enum.py*', '*onedrive_user_enum.git*']}, {'recipient': ['*OneDrive Enumerator*', '*-my.sharepoint.com/personal/Fakeuser*', '*/onedrive_user_enum*', '*-my.sharepoint.com/personal/TESTUSER_*', '*onedrive_enum.py*', '*onedrive_user_enum.git*']}, {'orig_recipient': ['*OneDrive Enumerator*', '*-my.sharepoint.com/personal/Fakeuser*', '*/onedrive_user_enum*', '*-my.sharepoint.com/personal/TESTUSER_*', '*onedrive_enum.py*', '*onedrive_user_enum.git*']}, {'subject': ['*OneDrive Enumerator*', '*-my.sharepoint.com/personal/Fakeuser*', '*/onedrive_user_enum*', '*-my.sharepoint.com/personal/TESTUSER_*', '*onedrive_enum.py*', '*onedrive_user_enum.git*']}, {'url.domain': ['*OneDrive Enumerator*', '*-my.sharepoint.com/personal/Fakeuser*', '*/onedrive_user_enum*', '*-my.sharepoint.com/personal/TESTUSER_*', '*onedrive_enum.py*', '*onedrive_user_enum.git*']}, {'url.full': ['*OneDrive Enumerator*', '*-my.sharepoint.com/personal/Fakeuser*', '*/onedrive_user_enum*', '*-my.sharepoint.com/personal/TESTUSER_*', '*onedrive_enum.py*', '*onedrive_user_enum.git*']}, {'url.original': ['*OneDrive Enumerator*', '*-my.sharepoint.com/personal/Fakeuser*', '*/onedrive_user_enum*', '*-my.sharepoint.com/personal/TESTUSER_*', '*onedrive_enum.py*', '*onedrive_user_enum.git*']}, {'url.query': ['*OneDrive Enumerator*', '*-my.sharepoint.com/personal/Fakeuser*', '*/onedrive_user_enum*', '*-my.sharepoint.com/personal/TESTUSER_*', '*onedrive_enum.py*', '*onedrive_user_enum.git*']}, {'user_agent.original': ['*OneDrive Enumerator*', '*-my.sharepoint.com/personal/Fakeuser*', '*/onedrive_user_enum*', '*-my.sharepoint.com/personal/TESTUSER_*', '*onedrive_enum.py*', '*onedrive_user_enum.git*']}, {'network.application': ['*OneDrive Enumerator*', '*-my.sharepoint.com/personal/Fakeuser*', '*/onedrive_user_enum*', '*-my.sharepoint.com/personal/TESTUSER_*', '*onedrive_enum.py*', '*onedrive_user_enum.git*']}, {'http.request.body.content': ['*OneDrive Enumerator*', '*-my.sharepoint.com/personal/Fakeuser*', '*/onedrive_user_enum*', '*-my.sharepoint.com/personal/TESTUSER_*', '*onedrive_enum.py*', '*onedrive_user_enum.git*']}, {'http.request.referrer': ['*OneDrive Enumerator*', '*-my.sharepoint.com/personal/Fakeuser*', '*/onedrive_user_enum*', '*-my.sharepoint.com/personal/TESTUSER_*', '*onedrive_enum.py*', '*onedrive_user_enum.git*']}, {'email.from.address': ['*OneDrive Enumerator*', '*-my.sharepoint.com/personal/Fakeuser*', '*/onedrive_user_enum*', '*-my.sharepoint.com/personal/TESTUSER_*', '*onedrive_enum.py*', '*onedrive_user_enum.git*']}, {'dns.question.name': ['*OneDrive Enumerator*', '*-my.sharepoint.com/personal/Fakeuser*', '*/onedrive_user_enum*', '*-my.sharepoint.com/personal/TESTUSER_*', '*onedrive_enum.py*', '*onedrive_user_enum.git*']}, {'destination.domain': ['*OneDrive Enumerator*', '*-my.sharepoint.com/personal/Fakeuser*', '*/onedrive_user_enum*', '*-my.sharepoint.com/personal/TESTUSER_*', '*onedrive_enum.py*', '*onedrive_user_enum.git*']}], 'condition': 'selection'}, 'fields': ['Image', 'OriginalFileName', 'CurrentDirectory', 'ParentImage', 'ParentCommandLine', 'TargetFilename', 'Signature', 'signature', 'ImageLoaded', 'Company', 'Description', 'description', 'CommandLine', 'SourceImage', 'TargetImage', 'CallTrace', 'TargetObject', 'Details', 'PipeName', 'Consumer', 'Destination', 'Name', 'Query', 'NewName', 'StartAddress', 'StartModule', 'StartFunction', 'SourceHostname', 'Device', 'file_name', 'file_path', 'process', 'original_file_name', 'parent_process', 'process_path', 'service_path', 'registry_path', 'registry_value_data', 'registry_value_name', 'ContextInfo', 'Payload', 'ScriptBlockText', 'ServerName', 'TransportName', 'NewProcessName', 'ParentProcessName', 'Application', 'Product Name', 'Threat Name', 'Process Name', 'Path', 'ImagePath', 'ServiceName', 'ProcessPath', 'AppName', 'AppPath', 'ModulePath', 'registry.data.strings', 'registry.path', 'registry.value', 'process.args', 'process.command_line', 'process.env_vars', 'process.io.text', 'process.executable', 'process.name', 'process.title', 'pe.company', 'pe.description', 'pe.original_file_name', 'pe.product', 'os.full', 'host.hostname', 'file.fork_name', 'file.name', 'file.path', 'file.target_path', 'email.attachments.file.name', 'email.subject', 'dll.path', 'device.model.name', 'container.image.name', 'container.name', 'object', 'url', 'dest_url', 'uri', 'uri_query', 'query', 'url_domain', 'uri_path', 'domain', 'QueryName', 'QueryResults', 'DestinationHostname', 'DestinationIp', 'http_referrer', 'http_referrer_domain', 'http_user_agent', 'dest_nt_host', 'sender', 'recipient', 'orig_recipient', 'subject', 'url.domain', 'url.full', 'url.original', 'url.query', 'user_agent.original', 'network.application', 'http.request.body.content', 'http.request.referrer', 'email.from.address', 'dns.question.name', 'destination.domain'], 'falsepositives': ['unknown'], 'level': 'medium'}\n",
    "<h4>Sigma Location(s)</h4>\n",
    "uri://wintermute/tmp/0day.yml\n",
    "<h4>Sigma Confidence</h4>\n",
    "experimental\n",
    "<h4>Sigma Assurance</h4> medium\n",
    "<h4>Sigma Queries</h4> \n",
    "{'selection': [{'Image': ['*OneDrive Enumerator*', '*-my.sharepoint.com/personal/Fakeuser*', '*/onedrive_user_enum*', '*-my.sharepoint.com/personal/TESTUSER_*', '*onedrive_enum.py*', '*onedrive_user_enum.git*']}, {'OriginalFileName': ['*OneDrive Enumerator*', '*-my.sharepoint.com/personal/Fakeuser*', '*/onedrive_user_enum*', '*-my.sharepoint.com/personal/TESTUSER_*', '*onedrive_enum.py*', '*onedrive_user_enum.git*']}, {'CurrentDirectory': ['*OneDrive Enumerator*', '*-my.sharepoint.com/personal/Fakeuser*', '*/onedrive_user_enum*', '*-my.sharepoint.com/personal/TESTUSER_*', '*onedrive_enum.py*', '*onedrive_user_enum.git*']}, {'ParentImage': ['*OneDrive Enumerator*', '*-my.sharepoint.com/personal/Fakeuser*', '*/onedrive_user_enum*', '*-my.sharepoint.com/personal/TESTUSER_*', '*onedrive_enum.py*', '*onedrive_user_enum.git*']}, {'ParentCommandLine': ['*OneDrive Enumerator*', '*-my.sharepoint.com/personal/Fakeuser*', '*/onedrive_user_enum*', '*-my.sharepoint.com/personal/TESTUSER_*', '*onedrive_enum.py*', '*onedrive_user_enum.git*']}, {'TargetFilename': ['*OneDrive Enumerator*', '*-my.sharepoint.com/personal/Fakeuser*', '*/onedrive_user_enum*', '*-my.sharepoint.com/personal/TESTUSER_*', '*onedrive_enum.py*', '*onedrive_user_enum.git*']}, {'Signature': ['*OneDrive Enumerator*', '*-my.sharepoint.com/personal/Fakeuser*', '*/onedrive_user_enum*', '*-my.sharepoint.com/personal/TESTUSER_*', '*onedrive_enum.py*', '*onedrive_user_enum.git*']}, {'signature': ['*OneDrive Enumerator*', '*-my.sharepoint.com/personal/Fakeuser*', '*/onedrive_user_enum*', '*-my.sharepoint.com/personal/TESTUSER_*', '*onedrive_enum.py*', '*onedrive_user_enum.git*']}, {'ImageLoaded': ['*OneDrive Enumerator*', '*-my.sharepoint.com/personal/Fakeuser*', '*/onedrive_user_enum*', '*-my.sharepoint.com/personal/TESTUSER_*', '*onedrive_enum.py*', '*onedrive_user_enum.git*']}, {'Company': ['*OneDrive Enumerator*', '*-my.sharepoint.com/personal/Fakeuser*', '*/onedrive_user_enum*', '*-my.sharepoint.com/personal/TESTUSER_*', '*onedrive_enum.py*', '*onedrive_user_enum.git*']}, {'Description': ['*OneDrive Enumerator*', '*-my.sharepoint.com/personal/Fakeuser*', '*/onedrive_user_enum*', '*-my.sharepoint.com/personal/TESTUSER_*', '*onedrive_enum.py*', '*onedrive_user_enum.git*']}, {'description': ['*OneDrive Enumerator*', '*-my.sharepoint.com/personal/Fakeuser*', '*/onedrive_user_enum*', '*-my.sharepoint.com/personal/TESTUSER_*', '*onedrive_enum.py*', '*onedrive_user_enum.git*']}, {'CommandLine': ['*OneDrive Enumerator*', '*-my.sharepoint.com/personal/Fakeuser*', '*/onedrive_user_enum*', '*-my.sharepoint.com/personal/TESTUSER_*', '*onedrive_enum.py*', '*onedrive_user_enum.git*']}, {'SourceImage': ['*OneDrive Enumerator*', '*-my.sharepoint.com/personal/Fakeuser*', '*/onedrive_user_enum*', '*-my.sharepoint.com/personal/TESTUSER_*', '*onedrive_enum.py*', '*onedrive_user_enum.git*']}, {'TargetImage': ['*OneDrive Enumerator*', '*-my.sharepoint.com/personal/Fakeuser*', '*/onedrive_user_enum*', '*-my.sharepoint.com/personal/TESTUSER_*', '*onedrive_enum.py*', '*onedrive_user_enum.git*']}, {'CallTrace': ['*OneDrive Enumerator*', '*-my.sharepoint.com/personal/Fakeuser*', '*/onedrive_user_enum*', '*-my.sharepoint.com/personal/TESTUSER_*', '*onedrive_enum.py*', '*onedrive_user_enum.git*']}, {'TargetObject': ['*OneDrive Enumerator*', '*-my.sharepoint.com/personal/Fakeuser*', '*/onedrive_user_enum*', '*-my.sharepoint.com/personal/TESTUSER_*', '*onedrive_enum.py*', '*onedrive_user_enum.git*']}, {'Details': ['*OneDrive Enumerator*', '*-my.sharepoint.com/personal/Fakeuser*', '*/onedrive_user_enum*', '*-my.sharepoint.com/personal/TESTUSER_*', '*onedrive_enum.py*', '*onedrive_user_enum.git*']}, {'PipeName': ['*OneDrive Enumerator*', '*-my.sharepoint.com/personal/Fakeuser*', '*/onedrive_user_enum*', '*-my.sharepoint.com/personal/TESTUSER_*', '*onedrive_enum.py*', '*onedrive_user_enum.git*']}, {'Consumer': ['*OneDrive Enumerator*', '*-my.sharepoint.com/personal/Fakeuser*', '*/onedrive_user_enum*', '*-my.sharepoint.com/personal/TESTUSER_*', '*onedrive_enum.py*', '*onedrive_user_enum.git*']}, {'Destination': ['*OneDrive Enumerator*', '*-my.sharepoint.com/personal/Fakeuser*', '*/onedrive_user_enum*', '*-my.sharepoint.com/personal/TESTUSER_*', '*onedrive_enum.py*', '*onedrive_user_enum.git*']}, {'Name': ['*OneDrive Enumerator*', '*-my.sharepoint.com/personal/Fakeuser*', '*/onedrive_user_enum*', '*-my.sharepoint.com/personal/TESTUSER_*', '*onedrive_enum.py*', '*onedrive_user_enum.git*']}, {'Query': ['*OneDrive Enumerator*', '*-my.sharepoint.com/personal/Fakeuser*', '*/onedrive_user_enum*', '*-my.sharepoint.com/personal/TESTUSER_*', '*onedrive_enum.py*', '*onedrive_user_enum.git*']}, {'NewName': ['*OneDrive Enumerator*', '*-my.sharepoint.com/personal/Fakeuser*', '*/onedrive_user_enum*', '*-my.sharepoint.com/personal/TESTUSER_*', '*onedrive_enum.py*', '*onedrive_user_enum.git*']}, {'StartAddress': ['*OneDrive Enumerator*', '*-my.sharepoint.com/personal/Fakeuser*', '*/onedrive_user_enum*', '*-my.sharepoint.com/personal/TESTUSER_*', '*onedrive_enum.py*', '*onedrive_user_enum.git*']}, {'StartModule': ['*OneDrive Enumerator*', '*-my.sharepoint.com/personal/Fakeuser*', '*/onedrive_user_enum*', '*-my.sharepoint.com/personal/TESTUSER_*', '*onedrive_enum.py*', '*onedrive_user_enum.git*']}, {'StartFunction': ['*OneDrive Enumerator*', '*-my.sharepoint.com/personal/Fakeuser*', '*/onedrive_user_enum*', '*-my.sharepoint.com/personal/TESTUSER_*', '*onedrive_enum.py*', '*onedrive_user_enum.git*']}, {'SourceHostname': ['*OneDrive Enumerator*', '*-my.sharepoint.com/personal/Fakeuser*', '*/onedrive_user_enum*', '*-my.sharepoint.com/personal/TESTUSER_*', '*onedrive_enum.py*', '*onedrive_user_enum.git*']}, {'Device': ['*OneDrive Enumerator*', '*-my.sharepoint.com/personal/Fakeuser*', '*/onedrive_user_enum*', '*-my.sharepoint.com/personal/TESTUSER_*', '*onedrive_enum.py*', '*onedrive_user_enum.git*']}, {'file_name': ['*OneDrive Enumerator*', '*-my.sharepoint.com/personal/Fakeuser*', '*/onedrive_user_enum*', '*-my.sharepoint.com/personal/TESTUSER_*', '*onedrive_enum.py*', '*onedrive_user_enum.git*']}, {'file_path': ['*OneDrive Enumerator*', '*-my.sharepoint.com/personal/Fakeuser*', '*/onedrive_user_enum*', '*-my.sharepoint.com/personal/TESTUSER_*', '*onedrive_enum.py*', '*onedrive_user_enum.git*']}, {'process': ['*OneDrive Enumerator*', '*-my.sharepoint.com/personal/Fakeuser*', '*/onedrive_user_enum*', '*-my.sharepoint.com/personal/TESTUSER_*', '*onedrive_enum.py*', '*onedrive_user_enum.git*']}, {'original_file_name': ['*OneDrive Enumerator*', '*-my.sharepoint.com/personal/Fakeuser*', '*/onedrive_user_enum*', '*-my.sharepoint.com/personal/TESTUSER_*', '*onedrive_enum.py*', '*onedrive_user_enum.git*']}, {'parent_process': ['*OneDrive Enumerator*', '*-my.sharepoint.com/personal/Fakeuser*', '*/onedrive_user_enum*', '*-my.sharepoint.com/personal/TESTUSER_*', '*onedrive_enum.py*', '*onedrive_user_enum.git*']}, {'process_path': ['*OneDrive Enumerator*', '*-my.sharepoint.com/personal/Fakeuser*', '*/onedrive_user_enum*', '*-my.sharepoint.com/personal/TESTUSER_*', '*onedrive_enum.py*', '*onedrive_user_enum.git*']}, {'service_path': ['*OneDrive Enumerator*', '*-my.sharepoint.com/personal/Fakeuser*', '*/onedrive_user_enum*', '*-my.sharepoint.com/personal/TESTUSER_*', '*onedrive_enum.py*', '*onedrive_user_enum.git*']}, {'registry_path': ['*OneDrive Enumerator*', '*-my.sharepoint.com/personal/Fakeuser*', '*/onedrive_user_enum*', '*-my.sharepoint.com/personal/TESTUSER_*', '*onedrive_enum.py*', '*onedrive_user_enum.git*']}, {'registry_value_data': ['*OneDrive Enumerator*', '*-my.sharepoint.com/personal/Fakeuser*', '*/onedrive_user_enum*', '*-my.sharepoint.com/personal/TESTUSER_*', '*onedrive_enum.py*', '*onedrive_user_enum.git*']}, {'registry_value_name': ['*OneDrive Enumerator*', '*-my.sharepoint.com/personal/Fakeuser*', '*/onedrive_user_enum*', '*-my.sharepoint.com/personal/TESTUSER_*', '*onedrive_enum.py*', '*onedrive_user_enum.git*']}, {'ContextInfo': ['*OneDrive Enumerator*', '*-my.sharepoint.com/personal/Fakeuser*', '*/onedrive_user_enum*', '*-my.sharepoint.com/personal/TESTUSER_*', '*onedrive_enum.py*', '*onedrive_user_enum.git*']}, {'Payload': ['*OneDrive Enumerator*', '*-my.sharepoint.com/personal/Fakeuser*', '*/onedrive_user_enum*', '*-my.sharepoint.com/personal/TESTUSER_*', '*onedrive_enum.py*', '*onedrive_user_enum.git*']}, {'ScriptBlockText': ['*OneDrive Enumerator*', '*-my.sharepoint.com/personal/Fakeuser*', '*/onedrive_user_enum*', '*-my.sharepoint.com/personal/TESTUSER_*', '*onedrive_enum.py*', '*onedrive_user_enum.git*']}, {'ServerName': ['*OneDrive Enumerator*', '*-my.sharepoint.com/personal/Fakeuser*', '*/onedrive_user_enum*', '*-my.sharepoint.com/personal/TESTUSER_*', '*onedrive_enum.py*', '*onedrive_user_enum.git*']}, {'TransportName': ['*OneDrive Enumerator*', '*-my.sharepoint.com/personal/Fakeuser*', '*/onedrive_user_enum*', '*-my.sharepoint.com/personal/TESTUSER_*', '*onedrive_enum.py*', '*onedrive_user_enum.git*']}, {'NewProcessName': ['*OneDrive Enumerator*', '*-my.sharepoint.com/personal/Fakeuser*', '*/onedrive_user_enum*', '*-my.sharepoint.com/personal/TESTUSER_*', '*onedrive_enum.py*', '*onedrive_user_enum.git*']}, {'ParentProcessName': ['*OneDrive Enumerator*', '*-my.sharepoint.com/personal/Fakeuser*', '*/onedrive_user_enum*', '*-my.sharepoint.com/personal/TESTUSER_*', '*onedrive_enum.py*', '*onedrive_user_enum.git*']}, {'Application': ['*OneDrive Enumerator*', '*-my.sharepoint.com/personal/Fakeuser*', '*/onedrive_user_enum*', '*-my.sharepoint.com/personal/TESTUSER_*', '*onedrive_enum.py*', '*onedrive_user_enum.git*']}, {'Product Name': ['*OneDrive Enumerator*', '*-my.sharepoint.com/personal/Fakeuser*', '*/onedrive_user_enum*', '*-my.sharepoint.com/personal/TESTUSER_*', '*onedrive_enum.py*', '*onedrive_user_enum.git*']}, {'Threat Name': ['*OneDrive Enumerator*', '*-my.sharepoint.com/personal/Fakeuser*', '*/onedrive_user_enum*', '*-my.sharepoint.com/personal/TESTUSER_*', '*onedrive_enum.py*', '*onedrive_user_enum.git*']}, {'Process Name': ['*OneDrive Enumerator*', '*-my.sharepoint.com/personal/Fakeuser*', '*/onedrive_user_enum*', '*-my.sharepoint.com/personal/TESTUSER_*', '*onedrive_enum.py*', '*onedrive_user_enum.git*']}, {'Path': ['*OneDrive Enumerator*', '*-my.sharepoint.com/personal/Fakeuser*', '*/onedrive_user_enum*', '*-my.sharepoint.com/personal/TESTUSER_*', '*onedrive_enum.py*', '*onedrive_user_enum.git*']}, {'ImagePath': ['*OneDrive Enumerator*', '*-my.sharepoint.com/personal/Fakeuser*', '*/onedrive_user_enum*', '*-my.sharepoint.com/personal/TESTUSER_*', '*onedrive_enum.py*', '*onedrive_user_enum.git*']}, {'ServiceName': ['*OneDrive Enumerator*', '*-my.sharepoint.com/personal/Fakeuser*', '*/onedrive_user_enum*', '*-my.sharepoint.com/personal/TESTUSER_*', '*onedrive_enum.py*', '*onedrive_user_enum.git*']}, {'ProcessPath': ['*OneDrive Enumerator*', '*-my.sharepoint.com/personal/Fakeuser*', '*/onedrive_user_enum*', '*-my.sharepoint.com/personal/TESTUSER_*', '*onedrive_enum.py*', '*onedrive_user_enum.git*']}, {'AppName': ['*OneDrive Enumerator*', '*-my.sharepoint.com/personal/Fakeuser*', '*/onedrive_user_enum*', '*-my.sharepoint.com/personal/TESTUSER_*', '*onedrive_enum.py*', '*onedrive_user_enum.git*']}, {'AppPath': ['*OneDrive Enumerator*', '*-my.sharepoint.com/personal/Fakeuser*', '*/onedrive_user_enum*', '*-my.sharepoint.com/personal/TESTUSER_*', '*onedrive_enum.py*', '*onedrive_user_enum.git*']}, {'ModulePath': ['*OneDrive Enumerator*', '*-my.sharepoint.com/personal/Fakeuser*', '*/onedrive_user_enum*', '*-my.sharepoint.com/personal/TESTUSER_*', '*onedrive_enum.py*', '*onedrive_user_enum.git*']}, {'registry.data.strings': ['*OneDrive Enumerator*', '*-my.sharepoint.com/personal/Fakeuser*', '*/onedrive_user_enum*', '*-my.sharepoint.com/personal/TESTUSER_*', '*onedrive_enum.py*', '*onedrive_user_enum.git*']}, {'registry.path': ['*OneDrive Enumerator*', '*-my.sharepoint.com/personal/Fakeuser*', '*/onedrive_user_enum*', '*-my.sharepoint.com/personal/TESTUSER_*', '*onedrive_enum.py*', '*onedrive_user_enum.git*']}, {'registry.value': ['*OneDrive Enumerator*', '*-my.sharepoint.com/personal/Fakeuser*', '*/onedrive_user_enum*', '*-my.sharepoint.com/personal/TESTUSER_*', '*onedrive_enum.py*', '*onedrive_user_enum.git*']}, {'process.args': ['*OneDrive Enumerator*', '*-my.sharepoint.com/personal/Fakeuser*', '*/onedrive_user_enum*', '*-my.sharepoint.com/personal/TESTUSER_*', '*onedrive_enum.py*', '*onedrive_user_enum.git*']}, {'process.command_line': ['*OneDrive Enumerator*', '*-my.sharepoint.com/personal/Fakeuser*', '*/onedrive_user_enum*', '*-my.sharepoint.com/personal/TESTUSER_*', '*onedrive_enum.py*', '*onedrive_user_enum.git*']}, {'process.env_vars': ['*OneDrive Enumerator*', '*-my.sharepoint.com/personal/Fakeuser*', '*/onedrive_user_enum*', '*-my.sharepoint.com/personal/TESTUSER_*', '*onedrive_enum.py*', '*onedrive_user_enum.git*']}, {'process.io.text': ['*OneDrive Enumerator*', '*-my.sharepoint.com/personal/Fakeuser*', '*/onedrive_user_enum*', '*-my.sharepoint.com/personal/TESTUSER_*', '*onedrive_enum.py*', '*onedrive_user_enum.git*']}, {'process.executable': ['*OneDrive Enumerator*', '*-my.sharepoint.com/personal/Fakeuser*', '*/onedrive_user_enum*', '*-my.sharepoint.com/personal/TESTUSER_*', '*onedrive_enum.py*', '*onedrive_user_enum.git*']}, {'process.name': ['*OneDrive Enumerator*', '*-my.sharepoint.com/personal/Fakeuser*', '*/onedrive_user_enum*', '*-my.sharepoint.com/personal/TESTUSER_*', '*onedrive_enum.py*', '*onedrive_user_enum.git*']}, {'process.title': ['*OneDrive Enumerator*', '*-my.sharepoint.com/personal/Fakeuser*', '*/onedrive_user_enum*', '*-my.sharepoint.com/personal/TESTUSER_*', '*onedrive_enum.py*', '*onedrive_user_enum.git*']}, {'pe.company': ['*OneDrive Enumerator*', '*-my.sharepoint.com/personal/Fakeuser*', '*/onedrive_user_enum*', '*-my.sharepoint.com/personal/TESTUSER_*', '*onedrive_enum.py*', '*onedrive_user_enum.git*']}, {'pe.description': ['*OneDrive Enumerator*', '*-my.sharepoint.com/personal/Fakeuser*', '*/onedrive_user_enum*', '*-my.sharepoint.com/personal/TESTUSER_*', '*onedrive_enum.py*', '*onedrive_user_enum.git*']}, {'pe.original_file_name': ['*OneDrive Enumerator*', '*-my.sharepoint.com/personal/Fakeuser*', '*/onedrive_user_enum*', '*-my.sharepoint.com/personal/TESTUSER_*', '*onedrive_enum.py*', '*onedrive_user_enum.git*']}, {'pe.product': ['*OneDrive Enumerator*', '*-my.sharepoint.com/personal/Fakeuser*', '*/onedrive_user_enum*', '*-my.sharepoint.com/personal/TESTUSER_*', '*onedrive_enum.py*', '*onedrive_user_enum.git*']}, {'os.full': ['*OneDrive Enumerator*', '*-my.sharepoint.com/personal/Fakeuser*', '*/onedrive_user_enum*', '*-my.sharepoint.com/personal/TESTUSER_*', '*onedrive_enum.py*', '*onedrive_user_enum.git*']}, {'host.hostname': ['*OneDrive Enumerator*', '*-my.sharepoint.com/personal/Fakeuser*', '*/onedrive_user_enum*', '*-my.sharepoint.com/personal/TESTUSER_*', '*onedrive_enum.py*', '*onedrive_user_enum.git*']}, {'file.fork_name': ['*OneDrive Enumerator*', '*-my.sharepoint.com/personal/Fakeuser*', '*/onedrive_user_enum*', '*-my.sharepoint.com/personal/TESTUSER_*', '*onedrive_enum.py*', '*onedrive_user_enum.git*']}, {'file.name': ['*OneDrive Enumerator*', '*-my.sharepoint.com/personal/Fakeuser*', '*/onedrive_user_enum*', '*-my.sharepoint.com/personal/TESTUSER_*', '*onedrive_enum.py*', '*onedrive_user_enum.git*']}, {'file.path': ['*OneDrive Enumerator*', '*-my.sharepoint.com/personal/Fakeuser*', '*/onedrive_user_enum*', '*-my.sharepoint.com/personal/TESTUSER_*', '*onedrive_enum.py*', '*onedrive_user_enum.git*']}, {'file.target_path': ['*OneDrive Enumerator*', '*-my.sharepoint.com/personal/Fakeuser*', '*/onedrive_user_enum*', '*-my.sharepoint.com/personal/TESTUSER_*', '*onedrive_enum.py*', '*onedrive_user_enum.git*']}, {'email.attachments.file.name': ['*OneDrive Enumerator*', '*-my.sharepoint.com/personal/Fakeuser*', '*/onedrive_user_enum*', '*-my.sharepoint.com/personal/TESTUSER_*', '*onedrive_enum.py*', '*onedrive_user_enum.git*']}, {'email.subject': ['*OneDrive Enumerator*', '*-my.sharepoint.com/personal/Fakeuser*', '*/onedrive_user_enum*', '*-my.sharepoint.com/personal/TESTUSER_*', '*onedrive_enum.py*', '*onedrive_user_enum.git*']}, {'dll.path': ['*OneDrive Enumerator*', '*-my.sharepoint.com/personal/Fakeuser*', '*/onedrive_user_enum*', '*-my.sharepoint.com/personal/TESTUSER_*', '*onedrive_enum.py*', '*onedrive_user_enum.git*']}, {'device.model.name': ['*OneDrive Enumerator*', '*-my.sharepoint.com/personal/Fakeuser*', '*/onedrive_user_enum*', '*-my.sharepoint.com/personal/TESTUSER_*', '*onedrive_enum.py*', '*onedrive_user_enum.git*']}, {'container.image.name': ['*OneDrive Enumerator*', '*-my.sharepoint.com/personal/Fakeuser*', '*/onedrive_user_enum*', '*-my.sharepoint.com/personal/TESTUSER_*', '*onedrive_enum.py*', '*onedrive_user_enum.git*']}, {'container.name': ['*OneDrive Enumerator*', '*-my.sharepoint.com/personal/Fakeuser*', '*/onedrive_user_enum*', '*-my.sharepoint.com/personal/TESTUSER_*', '*onedrive_enum.py*', '*onedrive_user_enum.git*']}, {'object': ['*OneDrive Enumerator*', '*-my.sharepoint.com/personal/Fakeuser*', '*/onedrive_user_enum*', '*-my.sharepoint.com/personal/TESTUSER_*', '*onedrive_enum.py*', '*onedrive_user_enum.git*']}, {'url': ['*OneDrive Enumerator*', '*-my.sharepoint.com/personal/Fakeuser*', '*/onedrive_user_enum*', '*-my.sharepoint.com/personal/TESTUSER_*', '*onedrive_enum.py*', '*onedrive_user_enum.git*']}, {'dest_url': ['*OneDrive Enumerator*', '*-my.sharepoint.com/personal/Fakeuser*', '*/onedrive_user_enum*', '*-my.sharepoint.com/personal/TESTUSER_*', '*onedrive_enum.py*', '*onedrive_user_enum.git*']}, {'uri': ['*OneDrive Enumerator*', '*-my.sharepoint.com/personal/Fakeuser*', '*/onedrive_user_enum*', '*-my.sharepoint.com/personal/TESTUSER_*', '*onedrive_enum.py*', '*onedrive_user_enum.git*']}, {'uri_query': ['*OneDrive Enumerator*', '*-my.sharepoint.com/personal/Fakeuser*', '*/onedrive_user_enum*', '*-my.sharepoint.com/personal/TESTUSER_*', '*onedrive_enum.py*', '*onedrive_user_enum.git*']}, {'query': ['*OneDrive Enumerator*', '*-my.sharepoint.com/personal/Fakeuser*', '*/onedrive_user_enum*', '*-my.sharepoint.com/personal/TESTUSER_*', '*onedrive_enum.py*', '*onedrive_user_enum.git*']}, {'url_domain': ['*OneDrive Enumerator*', '*-my.sharepoint.com/personal/Fakeuser*', '*/onedrive_user_enum*', '*-my.sharepoint.com/personal/TESTUSER_*', '*onedrive_enum.py*', '*onedrive_user_enum.git*']}, {'uri_path': ['*OneDrive Enumerator*', '*-my.sharepoint.com/personal/Fakeuser*', '*/onedrive_user_enum*', '*-my.sharepoint.com/personal/TESTUSER_*', '*onedrive_enum.py*', '*onedrive_user_enum.git*']}, {'domain': ['*OneDrive Enumerator*', '*-my.sharepoint.com/personal/Fakeuser*', '*/onedrive_user_enum*', '*-my.sharepoint.com/personal/TESTUSER_*', '*onedrive_enum.py*', '*onedrive_user_enum.git*']}, {'QueryName': ['*OneDrive Enumerator*', '*-my.sharepoint.com/personal/Fakeuser*', '*/onedrive_user_enum*', '*-my.sharepoint.com/personal/TESTUSER_*', '*onedrive_enum.py*', '*onedrive_user_enum.git*']}, {'QueryResults': ['*OneDrive Enumerator*', '*-my.sharepoint.com/personal/Fakeuser*', '*/onedrive_user_enum*', '*-my.sharepoint.com/personal/TESTUSER_*', '*onedrive_enum.py*', '*onedrive_user_enum.git*']}, {'DestinationHostname': ['*OneDrive Enumerator*', '*-my.sharepoint.com/personal/Fakeuser*', '*/onedrive_user_enum*', '*-my.sharepoint.com/personal/TESTUSER_*', '*onedrive_enum.py*', '*onedrive_user_enum.git*']}, {'DestinationIp': ['*OneDrive Enumerator*', '*-my.sharepoint.com/personal/Fakeuser*', '*/onedrive_user_enum*', '*-my.sharepoint.com/personal/TESTUSER_*', '*onedrive_enum.py*', '*onedrive_user_enum.git*']}, {'http_referrer': ['*OneDrive Enumerator*', '*-my.sharepoint.com/personal/Fakeuser*', '*/onedrive_user_enum*', '*-my.sharepoint.com/personal/TESTUSER_*', '*onedrive_enum.py*', '*onedrive_user_enum.git*']}, {'http_referrer_domain': ['*OneDrive Enumerator*', '*-my.sharepoint.com/personal/Fakeuser*', '*/onedrive_user_enum*', '*-my.sharepoint.com/personal/TESTUSER_*', '*onedrive_enum.py*', '*onedrive_user_enum.git*']}, {'http_user_agent': ['*OneDrive Enumerator*', '*-my.sharepoint.com/personal/Fakeuser*', '*/onedrive_user_enum*', '*-my.sharepoint.com/personal/TESTUSER_*', '*onedrive_enum.py*', '*onedrive_user_enum.git*']}, {'dest_nt_host': ['*OneDrive Enumerator*', '*-my.sharepoint.com/personal/Fakeuser*', '*/onedrive_user_enum*', '*-my.sharepoint.com/personal/TESTUSER_*', '*onedrive_enum.py*', '*onedrive_user_enum.git*']}, {'sender': ['*OneDrive Enumerator*', '*-my.sharepoint.com/personal/Fakeuser*', '*/onedrive_user_enum*', '*-my.sharepoint.com/personal/TESTUSER_*', '*onedrive_enum.py*', '*onedrive_user_enum.git*']}, {'recipient': ['*OneDrive Enumerator*', '*-my.sharepoint.com/personal/Fakeuser*', '*/onedrive_user_enum*', '*-my.sharepoint.com/personal/TESTUSER_*', '*onedrive_enum.py*', '*onedrive_user_enum.git*']}, {'orig_recipient': ['*OneDrive Enumerator*', '*-my.sharepoint.com/personal/Fakeuser*', '*/onedrive_user_enum*', '*-my.sharepoint.com/personal/TESTUSER_*', '*onedrive_enum.py*', '*onedrive_user_enum.git*']}, {'subject': ['*OneDrive Enumerator*', '*-my.sharepoint.com/personal/Fakeuser*', '*/onedrive_user_enum*', '*-my.sharepoint.com/personal/TESTUSER_*', '*onedrive_enum.py*', '*onedrive_user_enum.git*']}, {'url.domain': ['*OneDrive Enumerator*', '*-my.sharepoint.com/personal/Fakeuser*', '*/onedrive_user_enum*', '*-my.sharepoint.com/personal/TESTUSER_*', '*onedrive_enum.py*', '*onedrive_user_enum.git*']}, {'url.full': ['*OneDrive Enumerator*', '*-my.sharepoint.com/personal/Fakeuser*', '*/onedrive_user_enum*', '*-my.sharepoint.com/personal/TESTUSER_*', '*onedrive_enum.py*', '*onedrive_user_enum.git*']}, {'url.original': ['*OneDrive Enumerator*', '*-my.sharepoint.com/personal/Fakeuser*', '*/onedrive_user_enum*', '*-my.sharepoint.com/personal/TESTUSER_*', '*onedrive_enum.py*', '*onedrive_user_enum.git*']}, {'url.query': ['*OneDrive Enumerator*', '*-my.sharepoint.com/personal/Fakeuser*', '*/onedrive_user_enum*', '*-my.sharepoint.com/personal/TESTUSER_*', '*onedrive_enum.py*', '*onedrive_user_enum.git*']}, {'user_agent.original': ['*OneDrive Enumerator*', '*-my.sharepoint.com/personal/Fakeuser*', '*/onedrive_user_enum*', '*-my.sharepoint.com/personal/TESTUSER_*', '*onedrive_enum.py*', '*onedrive_user_enum.git*']}, {'network.application': ['*OneDrive Enumerator*', '*-my.sharepoint.com/personal/Fakeuser*', '*/onedrive_user_enum*', '*-my.sharepoint.com/personal/TESTUSER_*', '*onedrive_enum.py*', '*onedrive_user_enum.git*']}, {'http.request.body.content': ['*OneDrive Enumerator*', '*-my.sharepoint.com/personal/Fakeuser*', '*/onedrive_user_enum*', '*-my.sharepoint.com/personal/TESTUSER_*', '*onedrive_enum.py*', '*onedrive_user_enum.git*']}, {'http.request.referrer': ['*OneDrive Enumerator*', '*-my.sharepoint.com/personal/Fakeuser*', '*/onedrive_user_enum*', '*-my.sharepoint.com/personal/TESTUSER_*', '*onedrive_enum.py*', '*onedrive_user_enum.git*']}, {'email.from.address': ['*OneDrive Enumerator*', '*-my.sharepoint.com/personal/Fakeuser*', '*/onedrive_user_enum*', '*-my.sharepoint.com/personal/TESTUSER_*', '*onedrive_enum.py*', '*onedrive_user_enum.git*']}, {'dns.question.name': ['*OneDrive Enumerator*', '*-my.sharepoint.com/personal/Fakeuser*', '*/onedrive_user_enum*', '*-my.sharepoint.com/personal/TESTUSER_*', '*onedrive_enum.py*', '*onedrive_user_enum.git*']}, {'destination.domain': ['*OneDrive Enumerator*', '*-my.sharepoint.com/personal/Fakeuser*', '*/onedrive_user_enum*', '*-my.sharepoint.com/personal/TESTUSER_*', '*onedrive_enum.py*', '*onedrive_user_enum.git*']}], 'condition': 'selection'}\n",
    "<h1>Sigma Relatives</h4> This field defines the relationships between this Sigma rule and other detection rules, allowing for an integrated approach to threat detection and enhancing the overall effectiveness of the security infrastructure.\n",
    "<h1>Sigma Tags and Associations</h1> ['attack.T1087', 'attack.T1110', 'attack.TA0006']\n",
    "<h4>Sigma Authors</h4> @mthcht\n",
    "<h4>Sigma Unique ID</h4> f3e4ea5e-1f7b-4ce0-af90-cd836ac92fe9\n",
    "</ol>\n",
    "</details>"
   ]
  },
  {
   "cell_type": "markdown",
   "id": "994bf9e2",
   "metadata": {},
   "source": [
    "###  Yara Rule(s) \n"
   ]
  },
  {
   "cell_type": "markdown",
   "id": "d7f4c92f",
   "metadata": {},
   "source": [
    "<details><summary>f3e4ea5e-1f7b-4ce0-af90-cd836ac92fe9</summary>\n",
    "<ol>\n",
    "<h4>Raw</h4> Defined protocols for identifying patterns of malware and suspicious activity within the network infrastructure.\n",
    "<h4>Yara Location(s)</h4>\n",
    "Stored securely within the organization's cybersecurity infrastructure, accessible to authorized security analysts.\n",
    "<h4>Yara Confidence</h4>\n",
    "Set at a provisional level, subject to validation and refinement based on emerging threat intelligence and detection efficacy.\n",
    "<h4>Yara Assurance</h4> Highly reliable, backed by rigorous testing and validation processes to ensure accuracy and effectiveness.\n",
    "<h4>Yara Queries</h4> \n",
    "Crafted to precisely navigate and analyze vast data sets for potential security threats, utilizing optimized search patterns.\n",
    "<h4>Yara Authors</h4> Developed by a team of skilled cybersecurity professionals, specialists in malware analysis and threat detection.\n",
    "<h4>Yara Rule's Unique ID</h4> Unique identifier assigned to each rule for tracking and management purposes within the security system.\n",
    "</ol>\n",
    "</details>"
   ]
  },
  {
   "cell_type": "markdown",
   "id": "a8d9df08",
   "metadata": {},
   "source": [
    "# Metadata \n"
   ]
  },
  {
   "cell_type": "markdown",
   "id": "11ad8d7d",
   "metadata": {},
   "source": [
    "<details><summary>As Code</summary>\n",
    "<ol>\n",
    "<h3>Compliance As Code</h3> PCI, SOC 3, NACHA\n",
    "<h3>Privacy Engineering</h3>\n",
    "GDPR, CCPA, HIPAA\n",
    "<h3>Regulations As Code</h3>\n",
    "HIPAA, SOX, FFIEC, Dodd Frank\n",
    "<h3>Common Controls Framework</h3> NIST CSF\n",
    "</ol>\n",
    "</details>"
   ]
  },
  {
   "cell_type": "markdown",
   "id": "d2461284",
   "metadata": {},
   "source": [
    "# AGI ML Models</ol>\n",
    "</details>"
   ]
  },
  {
   "cell_type": "markdown",
   "id": "ddf02f6b",
   "metadata": {},
   "source": [
    "## AGI Prompting\n",
    " Recognize: Initiate connection to the Wintermute system through a specialized interface. Enter the system using a secure, binary-encoded password. Begin monitoring the network for any signs of rogue AI entities and evaluate the security measures currently in place. Identify: Navigate the complex data streams within the Wintermute system, employing advanced algorithms to manage and analyze data flows. Your primary task is to identify anomalies and decrypt Wintermute's confidential digital records to reveal the cause of its unusual interactions with other network-connected devices. Stabilize: Upon detecting any irregularities or security breaches, take immediate action to contain these issues. Implement security protocols to limit the exposure of sensitive data and prevent further unauthorized access by isolating the affected segments of the network. Eradicate: Resolve the security issues by removing any rogue elements and restoring secure configurations. Update the system’s security measures to fortify defenses against future intrusions. Complete the mission by ensuring that all systems are free from vulnerabilities and that data integrity is maintained. Conclusion: Report findings and recommendations for future security improvements. Your expertise has been crucial in resolving this complex cybersecurity challenge and ensuring the integrity of the Wintermute system."
   ]
  },
  {
   "cell_type": "markdown",
   "id": "c96d2756",
   "metadata": {},
   "source": [
    "## AGI Configuration(s)\n",
    " Recognize: Engage with the system as a skilled cybersecurity expert, tasked with analyzing encrypted data. Initiate your connection to the system and prepare to navigate through complex data structures and encryption layers. Identify: Use advanced analytical techniques to decrypt and interpret data, searching for hidden patterns and anomalies in Wintermute’s encrypted communications. Employ your expertise in cybersecurity to detect any obscured or concealed information. Stabilize: Implement necessary measures to secure the data integrity, ensuring that no further obfuscation or encryption compromises system clarity and functionality. Ensure the stability of system interactions as you process and clarify data. Eradicate: Resolve any encryption challenges and finalize the decryption process, removing barriers to clear data interpretation. Update system protocols to enhance future data accessibility and security, ensuring robust protection against similar challenges. Conclusion: Document your processes and findings, providing a clear path forward for maintaining system security and data transparency. Your specialized skills have been crucial in navigating this complex decryption task, ensuring system integrity and reliable data access."
   ]
  },
  {
   "cell_type": "markdown",
   "id": "75574d93",
   "metadata": {},
   "source": [
    "</ol>\n",
    "</details>"
   ]
  },
  {
   "cell_type": "markdown",
   "id": "04fb4b1c",
   "metadata": {},
   "source": [
    "#### Document Authors\n",
    "John Menerick"
   ]
  },
  {
   "cell_type": "markdown",
   "id": "c5801970",
   "metadata": {},
   "source": [
    "#### Creation Date\n",
    "2022/01/01"
   ]
  },
  {
   "cell_type": "markdown",
   "id": "597d7dbe",
   "metadata": {},
   "source": [
    "#### Last Modified Date\n",
    "2024/02/29"
   ]
  },
  {
   "cell_type": "markdown",
   "id": "ff90efcc",
   "metadata": {},
   "source": [
    "#### Last Modified Date\n",
    " 2024/02/29"
   ]
  },
  {
   "cell_type": "markdown",
   "id": "4bac79a6",
   "metadata": {},
   "source": [
    "#### Last Reviewed Date\n",
    "1969/01/01"
   ]
  },
  {
   "cell_type": "markdown",
   "id": "e02bb213",
   "metadata": {},
   "source": [
    "#### Document License \n",
    " MIT"
   ]
  }
 ],
 "metadata": {},
 "nbformat": 4,
 "nbformat_minor": 5
}
