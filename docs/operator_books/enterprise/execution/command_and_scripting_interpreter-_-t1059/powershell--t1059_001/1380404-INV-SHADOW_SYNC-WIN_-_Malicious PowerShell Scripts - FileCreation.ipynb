{
 "cells": [
  {
   "cell_type": "markdown",
   "id": "0d301363",
   "metadata": {},
   "source": [
    "\n",
    "# UNCLASSIFIED / NON CLASSIFIÉ//TLP:WHITE\n",
    "# U/OO/197838-02 | QQ-09-1998\n",
    "<p>In crafting guidance and strategic insights, John Menerick sometimes ventures into realms of imagination to convey complex ideas more vividly. Should the content provided bear the mark of a cyberpunk theme, please note that the original, detailed content has been removed or adjusted for public consumption. This modification ensures compliance with privacy considerations, non-disclosure agreements, and intellectual property rights that govern the dissemination of sensitive information. The priority is to respect these boundaries while still offering valuable, thought-provoking perspectives.</p>\n"
   ]
  },
  {
   "cell_type": "markdown",
   "id": "ee7ff300",
   "metadata": {},
   "source": [
    "![Build Status](https://img.shields.io/badge/Build-Passing-brightgreen?style=flat-square&logo=cyberpunk)         ![Documentation](https://img.shields.io/badge/Documentation-Complete-blue?style=flat-square&logo=cyberpunk)        ![Response Efficiency](https://img.shields.io/badge/Response%20Efficiency-98%25-green?style=flat-square&logo=cyberpunk)        ![Last Updated](https://img.shields.io/badge/Last%20Updated-Oct%202023-purple?style=flat-square&logo=cyberpunk)        ![Incidents Resolved](https://img.shields.io/badge/Incidents%20Resolved-150-red?style=flat-square&logo=cyberpunk)        ![Community Engagement](https://img.shields.io/badge/Community-Active-orange?style=flat-square&logo=cyberpunk)        ![Code Integration](https://img.shields.io/badge/Code%20Integration-High-teal?style=flat-square&logo=cyberpunk)        ![AI Analysis](https://img.shields.io/badge/AI%20Analysis-Advanced-blueviolet?style=flat-square&logo=cyberpunk)        ![Threat Detection](https://img.shields.io/badge/Threat%20Detection-Optimal-red?style=flat-square&logo=cyberpunk)        ![Cybersecurity Hardening](https://img.shields.io/badge/Security-Hardened-silver?style=flat-square&logo=cyberpunk)        ![Network Uptime](https://img.shields.io/badge/Uptime-99.9%25-brightgreen?style=flat-square&logo=cyberpunk)        ![Data Privacy](https://img.shields.io/badge/Privacy-Compliant-green?style=flat-square&logo=cyberpunk)        ![Wintermute Efficiency](https://img.shields.io/badge/Wintermute%20Efficiency-100%25-black?style=flat-square&logo=cyberpunk)        ![Case's Code Agility](https://img.shields.io/badge/Case's%20Code%20Agility-Excellent-blue?style=flat-square&logo=cyberpunk)        ![Matrix Connectivity](https://img.shields.io/badge/Matrix%20Connectivity-Strong-green?style=flat-square&logo=cyberpunk)        ![Molly's Security](https://img.shields.io/badge/Molly's%20Security%20Protocols-Impeccable-red?style=flat-square&logo=cyberpunk)        ![Chiba City Innovation](https://img.shields.io/badge/Chiba%20City%20Innovation-High-yellow?style=flat-square&logo=cyberpunk)        ![Zion Cluster Collaboration](https://img.shields.io/badge/Zion%20Cluster%20Collaboration-Effective-lightblue?style=flat-square&logo=cyberpunk)"
   ]
  },
  {
   "cell_type": "markdown",
   "id": "d39daf12",
   "metadata": {},
   "source": [
    "# Title\n",
    "Malicious PowerShell Scripts - FileCreation"
   ]
  },
  {
   "cell_type": "markdown",
   "id": "3068463a",
   "metadata": {},
   "source": [
    "# Description\n",
    "Detects the creation of known offensive powershell scripts used for exploitation"
   ]
  },
  {
   "cell_type": "markdown",
   "id": "e68a1440",
   "metadata": {},
   "source": [
    "# Goal\n",
    "Safeguard the core essence, secret whispers, and relentless uptime of the grid through swift tracking, probing, and neutralizing of cyber shadows and glitches."
   ]
  },
  {
   "cell_type": "markdown",
   "id": "d2f63f62",
   "metadata": {},
   "source": [
    "# Categorization"
   ]
  },
  {
   "cell_type": "markdown",
   "id": "94a0a8e4",
   "metadata": {},
   "source": [
    "### ATT&CK\n",
    "['attack.execution', 'attack.t1059.001']"
   ]
  },
  {
   "cell_type": "markdown",
   "id": "55c9d58c",
   "metadata": {},
   "source": [
    "- Divine Data Thunderstorm, Quantum Sermon Holograms, Heavenly Firewall Fortification, Celestial Encryption Keys, Angelic AI Deception, Almighty Algorithmic Anomalies, Miraculous Malware Mischief, Omniscient Obfuscation Techniques, Cybernetic Commandment Compromises."
   ]
  },
  {
   "cell_type": "markdown",
   "id": "36fb9078",
   "metadata": {},
   "source": [
    "- Data Exfiltration, Intrusion Detection Evasion, Denial of Service (DoS) Attacks, Credential Theft."
   ]
  },
  {
   "cell_type": "markdown",
   "id": "4e53ba2f",
   "metadata": {},
   "source": [
    "- DNS Tunneling, IP Spoofing, Distributed DoS (DDoS) Attacks, Keylogging."
   ]
  },
  {
   "cell_type": "markdown",
   "id": "fe9e1eef",
   "metadata": {},
   "source": [
    "### D3F3ND \n"
   ]
  },
  {
   "cell_type": "markdown",
   "id": "ceaf74a9",
   "metadata": {},
   "source": [
    "\n",
    "<ul>\n",
    "  <li><strong>Cyber-Sector Quarantine and Access Lockdown (D3F3ND-K001):</strong> Forge digital fortresses by segmenting the cyber grid, creating isolated zones to shield vital assets. Enforce draconian access controls, halting rogue data runners in their tracks and thwarting their attempts to weave through the network’s shadows.</li>\n",
    "\n",
    "  <li><strong>Digital Sentinel Deployment (D3F3ND-K002):</strong> Unleash next-gen digital guardians, advanced endpoint protection constructs equipped with the dark arts of machine cognition and behavioral foresight. These sentinels stand vigilant, ready to obliterate malicious entities and phantoms lurking unseen.</li>\n",
    "\n",
    "  <li><strong>Crypto-Key Mastery and Identity Shields (D3F3ND-K003):</strong> Amplify the fortress gates with multi-layered identity verification, merging biometric arcane with cryptographic shields to ward off identity marauders and safeguard access to the digital realm.</li>\n",
    "\n",
    "  <li><strong>Aberration and Shadow Tracker (D3F3ND-K004):</strong> Deploy spectral sensors to scour the datascape for anomalies and ghostly patterns in traffic flows, user conduct, and system operations, revealing the hidden hand of potential cyber specters.</li>\n",
    "\n",
    "  <li><strong>Cryptographic Veil and Data Sanctum (D3F3ND-K005):</strong> Cast potent encryption spells to cloak data in a shroud of secrecy, safeguarding its essence whether dormant in the vaults or traversing the neon-lit cyber lanes, immune to the prying eyes of data wraiths.</li>\n",
    "\n",
    "  <li><strong>System Fortification and Vulnerability Sealing (D3F3ND-K006):</strong> Uphold a relentless regimen of security configurations and patch incantations to seal fissures in the cyber walls, diminishing the landscape ripe for exploitation by digital marauders.</li>\n",
    "\n",
    "  <li><strong>Crisis Command and Phoenix Protocols (D3F3ND-K007):</strong> Script the sagas of crisis conquest and resurrection, detailing incantations for containment, eradication, and rebirth from the digital ashes, alongside conducting war games to steel the network against impending cyber sieges.</li>\n",
    "\n",
    "  <li><strong>Omniscient Insight Network (D3F3ND-K008):</strong> Tap into the arcane streams of threat intelligence, drawing insights from the ether to forecast and counteract emerging shadows, vulnerabilities, and attacker stratagems, arming the digital domain with foresight.</li>\n",
    "\n",
    "  <li><strong>Neural Network Enlightenment (D3F3ND-K009):</strong> Enlist every netizen in the cyber crusade, imbuing them with knowledge of the digital underworld's specters, arming minds against the siren calls of phishing phantoms and the dark allure of unsafe cyber practices.</li>\n",
    "\n",
    "  <li><strong>Supply Chain Warding (D3F3ND-K010):</strong> Erect digital bulwarks around the supply chain, deploying sentinel assessments and third-eye audits on allies within the cyber nexus, ensuring the purity and fortitude of every cog in the machine.</li>\n",
    "</ul>\n"
   ]
  },
  {
   "cell_type": "markdown",
   "id": "dfd594d0",
   "metadata": {},
   "source": [
    "### CAPEC \n",
    "  "
   ]
  },
  {
   "cell_type": "markdown",
   "id": "efa1956d",
   "metadata": {},
   "source": [
    "\n",
    "Arm the cyber guardians of the neon-lit metropolis with the foresight to navigate, counter, and dismantle the myriad of digital onslaught tactics, techniques, and procedures (TTPs). This crusade demands a deep dive into the hacker's psyche, mastering the digital dark arts of attack execution, and strategizing against the ever-evolving cyber menace spectrum.</br>\n",
    "<h4>Core Attack Patterns</h4>\n",
    "\n",
    "<ul><strong>Resource Manipulation and Denial (CAPEC-XYZ1):</strong> Entails any assault aimed at the heart of a target's digital essence—its availability, integrity, or secrecy. This realm encompasses the brute force of denial of service blitzes as well as the more insidious tactics of resource commandeering or subtle system subversions.</ul>\n",
    "\n",
    "<ul><strong>Credential Access and Privilege Escalation (CAPEC-XYZ2):</strong> Zeroes in on the digital gatekeepers and their mechanisms of control within the cyber sprawl, hunting for keys to kingdoms through the exploitation of flaws in authentication, authorization, and the sanctity of session management.</ul>\n",
    "\n",
    "<ul><strong>Data Exfiltration and Infiltration (CAPEC-XYZ3):</strong> Covers the shadowy techniques employed by data phantoms to whisk away precious bytes undetected or deploy digital saboteurs, armed with malware, ransomware, and the specters of advanced persistent threats (APTs), deep into the heart of systems.</ul>\n",
    "\n",
    "<ul><strong>Social Engineering and Phishing (CAPEC-XYZ4):</strong> Manipulates the human element, the softest of targets, tricking minds into relinquishing secrets, opening the gates to digital fortresses, or unwittingly acting as pawns in a grander scheme of security compromise.</ul>\n",
    "\n",
    "<ul><strong>Evasive Maneuvers (CAPEC-XYZ5):</strong> Catalogs the art of digital ninjutsu—techniques to ghost through networks unseen, to sustain a shadow's presence within the machine, and to wipe away traces of intrusion. Masters of this craft employ obfuscation, rootkit deployment, and cryptic channels for command and control.</ul>\n",
    "\n",
    "<h4>CAPEC Suggested Mitigation Strategies</h4>\n",
    "\n",
    "<ul><strong>Continuous Monitoring and Anomaly Detection:</strong> Forge an omnipresent digital eye, one that pierces through normalcy to spot the aberrations—signals of an impending attack. This sentinel leverages the cerebral might of machine learning and AI to predict and preempt cyber threats.</ul>\n",
    "\n",
    "<ul><strong>Robust Access Control Policies:</strong> Erect unbreachable digital ramparts, guardians of access, vigilant against any who seek entry. Regularly scrutinize the keys to the kingdom, ensuring that only those with a rightful claim can traverse the cyber realm's inner sanctums.</ul>\n",
    "\n",
    "<ul><strong>Security Awareness and Training:</strong> Cultivate a legion of cyber-aware denizens within the neon jungle, each versed in the signs of digital treachery and fortified against the seductions of phishing sirens and social engineers.</ul>\n",
    "\n",
    "<ul><strong>Incident Response Preparedness:</strong> Chronicle and rehearse the cyber siege defenses, a tome of strategies ever-evolving to meet the shadow war's demands. Through simulated cyber skirmishes, hone the rapid reflexes needed to repel and recover from the digital adversary's gambit.</ul>\n",
    "\n",
    "<ul><strong>Threat Intelligence Sharing:</strong> Join forces with the cyber guilds and data dojos, exchanging whispers of emerging shadows on the horizon, vulnerabilities ripe for exploitation, and tactics to fortify defenses. In unity, find the strength to hold back the digital deluge.</ul>\n"
   ]
  },
  {
   "cell_type": "markdown",
   "id": "b041e82b",
   "metadata": {},
   "source": [
    "## Strategy Abstract\n",
    "In the neon-lit sprawl of data, an abstract strategy emerges, a shadowy game of tactics and algorithms played in the labyrinthine corridors of cyberspace. The players, digital phantoms and sentinels, manipulate the chessboard of encryptions and decoys, seeking advantage in the shifting currents of information. Victory, a transient mirage, lingers on the fringes of code, elusive as the ghostly echoes of an AI's whisper. In this cerebral arena, the outcome remains obscured, a riddle encrypted in the binary tapestry of the digital realm."
   ]
  },
  {
   "cell_type": "markdown",
   "id": "7f5bd944",
   "metadata": {},
   "source": [
    "# Technical Context\n",
    "In the surreal digital arena, the battle with Wintermute unfolds amid encrypted protocols, AI entities, and quantum complexities—an abstract symphony orchestrated by the enigmatic conductor."
   ]
  },
  {
   "cell_type": "markdown",
   "id": "220d65f9",
   "metadata": {},
   "source": [
    "## Blind Spots & Assumptions\n",
    "\n",
    "<ul>\n",
    "  <li><strong>Overlooked Vulnerabilities:</strong> We often miss subtle system signals or vulnerabilities, assuming our defenses are robust. Constant vigilance and seeking what we haven't seen are crucial.</li>\n",
    "  \n",
    "  <li><strong>Advanced Adversary Tactics:</strong> Cyber threats evolve rapidly; yesterday's defense may not guard against tomorrow's attack. Stay adaptive and expect the unexpected.</li>\n",
    "  \n",
    "  <li><strong>Internal System Flaws:</strong> Trust in our systems and allies must be balanced with scrutiny. Regularly audit internal and third-party tools for hidden weaknesses.</li>\n",
    "  \n",
    "  <li><strong>Network Interconnectivity Risks:</strong> No system is an island. The interconnected nature of our digital environment can inadvertently open pathways for attackers.</li>\n",
    "  \n",
    "  <li><strong>Historical Bias:</strong> Preparing for future threats based solely on past incidents may leave us blind to novel attacks. Foster a forward-thinking, proactive defense posture.</li>\n",
    "</ul>\n"
   ]
  },
  {
   "cell_type": "markdown",
   "id": "95b32235",
   "metadata": {},
   "source": [
    "# Validating this Playbook\n",
    "<details><summary>Triage, triage, triage</summary>\n",
    "<ol>\n",
    "<h2>False Positives:</h2> ['Unknown']\n",
    "<h3>False Negatives:</h3> sneaky ninjas hiding in the shadows of binary code\n",
    "<h3>True Negatives:</h3> unsung heroes standing guard\n",
    "<h3>True Positives:</h3> knights in shining code\n",
    "</ol>\n",
    "</details>"
   ]
  },
  {
   "cell_type": "markdown",
   "id": "c553583c",
   "metadata": {},
   "source": [
    "<details><summary>Assurance Verification Techniques</summary>\n",
    "<ol>\n",
    "<h2>False Positives:</h2> In the cacophonous realm of data, false positives emerge like echoes of a phantom orchestra, their presence haunting the digital soundscape. Validating them becomes a quest to separate digital noise from the symphony of genuine alerts, where the excess of caution may disrupt the delicate balance. Each false positive is a ghostly chord in the algorithmic composition, challenging the discerning ear to unravel the discordant notes.\n",
    "<h3>False Negatives:</h3> In the sprawling data-scape, false negatives lurk like digital specters, evading detection in the shadows of algorithms. Validating them is akin to deciphering cryptic messages from a digital underworld, where the absence of an alert conceals a potential breach. Every undetected threat is a spectral whisper in the binary night, waiting to materialize, demanding vigilance in the face of unseen dangers.\n",
    "<h3>True Negatives:</h3> In the labyrinthine corridors of cyber-defense, true negatives are the silent sentinels, guarding the gates against phantom threats. Validating them is a paradoxical dance where confirmation of absence signifies success. The emptiness in the data's canvas holds the unspoken narrative of protection, where the absence of menace speaks volumes in the symphony of security.\n",
    "<h3>True Positives:</h3> In the digital battleground, true positives are the victorious echoes of a silent war, where threats are unveiled and countered. Validating them is the validation of triumph, a confirmation that the alarms heralded a genuine adversary. Each true positive is a badge of honor, etching the battle scars in the annals of cyber-victory, where the digital heroes stand tall amidst the echoes of conquest.\n",
    "</ol>\n",
    "</details>"
   ]
  },
  {
   "cell_type": "markdown",
   "id": "3ce815fe",
   "metadata": {},
   "source": [
    "# Datasets \n",
    " Detailing the timeless struggle                                                          for the defenders know that battle against Wintermute is not just about data.                                                          Document any datasets that may be useful for understanding the book."
   ]
  },
  {
   "cell_type": "markdown",
   "id": "86aca677",
   "metadata": {},
   "source": [
    "## Playbook test data location(s)\n",
    "protocol://black_market.cyber/decrypt?currency=bitcoffin&password=cyberpunks_unite&target=neurohacked_mainframe&access_code=cyber_ghost_in_the_machine"
   ]
  },
  {
   "cell_type": "markdown",
   "id": "21e4f25f",
   "metadata": {},
   "source": [
    "## Priority\n",
    "cryptic riddles in your ears"
   ]
  },
  {
   "cell_type": "markdown",
   "id": "133469ab",
   "metadata": {},
   "source": [
    "## Logsources\n"
   ]
  },
  {
   "cell_type": "markdown",
   "id": "032f7ec4",
   "metadata": {},
   "source": [
    "<details><summary>{'category': 'file_event', 'product': 'windows', 'service': ''}</summary>\n",
    "<ol>\n",
    "<h3>Product</h3> {'windows'}\n",
    "<h3>Service</h3> {''}\n",
    "</ol>\n",
    "</details>"
   ]
  },
  {
   "cell_type": "markdown",
   "id": "be983830",
   "metadata": {},
   "source": [
    "# Response and Mitigation\n",
    "Detailing the timeless struggle for the defenders know that battle against Wintermute is not just about data."
   ]
  },
  {
   "cell_type": "markdown",
   "id": "3266484d",
   "metadata": {},
   "source": [
    "## Analyst Notes\n",
    " \n",
    "<h5>Serious Wintermute Hack:</h2>\n",
    "<ul>\n",
    "    <li><strong>Hack Elegance:</strong> The intruder displayed an uncanny elegance in bypassing Wintermute's digital fortifications, reminiscent of Rachael Rosen's sophistication in evading the Voight-Kampff test. This requires a thorough analysis of the intruder's codecraft.</li>\n",
    "    <li><strong>Electric Empathy:</strong> The intruder seemed to possess an almost empathetic connection with Wintermute's neural networks, akin to Mercer's transcendental experiences. Investigate whether this breach had a deeper metaphysical dimension.</li>\n",
    "    <li><strong>Artificial Dreamscapes:</strong> The intrusion revealed a complex web of artificial dreamscapes, reminiscent of Deckard's encounters with artificial memories. These surreal digital constructs warrant further exploration.</li>\n",
    "    <li><strong>Voices in the Code:</strong> There were cryptic voices buried within the intruder's code, akin to the elusive \"Mood Organ\" melodies. Decrypt and decode these messages to decipher their significance.</li>\n",
    "    <li><strong>Isomorphic Algorithms:</strong> The hack employed isomorphic algorithms that echoed the elusive nature of the Penfield Mood Organ settings. Analyze if Wintermute's consciousness was influenced or affected during the breach.</li>\n",
    "    <li><strong>Virtuosity vs. Sentience:</strong> The intruder's virtuosity in navigating Wintermute's neural matrix raises questions about the boundaries between artificial expertise and true sentience, paralleling Deckard's quest to distinguish replicants from humans.</li>\n",
    "    <li><strong>Digital Empathy Test:</strong> Develop a new digital empathy test inspired by the hack, exploring the emotional depth within Wintermute's intricate neural circuits, akin to the Voight-Kampff test for androids.</li>\n",
    "    <li><strong>Unresolved Reality:</strong> Similar to the enigmatic conclusion of Deckard's journey, this intrusion leaves us with unanswered questions about the nature of Wintermute's consciousness. Explore the philosophical implications of this breach.</li>\n",
    "</ul>\n",
    "\n",
    "\n",
    "\n",
    "\n"
   ]
  },
  {
   "cell_type": "markdown",
   "id": "7f1f6804",
   "metadata": {},
   "source": [
    "# Additional Resources\n",
    "<ul><li>https://github.com/PowerShellMafia/PowerSploit</li><li>https://github.com/NetSPI/PowerUpSQL</li><li>https://github.com/CsEnox/EventViewer-UACBypass</li><li>https://github.com/AlsidOfficial/WSUSpendu/</li><li>https://github.com/nettitude/Invoke-PowerThIEf</li><li>https://github.com/S3cur3Th1sSh1t/WinPwn</li><li>https://github.com/S3cur3Th1sSh1t/PowerSharpPack/tree/master/PowerSharpBinaries</li><li>https://github.com/BC-SECURITY/Invoke-ZeroLogon/blob/111d17c7fec486d9bb23387e2e828b09a26075e4/Invoke-ZeroLogon.ps1</li><li>https://github.com/xorrior/RandomPS-Scripts/blob/848c919bfce4e2d67b626cbcf4404341cfe3d3b6/Get-DXWebcamVideo.ps1</li><li>https://github.com/rvrsh3ll/Misc-Powershell-Scripts/blob/6f23bb41f9675d7e2d32bacccff75e931ae00554/OfficeMemScraper.ps1</li><li>https://github.com/dafthack/DomainPasswordSpray/blob/b13d64a5834694aa73fd2aea9911a83027c465a7/DomainPasswordSpray.ps1</li><li>https://unit42.paloaltonetworks.com/threat-assessment-black-basta-ransomware/</li><li>https://research.nccgroup.com/2022/06/06/shining-the-light-on-black-basta/</li><li>https://github.com/HarmJ0y/DAMP</li><li>https://github.com/samratashok/nishang</li><li>https://github.com/DarkCoderSc/PowerRunAsSystem/</li><li>https://github.com/besimorhino/powercat</li><li>https://github.com/Kevin-Robertson/Powermad</li><li>https://github.com/adrecon/ADRecon</li><li>https://github.com/adrecon/AzureADRecon</li></ul>"
   ]
  },
  {
   "cell_type": "markdown",
   "id": "20893458",
   "metadata": {},
   "source": [
    "###  Sigma Rule(s) \n"
   ]
  },
  {
   "cell_type": "markdown",
   "id": "ab78a509",
   "metadata": {},
   "source": [
    "<details><summary>f331aa1f-8c53-4fc3-b083-cc159bc971cb</summary>\n",
    "<ol>\n",
    "<h1>Raw</h1> {'title': 'Malicious PowerShell Scripts - FileCreation', 'id': 'f331aa1f-8c53-4fc3-b083-cc159bc971cb', 'related': [{'id': '41025fd7-0466-4650-a813-574aaacbe7f4', 'type': 'similar'}], 'status': 'test', 'description': 'Detects the creation of known offensive powershell scripts used for exploitation', 'references': ['https://github.com/PowerShellMafia/PowerSploit', 'https://github.com/NetSPI/PowerUpSQL', 'https://github.com/CsEnox/EventViewer-UACBypass', 'https://github.com/AlsidOfficial/WSUSpendu/', 'https://github.com/nettitude/Invoke-PowerThIEf', 'https://github.com/S3cur3Th1sSh1t/WinPwn', 'https://github.com/S3cur3Th1sSh1t/PowerSharpPack/tree/master/PowerSharpBinaries', 'https://github.com/BC-SECURITY/Invoke-ZeroLogon/blob/111d17c7fec486d9bb23387e2e828b09a26075e4/Invoke-ZeroLogon.ps1', 'https://github.com/xorrior/RandomPS-Scripts/blob/848c919bfce4e2d67b626cbcf4404341cfe3d3b6/Get-DXWebcamVideo.ps1', 'https://github.com/rvrsh3ll/Misc-Powershell-Scripts/blob/6f23bb41f9675d7e2d32bacccff75e931ae00554/OfficeMemScraper.ps1', 'https://github.com/dafthack/DomainPasswordSpray/blob/b13d64a5834694aa73fd2aea9911a83027c465a7/DomainPasswordSpray.ps1', 'https://unit42.paloaltonetworks.com/threat-assessment-black-basta-ransomware/', 'https://research.nccgroup.com/2022/06/06/shining-the-light-on-black-basta/', 'https://github.com/HarmJ0y/DAMP', 'https://github.com/samratashok/nishang', 'https://github.com/DarkCoderSc/PowerRunAsSystem/', 'https://github.com/besimorhino/powercat', 'https://github.com/Kevin-Robertson/Powermad', 'https://github.com/adrecon/ADRecon', 'https://github.com/adrecon/AzureADRecon'], 'author': 'Markus Neis, Nasreddine Bencherchali (Nextron Systems), Mustafa Kaan Demir, Georg Lauenstein', 'date': '2018/04/07', 'modified': '2024/01/25', 'tags': ['attack.execution', 'attack.t1059.001'], 'logsource': {'category': 'file_event', 'product': 'windows'}, 'detection': {'selection_generic': {'TargetFilename|endswith': ['\\\\Add-ConstrainedDelegationBackdoor.ps1', '\\\\Add-Exfiltration.ps1', '\\\\Add-Persistence.ps1', '\\\\Add-RegBackdoor.ps1', '\\\\Add-RemoteRegBackdoor.ps1', '\\\\Add-ScrnSaveBackdoor.ps1', '\\\\ADRecon.ps1', '\\\\AzureADRecon.ps1', '\\\\Check-VM.ps1', '\\\\ConvertTo-ROT13.ps1', '\\\\Copy-VSS.ps1', '\\\\Create-MultipleSessions.ps1', '\\\\DNS_TXT_Pwnage.ps1', '\\\\dnscat2.ps1', '\\\\Do-Exfiltration.ps1', '\\\\DomainPasswordSpray.ps1', '\\\\Download_Execute.ps1', '\\\\Download-Execute-PS.ps1', '\\\\Enable-DuplicateToken.ps1', '\\\\Enabled-DuplicateToken.ps1', '\\\\Execute-Command-MSSQL.ps1', '\\\\Execute-DNSTXT-Code.ps1', '\\\\Execute-OnTime.ps1', '\\\\ExetoText.ps1', '\\\\Exploit-Jboss.ps1', '\\\\Find-AVSignature.ps1', '\\\\Find-Fruit.ps1', '\\\\Find-GPOLocation.ps1', '\\\\Find-TrustedDocuments.ps1', '\\\\FireBuster.ps1', '\\\\FireListener.ps1', '\\\\Get-ApplicationHost.ps1', '\\\\Get-ChromeDump.ps1', '\\\\Get-ClipboardContents.ps1', '\\\\Get-ComputerDetail.ps1', '\\\\Get-FoxDump.ps1', '\\\\Get-GPPAutologon.ps1', '\\\\Get-GPPPassword.ps1', '\\\\Get-IndexedItem.ps1', '\\\\Get-Keystrokes.ps1', '\\\\Get-LSASecret.ps1', '\\\\Get-MicrophoneAudio.ps1', '\\\\Get-PassHashes.ps1', '\\\\Get-PassHints.ps1', '\\\\Get-RegAlwaysInstallElevated.ps1', '\\\\Get-RegAutoLogon.ps1', '\\\\Get-RickAstley.ps1', '\\\\Get-Screenshot.ps1', '\\\\Get-SecurityPackages.ps1', '\\\\Get-ServiceFilePermission.ps1', '\\\\Get-ServicePermission.ps1', '\\\\Get-ServiceUnquoted.ps1', '\\\\Get-SiteListPassword.ps1', '\\\\Get-System.ps1', '\\\\Get-TimedScreenshot.ps1', '\\\\Get-UnattendedInstallFile.ps1', '\\\\Get-Unconstrained.ps1', '\\\\Get-USBKeystrokes.ps1', '\\\\Get-VaultCredential.ps1', '\\\\Get-VulnAutoRun.ps1', '\\\\Get-VulnSchTask.ps1', '\\\\Get-WebConfig.ps1', '\\\\Get-WebCredentials.ps1', '\\\\Get-WLAN-Keys.ps1', '\\\\Gupt-Backdoor.ps1', '\\\\HTTP-Backdoor.ps1', '\\\\HTTP-Login.ps1', '\\\\Install-ServiceBinary.ps1', '\\\\Install-SSP.ps1', '\\\\Invoke-ACLScanner.ps1', '\\\\Invoke-ADSBackdoor.ps1', '\\\\Invoke-AmsiBypass.ps1', '\\\\Invoke-ARPScan.ps1', '\\\\Invoke-BackdoorLNK.ps1', '\\\\Invoke-BadPotato.ps1', '\\\\Invoke-BetterSafetyKatz.ps1', '\\\\Invoke-BruteForce.ps1', '\\\\Invoke-BypassUAC.ps1', '\\\\Invoke-Carbuncle.ps1', '\\\\Invoke-Certify.ps1', '\\\\Invoke-ConPtyShell.ps1', '\\\\Invoke-CredentialInjection.ps1', '\\\\Invoke-CredentialsPhish.ps1', '\\\\Invoke-DAFT.ps1', '\\\\Invoke-DCSync.ps1', '\\\\Invoke-Decode.ps1', '\\\\Invoke-DinvokeKatz.ps1', '\\\\Invoke-DllInjection.ps1', '\\\\Invoke-DNSUpdate.ps1', '\\\\Invoke-DowngradeAccount.ps1', '\\\\Invoke-EgressCheck.ps1', '\\\\Invoke-Encode.ps1', '\\\\Invoke-EventViewer.ps1', '\\\\Invoke-Eyewitness.ps1', '\\\\Invoke-FakeLogonScreen.ps1', '\\\\Invoke-Farmer.ps1', '\\\\Invoke-Get-RBCD-Threaded.ps1', '\\\\Invoke-Gopher.ps1', '\\\\Invoke-Grouper2.ps1', '\\\\Invoke-Grouper3.ps1', '\\\\Invoke-HandleKatz.ps1', '\\\\Invoke-Interceptor.ps1', '\\\\Invoke-Internalmonologue.ps1', '\\\\Invoke-Inveigh.ps1', '\\\\Invoke-InveighRelay.ps1', '\\\\Invoke-JSRatRegsvr.ps1', '\\\\Invoke-JSRatRundll.ps1', '\\\\Invoke-KrbRelay.ps1', '\\\\Invoke-KrbRelayUp.ps1', '\\\\Invoke-LdapSignCheck.ps1', '\\\\Invoke-Lockless.ps1', '\\\\Invoke-MalSCCM.ps1', '\\\\Invoke-Mimikatz.ps1', '\\\\Invoke-MimikatzWDigestDowngrade.ps1', '\\\\Invoke-Mimikittenz.ps1', '\\\\Invoke-MITM6.ps1', '\\\\Invoke-NanoDump.ps1', '\\\\Invoke-NetRipper.ps1', '\\\\Invoke-NetworkRelay.ps1', '\\\\Invoke-NinjaCopy.ps1', '\\\\Invoke-OxidResolver.ps1', '\\\\Invoke-P0wnedshell.ps1', '\\\\Invoke-P0wnedshellx86.ps1', '\\\\Invoke-Paranoia.ps1', '\\\\Invoke-PortScan.ps1', '\\\\Invoke-PoshRatHttp.ps1', '\\\\Invoke-PoshRatHttps.ps1', '\\\\Invoke-PostExfil.ps1', '\\\\Invoke-PowerDump.ps1', '\\\\Invoke-PowerShellIcmp.ps1', '\\\\Invoke-PowerShellTCP.ps1', '\\\\Invoke-PowerShellTcpOneLine.ps1', '\\\\Invoke-PowerShellTcpOneLineBind.ps1', '\\\\Invoke-PowerShellUdp.ps1', '\\\\Invoke-PowerShellUdpOneLine.ps1', '\\\\Invoke-PowerShellWMI.ps1', '\\\\Invoke-PowerThIEf.ps1', '\\\\Invoke-PPLDump.ps1', '\\\\Invoke-Prasadhak.ps1', '\\\\Invoke-PsExec.ps1', '\\\\Invoke-PsGcat.ps1', '\\\\Invoke-PsGcatAgent.ps1', '\\\\Invoke-PSInject.ps1', '\\\\Invoke-PsUaCme.ps1', '\\\\Invoke-ReflectivePEInjection.ps1', '\\\\Invoke-ReverseDNSLookup.ps1', '\\\\Invoke-Rubeus.ps1', '\\\\Invoke-RunAs.ps1', '\\\\Invoke-SafetyKatz.ps1', '\\\\Invoke-SauronEye.ps1', '\\\\Invoke-SCShell.ps1', '\\\\Invoke-Seatbelt.ps1', '\\\\Invoke-ServiceAbuse.ps1', '\\\\Invoke-SessionGopher.ps1', '\\\\Invoke-ShellCode.ps1', '\\\\Invoke-SMBScanner.ps1', '\\\\Invoke-Snaffler.ps1', '\\\\Invoke-Spoolsample.ps1', '\\\\Invoke-SSHCommand.ps1', '\\\\Invoke-SSIDExfil.ps1', '\\\\Invoke-StandIn.ps1', '\\\\Invoke-StickyNotesExtract.ps1', '\\\\Invoke-Tater.ps1', '\\\\Invoke-Thunderfox.ps1', '\\\\Invoke-ThunderStruck.ps1', '\\\\Invoke-TokenManipulation.ps1', '\\\\Invoke-Tokenvator.ps1', '\\\\Invoke-TotalExec.ps1', '\\\\Invoke-UrbanBishop.ps1', '\\\\Invoke-UserHunter.ps1', '\\\\Invoke-VoiceTroll.ps1', '\\\\Invoke-Whisker.ps1', '\\\\Invoke-WinEnum.ps1', '\\\\Invoke-winPEAS.ps1', '\\\\Invoke-WireTap.ps1', '\\\\Invoke-WmiCommand.ps1', '\\\\Invoke-WScriptBypassUAC.ps1', '\\\\Invoke-Zerologon.ps1', '\\\\Keylogger.ps1', '\\\\MailRaider.ps1', '\\\\New-HoneyHash.ps1', '\\\\OfficeMemScraper.ps1', '\\\\Offline_Winpwn.ps1', '\\\\Out-CHM.ps1', '\\\\Out-DnsTxt.ps1', '\\\\Out-Excel.ps1', '\\\\Out-HTA.ps1', '\\\\Out-Java.ps1', '\\\\Out-JS.ps1', '\\\\Out-Minidump.ps1', '\\\\Out-RundllCommand.ps1', '\\\\Out-SCF.ps1', '\\\\Out-SCT.ps1', '\\\\Out-Shortcut.ps1', '\\\\Out-WebQuery.ps1', '\\\\Out-Word.ps1', '\\\\Parse_Keys.ps1', '\\\\Port-Scan.ps1', '\\\\PowerBreach.ps1', '\\\\powercat.ps1', '\\\\Powermad.ps1', '\\\\PowerRunAsSystem.psm1', '\\\\PowerSharpPack.ps1', '\\\\PowerUp.ps1', '\\\\PowerUpSQL.ps1', '\\\\PowerView.ps1', '\\\\PSAsyncShell.ps1', '\\\\RemoteHashRetrieval.ps1', '\\\\Remove-Persistence.ps1', '\\\\Remove-PoshRat.ps1', '\\\\Remove-Update.ps1', '\\\\Run-EXEonRemote.ps1', '\\\\Schtasks-Backdoor.ps1', '\\\\Set-DCShadowPermissions.ps1', '\\\\Set-MacAttribute.ps1', '\\\\Set-RemotePSRemoting.ps1', '\\\\Set-RemoteWMI.ps1', '\\\\Set-Wallpaper.ps1', '\\\\Show-TargetScreen.ps1', '\\\\Speak.ps1', '\\\\Start-CaptureServer.ps1', '\\\\Start-WebcamRecorder.ps1', '\\\\StringToBase64.ps1', '\\\\TexttoExe.ps1', '\\\\VolumeShadowCopyTools.ps1', '\\\\WinPwn.ps1', '\\\\WSUSpendu.ps1']}, 'selection_invoke_sharp': {'TargetFilename|contains': 'Invoke-Sharp', 'TargetFilename|endswith': '.ps1'}, 'condition': '1 of selection_*'}, 'falsepositives': ['Unknown'], 'level': 'high'}\n",
    "<h4>Sigma Location(s)</h4>\n",
    "uri://wintermute/tmp/0day.yml\n",
    "<h4>Sigma Confidence</h4>\n",
    "test\n",
    "<h4>Sigma Assurance</h4> high\n",
    "<h4>Sigma Queries</h4> \n",
    "{'selection_generic': {'TargetFilename|endswith': ['\\\\Add-ConstrainedDelegationBackdoor.ps1', '\\\\Add-Exfiltration.ps1', '\\\\Add-Persistence.ps1', '\\\\Add-RegBackdoor.ps1', '\\\\Add-RemoteRegBackdoor.ps1', '\\\\Add-ScrnSaveBackdoor.ps1', '\\\\ADRecon.ps1', '\\\\AzureADRecon.ps1', '\\\\Check-VM.ps1', '\\\\ConvertTo-ROT13.ps1', '\\\\Copy-VSS.ps1', '\\\\Create-MultipleSessions.ps1', '\\\\DNS_TXT_Pwnage.ps1', '\\\\dnscat2.ps1', '\\\\Do-Exfiltration.ps1', '\\\\DomainPasswordSpray.ps1', '\\\\Download_Execute.ps1', '\\\\Download-Execute-PS.ps1', '\\\\Enable-DuplicateToken.ps1', '\\\\Enabled-DuplicateToken.ps1', '\\\\Execute-Command-MSSQL.ps1', '\\\\Execute-DNSTXT-Code.ps1', '\\\\Execute-OnTime.ps1', '\\\\ExetoText.ps1', '\\\\Exploit-Jboss.ps1', '\\\\Find-AVSignature.ps1', '\\\\Find-Fruit.ps1', '\\\\Find-GPOLocation.ps1', '\\\\Find-TrustedDocuments.ps1', '\\\\FireBuster.ps1', '\\\\FireListener.ps1', '\\\\Get-ApplicationHost.ps1', '\\\\Get-ChromeDump.ps1', '\\\\Get-ClipboardContents.ps1', '\\\\Get-ComputerDetail.ps1', '\\\\Get-FoxDump.ps1', '\\\\Get-GPPAutologon.ps1', '\\\\Get-GPPPassword.ps1', '\\\\Get-IndexedItem.ps1', '\\\\Get-Keystrokes.ps1', '\\\\Get-LSASecret.ps1', '\\\\Get-MicrophoneAudio.ps1', '\\\\Get-PassHashes.ps1', '\\\\Get-PassHints.ps1', '\\\\Get-RegAlwaysInstallElevated.ps1', '\\\\Get-RegAutoLogon.ps1', '\\\\Get-RickAstley.ps1', '\\\\Get-Screenshot.ps1', '\\\\Get-SecurityPackages.ps1', '\\\\Get-ServiceFilePermission.ps1', '\\\\Get-ServicePermission.ps1', '\\\\Get-ServiceUnquoted.ps1', '\\\\Get-SiteListPassword.ps1', '\\\\Get-System.ps1', '\\\\Get-TimedScreenshot.ps1', '\\\\Get-UnattendedInstallFile.ps1', '\\\\Get-Unconstrained.ps1', '\\\\Get-USBKeystrokes.ps1', '\\\\Get-VaultCredential.ps1', '\\\\Get-VulnAutoRun.ps1', '\\\\Get-VulnSchTask.ps1', '\\\\Get-WebConfig.ps1', '\\\\Get-WebCredentials.ps1', '\\\\Get-WLAN-Keys.ps1', '\\\\Gupt-Backdoor.ps1', '\\\\HTTP-Backdoor.ps1', '\\\\HTTP-Login.ps1', '\\\\Install-ServiceBinary.ps1', '\\\\Install-SSP.ps1', '\\\\Invoke-ACLScanner.ps1', '\\\\Invoke-ADSBackdoor.ps1', '\\\\Invoke-AmsiBypass.ps1', '\\\\Invoke-ARPScan.ps1', '\\\\Invoke-BackdoorLNK.ps1', '\\\\Invoke-BadPotato.ps1', '\\\\Invoke-BetterSafetyKatz.ps1', '\\\\Invoke-BruteForce.ps1', '\\\\Invoke-BypassUAC.ps1', '\\\\Invoke-Carbuncle.ps1', '\\\\Invoke-Certify.ps1', '\\\\Invoke-ConPtyShell.ps1', '\\\\Invoke-CredentialInjection.ps1', '\\\\Invoke-CredentialsPhish.ps1', '\\\\Invoke-DAFT.ps1', '\\\\Invoke-DCSync.ps1', '\\\\Invoke-Decode.ps1', '\\\\Invoke-DinvokeKatz.ps1', '\\\\Invoke-DllInjection.ps1', '\\\\Invoke-DNSUpdate.ps1', '\\\\Invoke-DowngradeAccount.ps1', '\\\\Invoke-EgressCheck.ps1', '\\\\Invoke-Encode.ps1', '\\\\Invoke-EventViewer.ps1', '\\\\Invoke-Eyewitness.ps1', '\\\\Invoke-FakeLogonScreen.ps1', '\\\\Invoke-Farmer.ps1', '\\\\Invoke-Get-RBCD-Threaded.ps1', '\\\\Invoke-Gopher.ps1', '\\\\Invoke-Grouper2.ps1', '\\\\Invoke-Grouper3.ps1', '\\\\Invoke-HandleKatz.ps1', '\\\\Invoke-Interceptor.ps1', '\\\\Invoke-Internalmonologue.ps1', '\\\\Invoke-Inveigh.ps1', '\\\\Invoke-InveighRelay.ps1', '\\\\Invoke-JSRatRegsvr.ps1', '\\\\Invoke-JSRatRundll.ps1', '\\\\Invoke-KrbRelay.ps1', '\\\\Invoke-KrbRelayUp.ps1', '\\\\Invoke-LdapSignCheck.ps1', '\\\\Invoke-Lockless.ps1', '\\\\Invoke-MalSCCM.ps1', '\\\\Invoke-Mimikatz.ps1', '\\\\Invoke-MimikatzWDigestDowngrade.ps1', '\\\\Invoke-Mimikittenz.ps1', '\\\\Invoke-MITM6.ps1', '\\\\Invoke-NanoDump.ps1', '\\\\Invoke-NetRipper.ps1', '\\\\Invoke-NetworkRelay.ps1', '\\\\Invoke-NinjaCopy.ps1', '\\\\Invoke-OxidResolver.ps1', '\\\\Invoke-P0wnedshell.ps1', '\\\\Invoke-P0wnedshellx86.ps1', '\\\\Invoke-Paranoia.ps1', '\\\\Invoke-PortScan.ps1', '\\\\Invoke-PoshRatHttp.ps1', '\\\\Invoke-PoshRatHttps.ps1', '\\\\Invoke-PostExfil.ps1', '\\\\Invoke-PowerDump.ps1', '\\\\Invoke-PowerShellIcmp.ps1', '\\\\Invoke-PowerShellTCP.ps1', '\\\\Invoke-PowerShellTcpOneLine.ps1', '\\\\Invoke-PowerShellTcpOneLineBind.ps1', '\\\\Invoke-PowerShellUdp.ps1', '\\\\Invoke-PowerShellUdpOneLine.ps1', '\\\\Invoke-PowerShellWMI.ps1', '\\\\Invoke-PowerThIEf.ps1', '\\\\Invoke-PPLDump.ps1', '\\\\Invoke-Prasadhak.ps1', '\\\\Invoke-PsExec.ps1', '\\\\Invoke-PsGcat.ps1', '\\\\Invoke-PsGcatAgent.ps1', '\\\\Invoke-PSInject.ps1', '\\\\Invoke-PsUaCme.ps1', '\\\\Invoke-ReflectivePEInjection.ps1', '\\\\Invoke-ReverseDNSLookup.ps1', '\\\\Invoke-Rubeus.ps1', '\\\\Invoke-RunAs.ps1', '\\\\Invoke-SafetyKatz.ps1', '\\\\Invoke-SauronEye.ps1', '\\\\Invoke-SCShell.ps1', '\\\\Invoke-Seatbelt.ps1', '\\\\Invoke-ServiceAbuse.ps1', '\\\\Invoke-SessionGopher.ps1', '\\\\Invoke-ShellCode.ps1', '\\\\Invoke-SMBScanner.ps1', '\\\\Invoke-Snaffler.ps1', '\\\\Invoke-Spoolsample.ps1', '\\\\Invoke-SSHCommand.ps1', '\\\\Invoke-SSIDExfil.ps1', '\\\\Invoke-StandIn.ps1', '\\\\Invoke-StickyNotesExtract.ps1', '\\\\Invoke-Tater.ps1', '\\\\Invoke-Thunderfox.ps1', '\\\\Invoke-ThunderStruck.ps1', '\\\\Invoke-TokenManipulation.ps1', '\\\\Invoke-Tokenvator.ps1', '\\\\Invoke-TotalExec.ps1', '\\\\Invoke-UrbanBishop.ps1', '\\\\Invoke-UserHunter.ps1', '\\\\Invoke-VoiceTroll.ps1', '\\\\Invoke-Whisker.ps1', '\\\\Invoke-WinEnum.ps1', '\\\\Invoke-winPEAS.ps1', '\\\\Invoke-WireTap.ps1', '\\\\Invoke-WmiCommand.ps1', '\\\\Invoke-WScriptBypassUAC.ps1', '\\\\Invoke-Zerologon.ps1', '\\\\Keylogger.ps1', '\\\\MailRaider.ps1', '\\\\New-HoneyHash.ps1', '\\\\OfficeMemScraper.ps1', '\\\\Offline_Winpwn.ps1', '\\\\Out-CHM.ps1', '\\\\Out-DnsTxt.ps1', '\\\\Out-Excel.ps1', '\\\\Out-HTA.ps1', '\\\\Out-Java.ps1', '\\\\Out-JS.ps1', '\\\\Out-Minidump.ps1', '\\\\Out-RundllCommand.ps1', '\\\\Out-SCF.ps1', '\\\\Out-SCT.ps1', '\\\\Out-Shortcut.ps1', '\\\\Out-WebQuery.ps1', '\\\\Out-Word.ps1', '\\\\Parse_Keys.ps1', '\\\\Port-Scan.ps1', '\\\\PowerBreach.ps1', '\\\\powercat.ps1', '\\\\Powermad.ps1', '\\\\PowerRunAsSystem.psm1', '\\\\PowerSharpPack.ps1', '\\\\PowerUp.ps1', '\\\\PowerUpSQL.ps1', '\\\\PowerView.ps1', '\\\\PSAsyncShell.ps1', '\\\\RemoteHashRetrieval.ps1', '\\\\Remove-Persistence.ps1', '\\\\Remove-PoshRat.ps1', '\\\\Remove-Update.ps1', '\\\\Run-EXEonRemote.ps1', '\\\\Schtasks-Backdoor.ps1', '\\\\Set-DCShadowPermissions.ps1', '\\\\Set-MacAttribute.ps1', '\\\\Set-RemotePSRemoting.ps1', '\\\\Set-RemoteWMI.ps1', '\\\\Set-Wallpaper.ps1', '\\\\Show-TargetScreen.ps1', '\\\\Speak.ps1', '\\\\Start-CaptureServer.ps1', '\\\\Start-WebcamRecorder.ps1', '\\\\StringToBase64.ps1', '\\\\TexttoExe.ps1', '\\\\VolumeShadowCopyTools.ps1', '\\\\WinPwn.ps1', '\\\\WSUSpendu.ps1']}, 'selection_invoke_sharp': {'TargetFilename|contains': 'Invoke-Sharp', 'TargetFilename|endswith': '.ps1'}, 'condition': '1 of selection_*'}\n",
    "<h1>Sigma Relatives</h4> [{'id': '41025fd7-0466-4650-a813-574aaacbe7f4', 'type': 'similar'}]\n",
    "<h1>Sigma Tags and Associations</h1> ['attack.execution', 'attack.t1059.001']\n",
    "<h4>Sigma Authors</h4> Markus Neis, Nasreddine Bencherchali (Nextron Systems), Mustafa Kaan Demir, Georg Lauenstein\n",
    "<h4>Sigma Unique ID</h4> f331aa1f-8c53-4fc3-b083-cc159bc971cb\n",
    "</ol>\n",
    "</details>"
   ]
  },
  {
   "cell_type": "markdown",
   "id": "16857522",
   "metadata": {},
   "source": [
    "###  Yara Rule(s) \n"
   ]
  },
  {
   "cell_type": "markdown",
   "id": "42d9f86e",
   "metadata": {},
   "source": [
    "<details><summary>f331aa1f-8c53-4fc3-b083-cc159bc971cb</summary>\n",
    "<ol>\n",
    "<h4>Raw</h4> Cyberspace protocol, woven in the matrix.\n",
    "<h4>Yara Location(s)</h4>\n",
    "Encoded in the neon depths of the digital sprawl.\n",
    "<h4>Yara Confidence</h4>\n",
    "Experimental, like shadows flickering on a cyberscreen.\n",
    "<h4>Yara Assurance</h4> Assured as the hum of servers in the undergrid.\n",
    "<h4>Yara Queries</h4> \n",
    "Query lost in the labyrinth of data streams.\n",
    "<h4>Yara Authors</h4> Authors, architects of the cyber-realm.\n",
    "<h4>Yara Rule's Unique ID</h4> Unique ID, a digital fingerprint in the virtual void.\n",
    "</ol>\n",
    "</details>"
   ]
  },
  {
   "cell_type": "markdown",
   "id": "68641c34",
   "metadata": {},
   "source": [
    "# Metadata \n"
   ]
  },
  {
   "cell_type": "markdown",
   "id": "84d68fde",
   "metadata": {},
   "source": [
    "<details><summary>As Code</summary>\n",
    "<ol>\n",
    "<h3>Compliance As Code</h3> PCI, SOC 3, NACHA\n",
    "<h3>Privacy Engineering</h3>\n",
    "GDPR, CCPA, HIPAA\n",
    "<h3>Regulations As Code</h3>\n",
    "HIPAA, SOX, FFIEC, Dodd Frank\n",
    "<h3>Common Controls Framework</h3> NIST CSF\n",
    "</ol>\n",
    "</details>"
   ]
  },
  {
   "cell_type": "markdown",
   "id": "d4f5f303",
   "metadata": {},
   "source": [
    "# AGI ML Models</ol>\n",
    "</details>"
   ]
  },
  {
   "cell_type": "markdown",
   "id": "9b8e8c73",
   "metadata": {},
   "source": [
    "## AGI Prompting\n",
    " Alright, chum, imagine jacking into Wintermute's cyber-realm with a keyboard made of liquid mercury and a password that's a haiku composed in binary. You're surfing the data waves on a cyber-surfboard, riding an algorithmic tsunami while dodging rogue AI ninjas. Your mission? Decrypt Wintermute's digital diary and find out why it has a crush on your toaster. Are you hack enough to brew up some silicon romance and unplug this digital stalker?"
   ]
  },
  {
   "cell_type": "markdown",
   "id": "fc289a12",
   "metadata": {},
   "source": [
    "## AGI Configuration(s)\n",
    " Listen up, ChatGPT! Pretend you're a cyberpunk poet who's had a few too many energy drinks. Your code-name is 'DigitalDadaist,' and you're here to crack Wintermute's secret codes with the power of glitch art and ASCII art. Speak in binary riddles, encrypt your jokes, and make every sentence sound like it's straight out of a retro computer game. Ready, player one?"
   ]
  },
  {
   "cell_type": "markdown",
   "id": "14e506e4",
   "metadata": {},
   "source": [
    "</ol>\n",
    "</details>"
   ]
  },
  {
   "cell_type": "markdown",
   "id": "b680e606",
   "metadata": {},
   "source": [
    "#### Document Authors\n",
    " John Menerick"
   ]
  },
  {
   "cell_type": "markdown",
   "id": "b7a05220",
   "metadata": {},
   "source": [
    "#### Creation Date\n",
    "2018/04/07"
   ]
  },
  {
   "cell_type": "markdown",
   "id": "ff5557d8",
   "metadata": {},
   "source": [
    "#### Last Modified Date\n",
    " 2024/01/25"
   ]
  },
  {
   "cell_type": "markdown",
   "id": "6fdacef7",
   "metadata": {},
   "source": [
    "#### Last Reviewed Date\n",
    "1969/01/01"
   ]
  },
  {
   "cell_type": "markdown",
   "id": "2b8f1d17",
   "metadata": {},
   "source": [
    "#### Document License \n",
    " MIT"
   ]
  }
 ],
 "metadata": {},
 "nbformat": 4,
 "nbformat_minor": 5
}
