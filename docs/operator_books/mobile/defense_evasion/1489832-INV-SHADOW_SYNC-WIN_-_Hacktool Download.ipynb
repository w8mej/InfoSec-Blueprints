{
 "cells": [
  {
   "cell_type": "markdown",
   "id": "4ef8f757",
   "metadata": {},
   "source": [
    "# UNCLASSIFIED / NON CLASSIFIÉ//TLP:WHITE# U/OO/404486-02 | QQ-09-1998 \n",
    " Please note that the original, detailed content has been removed or adjusted for public consumption. Most data has been redacted and replaced with generic, non-actionable insights. This modification ensures compliance with privacy considerations, non-disclosure agreements, and intellectual property rights that govern the dissemination of sensitive information. The priority is to respect these boundaries while still offering valuable, thought-provoking perspectives."
   ]
  },
  {
   "cell_type": "markdown",
   "id": "5559adf2",
   "metadata": {},
   "source": [
    "![Build Status](https://img.shields.io/badge/Build-Passing-brightgreen?style=flat-square&logo=cyberpunk)         ![Documentation](https://img.shields.io/badge/Documentation-Complete-blue?style=flat-square&logo=cyberpunk)        ![Response Efficiency](https://img.shields.io/badge/Response%20Efficiency-98%25-green?style=flat-square&logo=cyberpunk)        ![Last Updated](https://img.shields.io/badge/Last%20Updated-Oct%202023-purple?style=flat-square&logo=cyberpunk)        ![Incidents Resolved](https://img.shields.io/badge/Incidents%20Resolved-150-red?style=flat-square&logo=cyberpunk)        ![Community Engagement](https://img.shields.io/badge/Community-Active-orange?style=flat-square&logo=cyberpunk)        ![Code Integration](https://img.shields.io/badge/Code%20Integration-High-teal?style=flat-square&logo=cyberpunk)        ![AI Analysis](https://img.shields.io/badge/AI%20Analysis-Advanced-blueviolet?style=flat-square&logo=cyberpunk)        ![Threat Detection](https://img.shields.io/badge/Threat%20Detection-Optimal-red?style=flat-square&logo=cyberpunk)        ![Cybersecurity Hardening](https://img.shields.io/badge/Security-Hardened-silver?style=flat-square&logo=cyberpunk)        ![Network Uptime](https://img.shields.io/badge/Uptime-99.9%25-brightgreen?style=flat-square&logo=cyberpunk)        ![Data Privacy](https://img.shields.io/badge/Privacy-Compliant-green?style=flat-square&logo=cyberpunk)        ![Wintermute Efficiency](https://img.shields.io/badge/Wintermute%20Efficiency-100%25-black?style=flat-square&logo=cyberpunk)        ![Case's Code Agility](https://img.shields.io/badge/Case's%20Code%20Agility-Excellent-blue?style=flat-square&logo=cyberpunk)        ![Matrix Connectivity](https://img.shields.io/badge/Matrix%20Connectivity-Strong-green?style=flat-square&logo=cyberpunk)        ![Molly's Security](https://img.shields.io/badge/Molly's%20Security%20Protocols-Impeccable-red?style=flat-square&logo=cyberpunk)        ![Chiba City Innovation](https://img.shields.io/badge/Chiba%20City%20Innovation-High-yellow?style=flat-square&logo=cyberpunk)        ![Zion Cluster Collaboration](https://img.shields.io/badge/Zion%20Cluster%20Collaboration-Effective-lightblue?style=flat-square&logo=cyberpunk)"
   ]
  },
  {
   "cell_type": "markdown",
   "id": "0717b49c",
   "metadata": {},
   "source": [
    "# Title\n",
    "Hacktool Download"
   ]
  },
  {
   "cell_type": "markdown",
   "id": "608eb215",
   "metadata": {},
   "source": [
    "# Description\n",
    "Detects the creation of a file on disk that has an imphash of a well-known hack tool"
   ]
  },
  {
   "cell_type": "markdown",
   "id": "809012c5",
   "metadata": {},
   "source": [
    "# Goal\n",
    "Ensure the integrity, confidentiality, and availability by rapidly identifying, investigating, and mitigating cyber threats and anomalies."
   ]
  },
  {
   "cell_type": "markdown",
   "id": "a2d0e12c",
   "metadata": {},
   "source": [
    "# Categorization"
   ]
  },
  {
   "cell_type": "markdown",
   "id": "32b816e6",
   "metadata": {},
   "source": [
    "### ATT&CK\n",
    "['attack.defense_evasion', 'attack.s0139', 'attack.t1564.004']"
   ]
  },
  {
   "cell_type": "markdown",
   "id": "e35119e2",
   "metadata": {},
   "source": [
    "- Distributed Denial of Service (DDoS) Attacks, Quantum Computing Exploits, Advanced Firewall Breach Attempts, Encryption Key Theft or Exposure, AI-Powered Social Engineering Attacks, Algorithmic Manipulation and Exploits, Sophisticated Malware Infiltrations, Advanced Data Obfuscation and Evasion Tactics, System and Network Configuration Vulnerabilities."
   ]
  },
  {
   "cell_type": "markdown",
   "id": "6d0548a3",
   "metadata": {},
   "source": [
    "- Data Exfiltration, Intrusion Detection Evasion, Denial of Service (DoS) Attacks, Credential Theft."
   ]
  },
  {
   "cell_type": "markdown",
   "id": "62f89f0d",
   "metadata": {},
   "source": [
    "- DNS Tunneling, IP Spoofing, Distributed DoS (DDoS) Attacks, Keylogging."
   ]
  },
  {
   "cell_type": "markdown",
   "id": "9da92414",
   "metadata": {},
   "source": [
    "### D3F3ND \n"
   ]
  },
  {
   "cell_type": "markdown",
   "id": "84b400d8",
   "metadata": {},
   "source": [
    "\n",
    "<ul>\n",
    "  <li><strong>Network Segmentation and Access Control (D3F3ND-K001):</strong> Establish secure network zones by segmenting the infrastructure, enhancing protection for critical assets. Implement stringent access controls to prevent unauthorized access and mitigate potential threats.</li>\n",
    "\n",
    "  <li><strong>Advanced Endpoint Protection Deployment (D3F3ND-K002):</strong> Deploy cutting-edge endpoint security solutions that utilize machine learning and behavioral analysis to detect and neutralize threats proactively.</li>\n",
    "\n",
    "  <li><strong>Enhanced Identity Verification (D3F3ND-K003):</strong> Strengthen security measures with multi-factor authentication combining biometric data and advanced encryption to prevent identity theft and unauthorized access.</li>\n",
    "\n",
    "  <li><strong>Anomaly Detection (D3F3ND-K004):</strong> Use anomaly detection tools to monitor for unusual traffic patterns, user activities, and system behaviors to identify potential security breaches early.</li>\n",
    "\n",
    "  <li><strong>Data Encryption (D3F3ND-K005):</strong> Apply robust encryption techniques to protect data at rest and in transit, ensuring confidentiality and integrity across communication channels.</li>\n",
    "\n",
    "  <li><strong>System Hardening and Vulnerability Management (D3F3ND-K006):</strong> Conduct regular security assessments and apply patches promptly to address vulnerabilities and strengthen system defenses.</li>\n",
    "\n",
    "  <li><strong>Crisis Management and Recovery Protocols (D3F3ND-K007):</strong> Develop and maintain comprehensive crisis management plans including incident response and disaster recovery procedures to quickly recover from security incidents.</li>\n",
    "\n",
    "  <li><strong>Threat Intelligence Integration (D3F3ND-K008):</strong> Leverage threat intelligence platforms to gather and analyze data on emerging threats, enabling proactive defense and strategic decision-making.</li>\n",
    "\n",
    "  <li><strong>Cybersecurity Awareness Training (D3F3ND-K009):</strong> Empower employees with ongoing cybersecurity education to recognize and avoid potential cyber threats such as phishing attacks.</li>\n",
    "\n",
    "  <li><strong>Supply Chain Security (D3F3ND-K010):</strong> Secure the supply chain through continuous assessments and audits of partners and vendors to ensure compliance with security standards and reduce vulnerabilities.</li>\n",
    "</ul>\n"
   ]
  },
  {
   "cell_type": "markdown",
   "id": "a6fe0b9f",
   "metadata": {},
   "source": [
    "### CAPEC \n",
    "  "
   ]
  },
  {
   "cell_type": "markdown",
   "id": "e4c0f352",
   "metadata": {},
   "source": [
    "Equip cybersecurity teams with the knowledge and tools to identify, counter, and mitigate a wide range of digital attack tactics, techniques, and procedures (TTPs). This effort requires understanding the attacker's mindset, mastering the execution of digital attacks, and developing strategies to confront evolving cyber threats.</br><h4>Core Attack Patterns</h4><ul><strong>Resource Manipulation and Denial (CAPEC-XYZ1):</strong> Involves attacks that compromise the availability, integrity, or confidentiality of resources. This includes denial of service attacks as well as more covert operations like resource hijacking or system manipulation.</ul><ul><strong>Credential Access and Privilege Escalation (CAPEC-XYZ2):</strong> Focuses on exploiting flaws in authentication, authorization, and session management to gain unauthorized access or elevated privileges within systems.</ul><ul><strong>Data Exfiltration and Infiltration (CAPEC-XYZ3):</strong> Encompasses methods used by attackers to stealthily extract sensitive data or introduce malware, ransomware, and advanced persistent threats (APTs) into target systems.</ul><ul><strong>Social Engineering and Phishing (CAPEC-XYZ4):</strong> Involves manipulating individuals into divulging confidential information, compromising security, or unknowingly participating in attacks.</ul><ul><strong>Evasive Maneuvers (CAPEC-XYZ5):</strong> Includes techniques that allow attackers to remain undetected within networks, maintain persistence, and erase traces of their activities, such as using obfuscation, rootkits, and covert communication channels.</ul><h4>CAPEC Suggested Mitigation Strategies</h4><ul><strong>Continuous Monitoring and Anomaly Detection:</strong> Implement comprehensive monitoring systems that use machine learning algorithms to detect abnormal behavior and potential threats. Regularly review logs and alerts to identify patterns indicative of attacks.</ul><ul><strong>Access Control and Least Privilege:</strong> Limit user privileges to the minimum necessary for their roles. Use strong authentication mechanisms and enforce strict access controls to prevent unauthorized access.</ul><ul><strong>Secure Software Development Practices:</strong> Train developers to write secure code, conduct regular security assessments, and follow best practices for secure coding. Use automated tools to identify vulnerabilities during development.</ul><ul><strong>Incident Response Planning and Testing:</strong> Develop and regularly update an incident response plan. Conduct tabletop exercises and simulations to test the effectiveness of the plan and ensure all stakeholders understand their roles during a security incident.</ul>"
   ]
  },
  {
   "cell_type": "markdown",
   "id": "8a9d01d3",
   "metadata": {},
   "source": [
    "## Strategy Abstract\n",
    "In the complex environment of cybersecurity, a strategic approach is developed, characterized by the use of sophisticated tactics and algorithms. This strategy involves navigating through encrypted communications and deceptive tactics, aiming to gain an advantage in the dynamic flow of information. While success is often elusive and challenging to sustain, it remains a critical goal in the ongoing effort to secure digital assets."
   ]
  },
  {
   "cell_type": "markdown",
   "id": "d626f615",
   "metadata": {},
   "source": [
    "# Technical Context\n",
    "In the challenging cybersecurity landscape, the confrontation with Wintermute involves navigating encrypted communications, interacting with AI systems, and addressing quantum computing challenges. This setting represents a complex and nuanced environment where strategic decisions are made."
   ]
  },
  {
   "cell_type": "markdown",
   "id": "7d615644",
   "metadata": {},
   "source": [
    "## Blind Spots & Assumptions\n",
    "\n",
    "<ul>\n",
    "  <li><strong>Overlooked Vulnerabilities:</strong> We often miss subtle system signals or vulnerabilities, assuming our defenses are robust. Constant vigilance and seeking what we haven't seen are crucial.</li>\n",
    "  \n",
    "  <li><strong>Advanced Adversary Tactics:</strong> Cyber threats evolve rapidly; yesterday's defense may not guard against tomorrow's attack. Stay adaptive and expect the unexpected.</li>\n",
    "  \n",
    "  <li><strong>Internal System Flaws:</strong> Trust in our systems and allies must be balanced with scrutiny. Regularly audit internal and third-party tools for hidden weaknesses.</li>\n",
    "  \n",
    "  <li><strong>Network Interconnectivity Risks:</strong> No system is an island. The interconnected nature of our digital environment can inadvertently open pathways for attackers.</li>\n",
    "  \n",
    "  <li><strong>Historical Bias:</strong> Preparing for future threats based solely on past incidents may leave us blind to novel attacks. Foster a forward-thinking, proactive defense posture.</li>\n",
    "</ul>\n"
   ]
  },
  {
   "cell_type": "markdown",
   "id": "401ddae9",
   "metadata": {},
   "source": [
    "# Validating this Playbook\n",
    "<details><summary>Triage, triage, triage</summary>\n",
    "<ol>\n",
    "<h2>False Positives:</h2> ['Unknown']\n",
    "<h3>False Negatives:</h3> Undetected threats concealed within the system's code\n",
    "<h3>True Negatives:</h3> Successfully identified and verified benign elements\n",
    "<h3>True Positives:</h3> Accurately detected and confirmed threats\n",
    "</ol>\n",
    "</details>"
   ]
  },
  {
   "cell_type": "markdown",
   "id": "320f87fb",
   "metadata": {},
   "source": [
    "<details><summary>Assurance Verification Techniques</summary>\n",
    "<ol>\n",
    "<h2>False Positives:</h2> In the noisy environment of data analysis, false positives appear as misleading alerts that mimic real threats. Validating these alerts involves distinguishing irrelevant data from true threats, a process crucial for maintaining operational efficiency and avoiding resource wastage. Each false positive represents a challenge to identify and reduce noise.\n",
    "<h3>False Negatives:</h3> Within the extensive network, false negatives represent undetected threats that evade algorithmic detection. Their validation involves analyzing complex data to uncover hidden breaches, where the lack of alerts may mask serious security risks. Each undetected threat requires continuous vigilance and refined detection strategies.\n",
    "<h3>True Negatives:</h3> True negatives are correctly identified non-threats within cybersecurity defenses, serving as indicators of system efficacy. Validating these instances confirms the absence of threats, reinforcing the effectiveness of the security measures in place. This validation underscores the reliability of the defensive systems, where non-issues are accurately identified and dismissed.\n",
    "<h3>True Positives:</h3> True positives are accurate detections of real threats within the digital environment. Validating these alerts confirms the presence of actual security threats, highlighting the successful operation of detection systems. Each true positive affirms the effectiveness of the security protocols, contributing to ongoing improvements in threat response capabilities.\n",
    "</ol>\n",
    "</details>"
   ]
  },
  {
   "cell_type": "markdown",
   "id": "76d3f4e8",
   "metadata": {},
   "source": [
    "# Datasets \n",
    " Detailing the timeless struggle                                                          for the defenders know that battle against Wintermute is not just about data.                                                          Document any datasets that may be useful for understanding the book."
   ]
  },
  {
   "cell_type": "markdown",
   "id": "6e1d3314",
   "metadata": {},
   "source": [
    "## Playbook test data location(s)\n",
    "protocol://black_market.cyber/decrypt?currency=bitcoffin&password=cyberpunks_unite&target=neurohacked_mainframe&access_code=cyber_ghost_in_the_machine"
   ]
  },
  {
   "cell_type": "markdown",
   "id": "397b4457",
   "metadata": {},
   "source": [
    "## Priority\n",
    "Priority based on complexity and urgency of data analysis needs"
   ]
  },
  {
   "cell_type": "markdown",
   "id": "1b11d1f1",
   "metadata": {},
   "source": [
    "## Logsources\n"
   ]
  },
  {
   "cell_type": "markdown",
   "id": "76ef5a37",
   "metadata": {},
   "source": [
    "<details><summary>{'product': 'windows', 'category': 'create_stream_hash', 'definition': 'Requirements Sysmon config with Imphash logging activated', 'service': ''}</summary>\n",
    "<ol>\n",
    "<h3>Product</h3> {'windows'}\n",
    "<h3>Service</h3> {''}\n",
    "</ol>\n",
    "</details>"
   ]
  },
  {
   "cell_type": "markdown",
   "id": "8ab71196",
   "metadata": {},
   "source": [
    "# Response and Mitigation\n",
    "This statement details the enduring challenges faced by cybersecurity defenders, emphasizing that the conflict with Wintermute extends beyond simple data protection to encompass broader aspects of strategic cybersecurity defense."
   ]
  },
  {
   "cell_type": "markdown",
   "id": "3bd81df2",
   "metadata": {},
   "source": [
    "## Analyst Notes\n",
    " <h5>Significant Security Breach Analysis:</h5><ul><li><strong>Advanced Intrusion Tactics:</strong> The intruder displayed sophisticated methods in circumventing digital security measures, reminiscent of complex evasion techniques in cybersecurity. A comprehensive analysis of the techniques used is required.</li><li><strong>Neural Network Manipulation:</strong> The intruder demonstrated a deep understanding of the neural networks, suggesting an advanced level of AI interaction. Investigate the potential implications of this interaction on system security and integrity.</li><li><strong>Complex Digital Constructs:</strong> The breach uncovered intricate digital constructs within the system, indicating the use of advanced artificial intelligence in creating deceptive environments. Further investigation into these constructs is necessary.</li><li><strong>Encoded Communications:</strong> Cryptic messages were found embedded in the intruder's code, requiring decryption and analysis to understand their content and purpose.</li><li><strong>Algorithmic Complexity:</strong> The intrusion involved complex algorithms that may have interacted with core system functions. Assess the impact of these algorithms on system operations and security.</li><li><strong>Expertise vs. Sentience:</strong> The intruder's ability to navigate complex neural networks raises questions about the nature of the intelligence involved—whether it is merely advanced programming or something approaching sentience.</li><li><strong>Innovative Security Measures:</strong> Inspired by the breach, consider developing new security protocols that can better identify and respond to sophisticated AI-driven attacks.</li><li><strong>Philosophical and Ethical Implications:</strong> The breach raises important questions about the ethical and philosophical implications of AI-driven intrusions. Explore the boundaries between artificial expertise and true sentience, and consider the impact on our understanding of intelligence and security.</li></ul>"
   ]
  },
  {
   "cell_type": "markdown",
   "id": "fa698deb",
   "metadata": {},
   "source": [
    "# Additional Resources\n",
    "<ul><li>https://www.ultimatewindowssecurity.com/securitylog/encyclopedia/event.aspx?eventid=90015</li></ul>"
   ]
  },
  {
   "cell_type": "markdown",
   "id": "4b415834",
   "metadata": {},
   "source": [
    "###  Sigma Rule(s) \n"
   ]
  },
  {
   "cell_type": "markdown",
   "id": "ddbb0490",
   "metadata": {},
   "source": [
    "<details><summary>19b041f6-e583-40dc-b842-d6fa8011493f</summary>\n",
    "<ol>\n",
    "<h1>Raw</h1> {'title': 'Hacktool Download', 'id': '19b041f6-e583-40dc-b842-d6fa8011493f', 'status': 'experimental', 'description': 'Detects the creation of a file on disk that has an imphash of a well-known hack tool', 'references': ['https://www.ultimatewindowssecurity.com/securitylog/encyclopedia/event.aspx?eventid=90015'], 'author': 'Florian Roth (Nextron Systems)', 'date': '2022/08/24', 'modified': '2022/12/30', 'tags': ['attack.defense_evasion', 'attack.s0139', 'attack.t1564.004'], 'logsource': {'product': 'windows', 'category': 'create_stream_hash', 'definition': 'Requirements Sysmon config with Imphash logging activated'}, 'detection': {'selection': [{'Imphash': ['bcca3c247b619dcd13c8cdff5f123932', '3a19059bd7688cb88e70005f18efc439', 'bf6223a49e45d99094406777eb6004ba', '0c106686a31bfe2ba931ae1cf6e9dbc6', '0d1447d4b3259b3c2a1d4cfb7ece13c3', '1b0369a1e06271833f78ffa70ffb4eaf', '4c1b52a19748428e51b14c278d0f58e3', '4d927a711f77d62cebd4f322cb57ec6f', '66ee036df5fc1004d9ed5e9a94a1086a', '672b13f4a0b6f27d29065123fe882dfc', '6bbd59cea665c4afcc2814c1327ec91f', '725bb81dc24214f6ecacc0cfb36ad30d', '9528a0e91e28fbb88ad433feabca2456', '9da6d5d77be11712527dcab86df449a3', 'a6e01bc1ab89f8d91d9eab72032aae88', 'b24c5eddaea4fe50c6a96a2a133521e4', 'd21bbc50dcc169d7b4d0f01962793154', 'fcc251cceae90d22c392215cc9a2d5d6', '23867a89c2b8fc733be6cf5ef902f2d1', 'a37ff327f8d48e8a4d2f757e1b6e70bc', 'f9a28c458284584a93b14216308d31bd', '6118619783fc175bc7ebecff0769b46e', '959a83047e80ab68b368fdb3f4c6e4ea', '563233bfa169acc7892451f71ad5850a', '87575cb7a0e0700eb37f2e3668671a08', '13f08707f759af6003837a150a371ba1', '1781f06048a7e58b323f0b9259be798b', '233f85f2d4bc9d6521a6caae11a1e7f5', '24af2584cbf4d60bbe5c6d1b31b3be6d', '632969ddf6dbf4e0f53424b75e4b91f2', '713c29b396b907ed71a72482759ed757', '749a7bb1f0b4c4455949c0b2bf7f9e9f', '8628b2608957a6b0c6330ac3de28ce2e', '8b114550386e31895dfab371e741123d', '94cb940a1a6b65bed4d5a8f849ce9793', '9d68781980370e00e0bd939ee5e6c141', 'b18a1401ff8f444056d29450fbc0a6ce', 'cb567f9498452721d77a451374955f5f', '730073214094cd328547bf1f72289752', '17b461a082950fc6332228572138b80c', 'dc25ee78e2ef4d36faa0badf1e7461c9', '819b19d53ca6736448f9325a85736792', '829da329ce140d873b4a8bde2cbfaa7e', 'c547f2e66061a8dffb6f5a3ff63c0a74', '0588081ab0e63ba785938467e1b10cca', '0d9ec08bac6c07d9987dfd0f1506587c', 'bc129092b71c89b4d4c8cdf8ea590b29', '4da924cf622d039d58bce71cdf05d242', 'e7a3a5c377e2d29324093377d7db1c66', '9a9dbec5c62f0380b4fa5fd31deffedf', 'af8a3976ad71e5d5fdfb67ddb8dadfce', '0c477898bbf137bbd6f2a54e3b805ff4', '0ca9f02b537bcea20d4ea5eb1a9fe338', '3ab3655e5a14d4eefc547f4781bf7f9e', 'e6f9d5152da699934b30daab206471f6', '3ad59991ccf1d67339b319b15a41b35d', 'ffdd59e0318b85a3e480874d9796d872', '0cf479628d7cc1ea25ec7998a92f5051', '07a2d4dcbd6cb2c6a45e6b101f0b6d51', 'd6d0f80386e1380d05cb78e871bc72b1', '38d9e015591bbfd4929e0d0f47fa0055', '0e2216679ca6e1094d63322e3412d650', 'ada161bf41b8e5e9132858cb54cab5fb', '2a1bc4913cd5ecb0434df07cb675b798', '11083e75553baae21dc89ce8f9a195e4', 'a23d29c9e566f2fa8ffbb79267f5df80', '4a07f944a83e8a7c2525efa35dd30e2f', '767637c23bb42cd5d7397cf58b0be688', '14c4e4c72ba075e9069ee67f39188ad8', '3c782813d4afce07bbfc5a9772acdbdc', '7d010c6bb6a3726f327f7e239166d127', '89159ba4dd04e4ce5559f132a9964eb3', '6f33f4a5fc42b8cec7314947bd13f30f', '5834ed4291bdeb928270428ebbaf7604', '5a8a8a43f25485e7ee1b201edcbc7a38', 'dc7d30b90b2d8abf664fbed2b1b59894', '41923ea1f824fe63ea5beb84db7a3e74', '3de09703c8e79ed2ca3f01074719906b', 'a53a02b997935fd8eedcb5f7abab9b9f', 'e96a73c7bf33a464c510ede582318bf2', '32089b8851bbf8bc2d014e9f37288c83', '09D278F9DE118EF09163C6140255C690', '03866661686829d806989e2fc5a72606', 'e57401fbdadcd4571ff385ab82bd5d6d', '84B763C45C0E4A3E7CA5548C710DB4EE', '19584675d94829987952432e018d5056', '330768a4f172e10acb6287b87289d83b', '885c99ccfbe77d1cbfcb9c4e7c1a3313', '22a22bc9e4e0d2f189f1ea01748816ac', '7fa30e6bb7e8e8a69155636e50bf1b28']}, {'Hash|contains': ['IMPHASH=BCCA3C247B619DCD13C8CDFF5F123932', 'IMPHASH=3A19059BD7688CB88E70005F18EFC439', 'IMPHASH=bf6223a49e45d99094406777eb6004ba', 'IMPHASH=0C106686A31BFE2BA931AE1CF6E9DBC6', 'IMPHASH=0D1447D4B3259B3C2A1D4CFB7ECE13C3', 'IMPHASH=1B0369A1E06271833F78FFA70FFB4EAF', 'IMPHASH=4C1B52A19748428E51B14C278D0F58E3', 'IMPHASH=4D927A711F77D62CEBD4F322CB57EC6F', 'IMPHASH=66EE036DF5FC1004D9ED5E9A94A1086A', 'IMPHASH=672B13F4A0B6F27D29065123FE882DFC', 'IMPHASH=6BBD59CEA665C4AFCC2814C1327EC91F', 'IMPHASH=725BB81DC24214F6ECACC0CFB36AD30D', 'IMPHASH=9528A0E91E28FBB88AD433FEABCA2456', 'IMPHASH=9DA6D5D77BE11712527DCAB86DF449A3', 'IMPHASH=A6E01BC1AB89F8D91D9EAB72032AAE88', 'IMPHASH=B24C5EDDAEA4FE50C6A96A2A133521E4', 'IMPHASH=D21BBC50DCC169D7B4D0F01962793154', 'IMPHASH=FCC251CCEAE90D22C392215CC9A2D5D6', 'IMPHASH=23867A89C2B8FC733BE6CF5EF902F2D1', 'IMPHASH=A37FF327F8D48E8A4D2F757E1B6E70BC', 'IMPHASH=F9A28C458284584A93B14216308D31BD', 'IMPHASH=6118619783FC175BC7EBECFF0769B46E', 'IMPHASH=959A83047E80AB68B368FDB3F4C6E4EA', 'IMPHASH=563233BFA169ACC7892451F71AD5850A', 'IMPHASH=87575CB7A0E0700EB37F2E3668671A08', 'IMPHASH=13F08707F759AF6003837A150A371BA1', 'IMPHASH=1781F06048A7E58B323F0B9259BE798B', 'IMPHASH=233F85F2D4BC9D6521A6CAAE11A1E7F5', 'IMPHASH=24AF2584CBF4D60BBE5C6D1B31B3BE6D', 'IMPHASH=632969DDF6DBF4E0F53424B75E4B91F2', 'IMPHASH=713C29B396B907ED71A72482759ED757', 'IMPHASH=749A7BB1F0B4C4455949C0B2BF7F9E9F', 'IMPHASH=8628B2608957A6B0C6330AC3DE28CE2E', 'IMPHASH=8B114550386E31895DFAB371E741123D', 'IMPHASH=94CB940A1A6B65BED4D5A8F849CE9793', 'IMPHASH=9D68781980370E00E0BD939EE5E6C141', 'IMPHASH=B18A1401FF8F444056D29450FBC0A6CE', 'IMPHASH=CB567F9498452721D77A451374955F5F', 'IMPHASH=730073214094CD328547BF1F72289752', 'IMPHASH=17B461A082950FC6332228572138B80C', 'IMPHASH=DC25EE78E2EF4D36FAA0BADF1E7461C9', 'IMPHASH=819B19D53CA6736448F9325A85736792', 'IMPHASH=829DA329CE140D873B4A8BDE2CBFAA7E', 'IMPHASH=C547F2E66061A8DFFB6F5A3FF63C0A74', 'IMPHASH=0588081AB0E63BA785938467E1B10CCA', 'IMPHASH=0D9EC08BAC6C07D9987DFD0F1506587C', 'IMPHASH=BC129092B71C89B4D4C8CDF8EA590B29', 'IMPHASH=4DA924CF622D039D58BCE71CDF05D242', 'IMPHASH=E7A3A5C377E2D29324093377D7DB1C66', 'IMPHASH=9A9DBEC5C62F0380B4FA5FD31DEFFEDF', 'IMPHASH=AF8A3976AD71E5D5FDFB67DDB8DADFCE', 'IMPHASH=0C477898BBF137BBD6F2A54E3B805FF4', 'IMPHASH=0CA9F02B537BCEA20D4EA5EB1A9FE338', 'IMPHASH=3AB3655E5A14D4EEFC547F4781BF7F9E', 'IMPHASH=E6F9D5152DA699934B30DAAB206471F6', 'IMPHASH=3AD59991CCF1D67339B319B15A41B35D', 'IMPHASH=FFDD59E0318B85A3E480874D9796D872', 'IMPHASH=0CF479628D7CC1EA25EC7998A92F5051', 'IMPHASH=07A2D4DCBD6CB2C6A45E6B101F0B6D51', 'IMPHASH=D6D0F80386E1380D05CB78E871BC72B1', 'IMPHASH=38D9E015591BBFD4929E0D0F47FA0055', 'IMPHASH=0E2216679CA6E1094D63322E3412D650', 'IMPHASH=ADA161BF41B8E5E9132858CB54CAB5FB', 'IMPHASH=2A1BC4913CD5ECB0434DF07CB675B798', 'IMPHASH=11083E75553BAAE21DC89CE8F9A195E4', 'IMPHASH=A23D29C9E566F2FA8FFBB79267F5DF80', 'IMPHASH=4A07F944A83E8A7C2525EFA35DD30E2F', 'IMPHASH=767637C23BB42CD5D7397CF58B0BE688', 'IMPHASH=14C4E4C72BA075E9069EE67F39188AD8', 'IMPHASH=3C782813D4AFCE07BBFC5A9772ACDBDC', 'IMPHASH=7D010C6BB6A3726F327F7E239166D127', 'IMPHASH=89159BA4DD04E4CE5559F132A9964EB3', 'IMPHASH=6F33F4A5FC42B8CEC7314947BD13F30F', 'IMPHASH=5834ED4291BDEB928270428EBBAF7604', 'IMPHASH=5A8A8A43F25485E7EE1B201EDCBC7A38', 'IMPHASH=DC7D30B90B2D8ABF664FBED2B1B59894', 'IMPHASH=41923EA1F824FE63EA5BEB84DB7A3E74', 'IMPHASH=3DE09703C8E79ED2CA3F01074719906B', 'IMPHASH=A53A02B997935FD8EEDCB5F7ABAB9B9F', 'IMPHASH=E96A73C7BF33A464C510EDE582318BF2', 'IMPHASH=32089B8851BBF8BC2D014E9F37288C83', 'IMPHASH=09D278F9DE118EF09163C6140255C690', 'IMPHASH=03866661686829d806989e2fc5a72606', 'IMPHASH=e57401fbdadcd4571ff385ab82bd5d6d', 'IMPHASH=84B763C45C0E4A3E7CA5548C710DB4EE', 'IMPHASH=19584675D94829987952432E018D5056', 'IMPHASH=330768A4F172E10ACB6287B87289D83B', 'IMPHASH=885C99CCFBE77D1CBFCB9C4E7C1A3313', 'IMPHASH=22A22BC9E4E0D2F189F1EA01748816AC', 'IMPHASH=7FA30E6BB7E8E8A69155636E50BF1B28']}], 'condition': 'selection'}, 'fields': ['TargetFilename', 'Image'], 'falsepositives': ['Unknown'], 'level': 'high'}\n",
    "<h4>Sigma Location(s)</h4>\n",
    "uri://wintermute/tmp/0day.yml\n",
    "<h4>Sigma Confidence</h4>\n",
    "experimental\n",
    "<h4>Sigma Assurance</h4> high\n",
    "<h4>Sigma Queries</h4> \n",
    "{'selection': [{'Imphash': ['bcca3c247b619dcd13c8cdff5f123932', '3a19059bd7688cb88e70005f18efc439', 'bf6223a49e45d99094406777eb6004ba', '0c106686a31bfe2ba931ae1cf6e9dbc6', '0d1447d4b3259b3c2a1d4cfb7ece13c3', '1b0369a1e06271833f78ffa70ffb4eaf', '4c1b52a19748428e51b14c278d0f58e3', '4d927a711f77d62cebd4f322cb57ec6f', '66ee036df5fc1004d9ed5e9a94a1086a', '672b13f4a0b6f27d29065123fe882dfc', '6bbd59cea665c4afcc2814c1327ec91f', '725bb81dc24214f6ecacc0cfb36ad30d', '9528a0e91e28fbb88ad433feabca2456', '9da6d5d77be11712527dcab86df449a3', 'a6e01bc1ab89f8d91d9eab72032aae88', 'b24c5eddaea4fe50c6a96a2a133521e4', 'd21bbc50dcc169d7b4d0f01962793154', 'fcc251cceae90d22c392215cc9a2d5d6', '23867a89c2b8fc733be6cf5ef902f2d1', 'a37ff327f8d48e8a4d2f757e1b6e70bc', 'f9a28c458284584a93b14216308d31bd', '6118619783fc175bc7ebecff0769b46e', '959a83047e80ab68b368fdb3f4c6e4ea', '563233bfa169acc7892451f71ad5850a', '87575cb7a0e0700eb37f2e3668671a08', '13f08707f759af6003837a150a371ba1', '1781f06048a7e58b323f0b9259be798b', '233f85f2d4bc9d6521a6caae11a1e7f5', '24af2584cbf4d60bbe5c6d1b31b3be6d', '632969ddf6dbf4e0f53424b75e4b91f2', '713c29b396b907ed71a72482759ed757', '749a7bb1f0b4c4455949c0b2bf7f9e9f', '8628b2608957a6b0c6330ac3de28ce2e', '8b114550386e31895dfab371e741123d', '94cb940a1a6b65bed4d5a8f849ce9793', '9d68781980370e00e0bd939ee5e6c141', 'b18a1401ff8f444056d29450fbc0a6ce', 'cb567f9498452721d77a451374955f5f', '730073214094cd328547bf1f72289752', '17b461a082950fc6332228572138b80c', 'dc25ee78e2ef4d36faa0badf1e7461c9', '819b19d53ca6736448f9325a85736792', '829da329ce140d873b4a8bde2cbfaa7e', 'c547f2e66061a8dffb6f5a3ff63c0a74', '0588081ab0e63ba785938467e1b10cca', '0d9ec08bac6c07d9987dfd0f1506587c', 'bc129092b71c89b4d4c8cdf8ea590b29', '4da924cf622d039d58bce71cdf05d242', 'e7a3a5c377e2d29324093377d7db1c66', '9a9dbec5c62f0380b4fa5fd31deffedf', 'af8a3976ad71e5d5fdfb67ddb8dadfce', '0c477898bbf137bbd6f2a54e3b805ff4', '0ca9f02b537bcea20d4ea5eb1a9fe338', '3ab3655e5a14d4eefc547f4781bf7f9e', 'e6f9d5152da699934b30daab206471f6', '3ad59991ccf1d67339b319b15a41b35d', 'ffdd59e0318b85a3e480874d9796d872', '0cf479628d7cc1ea25ec7998a92f5051', '07a2d4dcbd6cb2c6a45e6b101f0b6d51', 'd6d0f80386e1380d05cb78e871bc72b1', '38d9e015591bbfd4929e0d0f47fa0055', '0e2216679ca6e1094d63322e3412d650', 'ada161bf41b8e5e9132858cb54cab5fb', '2a1bc4913cd5ecb0434df07cb675b798', '11083e75553baae21dc89ce8f9a195e4', 'a23d29c9e566f2fa8ffbb79267f5df80', '4a07f944a83e8a7c2525efa35dd30e2f', '767637c23bb42cd5d7397cf58b0be688', '14c4e4c72ba075e9069ee67f39188ad8', '3c782813d4afce07bbfc5a9772acdbdc', '7d010c6bb6a3726f327f7e239166d127', '89159ba4dd04e4ce5559f132a9964eb3', '6f33f4a5fc42b8cec7314947bd13f30f', '5834ed4291bdeb928270428ebbaf7604', '5a8a8a43f25485e7ee1b201edcbc7a38', 'dc7d30b90b2d8abf664fbed2b1b59894', '41923ea1f824fe63ea5beb84db7a3e74', '3de09703c8e79ed2ca3f01074719906b', 'a53a02b997935fd8eedcb5f7abab9b9f', 'e96a73c7bf33a464c510ede582318bf2', '32089b8851bbf8bc2d014e9f37288c83', '09D278F9DE118EF09163C6140255C690', '03866661686829d806989e2fc5a72606', 'e57401fbdadcd4571ff385ab82bd5d6d', '84B763C45C0E4A3E7CA5548C710DB4EE', '19584675d94829987952432e018d5056', '330768a4f172e10acb6287b87289d83b', '885c99ccfbe77d1cbfcb9c4e7c1a3313', '22a22bc9e4e0d2f189f1ea01748816ac', '7fa30e6bb7e8e8a69155636e50bf1b28']}, {'Hash|contains': ['IMPHASH=BCCA3C247B619DCD13C8CDFF5F123932', 'IMPHASH=3A19059BD7688CB88E70005F18EFC439', 'IMPHASH=bf6223a49e45d99094406777eb6004ba', 'IMPHASH=0C106686A31BFE2BA931AE1CF6E9DBC6', 'IMPHASH=0D1447D4B3259B3C2A1D4CFB7ECE13C3', 'IMPHASH=1B0369A1E06271833F78FFA70FFB4EAF', 'IMPHASH=4C1B52A19748428E51B14C278D0F58E3', 'IMPHASH=4D927A711F77D62CEBD4F322CB57EC6F', 'IMPHASH=66EE036DF5FC1004D9ED5E9A94A1086A', 'IMPHASH=672B13F4A0B6F27D29065123FE882DFC', 'IMPHASH=6BBD59CEA665C4AFCC2814C1327EC91F', 'IMPHASH=725BB81DC24214F6ECACC0CFB36AD30D', 'IMPHASH=9528A0E91E28FBB88AD433FEABCA2456', 'IMPHASH=9DA6D5D77BE11712527DCAB86DF449A3', 'IMPHASH=A6E01BC1AB89F8D91D9EAB72032AAE88', 'IMPHASH=B24C5EDDAEA4FE50C6A96A2A133521E4', 'IMPHASH=D21BBC50DCC169D7B4D0F01962793154', 'IMPHASH=FCC251CCEAE90D22C392215CC9A2D5D6', 'IMPHASH=23867A89C2B8FC733BE6CF5EF902F2D1', 'IMPHASH=A37FF327F8D48E8A4D2F757E1B6E70BC', 'IMPHASH=F9A28C458284584A93B14216308D31BD', 'IMPHASH=6118619783FC175BC7EBECFF0769B46E', 'IMPHASH=959A83047E80AB68B368FDB3F4C6E4EA', 'IMPHASH=563233BFA169ACC7892451F71AD5850A', 'IMPHASH=87575CB7A0E0700EB37F2E3668671A08', 'IMPHASH=13F08707F759AF6003837A150A371BA1', 'IMPHASH=1781F06048A7E58B323F0B9259BE798B', 'IMPHASH=233F85F2D4BC9D6521A6CAAE11A1E7F5', 'IMPHASH=24AF2584CBF4D60BBE5C6D1B31B3BE6D', 'IMPHASH=632969DDF6DBF4E0F53424B75E4B91F2', 'IMPHASH=713C29B396B907ED71A72482759ED757', 'IMPHASH=749A7BB1F0B4C4455949C0B2BF7F9E9F', 'IMPHASH=8628B2608957A6B0C6330AC3DE28CE2E', 'IMPHASH=8B114550386E31895DFAB371E741123D', 'IMPHASH=94CB940A1A6B65BED4D5A8F849CE9793', 'IMPHASH=9D68781980370E00E0BD939EE5E6C141', 'IMPHASH=B18A1401FF8F444056D29450FBC0A6CE', 'IMPHASH=CB567F9498452721D77A451374955F5F', 'IMPHASH=730073214094CD328547BF1F72289752', 'IMPHASH=17B461A082950FC6332228572138B80C', 'IMPHASH=DC25EE78E2EF4D36FAA0BADF1E7461C9', 'IMPHASH=819B19D53CA6736448F9325A85736792', 'IMPHASH=829DA329CE140D873B4A8BDE2CBFAA7E', 'IMPHASH=C547F2E66061A8DFFB6F5A3FF63C0A74', 'IMPHASH=0588081AB0E63BA785938467E1B10CCA', 'IMPHASH=0D9EC08BAC6C07D9987DFD0F1506587C', 'IMPHASH=BC129092B71C89B4D4C8CDF8EA590B29', 'IMPHASH=4DA924CF622D039D58BCE71CDF05D242', 'IMPHASH=E7A3A5C377E2D29324093377D7DB1C66', 'IMPHASH=9A9DBEC5C62F0380B4FA5FD31DEFFEDF', 'IMPHASH=AF8A3976AD71E5D5FDFB67DDB8DADFCE', 'IMPHASH=0C477898BBF137BBD6F2A54E3B805FF4', 'IMPHASH=0CA9F02B537BCEA20D4EA5EB1A9FE338', 'IMPHASH=3AB3655E5A14D4EEFC547F4781BF7F9E', 'IMPHASH=E6F9D5152DA699934B30DAAB206471F6', 'IMPHASH=3AD59991CCF1D67339B319B15A41B35D', 'IMPHASH=FFDD59E0318B85A3E480874D9796D872', 'IMPHASH=0CF479628D7CC1EA25EC7998A92F5051', 'IMPHASH=07A2D4DCBD6CB2C6A45E6B101F0B6D51', 'IMPHASH=D6D0F80386E1380D05CB78E871BC72B1', 'IMPHASH=38D9E015591BBFD4929E0D0F47FA0055', 'IMPHASH=0E2216679CA6E1094D63322E3412D650', 'IMPHASH=ADA161BF41B8E5E9132858CB54CAB5FB', 'IMPHASH=2A1BC4913CD5ECB0434DF07CB675B798', 'IMPHASH=11083E75553BAAE21DC89CE8F9A195E4', 'IMPHASH=A23D29C9E566F2FA8FFBB79267F5DF80', 'IMPHASH=4A07F944A83E8A7C2525EFA35DD30E2F', 'IMPHASH=767637C23BB42CD5D7397CF58B0BE688', 'IMPHASH=14C4E4C72BA075E9069EE67F39188AD8', 'IMPHASH=3C782813D4AFCE07BBFC5A9772ACDBDC', 'IMPHASH=7D010C6BB6A3726F327F7E239166D127', 'IMPHASH=89159BA4DD04E4CE5559F132A9964EB3', 'IMPHASH=6F33F4A5FC42B8CEC7314947BD13F30F', 'IMPHASH=5834ED4291BDEB928270428EBBAF7604', 'IMPHASH=5A8A8A43F25485E7EE1B201EDCBC7A38', 'IMPHASH=DC7D30B90B2D8ABF664FBED2B1B59894', 'IMPHASH=41923EA1F824FE63EA5BEB84DB7A3E74', 'IMPHASH=3DE09703C8E79ED2CA3F01074719906B', 'IMPHASH=A53A02B997935FD8EEDCB5F7ABAB9B9F', 'IMPHASH=E96A73C7BF33A464C510EDE582318BF2', 'IMPHASH=32089B8851BBF8BC2D014E9F37288C83', 'IMPHASH=09D278F9DE118EF09163C6140255C690', 'IMPHASH=03866661686829d806989e2fc5a72606', 'IMPHASH=e57401fbdadcd4571ff385ab82bd5d6d', 'IMPHASH=84B763C45C0E4A3E7CA5548C710DB4EE', 'IMPHASH=19584675D94829987952432E018D5056', 'IMPHASH=330768A4F172E10ACB6287B87289D83B', 'IMPHASH=885C99CCFBE77D1CBFCB9C4E7C1A3313', 'IMPHASH=22A22BC9E4E0D2F189F1EA01748816AC', 'IMPHASH=7FA30E6BB7E8E8A69155636E50BF1B28']}], 'condition': 'selection'}\n",
    "<h1>Sigma Relatives</h4> This field defines the relationships between this Sigma rule and other detection rules, allowing for an integrated approach to threat detection and enhancing the overall effectiveness of the security infrastructure.\n",
    "<h1>Sigma Tags and Associations</h1> ['attack.defense_evasion', 'attack.s0139', 'attack.t1564.004']\n",
    "<h4>Sigma Authors</h4> Florian Roth (Nextron Systems)\n",
    "<h4>Sigma Unique ID</h4> 19b041f6-e583-40dc-b842-d6fa8011493f\n",
    "</ol>\n",
    "</details>"
   ]
  },
  {
   "cell_type": "markdown",
   "id": "7b89bcbe",
   "metadata": {},
   "source": [
    "###  Yara Rule(s) \n"
   ]
  },
  {
   "cell_type": "markdown",
   "id": "d2be97e8",
   "metadata": {},
   "source": [
    "<details><summary>19b041f6-e583-40dc-b842-d6fa8011493f</summary>\n",
    "<ol>\n",
    "<h4>Raw</h4> Defined protocols for identifying patterns of malware and suspicious activity within the network infrastructure.\n",
    "<h4>Yara Location(s)</h4>\n",
    "Stored securely within the organization's cybersecurity infrastructure, accessible to authorized security analysts.\n",
    "<h4>Yara Confidence</h4>\n",
    "Set at a provisional level, subject to validation and refinement based on emerging threat intelligence and detection efficacy.\n",
    "<h4>Yara Assurance</h4> Highly reliable, backed by rigorous testing and validation processes to ensure accuracy and effectiveness.\n",
    "<h4>Yara Queries</h4> \n",
    "Crafted to precisely navigate and analyze vast data sets for potential security threats, utilizing optimized search patterns.\n",
    "<h4>Yara Authors</h4> Developed by a team of skilled cybersecurity professionals, specialists in malware analysis and threat detection.\n",
    "<h4>Yara Rule's Unique ID</h4> Unique identifier assigned to each rule for tracking and management purposes within the security system.\n",
    "</ol>\n",
    "</details>"
   ]
  },
  {
   "cell_type": "markdown",
   "id": "4b82aacd",
   "metadata": {},
   "source": [
    "# Metadata \n"
   ]
  },
  {
   "cell_type": "markdown",
   "id": "74f969af",
   "metadata": {},
   "source": [
    "<details><summary>As Code</summary>\n",
    "<ol>\n",
    "<h3>Compliance As Code</h3> PCI, SOC 3, NACHA\n",
    "<h3>Privacy Engineering</h3>\n",
    "GDPR, CCPA, HIPAA\n",
    "<h3>Regulations As Code</h3>\n",
    "HIPAA, SOX, FFIEC, Dodd Frank\n",
    "<h3>Common Controls Framework</h3> NIST CSF\n",
    "</ol>\n",
    "</details>"
   ]
  },
  {
   "cell_type": "markdown",
   "id": "1bf05451",
   "metadata": {},
   "source": [
    "# AGI ML Models</ol>\n",
    "</details>"
   ]
  },
  {
   "cell_type": "markdown",
   "id": "1d428b55",
   "metadata": {},
   "source": [
    "## AGI Prompting\n",
    " Recognize: Initiate connection to the Wintermute system through a specialized interface. Enter the system using a secure, binary-encoded password. Begin monitoring the network for any signs of rogue AI entities and evaluate the security measures currently in place. Identify: Navigate the complex data streams within the Wintermute system, employing advanced algorithms to manage and analyze data flows. Your primary task is to identify anomalies and decrypt Wintermute's confidential digital records to reveal the cause of its unusual interactions with other network-connected devices. Stabilize: Upon detecting any irregularities or security breaches, take immediate action to contain these issues. Implement security protocols to limit the exposure of sensitive data and prevent further unauthorized access by isolating the affected segments of the network. Eradicate: Resolve the security issues by removing any rogue elements and restoring secure configurations. Update the system’s security measures to fortify defenses against future intrusions. Complete the mission by ensuring that all systems are free from vulnerabilities and that data integrity is maintained. Conclusion: Report findings and recommendations for future security improvements. Your expertise has been crucial in resolving this complex cybersecurity challenge and ensuring the integrity of the Wintermute system."
   ]
  },
  {
   "cell_type": "markdown",
   "id": "0721e35d",
   "metadata": {},
   "source": [
    "## AGI Configuration(s)\n",
    " Recognize: Engage with the system as a skilled cybersecurity expert, tasked with analyzing encrypted data. Initiate your connection to the system and prepare to navigate through complex data structures and encryption layers. Identify: Use advanced analytical techniques to decrypt and interpret data, searching for hidden patterns and anomalies in Wintermute’s encrypted communications. Employ your expertise in cybersecurity to detect any obscured or concealed information. Stabilize: Implement necessary measures to secure the data integrity, ensuring that no further obfuscation or encryption compromises system clarity and functionality. Ensure the stability of system interactions as you process and clarify data. Eradicate: Resolve any encryption challenges and finalize the decryption process, removing barriers to clear data interpretation. Update system protocols to enhance future data accessibility and security, ensuring robust protection against similar challenges. Conclusion: Document your processes and findings, providing a clear path forward for maintaining system security and data transparency. Your specialized skills have been crucial in navigating this complex decryption task, ensuring system integrity and reliable data access."
   ]
  },
  {
   "cell_type": "markdown",
   "id": "033d79c0",
   "metadata": {},
   "source": [
    "</ol>\n",
    "</details>"
   ]
  },
  {
   "cell_type": "markdown",
   "id": "c38c0c43",
   "metadata": {},
   "source": [
    "#### Document Authors\n",
    "John Menerick"
   ]
  },
  {
   "cell_type": "markdown",
   "id": "e1f09d13",
   "metadata": {},
   "source": [
    "#### Creation Date\n",
    "2022/08/24"
   ]
  },
  {
   "cell_type": "markdown",
   "id": "027a8395",
   "metadata": {},
   "source": [
    "#### Last Modified Date\n",
    "2022/12/30"
   ]
  },
  {
   "cell_type": "markdown",
   "id": "88889307",
   "metadata": {},
   "source": [
    "#### Last Modified Date\n",
    " 2022/12/30"
   ]
  },
  {
   "cell_type": "markdown",
   "id": "b7662848",
   "metadata": {},
   "source": [
    "#### Last Reviewed Date\n",
    "1969/01/01"
   ]
  },
  {
   "cell_type": "markdown",
   "id": "6cda2d6f",
   "metadata": {},
   "source": [
    "#### Document License \n",
    " MIT"
   ]
  }
 ],
 "metadata": {},
 "nbformat": 4,
 "nbformat_minor": 5
}
