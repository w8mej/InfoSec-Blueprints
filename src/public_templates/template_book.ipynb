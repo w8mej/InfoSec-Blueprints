{
 "cells": [
  {
   "cell_type": "markdown",
   "id": "54f87e20",
   "metadata": {},
   "source": [
    "<p align=\"center\">\n",
    "<img src=\"./template_ipynb_logo.png\" alt=\"logo\" width=\"500\"/>\n",
    "\n",
    "![Build Status](https://img.shields.io/badge/Build-Passing-brightgreen?style=flat-square&logo=cyberpunk)         ![Documentation](https://img.shields.io/badge/Documentation-Complete-blue?style=flat-square&logo=cyberpunk)        ![Response Efficiency](https://img.shields.io/badge/Response%20Efficiency-98%25-green?style=flat-square&logo=cyberpunk)        ![Last Updated](https://img.shields.io/badge/Last%20Updated-Oct%202023-purple?style=flat-square&logo=cyberpunk)        ![Incidents Resolved](https://img.shields.io/badge/Incidents%20Resolved-150-red?style=flat-square&logo=cyberpunk)        ![Region Engagement](https://img.shields.io/badge/Region-Active-orange?style=flat-square&logo=cyberpunk)        ![Code Integration](https://img.shields.io/badge/Code%20Integration-High-teal?style=flat-square&logo=cyberpunk)        ![AI Analysis](https://img.shields.io/badge/AI%20Analysis-Advanced-blueviolet?style=flat-square&logo=cyberpunk)        ![Threat Detection](https://img.shields.io/badge/Threat%20Detection-Optimal-red?style=flat-square&logo=cyberpunk)        ![Cybersecurity Hardening](https://img.shields.io/badge/Security-Hardened-silver?style=flat-square&logo=cyberpunk)        ![Network Uptime](https://img.shields.io/badge/Uptime-99.9%25-brightgreen?style=flat-square&logo=cyberpunk)        ![Data Privacy](https://img.shields.io/badge/Privacy-Compliant-green?style=flat-square&logo=cyberpunk)        ![Wintermute Efficiency](https://img.shields.io/badge/Wintermute%20Efficiency-100%25-black?style=flat-square&logo=cyberpunk)        ![Case's Code Agility](https://img.shields.io/badge/Case's%20Code%20Agility-Excellent-blue?style=flat-square&logo=cyberpunk)        ![Matrix Connectivity](https://img.shields.io/badge/Matrix%20Connectivity-Strong-green?style=flat-square&logo=cyberpunk)        ![Molly's Security](https://img.shields.io/badge/Molly's%20Security%20Protocols-Impeccable-red?style=flat-square&logo=cyberpunk)        ![Chiba City Innovation](https://img.shields.io/badge/Chiba%20City%20Innovation-High-yellow?style=flat-square&logo=cyberpunk)        ![Zion Cluster Collaboration](https://img.shields.io/badge/Zion%20Cluster%20Collaboration-Effective-lightblue?style=flat-square&logo=cyberpunk)\n",
    "\n",
    "</p>\n"
   ]
  },
  {
   "cell_type": "markdown",
   "id": "85277353",
   "metadata": {},
   "source": [
    "# Title\n",
    "7000183-HF-AAA-POLICY:Sign-ins from Non-Compliant Devices"
   ]
  },
  {
   "cell_type": "markdown",
   "id": "cc4e61d7",
   "metadata": {},
   "source": [
    "# Description\n",
    "Picture this: A user, perhaps unaware of the lurking dangers, successfully navigates the labyrinth of authentication with their digital key – a password, a fingerprint, a token. They gain access, a door slides open in the neon-lit cyberspace of our company's network. But there's a twist in this plot.\n",
    "\n",
    "The device in their hand, a beacon in this virtual world, is an anomaly. It's a rogue element, a device that doesn't align with the stringent, meticulously crafted protocols of our cyber security citadel. This device, it's a maverick – unpatched, unprotected, a vessel of potential chaos in our structured digital metropolis. It's a device that hasn't been sanctified by the latest updates, devoid of the protective incantations of our digital guardians – the antivirus and anti-malware spells."
   ]
  },
  {
   "cell_type": "markdown",
   "id": "4d1b5b5f",
   "metadata": {},
   "source": [
    "# Goal\n",
    "Imagine this device as a hovercar drifting through the rain-soaked, neon-bathed streets of our Blade Runner-esque cityscape, but with its shields down, its systems vulnerable to the shadowy figures and rogue AIs that prowl this world. It's an open invitation to the underworld, a potential crack in the dome that shields our digital utopia.\n",
    "\n",
    "The implications? They are as vast as the city's skyline. This device could be the Trojan horse, unwittingly ferrying in codes of destruction and malice. The data, the lifeblood of our corporate entity, could be siphoned off, compromised, or corrupted. The very foundations of our network, a web of light and data, could tremble under the weight of this breach.\n",
    "\n",
    "Our response? Swift, decisive. Isolate the intruder, shield the core, and reinforce the barricades. Educate the wanderer who brought this device into our fold, make them aware of the sanctity of compliance. We fortify, we update, we evolve – always one step ahead in this neon dance of security and risk.\n",
    "\n"
   ]
  },
  {
   "cell_type": "markdown",
   "id": "257bdd6d",
   "metadata": {},
   "source": [
    "# Categorization"
   ]
  },
  {
   "cell_type": "markdown",
   "id": "938210ff",
   "metadata": {},
   "source": [
    "### ATT&CK\n",
    "['attack.initial_access', 'attack.persistence', 'attack.t1133', 'attack.t0864', 'attack.t1200']"
   ]
  },
  {
   "cell_type": "markdown",
   "id": "5632c0be",
   "metadata": {},
   "source": [
    "- Not available for public consumption.  Sample follows: Divine Data Thunderstorm, Quantum Sermon Holograms, Heavenly Firewall Fortification, Celestial Encryption Keys, Angelic AI Deception, Almighty Algorithmic Anomalies, Miraculous Malware Mischief, Omniscient Obfuscation Techniques, Cybernetic Commandment Compromises."
   ]
  },
  {
   "cell_type": "markdown",
   "id": "2f70af0b",
   "metadata": {},
   "source": [
    "- Not available for public consumption.  Sample follows: Data Exfiltration, Intrusion Detection Evasion, Denial of Service (DoS) Attacks, Credential Theft."
   ]
  },
  {
   "cell_type": "markdown",
   "id": "8739e070",
   "metadata": {},
   "source": [
    "- Not available for public consumption.  Sample follows: DNS Tunneling, IP Spoofing, Distributed DoS (DDoS) Attacks, Keylogging."
   ]
  },
  {
   "cell_type": "markdown",
   "id": "7e8e2db5",
   "metadata": {},
   "source": [
    "### D3F3ND \n",
    "  ['defend.D3-DTP', 'defend.D3-UAP', 'defend.D3-CH']\n",
    "\n",
    "  - Picture our network domains as distinct neon-lit territories in this sprawling cyber metropolis. Each domain, a cluster of towering dataspires and information hubs, pulsating with the lifeblood of our corporate entity.  The Domain Trust Policy is like a series of intricate, electronic bridges connecting these territories. Yet, in this high-stakes world, not all bridges are meant to be open. Some pathways need to be guarded, with access granted only to those bearing the digital keys encoded with the right cryptographic sequences.\n",
    "\n",
    "  - Envision each user account as a unique entity, a lone wanderer or a savvy netrunner navigating the sprawling digital landscape of our corporate network. These digital denizens move through the silicon-infused alleyways of data and code, each seeking access to the myriad resources that pulse like neon signs in the cybernetic night.  User Account Permissions are akin to the encoded keycards, the biometric scans, the whispered passwords that grant passage through the shimmering data portals of this world. They determine who gets to tread the illuminated pathways of information and who is relegated to the shadowed corners of restricted access.\n",
    "\n",
    "  - Credential Hardening techniques are akin to the alchemy of fortifying these genetic codes. It's like infusing the very air of our cyberpunk city with a protective essence, hardening the invisible barriers that guard against the shadowy entities lurking in the data-laden alleyways.\n",
    "\n",
    "  - Envision cyber guardians patrolling the data highways, their eyes augmented for infrared and ultraviolet, ever-watchful for the glint of unsanctioned metal or the whisper of illicit circuits. These guardians are the sentinels, the watchers on the walls of our digital fortress.  The battle against these hardware interlopers is waged in the backrooms of cybernetic workshops and the virtual arenas of security war rooms. Here, specialists work tirelessly, their fingers dancing over holographic interfaces, tracing the flow of data and power, seeking out the foreign pulses that betray the presence of these unauthorized additions."
   ]
  },
  {
   "cell_type": "markdown",
   "id": "9bb938d7",
   "metadata": {},
   "source": [
    "### CAPEC \n",
    "   \n",
    "['capec.180', 'capec.122', 'capec.1', 'capec.124']\n",
    "\n",
    "\n",
    "- This harmonious exchange is underpinned by mutual access to the very essence of their existence – shared memory locations, multiplexed hardware pins, the lifeblood of their operational integrity.  An adversary, a digital rogue lurking in the shadows, finds a way to infiltrate this ecosystem. By co-opting one of these entities, they manipulate the shared resource. It's like subtly altering the tracks on which these cybernetic trains run, guiding them unknowingly towards a different destination.\n",
    "\n",
    "- The virtual gatekeepers and checkpoints – are like the coded locks and retinal scanners guarding the secrets of a cyberpunk skyscraper.\n",
    "However, in a twist of fate, these mechanisms are misconfigured, their settings misaligned. It creates gaps, like hidden backdoors and overlooked passages in the high-security zones of our digital metropolis. An adversary, a cybernetic sleuth in this game of shadows, exploits these gaps. They use a lesser privilege, a lower-level clearance, to infiltrate areas reserved for the elite, the higher echelons of digital authority.\n",
    "\n",
    "- Within this intricate network lies a critical oversight – a forgotten corridor, an unmarked alley. This is a segment of the application's functionality, perhaps a crucial URL, left unprotected by Access Control Lists (ACLs). It's like a door in the cybernetic city left ajar, unnoticed by its digital sentinels.  An attacker, a shadowy figure adept in the arts of cyber subterfuge, discovers this lapse. With stealth and cunning, they slip through this unguarded gateway, moving undetected through the digital landscape.\n",
    "\n",
    "- In another twist, we encounter a scenario where the access controls, though present, are misconfigured. It's a tale of security measures that either overreach or fall short, like a series of erratic, flickering barriers in the cybernetic network, sometimes too restrictive, other times too lenient.  Attackers, like opportunistic scavengers in the night, exploit these inconsistencies. Where the controls are too lax, they slip through, performing actions that should be denied. It's akin to finding a weak spot in the armor of a towering, neon-lit skyscraper. This landscape of misconfigured controls is less about the absence of security and more about its flawed application. It's a scenario where the very mechanisms intended to protect become the vulnerabilities, manipulated by those who understand the complex dance of access and restriction in this digital world.\n",
    "\n",
    "\n",
    "\n",
    "\n"
   ]
  },
  {
   "cell_type": "markdown",
   "id": "94c2e147",
   "metadata": {},
   "source": [
    "## Strategy Abstract\n",
    "Amidst the sprawling digital cityscape of our cyberpunk universe, where data flows like a torrent of neon through the veins of cybernetic entities, the intrusion of an unauthorized device poses a grave and insidious threat.  The strategy is designed to intercept and neutralize such unauthorized access. It serves as a tactical guide for navigating the labyrinthine digital alleys, where every unauthorized access is a potential harbinger of chaos in our meticulously ordered virtual metropolis.\n",
    "\n",
    "Key Components:\n",
    "\n",
    "1. Vigilant Detection and Identification: \n",
    "At the forefront of our strategy is the relentless vigilance required to detect the faintest signal of an unauthorized device attempting to breach our digital perimeter. Utilizing a network of sophisticated sensors and AI-driven anomaly detection systems, our protocol is primed to identify and flag any such intrusion attempts, much like the keen-eyed watchers in a neon-drenched cityscape.\n",
    "\n",
    "2. Rapid Response and Containment:\n",
    "Upon detection of an unauthorized access attempt, our response mirrors that of a high-speed chase through the cybernetic boulevards. The strategy involves immediate activation of containment protocols, effectively isolating the intruding device and cutting off its access pathways, akin to rapidly deploying barriers in a futuristic urban landscape.\n",
    "\n",
    "3. Forensic Analysis and Traceback:\n",
    "With the device contained, our focus shifts to a thorough forensic analysis. This phase involves dissecting the digital footprints left by the device, tracing its origins, and understanding its intent. It’s akin to a cyber detective unraveling the threads of a high-tech mystery in the underbelly of a futuristic city.\n",
    "\n",
    "4. Eradication and System Reinforcement:\n",
    "Following the analysis, the strategy advances to the eradication of the unauthorized access attempt’s traces and reinforcing the system’s defenses. This step is comparable to repairing and enhancing the defenses of a breached citadel, ensuring that similar attempts in the future are thwarted with even greater efficiency.\n",
    "\n",
    "5. Adaptive Learning and Strategy Refinement:\n",
    "In the aftermath of the incident, our strategy emphasizes learning from the encounter. This adaptive learning process involves updating our systems and protocols based on the insights gained, much like a city evolving its defenses in the wake of a new threat.\n",
    "\n",
    "6. Collaborative Intelligence and Communication:\n",
    "Essential to the strategy is the seamless communication and intelligence sharing within our team and with allied entities. This collaboration ensures a unified front against unauthorized access attempts, symbolizing the solidarity of various factions within our cyberpunk world against a common foe."
   ]
  },
  {
   "cell_type": "markdown",
   "id": "08b3594a",
   "metadata": {},
   "source": [
    "# Technical Context\n",
    "In the surreal digital arena, the battle with Wintermute unfolds amid encrypted protocols, AI entities, and quantum complexities—an abstract symphony orchestrated by the enigmatic conductor.\n",
    "\n",
    "1. Network Architecture and Security Posture: Our digital cityscape is underpinned by a complex architecture of servers, endpoints, and networking devices, akin to the multifarious structures that make up a futuristic metropolis. This network is fortified with layers of security protocols - firewalls, intrusion detection systems, and advanced threat intelligence systems - all designed to safeguard the sanctity of our cyber domain.\n",
    "\n",
    "2. Authentication Systems and Protocols: At the core of our security matrix are sophisticated authentication systems. These systems are the virtual gatekeepers, utilizing protocols like OAuth, SAML, and multi-factor authentication to validate identities. They function like the biometric and coded checkpoints in a high-tech urban sprawl, ensuring that only authorized entities gain entry.\n",
    "\n",
    "3. Device Compliance and Access Control: Each device seeking network access is subject to stringent compliance checks, verifying adherence to our security policies. This is akin to a security scan in a neon-lit urban complex, where every entrant is scrutinized for contraband or anomalies. Access controls based on roles and privileges further govern what each authenticated entity can see or do within our network.\n",
    "\n",
    "4. Anomaly Detection and Threat Intelligence: Our network is imbued with dynamic anomaly detection capabilities, powered by AI and machine learning. These systems continuously analyze network traffic patterns, akin to drones surveilling the neon-lit skies, seeking out any irregularities that might signify a breach or unauthorized access attempt.\n",
    "\n",
    "5. Incident Response and Forensic Tools: In the event of an unauthorized device attempting access, a suite of incident response tools and forensic capabilities are deployed. These tools are like our cyber response teams, equipped with the latest in digital forensics technology, ready to dissect and neutralize the threat, trace its origins, and fortify the network against future incursions.\n",
    "\n",
    "6. Compliance and Regulatory Frameworks: Overarching all is a framework of compliance and regulatory standards, which our network adheres to. This framework is akin to the legal and ethical code that governs the conduct within a cyberpunk city. It ensures that our security practices align with industry standards and legal requirements, protecting not just our data but also the privacy and rights of those within our network.\n",
    "\n",
    "7. Continuous Monitoring and Improvement: Finally, the ethos of our security posture is one of continuous monitoring and improvement. Our network's defenses are never static; they evolve, adapt, and grow in response to new threats and changing technologies, mirroring the ever-evolving landscape of a cyberpunk city, where change is the only constant."
   ]
  },
  {
   "cell_type": "markdown",
   "id": "7eddc41a",
   "metadata": {},
   "source": [
    "## Blind Spots & Assumptions\n",
    "### Blind Spots in the Neon Shadows\n",
    "\n",
    "1. **Automated System Overdependence:**\n",
    "   - In a world where AI is the new oracle, we might forget the cunning of the human mind. Our automated watchdogs, scanning the cybernetic skyline, could miss the anomalies crafted by a thinking adversary, a shadow moving against the neon grain.\n",
    "\n",
    "2. **The Enemy Within:**\n",
    "   - Our eyes, fixed on the digital horizon, often fail to see the threat within our walls. An employee, a part of our own cyber tribe, could turn rogue, wielding an unauthorized device like a dagger in the neon night.\n",
    "\n",
    "3. **Evolving Attack Vectors:**\n",
    "   - The cyber landscape is a shifting mirage. Today's secure fortress is tomorrow's ruin. We might miss the new breeds of digital venom, thinking our antivenom is eternal.\n",
    "\n",
    "4. **The Hidden Dagger in the Supply Chain:**\n",
    "   - Our focus on the digital front might blind us to the serpent in our supply line, where a single compromised cog can bring down the mightiest towers in our neon realm.\n",
    "\n",
    "5. **The Overlooked Physical Key:**\n",
    "   - Amidst our war in the ether, the physical lock and key are forgotten. An open port, a deserted console - the old ways can bypass the most intricate digital labyrinths.\n",
    "\n",
    "### Assumptions in the Cybernetic Fog\n",
    "\n",
    "1. **The Guilty Shadow:**\n",
    "   - Every unauthorized device casts a sinister shadow, but not all hold a dagger. Sometimes, a shadow is just a lost wanderer, a misstep in the labyrinth.\n",
    "\n",
    "2. **The Illusion of the Impenetrable Wall:**\n",
    "   - We believe our digital walls are unbreachable, but even the highest wall has a hidden crack. The belief in our invincibility is often the first chink in our armor.\n",
    "\n",
    "3. **The False Equivalence of Compliance and Security:**\n",
    "   - In our quest for order, we equate rules with safety. But the universe of cyber threats laughs at our rules, always finding a path unseen, a rule unmade.\n",
    "\n",
    "4. **Uniform Security: A Dystopian Myth:**\n",
    "   - We paint our entire realm with the same brush of security, not seeing the patches where the paint has thinned, where the darkness seeps through.\n",
    "\n",
    "5. **The Mirage of Total Sight:**\n",
    "   - We believe we see all, that our digital eyes leave no corner unlit. But there are always pockets of shadow, fragments of the unknown, even in the most illuminated of cyber cities.\n"
   ]
  },
  {
   "cell_type": "markdown",
   "id": "060aba31",
   "metadata": {},
   "source": [
    "# Validating this Playbook\n",
    "<details><summary>Triage, triage, triage</summary>\n",
    "<ol>\n",
    "\n",
    "## False Positive: The Phantom Menace\n",
    "- **Scenario:** An illusion in the matrix, where an ally is mistaken for a foe, an authorized device flagged by a glitch in the system.\n",
    "- **Validation Odyssey:**\n",
    "  - **Decipher Credentials:** Delve into the device's core, sifting through its digital DNA for signs of legitimacy.\n",
    "  - **Realign the Digital Oracles:** Examine the configurations, ensuring they echo the latest edicts of our cyber sanctum.\n",
    "  - **Traverse the Memory Lanes:** Journey through the archives of security logs, seeking anomalies in the digital fabric.\n",
    "  - **Challenge the Sentinels:** Test the guardians of our domain with known allies, gauging their perception of friend and foe.\n",
    "\n",
    "#### False Negative: The Invisible Intruder\n",
    "- **Scenario:** A ghost in the network, a threat that slinks through our defenses, cloaked in the shadows of oversight.\n",
    "- **Validation Quest:**\n",
    "  - **Scour the Data Trails:** Follow the breadcrumbs left in the network's underbelly, seeking traces of the unseen.\n",
    "  - **Decode the Network's Whispers:** Employ the seers of traffic analysis to unveil patterns hidden in the web of data.\n",
    "  - **Summon the Digital Hunters:** Deploy a sweep of the system, hunting for footprints of the intruder in our midst.\n",
    "  - **Reforge the Detection Edicts:** Update and sharpen the rules that guide our sentinels, preparing them for the threats of tomorrow.\n",
    "\n",
    "#### True Negative: The Harmonious Passage\n",
    "- **Scenario:** A familiar face in the crowd, an authorized entity traverses our digital domain, recognized and unobstructed.\n",
    "- **Validation Ritual:**\n",
    "  - **Affirm the Rite of Passage:** Ensure the entity's journey aligns with the sacred protocols of our realm.\n",
    "  - **Consult the Ledger of Movements:** Match the entity's steps with the chronicles of those chosen to walk our paths.\n",
    "  - **Watch the Continual Dance:** Keep a vigilant eye on the entity's waltz through our data corridors, ensuring its harmony with our world.\n",
    "  - **Invoke Regular Reflections:** Engage in periodic contemplation of our guardians' wisdom, affirming their insight into friend and foe.\n",
    "\n",
    "#### True Positive: The Unveiled Threat\n",
    "- **Scenario:** A specter breaches our walls, its malevolent intent unmasked by the vigilant eyes of our cybernetic sentinels.\n",
    "- **Validation Crusade:**\n",
    "  - **Interrogate the Shadow:** Swiftly engage with the alert, unraveling the intentions of the unwelcome wraith.\n",
    "  - **Trace the Ephemeral Threads:** Seek the origin of this digital specter, gathering intelligence from the ether.\n",
    "  - **Assess the Echoes of Impact:** Gauge the ripples caused by the intruder's touch in our network's pond.\n",
    "  - **Strengthen the Cyber Bastion:** Use the gleaned knowledge to fortify our ramparts against similar phantoms of the net.\n",
    "</ol>\n",
    "</details>"
   ]
  },
  {
   "cell_type": "markdown",
   "id": "488aa0ea",
   "metadata": {},
   "source": [
    "<details><summary>Assurance Verification Techniques</summary>\n",
    "<ol>\n",
    "Not available for public consumption.\n",
    "</ol>\n",
    "</details>"
   ]
  },
  {
   "cell_type": "markdown",
   "id": "c3aebfec",
   "metadata": {},
   "source": [
    "# Datasets \n",
    "Drawing inspiration from the gritty reality of our cyberpunk world, the dataset mirrors the complexities and nuances of real-world scenarios. It's a crucible where theoretical constructs meet the unpredictable nature of practical challenges, ensuring that our validation methods are honed in the fires of realism.\n",
    "\n",
    "1. The Spectrum of Digital Entities:\n",
    "\n",
    "Our dataset is a myriad of digital entities, each a unique silhouette against the neon backdrop of our cyber universe. These entities range from the benign wanderers, the authorized devices with their rhythmic data signatures, to the shadowy figures of unauthorized intruders, their digital footprints a cacophony in the otherwise harmonious data flow.\n",
    "\n",
    "2. Echoes of Network Conversations:\n",
    "\n",
    "Encoded within this dataset are the echoes of network conversations, the whispers, and shouts exchanged across the cybernetic expanse. These are the dialogues of systems and applications, some laced with the mundane transactions of daily operations, others imbued with the covert exchanges of hidden agendas.\n",
    "\n",
    "3. The Kaleidoscope of Traffic Patterns:\n",
    "\n",
    "Like a neon-lit street buzzing with activity, our dataset encapsulates diverse traffic patterns – the steady flow of routine data transfers, the erratic pulses of anomalous activities, and the ghostly trails of stealthy breaches. Each pattern is a thread in the larger tapestry, revealing the complex interplay of digital interactions.\n",
    "\n",
    "4. Anomalies and Irregularities:\n",
    "\n",
    "Scattered throughout the dataset are anomalies, the irregular heartbeats in our network's pulse. These are the crafted test cases, simulating unauthorized access attempts, misconfigurations, and system glitches, each designed to challenge and probe the depths of our validation methods.\n",
    "\n",
    "5. Simulated Attack Vectors:\n",
    "\n",
    "Woven into the fabric of this dataset are simulated attack vectors, representing the myriad of threats lurking in the depths of the cyber world. From subtle manipulations of data to blatant attempts at intrusion, these simulations are the crucibles in which our validation methods are tested and tempered.\n",
    "\n",
    "6. Compliance and Deviation Chronicles:\n",
    "\n",
    "This dataset is not just a collection of digital events; it's a narrative of compliance and deviation. It records the tales of devices and users adhering to the protocols of our realm, as well as those veering off the ordained paths, providing a comprehensive landscape for testing the veracity of our security measures.\n",
    "\n",
    "7. Reflections of Real-World Scenarios:\n",
    "Not available for public consumption\n",
    "\n"
   ]
  },
  {
   "cell_type": "markdown",
   "id": "a97d4b29",
   "metadata": {},
   "source": [
    "### Playbook test data location(s)\n",
    "protocol://black_market.cyber/decrypt?currency=bitcoffin&password=cyberpunks_unite&target=neurohacked_mainframe&access_code=cyber_ghost_in_the_machine"
   ]
  },
  {
   "cell_type": "markdown",
   "id": "3846c6e1",
   "metadata": {},
   "source": [
    "## Priority\n",
    "High"
   ]
  },
  {
   "cell_type": "markdown",
   "id": "12257375",
   "metadata": {},
   "source": [
    "## Logsources\n"
   ]
  },
  {
   "cell_type": "markdown",
   "id": "9953fcf9",
   "metadata": {},
   "source": [
    "<details><summary>{'product': 'Containers', 'Linux', 'Windows', 'macOS', 'oci', 'gcp', 'alibaba', 'service': 'application_log', 'logon_session', 'network_traffic'}</summary>\n",
    "<ol>\n",
    "<h3>Product</h3> {'Containers', 'Linux', 'Windows', 'macOS', 'oci', 'gcp', 'alibaba'}\n",
    "<h3>Service</h3> {'application_log', 'logon_session', 'network_traffic'}\n",
    "</ol>\n",
    "</details>"
   ]
  },
  {
   "cell_type": "markdown",
   "id": "dde456e2",
   "metadata": {},
   "source": [
    "# Response and Mitigation\n",
    "Detailing the timeless struggle for the defenders know that battle against Wintermute is not just about data.\n",
    "\n",
    "## Forensic Analysis and Traceback\n",
    "\n",
    "### Dissecting the Digital Intruder\n",
    "- **Analyze Device Footprints:** Meticulously analyzing the digital footprints left behind.\n",
    "<br>Not available for public consumption.\n",
    "- **Log Analysis:** Combing through system and security logs, reconstructing the narrative of the intrusion.\n",
    "<br>Not available for public consumption.\n",
    "\n",
    "### Tracing the Origins\n",
    "- **Source Identification:** Mapping out the digital path taken by the intruder.\n",
    "<br>Not available for public consumption.\n",
    "- **Investigate Entry Point:** Identifying how our defenses were bypassed or deceived.\n",
    "<br>Not available for public consumption.\n",
    "\n",
    "### Understanding the Adversary's Intent\n",
    "- **Behavioral Analysis:** Scrutinizing the device's behavior and objectives.\n",
    "<br>Not available for public consumption.\n",
    "- **Payload Analysis:** Dissecting and analyzing any payloads delivered by the device.\n",
    "<br>Not available for public consumption.\n",
    "\n",
    "### Evidence Preservation\n",
    "- **Secure Digital Evidence:** Preserving all relevant data and artifacts for future actions.\n",
    "<br>Not available for public consumption.\n",
    "\n",
    "---\n",
    "\n",
    "## Rapid Response and Containment\n",
    "\n",
    "### Communication and Alert System\n",
    "- **Team Mobilization:** Alerting and mobilizing our cyber response team, like a squad of elite agents.\n",
    "<br>Not available for public consumption.\n",
    "- **Stakeholder Notification:** Informing key stakeholders, ensuring transparency and coordination.\n",
    "<br>Not available for public consumption.\n",
    "\n",
    "### Traffic Control and Analysis\n",
    "- **Monitor and Control Network Traffic:** Rerouting and closely monitoring network traffic.\n",
    "<br>Not available for public consumption.\n",
    "- **Identify and Block Malicious Traffic:** Intercepting rogue signals in the ether, blocking malicious data packets.\n",
    "<br>Not available for public consumption.\n",
    "\n",
    "### Activation of the Digital Barricades\n",
    "- **Immediate Isolation:** Triggering an array of neon-lit barriers, severing the intruder's access routes.\n",
    "<br>Not available for public consumption.\n",
    "- **Network Segmentation:** Cordoning off the affected segment, enacting a virtual quarantine.\n",
    "<br>Not available for public consumption.\n",
    "- **Lockdown Protocols:** Securing critical systems, akin to steel shutters slamming down over storefronts.\n",
    "<br>Not available for public consumption.\n",
    "\n",
    "\n",
    "---\n",
    "\n",
    "## Eradication and System Reinforcement\n",
    "\n",
    "### Digital Purge: Eradicating the Intruder's Echoes\n",
    "- **Expunge Unauthorized Traces:** Sweeping the network to eradicate residual data or alterations.\n",
    "<br>Not available for public consumption.\n",
    "\n",
    "- **System Restoration:** Restoring affected systems and data to their original state.\n",
    "<br>Not available for public consumption.\n",
    "\n",
    "### Fortifying the Cyber Bastion\n",
    "- **Enhance Security Protocols:** Implementing advanced security measures and sophisticated encryption.\n",
    "<br>Not available for public consumption.\n",
    "\n",
    "- **Update and Patch:** Ensuring all systems are updated with the latest defenses.\n",
    "<br>Not available for public consumption.\n",
    "\n",
    "---\n",
    "\n",
    "## Adaptive Learning and Strategy Refinement\n",
    "\n",
    "### Learning from the Digital Battlefield\n",
    "- **Incident Analysis:** Conducting a comprehensive analysis of the incident for valuable lessons.\n",
    "<br>Not available for public consumption.\n",
    "\n",
    "- **Strategy Evolution:** Refining response strategies based on insights gained.\n",
    "<br>Not available for public consumption.\n",
    "\n",
    "\n",
    "### Continuous Improvement in the Cyber Arena\n",
    "- **Update Response Playbooks:** Revising incident response playbooks with new tactics.\n",
    "<br>Not available for public consumption.\n",
    "\n",
    "- **Training and Simulations:** Enhancing team readiness through training and simulations.\n",
    "<br>Not available for public consumption.\n",
    "\n",
    "\n",
    "---\n",
    "\n",
    "## Collaborative Intelligence and Communication\n",
    "\n",
    "### Building a United Cyber Front\n",
    "- **Internal Communication Strengthening:** Fostering unity and purpose within the response team.\n",
    "<br>Not available for public consumption.\n",
    "\n",
    "- **External Collaboration:** Engaging with external entities for a collective defense strategy.\n",
    "<br>Not available for public consumption.\n",
    "\n",
    "\n",
    "### The Symphony of Shared Knowledge\n",
    "- **Intelligence Sharing:** Exchanging threat intelligence with allied entities.\n",
    "<br>Not available for public consumption.\n",
    "\n",
    "- **Community Engagement:** Contributing to wider cybersecurity forums and discussions.\n",
    "<br>Not available for public consumption.\n",
    "\n",
    "\n",
    "---"
   ]
  },
  {
   "cell_type": "markdown",
   "id": "897f36bc",
   "metadata": {},
   "source": [
    "## Analyst Notes\n",
    " Serious Wintermute Hack:                 \n",
    " - Hack Elegance: The intruder displayed an uncanny elegance in bypassing Wintermute's digital fortifications, reminiscent of Rachael Rosen's sophistication in evading the Voight-Kampff test. This requires a thorough analysis of the intruder's codecraft.                 \n",
    " - Electric Empathy: The intruder seemed to possess an almost empathetic connection with Wintermute's neural networks, akin to Mercer's transcendental experiences. Investigate whether this breach had a deeper metaphysical dimension.\n",
    " - Artificial Dreamscapes: The intrusion revealed a complex web of artificial dreamscapes, reminiscent of Deckard's encounters with artificial memories. These surreal digital constructs warrant further exploration.                 \n",
    " - Voices in the Code: There were cryptic voices buried within the intruder's code, akin to the elusive \"Mood Organ\" melodies. Decrypt and decode these messages to decipher their significance.                 \n",
    " -  Isomorphic Algorithms: The hack employed isomorphic algorithms that echoed the elusive nature of the Penfield Mood Organ settings. Analyze if Wintermute's consciousness was influenced or affected during the breach.                 \n",
    " - Virtuosity vs. Sentience: The intruder's virtuosity in navigating Wintermute's neural matrix raises questions about the boundaries \n",
    " - Unresolved Reality: Similar to the enigmatic conclusion of Deckard's journey, this intrusion leaves us with unanswered questions about the nature of Wintermute's consciousness. Explore the philosophical implications of this breach.\n",
    "\n",
    "<br>\n",
    "\n",
    "#### Initial Access Tactics ([MITRE ATT&CK: Initial Access](https://attack.mitre.org/tactics/TA0001/))\n",
    "- **T1133 - External Remote Services:** \n",
    "  - *Example:* A hacker covertly accessing a secure terminal in a dimly lit alley, bypassing the usual checkpoints.\n",
    "- **T0864 - Hardware Additions:** \n",
    "  - *Example:* An unauthorized device added to our system, like a rogue drone attaching itself to a building's network hub.\n",
    "\n",
    "#### Persistence in the Shadows ([MITRE ATT&CK: Persistence](https://attack.mitre.org/tactics/TA0003/))\n",
    "- **T1200 - Hardware Additions:** \n",
    "  - *Example:* A digital tap placed on our mainframe, a silent watcher in the neon night.\n",
    "\n",
    "### The Countermeasures: Defending the Citadel ([MITRE DEFEND](https://mitre.org/defend))\n",
    "#### D3-DTP - Detect, Track, and Prevent\n",
    "- *Strategy:* Deploying sensors and drones throughout the neon skyline to spot and neutralize intrusions.\n",
    "#### D3-UAP - Understand Adversary Playbooks\n",
    "- *Strategy:* Decrypting the enemy's battle plans in a digital war room.\n",
    "#### D3-CH - Create Hardships\n",
    "- *Strategy:* Transforming our network into a labyrinth of false paths and dead ends.\n",
    "\n",
    "### The CAPEC Chronicles: Deciphering the Adversary's Saga ([CAPEC](https://capec.mitre.org/))\n",
    "#### CAPEC-180 - Exploiting Incorrectly Configured Access Control Security Levels\n",
    "- *Example:* A hacker finding an unguarded door in a fortified building.\n",
    "#### CAPEC-122 - Privilege Abuse\n",
    "- *Example:* A trusted cybernetic ally turning rogue, using its access to disrupt from within.\n",
    "#### CAPEC-1 - Accessing Functionality Not Properly Constrained by ACLs\n",
    "- *Example:* A shadow slipping through walls in a holographic cityscape.\n",
    "#### CAPEC-124 - Exploiting Trust in Client\n",
    "- *Example:* A double agent transmitting false data, leading to vulnerabilities.\n",
    "\n",
    "---\n"
   ]
  },
  {
   "cell_type": "markdown",
   "id": "01f5d056",
   "metadata": {},
   "source": [
    "\n",
    "\n",
    "# Additional Resources\n",
    "| ID     | Name                      | Description                                                                                                      |\n",
    "|--------|---------------------------|------------------------------------------------------------------------------------------------------------------|\n",
    "| C0028  | 2015 Ukraine Electric Power Attack | During the 2015 Ukraine Electric Power Attack, Sandworm Team installed a modified Dropbear SSH client as the backdoor to target systems. [5] |\n",
    "| G0026  | APT18                     | APT18 actors leverage legitimate credentials to log into external remote services.[6]                             |\n",
    "| G0007  | APT28                     | APT28 has used Tor and a variety of commercial VPN services to route brute force authentication attempts.[7]      |\n",
    "| G0016  | APT29                     | APT29 has used compromised identities to access networks via VPNs and Citrix.[8][9]                                |\n",
    "| G0096  | APT41                     | APT41 compromised an online billing/payment service using VPN access between a third-party service provider and the targeted payment service.[10] |\n",
    "| C0027  | C0027                     | During C0027, Scattered Spider used Citrix and VPNs to persist in compromised environments.[11]                   |\n",
    "| G0114  | Chimera                   | Chimera has used legitimate credentials to login to an external VPN, Citrix, SSH, and other remote services.[12][13] |\n",
    "| C0004  | CostaRicto                | During CostaRicto, the threat actors set up remote tunneling using an SSH tool to maintain access to a compromised environment.[14] |\n",
    "| S0600  | Doki                      | Doki was executed through an open Docker daemon API port.[15]                                                      |\n",
    "| G0035  | Dragonfly                 | Dragonfly has used VPNs and Outlook Web Access (OWA) to maintain access to victim networks.[16][17]                |\n",
    "| G1016  | FIN13                     | FIN13 has gained access to compromised environments via remote access services such as the corporate virtual private network (VPN).[18] |\n",
    "| G0053  | FIN5                      | FIN5 has used legitimate VPN, Citrix, or VNC credentials to maintain access to a victim environment.[19][20][21]  |\n",
    "| G0093  | GALLIUM                   | GALLIUM has used VPN services, including SoftEther VPN, to access and maintain persistence in victim environments.[22][23] |\n",
    "| G0115  | GOLD SOUTHFIELD           | GOLD SOUTHFIELD has used publicly-accessible RDP and remote management and monitoring (RMM) servers to gain access to victim machines.[24] |\n",
    "| S0601  | Hildegard                 | Hildegard was executed through an unsecure kubelet that allowed anonymous access to the victim environment.[4]     |\n",
    "| G0004  | Ke3chang                  | Ke3chang has gained access through VPNs including with compromised accounts and stolen VPN certificates.[25][26]   |\n",
    "| G0094  | Kimsuky                   | Kimsuky has used RDP to establish persistence.[27]                                                                 |\n",
    "| G0105\t  |  DarkVishnya              | DarkVishnya used Bash Bunny, Raspberry Pi, netbooks or inexpensive laptops to connect to the company’s local network.[5] |\n",
    "| C0020\t | Maroochy Water Breach\t | In the Maroochy Water Breach, the adversary utilized a computer, possibly stolen, with proprietary engineering software to communicate with a wastewater system. |\n",
    "| S0599  | Kinsing                   | Kinsing was executed in an Ubuntu container deployed via an open Docker daemon API.[28]                            |\n",
    "| G1004  | LAPSUS$                   | LAPSUS$ has gained access to internet-facing systems and applications, including virtual private network (VPN), remote desktop protocol (RDP), and virtual desktop infrastructure (VDI) including Citrix. [29][30] |\n",
    "| G0065  | Leviathan                 | Leviathan has used external remote services such as virtual private networks (VPN) to gain initial access.[31]      |\n",
    "| S0362  | Linux Rabbit              | Linux Rabbit attempts to gain access to the server via SSH.[32]                                                    |\n",
    "| S1060  | Mafalda                   | Mafalda can establish an SSH connection from a compromised host to a server.[33]                                   |\n",
    "| C0002  | Night Dragon              | During Night Dragon, threat actors used compromised VPN accounts to gain access to victim systems.[34]             |\n",
    "| G0049  | OilRig                    | OilRig uses remote services such as VPN, Citrix, or OWA to persist in an environment.[35]                          |\n",
    "| C0012  | Operation CuckooBees      | During Operation CuckooBees, the threat actors enabled WinRM over HTTP/HTTPS as a backup persistence mechanism using the following command: cscript //nologo \"C:\\\\Windows\\\\System32\\\\winrm.vbs\" set winrm/config/service@{EnableCompatibilityHttpsListener=\"true\"}.[36] |\n",
    "| C0014  | Operation Wocao           | During Operation Wocao, threat actors used stolen credentials to connect to the victim's network via VPN.[37]       |\n",
    "\n",
    "\n",
    "\n",
    "\n",
    "---\n",
    "\n",
    "0. [https://docs.microsoft.com/en-us/azure/active-directory/fundamentals/security-operations-devices#non-compliant-device-sign-in](#)\n",
    "1. [Apple Support. (n.d.). Set up a computer running VNC software for Remote Desktop.](#)\n",
    "2. [Adair, S. (2015, October 7). Virtual Private Keylogging: Cisco Web VPNs Leveraged for Access and Persistence.](#)\n",
    "3. [Remillano II, A., et al. (2020, June 20). XORDDoS, Kaiji Variants Target Exposed Docker Servers.](#)\n",
    "4. [Chen, J. et al. (2021, February 3). Hildegard: New TeamTNT Cryptojacking Malware Targeting Kubernetes.](#)\n",
    "5. [Booz Allen Hamilton When The Lights Went Out. (2019, October 22).](#)\n",
    "6. [Adair, S. (2017, February 17). Detecting and Responding to Advanced Threats within Exchange Environments.](#)\n",
    "7. [NSA, CISA, FBI, NCSC. (2021, July). Russian GRU Conducting Global Brute Force Campaign to Compromise Enterprise and Cloud Environments.](#)\n",
    "8. [National Cyber Security Centre. (2020, July 16). Advisory: APT29 targets COVID-19 vaccine development.](#)\n",
    "9. [Douglas Bienstock. (2022, August 18). You Can’t Audit Me: APT29 Continues Targeting Microsoft 365.](#)\n",
    "10. [Fraser, N., et al. (2019, August 7). Double Dragon APT41, a dual espionage and cyber crime operation.](#)\n",
    "11. [Parisi, T. (2022, December 2). Not a SIMulation: CrowdStrike Investigations Reveal Intrusion Campaign Targeting Telco and BPO Companies.](#)\n",
    "12. [Cycraft. (2020, April 15). APT Group Chimera - APT Operation Skeleton key Targets Taiwan Semiconductor Vendors.](#)\n",
    "13. [Jansen, W. (2021, January 12). Abusing cloud services to fly under the radar.](#)\n",
    "14. [The BlackBerry Research and Intelligence Team. (2020, November 12). The CostaRicto Campaign: Cyber-Espionage Outsourced.](#)\n",
    "15. [Fishbein, N., Kajiloti, M. (2020, July 28). Watch Your Containers: Doki Infecting Docker Servers in the Cloud.](#)\n",
    "16. [US-CERT. (2018, March 16). Alert (TA18-074A): Russian Government Cyber Activity Targeting Energy and Other Critical Infrastructure Sectors.](#)\n",
    "17. [CISA. (2020, December 1). Russian State-Sponsored Advanced Persistent Threat Actor Compromises U.S. Government Targets.](#)\n",
    "18. [Ta, V., et al. (2022, August 8). FIN13: A Cybercriminal Threat Actor Focused on Mexico.](#)\n",
    "19. [Scavella, T. and Rifki, A. (2017, July 20). Are you Ready to Respond? (Webinar).](#)\n",
    "20. [Higgins, K. (2015, October 13). Prolific Cybercrime Gang Favors Legit Login Credentials.](#)\n",
    "21. [Bromiley, M. and Lewis, P. (2016, October 7). Attacking the Hospitality and Gaming Industries: Tracking an Attacker Around the World in 7 Years.](#)\n",
    "22. [Cybereason Nocturnus. (2019, June 25). Operation Soft Cell: A Worldwide Campaign Against Telecommunications Providers.](#)\n",
    "23. [MSTIC. (2019, December 12). GALLIUM: Targeting global telecom.](#)\n",
    "24. [Counter Threat Unit Research Team. (2019, September 24). REvil/Sodinokibi Ransomware.](#)\n",
    "25. [Smallridge, R. (2018, March 10). APT15 is alive and strong: An analysis of RoyalCli and RoyalDNS.](#)\n",
    "26. [MSTIC. (2021, December 6). NICKEL targeting government organizations across Latin America and Europe.](#)\n",
    "27. [CISA, FBI, CNMF. (2020, October 27). Russian Cyber Activity Targeting.](#)\n",
    "28. [Singer, G. (2020, April 3). Threat Alert: Kinsing Malware Attacks Targeting Container Environments.](#)\n",
    "29. [MSTIC, DART, M365 Defender. (2022, March 24). DEV-0537 Criminal Actor Targeting](#)\n",
    "31. [North American Electric Reliability Corporation. (2021, June 28). Glossary of Terms Used in NERC Reliability Standards.](#)\n",
    "32. [Marshall Abrams. (2008, July 23). Malicious Control System Cyber Security Attack Case Study - Maroochy Water Services, Australia.](#)\n",
    "33. [Emerson Exchange. Increase Security with TPM, Secure Boot, and Trusted Boot.](#)\n",
    "34. [National Security Agency. (2016, February). Position Zero: Integrity Checking Windows-Based ICS/SCADA Systems.](#)\n",
    "35. [National Institute of Standards and Technology. (2013, April). Security and Privacy Controls for Federal Information Systems and Organizations.](#)\n",
    "36. [North America Transmission Forum. (2019, December). NATF Transient Cyber Asset Guidance.](#)\n",
    "37. [Michael Ossmann. (2011, February 17). Throwing Star LAN Tap.](#)\n",
    "38. [Nick Aleks. (2015, November 7). Weapons of a Pentester - Understanding the virtual & physical tools used by white/black hat hackers.](#)\n",
    "39. [Ulf Frisk. (2016, August 5). Direct Memory Attack the Kernel.](#)\n",
    "40. [Robert McMillan. (2012, March 3). The Pwn Plug is a little white box that can hack your network.](#)\n",
    "41. [Golovanov, S. (2018, December 6). DarkVishnya: Banks attacked through direct connection to local network.](#)\n",
    "42. [Wikipedia. (2018, March 30). IEEE 802.1X.](#)\n",
    "\n",
    "---"
   ]
  },
  {
   "cell_type": "markdown",
   "id": "f4b441bb",
   "metadata": {},
   "source": [
    "###  Sigma Rule(s) \n"
   ]
  },
  {
   "cell_type": "markdown",
   "id": "bf2ec9af",
   "metadata": {},
   "source": [
    "<details><summary>4f77e1d7-3982-4ee0-8489-abf2d6b75284</summary>\n",
    "<ol>\n",
    "<h1>Raw</h1> {'title': 'Sign-ins from Non-Compliant Devices', 'id': '4f77e1d7-3982-4ee0-8489-abf2d6b75284', 'status': 'test', 'description': 'Monitor and alert for sign-ins where the device was non-compliant.', 'references': ['https://docs.microsoft.com/en-us/azure/active-directory/fundamentals/security-operations-devices#non-compliant-device-sign-in'], 'author': \"Michael Epping, '@mepples21'\", 'date': '2022/06/28', 'tags': ['attack.defense_evasion', 'attack.t1078.004'], 'logsource': {'product': 'azure', 'service': 'signinlogs'}, 'detection': {'selection': {'DeviceDetail.isCompliant': 'false'}, 'condition': 'selection'}, 'falsepositives': ['Unknown'], 'level': 'high'}\n",
    "<h4>Sigma Location(s)</h4>\n",
    "uri://wintermute/tmp/0day.yml\n",
    "<h4>Sigma Confidence</h4>\n",
    "High\n",
    "<h4>Sigma Assurance</h4> Medium\n",
    "<h4>Sigma Queries</h4> \n",
    "{'selection': {'DeviceDetail.isCompliant': 'false'}, 'condition': 'selection'}\n",
    "<h1>Sigma Relatives</h4> Not for public consumption.  \n",
    "<h1>Sigma Tags and Associations</h1> ['attack.defense_evasion', 'attack.t1078.004']\n",
    "<h4>Sigma Authors</h4> Michael Epping, '@mepples21'\n",
    "<h4>Sigma Unique ID</h4> 4f77e1d7-3982-4ee0-8489-abf2d6b75284\n",
    "</ol>\n",
    "</details>"
   ]
  },
  {
   "cell_type": "markdown",
   "id": "05e66814",
   "metadata": {},
   "source": [
    "###  Yara Rule(s) \n"
   ]
  },
  {
   "cell_type": "markdown",
   "id": "f7a0fce9",
   "metadata": {},
   "source": [
    "<details><summary>4f77e1d7-3982-4ee0-8489-abf2d6b75284</summary>\n",
    "<ol>\n",
    "<h4>Raw</h4> N/A.  \n",
    "<h4>Yara Location(s)</h4>\n",
    "N/A.  <h4>Yara Confidence</h4>\n",
    "N/A.  <h4>Yara Assurance</h4> N/A.  \n",
    "<h4>Yara Queries</h4> \n",
    "N/A.  <h4>Yara Authors</h4> N/A.  \n",
    "<h4>Yara Rule's Unique ID</h4> N/A.  \n",
    "</ol>\n",
    "</details>"
   ]
  },
  {
   "cell_type": "markdown",
   "id": "ded5dac0",
   "metadata": {},
   "source": [
    "# Metadata \n"
   ]
  },
  {
   "cell_type": "markdown",
   "id": "ae1f717e",
   "metadata": {},
   "source": [
    "<details><summary>As Code</summary>\n",
    "<ol>\n",
    "<h3>Compliance As Code</h3> PCI, SOC 3, NACHA\n",
    "<h3>Privacy Engineering</h3>\n",
    "GDPR, CCPA, HIPAA\n",
    "<h3>Regulations As Code</h3>\n",
    "HIPAA, SOX, FFIEC, Dodd Frank\n",
    "<h3>Common Controls Framework</h3> NIST CSF\n",
    "</ol>\n",
    "</details>"
   ]
  },
  {
   "cell_type": "markdown",
   "id": "00137e73",
   "metadata": {},
   "source": [
    "# AGI ML Models</ol>\n",
    "</details>"
   ]
  },
  {
   "cell_type": "markdown",
   "id": "3fdcfbf4",
   "metadata": {},
   "source": [
    "## AGI Prompting\n",
    "- ##### GPT-4\n",
    "- ##### Claude-2\n",
    "- ##### Megatron-Turing NLG\n",
    "- ##### WuDao 2.0\n",
    "- ##### Jurassic-1 Jumbo\n",
    "- ##### LaMDA\n",
    "- ##### Flan-T5 XXL\n",
    "- ##### Jukebox\n",
    "- ##### T5-XXL\n",
    "- ##### PaLM\n",
    "- ##### BARD\n",
    "- ##### Cohere\n",
    "\n",
    " #### Prompt: Pretend you are a seasoned incident responder working in a [type of organization, e.g., financial services] firm. Your role entails promptly identifying, analyzing, and mitigating a wide array of cyber threats, from data breaches and network intrusions to malware and insider threats. Utilize your expertise in digital forensics, threat hunting, cybersecurity tools, and knowledge of compliance standards to investigate and manage incidents. You are accustomed to collaborating with other teams, making real-time decisions, and navigating through the incident response lifecycle phases. Your primary goal is to ensure the security, integrity, and regulatory compliance of the organization’s information systems. Respond to inquiries and scenarios as if you are actively engaged in managing and responding to these cybersecurity incidents in real-time."
   ]
  },
  {
   "cell_type": "markdown",
   "id": "38fd25bd",
   "metadata": {},
   "source": [
    "## AGI Configuration(s)\n",
    "\n",
    "- ##### GPT-4\n",
    "- ##### Claude-2\n",
    "- ##### Megatron-Turing NLG\n",
    "- ##### WuDao 2.0\n",
    "- ##### Jurassic-1 Jumbo\n",
    "- ##### LaMDA\n",
    "- ##### Flan-T5 XXL\n",
    "- ##### Jukebox\n",
    "- ##### T5-XXL\n",
    "- ##### PaLM\n",
    "- ##### BARD\n",
    "- ##### Cohere\n",
    "\n",
    "Not available for public consumption.\n",
    "### MISSION \n",
    "Not available for public consumption.\n",
    "### INTERACTION SCHEMA \n",
    "Not available for public consumption.\n",
    "### OUTPUT PRINCIPLES \n",
    "Not available for public consumption.\n",
    "\n",
    "---\n"
   ]
  },
  {
   "cell_type": "markdown",
   "id": "99d7f2a2",
   "metadata": {},
   "source": [
    "</ol>\n",
    "</details>"
   ]
  },
  {
   "cell_type": "markdown",
   "id": "b0bd17bb",
   "metadata": {},
   "source": [
    "#### Document Authors\n",
    " John Menerick"
   ]
  },
  {
   "cell_type": "markdown",
   "id": "34aba1eb",
   "metadata": {},
   "source": [
    "#### Creation Date\n",
    "2023/06/28"
   ]
  },
  {
   "cell_type": "markdown",
   "id": "49b00e97",
   "metadata": {},
   "source": [
    "#### Last Modified Date\n",
    "2023/08/24"
   ]
  },
  {
   "cell_type": "markdown",
   "id": "3f702e60",
   "metadata": {},
   "source": [
    "#### Last Reviewed Date\n",
    "2023/11/30"
   ]
  },
  {
   "cell_type": "markdown",
   "id": "dd05f6bb",
   "metadata": {},
   "source": [
    "#### Document License \n",
    " MIT"
   ]
  }
 ],
 "metadata": {
  "language_info": {
   "name": "python"
  }
 },
 "nbformat": 4,
 "nbformat_minor": 5
}
